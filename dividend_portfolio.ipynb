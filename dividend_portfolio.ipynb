{
 "cells": [
  {
   "cell_type": "code",
   "execution_count": 1,
   "metadata": {},
   "outputs": [],
   "source": [
    "import numpy as np\n",
    "import itertools\n",
    "import pandas as pd\n",
    "import matplotlib.pyplot as plt\n",
    "#import scienceplots\n",
    "plt.rcParams['figure.figsize'] = (10,10)\n",
    "#plt.style.use(['science','grid','notebook'])\n",
    "import plotly.express as px\n",
    "import yfinance as yf\n",
    "import pandas_datareader as pdr\n",
    "import datetime as dt\n",
    "\n",
    "from sklearn.cluster import KMeans, DBSCAN\n",
    "from sklearn.metrics import silhouette_score"
   ]
  },
  {
   "cell_type": "code",
   "execution_count": 2,
   "metadata": {},
   "outputs": [],
   "source": [
    "url = \"https://en.wikipedia.org/wiki/List_of_S%26P_500_companies\"\n",
    "sp500_list = pd.read_html(url)\n",
    "sp500_list = sp500_list[0]\n",
    "sp500_list = sp500_list.drop(columns=['GICS Sub-Industry','Headquarters Location', 'Date added','CIK','Founded'], axis=1)\n",
    "sp500_list.rename(columns={'GICS Sector':'Sector'},inplace=True)"
   ]
  },
  {
   "cell_type": "code",
   "execution_count": 5,
   "metadata": {},
   "outputs": [
    {
     "data": {
      "text/html": [
       "<div>\n",
       "<style scoped>\n",
       "    .dataframe tbody tr th:only-of-type {\n",
       "        vertical-align: middle;\n",
       "    }\n",
       "\n",
       "    .dataframe tbody tr th {\n",
       "        vertical-align: top;\n",
       "    }\n",
       "\n",
       "    .dataframe thead th {\n",
       "        text-align: right;\n",
       "    }\n",
       "</style>\n",
       "<table border=\"1\" class=\"dataframe\">\n",
       "  <thead>\n",
       "    <tr style=\"text-align: right;\">\n",
       "      <th></th>\n",
       "      <th>Symbol</th>\n",
       "      <th>Security</th>\n",
       "      <th>Sector</th>\n",
       "    </tr>\n",
       "  </thead>\n",
       "  <tbody>\n",
       "    <tr>\n",
       "      <th>0</th>\n",
       "      <td>MMM</td>\n",
       "      <td>3M</td>\n",
       "      <td>Industrials</td>\n",
       "    </tr>\n",
       "    <tr>\n",
       "      <th>1</th>\n",
       "      <td>AOS</td>\n",
       "      <td>A. O. Smith</td>\n",
       "      <td>Industrials</td>\n",
       "    </tr>\n",
       "    <tr>\n",
       "      <th>2</th>\n",
       "      <td>ABT</td>\n",
       "      <td>Abbott Laboratories</td>\n",
       "      <td>Health Care</td>\n",
       "    </tr>\n",
       "    <tr>\n",
       "      <th>3</th>\n",
       "      <td>ABBV</td>\n",
       "      <td>AbbVie</td>\n",
       "      <td>Health Care</td>\n",
       "    </tr>\n",
       "    <tr>\n",
       "      <th>4</th>\n",
       "      <td>ACN</td>\n",
       "      <td>Accenture</td>\n",
       "      <td>Information Technology</td>\n",
       "    </tr>\n",
       "    <tr>\n",
       "      <th>...</th>\n",
       "      <td>...</td>\n",
       "      <td>...</td>\n",
       "      <td>...</td>\n",
       "    </tr>\n",
       "    <tr>\n",
       "      <th>498</th>\n",
       "      <td>XYL</td>\n",
       "      <td>Xylem Inc.</td>\n",
       "      <td>Industrials</td>\n",
       "    </tr>\n",
       "    <tr>\n",
       "      <th>499</th>\n",
       "      <td>YUM</td>\n",
       "      <td>Yum! Brands</td>\n",
       "      <td>Consumer Discretionary</td>\n",
       "    </tr>\n",
       "    <tr>\n",
       "      <th>500</th>\n",
       "      <td>ZBRA</td>\n",
       "      <td>Zebra Technologies</td>\n",
       "      <td>Information Technology</td>\n",
       "    </tr>\n",
       "    <tr>\n",
       "      <th>501</th>\n",
       "      <td>ZBH</td>\n",
       "      <td>Zimmer Biomet</td>\n",
       "      <td>Health Care</td>\n",
       "    </tr>\n",
       "    <tr>\n",
       "      <th>502</th>\n",
       "      <td>ZTS</td>\n",
       "      <td>Zoetis</td>\n",
       "      <td>Health Care</td>\n",
       "    </tr>\n",
       "  </tbody>\n",
       "</table>\n",
       "<p>503 rows × 3 columns</p>\n",
       "</div>"
      ],
      "text/plain": [
       "    Symbol             Security                  Sector\n",
       "0      MMM                   3M             Industrials\n",
       "1      AOS          A. O. Smith             Industrials\n",
       "2      ABT  Abbott Laboratories             Health Care\n",
       "3     ABBV               AbbVie             Health Care\n",
       "4      ACN            Accenture  Information Technology\n",
       "..     ...                  ...                     ...\n",
       "498    XYL           Xylem Inc.             Industrials\n",
       "499    YUM          Yum! Brands  Consumer Discretionary\n",
       "500   ZBRA   Zebra Technologies  Information Technology\n",
       "501    ZBH        Zimmer Biomet             Health Care\n",
       "502    ZTS               Zoetis             Health Care\n",
       "\n",
       "[503 rows x 3 columns]"
      ]
     },
     "execution_count": 5,
     "metadata": {},
     "output_type": "execute_result"
    }
   ],
   "source": []
  },
  {
   "cell_type": "code",
   "execution_count": 6,
   "metadata": {},
   "outputs": [],
   "source": [
    "sp500_list = sp500_list.sort_values(by='Symbol', ascending=True)"
   ]
  },
  {
   "cell_type": "code",
   "execution_count": 7,
   "metadata": {},
   "outputs": [
    {
     "data": {
      "text/html": [
       "<div>\n",
       "<style scoped>\n",
       "    .dataframe tbody tr th:only-of-type {\n",
       "        vertical-align: middle;\n",
       "    }\n",
       "\n",
       "    .dataframe tbody tr th {\n",
       "        vertical-align: top;\n",
       "    }\n",
       "\n",
       "    .dataframe thead th {\n",
       "        text-align: right;\n",
       "    }\n",
       "</style>\n",
       "<table border=\"1\" class=\"dataframe\">\n",
       "  <thead>\n",
       "    <tr style=\"text-align: right;\">\n",
       "      <th></th>\n",
       "      <th>Symbol</th>\n",
       "      <th>Security</th>\n",
       "      <th>Sector</th>\n",
       "    </tr>\n",
       "  </thead>\n",
       "  <tbody>\n",
       "    <tr>\n",
       "      <th>9</th>\n",
       "      <td>A</td>\n",
       "      <td>Agilent Technologies</td>\n",
       "      <td>Health Care</td>\n",
       "    </tr>\n",
       "    <tr>\n",
       "      <th>39</th>\n",
       "      <td>AAPL</td>\n",
       "      <td>Apple Inc.</td>\n",
       "      <td>Information Technology</td>\n",
       "    </tr>\n",
       "    <tr>\n",
       "      <th>3</th>\n",
       "      <td>ABBV</td>\n",
       "      <td>AbbVie</td>\n",
       "      <td>Health Care</td>\n",
       "    </tr>\n",
       "    <tr>\n",
       "      <th>11</th>\n",
       "      <td>ABNB</td>\n",
       "      <td>Airbnb</td>\n",
       "      <td>Consumer Discretionary</td>\n",
       "    </tr>\n",
       "    <tr>\n",
       "      <th>2</th>\n",
       "      <td>ABT</td>\n",
       "      <td>Abbott Laboratories</td>\n",
       "      <td>Health Care</td>\n",
       "    </tr>\n",
       "    <tr>\n",
       "      <th>...</th>\n",
       "      <td>...</td>\n",
       "      <td>...</td>\n",
       "      <td>...</td>\n",
       "    </tr>\n",
       "    <tr>\n",
       "      <th>498</th>\n",
       "      <td>XYL</td>\n",
       "      <td>Xylem Inc.</td>\n",
       "      <td>Industrials</td>\n",
       "    </tr>\n",
       "    <tr>\n",
       "      <th>499</th>\n",
       "      <td>YUM</td>\n",
       "      <td>Yum! Brands</td>\n",
       "      <td>Consumer Discretionary</td>\n",
       "    </tr>\n",
       "    <tr>\n",
       "      <th>501</th>\n",
       "      <td>ZBH</td>\n",
       "      <td>Zimmer Biomet</td>\n",
       "      <td>Health Care</td>\n",
       "    </tr>\n",
       "    <tr>\n",
       "      <th>500</th>\n",
       "      <td>ZBRA</td>\n",
       "      <td>Zebra Technologies</td>\n",
       "      <td>Information Technology</td>\n",
       "    </tr>\n",
       "    <tr>\n",
       "      <th>502</th>\n",
       "      <td>ZTS</td>\n",
       "      <td>Zoetis</td>\n",
       "      <td>Health Care</td>\n",
       "    </tr>\n",
       "  </tbody>\n",
       "</table>\n",
       "<p>503 rows × 3 columns</p>\n",
       "</div>"
      ],
      "text/plain": [
       "    Symbol              Security                  Sector\n",
       "9        A  Agilent Technologies             Health Care\n",
       "39    AAPL            Apple Inc.  Information Technology\n",
       "3     ABBV                AbbVie             Health Care\n",
       "11    ABNB                Airbnb  Consumer Discretionary\n",
       "2      ABT   Abbott Laboratories             Health Care\n",
       "..     ...                   ...                     ...\n",
       "498    XYL            Xylem Inc.             Industrials\n",
       "499    YUM           Yum! Brands  Consumer Discretionary\n",
       "501    ZBH         Zimmer Biomet             Health Care\n",
       "500   ZBRA    Zebra Technologies  Information Technology\n",
       "502    ZTS                Zoetis             Health Care\n",
       "\n",
       "[503 rows x 3 columns]"
      ]
     },
     "execution_count": 7,
     "metadata": {},
     "output_type": "execute_result"
    }
   ],
   "source": [
    "sp500_list"
   ]
  },
  {
   "cell_type": "code",
   "execution_count": 8,
   "metadata": {},
   "outputs": [],
   "source": [
    "end = dt.datetime.now()\n",
    "start = end - dt.timedelta(days=252)\n",
    "\n",
    "ticker_list = [i for i in sp500_list['Symbol']]\n",
    "\n",
    "for i in range(len(ticker_list)):\n",
    "    if ticker_list[i] == 'BRK.B':\n",
    "        ticker_list[i] = 'BRK-B'\n",
    "    elif ticker_list[i] == 'BF.B':\n",
    "        ticker_list[i] = 'BF-B'"
   ]
  },
  {
   "cell_type": "code",
   "execution_count": 11,
   "metadata": {},
   "outputs": [
    {
     "name": "stderr",
     "output_type": "stream",
     "text": [
      "[*********************100%%**********************]  503 of 503 completed\n"
     ]
    }
   ],
   "source": [
    "stocks = yf.download(ticker_list, start=start, end=end)['Close']"
   ]
  },
  {
   "cell_type": "code",
   "execution_count": 13,
   "metadata": {},
   "outputs": [
    {
     "data": {
      "text/plain": [
       "(175, 503)"
      ]
     },
     "execution_count": 13,
     "metadata": {},
     "output_type": "execute_result"
    }
   ],
   "source": [
    "stocks.shape"
   ]
  },
  {
   "cell_type": "code",
   "execution_count": 14,
   "metadata": {},
   "outputs": [],
   "source": [
    "log_return = np.log(stocks / stocks.shift(1)).replace(np.nan, 0)\n",
    "\n",
    "annual_return = log_return.mean() * 252\n",
    "annual_volatility = log_return.std() * np.sqrt(252)\n",
    "\n",
    "stock_data = pd.DataFrame()\n",
    "stock_data['Price'] = stocks.tail(1).T\n",
    "stock_data['Symbol'] = list(sp500_list['Symbol'])\n",
    "stock_data['Security'] = list(sp500_list['Security'])\n",
    "stock_data['Sector'] = list(sp500_list['Sector'])\n",
    "stock_data['Return'] = list(round(annual_return, 3))\n",
    "stock_data['Volatility'] = list(round(annual_volatility, 3))\n",
    "stock_data['SharpeRatio'] = list(round((annual_return / annual_volatility), 3))"
   ]
  },
  {
   "cell_type": "code",
   "execution_count": 15,
   "metadata": {},
   "outputs": [
    {
     "data": {
      "text/html": [
       "<div>\n",
       "<style scoped>\n",
       "    .dataframe tbody tr th:only-of-type {\n",
       "        vertical-align: middle;\n",
       "    }\n",
       "\n",
       "    .dataframe tbody tr th {\n",
       "        vertical-align: top;\n",
       "    }\n",
       "\n",
       "    .dataframe thead th {\n",
       "        text-align: right;\n",
       "    }\n",
       "</style>\n",
       "<table border=\"1\" class=\"dataframe\">\n",
       "  <thead>\n",
       "    <tr style=\"text-align: right;\">\n",
       "      <th></th>\n",
       "      <th>Price</th>\n",
       "      <th>Symbol</th>\n",
       "      <th>Security</th>\n",
       "      <th>Sector</th>\n",
       "      <th>Return</th>\n",
       "      <th>Volatility</th>\n",
       "      <th>SharpeRatio</th>\n",
       "    </tr>\n",
       "    <tr>\n",
       "      <th>Ticker</th>\n",
       "      <th></th>\n",
       "      <th></th>\n",
       "      <th></th>\n",
       "      <th></th>\n",
       "      <th></th>\n",
       "      <th></th>\n",
       "      <th></th>\n",
       "    </tr>\n",
       "  </thead>\n",
       "  <tbody>\n",
       "    <tr>\n",
       "      <th>A</th>\n",
       "      <td>130.309998</td>\n",
       "      <td>A</td>\n",
       "      <td>Agilent Technologies</td>\n",
       "      <td>Health Care</td>\n",
       "      <td>-0.019</td>\n",
       "      <td>0.260</td>\n",
       "      <td>-0.073</td>\n",
       "    </tr>\n",
       "    <tr>\n",
       "      <th>AAPL</th>\n",
       "      <td>225.910004</td>\n",
       "      <td>AAPL</td>\n",
       "      <td>Apple Inc.</td>\n",
       "      <td>Information Technology</td>\n",
       "      <td>0.307</td>\n",
       "      <td>0.244</td>\n",
       "      <td>1.258</td>\n",
       "    </tr>\n",
       "    <tr>\n",
       "      <th>ABBV</th>\n",
       "      <td>203.869995</td>\n",
       "      <td>ABBV</td>\n",
       "      <td>AbbVie</td>\n",
       "      <td>Health Care</td>\n",
       "      <td>0.195</td>\n",
       "      <td>0.213</td>\n",
       "      <td>0.915</td>\n",
       "    </tr>\n",
       "    <tr>\n",
       "      <th>ABNB</th>\n",
       "      <td>134.789993</td>\n",
       "      <td>ABNB</td>\n",
       "      <td>Airbnb</td>\n",
       "      <td>Consumer Discretionary</td>\n",
       "      <td>-0.179</td>\n",
       "      <td>0.322</td>\n",
       "      <td>-0.556</td>\n",
       "    </tr>\n",
       "    <tr>\n",
       "      <th>ABT</th>\n",
       "      <td>113.370003</td>\n",
       "      <td>ABT</td>\n",
       "      <td>Abbott Laboratories</td>\n",
       "      <td>Health Care</td>\n",
       "      <td>-0.075</td>\n",
       "      <td>0.184</td>\n",
       "      <td>-0.408</td>\n",
       "    </tr>\n",
       "    <tr>\n",
       "      <th>...</th>\n",
       "      <td>...</td>\n",
       "      <td>...</td>\n",
       "      <td>...</td>\n",
       "      <td>...</td>\n",
       "      <td>...</td>\n",
       "      <td>...</td>\n",
       "      <td>...</td>\n",
       "    </tr>\n",
       "    <tr>\n",
       "      <th>XYL</th>\n",
       "      <td>121.779999</td>\n",
       "      <td>XYL</td>\n",
       "      <td>Xylem Inc.</td>\n",
       "      <td>Industrials</td>\n",
       "      <td>-0.045</td>\n",
       "      <td>0.215</td>\n",
       "      <td>-0.208</td>\n",
       "    </tr>\n",
       "    <tr>\n",
       "      <th>YUM</th>\n",
       "      <td>131.160004</td>\n",
       "      <td>YUM</td>\n",
       "      <td>Yum! Brands</td>\n",
       "      <td>Consumer Discretionary</td>\n",
       "      <td>-0.077</td>\n",
       "      <td>0.162</td>\n",
       "      <td>-0.473</td>\n",
       "    </tr>\n",
       "    <tr>\n",
       "      <th>ZBH</th>\n",
       "      <td>106.919998</td>\n",
       "      <td>ZBH</td>\n",
       "      <td>Zimmer Biomet</td>\n",
       "      <td>Health Care</td>\n",
       "      <td>-0.272</td>\n",
       "      <td>0.224</td>\n",
       "      <td>-1.218</td>\n",
       "    </tr>\n",
       "    <tr>\n",
       "      <th>ZBRA</th>\n",
       "      <td>381.970001</td>\n",
       "      <td>ZBRA</td>\n",
       "      <td>Zebra Technologies</td>\n",
       "      <td>Information Technology</td>\n",
       "      <td>0.473</td>\n",
       "      <td>0.271</td>\n",
       "      <td>1.749</td>\n",
       "    </tr>\n",
       "    <tr>\n",
       "      <th>ZTS</th>\n",
       "      <td>178.779999</td>\n",
       "      <td>ZTS</td>\n",
       "      <td>Zoetis</td>\n",
       "      <td>Health Care</td>\n",
       "      <td>-0.141</td>\n",
       "      <td>0.249</td>\n",
       "      <td>-0.568</td>\n",
       "    </tr>\n",
       "  </tbody>\n",
       "</table>\n",
       "<p>503 rows × 7 columns</p>\n",
       "</div>"
      ],
      "text/plain": [
       "             Price Symbol              Security                  Sector  \\\n",
       "Ticker                                                                    \n",
       "A       130.309998      A  Agilent Technologies             Health Care   \n",
       "AAPL    225.910004   AAPL            Apple Inc.  Information Technology   \n",
       "ABBV    203.869995   ABBV                AbbVie             Health Care   \n",
       "ABNB    134.789993   ABNB                Airbnb  Consumer Discretionary   \n",
       "ABT     113.370003    ABT   Abbott Laboratories             Health Care   \n",
       "...            ...    ...                   ...                     ...   \n",
       "XYL     121.779999    XYL            Xylem Inc.             Industrials   \n",
       "YUM     131.160004    YUM           Yum! Brands  Consumer Discretionary   \n",
       "ZBH     106.919998    ZBH         Zimmer Biomet             Health Care   \n",
       "ZBRA    381.970001   ZBRA    Zebra Technologies  Information Technology   \n",
       "ZTS     178.779999    ZTS                Zoetis             Health Care   \n",
       "\n",
       "        Return  Volatility  SharpeRatio  \n",
       "Ticker                                   \n",
       "A       -0.019       0.260       -0.073  \n",
       "AAPL     0.307       0.244        1.258  \n",
       "ABBV     0.195       0.213        0.915  \n",
       "ABNB    -0.179       0.322       -0.556  \n",
       "ABT     -0.075       0.184       -0.408  \n",
       "...        ...         ...          ...  \n",
       "XYL     -0.045       0.215       -0.208  \n",
       "YUM     -0.077       0.162       -0.473  \n",
       "ZBH     -0.272       0.224       -1.218  \n",
       "ZBRA     0.473       0.271        1.749  \n",
       "ZTS     -0.141       0.249       -0.568  \n",
       "\n",
       "[503 rows x 7 columns]"
      ]
     },
     "execution_count": 15,
     "metadata": {},
     "output_type": "execute_result"
    }
   ],
   "source": [
    "stock_data"
   ]
  },
  {
   "cell_type": "code",
   "execution_count": 16,
   "metadata": {},
   "outputs": [
    {
     "data": {
      "application/vnd.plotly.v1+json": {
       "config": {
        "plotlyServerURL": "https://plot.ly"
       },
       "data": [
        {
         "customdata": [
          [
           "Health Care",
           "Agilent Technologies"
          ],
          [
           "Health Care",
           "AbbVie"
          ],
          [
           "Health Care",
           "Abbott Laboratories"
          ],
          [
           "Health Care",
           "Align Technology"
          ],
          [
           "Health Care",
           "Amgen"
          ],
          [
           "Health Care",
           "Baxter International"
          ],
          [
           "Health Care",
           "Becton Dickinson"
          ],
          [
           "Health Care",
           "Biogen"
          ],
          [
           "Health Care",
           "Bristol Myers Squibb"
          ],
          [
           "Health Care",
           "Boston Scientific"
          ],
          [
           "Health Care",
           "Cardinal Health"
          ],
          [
           "Health Care",
           "Cigna"
          ],
          [
           "Health Care",
           "Centene Corporation"
          ],
          [
           "Health Care",
           "Cooper Companies (The)"
          ],
          [
           "Health Care",
           "Cencora"
          ],
          [
           "Health Care",
           "Charles River Laboratories"
          ],
          [
           "Health Care",
           "Catalent"
          ],
          [
           "Health Care",
           "CVS Health"
          ],
          [
           "Health Care",
           "Quest Diagnostics"
          ],
          [
           "Health Care",
           "Danaher Corporation"
          ],
          [
           "Health Care",
           "DaVita"
          ],
          [
           "Health Care",
           "Dexcom"
          ],
          [
           "Health Care",
           "Elevance Health"
          ],
          [
           "Health Care",
           "Edwards Lifesciences"
          ],
          [
           "Health Care",
           "GE HealthCare"
          ],
          [
           "Health Care",
           "Gilead Sciences"
          ],
          [
           "Health Care",
           "HCA Healthcare"
          ],
          [
           "Health Care",
           "Hologic"
          ],
          [
           "Health Care",
           "Henry Schein"
          ],
          [
           "Health Care",
           "Humana"
          ],
          [
           "Health Care",
           "Idexx Laboratories"
          ],
          [
           "Health Care",
           "Incyte"
          ],
          [
           "Health Care",
           "IQVIA"
          ],
          [
           "Health Care",
           "Intuitive Surgical"
          ],
          [
           "Health Care",
           "Johnson & Johnson"
          ],
          [
           "Health Care",
           "LabCorp"
          ],
          [
           "Health Care",
           "Lilly (Eli)"
          ],
          [
           "Health Care",
           "McKesson Corporation"
          ],
          [
           "Health Care",
           "Medtronic"
          ],
          [
           "Health Care",
           "Molina Healthcare"
          ],
          [
           "Health Care",
           "Merck & Co."
          ],
          [
           "Health Care",
           "Moderna"
          ],
          [
           "Health Care",
           "Mettler Toledo"
          ],
          [
           "Health Care",
           "Pfizer"
          ],
          [
           "Health Care",
           "Insulet Corporation"
          ],
          [
           "Health Care",
           "Regeneron Pharmaceuticals"
          ],
          [
           "Health Care",
           "ResMed"
          ],
          [
           "Health Care",
           "Revvity"
          ],
          [
           "Health Care",
           "Solventum"
          ],
          [
           "Health Care",
           "Steris"
          ],
          [
           "Health Care",
           "Stryker Corporation"
          ],
          [
           "Health Care",
           "Bio-Techne"
          ],
          [
           "Health Care",
           "Teleflex"
          ],
          [
           "Health Care",
           "Thermo Fisher Scientific"
          ],
          [
           "Health Care",
           "Universal Health Services"
          ],
          [
           "Health Care",
           "UnitedHealth Group"
          ],
          [
           "Health Care",
           "Vertex Pharmaceuticals"
          ],
          [
           "Health Care",
           "Viatris"
          ],
          [
           "Health Care",
           "Waters Corporation"
          ],
          [
           "Health Care",
           "West Pharmaceutical Services"
          ],
          [
           "Health Care",
           "Zimmer Biomet"
          ],
          [
           "Health Care",
           "Zoetis"
          ]
         ],
         "hovertemplate": "<b>%{hovertext}</b><br><br>Sector=%{customdata[0]}<br>Volatility=%{x}<br>Return=%{y}<br>Security=%{customdata[1]}<extra></extra>",
         "hovertext": [
          "A",
          "ABBV",
          "ABT",
          "ALGN",
          "AMGN",
          "BAX",
          "BDX",
          "BIIB",
          "BMY",
          "BSX",
          "CAH",
          "CI",
          "CNC",
          "COO",
          "COR",
          "CRL",
          "CTLT",
          "CVS",
          "DGX",
          "DHR",
          "DVA",
          "DXCM",
          "ELV",
          "EW",
          "GEHC",
          "GILD",
          "HCA",
          "HOLX",
          "HSIC",
          "HUM",
          "IDXX",
          "INCY",
          "IQV",
          "ISRG",
          "JNJ",
          "LH",
          "LLY",
          "MCK",
          "MDT",
          "MOH",
          "MRK",
          "MRNA",
          "MTD",
          "PFE",
          "PODD",
          "REGN",
          "RMD",
          "RVTY",
          "SOLV",
          "STE",
          "SYK",
          "TECH",
          "TFX",
          "TMO",
          "UHS",
          "UNH",
          "VRTX",
          "VTRS",
          "WAT",
          "WST",
          "ZBH",
          "ZTS"
         ],
         "legendgroup": "Health Care",
         "marker": {
          "color": "#636efa",
          "symbol": "circle"
         },
         "mode": "markers",
         "name": "Health Care",
         "orientation": "v",
         "showlegend": true,
         "type": "scatter",
         "x": [
          0.26,
          0.213,
          0.184,
          0.365,
          0.246,
          0.273,
          0.174,
          0.259,
          0.285,
          0.169,
          0.199,
          0.201,
          0.321,
          0.256,
          0.169,
          0.328,
          0.088,
          0.352,
          0.206,
          0.224,
          0.293,
          0.734,
          0.255,
          0.518,
          0.283,
          0.213,
          0.254,
          0.161,
          0.246,
          0.393,
          0.265,
          0.281,
          0.271,
          0.265,
          0.16,
          0.228,
          0.3,
          0.253,
          0.182,
          0.409,
          0.221,
          0.591,
          0.322,
          0.228,
          0.383,
          0.223,
          0.397,
          0.266,
          0.31,
          0.21,
          0.18,
          0.371,
          0.31,
          0.192,
          0.306,
          0.256,
          0.192,
          0.262,
          0.278,
          0.38,
          0.224,
          0.249
         ],
         "xaxis": "x",
         "y": [
          -0.019,
          0.195,
          -0.075,
          -0.627,
          0.147,
          -0.253,
          -0.076,
          -0.359,
          0.11,
          0.326,
          0.006,
          -0.129,
          -0.365,
          0.113,
          -0.057,
          -0.471,
          -0.004,
          -0.451,
          0.284,
          -0.047,
          0.158,
          -0.721,
          -0.341,
          -0.388,
          -0.028,
          0.272,
          0.186,
          0.087,
          -0.185,
          -0.492,
          -0.501,
          0.29,
          -0.264,
          0.37,
          -0.018,
          0.059,
          0.108,
          -0.044,
          0.059,
          -0.34,
          -0.339,
          -0.826,
          0.094,
          0.028,
          0.329,
          -0.227,
          0.397,
          0.183,
          0.071,
          -0.088,
          0.005,
          0.042,
          -0.241,
          -0.048,
          0.314,
          0.098,
          0.146,
          -0.222,
          -0.036,
          -0.254,
          -0.272,
          -0.141
         ],
         "yaxis": "y"
        },
        {
         "customdata": [
          [
           "Information Technology",
           "Apple Inc."
          ],
          [
           "Information Technology",
           "Accenture"
          ],
          [
           "Information Technology",
           "Adobe Inc."
          ],
          [
           "Information Technology",
           "Analog Devices"
          ],
          [
           "Information Technology",
           "Autodesk"
          ],
          [
           "Information Technology",
           "Akamai Technologies"
          ],
          [
           "Information Technology",
           "Applied Materials"
          ],
          [
           "Information Technology",
           "Advanced Micro Devices"
          ],
          [
           "Information Technology",
           "Arista Networks"
          ],
          [
           "Information Technology",
           "Ansys"
          ],
          [
           "Information Technology",
           "Amphenol"
          ],
          [
           "Information Technology",
           "Broadcom"
          ],
          [
           "Information Technology",
           "Cadence Design Systems"
          ],
          [
           "Information Technology",
           "CDW"
          ],
          [
           "Information Technology",
           "Salesforce"
          ],
          [
           "Information Technology",
           "CrowdStrike"
          ],
          [
           "Information Technology",
           "Cisco"
          ],
          [
           "Information Technology",
           "Cognizant"
          ],
          [
           "Information Technology",
           "Dell Technologies"
          ],
          [
           "Information Technology",
           "Enphase Energy"
          ],
          [
           "Information Technology",
           "EPAM Systems"
          ],
          [
           "Information Technology",
           "F5, Inc."
          ],
          [
           "Information Technology",
           "Fair Isaac"
          ],
          [
           "Information Technology",
           "First Solar"
          ],
          [
           "Information Technology",
           "Fortinet"
          ],
          [
           "Information Technology",
           "GoDaddy"
          ],
          [
           "Information Technology",
           "Gen Digital"
          ],
          [
           "Information Technology",
           "Corning Inc."
          ],
          [
           "Information Technology",
           "Hewlett Packard Enterprise"
          ],
          [
           "Information Technology",
           "HP Inc."
          ],
          [
           "Information Technology",
           "IBM"
          ],
          [
           "Information Technology",
           "Intel"
          ],
          [
           "Information Technology",
           "Intuit"
          ],
          [
           "Information Technology",
           "Gartner"
          ],
          [
           "Information Technology",
           "Jabil"
          ],
          [
           "Information Technology",
           "Juniper Networks"
          ],
          [
           "Information Technology",
           "Keysight Technologies"
          ],
          [
           "Information Technology",
           "KLA Corporation"
          ],
          [
           "Information Technology",
           "Lam Research"
          ],
          [
           "Information Technology",
           "Microchip Technology"
          ],
          [
           "Information Technology",
           "Monolithic Power Systems"
          ],
          [
           "Information Technology",
           "Microsoft"
          ],
          [
           "Information Technology",
           "Motorola Solutions"
          ],
          [
           "Information Technology",
           "Micron Technology"
          ],
          [
           "Information Technology",
           "ServiceNow"
          ],
          [
           "Information Technology",
           "NetApp"
          ],
          [
           "Information Technology",
           "Nvidia"
          ],
          [
           "Information Technology",
           "NXP Semiconductors"
          ],
          [
           "Information Technology",
           "ON Semiconductor"
          ],
          [
           "Information Technology",
           "Oracle Corporation"
          ],
          [
           "Information Technology",
           "Palo Alto Networks"
          ],
          [
           "Information Technology",
           "Palantir Technologies"
          ],
          [
           "Information Technology",
           "PTC Inc."
          ],
          [
           "Information Technology",
           "Qualcomm"
          ],
          [
           "Information Technology",
           "Qorvo"
          ],
          [
           "Information Technology",
           "Roper Technologies"
          ],
          [
           "Information Technology",
           "Supermicro"
          ],
          [
           "Information Technology",
           "Synopsys"
          ],
          [
           "Information Technology",
           "Seagate Technology"
          ],
          [
           "Information Technology",
           "Skyworks Solutions"
          ],
          [
           "Information Technology",
           "Teledyne Technologies"
          ],
          [
           "Information Technology",
           "TE Connectivity"
          ],
          [
           "Information Technology",
           "Teradyne"
          ],
          [
           "Information Technology",
           "Trimble Inc."
          ],
          [
           "Information Technology",
           "Texas Instruments"
          ],
          [
           "Information Technology",
           "Tyler Technologies"
          ],
          [
           "Information Technology",
           "Verisign"
          ],
          [
           "Information Technology",
           "Western Digital"
          ],
          [
           "Information Technology",
           "Zebra Technologies"
          ]
         ],
         "hovertemplate": "<b>%{hovertext}</b><br><br>Sector=%{customdata[0]}<br>Volatility=%{x}<br>Return=%{y}<br>Security=%{customdata[1]}<extra></extra>",
         "hovertext": [
          "AAPL",
          "ACN",
          "ADBE",
          "ADI",
          "ADSK",
          "AKAM",
          "AMAT",
          "AMD",
          "ANET",
          "ANSS",
          "APH",
          "AVGO",
          "CDNS",
          "CDW",
          "CRM",
          "CRWD",
          "CSCO",
          "CTSH",
          "DELL",
          "ENPH",
          "EPAM",
          "FFIV",
          "FICO",
          "FSLR",
          "FTNT",
          "GDDY",
          "GEN",
          "GLW",
          "HPE",
          "HPQ",
          "IBM",
          "INTC",
          "INTU",
          "IT",
          "JBL",
          "JNPR",
          "KEYS",
          "KLAC",
          "LRCX",
          "MCHP",
          "MPWR",
          "MSFT",
          "MSI",
          "MU",
          "NOW",
          "NTAP",
          "NVDA",
          "NXPI",
          "ON",
          "ORCL",
          "PANW",
          "PLTR",
          "PTC",
          "QCOM",
          "QRVO",
          "ROP",
          "SMCI",
          "SNPS",
          "STX",
          "SWKS",
          "TDY",
          "TEL",
          "TER",
          "TRMB",
          "TXN",
          "TYL",
          "VRSN",
          "WDC",
          "ZBRA"
         ],
         "legendgroup": "Information Technology",
         "marker": {
          "color": "#EF553B",
          "symbol": "circle"
         },
         "mode": "markers",
         "name": "Information Technology",
         "orientation": "v",
         "showlegend": true,
         "type": "scatter",
         "x": [
          0.244,
          0.253,
          0.356,
          0.339,
          0.268,
          0.263,
          0.436,
          0.49,
          0.413,
          0.204,
          0.284,
          0.499,
          0.358,
          0.295,
          0.384,
          0.484,
          0.188,
          0.193,
          0.635,
          0.597,
          0.473,
          0.284,
          0.301,
          0.54,
          0.373,
          0.23,
          0.29,
          0.279,
          0.375,
          0.317,
          0.218,
          0.566,
          0.275,
          0.229,
          0.417,
          0.083,
          0.307,
          0.477,
          0.455,
          0.389,
          0.542,
          0.204,
          0.155,
          0.522,
          0.365,
          0.325,
          0.548,
          0.378,
          0.486,
          0.33,
          0.326,
          0.499,
          0.214,
          0.415,
          0.549,
          0.178,
          0.999,
          0.348,
          0.324,
          0.404,
          0.23,
          0.199,
          0.484,
          0.234,
          0.281,
          0.237,
          0.175,
          0.393,
          0.271
         ],
         "xaxis": "x",
         "y": [
          0.307,
          -0.13,
          -0.211,
          0.23,
          0.142,
          -0.098,
          -0.119,
          -0.293,
          0.529,
          -0.089,
          0.318,
          0.388,
          -0.136,
          -0.392,
          -0.007,
          -0.069,
          0.164,
          -0.098,
          0.452,
          -0.508,
          -0.677,
          0.331,
          0.635,
          0.444,
          0.217,
          0.537,
          0.394,
          0.541,
          0.367,
          0.279,
          0.154,
          -0.996,
          -0.112,
          0.125,
          -0.18,
          0.065,
          -0.009,
          -0.006,
          -0.32,
          -0.175,
          0.074,
          -0.014,
          0.443,
          0.212,
          0.275,
          0.399,
          0.751,
          -0.026,
          -0.112,
          0.583,
          0.353,
          0.854,
          0.035,
          0.071,
          -0.661,
          -0.05,
          -1.56,
          -0.164,
          0.19,
          -0.245,
          0.073,
          0.043,
          0.085,
          -0.023,
          0.311,
          0.468,
          -0.152,
          0.22,
          0.473
         ],
         "yaxis": "y"
        },
        {
         "customdata": [
          [
           "Consumer Discretionary",
           "Airbnb"
          ],
          [
           "Consumer Discretionary",
           "Amazon"
          ],
          [
           "Consumer Discretionary",
           "Aptiv"
          ],
          [
           "Consumer Discretionary",
           "AutoZone"
          ],
          [
           "Consumer Discretionary",
           "Best Buy"
          ],
          [
           "Consumer Discretionary",
           "Booking Holdings"
          ],
          [
           "Consumer Discretionary",
           "BorgWarner"
          ],
          [
           "Consumer Discretionary",
           "Carnival"
          ],
          [
           "Consumer Discretionary",
           "Chipotle Mexican Grill"
          ],
          [
           "Consumer Discretionary",
           "Caesars Entertainment"
          ],
          [
           "Consumer Discretionary",
           "Deckers Brands"
          ],
          [
           "Consumer Discretionary",
           "D. R. Horton"
          ],
          [
           "Consumer Discretionary",
           "Domino's"
          ],
          [
           "Consumer Discretionary",
           "Darden Restaurants"
          ],
          [
           "Consumer Discretionary",
           "eBay"
          ],
          [
           "Consumer Discretionary",
           "Expedia Group"
          ],
          [
           "Consumer Discretionary",
           "Ford Motor Company"
          ],
          [
           "Consumer Discretionary",
           "General Motors"
          ],
          [
           "Consumer Discretionary",
           "Genuine Parts Company"
          ],
          [
           "Consumer Discretionary",
           "Garmin"
          ],
          [
           "Consumer Discretionary",
           "Hasbro"
          ],
          [
           "Consumer Discretionary",
           "Home Depot (The)"
          ],
          [
           "Consumer Discretionary",
           "Hilton Worldwide"
          ],
          [
           "Consumer Discretionary",
           "CarMax"
          ],
          [
           "Consumer Discretionary",
           "Lennar"
          ],
          [
           "Consumer Discretionary",
           "LKQ Corporation"
          ],
          [
           "Consumer Discretionary",
           "Lowe's"
          ],
          [
           "Consumer Discretionary",
           "Lululemon Athletica"
          ],
          [
           "Consumer Discretionary",
           "Las Vegas Sands"
          ],
          [
           "Consumer Discretionary",
           "Marriott International"
          ],
          [
           "Consumer Discretionary",
           "McDonald's"
          ],
          [
           "Consumer Discretionary",
           "MGM Resorts"
          ],
          [
           "Consumer Discretionary",
           "Mohawk Industries"
          ],
          [
           "Consumer Discretionary",
           "Norwegian Cruise Line Holdings"
          ],
          [
           "Consumer Discretionary",
           "Nike, Inc."
          ],
          [
           "Consumer Discretionary",
           "NVR, Inc."
          ],
          [
           "Consumer Discretionary",
           "O'Reilly Auto Parts"
          ],
          [
           "Consumer Discretionary",
           "PulteGroup"
          ],
          [
           "Consumer Discretionary",
           "Pool Corporation"
          ],
          [
           "Consumer Discretionary",
           "Royal Caribbean Group"
          ],
          [
           "Consumer Discretionary",
           "Ralph Lauren Corporation"
          ],
          [
           "Consumer Discretionary",
           "Ross Stores"
          ],
          [
           "Consumer Discretionary",
           "Starbucks"
          ],
          [
           "Consumer Discretionary",
           "TJX Companies"
          ],
          [
           "Consumer Discretionary",
           "Tapestry, Inc."
          ],
          [
           "Consumer Discretionary",
           "Tractor Supply"
          ],
          [
           "Consumer Discretionary",
           "Tesla, Inc."
          ],
          [
           "Consumer Discretionary",
           "Ulta Beauty"
          ],
          [
           "Consumer Discretionary",
           "Wynn Resorts"
          ],
          [
           "Consumer Discretionary",
           "Yum! Brands"
          ]
         ],
         "hovertemplate": "<b>%{hovertext}</b><br><br>Sector=%{customdata[0]}<br>Volatility=%{x}<br>Return=%{y}<br>Security=%{customdata[1]}<extra></extra>",
         "hovertext": [
          "ABNB",
          "AMZN",
          "APTV",
          "AZO",
          "BBY",
          "BKNG",
          "BWA",
          "CCL",
          "CMG",
          "CZR",
          "DECK",
          "DHI",
          "DPZ",
          "DRI",
          "EBAY",
          "EXPE",
          "F",
          "GM",
          "GPC",
          "GRMN",
          "HAS",
          "HD",
          "HLT",
          "KMX",
          "LEN",
          "LKQ",
          "LOW",
          "LULU",
          "LVS",
          "MAR",
          "MCD",
          "MGM",
          "MHK",
          "NCLH",
          "NKE",
          "NVR",
          "ORLY",
          "PHM",
          "POOL",
          "RCL",
          "RL",
          "ROST",
          "SBUX",
          "TJX",
          "TPR",
          "TSCO",
          "TSLA",
          "ULTA",
          "WYNN",
          "YUM"
         ],
         "legendgroup": "Consumer Discretionary",
         "marker": {
          "color": "#00cc96",
          "symbol": "circle"
         },
         "mode": "markers",
         "name": "Consumer Discretionary",
         "orientation": "v",
         "showlegend": true,
         "type": "scatter",
         "x": [
          0.322,
          0.264,
          0.422,
          0.203,
          0.333,
          0.246,
          0.293,
          0.433,
          0.306,
          0.454,
          0.391,
          0.336,
          0.304,
          0.235,
          0.25,
          0.358,
          0.395,
          0.307,
          0.374,
          0.356,
          0.286,
          0.204,
          0.189,
          0.328,
          0.312,
          0.326,
          0.217,
          0.384,
          0.298,
          0.202,
          0.188,
          0.365,
          0.42,
          0.532,
          0.373,
          0.224,
          0.183,
          0.316,
          0.305,
          0.335,
          0.285,
          0.216,
          0.412,
          0.178,
          0.32,
          0.25,
          0.622,
          0.353,
          0.29,
          0.162
         ],
         "xaxis": "x",
         "y": [
          -0.179,
          0.091,
          -0.442,
          0.126,
          0.245,
          0.415,
          0.145,
          0.53,
          0.075,
          -0.056,
          0.132,
          0.21,
          -0.068,
          -0.083,
          0.385,
          0.197,
          -0.238,
          0.356,
          -0.366,
          0.549,
          0.404,
          0.082,
          0.199,
          -0.019,
          0.135,
          -0.503,
          0.171,
          -0.619,
          -0.078,
          0.048,
          -0.028,
          -0.207,
          0.224,
          0.647,
          -0.453,
          0.271,
          0.124,
          0.292,
          -0.1,
          0.758,
          0.071,
          -0.083,
          0.031,
          0.185,
          -0.033,
          0.127,
          0.379,
          -0.574,
          -0.117,
          -0.077
         ],
         "yaxis": "y"
        },
        {
         "customdata": [
          [
           "Financials",
           "Arch Capital Group"
          ],
          [
           "Financials",
           "Aflac"
          ],
          [
           "Financials",
           "American International Group"
          ],
          [
           "Financials",
           "Assurant"
          ],
          [
           "Financials",
           "Arthur J. Gallagher & Co."
          ],
          [
           "Financials",
           "Allstate"
          ],
          [
           "Financials",
           "Ameriprise Financial"
          ],
          [
           "Financials",
           "Aon"
          ],
          [
           "Financials",
           "American Express"
          ],
          [
           "Financials",
           "Bank of America"
          ],
          [
           "Financials",
           "Franklin Resources"
          ],
          [
           "Financials",
           "BNY Mellon"
          ],
          [
           "Financials",
           "BlackRock"
          ],
          [
           "Financials",
           "Berkshire Hathaway"
          ],
          [
           "Financials",
           "Brown & Brown"
          ],
          [
           "Financials",
           "Blackstone Inc."
          ],
          [
           "Financials",
           "Citigroup"
          ],
          [
           "Financials",
           "Chubb Limited"
          ],
          [
           "Financials",
           "Cboe Global Markets"
          ],
          [
           "Financials",
           "Citizens Financial Group"
          ],
          [
           "Financials",
           "Cincinnati Financial"
          ],
          [
           "Financials",
           "CME Group"
          ],
          [
           "Financials",
           "Capital One"
          ],
          [
           "Financials",
           "Corpay"
          ],
          [
           "Financials",
           "Discover Financial"
          ],
          [
           "Financials",
           "Everest Group"
          ],
          [
           "Financials",
           "Erie Indemnity"
          ],
          [
           "Financials",
           "FactSet"
          ],
          [
           "Financials",
           "Fiserv"
          ],
          [
           "Financials",
           "Fidelity National Information Services"
          ],
          [
           "Financials",
           "Fifth Third Bancorp"
          ],
          [
           "Financials",
           "Globe Life"
          ],
          [
           "Financials",
           "Global Payments"
          ],
          [
           "Financials",
           "Goldman Sachs"
          ],
          [
           "Financials",
           "Huntington Bancshares"
          ],
          [
           "Financials",
           "Hartford (The)"
          ],
          [
           "Financials",
           "Intercontinental Exchange"
          ],
          [
           "Financials",
           "Invesco"
          ],
          [
           "Financials",
           "Jack Henry & Associates"
          ],
          [
           "Financials",
           "JPMorgan Chase"
          ],
          [
           "Financials",
           "KeyCorp"
          ],
          [
           "Financials",
           "KKR"
          ],
          [
           "Financials",
           "Loews Corporation"
          ],
          [
           "Financials",
           "Mastercard"
          ],
          [
           "Financials",
           "Moody's Corporation"
          ],
          [
           "Financials",
           "MetLife"
          ],
          [
           "Financials",
           "MarketAxess"
          ],
          [
           "Financials",
           "Marsh McLennan"
          ],
          [
           "Financials",
           "Morgan Stanley"
          ],
          [
           "Financials",
           "MSCI"
          ],
          [
           "Financials",
           "M&T Bank"
          ],
          [
           "Financials",
           "Nasdaq, Inc."
          ],
          [
           "Financials",
           "Northern Trust"
          ],
          [
           "Financials",
           "Principal Financial Group"
          ],
          [
           "Financials",
           "Progressive Corporation"
          ],
          [
           "Financials",
           "PNC Financial Services"
          ],
          [
           "Financials",
           "Prudential Financial"
          ],
          [
           "Financials",
           "PayPal"
          ],
          [
           "Financials",
           "Regions Financial Corporation"
          ],
          [
           "Financials",
           "Raymond James Financial"
          ],
          [
           "Financials",
           "Charles Schwab Corporation"
          ],
          [
           "Financials",
           "S&P Global"
          ],
          [
           "Financials",
           "State Street Corporation"
          ],
          [
           "Financials",
           "Synchrony Financial"
          ],
          [
           "Financials",
           "Truist Financial"
          ],
          [
           "Financials",
           "T. Rowe Price"
          ],
          [
           "Financials",
           "Travelers Companies (The)"
          ],
          [
           "Financials",
           "U.S. Bancorp"
          ],
          [
           "Financials",
           "Visa Inc."
          ],
          [
           "Financials",
           "Wells Fargo"
          ],
          [
           "Financials",
           "W. R. Berkley Corporation"
          ],
          [
           "Financials",
           "Willis Towers Watson"
          ]
         ],
         "hovertemplate": "<b>%{hovertext}</b><br><br>Sector=%{customdata[0]}<br>Volatility=%{x}<br>Return=%{y}<br>Security=%{customdata[1]}<extra></extra>",
         "hovertext": [
          "ACGL",
          "AFL",
          "AIG",
          "AIZ",
          "AJG",
          "ALL",
          "AMP",
          "AON",
          "AXP",
          "BAC",
          "BEN",
          "BK",
          "BLK",
          "BRK.B",
          "BRO",
          "BX",
          "C",
          "CB",
          "CBOE",
          "CFG",
          "CINF",
          "CME",
          "COF",
          "CPAY",
          "DFS",
          "EG",
          "ERIE",
          "FDS",
          "FI",
          "FIS",
          "FITB",
          "GL",
          "GPN",
          "GS",
          "HBAN",
          "HIG",
          "ICE",
          "IVZ",
          "JKHY",
          "JPM",
          "KEY",
          "KKR",
          "L",
          "MA",
          "MCO",
          "MET",
          "MKTX",
          "MMC",
          "MS",
          "MSCI",
          "MTB",
          "NDAQ",
          "NTRS",
          "PFG",
          "PGR",
          "PNC",
          "PRU",
          "PYPL",
          "RF",
          "RJF",
          "SCHW",
          "SPGI",
          "STT",
          "SYF",
          "TFC",
          "TROW",
          "TRV",
          "USB",
          "V",
          "WFC",
          "WRB",
          "WTW"
         ],
         "legendgroup": "Financials",
         "marker": {
          "color": "#ab63fa",
          "symbol": "circle"
         },
         "mode": "markers",
         "name": "Financials",
         "orientation": "v",
         "showlegend": true,
         "type": "scatter",
         "x": [
          0.228,
          0.181,
          0.215,
          0.186,
          0.171,
          0.215,
          0.192,
          0.2,
          0.233,
          0.22,
          0.297,
          0.178,
          0.183,
          0.137,
          0.168,
          0.285,
          0.267,
          0.188,
          0.207,
          0.268,
          0.214,
          0.158,
          0.272,
          0.239,
          0.289,
          0.252,
          0.278,
          0.222,
          0.171,
          0.204,
          0.234,
          1.002,
          0.303,
          0.232,
          0.247,
          0.212,
          0.158,
          0.282,
          0.179,
          0.221,
          0.308,
          0.316,
          0.161,
          0.156,
          0.184,
          0.204,
          0.303,
          0.132,
          0.243,
          0.281,
          0.242,
          0.194,
          0.237,
          0.217,
          0.202,
          0.229,
          0.227,
          0.3,
          0.234,
          0.229,
          0.263,
          0.154,
          0.212,
          0.31,
          0.246,
          0.22,
          0.249,
          0.238,
          0.173,
          0.258,
          0.219,
          0.158
         ],
         "xaxis": "x",
         "y": [
          0.175,
          0.381,
          0.089,
          0.104,
          0.198,
          0.229,
          0.325,
          0.218,
          0.331,
          0.301,
          -0.378,
          0.437,
          0.269,
          0.112,
          0.312,
          0.422,
          0.198,
          0.141,
          0.115,
          0.434,
          0.319,
          0.048,
          0.264,
          0.229,
          0.286,
          -0.061,
          0.36,
          -0.03,
          0.392,
          0.48,
          0.381,
          -0.265,
          -0.359,
          0.404,
          0.277,
          0.204,
          0.171,
          0.176,
          0.048,
          0.27,
          0.274,
          0.528,
          0.07,
          0.077,
          0.236,
          0.177,
          0.429,
          0.1,
          0.425,
          0.006,
          0.494,
          0.383,
          0.302,
          0.038,
          0.343,
          0.365,
          0.18,
          0.422,
          0.384,
          0.321,
          0.136,
          0.132,
          0.334,
          0.458,
          0.288,
          -0.015,
          0.154,
          0.224,
          0.031,
          0.269,
          0.007,
          0.122
         ],
         "yaxis": "y"
        },
        {
         "customdata": [
          [
           "Consumer Staples",
           "Archer Daniels Midland"
          ],
          [
           "Consumer Staples",
           "Brown–Forman"
          ],
          [
           "Consumer Staples",
           "Bunge Global"
          ],
          [
           "Consumer Staples",
           "Conagra Brands"
          ],
          [
           "Consumer Staples",
           "Church & Dwight"
          ],
          [
           "Consumer Staples",
           "Colgate-Palmolive"
          ],
          [
           "Consumer Staples",
           "Clorox"
          ],
          [
           "Consumer Staples",
           "Costco"
          ],
          [
           "Consumer Staples",
           "Campbell Soup Company"
          ],
          [
           "Consumer Staples",
           "Dollar General"
          ],
          [
           "Consumer Staples",
           "Dollar Tree"
          ],
          [
           "Consumer Staples",
           "Estée Lauder Companies (The)"
          ],
          [
           "Consumer Staples",
           "General Mills"
          ],
          [
           "Consumer Staples",
           "Hormel Foods"
          ],
          [
           "Consumer Staples",
           "Hershey Company (The)"
          ],
          [
           "Consumer Staples",
           "Kellanova"
          ],
          [
           "Consumer Staples",
           "Keurig Dr Pepper"
          ],
          [
           "Consumer Staples",
           "Kraft Heinz"
          ],
          [
           "Consumer Staples",
           "Kimberly-Clark"
          ],
          [
           "Consumer Staples",
           "Coca-Cola Company (The)"
          ],
          [
           "Consumer Staples",
           "Kroger"
          ],
          [
           "Consumer Staples",
           "Kenvue"
          ],
          [
           "Consumer Staples",
           "Lamb Weston"
          ],
          [
           "Consumer Staples",
           "Mondelez International"
          ],
          [
           "Consumer Staples",
           "McCormick & Company"
          ],
          [
           "Consumer Staples",
           "Monster Beverage"
          ],
          [
           "Consumer Staples",
           "Altria"
          ],
          [
           "Consumer Staples",
           "PepsiCo"
          ],
          [
           "Consumer Staples",
           "Procter & Gamble"
          ],
          [
           "Consumer Staples",
           "Philip Morris International"
          ],
          [
           "Consumer Staples",
           "J.M. Smucker Company (The)"
          ],
          [
           "Consumer Staples",
           "Constellation Brands"
          ],
          [
           "Consumer Staples",
           "Sysco"
          ],
          [
           "Consumer Staples",
           "Molson Coors Beverage Company"
          ],
          [
           "Consumer Staples",
           "Target Corporation"
          ],
          [
           "Consumer Staples",
           "Tyson Foods"
          ],
          [
           "Consumer Staples",
           "Walgreens Boots Alliance"
          ],
          [
           "Consumer Staples",
           "Walmart"
          ]
         ],
         "hovertemplate": "<b>%{hovertext}</b><br><br>Sector=%{customdata[0]}<br>Volatility=%{x}<br>Return=%{y}<br>Security=%{customdata[1]}<extra></extra>",
         "hovertext": [
          "ADM",
          "BF.B",
          "BG",
          "CAG",
          "CHD",
          "CL",
          "CLX",
          "COST",
          "CPB",
          "DG",
          "DLTR",
          "EL",
          "GIS",
          "HRL",
          "HSY",
          "K",
          "KDP",
          "KHC",
          "KMB",
          "KO",
          "KR",
          "KVUE",
          "LW",
          "MDLZ",
          "MKC",
          "MNST",
          "MO",
          "PEP",
          "PG",
          "PM",
          "SJM",
          "STZ",
          "SYY",
          "TAP",
          "TGT",
          "TSN",
          "WBA",
          "WMT"
         ],
         "legendgroup": "Consumer Staples",
         "marker": {
          "color": "#FFA15A",
          "symbol": "circle"
         },
         "mode": "markers",
         "name": "Consumer Staples",
         "orientation": "v",
         "showlegend": true,
         "type": "scatter",
         "x": [
          0.217,
          0.244,
          0.252,
          0.219,
          0.157,
          0.146,
          0.205,
          0.201,
          0.202,
          0.558,
          0.466,
          0.465,
          0.18,
          0.285,
          0.195,
          0.272,
          0.166,
          0.189,
          0.185,
          0.126,
          0.226,
          0.269,
          0.557,
          0.169,
          0.219,
          0.242,
          0.194,
          0.162,
          0.144,
          0.199,
          0.219,
          0.194,
          0.188,
          0.243,
          0.317,
          0.202,
          0.54,
          0.179
         ],
         "xaxis": "x",
         "y": [
          0.047,
          -0.384,
          -0.156,
          0.032,
          -0.007,
          0.119,
          0.053,
          0.244,
          0.136,
          -0.809,
          -1.172,
          -1.119,
          0.058,
          0.002,
          -0.126,
          0.514,
          0.126,
          -0.107,
          0.141,
          0.094,
          0.21,
          0.257,
          -0.401,
          -0.111,
          0.2,
          -0.07,
          0.404,
          -0.03,
          0.037,
          0.534,
          -0.149,
          -0.089,
          -0.109,
          -0.198,
          -0.014,
          0.123,
          -1.198,
          0.485
         ],
         "yaxis": "y"
        },
        {
         "customdata": [
          [
           "Industrials",
           "Automatic Data Processing"
          ],
          [
           "Industrials",
           "Allegion"
          ],
          [
           "Industrials",
           "Ametek"
          ],
          [
           "Industrials",
           "Amentum"
          ],
          [
           "Industrials",
           "A. O. Smith"
          ],
          [
           "Industrials",
           "Axon Enterprise"
          ],
          [
           "Industrials",
           "Boeing"
          ],
          [
           "Industrials",
           "Builders FirstSource"
          ],
          [
           "Industrials",
           "Broadridge Financial Solutions"
          ],
          [
           "Industrials",
           "Carrier Global"
          ],
          [
           "Industrials",
           "Caterpillar Inc."
          ],
          [
           "Industrials",
           "C.H. Robinson"
          ],
          [
           "Industrials",
           "Cummins"
          ],
          [
           "Industrials",
           "Copart"
          ],
          [
           "Industrials",
           "CSX Corporation"
          ],
          [
           "Industrials",
           "Cintas"
          ],
          [
           "Industrials",
           "Delta Air Lines"
          ],
          [
           "Industrials",
           "Dayforce"
          ],
          [
           "Industrials",
           "Deere & Company"
          ],
          [
           "Industrials",
           "Dover Corporation"
          ],
          [
           "Industrials",
           "Equifax"
          ],
          [
           "Industrials",
           "Emerson Electric"
          ],
          [
           "Industrials",
           "Eaton Corporation"
          ],
          [
           "Industrials",
           "Expeditors International"
          ],
          [
           "Industrials",
           "Fastenal"
          ],
          [
           "Industrials",
           "FedEx"
          ],
          [
           "Industrials",
           "Fortive"
          ],
          [
           "Industrials",
           "General Dynamics"
          ],
          [
           "Industrials",
           "GE Aerospace"
          ],
          [
           "Industrials",
           "GE Vernova"
          ],
          [
           "Industrials",
           "Generac"
          ],
          [
           "Industrials",
           "W. W. Grainger"
          ],
          [
           "Industrials",
           "Huntington Ingalls Industries"
          ],
          [
           "Industrials",
           "Honeywell"
          ],
          [
           "Industrials",
           "Hubbell Incorporated"
          ],
          [
           "Industrials",
           "Howmet Aerospace"
          ],
          [
           "Industrials",
           "IDEX Corporation"
          ],
          [
           "Industrials",
           "Ingersoll Rand"
          ],
          [
           "Industrials",
           "Illinois Tool Works"
          ],
          [
           "Industrials",
           "Jacobs Solutions"
          ],
          [
           "Industrials",
           "J.B. Hunt"
          ],
          [
           "Industrials",
           "Johnson Controls"
          ],
          [
           "Industrials",
           "Leidos"
          ],
          [
           "Industrials",
           "L3Harris"
          ],
          [
           "Industrials",
           "Lockheed Martin"
          ],
          [
           "Industrials",
           "Southwest Airlines"
          ],
          [
           "Industrials",
           "Masco"
          ],
          [
           "Industrials",
           "3M"
          ],
          [
           "Industrials",
           "Nordson Corporation"
          ],
          [
           "Industrials",
           "Northrop Grumman"
          ],
          [
           "Industrials",
           "Norfolk Southern Railway"
          ],
          [
           "Industrials",
           "Old Dominion"
          ],
          [
           "Industrials",
           "Otis Worldwide"
          ],
          [
           "Industrials",
           "Paycom"
          ],
          [
           "Industrials",
           "Paychex"
          ],
          [
           "Industrials",
           "Paccar"
          ],
          [
           "Industrials",
           "Parker Hannifin"
          ],
          [
           "Industrials",
           "Pentair"
          ],
          [
           "Industrials",
           "Quanta Services"
          ],
          [
           "Industrials",
           "Rockwell Automation"
          ],
          [
           "Industrials",
           "Rollins, Inc."
          ],
          [
           "Industrials",
           "Republic Services"
          ],
          [
           "Industrials",
           "RTX Corporation"
          ],
          [
           "Industrials",
           "Snap-on"
          ],
          [
           "Industrials",
           "Stanley Black & Decker"
          ],
          [
           "Industrials",
           "TransDigm Group"
          ],
          [
           "Industrials",
           "Trane Technologies"
          ],
          [
           "Industrials",
           "Textron"
          ],
          [
           "Industrials",
           "United Airlines Holdings"
          ],
          [
           "Industrials",
           "Uber"
          ],
          [
           "Industrials",
           "Union Pacific Corporation"
          ],
          [
           "Industrials",
           "United Parcel Service"
          ],
          [
           "Industrials",
           "United Rentals"
          ],
          [
           "Industrials",
           "Veralto"
          ],
          [
           "Industrials",
           "Verisk Analytics"
          ],
          [
           "Industrials",
           "Wabtec"
          ],
          [
           "Industrials",
           "Waste Management"
          ],
          [
           "Industrials",
           "Xylem Inc."
          ]
         ],
         "hovertemplate": "<b>%{hovertext}</b><br><br>Sector=%{customdata[0]}<br>Volatility=%{x}<br>Return=%{y}<br>Security=%{customdata[1]}<extra></extra>",
         "hovertext": [
          "ADP",
          "ALLE",
          "AME",
          "AMTM",
          "AOS",
          "AXON",
          "BA",
          "BLDR",
          "BR",
          "CARR",
          "CAT",
          "CHRW",
          "CMI",
          "CPRT",
          "CSX",
          "CTAS",
          "DAL",
          "DAY",
          "DE",
          "DOV",
          "EFX",
          "EMR",
          "ETN",
          "EXPD",
          "FAST",
          "FDX",
          "FTV",
          "GD",
          "GE",
          "GEV",
          "GNRC",
          "GWW",
          "HII",
          "HON",
          "HUBB",
          "HWM",
          "IEX",
          "IR",
          "ITW",
          "J",
          "JBHT",
          "JCI",
          "LDOS",
          "LHX",
          "LMT",
          "LUV",
          "MAS",
          "MMM",
          "NDSN",
          "NOC",
          "NSC",
          "ODFL",
          "OTIS",
          "PAYC",
          "PAYX",
          "PCAR",
          "PH",
          "PNR",
          "PWR",
          "ROK",
          "ROL",
          "RSG",
          "RTX",
          "SNA",
          "SWK",
          "TDG",
          "TT",
          "TXT",
          "UAL",
          "UBER",
          "UNP",
          "UPS",
          "URI",
          "VLTO",
          "VRSK",
          "WAB",
          "WM",
          "XYL"
         ],
         "legendgroup": "Industrials",
         "marker": {
          "color": "#19d3f3",
          "symbol": "circle"
         },
         "mode": "markers",
         "name": "Industrials",
         "orientation": "v",
         "showlegend": true,
         "type": "scatter",
         "x": [
          0.152,
          0.206,
          0.232,
          0.424,
          0.257,
          0.351,
          0.329,
          0.471,
          0.185,
          0.3,
          0.253,
          0.312,
          0.235,
          0.2,
          0.205,
          0.18,
          0.311,
          0.369,
          0.216,
          0.207,
          0.283,
          0.23,
          0.29,
          0.191,
          0.228,
          0.335,
          0.22,
          0.158,
          0.33,
          0.436,
          0.35,
          0.203,
          0.432,
          0.17,
          0.306,
          0.337,
          0.206,
          0.275,
          0.157,
          0.193,
          0.264,
          0.225,
          0.203,
          0.184,
          0.164,
          0.395,
          0.242,
          0.33,
          0.218,
          0.165,
          0.252,
          0.335,
          0.198,
          0.398,
          0.186,
          0.267,
          0.252,
          0.265,
          0.319,
          0.265,
          0.218,
          0.15,
          0.168,
          0.23,
          0.332,
          0.229,
          0.232,
          0.235,
          0.437,
          0.382,
          0.18,
          0.274,
          0.334,
          0.186,
          0.199,
          0.215,
          0.188,
          0.215
         ],
         "xaxis": "x",
         "y": [
          0.177,
          0.113,
          0.041,
          0.011,
          -0.116,
          0.645,
          -0.427,
          -0.138,
          0.065,
          0.423,
          0.216,
          0.489,
          0.317,
          0.003,
          -0.188,
          0.378,
          0.455,
          -0.01,
          0.15,
          0.206,
          -0.005,
          0.032,
          0.218,
          -0.014,
          0.115,
          0.169,
          -0.269,
          0.091,
          0.488,
          1.085,
          0.553,
          0.21,
          -0.638,
          0.036,
          0.223,
          0.597,
          -0.143,
          0.084,
          0.006,
          0.195,
          -0.238,
          0.37,
          0.538,
          0.206,
          0.34,
          -0.143,
          0.092,
          0.73,
          -0.143,
          0.142,
          -0.043,
          -0.128,
          0.07,
          0.178,
          0.16,
          -0.087,
          0.255,
          0.368,
          0.363,
          -0.073,
          0.147,
          0.098,
          0.426,
          0.284,
          0.06,
          0.118,
          0.393,
          -0.096,
          0.781,
          -0.118,
          -0.146,
          -0.149,
          0.304,
          0.237,
          0.166,
          0.442,
          0.053,
          -0.045
         ],
         "yaxis": "y"
        },
        {
         "customdata": [
          [
           "Utilities",
           "Ameren"
          ],
          [
           "Utilities",
           "American Electric Power"
          ],
          [
           "Utilities",
           "AES Corporation"
          ],
          [
           "Utilities",
           "Atmos Energy"
          ],
          [
           "Utilities",
           "American Water Works"
          ],
          [
           "Utilities",
           "Constellation Energy"
          ],
          [
           "Utilities",
           "CMS Energy"
          ],
          [
           "Utilities",
           "CenterPoint Energy"
          ],
          [
           "Utilities",
           "Dominion Energy"
          ],
          [
           "Utilities",
           "DTE Energy"
          ],
          [
           "Utilities",
           "Duke Energy"
          ],
          [
           "Utilities",
           "Consolidated Edison"
          ],
          [
           "Utilities",
           "Edison International"
          ],
          [
           "Utilities",
           "Eversource Energy"
          ],
          [
           "Utilities",
           "Entergy"
          ],
          [
           "Utilities",
           "Evergy"
          ],
          [
           "Utilities",
           "Exelon"
          ],
          [
           "Utilities",
           "FirstEnergy"
          ],
          [
           "Utilities",
           "Alliant Energy"
          ],
          [
           "Utilities",
           "NextEra Energy"
          ],
          [
           "Utilities",
           "NiSource"
          ],
          [
           "Utilities",
           "NRG Energy"
          ],
          [
           "Utilities",
           "PG&E Corporation"
          ],
          [
           "Utilities",
           "Public Service Enterprise Group"
          ],
          [
           "Utilities",
           "Pinnacle West"
          ],
          [
           "Utilities",
           "PPL Corporation"
          ],
          [
           "Utilities",
           "Southern Company"
          ],
          [
           "Utilities",
           "Sempra"
          ],
          [
           "Utilities",
           "Vistra Corp."
          ],
          [
           "Utilities",
           "WEC Energy Group"
          ],
          [
           "Utilities",
           "Xcel Energy"
          ]
         ],
         "hovertemplate": "<b>%{hovertext}</b><br><br>Sector=%{customdata[0]}<br>Volatility=%{x}<br>Return=%{y}<br>Security=%{customdata[1]}<extra></extra>",
         "hovertext": [
          "AEE",
          "AEP",
          "AES",
          "ATO",
          "AWK",
          "CEG",
          "CMS",
          "CNP",
          "D",
          "DTE",
          "DUK",
          "ED",
          "EIX",
          "ES",
          "ETR",
          "EVRG",
          "EXC",
          "FE",
          "LNT",
          "NEE",
          "NI",
          "NRG",
          "PCG",
          "PEG",
          "PNW",
          "PPL",
          "SO",
          "SRE",
          "VST",
          "WEC",
          "XEL"
         ],
         "legendgroup": "Utilities",
         "marker": {
          "color": "#FF6692",
          "symbol": "circle"
         },
         "mode": "markers",
         "name": "Utilities",
         "orientation": "v",
         "showlegend": true,
         "type": "scatter",
         "x": [
          0.165,
          0.174,
          0.365,
          0.14,
          0.196,
          0.548,
          0.157,
          0.205,
          0.225,
          0.18,
          0.159,
          0.164,
          0.169,
          0.206,
          0.239,
          0.157,
          0.17,
          0.142,
          0.164,
          0.259,
          0.148,
          0.373,
          0.182,
          0.172,
          0.17,
          0.153,
          0.164,
          0.171,
          0.599,
          0.165,
          0.24
         ],
         "xaxis": "x",
         "y": [
          0.282,
          0.26,
          0.043,
          0.299,
          0.215,
          0.971,
          0.27,
          0.081,
          0.314,
          0.196,
          0.313,
          0.209,
          0.271,
          0.161,
          0.593,
          0.257,
          0.121,
          0.161,
          0.3,
          0.48,
          0.428,
          0.809,
          0.247,
          0.557,
          0.316,
          0.28,
          0.427,
          0.212,
          1.359,
          0.276,
          0.171
         ],
         "yaxis": "y"
        },
        {
         "customdata": [
          [
           "Materials",
           "Albemarle Corporation"
          ],
          [
           "Materials",
           "Amcor"
          ],
          [
           "Materials",
           "Air Products"
          ],
          [
           "Materials",
           "Avery Dennison"
          ],
          [
           "Materials",
           "Ball Corporation"
          ],
          [
           "Materials",
           "Celanese"
          ],
          [
           "Materials",
           "CF Industries"
          ],
          [
           "Materials",
           "Corteva"
          ],
          [
           "Materials",
           "DuPont"
          ],
          [
           "Materials",
           "Dow Inc."
          ],
          [
           "Materials",
           "Ecolab"
          ],
          [
           "Materials",
           "Eastman Chemical Company"
          ],
          [
           "Materials",
           "Freeport-McMoRan"
          ],
          [
           "Materials",
           "FMC Corporation"
          ],
          [
           "Materials",
           "International Flavors & Fragrances"
          ],
          [
           "Materials",
           "International Paper"
          ],
          [
           "Materials",
           "Linde plc"
          ],
          [
           "Materials",
           "LyondellBasell"
          ],
          [
           "Materials",
           "Martin Marietta Materials"
          ],
          [
           "Materials",
           "Mosaic Company (The)"
          ],
          [
           "Materials",
           "Newmont"
          ],
          [
           "Materials",
           "Nucor"
          ],
          [
           "Materials",
           "Packaging Corporation of America"
          ],
          [
           "Materials",
           "PPG Industries"
          ],
          [
           "Materials",
           "Sherwin-Williams"
          ],
          [
           "Materials",
           "Steel Dynamics"
          ],
          [
           "Materials",
           "Smurfit WestRock"
          ],
          [
           "Materials",
           "Vulcan Materials Company"
          ]
         ],
         "hovertemplate": "<b>%{hovertext}</b><br><br>Sector=%{customdata[0]}<br>Volatility=%{x}<br>Return=%{y}<br>Security=%{customdata[1]}<extra></extra>",
         "hovertext": [
          "ALB",
          "AMCR",
          "APD",
          "AVY",
          "BALL",
          "CE",
          "CF",
          "CTVA",
          "DD",
          "DOW",
          "ECL",
          "EMN",
          "FCX",
          "FMC",
          "IFF",
          "IP",
          "LIN",
          "LYB",
          "MLM",
          "MOS",
          "NEM",
          "NUE",
          "PKG",
          "PPG",
          "SHW",
          "STLD",
          "SW",
          "VMC"
         ],
         "legendgroup": "Materials",
         "marker": {
          "color": "#B6E880",
          "symbol": "circle"
         },
         "mode": "markers",
         "name": "Materials",
         "orientation": "v",
         "showlegend": true,
         "type": "scatter",
         "x": [
          0.605,
          0.213,
          0.248,
          0.185,
          0.225,
          0.281,
          0.279,
          0.22,
          0.206,
          0.191,
          0.178,
          0.22,
          0.363,
          0.414,
          0.226,
          0.334,
          0.143,
          0.188,
          0.24,
          0.312,
          0.379,
          0.284,
          0.19,
          0.184,
          0.214,
          0.287,
          0.274,
          0.236
         ],
         "xaxis": "x",
         "y": [
          -0.348,
          0.263,
          0.415,
          -0.052,
          -0.086,
          -0.245,
          0.032,
          0.15,
          0.246,
          -0.191,
          0.144,
          0.278,
          0.208,
          0.311,
          0.304,
          0.676,
          0.027,
          -0.192,
          0.11,
          -0.234,
          0.538,
          -0.421,
          0.384,
          -0.213,
          0.156,
          0.039,
          0.156,
          0.091
         ],
         "yaxis": "y"
        },
        {
         "customdata": [
          [
           "Real Estate",
           "American Tower"
          ],
          [
           "Real Estate",
           "Alexandria Real Estate Equities"
          ],
          [
           "Real Estate",
           "AvalonBay Communities"
          ],
          [
           "Real Estate",
           "BXP, Inc."
          ],
          [
           "Real Estate",
           "CBRE Group"
          ],
          [
           "Real Estate",
           "Crown Castle"
          ],
          [
           "Real Estate",
           "Camden Property Trust"
          ],
          [
           "Real Estate",
           "CoStar Group"
          ],
          [
           "Real Estate",
           "Digital Realty"
          ],
          [
           "Real Estate",
           "Healthpeak Properties"
          ],
          [
           "Real Estate",
           "Equinix"
          ],
          [
           "Real Estate",
           "Equity Residential"
          ],
          [
           "Real Estate",
           "Essex Property Trust"
          ],
          [
           "Real Estate",
           "Extra Space Storage"
          ],
          [
           "Real Estate",
           "Federal Realty Investment Trust"
          ],
          [
           "Real Estate",
           "Host Hotels & Resorts"
          ],
          [
           "Real Estate",
           "Invitation Homes"
          ],
          [
           "Real Estate",
           "Iron Mountain"
          ],
          [
           "Real Estate",
           "Kimco Realty"
          ],
          [
           "Real Estate",
           "Mid-America Apartment Communities"
          ],
          [
           "Real Estate",
           "Realty Income"
          ],
          [
           "Real Estate",
           "Prologis"
          ],
          [
           "Real Estate",
           "Public Storage"
          ],
          [
           "Real Estate",
           "Regency Centers"
          ],
          [
           "Real Estate",
           "SBA Communications"
          ],
          [
           "Real Estate",
           "Simon Property Group"
          ],
          [
           "Real Estate",
           "UDR, Inc."
          ],
          [
           "Real Estate",
           "Vici Properties"
          ],
          [
           "Real Estate",
           "Ventas"
          ],
          [
           "Real Estate",
           "Welltower"
          ],
          [
           "Real Estate",
           "Weyerhaeuser"
          ]
         ],
         "hovertemplate": "<b>%{hovertext}</b><br><br>Sector=%{customdata[0]}<br>Volatility=%{x}<br>Return=%{y}<br>Security=%{customdata[1]}<extra></extra>",
         "hovertext": [
          "AMT",
          "ARE",
          "AVB",
          "BXP",
          "CBRE",
          "CCI",
          "CPT",
          "CSGP",
          "DLR",
          "DOC",
          "EQIX",
          "EQR",
          "ESS",
          "EXR",
          "FRT",
          "HST",
          "INVH",
          "IRM",
          "KIM",
          "MAA",
          "O",
          "PLD",
          "PSA",
          "REG",
          "SBAC",
          "SPG",
          "UDR",
          "VICI",
          "VTR",
          "WELL",
          "WY"
         ],
         "legendgroup": "Real Estate",
         "marker": {
          "color": "#FF97FF",
          "symbol": "circle"
         },
         "mode": "markers",
         "name": "Real Estate",
         "orientation": "v",
         "showlegend": true,
         "type": "scatter",
         "x": [
          0.244,
          0.252,
          0.173,
          0.299,
          0.252,
          0.221,
          0.2,
          0.284,
          0.25,
          0.221,
          0.252,
          0.191,
          0.2,
          0.255,
          0.178,
          0.227,
          0.209,
          0.235,
          0.214,
          0.197,
          0.164,
          0.25,
          0.225,
          0.176,
          0.273,
          0.214,
          0.182,
          0.186,
          0.2,
          0.171,
          0.223
         ],
         "xaxis": "x",
         "y": [
          0.169,
          -0.128,
          0.337,
          0.308,
          0.538,
          -0.016,
          0.287,
          -0.22,
          0.37,
          0.432,
          0.041,
          0.225,
          0.307,
          0.221,
          0.173,
          -0.233,
          -0.083,
          0.72,
          0.279,
          0.26,
          0.165,
          -0.238,
          0.208,
          0.234,
          0.108,
          0.169,
          0.234,
          0.08,
          0.567,
          0.529,
          -0.099
         ],
         "yaxis": "y"
        },
        {
         "customdata": [
          [
           "Energy",
           "APA Corporation"
          ],
          [
           "Energy",
           "Baker Hughes"
          ],
          [
           "Energy",
           "ConocoPhillips"
          ],
          [
           "Energy",
           "Coterra"
          ],
          [
           "Energy",
           "Chevron Corporation"
          ],
          [
           "Energy",
           "Devon Energy"
          ],
          [
           "Energy",
           "EOG Resources"
          ],
          [
           "Energy",
           "EQT Corporation"
          ],
          [
           "Energy",
           "Diamondback Energy"
          ],
          [
           "Energy",
           "Halliburton"
          ],
          [
           "Energy",
           "Hess Corporation"
          ],
          [
           "Energy",
           "Kinder Morgan"
          ],
          [
           "Energy",
           "Marathon Petroleum"
          ],
          [
           "Energy",
           "Marathon Oil"
          ],
          [
           "Energy",
           "ONEOK"
          ],
          [
           "Energy",
           "Occidental Petroleum"
          ],
          [
           "Energy",
           "Phillips 66"
          ],
          [
           "Energy",
           "Schlumberger"
          ],
          [
           "Energy",
           "Targa Resources"
          ],
          [
           "Energy",
           "Valero Energy"
          ],
          [
           "Energy",
           "Williams Companies"
          ],
          [
           "Energy",
           "ExxonMobil"
          ]
         ],
         "hovertemplate": "<b>%{hovertext}</b><br><br>Sector=%{customdata[0]}<br>Volatility=%{x}<br>Return=%{y}<br>Security=%{customdata[1]}<extra></extra>",
         "hovertext": [
          "APA",
          "BKR",
          "COP",
          "CTRA",
          "CVX",
          "DVN",
          "EOG",
          "EQT",
          "FANG",
          "HAL",
          "HES",
          "KMI",
          "MPC",
          "MRO",
          "OKE",
          "OXY",
          "PSX",
          "SLB",
          "TRGP",
          "VLO",
          "WMB",
          "XOM"
         ],
         "legendgroup": "Energy",
         "marker": {
          "color": "#FECB52",
          "symbol": "circle"
         },
         "mode": "markers",
         "name": "Energy",
         "orientation": "v",
         "showlegend": true,
         "type": "scatter",
         "x": [
          0.346,
          0.256,
          0.224,
          0.208,
          0.185,
          0.25,
          0.209,
          0.295,
          0.271,
          0.27,
          0.228,
          0.169,
          0.301,
          0.254,
          0.188,
          0.215,
          0.262,
          0.253,
          0.209,
          0.304,
          0.181,
          0.191
         ],
         "xaxis": "x",
         "y": [
          -0.347,
          0.349,
          -0.026,
          -0.119,
          -0.055,
          -0.182,
          0.124,
          -0.018,
          0.003,
          -0.343,
          -0.149,
          0.506,
          -0.22,
          0.22,
          0.408,
          -0.26,
          -0.272,
          -0.284,
          0.782,
          -0.126,
          0.583,
          0.169
         ],
         "yaxis": "y"
        },
        {
         "customdata": [
          [
           "Communication Services",
           "Charter Communications"
          ],
          [
           "Communication Services",
           "Comcast"
          ],
          [
           "Communication Services",
           "Walt Disney Company (The)"
          ],
          [
           "Communication Services",
           "Electronic Arts"
          ],
          [
           "Communication Services",
           "Fox Corporation (Class B)"
          ],
          [
           "Communication Services",
           "Fox Corporation (Class A)"
          ],
          [
           "Communication Services",
           "Alphabet Inc. (Class C)"
          ],
          [
           "Communication Services",
           "Alphabet Inc. (Class A)"
          ],
          [
           "Communication Services",
           "Interpublic Group of Companies (The)"
          ],
          [
           "Communication Services",
           "Live Nation Entertainment"
          ],
          [
           "Communication Services",
           "Meta Platforms"
          ],
          [
           "Communication Services",
           "Match Group"
          ],
          [
           "Communication Services",
           "Netflix"
          ],
          [
           "Communication Services",
           "News Corp (Class B)"
          ],
          [
           "Communication Services",
           "News Corp (Class A)"
          ],
          [
           "Communication Services",
           "Omnicom Group"
          ],
          [
           "Communication Services",
           "Paramount Global"
          ],
          [
           "Communication Services",
           "AT&T"
          ],
          [
           "Communication Services",
           "T-Mobile US"
          ],
          [
           "Communication Services",
           "Take-Two Interactive"
          ],
          [
           "Communication Services",
           "Verizon"
          ],
          [
           "Communication Services",
           "Warner Bros. Discovery"
          ]
         ],
         "hovertemplate": "<b>%{hovertext}</b><br><br>Sector=%{customdata[0]}<br>Volatility=%{x}<br>Return=%{y}<br>Security=%{customdata[1]}<extra></extra>",
         "hovertext": [
          "CHTR",
          "CMCSA",
          "DIS",
          "EA",
          "FOX",
          "FOXA",
          "GOOG",
          "GOOGL",
          "IPG",
          "LYV",
          "META",
          "MTCH",
          "NFLX",
          "NWS",
          "NWSA",
          "OMC",
          "PARA",
          "T",
          "TMUS",
          "TTWO",
          "VZ",
          "WBD"
         ],
         "legendgroup": "Communication Services",
         "marker": {
          "color": "#636efa",
          "symbol": "circle"
         },
         "mode": "markers",
         "name": "Communication Services",
         "orientation": "v",
         "showlegend": true,
         "type": "scatter",
         "x": [
          0.339,
          0.211,
          0.232,
          0.182,
          0.175,
          0.179,
          0.265,
          0.267,
          0.205,
          0.268,
          0.321,
          0.326,
          0.289,
          0.204,
          0.203,
          0.204,
          0.542,
          0.194,
          0.168,
          0.216,
          0.21,
          0.463
         ],
         "xaxis": "x",
         "y": [
          0.13,
          0.06,
          -0.163,
          0.081,
          0.492,
          0.474,
          0.249,
          0.249,
          -0.135,
          0.297,
          0.229,
          -0.033,
          0.373,
          0.074,
          0.044,
          0.189,
          -0.035,
          0.423,
          0.441,
          0.099,
          0.051,
          -0.083
         ],
         "yaxis": "y"
        }
       ],
       "layout": {
        "height": 500,
        "legend": {
         "title": {
          "text": "Sector"
         },
         "tracegroupgap": 0
        },
        "template": {
         "data": {
          "bar": [
           {
            "error_x": {
             "color": "#f2f5fa"
            },
            "error_y": {
             "color": "#f2f5fa"
            },
            "marker": {
             "line": {
              "color": "rgb(17,17,17)",
              "width": 0.5
             },
             "pattern": {
              "fillmode": "overlay",
              "size": 10,
              "solidity": 0.2
             }
            },
            "type": "bar"
           }
          ],
          "barpolar": [
           {
            "marker": {
             "line": {
              "color": "rgb(17,17,17)",
              "width": 0.5
             },
             "pattern": {
              "fillmode": "overlay",
              "size": 10,
              "solidity": 0.2
             }
            },
            "type": "barpolar"
           }
          ],
          "carpet": [
           {
            "aaxis": {
             "endlinecolor": "#A2B1C6",
             "gridcolor": "#506784",
             "linecolor": "#506784",
             "minorgridcolor": "#506784",
             "startlinecolor": "#A2B1C6"
            },
            "baxis": {
             "endlinecolor": "#A2B1C6",
             "gridcolor": "#506784",
             "linecolor": "#506784",
             "minorgridcolor": "#506784",
             "startlinecolor": "#A2B1C6"
            },
            "type": "carpet"
           }
          ],
          "choropleth": [
           {
            "colorbar": {
             "outlinewidth": 0,
             "ticks": ""
            },
            "type": "choropleth"
           }
          ],
          "contour": [
           {
            "colorbar": {
             "outlinewidth": 0,
             "ticks": ""
            },
            "colorscale": [
             [
              0,
              "#0d0887"
             ],
             [
              0.1111111111111111,
              "#46039f"
             ],
             [
              0.2222222222222222,
              "#7201a8"
             ],
             [
              0.3333333333333333,
              "#9c179e"
             ],
             [
              0.4444444444444444,
              "#bd3786"
             ],
             [
              0.5555555555555556,
              "#d8576b"
             ],
             [
              0.6666666666666666,
              "#ed7953"
             ],
             [
              0.7777777777777778,
              "#fb9f3a"
             ],
             [
              0.8888888888888888,
              "#fdca26"
             ],
             [
              1,
              "#f0f921"
             ]
            ],
            "type": "contour"
           }
          ],
          "contourcarpet": [
           {
            "colorbar": {
             "outlinewidth": 0,
             "ticks": ""
            },
            "type": "contourcarpet"
           }
          ],
          "heatmap": [
           {
            "colorbar": {
             "outlinewidth": 0,
             "ticks": ""
            },
            "colorscale": [
             [
              0,
              "#0d0887"
             ],
             [
              0.1111111111111111,
              "#46039f"
             ],
             [
              0.2222222222222222,
              "#7201a8"
             ],
             [
              0.3333333333333333,
              "#9c179e"
             ],
             [
              0.4444444444444444,
              "#bd3786"
             ],
             [
              0.5555555555555556,
              "#d8576b"
             ],
             [
              0.6666666666666666,
              "#ed7953"
             ],
             [
              0.7777777777777778,
              "#fb9f3a"
             ],
             [
              0.8888888888888888,
              "#fdca26"
             ],
             [
              1,
              "#f0f921"
             ]
            ],
            "type": "heatmap"
           }
          ],
          "heatmapgl": [
           {
            "colorbar": {
             "outlinewidth": 0,
             "ticks": ""
            },
            "colorscale": [
             [
              0,
              "#0d0887"
             ],
             [
              0.1111111111111111,
              "#46039f"
             ],
             [
              0.2222222222222222,
              "#7201a8"
             ],
             [
              0.3333333333333333,
              "#9c179e"
             ],
             [
              0.4444444444444444,
              "#bd3786"
             ],
             [
              0.5555555555555556,
              "#d8576b"
             ],
             [
              0.6666666666666666,
              "#ed7953"
             ],
             [
              0.7777777777777778,
              "#fb9f3a"
             ],
             [
              0.8888888888888888,
              "#fdca26"
             ],
             [
              1,
              "#f0f921"
             ]
            ],
            "type": "heatmapgl"
           }
          ],
          "histogram": [
           {
            "marker": {
             "pattern": {
              "fillmode": "overlay",
              "size": 10,
              "solidity": 0.2
             }
            },
            "type": "histogram"
           }
          ],
          "histogram2d": [
           {
            "colorbar": {
             "outlinewidth": 0,
             "ticks": ""
            },
            "colorscale": [
             [
              0,
              "#0d0887"
             ],
             [
              0.1111111111111111,
              "#46039f"
             ],
             [
              0.2222222222222222,
              "#7201a8"
             ],
             [
              0.3333333333333333,
              "#9c179e"
             ],
             [
              0.4444444444444444,
              "#bd3786"
             ],
             [
              0.5555555555555556,
              "#d8576b"
             ],
             [
              0.6666666666666666,
              "#ed7953"
             ],
             [
              0.7777777777777778,
              "#fb9f3a"
             ],
             [
              0.8888888888888888,
              "#fdca26"
             ],
             [
              1,
              "#f0f921"
             ]
            ],
            "type": "histogram2d"
           }
          ],
          "histogram2dcontour": [
           {
            "colorbar": {
             "outlinewidth": 0,
             "ticks": ""
            },
            "colorscale": [
             [
              0,
              "#0d0887"
             ],
             [
              0.1111111111111111,
              "#46039f"
             ],
             [
              0.2222222222222222,
              "#7201a8"
             ],
             [
              0.3333333333333333,
              "#9c179e"
             ],
             [
              0.4444444444444444,
              "#bd3786"
             ],
             [
              0.5555555555555556,
              "#d8576b"
             ],
             [
              0.6666666666666666,
              "#ed7953"
             ],
             [
              0.7777777777777778,
              "#fb9f3a"
             ],
             [
              0.8888888888888888,
              "#fdca26"
             ],
             [
              1,
              "#f0f921"
             ]
            ],
            "type": "histogram2dcontour"
           }
          ],
          "mesh3d": [
           {
            "colorbar": {
             "outlinewidth": 0,
             "ticks": ""
            },
            "type": "mesh3d"
           }
          ],
          "parcoords": [
           {
            "line": {
             "colorbar": {
              "outlinewidth": 0,
              "ticks": ""
             }
            },
            "type": "parcoords"
           }
          ],
          "pie": [
           {
            "automargin": true,
            "type": "pie"
           }
          ],
          "scatter": [
           {
            "marker": {
             "line": {
              "color": "#283442"
             }
            },
            "type": "scatter"
           }
          ],
          "scatter3d": [
           {
            "line": {
             "colorbar": {
              "outlinewidth": 0,
              "ticks": ""
             }
            },
            "marker": {
             "colorbar": {
              "outlinewidth": 0,
              "ticks": ""
             }
            },
            "type": "scatter3d"
           }
          ],
          "scattercarpet": [
           {
            "marker": {
             "colorbar": {
              "outlinewidth": 0,
              "ticks": ""
             }
            },
            "type": "scattercarpet"
           }
          ],
          "scattergeo": [
           {
            "marker": {
             "colorbar": {
              "outlinewidth": 0,
              "ticks": ""
             }
            },
            "type": "scattergeo"
           }
          ],
          "scattergl": [
           {
            "marker": {
             "line": {
              "color": "#283442"
             }
            },
            "type": "scattergl"
           }
          ],
          "scattermapbox": [
           {
            "marker": {
             "colorbar": {
              "outlinewidth": 0,
              "ticks": ""
             }
            },
            "type": "scattermapbox"
           }
          ],
          "scatterpolar": [
           {
            "marker": {
             "colorbar": {
              "outlinewidth": 0,
              "ticks": ""
             }
            },
            "type": "scatterpolar"
           }
          ],
          "scatterpolargl": [
           {
            "marker": {
             "colorbar": {
              "outlinewidth": 0,
              "ticks": ""
             }
            },
            "type": "scatterpolargl"
           }
          ],
          "scatterternary": [
           {
            "marker": {
             "colorbar": {
              "outlinewidth": 0,
              "ticks": ""
             }
            },
            "type": "scatterternary"
           }
          ],
          "surface": [
           {
            "colorbar": {
             "outlinewidth": 0,
             "ticks": ""
            },
            "colorscale": [
             [
              0,
              "#0d0887"
             ],
             [
              0.1111111111111111,
              "#46039f"
             ],
             [
              0.2222222222222222,
              "#7201a8"
             ],
             [
              0.3333333333333333,
              "#9c179e"
             ],
             [
              0.4444444444444444,
              "#bd3786"
             ],
             [
              0.5555555555555556,
              "#d8576b"
             ],
             [
              0.6666666666666666,
              "#ed7953"
             ],
             [
              0.7777777777777778,
              "#fb9f3a"
             ],
             [
              0.8888888888888888,
              "#fdca26"
             ],
             [
              1,
              "#f0f921"
             ]
            ],
            "type": "surface"
           }
          ],
          "table": [
           {
            "cells": {
             "fill": {
              "color": "#506784"
             },
             "line": {
              "color": "rgb(17,17,17)"
             }
            },
            "header": {
             "fill": {
              "color": "#2a3f5f"
             },
             "line": {
              "color": "rgb(17,17,17)"
             }
            },
            "type": "table"
           }
          ]
         },
         "layout": {
          "annotationdefaults": {
           "arrowcolor": "#f2f5fa",
           "arrowhead": 0,
           "arrowwidth": 1
          },
          "autotypenumbers": "strict",
          "coloraxis": {
           "colorbar": {
            "outlinewidth": 0,
            "ticks": ""
           }
          },
          "colorscale": {
           "diverging": [
            [
             0,
             "#8e0152"
            ],
            [
             0.1,
             "#c51b7d"
            ],
            [
             0.2,
             "#de77ae"
            ],
            [
             0.3,
             "#f1b6da"
            ],
            [
             0.4,
             "#fde0ef"
            ],
            [
             0.5,
             "#f7f7f7"
            ],
            [
             0.6,
             "#e6f5d0"
            ],
            [
             0.7,
             "#b8e186"
            ],
            [
             0.8,
             "#7fbc41"
            ],
            [
             0.9,
             "#4d9221"
            ],
            [
             1,
             "#276419"
            ]
           ],
           "sequential": [
            [
             0,
             "#0d0887"
            ],
            [
             0.1111111111111111,
             "#46039f"
            ],
            [
             0.2222222222222222,
             "#7201a8"
            ],
            [
             0.3333333333333333,
             "#9c179e"
            ],
            [
             0.4444444444444444,
             "#bd3786"
            ],
            [
             0.5555555555555556,
             "#d8576b"
            ],
            [
             0.6666666666666666,
             "#ed7953"
            ],
            [
             0.7777777777777778,
             "#fb9f3a"
            ],
            [
             0.8888888888888888,
             "#fdca26"
            ],
            [
             1,
             "#f0f921"
            ]
           ],
           "sequentialminus": [
            [
             0,
             "#0d0887"
            ],
            [
             0.1111111111111111,
             "#46039f"
            ],
            [
             0.2222222222222222,
             "#7201a8"
            ],
            [
             0.3333333333333333,
             "#9c179e"
            ],
            [
             0.4444444444444444,
             "#bd3786"
            ],
            [
             0.5555555555555556,
             "#d8576b"
            ],
            [
             0.6666666666666666,
             "#ed7953"
            ],
            [
             0.7777777777777778,
             "#fb9f3a"
            ],
            [
             0.8888888888888888,
             "#fdca26"
            ],
            [
             1,
             "#f0f921"
            ]
           ]
          },
          "colorway": [
           "#636efa",
           "#EF553B",
           "#00cc96",
           "#ab63fa",
           "#FFA15A",
           "#19d3f3",
           "#FF6692",
           "#B6E880",
           "#FF97FF",
           "#FECB52"
          ],
          "font": {
           "color": "#f2f5fa"
          },
          "geo": {
           "bgcolor": "rgb(17,17,17)",
           "lakecolor": "rgb(17,17,17)",
           "landcolor": "rgb(17,17,17)",
           "showlakes": true,
           "showland": true,
           "subunitcolor": "#506784"
          },
          "hoverlabel": {
           "align": "left"
          },
          "hovermode": "closest",
          "mapbox": {
           "style": "dark"
          },
          "paper_bgcolor": "rgb(17,17,17)",
          "plot_bgcolor": "rgb(17,17,17)",
          "polar": {
           "angularaxis": {
            "gridcolor": "#506784",
            "linecolor": "#506784",
            "ticks": ""
           },
           "bgcolor": "rgb(17,17,17)",
           "radialaxis": {
            "gridcolor": "#506784",
            "linecolor": "#506784",
            "ticks": ""
           }
          },
          "scene": {
           "xaxis": {
            "backgroundcolor": "rgb(17,17,17)",
            "gridcolor": "#506784",
            "gridwidth": 2,
            "linecolor": "#506784",
            "showbackground": true,
            "ticks": "",
            "zerolinecolor": "#C8D4E3"
           },
           "yaxis": {
            "backgroundcolor": "rgb(17,17,17)",
            "gridcolor": "#506784",
            "gridwidth": 2,
            "linecolor": "#506784",
            "showbackground": true,
            "ticks": "",
            "zerolinecolor": "#C8D4E3"
           },
           "zaxis": {
            "backgroundcolor": "rgb(17,17,17)",
            "gridcolor": "#506784",
            "gridwidth": 2,
            "linecolor": "#506784",
            "showbackground": true,
            "ticks": "",
            "zerolinecolor": "#C8D4E3"
           }
          },
          "shapedefaults": {
           "line": {
            "color": "#f2f5fa"
           }
          },
          "sliderdefaults": {
           "bgcolor": "#C8D4E3",
           "bordercolor": "rgb(17,17,17)",
           "borderwidth": 1,
           "tickwidth": 0
          },
          "ternary": {
           "aaxis": {
            "gridcolor": "#506784",
            "linecolor": "#506784",
            "ticks": ""
           },
           "baxis": {
            "gridcolor": "#506784",
            "linecolor": "#506784",
            "ticks": ""
           },
           "bgcolor": "rgb(17,17,17)",
           "caxis": {
            "gridcolor": "#506784",
            "linecolor": "#506784",
            "ticks": ""
           }
          },
          "title": {
           "x": 0.05
          },
          "updatemenudefaults": {
           "bgcolor": "#506784",
           "borderwidth": 0
          },
          "xaxis": {
           "automargin": true,
           "gridcolor": "#283442",
           "linecolor": "#506784",
           "ticks": "",
           "title": {
            "standoff": 15
           },
           "zerolinecolor": "#283442",
           "zerolinewidth": 2
          },
          "yaxis": {
           "automargin": true,
           "gridcolor": "#283442",
           "linecolor": "#506784",
           "ticks": "",
           "title": {
            "standoff": 15
           },
           "zerolinecolor": "#283442",
           "zerolinewidth": 2
          }
         }
        },
        "title": {
         "text": "S&P 500 stocks by Volatility/Return",
         "x": 0.5
        },
        "width": 750,
        "xaxis": {
         "anchor": "y",
         "domain": [
          0,
          1
         ],
         "title": {
          "text": "Volatility"
         }
        },
        "yaxis": {
         "anchor": "x",
         "domain": [
          0,
          1
         ],
         "title": {
          "text": "Return"
         }
        }
       }
      }
     },
     "metadata": {},
     "output_type": "display_data"
    }
   ],
   "source": [
    "px.scatter(stock_data,\n",
    "           x='Volatility',\n",
    "           y='Return',\n",
    "           hover_data=['Sector','Security'],\n",
    "           hover_name='Symbol',\n",
    "           title='S&P 500 stocks by Volatility/Return',\n",
    "           color='Sector',\n",
    "           width=750,\n",
    "           height=500,\n",
    "           template='plotly_dark'\n",
    "           ).update_layout(title_x=0.5)"
   ]
  },
  {
   "cell_type": "code",
   "execution_count": 17,
   "metadata": {},
   "outputs": [
    {
     "data": {
      "application/vnd.plotly.v1+json": {
       "config": {
        "plotlyServerURL": "https://plot.ly"
       },
       "data": [
        {
         "hovertemplate": "variable=0<br>Number of Clusters=%{x}<br>Sum of Squared Error=%{y}<extra></extra>",
         "legendgroup": "0",
         "line": {
          "color": "#636efa",
          "dash": "solid"
         },
         "marker": {
          "symbol": "circle"
         },
         "mode": "lines",
         "name": "0",
         "orientation": "v",
         "showlegend": true,
         "type": "scatter",
         "x": [
          0,
          1,
          2,
          3,
          4,
          5,
          6,
          7,
          8,
          9,
          10,
          11,
          12,
          13,
          14
         ],
         "xaxis": "x",
         "y": [
          55.46809098608351,
          27.985382551236935,
          18.03441907695683,
          12.91615265872272,
          10.402459112284621,
          8.254630303621738,
          7.044938098968182,
          6.628079747710943,
          5.970279524634353,
          5.4971911454170606,
          4.89830796973699,
          4.405080749516672,
          3.961565426996306,
          3.7222676686037848,
          3.3604725058931164
         ],
         "yaxis": "y"
        }
       ],
       "layout": {
        "height": 500,
        "legend": {
         "title": {
          "text": "variable"
         },
         "tracegroupgap": 0
        },
        "showlegend": false,
        "template": {
         "data": {
          "bar": [
           {
            "error_x": {
             "color": "#f2f5fa"
            },
            "error_y": {
             "color": "#f2f5fa"
            },
            "marker": {
             "line": {
              "color": "rgb(17,17,17)",
              "width": 0.5
             },
             "pattern": {
              "fillmode": "overlay",
              "size": 10,
              "solidity": 0.2
             }
            },
            "type": "bar"
           }
          ],
          "barpolar": [
           {
            "marker": {
             "line": {
              "color": "rgb(17,17,17)",
              "width": 0.5
             },
             "pattern": {
              "fillmode": "overlay",
              "size": 10,
              "solidity": 0.2
             }
            },
            "type": "barpolar"
           }
          ],
          "carpet": [
           {
            "aaxis": {
             "endlinecolor": "#A2B1C6",
             "gridcolor": "#506784",
             "linecolor": "#506784",
             "minorgridcolor": "#506784",
             "startlinecolor": "#A2B1C6"
            },
            "baxis": {
             "endlinecolor": "#A2B1C6",
             "gridcolor": "#506784",
             "linecolor": "#506784",
             "minorgridcolor": "#506784",
             "startlinecolor": "#A2B1C6"
            },
            "type": "carpet"
           }
          ],
          "choropleth": [
           {
            "colorbar": {
             "outlinewidth": 0,
             "ticks": ""
            },
            "type": "choropleth"
           }
          ],
          "contour": [
           {
            "colorbar": {
             "outlinewidth": 0,
             "ticks": ""
            },
            "colorscale": [
             [
              0,
              "#0d0887"
             ],
             [
              0.1111111111111111,
              "#46039f"
             ],
             [
              0.2222222222222222,
              "#7201a8"
             ],
             [
              0.3333333333333333,
              "#9c179e"
             ],
             [
              0.4444444444444444,
              "#bd3786"
             ],
             [
              0.5555555555555556,
              "#d8576b"
             ],
             [
              0.6666666666666666,
              "#ed7953"
             ],
             [
              0.7777777777777778,
              "#fb9f3a"
             ],
             [
              0.8888888888888888,
              "#fdca26"
             ],
             [
              1,
              "#f0f921"
             ]
            ],
            "type": "contour"
           }
          ],
          "contourcarpet": [
           {
            "colorbar": {
             "outlinewidth": 0,
             "ticks": ""
            },
            "type": "contourcarpet"
           }
          ],
          "heatmap": [
           {
            "colorbar": {
             "outlinewidth": 0,
             "ticks": ""
            },
            "colorscale": [
             [
              0,
              "#0d0887"
             ],
             [
              0.1111111111111111,
              "#46039f"
             ],
             [
              0.2222222222222222,
              "#7201a8"
             ],
             [
              0.3333333333333333,
              "#9c179e"
             ],
             [
              0.4444444444444444,
              "#bd3786"
             ],
             [
              0.5555555555555556,
              "#d8576b"
             ],
             [
              0.6666666666666666,
              "#ed7953"
             ],
             [
              0.7777777777777778,
              "#fb9f3a"
             ],
             [
              0.8888888888888888,
              "#fdca26"
             ],
             [
              1,
              "#f0f921"
             ]
            ],
            "type": "heatmap"
           }
          ],
          "heatmapgl": [
           {
            "colorbar": {
             "outlinewidth": 0,
             "ticks": ""
            },
            "colorscale": [
             [
              0,
              "#0d0887"
             ],
             [
              0.1111111111111111,
              "#46039f"
             ],
             [
              0.2222222222222222,
              "#7201a8"
             ],
             [
              0.3333333333333333,
              "#9c179e"
             ],
             [
              0.4444444444444444,
              "#bd3786"
             ],
             [
              0.5555555555555556,
              "#d8576b"
             ],
             [
              0.6666666666666666,
              "#ed7953"
             ],
             [
              0.7777777777777778,
              "#fb9f3a"
             ],
             [
              0.8888888888888888,
              "#fdca26"
             ],
             [
              1,
              "#f0f921"
             ]
            ],
            "type": "heatmapgl"
           }
          ],
          "histogram": [
           {
            "marker": {
             "pattern": {
              "fillmode": "overlay",
              "size": 10,
              "solidity": 0.2
             }
            },
            "type": "histogram"
           }
          ],
          "histogram2d": [
           {
            "colorbar": {
             "outlinewidth": 0,
             "ticks": ""
            },
            "colorscale": [
             [
              0,
              "#0d0887"
             ],
             [
              0.1111111111111111,
              "#46039f"
             ],
             [
              0.2222222222222222,
              "#7201a8"
             ],
             [
              0.3333333333333333,
              "#9c179e"
             ],
             [
              0.4444444444444444,
              "#bd3786"
             ],
             [
              0.5555555555555556,
              "#d8576b"
             ],
             [
              0.6666666666666666,
              "#ed7953"
             ],
             [
              0.7777777777777778,
              "#fb9f3a"
             ],
             [
              0.8888888888888888,
              "#fdca26"
             ],
             [
              1,
              "#f0f921"
             ]
            ],
            "type": "histogram2d"
           }
          ],
          "histogram2dcontour": [
           {
            "colorbar": {
             "outlinewidth": 0,
             "ticks": ""
            },
            "colorscale": [
             [
              0,
              "#0d0887"
             ],
             [
              0.1111111111111111,
              "#46039f"
             ],
             [
              0.2222222222222222,
              "#7201a8"
             ],
             [
              0.3333333333333333,
              "#9c179e"
             ],
             [
              0.4444444444444444,
              "#bd3786"
             ],
             [
              0.5555555555555556,
              "#d8576b"
             ],
             [
              0.6666666666666666,
              "#ed7953"
             ],
             [
              0.7777777777777778,
              "#fb9f3a"
             ],
             [
              0.8888888888888888,
              "#fdca26"
             ],
             [
              1,
              "#f0f921"
             ]
            ],
            "type": "histogram2dcontour"
           }
          ],
          "mesh3d": [
           {
            "colorbar": {
             "outlinewidth": 0,
             "ticks": ""
            },
            "type": "mesh3d"
           }
          ],
          "parcoords": [
           {
            "line": {
             "colorbar": {
              "outlinewidth": 0,
              "ticks": ""
             }
            },
            "type": "parcoords"
           }
          ],
          "pie": [
           {
            "automargin": true,
            "type": "pie"
           }
          ],
          "scatter": [
           {
            "marker": {
             "line": {
              "color": "#283442"
             }
            },
            "type": "scatter"
           }
          ],
          "scatter3d": [
           {
            "line": {
             "colorbar": {
              "outlinewidth": 0,
              "ticks": ""
             }
            },
            "marker": {
             "colorbar": {
              "outlinewidth": 0,
              "ticks": ""
             }
            },
            "type": "scatter3d"
           }
          ],
          "scattercarpet": [
           {
            "marker": {
             "colorbar": {
              "outlinewidth": 0,
              "ticks": ""
             }
            },
            "type": "scattercarpet"
           }
          ],
          "scattergeo": [
           {
            "marker": {
             "colorbar": {
              "outlinewidth": 0,
              "ticks": ""
             }
            },
            "type": "scattergeo"
           }
          ],
          "scattergl": [
           {
            "marker": {
             "line": {
              "color": "#283442"
             }
            },
            "type": "scattergl"
           }
          ],
          "scattermapbox": [
           {
            "marker": {
             "colorbar": {
              "outlinewidth": 0,
              "ticks": ""
             }
            },
            "type": "scattermapbox"
           }
          ],
          "scatterpolar": [
           {
            "marker": {
             "colorbar": {
              "outlinewidth": 0,
              "ticks": ""
             }
            },
            "type": "scatterpolar"
           }
          ],
          "scatterpolargl": [
           {
            "marker": {
             "colorbar": {
              "outlinewidth": 0,
              "ticks": ""
             }
            },
            "type": "scatterpolargl"
           }
          ],
          "scatterternary": [
           {
            "marker": {
             "colorbar": {
              "outlinewidth": 0,
              "ticks": ""
             }
            },
            "type": "scatterternary"
           }
          ],
          "surface": [
           {
            "colorbar": {
             "outlinewidth": 0,
             "ticks": ""
            },
            "colorscale": [
             [
              0,
              "#0d0887"
             ],
             [
              0.1111111111111111,
              "#46039f"
             ],
             [
              0.2222222222222222,
              "#7201a8"
             ],
             [
              0.3333333333333333,
              "#9c179e"
             ],
             [
              0.4444444444444444,
              "#bd3786"
             ],
             [
              0.5555555555555556,
              "#d8576b"
             ],
             [
              0.6666666666666666,
              "#ed7953"
             ],
             [
              0.7777777777777778,
              "#fb9f3a"
             ],
             [
              0.8888888888888888,
              "#fdca26"
             ],
             [
              1,
              "#f0f921"
             ]
            ],
            "type": "surface"
           }
          ],
          "table": [
           {
            "cells": {
             "fill": {
              "color": "#506784"
             },
             "line": {
              "color": "rgb(17,17,17)"
             }
            },
            "header": {
             "fill": {
              "color": "#2a3f5f"
             },
             "line": {
              "color": "rgb(17,17,17)"
             }
            },
            "type": "table"
           }
          ]
         },
         "layout": {
          "annotationdefaults": {
           "arrowcolor": "#f2f5fa",
           "arrowhead": 0,
           "arrowwidth": 1
          },
          "autotypenumbers": "strict",
          "coloraxis": {
           "colorbar": {
            "outlinewidth": 0,
            "ticks": ""
           }
          },
          "colorscale": {
           "diverging": [
            [
             0,
             "#8e0152"
            ],
            [
             0.1,
             "#c51b7d"
            ],
            [
             0.2,
             "#de77ae"
            ],
            [
             0.3,
             "#f1b6da"
            ],
            [
             0.4,
             "#fde0ef"
            ],
            [
             0.5,
             "#f7f7f7"
            ],
            [
             0.6,
             "#e6f5d0"
            ],
            [
             0.7,
             "#b8e186"
            ],
            [
             0.8,
             "#7fbc41"
            ],
            [
             0.9,
             "#4d9221"
            ],
            [
             1,
             "#276419"
            ]
           ],
           "sequential": [
            [
             0,
             "#0d0887"
            ],
            [
             0.1111111111111111,
             "#46039f"
            ],
            [
             0.2222222222222222,
             "#7201a8"
            ],
            [
             0.3333333333333333,
             "#9c179e"
            ],
            [
             0.4444444444444444,
             "#bd3786"
            ],
            [
             0.5555555555555556,
             "#d8576b"
            ],
            [
             0.6666666666666666,
             "#ed7953"
            ],
            [
             0.7777777777777778,
             "#fb9f3a"
            ],
            [
             0.8888888888888888,
             "#fdca26"
            ],
            [
             1,
             "#f0f921"
            ]
           ],
           "sequentialminus": [
            [
             0,
             "#0d0887"
            ],
            [
             0.1111111111111111,
             "#46039f"
            ],
            [
             0.2222222222222222,
             "#7201a8"
            ],
            [
             0.3333333333333333,
             "#9c179e"
            ],
            [
             0.4444444444444444,
             "#bd3786"
            ],
            [
             0.5555555555555556,
             "#d8576b"
            ],
            [
             0.6666666666666666,
             "#ed7953"
            ],
            [
             0.7777777777777778,
             "#fb9f3a"
            ],
            [
             0.8888888888888888,
             "#fdca26"
            ],
            [
             1,
             "#f0f921"
            ]
           ]
          },
          "colorway": [
           "#636efa",
           "#EF553B",
           "#00cc96",
           "#ab63fa",
           "#FFA15A",
           "#19d3f3",
           "#FF6692",
           "#B6E880",
           "#FF97FF",
           "#FECB52"
          ],
          "font": {
           "color": "#f2f5fa"
          },
          "geo": {
           "bgcolor": "rgb(17,17,17)",
           "lakecolor": "rgb(17,17,17)",
           "landcolor": "rgb(17,17,17)",
           "showlakes": true,
           "showland": true,
           "subunitcolor": "#506784"
          },
          "hoverlabel": {
           "align": "left"
          },
          "hovermode": "closest",
          "mapbox": {
           "style": "dark"
          },
          "paper_bgcolor": "rgb(17,17,17)",
          "plot_bgcolor": "rgb(17,17,17)",
          "polar": {
           "angularaxis": {
            "gridcolor": "#506784",
            "linecolor": "#506784",
            "ticks": ""
           },
           "bgcolor": "rgb(17,17,17)",
           "radialaxis": {
            "gridcolor": "#506784",
            "linecolor": "#506784",
            "ticks": ""
           }
          },
          "scene": {
           "xaxis": {
            "backgroundcolor": "rgb(17,17,17)",
            "gridcolor": "#506784",
            "gridwidth": 2,
            "linecolor": "#506784",
            "showbackground": true,
            "ticks": "",
            "zerolinecolor": "#C8D4E3"
           },
           "yaxis": {
            "backgroundcolor": "rgb(17,17,17)",
            "gridcolor": "#506784",
            "gridwidth": 2,
            "linecolor": "#506784",
            "showbackground": true,
            "ticks": "",
            "zerolinecolor": "#C8D4E3"
           },
           "zaxis": {
            "backgroundcolor": "rgb(17,17,17)",
            "gridcolor": "#506784",
            "gridwidth": 2,
            "linecolor": "#506784",
            "showbackground": true,
            "ticks": "",
            "zerolinecolor": "#C8D4E3"
           }
          },
          "shapedefaults": {
           "line": {
            "color": "#f2f5fa"
           }
          },
          "sliderdefaults": {
           "bgcolor": "#C8D4E3",
           "bordercolor": "rgb(17,17,17)",
           "borderwidth": 1,
           "tickwidth": 0
          },
          "ternary": {
           "aaxis": {
            "gridcolor": "#506784",
            "linecolor": "#506784",
            "ticks": ""
           },
           "baxis": {
            "gridcolor": "#506784",
            "linecolor": "#506784",
            "ticks": ""
           },
           "bgcolor": "rgb(17,17,17)",
           "caxis": {
            "gridcolor": "#506784",
            "linecolor": "#506784",
            "ticks": ""
           }
          },
          "title": {
           "x": 0.05
          },
          "updatemenudefaults": {
           "bgcolor": "#506784",
           "borderwidth": 0
          },
          "xaxis": {
           "automargin": true,
           "gridcolor": "#283442",
           "linecolor": "#506784",
           "ticks": "",
           "title": {
            "standoff": 15
           },
           "zerolinecolor": "#283442",
           "zerolinewidth": 2
          },
          "yaxis": {
           "automargin": true,
           "gridcolor": "#283442",
           "linecolor": "#506784",
           "ticks": "",
           "title": {
            "standoff": 15
           },
           "zerolinecolor": "#283442",
           "zerolinewidth": 2
          }
         }
        },
        "title": {
         "text": "Elbow Curve",
         "x": 0.5
        },
        "width": 750,
        "xaxis": {
         "anchor": "y",
         "domain": [
          0,
          1
         ],
         "title": {
          "text": "Number of Clusters"
         }
        },
        "yaxis": {
         "anchor": "x",
         "domain": [
          0,
          1
         ],
         "title": {
          "text": "Sum of Squared Error"
         }
        }
       }
      }
     },
     "metadata": {},
     "output_type": "display_data"
    }
   ],
   "source": [
    "X = stock_data[['Return', 'Volatility']]\n",
    "inertia_list = []\n",
    "\n",
    "for k in range(1,16):\n",
    "    kmeans = KMeans(n_clusters=k)\n",
    "    kmeans.fit(X)\n",
    "    inertia_list.append(kmeans.inertia_)\n",
    "\n",
    "px.line(inertia_list,\n",
    "        title='Elbow Curve',\n",
    "        width=750,\n",
    "        height=500,\n",
    "        labels={\n",
    "            \"index\":\"Number of Clusters\",\n",
    "            \"value\":\"Sum of Squared Error\"\n",
    "        },\n",
    "        template='plotly_dark'\n",
    "        ).update_layout(showlegend=False, title_x=0.5)"
   ]
  },
  {
   "cell_type": "code",
   "execution_count": 19,
   "metadata": {},
   "outputs": [],
   "source": [
    "silhouette = []\n",
    "\n",
    "for k in range(2,16):\n",
    "    kmeans = KMeans(n_clusters=k)\n",
    "    kmeans.fit(X)\n",
    "    silhouette.append(silhouette_score(X, kmeans.labels_))"
   ]
  },
  {
   "cell_type": "code",
   "execution_count": 21,
   "metadata": {},
   "outputs": [],
   "source": [
    "kmeans = KMeans(n_clusters=8).fit(X)\n",
    "labels = kmeans.labels_\n",
    "stock_data['KMeansCluster'] = labels"
   ]
  },
  {
   "cell_type": "code",
   "execution_count": 23,
   "metadata": {},
   "outputs": [
    {
     "data": {
      "application/vnd.plotly.v1+json": {
       "config": {
        "plotlyServerURL": "https://plot.ly"
       },
       "data": [
        {
         "customdata": [
          [
           "Health Care",
           "Agilent Technologies"
          ],
          [
           "Information Technology",
           "Apple Inc."
          ],
          [
           "Health Care",
           "AbbVie"
          ],
          [
           "Consumer Discretionary",
           "Airbnb"
          ],
          [
           "Health Care",
           "Abbott Laboratories"
          ],
          [
           "Financials",
           "Arch Capital Group"
          ],
          [
           "Information Technology",
           "Accenture"
          ],
          [
           "Information Technology",
           "Adobe Inc."
          ],
          [
           "Information Technology",
           "Analog Devices"
          ],
          [
           "Consumer Staples",
           "Archer Daniels Midland"
          ],
          [
           "Industrials",
           "Automatic Data Processing"
          ],
          [
           "Information Technology",
           "Autodesk"
          ],
          [
           "Utilities",
           "Ameren"
          ],
          [
           "Utilities",
           "American Electric Power"
          ],
          [
           "Utilities",
           "AES Corporation"
          ],
          [
           "Financials",
           "Aflac"
          ],
          [
           "Financials",
           "American International Group"
          ],
          [
           "Financials",
           "Assurant"
          ],
          [
           "Financials",
           "Arthur J. Gallagher & Co."
          ],
          [
           "Information Technology",
           "Akamai Technologies"
          ],
          [
           "Materials",
           "Albemarle Corporation"
          ],
          [
           "Health Care",
           "Align Technology"
          ],
          [
           "Financials",
           "Allstate"
          ],
          [
           "Industrials",
           "Allegion"
          ],
          [
           "Information Technology",
           "Applied Materials"
          ],
          [
           "Materials",
           "Amcor"
          ],
          [
           "Information Technology",
           "Advanced Micro Devices"
          ],
          [
           "Industrials",
           "Ametek"
          ],
          [
           "Health Care",
           "Amgen"
          ],
          [
           "Financials",
           "Ameriprise Financial"
          ],
          [
           "Real Estate",
           "American Tower"
          ],
          [
           "Industrials",
           "Amentum"
          ],
          [
           "Consumer Discretionary",
           "Amazon"
          ],
          [
           "Information Technology",
           "Arista Networks"
          ],
          [
           "Information Technology",
           "Ansys"
          ],
          [
           "Financials",
           "Aon"
          ],
          [
           "Industrials",
           "A. O. Smith"
          ],
          [
           "Energy",
           "APA Corporation"
          ],
          [
           "Materials",
           "Air Products"
          ],
          [
           "Information Technology",
           "Amphenol"
          ],
          [
           "Consumer Discretionary",
           "Aptiv"
          ],
          [
           "Real Estate",
           "Alexandria Real Estate Equities"
          ],
          [
           "Utilities",
           "Atmos Energy"
          ],
          [
           "Real Estate",
           "AvalonBay Communities"
          ],
          [
           "Information Technology",
           "Broadcom"
          ],
          [
           "Materials",
           "Avery Dennison"
          ],
          [
           "Utilities",
           "American Water Works"
          ],
          [
           "Industrials",
           "Axon Enterprise"
          ],
          [
           "Financials",
           "American Express"
          ],
          [
           "Consumer Discretionary",
           "AutoZone"
          ],
          [
           "Industrials",
           "Boeing"
          ],
          [
           "Financials",
           "Bank of America"
          ],
          [
           "Materials",
           "Ball Corporation"
          ],
          [
           "Health Care",
           "Baxter International"
          ],
          [
           "Consumer Discretionary",
           "Best Buy"
          ],
          [
           "Health Care",
           "Becton Dickinson"
          ],
          [
           "Financials",
           "Franklin Resources"
          ],
          [
           "Consumer Staples",
           "Brown–Forman"
          ],
          [
           "Consumer Staples",
           "Bunge Global"
          ],
          [
           "Health Care",
           "Biogen"
          ],
          [
           "Financials",
           "BNY Mellon"
          ],
          [
           "Consumer Discretionary",
           "Booking Holdings"
          ],
          [
           "Energy",
           "Baker Hughes"
          ],
          [
           "Industrials",
           "Builders FirstSource"
          ],
          [
           "Financials",
           "BlackRock"
          ],
          [
           "Health Care",
           "Bristol Myers Squibb"
          ],
          [
           "Industrials",
           "Broadridge Financial Solutions"
          ],
          [
           "Financials",
           "Berkshire Hathaway"
          ],
          [
           "Financials",
           "Brown & Brown"
          ],
          [
           "Health Care",
           "Boston Scientific"
          ],
          [
           "Consumer Discretionary",
           "BorgWarner"
          ],
          [
           "Financials",
           "Blackstone Inc."
          ],
          [
           "Real Estate",
           "BXP, Inc."
          ],
          [
           "Financials",
           "Citigroup"
          ],
          [
           "Consumer Staples",
           "Conagra Brands"
          ],
          [
           "Health Care",
           "Cardinal Health"
          ],
          [
           "Industrials",
           "Carrier Global"
          ],
          [
           "Industrials",
           "Caterpillar Inc."
          ],
          [
           "Financials",
           "Chubb Limited"
          ],
          [
           "Financials",
           "Cboe Global Markets"
          ],
          [
           "Real Estate",
           "CBRE Group"
          ],
          [
           "Real Estate",
           "Crown Castle"
          ],
          [
           "Consumer Discretionary",
           "Carnival"
          ],
          [
           "Information Technology",
           "Cadence Design Systems"
          ],
          [
           "Information Technology",
           "CDW"
          ],
          [
           "Materials",
           "Celanese"
          ],
          [
           "Utilities",
           "Constellation Energy"
          ],
          [
           "Materials",
           "CF Industries"
          ],
          [
           "Financials",
           "Citizens Financial Group"
          ],
          [
           "Consumer Staples",
           "Church & Dwight"
          ],
          [
           "Industrials",
           "C.H. Robinson"
          ],
          [
           "Communication Services",
           "Charter Communications"
          ],
          [
           "Health Care",
           "Cigna"
          ],
          [
           "Financials",
           "Cincinnati Financial"
          ],
          [
           "Consumer Staples",
           "Colgate-Palmolive"
          ],
          [
           "Consumer Staples",
           "Clorox"
          ],
          [
           "Communication Services",
           "Comcast"
          ],
          [
           "Financials",
           "CME Group"
          ],
          [
           "Consumer Discretionary",
           "Chipotle Mexican Grill"
          ],
          [
           "Industrials",
           "Cummins"
          ],
          [
           "Utilities",
           "CMS Energy"
          ],
          [
           "Health Care",
           "Centene Corporation"
          ],
          [
           "Utilities",
           "CenterPoint Energy"
          ],
          [
           "Financials",
           "Capital One"
          ],
          [
           "Health Care",
           "Cooper Companies (The)"
          ],
          [
           "Energy",
           "ConocoPhillips"
          ],
          [
           "Health Care",
           "Cencora"
          ],
          [
           "Consumer Staples",
           "Costco"
          ],
          [
           "Financials",
           "Corpay"
          ],
          [
           "Consumer Staples",
           "Campbell Soup Company"
          ],
          [
           "Industrials",
           "Copart"
          ],
          [
           "Real Estate",
           "Camden Property Trust"
          ],
          [
           "Health Care",
           "Charles River Laboratories"
          ],
          [
           "Information Technology",
           "Salesforce"
          ],
          [
           "Information Technology",
           "CrowdStrike"
          ],
          [
           "Information Technology",
           "Cisco"
          ],
          [
           "Real Estate",
           "CoStar Group"
          ],
          [
           "Industrials",
           "CSX Corporation"
          ],
          [
           "Industrials",
           "Cintas"
          ],
          [
           "Health Care",
           "Catalent"
          ],
          [
           "Energy",
           "Coterra"
          ],
          [
           "Information Technology",
           "Cognizant"
          ],
          [
           "Materials",
           "Corteva"
          ],
          [
           "Health Care",
           "CVS Health"
          ],
          [
           "Energy",
           "Chevron Corporation"
          ],
          [
           "Consumer Discretionary",
           "Caesars Entertainment"
          ],
          [
           "Utilities",
           "Dominion Energy"
          ],
          [
           "Industrials",
           "Delta Air Lines"
          ],
          [
           "Industrials",
           "Dayforce"
          ],
          [
           "Materials",
           "DuPont"
          ],
          [
           "Industrials",
           "Deere & Company"
          ],
          [
           "Consumer Discretionary",
           "Deckers Brands"
          ],
          [
           "Information Technology",
           "Dell Technologies"
          ],
          [
           "Financials",
           "Discover Financial"
          ],
          [
           "Consumer Staples",
           "Dollar General"
          ],
          [
           "Health Care",
           "Quest Diagnostics"
          ],
          [
           "Consumer Discretionary",
           "D. R. Horton"
          ],
          [
           "Health Care",
           "Danaher Corporation"
          ],
          [
           "Communication Services",
           "Walt Disney Company (The)"
          ],
          [
           "Real Estate",
           "Digital Realty"
          ],
          [
           "Consumer Staples",
           "Dollar Tree"
          ],
          [
           "Real Estate",
           "Healthpeak Properties"
          ],
          [
           "Industrials",
           "Dover Corporation"
          ],
          [
           "Materials",
           "Dow Inc."
          ],
          [
           "Consumer Discretionary",
           "Domino's"
          ],
          [
           "Consumer Discretionary",
           "Darden Restaurants"
          ],
          [
           "Utilities",
           "DTE Energy"
          ],
          [
           "Utilities",
           "Duke Energy"
          ],
          [
           "Health Care",
           "DaVita"
          ],
          [
           "Energy",
           "Devon Energy"
          ],
          [
           "Health Care",
           "Dexcom"
          ],
          [
           "Communication Services",
           "Electronic Arts"
          ],
          [
           "Consumer Discretionary",
           "eBay"
          ],
          [
           "Materials",
           "Ecolab"
          ],
          [
           "Utilities",
           "Consolidated Edison"
          ],
          [
           "Industrials",
           "Equifax"
          ],
          [
           "Financials",
           "Everest Group"
          ],
          [
           "Utilities",
           "Edison International"
          ],
          [
           "Consumer Staples",
           "Estée Lauder Companies (The)"
          ],
          [
           "Health Care",
           "Elevance Health"
          ],
          [
           "Materials",
           "Eastman Chemical Company"
          ],
          [
           "Industrials",
           "Emerson Electric"
          ],
          [
           "Information Technology",
           "Enphase Energy"
          ],
          [
           "Energy",
           "EOG Resources"
          ],
          [
           "Information Technology",
           "EPAM Systems"
          ],
          [
           "Real Estate",
           "Equinix"
          ],
          [
           "Real Estate",
           "Equity Residential"
          ],
          [
           "Energy",
           "EQT Corporation"
          ],
          [
           "Financials",
           "Erie Indemnity"
          ],
          [
           "Utilities",
           "Eversource Energy"
          ],
          [
           "Real Estate",
           "Essex Property Trust"
          ],
          [
           "Industrials",
           "Eaton Corporation"
          ],
          [
           "Utilities",
           "Entergy"
          ],
          [
           "Utilities",
           "Evergy"
          ],
          [
           "Health Care",
           "Edwards Lifesciences"
          ],
          [
           "Utilities",
           "Exelon"
          ],
          [
           "Industrials",
           "Expeditors International"
          ],
          [
           "Consumer Discretionary",
           "Expedia Group"
          ],
          [
           "Real Estate",
           "Extra Space Storage"
          ],
          [
           "Consumer Discretionary",
           "Ford Motor Company"
          ],
          [
           "Energy",
           "Diamondback Energy"
          ],
          [
           "Industrials",
           "Fastenal"
          ],
          [
           "Materials",
           "Freeport-McMoRan"
          ],
          [
           "Financials",
           "FactSet"
          ],
          [
           "Industrials",
           "FedEx"
          ],
          [
           "Utilities",
           "FirstEnergy"
          ],
          [
           "Information Technology",
           "F5, Inc."
          ],
          [
           "Financials",
           "Fiserv"
          ],
          [
           "Information Technology",
           "Fair Isaac"
          ],
          [
           "Financials",
           "Fidelity National Information Services"
          ],
          [
           "Financials",
           "Fifth Third Bancorp"
          ],
          [
           "Materials",
           "FMC Corporation"
          ],
          [
           "Communication Services",
           "Fox Corporation (Class B)"
          ],
          [
           "Communication Services",
           "Fox Corporation (Class A)"
          ],
          [
           "Real Estate",
           "Federal Realty Investment Trust"
          ],
          [
           "Information Technology",
           "First Solar"
          ],
          [
           "Information Technology",
           "Fortinet"
          ],
          [
           "Industrials",
           "Fortive"
          ],
          [
           "Industrials",
           "General Dynamics"
          ],
          [
           "Information Technology",
           "GoDaddy"
          ],
          [
           "Industrials",
           "GE Aerospace"
          ],
          [
           "Health Care",
           "GE HealthCare"
          ],
          [
           "Information Technology",
           "Gen Digital"
          ],
          [
           "Industrials",
           "GE Vernova"
          ],
          [
           "Health Care",
           "Gilead Sciences"
          ],
          [
           "Consumer Staples",
           "General Mills"
          ],
          [
           "Financials",
           "Globe Life"
          ],
          [
           "Information Technology",
           "Corning Inc."
          ],
          [
           "Consumer Discretionary",
           "General Motors"
          ],
          [
           "Industrials",
           "Generac"
          ],
          [
           "Communication Services",
           "Alphabet Inc. (Class C)"
          ],
          [
           "Communication Services",
           "Alphabet Inc. (Class A)"
          ],
          [
           "Consumer Discretionary",
           "Genuine Parts Company"
          ],
          [
           "Financials",
           "Global Payments"
          ],
          [
           "Consumer Discretionary",
           "Garmin"
          ],
          [
           "Financials",
           "Goldman Sachs"
          ],
          [
           "Industrials",
           "W. W. Grainger"
          ],
          [
           "Energy",
           "Halliburton"
          ],
          [
           "Consumer Discretionary",
           "Hasbro"
          ],
          [
           "Financials",
           "Huntington Bancshares"
          ],
          [
           "Health Care",
           "HCA Healthcare"
          ],
          [
           "Consumer Discretionary",
           "Home Depot (The)"
          ],
          [
           "Energy",
           "Hess Corporation"
          ],
          [
           "Financials",
           "Hartford (The)"
          ],
          [
           "Industrials",
           "Huntington Ingalls Industries"
          ],
          [
           "Consumer Discretionary",
           "Hilton Worldwide"
          ],
          [
           "Health Care",
           "Hologic"
          ],
          [
           "Industrials",
           "Honeywell"
          ],
          [
           "Information Technology",
           "Hewlett Packard Enterprise"
          ],
          [
           "Information Technology",
           "HP Inc."
          ],
          [
           "Consumer Staples",
           "Hormel Foods"
          ],
          [
           "Health Care",
           "Henry Schein"
          ],
          [
           "Real Estate",
           "Host Hotels & Resorts"
          ],
          [
           "Consumer Staples",
           "Hershey Company (The)"
          ],
          [
           "Industrials",
           "Hubbell Incorporated"
          ],
          [
           "Health Care",
           "Humana"
          ],
          [
           "Industrials",
           "Howmet Aerospace"
          ],
          [
           "Information Technology",
           "IBM"
          ],
          [
           "Financials",
           "Intercontinental Exchange"
          ],
          [
           "Health Care",
           "Idexx Laboratories"
          ],
          [
           "Industrials",
           "IDEX Corporation"
          ],
          [
           "Materials",
           "International Flavors & Fragrances"
          ],
          [
           "Health Care",
           "Incyte"
          ],
          [
           "Information Technology",
           "Intel"
          ],
          [
           "Information Technology",
           "Intuit"
          ],
          [
           "Real Estate",
           "Invitation Homes"
          ],
          [
           "Materials",
           "International Paper"
          ],
          [
           "Communication Services",
           "Interpublic Group of Companies (The)"
          ],
          [
           "Health Care",
           "IQVIA"
          ],
          [
           "Industrials",
           "Ingersoll Rand"
          ],
          [
           "Real Estate",
           "Iron Mountain"
          ],
          [
           "Health Care",
           "Intuitive Surgical"
          ],
          [
           "Information Technology",
           "Gartner"
          ],
          [
           "Industrials",
           "Illinois Tool Works"
          ],
          [
           "Financials",
           "Invesco"
          ],
          [
           "Industrials",
           "Jacobs Solutions"
          ],
          [
           "Industrials",
           "J.B. Hunt"
          ],
          [
           "Information Technology",
           "Jabil"
          ],
          [
           "Industrials",
           "Johnson Controls"
          ],
          [
           "Financials",
           "Jack Henry & Associates"
          ],
          [
           "Health Care",
           "Johnson & Johnson"
          ],
          [
           "Information Technology",
           "Juniper Networks"
          ],
          [
           "Financials",
           "JPMorgan Chase"
          ],
          [
           "Consumer Staples",
           "Kellanova"
          ],
          [
           "Consumer Staples",
           "Keurig Dr Pepper"
          ],
          [
           "Financials",
           "KeyCorp"
          ],
          [
           "Information Technology",
           "Keysight Technologies"
          ],
          [
           "Consumer Staples",
           "Kraft Heinz"
          ],
          [
           "Real Estate",
           "Kimco Realty"
          ],
          [
           "Financials",
           "KKR"
          ],
          [
           "Information Technology",
           "KLA Corporation"
          ],
          [
           "Consumer Staples",
           "Kimberly-Clark"
          ],
          [
           "Energy",
           "Kinder Morgan"
          ],
          [
           "Consumer Discretionary",
           "CarMax"
          ],
          [
           "Consumer Staples",
           "Coca-Cola Company (The)"
          ],
          [
           "Consumer Staples",
           "Kroger"
          ],
          [
           "Consumer Staples",
           "Kenvue"
          ],
          [
           "Financials",
           "Loews Corporation"
          ],
          [
           "Industrials",
           "Leidos"
          ],
          [
           "Consumer Discretionary",
           "Lennar"
          ],
          [
           "Health Care",
           "LabCorp"
          ],
          [
           "Industrials",
           "L3Harris"
          ],
          [
           "Materials",
           "Linde plc"
          ],
          [
           "Consumer Discretionary",
           "LKQ Corporation"
          ],
          [
           "Health Care",
           "Lilly (Eli)"
          ],
          [
           "Industrials",
           "Lockheed Martin"
          ],
          [
           "Utilities",
           "Alliant Energy"
          ],
          [
           "Consumer Discretionary",
           "Lowe's"
          ],
          [
           "Information Technology",
           "Lam Research"
          ],
          [
           "Consumer Discretionary",
           "Lululemon Athletica"
          ],
          [
           "Industrials",
           "Southwest Airlines"
          ],
          [
           "Consumer Discretionary",
           "Las Vegas Sands"
          ],
          [
           "Consumer Staples",
           "Lamb Weston"
          ],
          [
           "Materials",
           "LyondellBasell"
          ],
          [
           "Communication Services",
           "Live Nation Entertainment"
          ],
          [
           "Financials",
           "Mastercard"
          ],
          [
           "Real Estate",
           "Mid-America Apartment Communities"
          ],
          [
           "Consumer Discretionary",
           "Marriott International"
          ],
          [
           "Industrials",
           "Masco"
          ],
          [
           "Consumer Discretionary",
           "McDonald's"
          ],
          [
           "Information Technology",
           "Microchip Technology"
          ],
          [
           "Health Care",
           "McKesson Corporation"
          ],
          [
           "Financials",
           "Moody's Corporation"
          ],
          [
           "Consumer Staples",
           "Mondelez International"
          ],
          [
           "Health Care",
           "Medtronic"
          ],
          [
           "Financials",
           "MetLife"
          ],
          [
           "Communication Services",
           "Meta Platforms"
          ],
          [
           "Consumer Discretionary",
           "MGM Resorts"
          ],
          [
           "Consumer Discretionary",
           "Mohawk Industries"
          ],
          [
           "Consumer Staples",
           "McCormick & Company"
          ],
          [
           "Financials",
           "MarketAxess"
          ],
          [
           "Materials",
           "Martin Marietta Materials"
          ],
          [
           "Financials",
           "Marsh McLennan"
          ],
          [
           "Industrials",
           "3M"
          ],
          [
           "Consumer Staples",
           "Monster Beverage"
          ],
          [
           "Consumer Staples",
           "Altria"
          ],
          [
           "Health Care",
           "Molina Healthcare"
          ],
          [
           "Materials",
           "Mosaic Company (The)"
          ],
          [
           "Energy",
           "Marathon Petroleum"
          ],
          [
           "Information Technology",
           "Monolithic Power Systems"
          ],
          [
           "Health Care",
           "Merck & Co."
          ],
          [
           "Health Care",
           "Moderna"
          ],
          [
           "Energy",
           "Marathon Oil"
          ],
          [
           "Financials",
           "Morgan Stanley"
          ],
          [
           "Financials",
           "MSCI"
          ],
          [
           "Information Technology",
           "Microsoft"
          ],
          [
           "Information Technology",
           "Motorola Solutions"
          ],
          [
           "Financials",
           "M&T Bank"
          ],
          [
           "Communication Services",
           "Match Group"
          ],
          [
           "Health Care",
           "Mettler Toledo"
          ],
          [
           "Information Technology",
           "Micron Technology"
          ],
          [
           "Consumer Discretionary",
           "Norwegian Cruise Line Holdings"
          ],
          [
           "Financials",
           "Nasdaq, Inc."
          ],
          [
           "Industrials",
           "Nordson Corporation"
          ],
          [
           "Utilities",
           "NextEra Energy"
          ],
          [
           "Materials",
           "Newmont"
          ],
          [
           "Communication Services",
           "Netflix"
          ],
          [
           "Utilities",
           "NiSource"
          ],
          [
           "Consumer Discretionary",
           "Nike, Inc."
          ],
          [
           "Industrials",
           "Northrop Grumman"
          ],
          [
           "Information Technology",
           "ServiceNow"
          ],
          [
           "Utilities",
           "NRG Energy"
          ],
          [
           "Industrials",
           "Norfolk Southern Railway"
          ],
          [
           "Information Technology",
           "NetApp"
          ],
          [
           "Financials",
           "Northern Trust"
          ],
          [
           "Materials",
           "Nucor"
          ],
          [
           "Information Technology",
           "Nvidia"
          ],
          [
           "Consumer Discretionary",
           "NVR, Inc."
          ],
          [
           "Communication Services",
           "News Corp (Class B)"
          ],
          [
           "Communication Services",
           "News Corp (Class A)"
          ],
          [
           "Information Technology",
           "NXP Semiconductors"
          ],
          [
           "Real Estate",
           "Realty Income"
          ],
          [
           "Industrials",
           "Old Dominion"
          ],
          [
           "Energy",
           "ONEOK"
          ],
          [
           "Communication Services",
           "Omnicom Group"
          ],
          [
           "Information Technology",
           "ON Semiconductor"
          ],
          [
           "Information Technology",
           "Oracle Corporation"
          ],
          [
           "Consumer Discretionary",
           "O'Reilly Auto Parts"
          ],
          [
           "Industrials",
           "Otis Worldwide"
          ],
          [
           "Energy",
           "Occidental Petroleum"
          ],
          [
           "Information Technology",
           "Palo Alto Networks"
          ],
          [
           "Communication Services",
           "Paramount Global"
          ],
          [
           "Industrials",
           "Paycom"
          ],
          [
           "Industrials",
           "Paychex"
          ],
          [
           "Industrials",
           "Paccar"
          ],
          [
           "Utilities",
           "PG&E Corporation"
          ],
          [
           "Utilities",
           "Public Service Enterprise Group"
          ],
          [
           "Consumer Staples",
           "PepsiCo"
          ],
          [
           "Health Care",
           "Pfizer"
          ],
          [
           "Financials",
           "Principal Financial Group"
          ],
          [
           "Consumer Staples",
           "Procter & Gamble"
          ],
          [
           "Financials",
           "Progressive Corporation"
          ],
          [
           "Industrials",
           "Parker Hannifin"
          ],
          [
           "Consumer Discretionary",
           "PulteGroup"
          ],
          [
           "Materials",
           "Packaging Corporation of America"
          ],
          [
           "Real Estate",
           "Prologis"
          ],
          [
           "Information Technology",
           "Palantir Technologies"
          ],
          [
           "Consumer Staples",
           "Philip Morris International"
          ],
          [
           "Financials",
           "PNC Financial Services"
          ],
          [
           "Industrials",
           "Pentair"
          ],
          [
           "Utilities",
           "Pinnacle West"
          ],
          [
           "Health Care",
           "Insulet Corporation"
          ],
          [
           "Consumer Discretionary",
           "Pool Corporation"
          ],
          [
           "Materials",
           "PPG Industries"
          ],
          [
           "Utilities",
           "PPL Corporation"
          ],
          [
           "Financials",
           "Prudential Financial"
          ],
          [
           "Real Estate",
           "Public Storage"
          ],
          [
           "Energy",
           "Phillips 66"
          ],
          [
           "Information Technology",
           "PTC Inc."
          ],
          [
           "Industrials",
           "Quanta Services"
          ],
          [
           "Financials",
           "PayPal"
          ],
          [
           "Information Technology",
           "Qualcomm"
          ],
          [
           "Information Technology",
           "Qorvo"
          ],
          [
           "Consumer Discretionary",
           "Royal Caribbean Group"
          ],
          [
           "Real Estate",
           "Regency Centers"
          ],
          [
           "Health Care",
           "Regeneron Pharmaceuticals"
          ],
          [
           "Financials",
           "Regions Financial Corporation"
          ],
          [
           "Financials",
           "Raymond James Financial"
          ],
          [
           "Consumer Discretionary",
           "Ralph Lauren Corporation"
          ],
          [
           "Health Care",
           "ResMed"
          ],
          [
           "Industrials",
           "Rockwell Automation"
          ],
          [
           "Industrials",
           "Rollins, Inc."
          ],
          [
           "Information Technology",
           "Roper Technologies"
          ],
          [
           "Consumer Discretionary",
           "Ross Stores"
          ],
          [
           "Industrials",
           "Republic Services"
          ],
          [
           "Industrials",
           "RTX Corporation"
          ],
          [
           "Health Care",
           "Revvity"
          ],
          [
           "Real Estate",
           "SBA Communications"
          ],
          [
           "Consumer Discretionary",
           "Starbucks"
          ],
          [
           "Financials",
           "Charles Schwab Corporation"
          ],
          [
           "Materials",
           "Sherwin-Williams"
          ],
          [
           "Consumer Staples",
           "J.M. Smucker Company (The)"
          ],
          [
           "Energy",
           "Schlumberger"
          ],
          [
           "Information Technology",
           "Supermicro"
          ],
          [
           "Industrials",
           "Snap-on"
          ],
          [
           "Information Technology",
           "Synopsys"
          ],
          [
           "Utilities",
           "Southern Company"
          ],
          [
           "Health Care",
           "Solventum"
          ],
          [
           "Real Estate",
           "Simon Property Group"
          ],
          [
           "Financials",
           "S&P Global"
          ],
          [
           "Utilities",
           "Sempra"
          ],
          [
           "Health Care",
           "Steris"
          ],
          [
           "Materials",
           "Steel Dynamics"
          ],
          [
           "Financials",
           "State Street Corporation"
          ],
          [
           "Information Technology",
           "Seagate Technology"
          ],
          [
           "Consumer Staples",
           "Constellation Brands"
          ],
          [
           "Materials",
           "Smurfit WestRock"
          ],
          [
           "Industrials",
           "Stanley Black & Decker"
          ],
          [
           "Information Technology",
           "Skyworks Solutions"
          ],
          [
           "Financials",
           "Synchrony Financial"
          ],
          [
           "Health Care",
           "Stryker Corporation"
          ],
          [
           "Consumer Staples",
           "Sysco"
          ],
          [
           "Communication Services",
           "AT&T"
          ],
          [
           "Consumer Staples",
           "Molson Coors Beverage Company"
          ],
          [
           "Industrials",
           "TransDigm Group"
          ],
          [
           "Information Technology",
           "Teledyne Technologies"
          ],
          [
           "Health Care",
           "Bio-Techne"
          ],
          [
           "Information Technology",
           "TE Connectivity"
          ],
          [
           "Information Technology",
           "Teradyne"
          ],
          [
           "Financials",
           "Truist Financial"
          ],
          [
           "Health Care",
           "Teleflex"
          ],
          [
           "Consumer Staples",
           "Target Corporation"
          ],
          [
           "Consumer Discretionary",
           "TJX Companies"
          ],
          [
           "Health Care",
           "Thermo Fisher Scientific"
          ],
          [
           "Communication Services",
           "T-Mobile US"
          ],
          [
           "Consumer Discretionary",
           "Tapestry, Inc."
          ],
          [
           "Energy",
           "Targa Resources"
          ],
          [
           "Information Technology",
           "Trimble Inc."
          ],
          [
           "Financials",
           "T. Rowe Price"
          ],
          [
           "Financials",
           "Travelers Companies (The)"
          ],
          [
           "Consumer Discretionary",
           "Tractor Supply"
          ],
          [
           "Consumer Discretionary",
           "Tesla, Inc."
          ],
          [
           "Consumer Staples",
           "Tyson Foods"
          ],
          [
           "Industrials",
           "Trane Technologies"
          ],
          [
           "Communication Services",
           "Take-Two Interactive"
          ],
          [
           "Information Technology",
           "Texas Instruments"
          ],
          [
           "Industrials",
           "Textron"
          ],
          [
           "Information Technology",
           "Tyler Technologies"
          ],
          [
           "Industrials",
           "United Airlines Holdings"
          ],
          [
           "Industrials",
           "Uber"
          ],
          [
           "Real Estate",
           "UDR, Inc."
          ],
          [
           "Health Care",
           "Universal Health Services"
          ],
          [
           "Consumer Discretionary",
           "Ulta Beauty"
          ],
          [
           "Health Care",
           "UnitedHealth Group"
          ],
          [
           "Industrials",
           "Union Pacific Corporation"
          ],
          [
           "Industrials",
           "United Parcel Service"
          ],
          [
           "Industrials",
           "United Rentals"
          ],
          [
           "Financials",
           "U.S. Bancorp"
          ],
          [
           "Financials",
           "Visa Inc."
          ],
          [
           "Real Estate",
           "Vici Properties"
          ],
          [
           "Energy",
           "Valero Energy"
          ],
          [
           "Industrials",
           "Veralto"
          ],
          [
           "Materials",
           "Vulcan Materials Company"
          ],
          [
           "Industrials",
           "Verisk Analytics"
          ],
          [
           "Information Technology",
           "Verisign"
          ],
          [
           "Health Care",
           "Vertex Pharmaceuticals"
          ],
          [
           "Utilities",
           "Vistra Corp."
          ],
          [
           "Real Estate",
           "Ventas"
          ],
          [
           "Health Care",
           "Viatris"
          ],
          [
           "Communication Services",
           "Verizon"
          ],
          [
           "Industrials",
           "Wabtec"
          ],
          [
           "Health Care",
           "Waters Corporation"
          ],
          [
           "Consumer Staples",
           "Walgreens Boots Alliance"
          ],
          [
           "Communication Services",
           "Warner Bros. Discovery"
          ],
          [
           "Information Technology",
           "Western Digital"
          ],
          [
           "Utilities",
           "WEC Energy Group"
          ],
          [
           "Real Estate",
           "Welltower"
          ],
          [
           "Financials",
           "Wells Fargo"
          ],
          [
           "Industrials",
           "Waste Management"
          ],
          [
           "Energy",
           "Williams Companies"
          ],
          [
           "Consumer Staples",
           "Walmart"
          ],
          [
           "Financials",
           "W. R. Berkley Corporation"
          ],
          [
           "Health Care",
           "West Pharmaceutical Services"
          ],
          [
           "Financials",
           "Willis Towers Watson"
          ],
          [
           "Real Estate",
           "Weyerhaeuser"
          ],
          [
           "Consumer Discretionary",
           "Wynn Resorts"
          ],
          [
           "Utilities",
           "Xcel Energy"
          ],
          [
           "Energy",
           "ExxonMobil"
          ],
          [
           "Industrials",
           "Xylem Inc."
          ],
          [
           "Consumer Discretionary",
           "Yum! Brands"
          ],
          [
           "Health Care",
           "Zimmer Biomet"
          ],
          [
           "Information Technology",
           "Zebra Technologies"
          ],
          [
           "Health Care",
           "Zoetis"
          ]
         ],
         "hovertemplate": "<b>%{hovertext}</b><br><br>Volatility=%{x}<br>Return=%{y}<br>Sector=%{customdata[0]}<br>Security=%{customdata[1]}<br>KMeansCluster=%{marker.color}<extra></extra>",
         "hovertext": [
          "A",
          "AAPL",
          "ABBV",
          "ABNB",
          "ABT",
          "ACGL",
          "ACN",
          "ADBE",
          "ADI",
          "ADM",
          "ADP",
          "ADSK",
          "AEE",
          "AEP",
          "AES",
          "AFL",
          "AIG",
          "AIZ",
          "AJG",
          "AKAM",
          "ALB",
          "ALGN",
          "ALL",
          "ALLE",
          "AMAT",
          "AMCR",
          "AMD",
          "AME",
          "AMGN",
          "AMP",
          "AMT",
          "AMTM",
          "AMZN",
          "ANET",
          "ANSS",
          "AON",
          "AOS",
          "APA",
          "APD",
          "APH",
          "APTV",
          "ARE",
          "ATO",
          "AVB",
          "AVGO",
          "AVY",
          "AWK",
          "AXON",
          "AXP",
          "AZO",
          "BA",
          "BAC",
          "BALL",
          "BAX",
          "BBY",
          "BDX",
          "BEN",
          "BF.B",
          "BG",
          "BIIB",
          "BK",
          "BKNG",
          "BKR",
          "BLDR",
          "BLK",
          "BMY",
          "BR",
          "BRK.B",
          "BRO",
          "BSX",
          "BWA",
          "BX",
          "BXP",
          "C",
          "CAG",
          "CAH",
          "CARR",
          "CAT",
          "CB",
          "CBOE",
          "CBRE",
          "CCI",
          "CCL",
          "CDNS",
          "CDW",
          "CE",
          "CEG",
          "CF",
          "CFG",
          "CHD",
          "CHRW",
          "CHTR",
          "CI",
          "CINF",
          "CL",
          "CLX",
          "CMCSA",
          "CME",
          "CMG",
          "CMI",
          "CMS",
          "CNC",
          "CNP",
          "COF",
          "COO",
          "COP",
          "COR",
          "COST",
          "CPAY",
          "CPB",
          "CPRT",
          "CPT",
          "CRL",
          "CRM",
          "CRWD",
          "CSCO",
          "CSGP",
          "CSX",
          "CTAS",
          "CTLT",
          "CTRA",
          "CTSH",
          "CTVA",
          "CVS",
          "CVX",
          "CZR",
          "D",
          "DAL",
          "DAY",
          "DD",
          "DE",
          "DECK",
          "DELL",
          "DFS",
          "DG",
          "DGX",
          "DHI",
          "DHR",
          "DIS",
          "DLR",
          "DLTR",
          "DOC",
          "DOV",
          "DOW",
          "DPZ",
          "DRI",
          "DTE",
          "DUK",
          "DVA",
          "DVN",
          "DXCM",
          "EA",
          "EBAY",
          "ECL",
          "ED",
          "EFX",
          "EG",
          "EIX",
          "EL",
          "ELV",
          "EMN",
          "EMR",
          "ENPH",
          "EOG",
          "EPAM",
          "EQIX",
          "EQR",
          "EQT",
          "ERIE",
          "ES",
          "ESS",
          "ETN",
          "ETR",
          "EVRG",
          "EW",
          "EXC",
          "EXPD",
          "EXPE",
          "EXR",
          "F",
          "FANG",
          "FAST",
          "FCX",
          "FDS",
          "FDX",
          "FE",
          "FFIV",
          "FI",
          "FICO",
          "FIS",
          "FITB",
          "FMC",
          "FOX",
          "FOXA",
          "FRT",
          "FSLR",
          "FTNT",
          "FTV",
          "GD",
          "GDDY",
          "GE",
          "GEHC",
          "GEN",
          "GEV",
          "GILD",
          "GIS",
          "GL",
          "GLW",
          "GM",
          "GNRC",
          "GOOG",
          "GOOGL",
          "GPC",
          "GPN",
          "GRMN",
          "GS",
          "GWW",
          "HAL",
          "HAS",
          "HBAN",
          "HCA",
          "HD",
          "HES",
          "HIG",
          "HII",
          "HLT",
          "HOLX",
          "HON",
          "HPE",
          "HPQ",
          "HRL",
          "HSIC",
          "HST",
          "HSY",
          "HUBB",
          "HUM",
          "HWM",
          "IBM",
          "ICE",
          "IDXX",
          "IEX",
          "IFF",
          "INCY",
          "INTC",
          "INTU",
          "INVH",
          "IP",
          "IPG",
          "IQV",
          "IR",
          "IRM",
          "ISRG",
          "IT",
          "ITW",
          "IVZ",
          "J",
          "JBHT",
          "JBL",
          "JCI",
          "JKHY",
          "JNJ",
          "JNPR",
          "JPM",
          "K",
          "KDP",
          "KEY",
          "KEYS",
          "KHC",
          "KIM",
          "KKR",
          "KLAC",
          "KMB",
          "KMI",
          "KMX",
          "KO",
          "KR",
          "KVUE",
          "L",
          "LDOS",
          "LEN",
          "LH",
          "LHX",
          "LIN",
          "LKQ",
          "LLY",
          "LMT",
          "LNT",
          "LOW",
          "LRCX",
          "LULU",
          "LUV",
          "LVS",
          "LW",
          "LYB",
          "LYV",
          "MA",
          "MAA",
          "MAR",
          "MAS",
          "MCD",
          "MCHP",
          "MCK",
          "MCO",
          "MDLZ",
          "MDT",
          "MET",
          "META",
          "MGM",
          "MHK",
          "MKC",
          "MKTX",
          "MLM",
          "MMC",
          "MMM",
          "MNST",
          "MO",
          "MOH",
          "MOS",
          "MPC",
          "MPWR",
          "MRK",
          "MRNA",
          "MRO",
          "MS",
          "MSCI",
          "MSFT",
          "MSI",
          "MTB",
          "MTCH",
          "MTD",
          "MU",
          "NCLH",
          "NDAQ",
          "NDSN",
          "NEE",
          "NEM",
          "NFLX",
          "NI",
          "NKE",
          "NOC",
          "NOW",
          "NRG",
          "NSC",
          "NTAP",
          "NTRS",
          "NUE",
          "NVDA",
          "NVR",
          "NWS",
          "NWSA",
          "NXPI",
          "O",
          "ODFL",
          "OKE",
          "OMC",
          "ON",
          "ORCL",
          "ORLY",
          "OTIS",
          "OXY",
          "PANW",
          "PARA",
          "PAYC",
          "PAYX",
          "PCAR",
          "PCG",
          "PEG",
          "PEP",
          "PFE",
          "PFG",
          "PG",
          "PGR",
          "PH",
          "PHM",
          "PKG",
          "PLD",
          "PLTR",
          "PM",
          "PNC",
          "PNR",
          "PNW",
          "PODD",
          "POOL",
          "PPG",
          "PPL",
          "PRU",
          "PSA",
          "PSX",
          "PTC",
          "PWR",
          "PYPL",
          "QCOM",
          "QRVO",
          "RCL",
          "REG",
          "REGN",
          "RF",
          "RJF",
          "RL",
          "RMD",
          "ROK",
          "ROL",
          "ROP",
          "ROST",
          "RSG",
          "RTX",
          "RVTY",
          "SBAC",
          "SBUX",
          "SCHW",
          "SHW",
          "SJM",
          "SLB",
          "SMCI",
          "SNA",
          "SNPS",
          "SO",
          "SOLV",
          "SPG",
          "SPGI",
          "SRE",
          "STE",
          "STLD",
          "STT",
          "STX",
          "STZ",
          "SW",
          "SWK",
          "SWKS",
          "SYF",
          "SYK",
          "SYY",
          "T",
          "TAP",
          "TDG",
          "TDY",
          "TECH",
          "TEL",
          "TER",
          "TFC",
          "TFX",
          "TGT",
          "TJX",
          "TMO",
          "TMUS",
          "TPR",
          "TRGP",
          "TRMB",
          "TROW",
          "TRV",
          "TSCO",
          "TSLA",
          "TSN",
          "TT",
          "TTWO",
          "TXN",
          "TXT",
          "TYL",
          "UAL",
          "UBER",
          "UDR",
          "UHS",
          "ULTA",
          "UNH",
          "UNP",
          "UPS",
          "URI",
          "USB",
          "V",
          "VICI",
          "VLO",
          "VLTO",
          "VMC",
          "VRSK",
          "VRSN",
          "VRTX",
          "VST",
          "VTR",
          "VTRS",
          "VZ",
          "WAB",
          "WAT",
          "WBA",
          "WBD",
          "WDC",
          "WEC",
          "WELL",
          "WFC",
          "WM",
          "WMB",
          "WMT",
          "WRB",
          "WST",
          "WTW",
          "WY",
          "WYNN",
          "XEL",
          "XOM",
          "XYL",
          "YUM",
          "ZBH",
          "ZBRA",
          "ZTS"
         ],
         "legendgroup": "",
         "marker": {
          "color": [
           1,
           0,
           0,
           4,
           1,
           6,
           1,
           4,
           0,
           6,
           6,
           6,
           0,
           0,
           1,
           0,
           6,
           6,
           6,
           1,
           2,
           2,
           0,
           6,
           1,
           0,
           2,
           6,
           6,
           0,
           6,
           1,
           6,
           3,
           1,
           0,
           1,
           4,
           3,
           0,
           2,
           1,
           0,
           0,
           3,
           1,
           0,
           3,
           0,
           6,
           2,
           0,
           1,
           4,
           0,
           1,
           4,
           4,
           1,
           4,
           3,
           3,
           0,
           1,
           0,
           6,
           6,
           6,
           0,
           0,
           6,
           3,
           0,
           0,
           6,
           6,
           3,
           0,
           6,
           6,
           3,
           1,
           3,
           1,
           4,
           4,
           7,
           1,
           3,
           6,
           3,
           6,
           1,
           0,
           6,
           6,
           6,
           6,
           6,
           0,
           0,
           4,
           6,
           0,
           6,
           1,
           1,
           0,
           0,
           6,
           6,
           0,
           2,
           1,
           1,
           6,
           4,
           4,
           0,
           6,
           1,
           1,
           6,
           2,
           1,
           1,
           0,
           3,
           1,
           0,
           6,
           6,
           3,
           0,
           5,
           0,
           0,
           1,
           1,
           0,
           5,
           3,
           0,
           4,
           1,
           1,
           6,
           0,
           6,
           4,
           5,
           6,
           3,
           6,
           0,
           1,
           1,
           0,
           5,
           4,
           0,
           6,
           2,
           6,
           2,
           6,
           0,
           1,
           0,
           6,
           0,
           0,
           3,
           0,
           2,
           6,
           1,
           0,
           0,
           4,
           1,
           6,
           0,
           1,
           0,
           6,
           0,
           3,
           3,
           3,
           3,
           0,
           3,
           3,
           6,
           3,
           0,
           4,
           6,
           3,
           3,
           1,
           3,
           7,
           0,
           6,
           2,
           3,
           0,
           3,
           0,
           0,
           2,
           4,
           3,
           3,
           0,
           4,
           3,
           0,
           0,
           6,
           1,
           0,
           2,
           0,
           6,
           6,
           3,
           0,
           1,
           4,
           4,
           1,
           0,
           2,
           3,
           6,
           6,
           2,
           1,
           0,
           0,
           5,
           1,
           1,
           3,
           1,
           4,
           6,
           3,
           0,
           6,
           6,
           6,
           6,
           4,
           4,
           0,
           6,
           1,
           6,
           0,
           3,
           6,
           0,
           1,
           1,
           0,
           3,
           1,
           6,
           3,
           1,
           6,
           0,
           0,
           6,
           3,
           6,
           6,
           0,
           6,
           2,
           6,
           0,
           0,
           6,
           2,
           2,
           1,
           1,
           2,
           4,
           0,
           6,
           0,
           6,
           6,
           1,
           4,
           1,
           0,
           1,
           6,
           6,
           0,
           4,
           0,
           0,
           3,
           6,
           6,
           7,
           1,
           3,
           2,
           4,
           4,
           1,
           4,
           5,
           0,
           3,
           1,
           1,
           3,
           3,
           1,
           6,
           0,
           7,
           0,
           1,
           3,
           3,
           3,
           3,
           2,
           6,
           0,
           7,
           1,
           3,
           0,
           4,
           7,
           0,
           6,
           6,
           1,
           6,
           1,
           3,
           6,
           1,
           3,
           6,
           6,
           4,
           0,
           1,
           0,
           6,
           1,
           0,
           3,
           1,
           6,
           6,
           6,
           0,
           0,
           0,
           0,
           4,
           7,
           3,
           0,
           0,
           0,
           0,
           1,
           4,
           0,
           6,
           0,
           4,
           6,
           0,
           3,
           1,
           2,
           7,
           0,
           4,
           3,
           0,
           6,
           3,
           1,
           6,
           1,
           1,
           6,
           3,
           0,
           6,
           1,
           6,
           6,
           1,
           4,
           5,
           0,
           4,
           3,
           6,
           6,
           6,
           0,
           1,
           6,
           0,
           0,
           1,
           6,
           6,
           4,
           3,
           6,
           1,
           3,
           4,
           6,
           6,
           1,
           6,
           1,
           0,
           4,
           1,
           6,
           1,
           3,
           1,
           7,
           1,
           1,
           6,
           6,
           3,
           6,
           3,
           6,
           0,
           1,
           3,
           7,
           1,
           0,
           0,
           2,
           6,
           1,
           1,
           0,
           0,
           6,
           6,
           1,
           0,
           6,
           6,
           1,
           6,
           7,
           3,
           4,
           6,
           3,
           1,
           5,
           1,
           0,
           0,
           3,
           0,
           6,
           3,
           3,
           1,
           4,
           6,
           1,
           1,
           6,
           6,
           1,
           1,
           4,
           3,
           1
          ],
          "coloraxis": "coloraxis",
          "symbol": "circle"
         },
         "mode": "markers",
         "name": "",
         "orientation": "v",
         "showlegend": false,
         "type": "scatter",
         "x": [
          0.26,
          0.244,
          0.213,
          0.322,
          0.184,
          0.228,
          0.253,
          0.356,
          0.339,
          0.217,
          0.152,
          0.268,
          0.165,
          0.174,
          0.365,
          0.181,
          0.215,
          0.186,
          0.171,
          0.263,
          0.605,
          0.365,
          0.215,
          0.206,
          0.436,
          0.213,
          0.49,
          0.232,
          0.246,
          0.192,
          0.244,
          0.424,
          0.264,
          0.413,
          0.204,
          0.2,
          0.257,
          0.346,
          0.248,
          0.284,
          0.422,
          0.252,
          0.14,
          0.173,
          0.499,
          0.185,
          0.196,
          0.351,
          0.233,
          0.203,
          0.329,
          0.22,
          0.225,
          0.273,
          0.333,
          0.174,
          0.297,
          0.244,
          0.252,
          0.259,
          0.178,
          0.246,
          0.256,
          0.471,
          0.183,
          0.285,
          0.185,
          0.137,
          0.168,
          0.169,
          0.293,
          0.285,
          0.299,
          0.267,
          0.219,
          0.199,
          0.3,
          0.253,
          0.188,
          0.207,
          0.252,
          0.221,
          0.433,
          0.358,
          0.295,
          0.281,
          0.548,
          0.279,
          0.268,
          0.157,
          0.312,
          0.339,
          0.201,
          0.214,
          0.146,
          0.205,
          0.211,
          0.158,
          0.306,
          0.235,
          0.157,
          0.321,
          0.205,
          0.272,
          0.256,
          0.224,
          0.169,
          0.201,
          0.239,
          0.202,
          0.2,
          0.2,
          0.328,
          0.384,
          0.484,
          0.188,
          0.284,
          0.205,
          0.18,
          0.088,
          0.208,
          0.193,
          0.22,
          0.352,
          0.185,
          0.454,
          0.225,
          0.311,
          0.369,
          0.206,
          0.216,
          0.391,
          0.635,
          0.289,
          0.558,
          0.206,
          0.336,
          0.224,
          0.232,
          0.25,
          0.466,
          0.221,
          0.207,
          0.191,
          0.304,
          0.235,
          0.18,
          0.159,
          0.293,
          0.25,
          0.734,
          0.182,
          0.25,
          0.178,
          0.164,
          0.283,
          0.252,
          0.169,
          0.465,
          0.255,
          0.22,
          0.23,
          0.597,
          0.209,
          0.473,
          0.252,
          0.191,
          0.295,
          0.278,
          0.206,
          0.2,
          0.29,
          0.239,
          0.157,
          0.518,
          0.17,
          0.191,
          0.358,
          0.255,
          0.395,
          0.271,
          0.228,
          0.363,
          0.222,
          0.335,
          0.142,
          0.284,
          0.171,
          0.301,
          0.204,
          0.234,
          0.414,
          0.175,
          0.179,
          0.178,
          0.54,
          0.373,
          0.22,
          0.158,
          0.23,
          0.33,
          0.283,
          0.29,
          0.436,
          0.213,
          0.18,
          1.002,
          0.279,
          0.307,
          0.35,
          0.265,
          0.267,
          0.374,
          0.303,
          0.356,
          0.232,
          0.203,
          0.27,
          0.286,
          0.247,
          0.254,
          0.204,
          0.228,
          0.212,
          0.432,
          0.189,
          0.161,
          0.17,
          0.375,
          0.317,
          0.285,
          0.246,
          0.227,
          0.195,
          0.306,
          0.393,
          0.337,
          0.218,
          0.158,
          0.265,
          0.206,
          0.226,
          0.281,
          0.566,
          0.275,
          0.209,
          0.334,
          0.205,
          0.271,
          0.275,
          0.235,
          0.265,
          0.229,
          0.157,
          0.282,
          0.193,
          0.264,
          0.417,
          0.225,
          0.179,
          0.16,
          0.083,
          0.221,
          0.272,
          0.166,
          0.308,
          0.307,
          0.189,
          0.214,
          0.316,
          0.477,
          0.185,
          0.169,
          0.328,
          0.126,
          0.226,
          0.269,
          0.161,
          0.203,
          0.312,
          0.228,
          0.184,
          0.143,
          0.326,
          0.3,
          0.164,
          0.164,
          0.217,
          0.455,
          0.384,
          0.395,
          0.298,
          0.557,
          0.188,
          0.268,
          0.156,
          0.197,
          0.202,
          0.242,
          0.188,
          0.389,
          0.253,
          0.184,
          0.169,
          0.182,
          0.204,
          0.321,
          0.365,
          0.42,
          0.219,
          0.303,
          0.24,
          0.132,
          0.33,
          0.242,
          0.194,
          0.409,
          0.312,
          0.301,
          0.542,
          0.221,
          0.591,
          0.254,
          0.243,
          0.281,
          0.204,
          0.155,
          0.242,
          0.326,
          0.322,
          0.522,
          0.532,
          0.194,
          0.218,
          0.259,
          0.379,
          0.289,
          0.148,
          0.373,
          0.165,
          0.365,
          0.373,
          0.252,
          0.325,
          0.237,
          0.284,
          0.548,
          0.224,
          0.204,
          0.203,
          0.378,
          0.164,
          0.335,
          0.188,
          0.204,
          0.486,
          0.33,
          0.183,
          0.198,
          0.215,
          0.326,
          0.542,
          0.398,
          0.186,
          0.267,
          0.182,
          0.172,
          0.162,
          0.228,
          0.217,
          0.144,
          0.202,
          0.252,
          0.316,
          0.19,
          0.25,
          0.499,
          0.199,
          0.229,
          0.265,
          0.17,
          0.383,
          0.305,
          0.184,
          0.153,
          0.227,
          0.225,
          0.262,
          0.214,
          0.319,
          0.3,
          0.415,
          0.549,
          0.335,
          0.176,
          0.223,
          0.234,
          0.229,
          0.285,
          0.397,
          0.265,
          0.218,
          0.178,
          0.216,
          0.15,
          0.168,
          0.266,
          0.273,
          0.412,
          0.263,
          0.214,
          0.219,
          0.253,
          0.999,
          0.23,
          0.348,
          0.164,
          0.31,
          0.214,
          0.154,
          0.171,
          0.21,
          0.287,
          0.212,
          0.324,
          0.194,
          0.274,
          0.332,
          0.404,
          0.31,
          0.18,
          0.188,
          0.194,
          0.243,
          0.229,
          0.23,
          0.371,
          0.199,
          0.484,
          0.246,
          0.31,
          0.317,
          0.178,
          0.192,
          0.168,
          0.32,
          0.209,
          0.234,
          0.22,
          0.249,
          0.25,
          0.622,
          0.202,
          0.232,
          0.216,
          0.281,
          0.235,
          0.237,
          0.437,
          0.382,
          0.182,
          0.306,
          0.353,
          0.256,
          0.18,
          0.274,
          0.334,
          0.238,
          0.173,
          0.186,
          0.304,
          0.186,
          0.236,
          0.199,
          0.175,
          0.192,
          0.599,
          0.2,
          0.262,
          0.21,
          0.215,
          0.278,
          0.54,
          0.463,
          0.393,
          0.165,
          0.171,
          0.258,
          0.188,
          0.181,
          0.179,
          0.219,
          0.38,
          0.158,
          0.223,
          0.29,
          0.24,
          0.191,
          0.215,
          0.162,
          0.224,
          0.271,
          0.249
         ],
         "xaxis": "x",
         "y": [
          -0.019,
          0.307,
          0.195,
          -0.179,
          -0.075,
          0.175,
          -0.13,
          -0.211,
          0.23,
          0.047,
          0.177,
          0.142,
          0.282,
          0.26,
          0.043,
          0.381,
          0.089,
          0.104,
          0.198,
          -0.098,
          -0.348,
          -0.627,
          0.229,
          0.113,
          -0.119,
          0.263,
          -0.293,
          0.041,
          0.147,
          0.325,
          0.169,
          0.011,
          0.091,
          0.529,
          -0.089,
          0.218,
          -0.116,
          -0.347,
          0.415,
          0.318,
          -0.442,
          -0.128,
          0.299,
          0.337,
          0.388,
          -0.052,
          0.215,
          0.645,
          0.331,
          0.126,
          -0.427,
          0.301,
          -0.086,
          -0.253,
          0.245,
          -0.076,
          -0.378,
          -0.384,
          -0.156,
          -0.359,
          0.437,
          0.415,
          0.349,
          -0.138,
          0.269,
          0.11,
          0.065,
          0.112,
          0.312,
          0.326,
          0.145,
          0.422,
          0.308,
          0.198,
          0.032,
          0.006,
          0.423,
          0.216,
          0.141,
          0.115,
          0.538,
          -0.016,
          0.53,
          -0.136,
          -0.392,
          -0.245,
          0.971,
          0.032,
          0.434,
          -0.007,
          0.489,
          0.13,
          -0.129,
          0.319,
          0.119,
          0.053,
          0.06,
          0.048,
          0.075,
          0.317,
          0.27,
          -0.365,
          0.081,
          0.264,
          0.113,
          -0.026,
          -0.057,
          0.244,
          0.229,
          0.136,
          0.003,
          0.287,
          -0.471,
          -0.007,
          -0.069,
          0.164,
          -0.22,
          -0.188,
          0.378,
          -0.004,
          -0.119,
          -0.098,
          0.15,
          -0.451,
          -0.055,
          -0.056,
          0.314,
          0.455,
          -0.01,
          0.246,
          0.15,
          0.132,
          0.452,
          0.286,
          -0.809,
          0.284,
          0.21,
          -0.047,
          -0.163,
          0.37,
          -1.172,
          0.432,
          0.206,
          -0.191,
          -0.068,
          -0.083,
          0.196,
          0.313,
          0.158,
          -0.182,
          -0.721,
          0.081,
          0.385,
          0.144,
          0.209,
          -0.005,
          -0.061,
          0.271,
          -1.119,
          -0.341,
          0.278,
          0.032,
          -0.508,
          0.124,
          -0.677,
          0.041,
          0.225,
          -0.018,
          0.36,
          0.161,
          0.307,
          0.218,
          0.593,
          0.257,
          -0.388,
          0.121,
          -0.014,
          0.197,
          0.221,
          -0.238,
          0.003,
          0.115,
          0.208,
          -0.03,
          0.169,
          0.161,
          0.331,
          0.392,
          0.635,
          0.48,
          0.381,
          0.311,
          0.492,
          0.474,
          0.173,
          0.444,
          0.217,
          -0.269,
          0.091,
          0.537,
          0.488,
          -0.028,
          0.394,
          1.085,
          0.272,
          0.058,
          -0.265,
          0.541,
          0.356,
          0.553,
          0.249,
          0.249,
          -0.366,
          -0.359,
          0.549,
          0.404,
          0.21,
          -0.343,
          0.404,
          0.277,
          0.186,
          0.082,
          -0.149,
          0.204,
          -0.638,
          0.199,
          0.087,
          0.036,
          0.367,
          0.279,
          0.002,
          -0.185,
          -0.233,
          -0.126,
          0.223,
          -0.492,
          0.597,
          0.154,
          0.171,
          -0.501,
          -0.143,
          0.304,
          0.29,
          -0.996,
          -0.112,
          -0.083,
          0.676,
          -0.135,
          -0.264,
          0.084,
          0.72,
          0.37,
          0.125,
          0.006,
          0.176,
          0.195,
          -0.238,
          -0.18,
          0.37,
          0.048,
          -0.018,
          0.065,
          0.27,
          0.514,
          0.126,
          0.274,
          -0.009,
          -0.107,
          0.279,
          0.528,
          -0.006,
          0.141,
          0.506,
          -0.019,
          0.094,
          0.21,
          0.257,
          0.07,
          0.538,
          0.135,
          0.059,
          0.206,
          0.027,
          -0.503,
          0.108,
          0.34,
          0.3,
          0.171,
          -0.32,
          -0.619,
          -0.143,
          -0.078,
          -0.401,
          -0.192,
          0.297,
          0.077,
          0.26,
          0.048,
          0.092,
          -0.028,
          -0.175,
          -0.044,
          0.236,
          -0.111,
          0.059,
          0.177,
          0.229,
          -0.207,
          0.224,
          0.2,
          0.429,
          0.11,
          0.1,
          0.73,
          -0.07,
          0.404,
          -0.34,
          -0.234,
          -0.22,
          0.074,
          -0.339,
          -0.826,
          0.22,
          0.425,
          0.006,
          -0.014,
          0.443,
          0.494,
          -0.033,
          0.094,
          0.212,
          0.647,
          0.383,
          -0.143,
          0.48,
          0.538,
          0.373,
          0.428,
          -0.453,
          0.142,
          0.275,
          0.809,
          -0.043,
          0.399,
          0.302,
          -0.421,
          0.751,
          0.271,
          0.074,
          0.044,
          -0.026,
          0.165,
          -0.128,
          0.408,
          0.189,
          -0.112,
          0.583,
          0.124,
          0.07,
          -0.26,
          0.353,
          -0.035,
          0.178,
          0.16,
          -0.087,
          0.247,
          0.557,
          -0.03,
          0.028,
          0.038,
          0.037,
          0.343,
          0.255,
          0.292,
          0.384,
          -0.238,
          0.854,
          0.534,
          0.365,
          0.368,
          0.316,
          0.329,
          -0.1,
          -0.213,
          0.28,
          0.18,
          0.208,
          -0.272,
          0.035,
          0.363,
          0.422,
          0.071,
          -0.661,
          0.758,
          0.234,
          -0.227,
          0.384,
          0.321,
          0.071,
          0.397,
          -0.073,
          0.147,
          -0.05,
          -0.083,
          0.098,
          0.426,
          0.183,
          0.108,
          0.031,
          0.136,
          0.156,
          -0.149,
          -0.284,
          -1.56,
          0.284,
          -0.164,
          0.427,
          0.071,
          0.169,
          0.132,
          0.212,
          -0.088,
          0.039,
          0.334,
          0.19,
          -0.089,
          0.156,
          0.06,
          -0.245,
          0.458,
          0.005,
          -0.109,
          0.423,
          -0.198,
          0.118,
          0.073,
          0.042,
          0.043,
          0.085,
          0.288,
          -0.241,
          -0.014,
          0.185,
          -0.048,
          0.441,
          -0.033,
          0.782,
          -0.023,
          -0.015,
          0.154,
          0.127,
          0.379,
          0.123,
          0.393,
          0.099,
          0.311,
          -0.096,
          0.468,
          0.781,
          -0.118,
          0.234,
          0.314,
          -0.574,
          0.098,
          -0.146,
          -0.149,
          0.304,
          0.224,
          0.031,
          0.08,
          -0.126,
          0.237,
          0.091,
          0.166,
          -0.152,
          0.146,
          1.359,
          0.567,
          -0.222,
          0.051,
          0.442,
          -0.036,
          -1.198,
          -0.083,
          0.22,
          0.276,
          0.529,
          0.269,
          0.053,
          0.583,
          0.485,
          0.007,
          -0.254,
          0.122,
          -0.099,
          -0.117,
          0.171,
          0.169,
          -0.045,
          -0.077,
          -0.272,
          0.473,
          -0.141
         ],
         "yaxis": "y"
        }
       ],
       "layout": {
        "coloraxis": {
         "colorbar": {
          "title": {
           "text": "KMeansCluster"
          }
         },
         "colorscale": [
          [
           0,
           "#0d0887"
          ],
          [
           0.1111111111111111,
           "#46039f"
          ],
          [
           0.2222222222222222,
           "#7201a8"
          ],
          [
           0.3333333333333333,
           "#9c179e"
          ],
          [
           0.4444444444444444,
           "#bd3786"
          ],
          [
           0.5555555555555556,
           "#d8576b"
          ],
          [
           0.6666666666666666,
           "#ed7953"
          ],
          [
           0.7777777777777778,
           "#fb9f3a"
          ],
          [
           0.8888888888888888,
           "#fdca26"
          ],
          [
           1,
           "#f0f921"
          ]
         ]
        },
        "height": 500,
        "legend": {
         "tracegroupgap": 0
        },
        "template": {
         "data": {
          "bar": [
           {
            "error_x": {
             "color": "#f2f5fa"
            },
            "error_y": {
             "color": "#f2f5fa"
            },
            "marker": {
             "line": {
              "color": "rgb(17,17,17)",
              "width": 0.5
             },
             "pattern": {
              "fillmode": "overlay",
              "size": 10,
              "solidity": 0.2
             }
            },
            "type": "bar"
           }
          ],
          "barpolar": [
           {
            "marker": {
             "line": {
              "color": "rgb(17,17,17)",
              "width": 0.5
             },
             "pattern": {
              "fillmode": "overlay",
              "size": 10,
              "solidity": 0.2
             }
            },
            "type": "barpolar"
           }
          ],
          "carpet": [
           {
            "aaxis": {
             "endlinecolor": "#A2B1C6",
             "gridcolor": "#506784",
             "linecolor": "#506784",
             "minorgridcolor": "#506784",
             "startlinecolor": "#A2B1C6"
            },
            "baxis": {
             "endlinecolor": "#A2B1C6",
             "gridcolor": "#506784",
             "linecolor": "#506784",
             "minorgridcolor": "#506784",
             "startlinecolor": "#A2B1C6"
            },
            "type": "carpet"
           }
          ],
          "choropleth": [
           {
            "colorbar": {
             "outlinewidth": 0,
             "ticks": ""
            },
            "type": "choropleth"
           }
          ],
          "contour": [
           {
            "colorbar": {
             "outlinewidth": 0,
             "ticks": ""
            },
            "colorscale": [
             [
              0,
              "#0d0887"
             ],
             [
              0.1111111111111111,
              "#46039f"
             ],
             [
              0.2222222222222222,
              "#7201a8"
             ],
             [
              0.3333333333333333,
              "#9c179e"
             ],
             [
              0.4444444444444444,
              "#bd3786"
             ],
             [
              0.5555555555555556,
              "#d8576b"
             ],
             [
              0.6666666666666666,
              "#ed7953"
             ],
             [
              0.7777777777777778,
              "#fb9f3a"
             ],
             [
              0.8888888888888888,
              "#fdca26"
             ],
             [
              1,
              "#f0f921"
             ]
            ],
            "type": "contour"
           }
          ],
          "contourcarpet": [
           {
            "colorbar": {
             "outlinewidth": 0,
             "ticks": ""
            },
            "type": "contourcarpet"
           }
          ],
          "heatmap": [
           {
            "colorbar": {
             "outlinewidth": 0,
             "ticks": ""
            },
            "colorscale": [
             [
              0,
              "#0d0887"
             ],
             [
              0.1111111111111111,
              "#46039f"
             ],
             [
              0.2222222222222222,
              "#7201a8"
             ],
             [
              0.3333333333333333,
              "#9c179e"
             ],
             [
              0.4444444444444444,
              "#bd3786"
             ],
             [
              0.5555555555555556,
              "#d8576b"
             ],
             [
              0.6666666666666666,
              "#ed7953"
             ],
             [
              0.7777777777777778,
              "#fb9f3a"
             ],
             [
              0.8888888888888888,
              "#fdca26"
             ],
             [
              1,
              "#f0f921"
             ]
            ],
            "type": "heatmap"
           }
          ],
          "heatmapgl": [
           {
            "colorbar": {
             "outlinewidth": 0,
             "ticks": ""
            },
            "colorscale": [
             [
              0,
              "#0d0887"
             ],
             [
              0.1111111111111111,
              "#46039f"
             ],
             [
              0.2222222222222222,
              "#7201a8"
             ],
             [
              0.3333333333333333,
              "#9c179e"
             ],
             [
              0.4444444444444444,
              "#bd3786"
             ],
             [
              0.5555555555555556,
              "#d8576b"
             ],
             [
              0.6666666666666666,
              "#ed7953"
             ],
             [
              0.7777777777777778,
              "#fb9f3a"
             ],
             [
              0.8888888888888888,
              "#fdca26"
             ],
             [
              1,
              "#f0f921"
             ]
            ],
            "type": "heatmapgl"
           }
          ],
          "histogram": [
           {
            "marker": {
             "pattern": {
              "fillmode": "overlay",
              "size": 10,
              "solidity": 0.2
             }
            },
            "type": "histogram"
           }
          ],
          "histogram2d": [
           {
            "colorbar": {
             "outlinewidth": 0,
             "ticks": ""
            },
            "colorscale": [
             [
              0,
              "#0d0887"
             ],
             [
              0.1111111111111111,
              "#46039f"
             ],
             [
              0.2222222222222222,
              "#7201a8"
             ],
             [
              0.3333333333333333,
              "#9c179e"
             ],
             [
              0.4444444444444444,
              "#bd3786"
             ],
             [
              0.5555555555555556,
              "#d8576b"
             ],
             [
              0.6666666666666666,
              "#ed7953"
             ],
             [
              0.7777777777777778,
              "#fb9f3a"
             ],
             [
              0.8888888888888888,
              "#fdca26"
             ],
             [
              1,
              "#f0f921"
             ]
            ],
            "type": "histogram2d"
           }
          ],
          "histogram2dcontour": [
           {
            "colorbar": {
             "outlinewidth": 0,
             "ticks": ""
            },
            "colorscale": [
             [
              0,
              "#0d0887"
             ],
             [
              0.1111111111111111,
              "#46039f"
             ],
             [
              0.2222222222222222,
              "#7201a8"
             ],
             [
              0.3333333333333333,
              "#9c179e"
             ],
             [
              0.4444444444444444,
              "#bd3786"
             ],
             [
              0.5555555555555556,
              "#d8576b"
             ],
             [
              0.6666666666666666,
              "#ed7953"
             ],
             [
              0.7777777777777778,
              "#fb9f3a"
             ],
             [
              0.8888888888888888,
              "#fdca26"
             ],
             [
              1,
              "#f0f921"
             ]
            ],
            "type": "histogram2dcontour"
           }
          ],
          "mesh3d": [
           {
            "colorbar": {
             "outlinewidth": 0,
             "ticks": ""
            },
            "type": "mesh3d"
           }
          ],
          "parcoords": [
           {
            "line": {
             "colorbar": {
              "outlinewidth": 0,
              "ticks": ""
             }
            },
            "type": "parcoords"
           }
          ],
          "pie": [
           {
            "automargin": true,
            "type": "pie"
           }
          ],
          "scatter": [
           {
            "marker": {
             "line": {
              "color": "#283442"
             }
            },
            "type": "scatter"
           }
          ],
          "scatter3d": [
           {
            "line": {
             "colorbar": {
              "outlinewidth": 0,
              "ticks": ""
             }
            },
            "marker": {
             "colorbar": {
              "outlinewidth": 0,
              "ticks": ""
             }
            },
            "type": "scatter3d"
           }
          ],
          "scattercarpet": [
           {
            "marker": {
             "colorbar": {
              "outlinewidth": 0,
              "ticks": ""
             }
            },
            "type": "scattercarpet"
           }
          ],
          "scattergeo": [
           {
            "marker": {
             "colorbar": {
              "outlinewidth": 0,
              "ticks": ""
             }
            },
            "type": "scattergeo"
           }
          ],
          "scattergl": [
           {
            "marker": {
             "line": {
              "color": "#283442"
             }
            },
            "type": "scattergl"
           }
          ],
          "scattermapbox": [
           {
            "marker": {
             "colorbar": {
              "outlinewidth": 0,
              "ticks": ""
             }
            },
            "type": "scattermapbox"
           }
          ],
          "scatterpolar": [
           {
            "marker": {
             "colorbar": {
              "outlinewidth": 0,
              "ticks": ""
             }
            },
            "type": "scatterpolar"
           }
          ],
          "scatterpolargl": [
           {
            "marker": {
             "colorbar": {
              "outlinewidth": 0,
              "ticks": ""
             }
            },
            "type": "scatterpolargl"
           }
          ],
          "scatterternary": [
           {
            "marker": {
             "colorbar": {
              "outlinewidth": 0,
              "ticks": ""
             }
            },
            "type": "scatterternary"
           }
          ],
          "surface": [
           {
            "colorbar": {
             "outlinewidth": 0,
             "ticks": ""
            },
            "colorscale": [
             [
              0,
              "#0d0887"
             ],
             [
              0.1111111111111111,
              "#46039f"
             ],
             [
              0.2222222222222222,
              "#7201a8"
             ],
             [
              0.3333333333333333,
              "#9c179e"
             ],
             [
              0.4444444444444444,
              "#bd3786"
             ],
             [
              0.5555555555555556,
              "#d8576b"
             ],
             [
              0.6666666666666666,
              "#ed7953"
             ],
             [
              0.7777777777777778,
              "#fb9f3a"
             ],
             [
              0.8888888888888888,
              "#fdca26"
             ],
             [
              1,
              "#f0f921"
             ]
            ],
            "type": "surface"
           }
          ],
          "table": [
           {
            "cells": {
             "fill": {
              "color": "#506784"
             },
             "line": {
              "color": "rgb(17,17,17)"
             }
            },
            "header": {
             "fill": {
              "color": "#2a3f5f"
             },
             "line": {
              "color": "rgb(17,17,17)"
             }
            },
            "type": "table"
           }
          ]
         },
         "layout": {
          "annotationdefaults": {
           "arrowcolor": "#f2f5fa",
           "arrowhead": 0,
           "arrowwidth": 1
          },
          "autotypenumbers": "strict",
          "coloraxis": {
           "colorbar": {
            "outlinewidth": 0,
            "ticks": ""
           }
          },
          "colorscale": {
           "diverging": [
            [
             0,
             "#8e0152"
            ],
            [
             0.1,
             "#c51b7d"
            ],
            [
             0.2,
             "#de77ae"
            ],
            [
             0.3,
             "#f1b6da"
            ],
            [
             0.4,
             "#fde0ef"
            ],
            [
             0.5,
             "#f7f7f7"
            ],
            [
             0.6,
             "#e6f5d0"
            ],
            [
             0.7,
             "#b8e186"
            ],
            [
             0.8,
             "#7fbc41"
            ],
            [
             0.9,
             "#4d9221"
            ],
            [
             1,
             "#276419"
            ]
           ],
           "sequential": [
            [
             0,
             "#0d0887"
            ],
            [
             0.1111111111111111,
             "#46039f"
            ],
            [
             0.2222222222222222,
             "#7201a8"
            ],
            [
             0.3333333333333333,
             "#9c179e"
            ],
            [
             0.4444444444444444,
             "#bd3786"
            ],
            [
             0.5555555555555556,
             "#d8576b"
            ],
            [
             0.6666666666666666,
             "#ed7953"
            ],
            [
             0.7777777777777778,
             "#fb9f3a"
            ],
            [
             0.8888888888888888,
             "#fdca26"
            ],
            [
             1,
             "#f0f921"
            ]
           ],
           "sequentialminus": [
            [
             0,
             "#0d0887"
            ],
            [
             0.1111111111111111,
             "#46039f"
            ],
            [
             0.2222222222222222,
             "#7201a8"
            ],
            [
             0.3333333333333333,
             "#9c179e"
            ],
            [
             0.4444444444444444,
             "#bd3786"
            ],
            [
             0.5555555555555556,
             "#d8576b"
            ],
            [
             0.6666666666666666,
             "#ed7953"
            ],
            [
             0.7777777777777778,
             "#fb9f3a"
            ],
            [
             0.8888888888888888,
             "#fdca26"
            ],
            [
             1,
             "#f0f921"
            ]
           ]
          },
          "colorway": [
           "#636efa",
           "#EF553B",
           "#00cc96",
           "#ab63fa",
           "#FFA15A",
           "#19d3f3",
           "#FF6692",
           "#B6E880",
           "#FF97FF",
           "#FECB52"
          ],
          "font": {
           "color": "#f2f5fa"
          },
          "geo": {
           "bgcolor": "rgb(17,17,17)",
           "lakecolor": "rgb(17,17,17)",
           "landcolor": "rgb(17,17,17)",
           "showlakes": true,
           "showland": true,
           "subunitcolor": "#506784"
          },
          "hoverlabel": {
           "align": "left"
          },
          "hovermode": "closest",
          "mapbox": {
           "style": "dark"
          },
          "paper_bgcolor": "rgb(17,17,17)",
          "plot_bgcolor": "rgb(17,17,17)",
          "polar": {
           "angularaxis": {
            "gridcolor": "#506784",
            "linecolor": "#506784",
            "ticks": ""
           },
           "bgcolor": "rgb(17,17,17)",
           "radialaxis": {
            "gridcolor": "#506784",
            "linecolor": "#506784",
            "ticks": ""
           }
          },
          "scene": {
           "xaxis": {
            "backgroundcolor": "rgb(17,17,17)",
            "gridcolor": "#506784",
            "gridwidth": 2,
            "linecolor": "#506784",
            "showbackground": true,
            "ticks": "",
            "zerolinecolor": "#C8D4E3"
           },
           "yaxis": {
            "backgroundcolor": "rgb(17,17,17)",
            "gridcolor": "#506784",
            "gridwidth": 2,
            "linecolor": "#506784",
            "showbackground": true,
            "ticks": "",
            "zerolinecolor": "#C8D4E3"
           },
           "zaxis": {
            "backgroundcolor": "rgb(17,17,17)",
            "gridcolor": "#506784",
            "gridwidth": 2,
            "linecolor": "#506784",
            "showbackground": true,
            "ticks": "",
            "zerolinecolor": "#C8D4E3"
           }
          },
          "shapedefaults": {
           "line": {
            "color": "#f2f5fa"
           }
          },
          "sliderdefaults": {
           "bgcolor": "#C8D4E3",
           "bordercolor": "rgb(17,17,17)",
           "borderwidth": 1,
           "tickwidth": 0
          },
          "ternary": {
           "aaxis": {
            "gridcolor": "#506784",
            "linecolor": "#506784",
            "ticks": ""
           },
           "baxis": {
            "gridcolor": "#506784",
            "linecolor": "#506784",
            "ticks": ""
           },
           "bgcolor": "rgb(17,17,17)",
           "caxis": {
            "gridcolor": "#506784",
            "linecolor": "#506784",
            "ticks": ""
           }
          },
          "title": {
           "x": 0.05
          },
          "updatemenudefaults": {
           "bgcolor": "#506784",
           "borderwidth": 0
          },
          "xaxis": {
           "automargin": true,
           "gridcolor": "#283442",
           "linecolor": "#506784",
           "ticks": "",
           "title": {
            "standoff": 15
           },
           "zerolinecolor": "#283442",
           "zerolinewidth": 2
          },
          "yaxis": {
           "automargin": true,
           "gridcolor": "#283442",
           "linecolor": "#506784",
           "ticks": "",
           "title": {
            "standoff": 15
           },
           "zerolinecolor": "#283442",
           "zerolinewidth": 2
          }
         }
        },
        "title": {
         "text": "S&P 500 stocks by Volatility/Return",
         "x": 0.5
        },
        "width": 750,
        "xaxis": {
         "anchor": "y",
         "domain": [
          0,
          1
         ],
         "title": {
          "text": "Volatility"
         }
        },
        "yaxis": {
         "anchor": "x",
         "domain": [
          0,
          1
         ],
         "title": {
          "text": "Return"
         }
        }
       }
      }
     },
     "metadata": {},
     "output_type": "display_data"
    }
   ],
   "source": [
    "px.scatter(stock_data,\n",
    "           x='Volatility',\n",
    "           y='Return',\n",
    "           hover_data=['Sector','Security'],\n",
    "           hover_name='Symbol',\n",
    "           title='S&P 500 stocks by Volatility/Return',\n",
    "           color='KMeansCluster',\n",
    "           width=750,\n",
    "           height=500,\n",
    "           template='plotly_dark'\n",
    "           ).update_layout(title_x=0.5)"
   ]
  },
  {
   "cell_type": "code",
   "execution_count": 24,
   "metadata": {},
   "outputs": [
    {
     "data": {
      "application/vnd.plotly.v1+json": {
       "config": {
        "plotlyServerURL": "https://plot.ly"
       },
       "data": [
        {
         "hovertemplate": "variable=0<br>Number of Clusters=%{x}<br>Sum of Squared Error=%{y}<extra></extra>",
         "legendgroup": "0",
         "line": {
          "color": "#636efa",
          "dash": "solid"
         },
         "marker": {
          "symbol": "circle"
         },
         "mode": "lines",
         "name": "0",
         "orientation": "v",
         "showlegend": true,
         "type": "scatter",
         "x": [
          0,
          1,
          2,
          3,
          4,
          5,
          6,
          7,
          8,
          9,
          10,
          11,
          12,
          13
         ],
         "xaxis": "x",
         "y": [
          0.4792094691524901,
          0.431465595260728,
          0.42443009547952126,
          0.40994164472771455,
          0.3846907462787238,
          0.40298544419735377,
          0.3583122665815752,
          0.37205928911081154,
          0.35352103662520284,
          0.34381429728847823,
          0.3492666241553571,
          0.34222313701155466,
          0.35456909425063265,
          0.34087570430578656
         ],
         "yaxis": "y"
        }
       ],
       "layout": {
        "height": 500,
        "legend": {
         "title": {
          "text": "variable"
         },
         "tracegroupgap": 0
        },
        "showlegend": false,
        "template": {
         "data": {
          "bar": [
           {
            "error_x": {
             "color": "#f2f5fa"
            },
            "error_y": {
             "color": "#f2f5fa"
            },
            "marker": {
             "line": {
              "color": "rgb(17,17,17)",
              "width": 0.5
             },
             "pattern": {
              "fillmode": "overlay",
              "size": 10,
              "solidity": 0.2
             }
            },
            "type": "bar"
           }
          ],
          "barpolar": [
           {
            "marker": {
             "line": {
              "color": "rgb(17,17,17)",
              "width": 0.5
             },
             "pattern": {
              "fillmode": "overlay",
              "size": 10,
              "solidity": 0.2
             }
            },
            "type": "barpolar"
           }
          ],
          "carpet": [
           {
            "aaxis": {
             "endlinecolor": "#A2B1C6",
             "gridcolor": "#506784",
             "linecolor": "#506784",
             "minorgridcolor": "#506784",
             "startlinecolor": "#A2B1C6"
            },
            "baxis": {
             "endlinecolor": "#A2B1C6",
             "gridcolor": "#506784",
             "linecolor": "#506784",
             "minorgridcolor": "#506784",
             "startlinecolor": "#A2B1C6"
            },
            "type": "carpet"
           }
          ],
          "choropleth": [
           {
            "colorbar": {
             "outlinewidth": 0,
             "ticks": ""
            },
            "type": "choropleth"
           }
          ],
          "contour": [
           {
            "colorbar": {
             "outlinewidth": 0,
             "ticks": ""
            },
            "colorscale": [
             [
              0,
              "#0d0887"
             ],
             [
              0.1111111111111111,
              "#46039f"
             ],
             [
              0.2222222222222222,
              "#7201a8"
             ],
             [
              0.3333333333333333,
              "#9c179e"
             ],
             [
              0.4444444444444444,
              "#bd3786"
             ],
             [
              0.5555555555555556,
              "#d8576b"
             ],
             [
              0.6666666666666666,
              "#ed7953"
             ],
             [
              0.7777777777777778,
              "#fb9f3a"
             ],
             [
              0.8888888888888888,
              "#fdca26"
             ],
             [
              1,
              "#f0f921"
             ]
            ],
            "type": "contour"
           }
          ],
          "contourcarpet": [
           {
            "colorbar": {
             "outlinewidth": 0,
             "ticks": ""
            },
            "type": "contourcarpet"
           }
          ],
          "heatmap": [
           {
            "colorbar": {
             "outlinewidth": 0,
             "ticks": ""
            },
            "colorscale": [
             [
              0,
              "#0d0887"
             ],
             [
              0.1111111111111111,
              "#46039f"
             ],
             [
              0.2222222222222222,
              "#7201a8"
             ],
             [
              0.3333333333333333,
              "#9c179e"
             ],
             [
              0.4444444444444444,
              "#bd3786"
             ],
             [
              0.5555555555555556,
              "#d8576b"
             ],
             [
              0.6666666666666666,
              "#ed7953"
             ],
             [
              0.7777777777777778,
              "#fb9f3a"
             ],
             [
              0.8888888888888888,
              "#fdca26"
             ],
             [
              1,
              "#f0f921"
             ]
            ],
            "type": "heatmap"
           }
          ],
          "heatmapgl": [
           {
            "colorbar": {
             "outlinewidth": 0,
             "ticks": ""
            },
            "colorscale": [
             [
              0,
              "#0d0887"
             ],
             [
              0.1111111111111111,
              "#46039f"
             ],
             [
              0.2222222222222222,
              "#7201a8"
             ],
             [
              0.3333333333333333,
              "#9c179e"
             ],
             [
              0.4444444444444444,
              "#bd3786"
             ],
             [
              0.5555555555555556,
              "#d8576b"
             ],
             [
              0.6666666666666666,
              "#ed7953"
             ],
             [
              0.7777777777777778,
              "#fb9f3a"
             ],
             [
              0.8888888888888888,
              "#fdca26"
             ],
             [
              1,
              "#f0f921"
             ]
            ],
            "type": "heatmapgl"
           }
          ],
          "histogram": [
           {
            "marker": {
             "pattern": {
              "fillmode": "overlay",
              "size": 10,
              "solidity": 0.2
             }
            },
            "type": "histogram"
           }
          ],
          "histogram2d": [
           {
            "colorbar": {
             "outlinewidth": 0,
             "ticks": ""
            },
            "colorscale": [
             [
              0,
              "#0d0887"
             ],
             [
              0.1111111111111111,
              "#46039f"
             ],
             [
              0.2222222222222222,
              "#7201a8"
             ],
             [
              0.3333333333333333,
              "#9c179e"
             ],
             [
              0.4444444444444444,
              "#bd3786"
             ],
             [
              0.5555555555555556,
              "#d8576b"
             ],
             [
              0.6666666666666666,
              "#ed7953"
             ],
             [
              0.7777777777777778,
              "#fb9f3a"
             ],
             [
              0.8888888888888888,
              "#fdca26"
             ],
             [
              1,
              "#f0f921"
             ]
            ],
            "type": "histogram2d"
           }
          ],
          "histogram2dcontour": [
           {
            "colorbar": {
             "outlinewidth": 0,
             "ticks": ""
            },
            "colorscale": [
             [
              0,
              "#0d0887"
             ],
             [
              0.1111111111111111,
              "#46039f"
             ],
             [
              0.2222222222222222,
              "#7201a8"
             ],
             [
              0.3333333333333333,
              "#9c179e"
             ],
             [
              0.4444444444444444,
              "#bd3786"
             ],
             [
              0.5555555555555556,
              "#d8576b"
             ],
             [
              0.6666666666666666,
              "#ed7953"
             ],
             [
              0.7777777777777778,
              "#fb9f3a"
             ],
             [
              0.8888888888888888,
              "#fdca26"
             ],
             [
              1,
              "#f0f921"
             ]
            ],
            "type": "histogram2dcontour"
           }
          ],
          "mesh3d": [
           {
            "colorbar": {
             "outlinewidth": 0,
             "ticks": ""
            },
            "type": "mesh3d"
           }
          ],
          "parcoords": [
           {
            "line": {
             "colorbar": {
              "outlinewidth": 0,
              "ticks": ""
             }
            },
            "type": "parcoords"
           }
          ],
          "pie": [
           {
            "automargin": true,
            "type": "pie"
           }
          ],
          "scatter": [
           {
            "marker": {
             "line": {
              "color": "#283442"
             }
            },
            "type": "scatter"
           }
          ],
          "scatter3d": [
           {
            "line": {
             "colorbar": {
              "outlinewidth": 0,
              "ticks": ""
             }
            },
            "marker": {
             "colorbar": {
              "outlinewidth": 0,
              "ticks": ""
             }
            },
            "type": "scatter3d"
           }
          ],
          "scattercarpet": [
           {
            "marker": {
             "colorbar": {
              "outlinewidth": 0,
              "ticks": ""
             }
            },
            "type": "scattercarpet"
           }
          ],
          "scattergeo": [
           {
            "marker": {
             "colorbar": {
              "outlinewidth": 0,
              "ticks": ""
             }
            },
            "type": "scattergeo"
           }
          ],
          "scattergl": [
           {
            "marker": {
             "line": {
              "color": "#283442"
             }
            },
            "type": "scattergl"
           }
          ],
          "scattermapbox": [
           {
            "marker": {
             "colorbar": {
              "outlinewidth": 0,
              "ticks": ""
             }
            },
            "type": "scattermapbox"
           }
          ],
          "scatterpolar": [
           {
            "marker": {
             "colorbar": {
              "outlinewidth": 0,
              "ticks": ""
             }
            },
            "type": "scatterpolar"
           }
          ],
          "scatterpolargl": [
           {
            "marker": {
             "colorbar": {
              "outlinewidth": 0,
              "ticks": ""
             }
            },
            "type": "scatterpolargl"
           }
          ],
          "scatterternary": [
           {
            "marker": {
             "colorbar": {
              "outlinewidth": 0,
              "ticks": ""
             }
            },
            "type": "scatterternary"
           }
          ],
          "surface": [
           {
            "colorbar": {
             "outlinewidth": 0,
             "ticks": ""
            },
            "colorscale": [
             [
              0,
              "#0d0887"
             ],
             [
              0.1111111111111111,
              "#46039f"
             ],
             [
              0.2222222222222222,
              "#7201a8"
             ],
             [
              0.3333333333333333,
              "#9c179e"
             ],
             [
              0.4444444444444444,
              "#bd3786"
             ],
             [
              0.5555555555555556,
              "#d8576b"
             ],
             [
              0.6666666666666666,
              "#ed7953"
             ],
             [
              0.7777777777777778,
              "#fb9f3a"
             ],
             [
              0.8888888888888888,
              "#fdca26"
             ],
             [
              1,
              "#f0f921"
             ]
            ],
            "type": "surface"
           }
          ],
          "table": [
           {
            "cells": {
             "fill": {
              "color": "#506784"
             },
             "line": {
              "color": "rgb(17,17,17)"
             }
            },
            "header": {
             "fill": {
              "color": "#2a3f5f"
             },
             "line": {
              "color": "rgb(17,17,17)"
             }
            },
            "type": "table"
           }
          ]
         },
         "layout": {
          "annotationdefaults": {
           "arrowcolor": "#f2f5fa",
           "arrowhead": 0,
           "arrowwidth": 1
          },
          "autotypenumbers": "strict",
          "coloraxis": {
           "colorbar": {
            "outlinewidth": 0,
            "ticks": ""
           }
          },
          "colorscale": {
           "diverging": [
            [
             0,
             "#8e0152"
            ],
            [
             0.1,
             "#c51b7d"
            ],
            [
             0.2,
             "#de77ae"
            ],
            [
             0.3,
             "#f1b6da"
            ],
            [
             0.4,
             "#fde0ef"
            ],
            [
             0.5,
             "#f7f7f7"
            ],
            [
             0.6,
             "#e6f5d0"
            ],
            [
             0.7,
             "#b8e186"
            ],
            [
             0.8,
             "#7fbc41"
            ],
            [
             0.9,
             "#4d9221"
            ],
            [
             1,
             "#276419"
            ]
           ],
           "sequential": [
            [
             0,
             "#0d0887"
            ],
            [
             0.1111111111111111,
             "#46039f"
            ],
            [
             0.2222222222222222,
             "#7201a8"
            ],
            [
             0.3333333333333333,
             "#9c179e"
            ],
            [
             0.4444444444444444,
             "#bd3786"
            ],
            [
             0.5555555555555556,
             "#d8576b"
            ],
            [
             0.6666666666666666,
             "#ed7953"
            ],
            [
             0.7777777777777778,
             "#fb9f3a"
            ],
            [
             0.8888888888888888,
             "#fdca26"
            ],
            [
             1,
             "#f0f921"
            ]
           ],
           "sequentialminus": [
            [
             0,
             "#0d0887"
            ],
            [
             0.1111111111111111,
             "#46039f"
            ],
            [
             0.2222222222222222,
             "#7201a8"
            ],
            [
             0.3333333333333333,
             "#9c179e"
            ],
            [
             0.4444444444444444,
             "#bd3786"
            ],
            [
             0.5555555555555556,
             "#d8576b"
            ],
            [
             0.6666666666666666,
             "#ed7953"
            ],
            [
             0.7777777777777778,
             "#fb9f3a"
            ],
            [
             0.8888888888888888,
             "#fdca26"
            ],
            [
             1,
             "#f0f921"
            ]
           ]
          },
          "colorway": [
           "#636efa",
           "#EF553B",
           "#00cc96",
           "#ab63fa",
           "#FFA15A",
           "#19d3f3",
           "#FF6692",
           "#B6E880",
           "#FF97FF",
           "#FECB52"
          ],
          "font": {
           "color": "#f2f5fa"
          },
          "geo": {
           "bgcolor": "rgb(17,17,17)",
           "lakecolor": "rgb(17,17,17)",
           "landcolor": "rgb(17,17,17)",
           "showlakes": true,
           "showland": true,
           "subunitcolor": "#506784"
          },
          "hoverlabel": {
           "align": "left"
          },
          "hovermode": "closest",
          "mapbox": {
           "style": "dark"
          },
          "paper_bgcolor": "rgb(17,17,17)",
          "plot_bgcolor": "rgb(17,17,17)",
          "polar": {
           "angularaxis": {
            "gridcolor": "#506784",
            "linecolor": "#506784",
            "ticks": ""
           },
           "bgcolor": "rgb(17,17,17)",
           "radialaxis": {
            "gridcolor": "#506784",
            "linecolor": "#506784",
            "ticks": ""
           }
          },
          "scene": {
           "xaxis": {
            "backgroundcolor": "rgb(17,17,17)",
            "gridcolor": "#506784",
            "gridwidth": 2,
            "linecolor": "#506784",
            "showbackground": true,
            "ticks": "",
            "zerolinecolor": "#C8D4E3"
           },
           "yaxis": {
            "backgroundcolor": "rgb(17,17,17)",
            "gridcolor": "#506784",
            "gridwidth": 2,
            "linecolor": "#506784",
            "showbackground": true,
            "ticks": "",
            "zerolinecolor": "#C8D4E3"
           },
           "zaxis": {
            "backgroundcolor": "rgb(17,17,17)",
            "gridcolor": "#506784",
            "gridwidth": 2,
            "linecolor": "#506784",
            "showbackground": true,
            "ticks": "",
            "zerolinecolor": "#C8D4E3"
           }
          },
          "shapedefaults": {
           "line": {
            "color": "#f2f5fa"
           }
          },
          "sliderdefaults": {
           "bgcolor": "#C8D4E3",
           "bordercolor": "rgb(17,17,17)",
           "borderwidth": 1,
           "tickwidth": 0
          },
          "ternary": {
           "aaxis": {
            "gridcolor": "#506784",
            "linecolor": "#506784",
            "ticks": ""
           },
           "baxis": {
            "gridcolor": "#506784",
            "linecolor": "#506784",
            "ticks": ""
           },
           "bgcolor": "rgb(17,17,17)",
           "caxis": {
            "gridcolor": "#506784",
            "linecolor": "#506784",
            "ticks": ""
           }
          },
          "title": {
           "x": 0.05
          },
          "updatemenudefaults": {
           "bgcolor": "#506784",
           "borderwidth": 0
          },
          "xaxis": {
           "automargin": true,
           "gridcolor": "#283442",
           "linecolor": "#506784",
           "ticks": "",
           "title": {
            "standoff": 15
           },
           "zerolinecolor": "#283442",
           "zerolinewidth": 2
          },
          "yaxis": {
           "automargin": true,
           "gridcolor": "#283442",
           "linecolor": "#506784",
           "ticks": "",
           "title": {
            "standoff": 15
           },
           "zerolinecolor": "#283442",
           "zerolinewidth": 2
          }
         }
        },
        "title": {
         "text": "Silhouette Curve",
         "x": 0.5
        },
        "width": 750,
        "xaxis": {
         "anchor": "y",
         "domain": [
          0,
          1
         ],
         "title": {
          "text": "Number of Clusters"
         }
        },
        "yaxis": {
         "anchor": "x",
         "domain": [
          0,
          1
         ],
         "title": {
          "text": "Sum of Squared Error"
         }
        }
       }
      }
     },
     "metadata": {},
     "output_type": "display_data"
    }
   ],
   "source": [
    "px.line(silhouette,\n",
    "        title='Silhouette Curve',\n",
    "        width=750,\n",
    "        height=500,\n",
    "        labels={\n",
    "            \"index\":\"Number of Clusters\",\n",
    "            \"value\":\"Sum of Squared Error\"\n",
    "        },\n",
    "        template='plotly_dark'\n",
    "        ).update_layout(showlegend=False, title_x=0.5)"
   ]
  },
  {
   "cell_type": "code",
   "execution_count": 25,
   "metadata": {},
   "outputs": [],
   "source": [
    "dividends = []\n",
    "\n",
    "for i in ticker_list:\n",
    "    info = yf.Ticker(i).info\n",
    "    div = info.get('trailingAnnualDividendYield')\n",
    "    dividends.append(div)"
   ]
  },
  {
   "cell_type": "code",
   "execution_count": 33,
   "metadata": {},
   "outputs": [],
   "source": [
    "stock_data['Dividends'] = list(dividends)\n",
    "\n",
    "dividend_stock_data = stock_data[stock_data['Dividends'] > 0]"
   ]
  },
  {
   "cell_type": "code",
   "execution_count": 34,
   "metadata": {},
   "outputs": [
    {
     "data": {
      "text/html": [
       "<div>\n",
       "<style scoped>\n",
       "    .dataframe tbody tr th:only-of-type {\n",
       "        vertical-align: middle;\n",
       "    }\n",
       "\n",
       "    .dataframe tbody tr th {\n",
       "        vertical-align: top;\n",
       "    }\n",
       "\n",
       "    .dataframe thead th {\n",
       "        text-align: right;\n",
       "    }\n",
       "</style>\n",
       "<table border=\"1\" class=\"dataframe\">\n",
       "  <thead>\n",
       "    <tr style=\"text-align: right;\">\n",
       "      <th></th>\n",
       "      <th>Price</th>\n",
       "      <th>Symbol</th>\n",
       "      <th>Security</th>\n",
       "      <th>Sector</th>\n",
       "      <th>Return</th>\n",
       "      <th>Volatility</th>\n",
       "      <th>SharpeRatio</th>\n",
       "      <th>KMeansCluster</th>\n",
       "      <th>Dividends</th>\n",
       "    </tr>\n",
       "    <tr>\n",
       "      <th>Ticker</th>\n",
       "      <th></th>\n",
       "      <th></th>\n",
       "      <th></th>\n",
       "      <th></th>\n",
       "      <th></th>\n",
       "      <th></th>\n",
       "      <th></th>\n",
       "      <th></th>\n",
       "      <th></th>\n",
       "    </tr>\n",
       "  </thead>\n",
       "  <tbody>\n",
       "    <tr>\n",
       "      <th>A</th>\n",
       "      <td>130.309998</td>\n",
       "      <td>A</td>\n",
       "      <td>Agilent Technologies</td>\n",
       "      <td>Health Care</td>\n",
       "      <td>-0.019</td>\n",
       "      <td>0.260</td>\n",
       "      <td>-0.073</td>\n",
       "      <td>1</td>\n",
       "      <td>0.007096</td>\n",
       "    </tr>\n",
       "    <tr>\n",
       "      <th>ABBV</th>\n",
       "      <td>203.869995</td>\n",
       "      <td>ABBV</td>\n",
       "      <td>AbbVie</td>\n",
       "      <td>Health Care</td>\n",
       "      <td>0.195</td>\n",
       "      <td>0.213</td>\n",
       "      <td>0.915</td>\n",
       "      <td>0</td>\n",
       "      <td>0.030769</td>\n",
       "    </tr>\n",
       "    <tr>\n",
       "      <th>ABT</th>\n",
       "      <td>113.370003</td>\n",
       "      <td>ABT</td>\n",
       "      <td>Abbott Laboratories</td>\n",
       "      <td>Health Care</td>\n",
       "      <td>-0.075</td>\n",
       "      <td>0.184</td>\n",
       "      <td>-0.408</td>\n",
       "      <td>1</td>\n",
       "      <td>0.019222</td>\n",
       "    </tr>\n",
       "    <tr>\n",
       "      <th>ACN</th>\n",
       "      <td>344.820007</td>\n",
       "      <td>ACN</td>\n",
       "      <td>Accenture</td>\n",
       "      <td>Information Technology</td>\n",
       "      <td>-0.130</td>\n",
       "      <td>0.253</td>\n",
       "      <td>-0.512</td>\n",
       "      <td>1</td>\n",
       "      <td>0.015437</td>\n",
       "    </tr>\n",
       "    <tr>\n",
       "      <th>ADI</th>\n",
       "      <td>223.110001</td>\n",
       "      <td>ADI</td>\n",
       "      <td>Analog Devices</td>\n",
       "      <td>Information Technology</td>\n",
       "      <td>0.230</td>\n",
       "      <td>0.339</td>\n",
       "      <td>0.681</td>\n",
       "      <td>0</td>\n",
       "      <td>0.015731</td>\n",
       "    </tr>\n",
       "    <tr>\n",
       "      <th>...</th>\n",
       "      <td>...</td>\n",
       "      <td>...</td>\n",
       "      <td>...</td>\n",
       "      <td>...</td>\n",
       "      <td>...</td>\n",
       "      <td>...</td>\n",
       "      <td>...</td>\n",
       "      <td>...</td>\n",
       "      <td>...</td>\n",
       "    </tr>\n",
       "    <tr>\n",
       "      <th>XOM</th>\n",
       "      <td>116.779999</td>\n",
       "      <td>XOM</td>\n",
       "      <td>ExxonMobil</td>\n",
       "      <td>Energy</td>\n",
       "      <td>0.169</td>\n",
       "      <td>0.191</td>\n",
       "      <td>0.883</td>\n",
       "      <td>6</td>\n",
       "      <td>0.032222</td>\n",
       "    </tr>\n",
       "    <tr>\n",
       "      <th>XYL</th>\n",
       "      <td>121.779999</td>\n",
       "      <td>XYL</td>\n",
       "      <td>Xylem Inc.</td>\n",
       "      <td>Industrials</td>\n",
       "      <td>-0.045</td>\n",
       "      <td>0.215</td>\n",
       "      <td>-0.208</td>\n",
       "      <td>1</td>\n",
       "      <td>0.010828</td>\n",
       "    </tr>\n",
       "    <tr>\n",
       "      <th>YUM</th>\n",
       "      <td>131.160004</td>\n",
       "      <td>YUM</td>\n",
       "      <td>Yum! Brands</td>\n",
       "      <td>Consumer Discretionary</td>\n",
       "      <td>-0.077</td>\n",
       "      <td>0.162</td>\n",
       "      <td>-0.473</td>\n",
       "      <td>1</td>\n",
       "      <td>0.009558</td>\n",
       "    </tr>\n",
       "    <tr>\n",
       "      <th>ZBH</th>\n",
       "      <td>106.919998</td>\n",
       "      <td>ZBH</td>\n",
       "      <td>Zimmer Biomet</td>\n",
       "      <td>Health Care</td>\n",
       "      <td>-0.272</td>\n",
       "      <td>0.224</td>\n",
       "      <td>-1.218</td>\n",
       "      <td>4</td>\n",
       "      <td>0.008742</td>\n",
       "    </tr>\n",
       "    <tr>\n",
       "      <th>ZTS</th>\n",
       "      <td>178.779999</td>\n",
       "      <td>ZTS</td>\n",
       "      <td>Zoetis</td>\n",
       "      <td>Health Care</td>\n",
       "      <td>-0.141</td>\n",
       "      <td>0.249</td>\n",
       "      <td>-0.568</td>\n",
       "      <td>1</td>\n",
       "      <td>0.008853</td>\n",
       "    </tr>\n",
       "  </tbody>\n",
       "</table>\n",
       "<p>385 rows × 9 columns</p>\n",
       "</div>"
      ],
      "text/plain": [
       "             Price Symbol              Security                  Sector  \\\n",
       "Ticker                                                                    \n",
       "A       130.309998      A  Agilent Technologies             Health Care   \n",
       "ABBV    203.869995   ABBV                AbbVie             Health Care   \n",
       "ABT     113.370003    ABT   Abbott Laboratories             Health Care   \n",
       "ACN     344.820007    ACN             Accenture  Information Technology   \n",
       "ADI     223.110001    ADI        Analog Devices  Information Technology   \n",
       "...            ...    ...                   ...                     ...   \n",
       "XOM     116.779999    XOM            ExxonMobil                  Energy   \n",
       "XYL     121.779999    XYL            Xylem Inc.             Industrials   \n",
       "YUM     131.160004    YUM           Yum! Brands  Consumer Discretionary   \n",
       "ZBH     106.919998    ZBH         Zimmer Biomet             Health Care   \n",
       "ZTS     178.779999    ZTS                Zoetis             Health Care   \n",
       "\n",
       "        Return  Volatility  SharpeRatio  KMeansCluster  Dividends  \n",
       "Ticker                                                             \n",
       "A       -0.019       0.260       -0.073              1   0.007096  \n",
       "ABBV     0.195       0.213        0.915              0   0.030769  \n",
       "ABT     -0.075       0.184       -0.408              1   0.019222  \n",
       "ACN     -0.130       0.253       -0.512              1   0.015437  \n",
       "ADI      0.230       0.339        0.681              0   0.015731  \n",
       "...        ...         ...          ...            ...        ...  \n",
       "XOM      0.169       0.191        0.883              6   0.032222  \n",
       "XYL     -0.045       0.215       -0.208              1   0.010828  \n",
       "YUM     -0.077       0.162       -0.473              1   0.009558  \n",
       "ZBH     -0.272       0.224       -1.218              4   0.008742  \n",
       "ZTS     -0.141       0.249       -0.568              1   0.008853  \n",
       "\n",
       "[385 rows x 9 columns]"
      ]
     },
     "execution_count": 34,
     "metadata": {},
     "output_type": "execute_result"
    }
   ],
   "source": [
    "dividend_stock_data"
   ]
  },
  {
   "cell_type": "code",
   "execution_count": 36,
   "metadata": {},
   "outputs": [
    {
     "data": {
      "application/vnd.plotly.v1+json": {
       "config": {
        "plotlyServerURL": "https://plot.ly"
       },
       "data": [
        {
         "customdata": [
          [
           "Health Care",
           "Agilent Technologies"
          ],
          [
           "Health Care",
           "AbbVie"
          ],
          [
           "Health Care",
           "Abbott Laboratories"
          ],
          [
           "Health Care",
           "Amgen"
          ],
          [
           "Health Care",
           "Baxter International"
          ],
          [
           "Health Care",
           "Becton Dickinson"
          ],
          [
           "Health Care",
           "Cardinal Health"
          ],
          [
           "Health Care",
           "Cigna"
          ],
          [
           "Health Care",
           "Cencora"
          ],
          [
           "Health Care",
           "CVS Health"
          ],
          [
           "Health Care",
           "Quest Diagnostics"
          ],
          [
           "Health Care",
           "Danaher Corporation"
          ],
          [
           "Health Care",
           "Elevance Health"
          ],
          [
           "Health Care",
           "GE HealthCare"
          ],
          [
           "Health Care",
           "Gilead Sciences"
          ],
          [
           "Health Care",
           "HCA Healthcare"
          ],
          [
           "Health Care",
           "Humana"
          ],
          [
           "Health Care",
           "Johnson & Johnson"
          ],
          [
           "Health Care",
           "LabCorp"
          ],
          [
           "Health Care",
           "Lilly (Eli)"
          ],
          [
           "Health Care",
           "McKesson Corporation"
          ],
          [
           "Health Care",
           "Medtronic"
          ],
          [
           "Health Care",
           "Pfizer"
          ],
          [
           "Health Care",
           "ResMed"
          ],
          [
           "Health Care",
           "Revvity"
          ],
          [
           "Health Care",
           "Steris"
          ],
          [
           "Health Care",
           "Stryker Corporation"
          ],
          [
           "Health Care",
           "Bio-Techne"
          ],
          [
           "Health Care",
           "Teleflex"
          ],
          [
           "Health Care",
           "Thermo Fisher Scientific"
          ],
          [
           "Health Care",
           "Universal Health Services"
          ],
          [
           "Health Care",
           "UnitedHealth Group"
          ],
          [
           "Health Care",
           "Viatris"
          ],
          [
           "Health Care",
           "West Pharmaceutical Services"
          ],
          [
           "Health Care",
           "Zimmer Biomet"
          ],
          [
           "Health Care",
           "Zoetis"
          ]
         ],
         "hovertemplate": "<b>%{hovertext}</b><br><br>Sector=%{customdata[0]}<br>Volatility=%{x}<br>Return=%{y}<br>Security=%{customdata[1]}<extra></extra>",
         "hovertext": [
          "A",
          "ABBV",
          "ABT",
          "AMGN",
          "BAX",
          "BDX",
          "CAH",
          "CI",
          "COR",
          "CVS",
          "DGX",
          "DHR",
          "ELV",
          "GEHC",
          "GILD",
          "HCA",
          "HUM",
          "JNJ",
          "LH",
          "LLY",
          "MCK",
          "MDT",
          "PFE",
          "RMD",
          "RVTY",
          "STE",
          "SYK",
          "TECH",
          "TFX",
          "TMO",
          "UHS",
          "UNH",
          "VTRS",
          "WST",
          "ZBH",
          "ZTS"
         ],
         "legendgroup": "Health Care",
         "marker": {
          "color": "#636efa",
          "symbol": "circle"
         },
         "mode": "markers",
         "name": "Health Care",
         "orientation": "v",
         "showlegend": true,
         "type": "scatter",
         "x": [
          0.26,
          0.213,
          0.184,
          0.246,
          0.273,
          0.174,
          0.199,
          0.201,
          0.169,
          0.352,
          0.206,
          0.224,
          0.255,
          0.283,
          0.213,
          0.254,
          0.393,
          0.16,
          0.228,
          0.3,
          0.253,
          0.182,
          0.228,
          0.397,
          0.266,
          0.21,
          0.18,
          0.371,
          0.31,
          0.192,
          0.306,
          0.256,
          0.262,
          0.38,
          0.224,
          0.249
         ],
         "xaxis": "x",
         "y": [
          -0.019,
          0.195,
          -0.075,
          0.147,
          -0.253,
          -0.076,
          0.006,
          -0.129,
          -0.057,
          -0.451,
          0.284,
          -0.047,
          -0.341,
          -0.028,
          0.272,
          0.186,
          -0.492,
          -0.018,
          0.059,
          0.108,
          -0.044,
          0.059,
          0.028,
          0.397,
          0.183,
          -0.088,
          0.005,
          0.042,
          -0.241,
          -0.048,
          0.314,
          0.098,
          -0.222,
          -0.254,
          -0.272,
          -0.141
         ],
         "yaxis": "y"
        },
        {
         "customdata": [
          [
           "Information Technology",
           "Accenture"
          ],
          [
           "Information Technology",
           "Analog Devices"
          ],
          [
           "Information Technology",
           "Applied Materials"
          ],
          [
           "Information Technology",
           "Amphenol"
          ],
          [
           "Information Technology",
           "Broadcom"
          ],
          [
           "Information Technology",
           "CDW"
          ],
          [
           "Information Technology",
           "Salesforce"
          ],
          [
           "Information Technology",
           "Cisco"
          ],
          [
           "Information Technology",
           "Cognizant"
          ],
          [
           "Information Technology",
           "Dell Technologies"
          ],
          [
           "Information Technology",
           "Gen Digital"
          ],
          [
           "Information Technology",
           "Corning Inc."
          ],
          [
           "Information Technology",
           "Hewlett Packard Enterprise"
          ],
          [
           "Information Technology",
           "HP Inc."
          ],
          [
           "Information Technology",
           "IBM"
          ],
          [
           "Information Technology",
           "Intel"
          ],
          [
           "Information Technology",
           "Intuit"
          ],
          [
           "Information Technology",
           "Jabil"
          ],
          [
           "Information Technology",
           "Juniper Networks"
          ],
          [
           "Information Technology",
           "KLA Corporation"
          ],
          [
           "Information Technology",
           "Lam Research"
          ],
          [
           "Information Technology",
           "Microchip Technology"
          ],
          [
           "Information Technology",
           "Monolithic Power Systems"
          ],
          [
           "Information Technology",
           "Microsoft"
          ],
          [
           "Information Technology",
           "Motorola Solutions"
          ],
          [
           "Information Technology",
           "Micron Technology"
          ],
          [
           "Information Technology",
           "NetApp"
          ],
          [
           "Information Technology",
           "Nvidia"
          ],
          [
           "Information Technology",
           "NXP Semiconductors"
          ],
          [
           "Information Technology",
           "Oracle Corporation"
          ],
          [
           "Information Technology",
           "Qualcomm"
          ],
          [
           "Information Technology",
           "Roper Technologies"
          ],
          [
           "Information Technology",
           "Seagate Technology"
          ],
          [
           "Information Technology",
           "Skyworks Solutions"
          ],
          [
           "Information Technology",
           "Teradyne"
          ],
          [
           "Information Technology",
           "Texas Instruments"
          ]
         ],
         "hovertemplate": "<b>%{hovertext}</b><br><br>Sector=%{customdata[0]}<br>Volatility=%{x}<br>Return=%{y}<br>Security=%{customdata[1]}<extra></extra>",
         "hovertext": [
          "ACN",
          "ADI",
          "AMAT",
          "APH",
          "AVGO",
          "CDW",
          "CRM",
          "CSCO",
          "CTSH",
          "DELL",
          "GEN",
          "GLW",
          "HPE",
          "HPQ",
          "IBM",
          "INTC",
          "INTU",
          "JBL",
          "JNPR",
          "KLAC",
          "LRCX",
          "MCHP",
          "MPWR",
          "MSFT",
          "MSI",
          "MU",
          "NTAP",
          "NVDA",
          "NXPI",
          "ORCL",
          "QCOM",
          "ROP",
          "STX",
          "SWKS",
          "TER",
          "TXN"
         ],
         "legendgroup": "Information Technology",
         "marker": {
          "color": "#EF553B",
          "symbol": "circle"
         },
         "mode": "markers",
         "name": "Information Technology",
         "orientation": "v",
         "showlegend": true,
         "type": "scatter",
         "x": [
          0.253,
          0.339,
          0.436,
          0.284,
          0.499,
          0.295,
          0.384,
          0.188,
          0.193,
          0.635,
          0.29,
          0.279,
          0.375,
          0.317,
          0.218,
          0.566,
          0.275,
          0.417,
          0.083,
          0.477,
          0.455,
          0.389,
          0.542,
          0.204,
          0.155,
          0.522,
          0.325,
          0.548,
          0.378,
          0.33,
          0.415,
          0.178,
          0.324,
          0.404,
          0.484,
          0.281
         ],
         "xaxis": "x",
         "y": [
          -0.13,
          0.23,
          -0.119,
          0.318,
          0.388,
          -0.392,
          -0.007,
          0.164,
          -0.098,
          0.452,
          0.394,
          0.541,
          0.367,
          0.279,
          0.154,
          -0.996,
          -0.112,
          -0.18,
          0.065,
          -0.006,
          -0.32,
          -0.175,
          0.074,
          -0.014,
          0.443,
          0.212,
          0.399,
          0.751,
          -0.026,
          0.583,
          0.071,
          -0.05,
          0.19,
          -0.245,
          0.085,
          0.311
         ],
         "yaxis": "y"
        },
        {
         "customdata": [
          [
           "Consumer Staples",
           "Archer Daniels Midland"
          ],
          [
           "Consumer Staples",
           "Brown–Forman"
          ],
          [
           "Consumer Staples",
           "Bunge Global"
          ],
          [
           "Consumer Staples",
           "Conagra Brands"
          ],
          [
           "Consumer Staples",
           "Church & Dwight"
          ],
          [
           "Consumer Staples",
           "Colgate-Palmolive"
          ],
          [
           "Consumer Staples",
           "Clorox"
          ],
          [
           "Consumer Staples",
           "Costco"
          ],
          [
           "Consumer Staples",
           "Campbell Soup Company"
          ],
          [
           "Consumer Staples",
           "Dollar General"
          ],
          [
           "Consumer Staples",
           "Estée Lauder Companies (The)"
          ],
          [
           "Consumer Staples",
           "General Mills"
          ],
          [
           "Consumer Staples",
           "Hormel Foods"
          ],
          [
           "Consumer Staples",
           "Hershey Company (The)"
          ],
          [
           "Consumer Staples",
           "Kellanova"
          ],
          [
           "Consumer Staples",
           "Keurig Dr Pepper"
          ],
          [
           "Consumer Staples",
           "Kraft Heinz"
          ],
          [
           "Consumer Staples",
           "Kimberly-Clark"
          ],
          [
           "Consumer Staples",
           "Coca-Cola Company (The)"
          ],
          [
           "Consumer Staples",
           "Kroger"
          ],
          [
           "Consumer Staples",
           "Kenvue"
          ],
          [
           "Consumer Staples",
           "Lamb Weston"
          ],
          [
           "Consumer Staples",
           "Mondelez International"
          ],
          [
           "Consumer Staples",
           "McCormick & Company"
          ],
          [
           "Consumer Staples",
           "PepsiCo"
          ],
          [
           "Consumer Staples",
           "Procter & Gamble"
          ],
          [
           "Consumer Staples",
           "Philip Morris International"
          ],
          [
           "Consumer Staples",
           "J.M. Smucker Company (The)"
          ],
          [
           "Consumer Staples",
           "Constellation Brands"
          ],
          [
           "Consumer Staples",
           "Sysco"
          ],
          [
           "Consumer Staples",
           "Molson Coors Beverage Company"
          ],
          [
           "Consumer Staples",
           "Target Corporation"
          ],
          [
           "Consumer Staples",
           "Tyson Foods"
          ],
          [
           "Consumer Staples",
           "Walgreens Boots Alliance"
          ],
          [
           "Consumer Staples",
           "Walmart"
          ]
         ],
         "hovertemplate": "<b>%{hovertext}</b><br><br>Sector=%{customdata[0]}<br>Volatility=%{x}<br>Return=%{y}<br>Security=%{customdata[1]}<extra></extra>",
         "hovertext": [
          "ADM",
          "BF.B",
          "BG",
          "CAG",
          "CHD",
          "CL",
          "CLX",
          "COST",
          "CPB",
          "DG",
          "EL",
          "GIS",
          "HRL",
          "HSY",
          "K",
          "KDP",
          "KHC",
          "KMB",
          "KO",
          "KR",
          "KVUE",
          "LW",
          "MDLZ",
          "MKC",
          "PEP",
          "PG",
          "PM",
          "SJM",
          "STZ",
          "SYY",
          "TAP",
          "TGT",
          "TSN",
          "WBA",
          "WMT"
         ],
         "legendgroup": "Consumer Staples",
         "marker": {
          "color": "#00cc96",
          "symbol": "circle"
         },
         "mode": "markers",
         "name": "Consumer Staples",
         "orientation": "v",
         "showlegend": true,
         "type": "scatter",
         "x": [
          0.217,
          0.244,
          0.252,
          0.219,
          0.157,
          0.146,
          0.205,
          0.201,
          0.202,
          0.558,
          0.465,
          0.18,
          0.285,
          0.195,
          0.272,
          0.166,
          0.189,
          0.185,
          0.126,
          0.226,
          0.269,
          0.557,
          0.169,
          0.219,
          0.162,
          0.144,
          0.199,
          0.219,
          0.194,
          0.188,
          0.243,
          0.317,
          0.202,
          0.54,
          0.179
         ],
         "xaxis": "x",
         "y": [
          0.047,
          -0.384,
          -0.156,
          0.032,
          -0.007,
          0.119,
          0.053,
          0.244,
          0.136,
          -0.809,
          -1.119,
          0.058,
          0.002,
          -0.126,
          0.514,
          0.126,
          -0.107,
          0.141,
          0.094,
          0.21,
          0.257,
          -0.401,
          -0.111,
          0.2,
          -0.03,
          0.037,
          0.534,
          -0.149,
          -0.089,
          -0.109,
          -0.198,
          -0.014,
          0.123,
          -1.198,
          0.485
         ],
         "yaxis": "y"
        },
        {
         "customdata": [
          [
           "Industrials",
           "Automatic Data Processing"
          ],
          [
           "Industrials",
           "Allegion"
          ],
          [
           "Industrials",
           "Ametek"
          ],
          [
           "Industrials",
           "A. O. Smith"
          ],
          [
           "Industrials",
           "Broadridge Financial Solutions"
          ],
          [
           "Industrials",
           "Carrier Global"
          ],
          [
           "Industrials",
           "Caterpillar Inc."
          ],
          [
           "Industrials",
           "C.H. Robinson"
          ],
          [
           "Industrials",
           "Cummins"
          ],
          [
           "Industrials",
           "CSX Corporation"
          ],
          [
           "Industrials",
           "Cintas"
          ],
          [
           "Industrials",
           "Delta Air Lines"
          ],
          [
           "Industrials",
           "Deere & Company"
          ],
          [
           "Industrials",
           "Dover Corporation"
          ],
          [
           "Industrials",
           "Equifax"
          ],
          [
           "Industrials",
           "Emerson Electric"
          ],
          [
           "Industrials",
           "Eaton Corporation"
          ],
          [
           "Industrials",
           "Expeditors International"
          ],
          [
           "Industrials",
           "Fastenal"
          ],
          [
           "Industrials",
           "FedEx"
          ],
          [
           "Industrials",
           "Fortive"
          ],
          [
           "Industrials",
           "General Dynamics"
          ],
          [
           "Industrials",
           "GE Aerospace"
          ],
          [
           "Industrials",
           "Honeywell"
          ],
          [
           "Industrials",
           "Hubbell Incorporated"
          ],
          [
           "Industrials",
           "Howmet Aerospace"
          ],
          [
           "Industrials",
           "IDEX Corporation"
          ],
          [
           "Industrials",
           "Ingersoll Rand"
          ],
          [
           "Industrials",
           "Illinois Tool Works"
          ],
          [
           "Industrials",
           "Jacobs Solutions"
          ],
          [
           "Industrials",
           "J.B. Hunt"
          ],
          [
           "Industrials",
           "Johnson Controls"
          ],
          [
           "Industrials",
           "Leidos"
          ],
          [
           "Industrials",
           "L3Harris"
          ],
          [
           "Industrials",
           "Lockheed Martin"
          ],
          [
           "Industrials",
           "Southwest Airlines"
          ],
          [
           "Industrials",
           "Masco"
          ],
          [
           "Industrials",
           "3M"
          ],
          [
           "Industrials",
           "Nordson Corporation"
          ],
          [
           "Industrials",
           "Northrop Grumman"
          ],
          [
           "Industrials",
           "Norfolk Southern Railway"
          ],
          [
           "Industrials",
           "Old Dominion"
          ],
          [
           "Industrials",
           "Otis Worldwide"
          ],
          [
           "Industrials",
           "Paycom"
          ],
          [
           "Industrials",
           "Paychex"
          ],
          [
           "Industrials",
           "Paccar"
          ],
          [
           "Industrials",
           "Pentair"
          ],
          [
           "Industrials",
           "Quanta Services"
          ],
          [
           "Industrials",
           "Rockwell Automation"
          ],
          [
           "Industrials",
           "Rollins, Inc."
          ],
          [
           "Industrials",
           "Republic Services"
          ],
          [
           "Industrials",
           "RTX Corporation"
          ],
          [
           "Industrials",
           "Snap-on"
          ],
          [
           "Industrials",
           "Stanley Black & Decker"
          ],
          [
           "Industrials",
           "Trane Technologies"
          ],
          [
           "Industrials",
           "Textron"
          ],
          [
           "Industrials",
           "Union Pacific Corporation"
          ],
          [
           "Industrials",
           "United Parcel Service"
          ],
          [
           "Industrials",
           "United Rentals"
          ],
          [
           "Industrials",
           "Veralto"
          ],
          [
           "Industrials",
           "Verisk Analytics"
          ],
          [
           "Industrials",
           "Wabtec"
          ],
          [
           "Industrials",
           "Waste Management"
          ],
          [
           "Industrials",
           "Xylem Inc."
          ]
         ],
         "hovertemplate": "<b>%{hovertext}</b><br><br>Sector=%{customdata[0]}<br>Volatility=%{x}<br>Return=%{y}<br>Security=%{customdata[1]}<extra></extra>",
         "hovertext": [
          "ADP",
          "ALLE",
          "AME",
          "AOS",
          "BR",
          "CARR",
          "CAT",
          "CHRW",
          "CMI",
          "CSX",
          "CTAS",
          "DAL",
          "DE",
          "DOV",
          "EFX",
          "EMR",
          "ETN",
          "EXPD",
          "FAST",
          "FDX",
          "FTV",
          "GD",
          "GE",
          "HON",
          "HUBB",
          "HWM",
          "IEX",
          "IR",
          "ITW",
          "J",
          "JBHT",
          "JCI",
          "LDOS",
          "LHX",
          "LMT",
          "LUV",
          "MAS",
          "MMM",
          "NDSN",
          "NOC",
          "NSC",
          "ODFL",
          "OTIS",
          "PAYC",
          "PAYX",
          "PCAR",
          "PNR",
          "PWR",
          "ROK",
          "ROL",
          "RSG",
          "RTX",
          "SNA",
          "SWK",
          "TT",
          "TXT",
          "UNP",
          "UPS",
          "URI",
          "VLTO",
          "VRSK",
          "WAB",
          "WM",
          "XYL"
         ],
         "legendgroup": "Industrials",
         "marker": {
          "color": "#ab63fa",
          "symbol": "circle"
         },
         "mode": "markers",
         "name": "Industrials",
         "orientation": "v",
         "showlegend": true,
         "type": "scatter",
         "x": [
          0.152,
          0.206,
          0.232,
          0.257,
          0.185,
          0.3,
          0.253,
          0.312,
          0.235,
          0.205,
          0.18,
          0.311,
          0.216,
          0.207,
          0.283,
          0.23,
          0.29,
          0.191,
          0.228,
          0.335,
          0.22,
          0.158,
          0.33,
          0.17,
          0.306,
          0.337,
          0.206,
          0.275,
          0.157,
          0.193,
          0.264,
          0.225,
          0.203,
          0.184,
          0.164,
          0.395,
          0.242,
          0.33,
          0.218,
          0.165,
          0.252,
          0.335,
          0.198,
          0.398,
          0.186,
          0.267,
          0.265,
          0.319,
          0.265,
          0.218,
          0.15,
          0.168,
          0.23,
          0.332,
          0.232,
          0.235,
          0.18,
          0.274,
          0.334,
          0.186,
          0.199,
          0.215,
          0.188,
          0.215
         ],
         "xaxis": "x",
         "y": [
          0.177,
          0.113,
          0.041,
          -0.116,
          0.065,
          0.423,
          0.216,
          0.489,
          0.317,
          -0.188,
          0.378,
          0.455,
          0.15,
          0.206,
          -0.005,
          0.032,
          0.218,
          -0.014,
          0.115,
          0.169,
          -0.269,
          0.091,
          0.488,
          0.036,
          0.223,
          0.597,
          -0.143,
          0.084,
          0.006,
          0.195,
          -0.238,
          0.37,
          0.538,
          0.206,
          0.34,
          -0.143,
          0.092,
          0.73,
          -0.143,
          0.142,
          -0.043,
          -0.128,
          0.07,
          0.178,
          0.16,
          -0.087,
          0.368,
          0.363,
          -0.073,
          0.147,
          0.098,
          0.426,
          0.284,
          0.06,
          0.393,
          -0.096,
          -0.146,
          -0.149,
          0.304,
          0.237,
          0.166,
          0.442,
          0.053,
          -0.045
         ],
         "yaxis": "y"
        },
        {
         "customdata": [
          [
           "Utilities",
           "Ameren"
          ],
          [
           "Utilities",
           "American Electric Power"
          ],
          [
           "Utilities",
           "AES Corporation"
          ],
          [
           "Utilities",
           "Atmos Energy"
          ],
          [
           "Utilities",
           "American Water Works"
          ],
          [
           "Utilities",
           "Constellation Energy"
          ],
          [
           "Utilities",
           "CenterPoint Energy"
          ],
          [
           "Utilities",
           "Dominion Energy"
          ],
          [
           "Utilities",
           "DTE Energy"
          ],
          [
           "Utilities",
           "Duke Energy"
          ],
          [
           "Utilities",
           "Consolidated Edison"
          ],
          [
           "Utilities",
           "Edison International"
          ],
          [
           "Utilities",
           "Eversource Energy"
          ],
          [
           "Utilities",
           "Entergy"
          ],
          [
           "Utilities",
           "Evergy"
          ],
          [
           "Utilities",
           "Exelon"
          ],
          [
           "Utilities",
           "FirstEnergy"
          ],
          [
           "Utilities",
           "Alliant Energy"
          ],
          [
           "Utilities",
           "NextEra Energy"
          ],
          [
           "Utilities",
           "NiSource"
          ],
          [
           "Utilities",
           "NRG Energy"
          ],
          [
           "Utilities",
           "PG&E Corporation"
          ],
          [
           "Utilities",
           "Public Service Enterprise Group"
          ],
          [
           "Utilities",
           "Pinnacle West"
          ],
          [
           "Utilities",
           "PPL Corporation"
          ],
          [
           "Utilities",
           "Southern Company"
          ],
          [
           "Utilities",
           "Sempra"
          ],
          [
           "Utilities",
           "Vistra Corp."
          ]
         ],
         "hovertemplate": "<b>%{hovertext}</b><br><br>Sector=%{customdata[0]}<br>Volatility=%{x}<br>Return=%{y}<br>Security=%{customdata[1]}<extra></extra>",
         "hovertext": [
          "AEE",
          "AEP",
          "AES",
          "ATO",
          "AWK",
          "CEG",
          "CNP",
          "D",
          "DTE",
          "DUK",
          "ED",
          "EIX",
          "ES",
          "ETR",
          "EVRG",
          "EXC",
          "FE",
          "LNT",
          "NEE",
          "NI",
          "NRG",
          "PCG",
          "PEG",
          "PNW",
          "PPL",
          "SO",
          "SRE",
          "VST"
         ],
         "legendgroup": "Utilities",
         "marker": {
          "color": "#FFA15A",
          "symbol": "circle"
         },
         "mode": "markers",
         "name": "Utilities",
         "orientation": "v",
         "showlegend": true,
         "type": "scatter",
         "x": [
          0.165,
          0.174,
          0.365,
          0.14,
          0.196,
          0.548,
          0.205,
          0.225,
          0.18,
          0.159,
          0.164,
          0.169,
          0.206,
          0.239,
          0.157,
          0.17,
          0.142,
          0.164,
          0.259,
          0.148,
          0.373,
          0.182,
          0.172,
          0.17,
          0.153,
          0.164,
          0.171,
          0.599
         ],
         "xaxis": "x",
         "y": [
          0.282,
          0.26,
          0.043,
          0.299,
          0.215,
          0.971,
          0.081,
          0.314,
          0.196,
          0.313,
          0.209,
          0.271,
          0.161,
          0.593,
          0.257,
          0.121,
          0.161,
          0.3,
          0.48,
          0.428,
          0.809,
          0.247,
          0.557,
          0.316,
          0.28,
          0.427,
          0.212,
          1.359
         ],
         "yaxis": "y"
        },
        {
         "customdata": [
          [
           "Financials",
           "Aflac"
          ],
          [
           "Financials",
           "American International Group"
          ],
          [
           "Financials",
           "Assurant"
          ],
          [
           "Financials",
           "Arthur J. Gallagher & Co."
          ],
          [
           "Financials",
           "Allstate"
          ],
          [
           "Financials",
           "Ameriprise Financial"
          ],
          [
           "Financials",
           "Aon"
          ],
          [
           "Financials",
           "American Express"
          ],
          [
           "Financials",
           "Bank of America"
          ],
          [
           "Financials",
           "Franklin Resources"
          ],
          [
           "Financials",
           "BNY Mellon"
          ],
          [
           "Financials",
           "BlackRock"
          ],
          [
           "Financials",
           "Brown & Brown"
          ],
          [
           "Financials",
           "Blackstone Inc."
          ],
          [
           "Financials",
           "Citigroup"
          ],
          [
           "Financials",
           "Chubb Limited"
          ],
          [
           "Financials",
           "Cboe Global Markets"
          ],
          [
           "Financials",
           "Citizens Financial Group"
          ],
          [
           "Financials",
           "Cincinnati Financial"
          ],
          [
           "Financials",
           "CME Group"
          ],
          [
           "Financials",
           "Capital One"
          ],
          [
           "Financials",
           "Discover Financial"
          ],
          [
           "Financials",
           "Everest Group"
          ],
          [
           "Financials",
           "Erie Indemnity"
          ],
          [
           "Financials",
           "FactSet"
          ],
          [
           "Financials",
           "Fidelity National Information Services"
          ],
          [
           "Financials",
           "Fifth Third Bancorp"
          ],
          [
           "Financials",
           "Globe Life"
          ],
          [
           "Financials",
           "Global Payments"
          ],
          [
           "Financials",
           "Goldman Sachs"
          ],
          [
           "Financials",
           "Huntington Bancshares"
          ],
          [
           "Financials",
           "Hartford (The)"
          ],
          [
           "Financials",
           "Invesco"
          ],
          [
           "Financials",
           "Jack Henry & Associates"
          ],
          [
           "Financials",
           "JPMorgan Chase"
          ],
          [
           "Financials",
           "KeyCorp"
          ],
          [
           "Financials",
           "KKR"
          ],
          [
           "Financials",
           "Loews Corporation"
          ],
          [
           "Financials",
           "Moody's Corporation"
          ],
          [
           "Financials",
           "MetLife"
          ],
          [
           "Financials",
           "MarketAxess"
          ],
          [
           "Financials",
           "Marsh McLennan"
          ],
          [
           "Financials",
           "Morgan Stanley"
          ],
          [
           "Financials",
           "MSCI"
          ],
          [
           "Financials",
           "M&T Bank"
          ],
          [
           "Financials",
           "Nasdaq, Inc."
          ],
          [
           "Financials",
           "Northern Trust"
          ],
          [
           "Financials",
           "Principal Financial Group"
          ],
          [
           "Financials",
           "Progressive Corporation"
          ],
          [
           "Financials",
           "PNC Financial Services"
          ],
          [
           "Financials",
           "Prudential Financial"
          ],
          [
           "Financials",
           "Regions Financial Corporation"
          ],
          [
           "Financials",
           "Raymond James Financial"
          ],
          [
           "Financials",
           "Charles Schwab Corporation"
          ],
          [
           "Financials",
           "S&P Global"
          ],
          [
           "Financials",
           "State Street Corporation"
          ],
          [
           "Financials",
           "Synchrony Financial"
          ],
          [
           "Financials",
           "Truist Financial"
          ],
          [
           "Financials",
           "T. Rowe Price"
          ],
          [
           "Financials",
           "Travelers Companies (The)"
          ],
          [
           "Financials",
           "U.S. Bancorp"
          ],
          [
           "Financials",
           "Visa Inc."
          ],
          [
           "Financials",
           "Wells Fargo"
          ],
          [
           "Financials",
           "W. R. Berkley Corporation"
          ]
         ],
         "hovertemplate": "<b>%{hovertext}</b><br><br>Sector=%{customdata[0]}<br>Volatility=%{x}<br>Return=%{y}<br>Security=%{customdata[1]}<extra></extra>",
         "hovertext": [
          "AFL",
          "AIG",
          "AIZ",
          "AJG",
          "ALL",
          "AMP",
          "AON",
          "AXP",
          "BAC",
          "BEN",
          "BK",
          "BLK",
          "BRO",
          "BX",
          "C",
          "CB",
          "CBOE",
          "CFG",
          "CINF",
          "CME",
          "COF",
          "DFS",
          "EG",
          "ERIE",
          "FDS",
          "FIS",
          "FITB",
          "GL",
          "GPN",
          "GS",
          "HBAN",
          "HIG",
          "IVZ",
          "JKHY",
          "JPM",
          "KEY",
          "KKR",
          "L",
          "MCO",
          "MET",
          "MKTX",
          "MMC",
          "MS",
          "MSCI",
          "MTB",
          "NDAQ",
          "NTRS",
          "PFG",
          "PGR",
          "PNC",
          "PRU",
          "RF",
          "RJF",
          "SCHW",
          "SPGI",
          "STT",
          "SYF",
          "TFC",
          "TROW",
          "TRV",
          "USB",
          "V",
          "WFC",
          "WRB"
         ],
         "legendgroup": "Financials",
         "marker": {
          "color": "#19d3f3",
          "symbol": "circle"
         },
         "mode": "markers",
         "name": "Financials",
         "orientation": "v",
         "showlegend": true,
         "type": "scatter",
         "x": [
          0.181,
          0.215,
          0.186,
          0.171,
          0.215,
          0.192,
          0.2,
          0.233,
          0.22,
          0.297,
          0.178,
          0.183,
          0.168,
          0.285,
          0.267,
          0.188,
          0.207,
          0.268,
          0.214,
          0.158,
          0.272,
          0.289,
          0.252,
          0.278,
          0.222,
          0.204,
          0.234,
          1.002,
          0.303,
          0.232,
          0.247,
          0.212,
          0.282,
          0.179,
          0.221,
          0.308,
          0.316,
          0.161,
          0.184,
          0.204,
          0.303,
          0.132,
          0.243,
          0.281,
          0.242,
          0.194,
          0.237,
          0.217,
          0.202,
          0.229,
          0.227,
          0.234,
          0.229,
          0.263,
          0.154,
          0.212,
          0.31,
          0.246,
          0.22,
          0.249,
          0.238,
          0.173,
          0.258,
          0.219
         ],
         "xaxis": "x",
         "y": [
          0.381,
          0.089,
          0.104,
          0.198,
          0.229,
          0.325,
          0.218,
          0.331,
          0.301,
          -0.378,
          0.437,
          0.269,
          0.312,
          0.422,
          0.198,
          0.141,
          0.115,
          0.434,
          0.319,
          0.048,
          0.264,
          0.286,
          -0.061,
          0.36,
          -0.03,
          0.48,
          0.381,
          -0.265,
          -0.359,
          0.404,
          0.277,
          0.204,
          0.176,
          0.048,
          0.27,
          0.274,
          0.528,
          0.07,
          0.236,
          0.177,
          0.429,
          0.1,
          0.425,
          0.006,
          0.494,
          0.383,
          0.302,
          0.038,
          0.343,
          0.365,
          0.18,
          0.384,
          0.321,
          0.136,
          0.132,
          0.334,
          0.458,
          0.288,
          -0.015,
          0.154,
          0.224,
          0.031,
          0.269,
          0.007
         ],
         "yaxis": "y"
        },
        {
         "customdata": [
          [
           "Materials",
           "Albemarle Corporation"
          ],
          [
           "Materials",
           "Amcor"
          ],
          [
           "Materials",
           "Air Products"
          ],
          [
           "Materials",
           "Avery Dennison"
          ],
          [
           "Materials",
           "Celanese"
          ],
          [
           "Materials",
           "CF Industries"
          ],
          [
           "Materials",
           "Corteva"
          ],
          [
           "Materials",
           "DuPont"
          ],
          [
           "Materials",
           "Dow Inc."
          ],
          [
           "Materials",
           "Ecolab"
          ],
          [
           "Materials",
           "Eastman Chemical Company"
          ],
          [
           "Materials",
           "Freeport-McMoRan"
          ],
          [
           "Materials",
           "FMC Corporation"
          ],
          [
           "Materials",
           "International Flavors & Fragrances"
          ],
          [
           "Materials",
           "Linde plc"
          ],
          [
           "Materials",
           "LyondellBasell"
          ],
          [
           "Materials",
           "Martin Marietta Materials"
          ],
          [
           "Materials",
           "Mosaic Company (The)"
          ],
          [
           "Materials",
           "Newmont"
          ],
          [
           "Materials",
           "Nucor"
          ],
          [
           "Materials",
           "Packaging Corporation of America"
          ],
          [
           "Materials",
           "PPG Industries"
          ],
          [
           "Materials",
           "Sherwin-Williams"
          ],
          [
           "Materials",
           "Steel Dynamics"
          ],
          [
           "Materials",
           "Vulcan Materials Company"
          ]
         ],
         "hovertemplate": "<b>%{hovertext}</b><br><br>Sector=%{customdata[0]}<br>Volatility=%{x}<br>Return=%{y}<br>Security=%{customdata[1]}<extra></extra>",
         "hovertext": [
          "ALB",
          "AMCR",
          "APD",
          "AVY",
          "CE",
          "CF",
          "CTVA",
          "DD",
          "DOW",
          "ECL",
          "EMN",
          "FCX",
          "FMC",
          "IFF",
          "LIN",
          "LYB",
          "MLM",
          "MOS",
          "NEM",
          "NUE",
          "PKG",
          "PPG",
          "SHW",
          "STLD",
          "VMC"
         ],
         "legendgroup": "Materials",
         "marker": {
          "color": "#FF6692",
          "symbol": "circle"
         },
         "mode": "markers",
         "name": "Materials",
         "orientation": "v",
         "showlegend": true,
         "type": "scatter",
         "x": [
          0.605,
          0.213,
          0.248,
          0.185,
          0.281,
          0.279,
          0.22,
          0.206,
          0.191,
          0.178,
          0.22,
          0.363,
          0.414,
          0.226,
          0.143,
          0.188,
          0.24,
          0.312,
          0.379,
          0.284,
          0.19,
          0.184,
          0.214,
          0.287,
          0.236
         ],
         "xaxis": "x",
         "y": [
          -0.348,
          0.263,
          0.415,
          -0.052,
          -0.245,
          0.032,
          0.15,
          0.246,
          -0.191,
          0.144,
          0.278,
          0.208,
          0.311,
          0.304,
          0.027,
          -0.192,
          0.11,
          -0.234,
          0.538,
          -0.421,
          0.384,
          -0.213,
          0.156,
          0.039,
          0.091
         ],
         "yaxis": "y"
        },
        {
         "customdata": [
          [
           "Real Estate",
           "American Tower"
          ],
          [
           "Real Estate",
           "Alexandria Real Estate Equities"
          ],
          [
           "Real Estate",
           "AvalonBay Communities"
          ],
          [
           "Real Estate",
           "BXP, Inc."
          ],
          [
           "Real Estate",
           "Crown Castle"
          ],
          [
           "Real Estate",
           "Camden Property Trust"
          ],
          [
           "Real Estate",
           "Digital Realty"
          ],
          [
           "Real Estate",
           "Healthpeak Properties"
          ],
          [
           "Real Estate",
           "Equinix"
          ],
          [
           "Real Estate",
           "Equity Residential"
          ],
          [
           "Real Estate",
           "Essex Property Trust"
          ],
          [
           "Real Estate",
           "Extra Space Storage"
          ],
          [
           "Real Estate",
           "Federal Realty Investment Trust"
          ],
          [
           "Real Estate",
           "Host Hotels & Resorts"
          ],
          [
           "Real Estate",
           "Invitation Homes"
          ],
          [
           "Real Estate",
           "Iron Mountain"
          ],
          [
           "Real Estate",
           "Mid-America Apartment Communities"
          ],
          [
           "Real Estate",
           "Realty Income"
          ],
          [
           "Real Estate",
           "Prologis"
          ],
          [
           "Real Estate",
           "Public Storage"
          ],
          [
           "Real Estate",
           "Regency Centers"
          ],
          [
           "Real Estate",
           "SBA Communications"
          ],
          [
           "Real Estate",
           "Simon Property Group"
          ],
          [
           "Real Estate",
           "UDR, Inc."
          ],
          [
           "Real Estate",
           "Vici Properties"
          ],
          [
           "Real Estate",
           "Ventas"
          ],
          [
           "Real Estate",
           "Welltower"
          ],
          [
           "Real Estate",
           "Weyerhaeuser"
          ]
         ],
         "hovertemplate": "<b>%{hovertext}</b><br><br>Sector=%{customdata[0]}<br>Volatility=%{x}<br>Return=%{y}<br>Security=%{customdata[1]}<extra></extra>",
         "hovertext": [
          "AMT",
          "ARE",
          "AVB",
          "BXP",
          "CCI",
          "CPT",
          "DLR",
          "DOC",
          "EQIX",
          "EQR",
          "ESS",
          "EXR",
          "FRT",
          "HST",
          "INVH",
          "IRM",
          "MAA",
          "O",
          "PLD",
          "PSA",
          "REG",
          "SBAC",
          "SPG",
          "UDR",
          "VICI",
          "VTR",
          "WELL",
          "WY"
         ],
         "legendgroup": "Real Estate",
         "marker": {
          "color": "#B6E880",
          "symbol": "circle"
         },
         "mode": "markers",
         "name": "Real Estate",
         "orientation": "v",
         "showlegend": true,
         "type": "scatter",
         "x": [
          0.244,
          0.252,
          0.173,
          0.299,
          0.221,
          0.2,
          0.25,
          0.221,
          0.252,
          0.191,
          0.2,
          0.255,
          0.178,
          0.227,
          0.209,
          0.235,
          0.197,
          0.164,
          0.25,
          0.225,
          0.176,
          0.273,
          0.214,
          0.182,
          0.186,
          0.2,
          0.171,
          0.223
         ],
         "xaxis": "x",
         "y": [
          0.169,
          -0.128,
          0.337,
          0.308,
          -0.016,
          0.287,
          0.37,
          0.432,
          0.041,
          0.225,
          0.307,
          0.221,
          0.173,
          -0.233,
          -0.083,
          0.72,
          0.26,
          0.165,
          -0.238,
          0.208,
          0.234,
          0.108,
          0.169,
          0.234,
          0.08,
          0.567,
          0.529,
          -0.099
         ],
         "yaxis": "y"
        },
        {
         "customdata": [
          [
           "Energy",
           "APA Corporation"
          ],
          [
           "Energy",
           "Baker Hughes"
          ],
          [
           "Energy",
           "Coterra"
          ],
          [
           "Energy",
           "Chevron Corporation"
          ],
          [
           "Energy",
           "Devon Energy"
          ],
          [
           "Energy",
           "EOG Resources"
          ],
          [
           "Energy",
           "EQT Corporation"
          ],
          [
           "Energy",
           "Diamondback Energy"
          ],
          [
           "Energy",
           "Halliburton"
          ],
          [
           "Energy",
           "Hess Corporation"
          ],
          [
           "Energy",
           "Kinder Morgan"
          ],
          [
           "Energy",
           "Marathon Petroleum"
          ],
          [
           "Energy",
           "Marathon Oil"
          ],
          [
           "Energy",
           "ONEOK"
          ],
          [
           "Energy",
           "Occidental Petroleum"
          ],
          [
           "Energy",
           "Phillips 66"
          ],
          [
           "Energy",
           "Schlumberger"
          ],
          [
           "Energy",
           "Targa Resources"
          ],
          [
           "Energy",
           "Valero Energy"
          ],
          [
           "Energy",
           "Williams Companies"
          ],
          [
           "Energy",
           "ExxonMobil"
          ]
         ],
         "hovertemplate": "<b>%{hovertext}</b><br><br>Sector=%{customdata[0]}<br>Volatility=%{x}<br>Return=%{y}<br>Security=%{customdata[1]}<extra></extra>",
         "hovertext": [
          "APA",
          "BKR",
          "CTRA",
          "CVX",
          "DVN",
          "EOG",
          "EQT",
          "FANG",
          "HAL",
          "HES",
          "KMI",
          "MPC",
          "MRO",
          "OKE",
          "OXY",
          "PSX",
          "SLB",
          "TRGP",
          "VLO",
          "WMB",
          "XOM"
         ],
         "legendgroup": "Energy",
         "marker": {
          "color": "#FF97FF",
          "symbol": "circle"
         },
         "mode": "markers",
         "name": "Energy",
         "orientation": "v",
         "showlegend": true,
         "type": "scatter",
         "x": [
          0.346,
          0.256,
          0.208,
          0.185,
          0.25,
          0.209,
          0.295,
          0.271,
          0.27,
          0.228,
          0.169,
          0.301,
          0.254,
          0.188,
          0.215,
          0.262,
          0.253,
          0.209,
          0.304,
          0.181,
          0.191
         ],
         "xaxis": "x",
         "y": [
          -0.347,
          0.349,
          -0.119,
          -0.055,
          -0.182,
          0.124,
          -0.018,
          0.003,
          -0.343,
          -0.149,
          0.506,
          -0.22,
          0.22,
          0.408,
          -0.26,
          -0.272,
          -0.284,
          0.782,
          -0.126,
          0.583,
          0.169
         ],
         "yaxis": "y"
        },
        {
         "customdata": [
          [
           "Consumer Discretionary",
           "Best Buy"
          ],
          [
           "Consumer Discretionary",
           "Booking Holdings"
          ],
          [
           "Consumer Discretionary",
           "BorgWarner"
          ],
          [
           "Consumer Discretionary",
           "D. R. Horton"
          ],
          [
           "Consumer Discretionary",
           "Domino's"
          ],
          [
           "Consumer Discretionary",
           "Darden Restaurants"
          ],
          [
           "Consumer Discretionary",
           "eBay"
          ],
          [
           "Consumer Discretionary",
           "Ford Motor Company"
          ],
          [
           "Consumer Discretionary",
           "General Motors"
          ],
          [
           "Consumer Discretionary",
           "Genuine Parts Company"
          ],
          [
           "Consumer Discretionary",
           "Garmin"
          ],
          [
           "Consumer Discretionary",
           "Hasbro"
          ],
          [
           "Consumer Discretionary",
           "Home Depot (The)"
          ],
          [
           "Consumer Discretionary",
           "Hilton Worldwide"
          ],
          [
           "Consumer Discretionary",
           "Lennar"
          ],
          [
           "Consumer Discretionary",
           "LKQ Corporation"
          ],
          [
           "Consumer Discretionary",
           "Lowe's"
          ],
          [
           "Consumer Discretionary",
           "Las Vegas Sands"
          ],
          [
           "Consumer Discretionary",
           "Marriott International"
          ],
          [
           "Consumer Discretionary",
           "McDonald's"
          ],
          [
           "Consumer Discretionary",
           "Nike, Inc."
          ],
          [
           "Consumer Discretionary",
           "PulteGroup"
          ],
          [
           "Consumer Discretionary",
           "Pool Corporation"
          ],
          [
           "Consumer Discretionary",
           "Royal Caribbean Group"
          ],
          [
           "Consumer Discretionary",
           "Ralph Lauren Corporation"
          ],
          [
           "Consumer Discretionary",
           "Ross Stores"
          ],
          [
           "Consumer Discretionary",
           "Starbucks"
          ],
          [
           "Consumer Discretionary",
           "TJX Companies"
          ],
          [
           "Consumer Discretionary",
           "Tapestry, Inc."
          ],
          [
           "Consumer Discretionary",
           "Tractor Supply"
          ],
          [
           "Consumer Discretionary",
           "Wynn Resorts"
          ],
          [
           "Consumer Discretionary",
           "Yum! Brands"
          ]
         ],
         "hovertemplate": "<b>%{hovertext}</b><br><br>Sector=%{customdata[0]}<br>Volatility=%{x}<br>Return=%{y}<br>Security=%{customdata[1]}<extra></extra>",
         "hovertext": [
          "BBY",
          "BKNG",
          "BWA",
          "DHI",
          "DPZ",
          "DRI",
          "EBAY",
          "F",
          "GM",
          "GPC",
          "GRMN",
          "HAS",
          "HD",
          "HLT",
          "LEN",
          "LKQ",
          "LOW",
          "LVS",
          "MAR",
          "MCD",
          "NKE",
          "PHM",
          "POOL",
          "RCL",
          "RL",
          "ROST",
          "SBUX",
          "TJX",
          "TPR",
          "TSCO",
          "WYNN",
          "YUM"
         ],
         "legendgroup": "Consumer Discretionary",
         "marker": {
          "color": "#FECB52",
          "symbol": "circle"
         },
         "mode": "markers",
         "name": "Consumer Discretionary",
         "orientation": "v",
         "showlegend": true,
         "type": "scatter",
         "x": [
          0.333,
          0.246,
          0.293,
          0.336,
          0.304,
          0.235,
          0.25,
          0.395,
          0.307,
          0.374,
          0.356,
          0.286,
          0.204,
          0.189,
          0.312,
          0.326,
          0.217,
          0.298,
          0.202,
          0.188,
          0.373,
          0.316,
          0.305,
          0.335,
          0.285,
          0.216,
          0.412,
          0.178,
          0.32,
          0.25,
          0.29,
          0.162
         ],
         "xaxis": "x",
         "y": [
          0.245,
          0.415,
          0.145,
          0.21,
          -0.068,
          -0.083,
          0.385,
          -0.238,
          0.356,
          -0.366,
          0.549,
          0.404,
          0.082,
          0.199,
          0.135,
          -0.503,
          0.171,
          -0.078,
          0.048,
          -0.028,
          -0.453,
          0.292,
          -0.1,
          0.758,
          0.071,
          -0.083,
          0.031,
          0.185,
          -0.033,
          0.127,
          -0.117,
          -0.077
         ],
         "yaxis": "y"
        },
        {
         "customdata": [
          [
           "Communication Services",
           "Comcast"
          ],
          [
           "Communication Services",
           "Walt Disney Company (The)"
          ],
          [
           "Communication Services",
           "Electronic Arts"
          ],
          [
           "Communication Services",
           "Fox Corporation (Class B)"
          ],
          [
           "Communication Services",
           "Fox Corporation (Class A)"
          ],
          [
           "Communication Services",
           "Alphabet Inc. (Class C)"
          ],
          [
           "Communication Services",
           "Alphabet Inc. (Class A)"
          ],
          [
           "Communication Services",
           "Interpublic Group of Companies (The)"
          ],
          [
           "Communication Services",
           "Meta Platforms"
          ],
          [
           "Communication Services",
           "News Corp (Class B)"
          ],
          [
           "Communication Services",
           "News Corp (Class A)"
          ],
          [
           "Communication Services",
           "Omnicom Group"
          ],
          [
           "Communication Services",
           "Paramount Global"
          ],
          [
           "Communication Services",
           "AT&T"
          ],
          [
           "Communication Services",
           "T-Mobile US"
          ],
          [
           "Communication Services",
           "Verizon"
          ]
         ],
         "hovertemplate": "<b>%{hovertext}</b><br><br>Sector=%{customdata[0]}<br>Volatility=%{x}<br>Return=%{y}<br>Security=%{customdata[1]}<extra></extra>",
         "hovertext": [
          "CMCSA",
          "DIS",
          "EA",
          "FOX",
          "FOXA",
          "GOOG",
          "GOOGL",
          "IPG",
          "META",
          "NWS",
          "NWSA",
          "OMC",
          "PARA",
          "T",
          "TMUS",
          "VZ"
         ],
         "legendgroup": "Communication Services",
         "marker": {
          "color": "#636efa",
          "symbol": "circle"
         },
         "mode": "markers",
         "name": "Communication Services",
         "orientation": "v",
         "showlegend": true,
         "type": "scatter",
         "x": [
          0.211,
          0.232,
          0.182,
          0.175,
          0.179,
          0.265,
          0.267,
          0.205,
          0.321,
          0.204,
          0.203,
          0.204,
          0.542,
          0.194,
          0.168,
          0.21
         ],
         "xaxis": "x",
         "y": [
          0.06,
          -0.163,
          0.081,
          0.492,
          0.474,
          0.249,
          0.249,
          -0.135,
          0.229,
          0.074,
          0.044,
          0.189,
          -0.035,
          0.423,
          0.441,
          0.051
         ],
         "yaxis": "y"
        }
       ],
       "layout": {
        "height": 500,
        "legend": {
         "title": {
          "text": "Sector"
         },
         "tracegroupgap": 0
        },
        "template": {
         "data": {
          "bar": [
           {
            "error_x": {
             "color": "#f2f5fa"
            },
            "error_y": {
             "color": "#f2f5fa"
            },
            "marker": {
             "line": {
              "color": "rgb(17,17,17)",
              "width": 0.5
             },
             "pattern": {
              "fillmode": "overlay",
              "size": 10,
              "solidity": 0.2
             }
            },
            "type": "bar"
           }
          ],
          "barpolar": [
           {
            "marker": {
             "line": {
              "color": "rgb(17,17,17)",
              "width": 0.5
             },
             "pattern": {
              "fillmode": "overlay",
              "size": 10,
              "solidity": 0.2
             }
            },
            "type": "barpolar"
           }
          ],
          "carpet": [
           {
            "aaxis": {
             "endlinecolor": "#A2B1C6",
             "gridcolor": "#506784",
             "linecolor": "#506784",
             "minorgridcolor": "#506784",
             "startlinecolor": "#A2B1C6"
            },
            "baxis": {
             "endlinecolor": "#A2B1C6",
             "gridcolor": "#506784",
             "linecolor": "#506784",
             "minorgridcolor": "#506784",
             "startlinecolor": "#A2B1C6"
            },
            "type": "carpet"
           }
          ],
          "choropleth": [
           {
            "colorbar": {
             "outlinewidth": 0,
             "ticks": ""
            },
            "type": "choropleth"
           }
          ],
          "contour": [
           {
            "colorbar": {
             "outlinewidth": 0,
             "ticks": ""
            },
            "colorscale": [
             [
              0,
              "#0d0887"
             ],
             [
              0.1111111111111111,
              "#46039f"
             ],
             [
              0.2222222222222222,
              "#7201a8"
             ],
             [
              0.3333333333333333,
              "#9c179e"
             ],
             [
              0.4444444444444444,
              "#bd3786"
             ],
             [
              0.5555555555555556,
              "#d8576b"
             ],
             [
              0.6666666666666666,
              "#ed7953"
             ],
             [
              0.7777777777777778,
              "#fb9f3a"
             ],
             [
              0.8888888888888888,
              "#fdca26"
             ],
             [
              1,
              "#f0f921"
             ]
            ],
            "type": "contour"
           }
          ],
          "contourcarpet": [
           {
            "colorbar": {
             "outlinewidth": 0,
             "ticks": ""
            },
            "type": "contourcarpet"
           }
          ],
          "heatmap": [
           {
            "colorbar": {
             "outlinewidth": 0,
             "ticks": ""
            },
            "colorscale": [
             [
              0,
              "#0d0887"
             ],
             [
              0.1111111111111111,
              "#46039f"
             ],
             [
              0.2222222222222222,
              "#7201a8"
             ],
             [
              0.3333333333333333,
              "#9c179e"
             ],
             [
              0.4444444444444444,
              "#bd3786"
             ],
             [
              0.5555555555555556,
              "#d8576b"
             ],
             [
              0.6666666666666666,
              "#ed7953"
             ],
             [
              0.7777777777777778,
              "#fb9f3a"
             ],
             [
              0.8888888888888888,
              "#fdca26"
             ],
             [
              1,
              "#f0f921"
             ]
            ],
            "type": "heatmap"
           }
          ],
          "heatmapgl": [
           {
            "colorbar": {
             "outlinewidth": 0,
             "ticks": ""
            },
            "colorscale": [
             [
              0,
              "#0d0887"
             ],
             [
              0.1111111111111111,
              "#46039f"
             ],
             [
              0.2222222222222222,
              "#7201a8"
             ],
             [
              0.3333333333333333,
              "#9c179e"
             ],
             [
              0.4444444444444444,
              "#bd3786"
             ],
             [
              0.5555555555555556,
              "#d8576b"
             ],
             [
              0.6666666666666666,
              "#ed7953"
             ],
             [
              0.7777777777777778,
              "#fb9f3a"
             ],
             [
              0.8888888888888888,
              "#fdca26"
             ],
             [
              1,
              "#f0f921"
             ]
            ],
            "type": "heatmapgl"
           }
          ],
          "histogram": [
           {
            "marker": {
             "pattern": {
              "fillmode": "overlay",
              "size": 10,
              "solidity": 0.2
             }
            },
            "type": "histogram"
           }
          ],
          "histogram2d": [
           {
            "colorbar": {
             "outlinewidth": 0,
             "ticks": ""
            },
            "colorscale": [
             [
              0,
              "#0d0887"
             ],
             [
              0.1111111111111111,
              "#46039f"
             ],
             [
              0.2222222222222222,
              "#7201a8"
             ],
             [
              0.3333333333333333,
              "#9c179e"
             ],
             [
              0.4444444444444444,
              "#bd3786"
             ],
             [
              0.5555555555555556,
              "#d8576b"
             ],
             [
              0.6666666666666666,
              "#ed7953"
             ],
             [
              0.7777777777777778,
              "#fb9f3a"
             ],
             [
              0.8888888888888888,
              "#fdca26"
             ],
             [
              1,
              "#f0f921"
             ]
            ],
            "type": "histogram2d"
           }
          ],
          "histogram2dcontour": [
           {
            "colorbar": {
             "outlinewidth": 0,
             "ticks": ""
            },
            "colorscale": [
             [
              0,
              "#0d0887"
             ],
             [
              0.1111111111111111,
              "#46039f"
             ],
             [
              0.2222222222222222,
              "#7201a8"
             ],
             [
              0.3333333333333333,
              "#9c179e"
             ],
             [
              0.4444444444444444,
              "#bd3786"
             ],
             [
              0.5555555555555556,
              "#d8576b"
             ],
             [
              0.6666666666666666,
              "#ed7953"
             ],
             [
              0.7777777777777778,
              "#fb9f3a"
             ],
             [
              0.8888888888888888,
              "#fdca26"
             ],
             [
              1,
              "#f0f921"
             ]
            ],
            "type": "histogram2dcontour"
           }
          ],
          "mesh3d": [
           {
            "colorbar": {
             "outlinewidth": 0,
             "ticks": ""
            },
            "type": "mesh3d"
           }
          ],
          "parcoords": [
           {
            "line": {
             "colorbar": {
              "outlinewidth": 0,
              "ticks": ""
             }
            },
            "type": "parcoords"
           }
          ],
          "pie": [
           {
            "automargin": true,
            "type": "pie"
           }
          ],
          "scatter": [
           {
            "marker": {
             "line": {
              "color": "#283442"
             }
            },
            "type": "scatter"
           }
          ],
          "scatter3d": [
           {
            "line": {
             "colorbar": {
              "outlinewidth": 0,
              "ticks": ""
             }
            },
            "marker": {
             "colorbar": {
              "outlinewidth": 0,
              "ticks": ""
             }
            },
            "type": "scatter3d"
           }
          ],
          "scattercarpet": [
           {
            "marker": {
             "colorbar": {
              "outlinewidth": 0,
              "ticks": ""
             }
            },
            "type": "scattercarpet"
           }
          ],
          "scattergeo": [
           {
            "marker": {
             "colorbar": {
              "outlinewidth": 0,
              "ticks": ""
             }
            },
            "type": "scattergeo"
           }
          ],
          "scattergl": [
           {
            "marker": {
             "line": {
              "color": "#283442"
             }
            },
            "type": "scattergl"
           }
          ],
          "scattermapbox": [
           {
            "marker": {
             "colorbar": {
              "outlinewidth": 0,
              "ticks": ""
             }
            },
            "type": "scattermapbox"
           }
          ],
          "scatterpolar": [
           {
            "marker": {
             "colorbar": {
              "outlinewidth": 0,
              "ticks": ""
             }
            },
            "type": "scatterpolar"
           }
          ],
          "scatterpolargl": [
           {
            "marker": {
             "colorbar": {
              "outlinewidth": 0,
              "ticks": ""
             }
            },
            "type": "scatterpolargl"
           }
          ],
          "scatterternary": [
           {
            "marker": {
             "colorbar": {
              "outlinewidth": 0,
              "ticks": ""
             }
            },
            "type": "scatterternary"
           }
          ],
          "surface": [
           {
            "colorbar": {
             "outlinewidth": 0,
             "ticks": ""
            },
            "colorscale": [
             [
              0,
              "#0d0887"
             ],
             [
              0.1111111111111111,
              "#46039f"
             ],
             [
              0.2222222222222222,
              "#7201a8"
             ],
             [
              0.3333333333333333,
              "#9c179e"
             ],
             [
              0.4444444444444444,
              "#bd3786"
             ],
             [
              0.5555555555555556,
              "#d8576b"
             ],
             [
              0.6666666666666666,
              "#ed7953"
             ],
             [
              0.7777777777777778,
              "#fb9f3a"
             ],
             [
              0.8888888888888888,
              "#fdca26"
             ],
             [
              1,
              "#f0f921"
             ]
            ],
            "type": "surface"
           }
          ],
          "table": [
           {
            "cells": {
             "fill": {
              "color": "#506784"
             },
             "line": {
              "color": "rgb(17,17,17)"
             }
            },
            "header": {
             "fill": {
              "color": "#2a3f5f"
             },
             "line": {
              "color": "rgb(17,17,17)"
             }
            },
            "type": "table"
           }
          ]
         },
         "layout": {
          "annotationdefaults": {
           "arrowcolor": "#f2f5fa",
           "arrowhead": 0,
           "arrowwidth": 1
          },
          "autotypenumbers": "strict",
          "coloraxis": {
           "colorbar": {
            "outlinewidth": 0,
            "ticks": ""
           }
          },
          "colorscale": {
           "diverging": [
            [
             0,
             "#8e0152"
            ],
            [
             0.1,
             "#c51b7d"
            ],
            [
             0.2,
             "#de77ae"
            ],
            [
             0.3,
             "#f1b6da"
            ],
            [
             0.4,
             "#fde0ef"
            ],
            [
             0.5,
             "#f7f7f7"
            ],
            [
             0.6,
             "#e6f5d0"
            ],
            [
             0.7,
             "#b8e186"
            ],
            [
             0.8,
             "#7fbc41"
            ],
            [
             0.9,
             "#4d9221"
            ],
            [
             1,
             "#276419"
            ]
           ],
           "sequential": [
            [
             0,
             "#0d0887"
            ],
            [
             0.1111111111111111,
             "#46039f"
            ],
            [
             0.2222222222222222,
             "#7201a8"
            ],
            [
             0.3333333333333333,
             "#9c179e"
            ],
            [
             0.4444444444444444,
             "#bd3786"
            ],
            [
             0.5555555555555556,
             "#d8576b"
            ],
            [
             0.6666666666666666,
             "#ed7953"
            ],
            [
             0.7777777777777778,
             "#fb9f3a"
            ],
            [
             0.8888888888888888,
             "#fdca26"
            ],
            [
             1,
             "#f0f921"
            ]
           ],
           "sequentialminus": [
            [
             0,
             "#0d0887"
            ],
            [
             0.1111111111111111,
             "#46039f"
            ],
            [
             0.2222222222222222,
             "#7201a8"
            ],
            [
             0.3333333333333333,
             "#9c179e"
            ],
            [
             0.4444444444444444,
             "#bd3786"
            ],
            [
             0.5555555555555556,
             "#d8576b"
            ],
            [
             0.6666666666666666,
             "#ed7953"
            ],
            [
             0.7777777777777778,
             "#fb9f3a"
            ],
            [
             0.8888888888888888,
             "#fdca26"
            ],
            [
             1,
             "#f0f921"
            ]
           ]
          },
          "colorway": [
           "#636efa",
           "#EF553B",
           "#00cc96",
           "#ab63fa",
           "#FFA15A",
           "#19d3f3",
           "#FF6692",
           "#B6E880",
           "#FF97FF",
           "#FECB52"
          ],
          "font": {
           "color": "#f2f5fa"
          },
          "geo": {
           "bgcolor": "rgb(17,17,17)",
           "lakecolor": "rgb(17,17,17)",
           "landcolor": "rgb(17,17,17)",
           "showlakes": true,
           "showland": true,
           "subunitcolor": "#506784"
          },
          "hoverlabel": {
           "align": "left"
          },
          "hovermode": "closest",
          "mapbox": {
           "style": "dark"
          },
          "paper_bgcolor": "rgb(17,17,17)",
          "plot_bgcolor": "rgb(17,17,17)",
          "polar": {
           "angularaxis": {
            "gridcolor": "#506784",
            "linecolor": "#506784",
            "ticks": ""
           },
           "bgcolor": "rgb(17,17,17)",
           "radialaxis": {
            "gridcolor": "#506784",
            "linecolor": "#506784",
            "ticks": ""
           }
          },
          "scene": {
           "xaxis": {
            "backgroundcolor": "rgb(17,17,17)",
            "gridcolor": "#506784",
            "gridwidth": 2,
            "linecolor": "#506784",
            "showbackground": true,
            "ticks": "",
            "zerolinecolor": "#C8D4E3"
           },
           "yaxis": {
            "backgroundcolor": "rgb(17,17,17)",
            "gridcolor": "#506784",
            "gridwidth": 2,
            "linecolor": "#506784",
            "showbackground": true,
            "ticks": "",
            "zerolinecolor": "#C8D4E3"
           },
           "zaxis": {
            "backgroundcolor": "rgb(17,17,17)",
            "gridcolor": "#506784",
            "gridwidth": 2,
            "linecolor": "#506784",
            "showbackground": true,
            "ticks": "",
            "zerolinecolor": "#C8D4E3"
           }
          },
          "shapedefaults": {
           "line": {
            "color": "#f2f5fa"
           }
          },
          "sliderdefaults": {
           "bgcolor": "#C8D4E3",
           "bordercolor": "rgb(17,17,17)",
           "borderwidth": 1,
           "tickwidth": 0
          },
          "ternary": {
           "aaxis": {
            "gridcolor": "#506784",
            "linecolor": "#506784",
            "ticks": ""
           },
           "baxis": {
            "gridcolor": "#506784",
            "linecolor": "#506784",
            "ticks": ""
           },
           "bgcolor": "rgb(17,17,17)",
           "caxis": {
            "gridcolor": "#506784",
            "linecolor": "#506784",
            "ticks": ""
           }
          },
          "title": {
           "x": 0.05
          },
          "updatemenudefaults": {
           "bgcolor": "#506784",
           "borderwidth": 0
          },
          "xaxis": {
           "automargin": true,
           "gridcolor": "#283442",
           "linecolor": "#506784",
           "ticks": "",
           "title": {
            "standoff": 15
           },
           "zerolinecolor": "#283442",
           "zerolinewidth": 2
          },
          "yaxis": {
           "automargin": true,
           "gridcolor": "#283442",
           "linecolor": "#506784",
           "ticks": "",
           "title": {
            "standoff": 15
           },
           "zerolinecolor": "#283442",
           "zerolinewidth": 2
          }
         }
        },
        "title": {
         "text": "S&P 500 dividend stocks by Volatility/Return",
         "x": 0.5
        },
        "width": 750,
        "xaxis": {
         "anchor": "y",
         "domain": [
          0,
          1
         ],
         "title": {
          "text": "Volatility"
         }
        },
        "yaxis": {
         "anchor": "x",
         "domain": [
          0,
          1
         ],
         "title": {
          "text": "Return"
         }
        }
       }
      }
     },
     "metadata": {},
     "output_type": "display_data"
    }
   ],
   "source": [
    "px.scatter(dividend_stock_data,\n",
    "           x='Volatility',\n",
    "           y='Return',\n",
    "           hover_data=['Sector','Security'],\n",
    "           hover_name='Symbol',\n",
    "           title='S&P 500 dividend stocks by Volatility/Return',\n",
    "           color='Sector',\n",
    "           width=750,\n",
    "           height=500,\n",
    "           template='plotly_dark'\n",
    "           ).update_layout(title_x=0.5)"
   ]
  },
  {
   "cell_type": "code",
   "execution_count": 40,
   "metadata": {},
   "outputs": [
    {
     "data": {
      "application/vnd.plotly.v1+json": {
       "config": {
        "plotlyServerURL": "https://plot.ly"
       },
       "data": [
        {
         "customdata": [
          [
           "Utilities",
           "AES Corporation"
          ],
          [
           "Utilities",
           "CenterPoint Energy"
          ],
          [
           "Utilities",
           "Exelon"
          ],
          [
           "Utilities",
           "NiSource"
          ],
          [
           "Utilities",
           "PG&E Corporation"
          ],
          [
           "Utilities",
           "PPL Corporation"
          ]
         ],
         "hovertemplate": "<b>%{hovertext}</b><br><br>Sector=%{customdata[0]}<br>Volatility=%{x}<br>Return=%{y}<br>Security=%{customdata[1]}<extra></extra>",
         "hovertext": [
          "AES",
          "CNP",
          "EXC",
          "NI",
          "PCG",
          "PPL"
         ],
         "legendgroup": "Utilities",
         "marker": {
          "color": "#636efa",
          "symbol": "circle"
         },
         "mode": "markers",
         "name": "Utilities",
         "orientation": "v",
         "showlegend": true,
         "type": "scatter",
         "x": [
          0.365,
          0.205,
          0.17,
          0.148,
          0.182,
          0.153
         ],
         "xaxis": "x",
         "y": [
          0.043,
          0.081,
          0.121,
          0.428,
          0.247,
          0.28
         ],
         "yaxis": "y"
        },
        {
         "customdata": [
          [
           "Materials",
           "Amcor"
          ],
          [
           "Materials",
           "Mosaic Company (The)"
          ]
         ],
         "hovertemplate": "<b>%{hovertext}</b><br><br>Sector=%{customdata[0]}<br>Volatility=%{x}<br>Return=%{y}<br>Security=%{customdata[1]}<extra></extra>",
         "hovertext": [
          "AMCR",
          "MOS"
         ],
         "legendgroup": "Materials",
         "marker": {
          "color": "#EF553B",
          "symbol": "circle"
         },
         "mode": "markers",
         "name": "Materials",
         "orientation": "v",
         "showlegend": true,
         "type": "scatter",
         "x": [
          0.213,
          0.312
         ],
         "xaxis": "x",
         "y": [
          0.263,
          -0.234
         ],
         "yaxis": "y"
        },
        {
         "customdata": [
          [
           "Energy",
           "APA Corporation"
          ],
          [
           "Energy",
           "Baker Hughes"
          ],
          [
           "Energy",
           "Coterra"
          ],
          [
           "Energy",
           "Devon Energy"
          ],
          [
           "Energy",
           "EQT Corporation"
          ],
          [
           "Energy",
           "Halliburton"
          ],
          [
           "Energy",
           "Kinder Morgan"
          ],
          [
           "Energy",
           "Marathon Oil"
          ]
         ],
         "hovertemplate": "<b>%{hovertext}</b><br><br>Sector=%{customdata[0]}<br>Volatility=%{x}<br>Return=%{y}<br>Security=%{customdata[1]}<extra></extra>",
         "hovertext": [
          "APA",
          "BKR",
          "CTRA",
          "DVN",
          "EQT",
          "HAL",
          "KMI",
          "MRO"
         ],
         "legendgroup": "Energy",
         "marker": {
          "color": "#00cc96",
          "symbol": "circle"
         },
         "mode": "markers",
         "name": "Energy",
         "orientation": "v",
         "showlegend": true,
         "type": "scatter",
         "x": [
          0.346,
          0.256,
          0.208,
          0.25,
          0.295,
          0.27,
          0.169,
          0.254
         ],
         "xaxis": "x",
         "y": [
          -0.347,
          0.349,
          -0.119,
          -0.182,
          -0.018,
          -0.343,
          0.506,
          0.22
         ],
         "yaxis": "y"
        },
        {
         "customdata": [
          [
           "Health Care",
           "Baxter International"
          ],
          [
           "Health Care",
           "Pfizer"
          ],
          [
           "Health Care",
           "Viatris"
          ]
         ],
         "hovertemplate": "<b>%{hovertext}</b><br><br>Sector=%{customdata[0]}<br>Volatility=%{x}<br>Return=%{y}<br>Security=%{customdata[1]}<extra></extra>",
         "hovertext": [
          "BAX",
          "PFE",
          "VTRS"
         ],
         "legendgroup": "Health Care",
         "marker": {
          "color": "#ab63fa",
          "symbol": "circle"
         },
         "mode": "markers",
         "name": "Health Care",
         "orientation": "v",
         "showlegend": true,
         "type": "scatter",
         "x": [
          0.273,
          0.228,
          0.262
         ],
         "xaxis": "x",
         "y": [
          -0.253,
          0.028,
          -0.222
         ],
         "yaxis": "y"
        },
        {
         "customdata": [
          [
           "Financials",
           "Franklin Resources"
          ],
          [
           "Financials",
           "Huntington Bancshares"
          ],
          [
           "Financials",
           "Invesco"
          ],
          [
           "Financials",
           "KeyCorp"
          ],
          [
           "Financials",
           "Regions Financial Corporation"
          ]
         ],
         "hovertemplate": "<b>%{hovertext}</b><br><br>Sector=%{customdata[0]}<br>Volatility=%{x}<br>Return=%{y}<br>Security=%{customdata[1]}<extra></extra>",
         "hovertext": [
          "BEN",
          "HBAN",
          "IVZ",
          "KEY",
          "RF"
         ],
         "legendgroup": "Financials",
         "marker": {
          "color": "#FFA15A",
          "symbol": "circle"
         },
         "mode": "markers",
         "name": "Financials",
         "orientation": "v",
         "showlegend": true,
         "type": "scatter",
         "x": [
          0.297,
          0.247,
          0.282,
          0.308,
          0.234
         ],
         "xaxis": "x",
         "y": [
          -0.378,
          0.277,
          0.176,
          0.274,
          0.384
         ],
         "yaxis": "y"
        },
        {
         "customdata": [
          [
           "Consumer Discretionary",
           "BorgWarner"
          ],
          [
           "Consumer Discretionary",
           "Ford Motor Company"
          ],
          [
           "Consumer Discretionary",
           "LKQ Corporation"
          ]
         ],
         "hovertemplate": "<b>%{hovertext}</b><br><br>Sector=%{customdata[0]}<br>Volatility=%{x}<br>Return=%{y}<br>Security=%{customdata[1]}<extra></extra>",
         "hovertext": [
          "BWA",
          "F",
          "LKQ"
         ],
         "legendgroup": "Consumer Discretionary",
         "marker": {
          "color": "#19d3f3",
          "symbol": "circle"
         },
         "mode": "markers",
         "name": "Consumer Discretionary",
         "orientation": "v",
         "showlegend": true,
         "type": "scatter",
         "x": [
          0.293,
          0.395,
          0.326
         ],
         "xaxis": "x",
         "y": [
          0.145,
          -0.238,
          -0.503
         ],
         "yaxis": "y"
        },
        {
         "customdata": [
          [
           "Consumer Staples",
           "Conagra Brands"
          ],
          [
           "Consumer Staples",
           "Hormel Foods"
          ],
          [
           "Consumer Staples",
           "Keurig Dr Pepper"
          ],
          [
           "Consumer Staples",
           "Kraft Heinz"
          ],
          [
           "Consumer Staples",
           "Kenvue"
          ],
          [
           "Consumer Staples",
           "Walgreens Boots Alliance"
          ]
         ],
         "hovertemplate": "<b>%{hovertext}</b><br><br>Sector=%{customdata[0]}<br>Volatility=%{x}<br>Return=%{y}<br>Security=%{customdata[1]}<extra></extra>",
         "hovertext": [
          "CAG",
          "HRL",
          "KDP",
          "KHC",
          "KVUE",
          "WBA"
         ],
         "legendgroup": "Consumer Staples",
         "marker": {
          "color": "#FF6692",
          "symbol": "circle"
         },
         "mode": "markers",
         "name": "Consumer Staples",
         "orientation": "v",
         "showlegend": true,
         "type": "scatter",
         "x": [
          0.219,
          0.285,
          0.166,
          0.189,
          0.269,
          0.54
         ],
         "xaxis": "x",
         "y": [
          0.032,
          0.002,
          0.126,
          -0.107,
          0.257,
          -1.198
         ],
         "yaxis": "y"
        },
        {
         "customdata": [
          [
           "Industrials",
           "CSX Corporation"
          ],
          [
           "Industrials",
           "Southwest Airlines"
          ]
         ],
         "hovertemplate": "<b>%{hovertext}</b><br><br>Sector=%{customdata[0]}<br>Volatility=%{x}<br>Return=%{y}<br>Security=%{customdata[1]}<extra></extra>",
         "hovertext": [
          "CSX",
          "LUV"
         ],
         "legendgroup": "Industrials",
         "marker": {
          "color": "#B6E880",
          "symbol": "circle"
         },
         "mode": "markers",
         "name": "Industrials",
         "orientation": "v",
         "showlegend": true,
         "type": "scatter",
         "x": [
          0.205,
          0.395
         ],
         "xaxis": "x",
         "y": [
          -0.188,
          -0.143
         ],
         "yaxis": "y"
        },
        {
         "customdata": [
          [
           "Real Estate",
           "Healthpeak Properties"
          ],
          [
           "Real Estate",
           "Host Hotels & Resorts"
          ],
          [
           "Real Estate",
           "Invitation Homes"
          ],
          [
           "Real Estate",
           "Vici Properties"
          ],
          [
           "Real Estate",
           "Weyerhaeuser"
          ]
         ],
         "hovertemplate": "<b>%{hovertext}</b><br><br>Sector=%{customdata[0]}<br>Volatility=%{x}<br>Return=%{y}<br>Security=%{customdata[1]}<extra></extra>",
         "hovertext": [
          "DOC",
          "HST",
          "INVH",
          "VICI",
          "WY"
         ],
         "legendgroup": "Real Estate",
         "marker": {
          "color": "#FF97FF",
          "symbol": "circle"
         },
         "mode": "markers",
         "name": "Real Estate",
         "orientation": "v",
         "showlegend": true,
         "type": "scatter",
         "x": [
          0.221,
          0.227,
          0.209,
          0.186,
          0.223
         ],
         "xaxis": "x",
         "y": [
          0.432,
          -0.233,
          -0.083,
          0.08,
          -0.099
         ],
         "yaxis": "y"
        },
        {
         "customdata": [
          [
           "Communication Services",
           "Fox Corporation (Class B)"
          ],
          [
           "Communication Services",
           "Interpublic Group of Companies (The)"
          ],
          [
           "Communication Services",
           "News Corp (Class B)"
          ],
          [
           "Communication Services",
           "News Corp (Class A)"
          ],
          [
           "Communication Services",
           "Paramount Global"
          ],
          [
           "Communication Services",
           "AT&T"
          ]
         ],
         "hovertemplate": "<b>%{hovertext}</b><br><br>Sector=%{customdata[0]}<br>Volatility=%{x}<br>Return=%{y}<br>Security=%{customdata[1]}<extra></extra>",
         "hovertext": [
          "FOX",
          "IPG",
          "NWS",
          "NWSA",
          "PARA",
          "T"
         ],
         "legendgroup": "Communication Services",
         "marker": {
          "color": "#FECB52",
          "symbol": "circle"
         },
         "mode": "markers",
         "name": "Communication Services",
         "orientation": "v",
         "showlegend": true,
         "type": "scatter",
         "x": [
          0.175,
          0.205,
          0.204,
          0.203,
          0.542,
          0.194
         ],
         "xaxis": "x",
         "y": [
          0.492,
          -0.135,
          0.074,
          0.044,
          -0.035,
          0.423
         ],
         "yaxis": "y"
        },
        {
         "customdata": [
          [
           "Information Technology",
           "Gen Digital"
          ],
          [
           "Information Technology",
           "Hewlett Packard Enterprise"
          ],
          [
           "Information Technology",
           "HP Inc."
          ],
          [
           "Information Technology",
           "Intel"
          ],
          [
           "Information Technology",
           "Juniper Networks"
          ]
         ],
         "hovertemplate": "<b>%{hovertext}</b><br><br>Sector=%{customdata[0]}<br>Volatility=%{x}<br>Return=%{y}<br>Security=%{customdata[1]}<extra></extra>",
         "hovertext": [
          "GEN",
          "HPE",
          "HPQ",
          "INTC",
          "JNPR"
         ],
         "legendgroup": "Information Technology",
         "marker": {
          "color": "#636efa",
          "symbol": "circle"
         },
         "mode": "markers",
         "name": "Information Technology",
         "orientation": "v",
         "showlegend": true,
         "type": "scatter",
         "x": [
          0.29,
          0.375,
          0.317,
          0.566,
          0.083
         ],
         "xaxis": "x",
         "y": [
          0.394,
          0.367,
          0.279,
          -0.996,
          0.065
         ],
         "yaxis": "y"
        }
       ],
       "layout": {
        "height": 500,
        "legend": {
         "title": {
          "text": "Sector"
         },
         "tracegroupgap": 0
        },
        "template": {
         "data": {
          "bar": [
           {
            "error_x": {
             "color": "#f2f5fa"
            },
            "error_y": {
             "color": "#f2f5fa"
            },
            "marker": {
             "line": {
              "color": "rgb(17,17,17)",
              "width": 0.5
             },
             "pattern": {
              "fillmode": "overlay",
              "size": 10,
              "solidity": 0.2
             }
            },
            "type": "bar"
           }
          ],
          "barpolar": [
           {
            "marker": {
             "line": {
              "color": "rgb(17,17,17)",
              "width": 0.5
             },
             "pattern": {
              "fillmode": "overlay",
              "size": 10,
              "solidity": 0.2
             }
            },
            "type": "barpolar"
           }
          ],
          "carpet": [
           {
            "aaxis": {
             "endlinecolor": "#A2B1C6",
             "gridcolor": "#506784",
             "linecolor": "#506784",
             "minorgridcolor": "#506784",
             "startlinecolor": "#A2B1C6"
            },
            "baxis": {
             "endlinecolor": "#A2B1C6",
             "gridcolor": "#506784",
             "linecolor": "#506784",
             "minorgridcolor": "#506784",
             "startlinecolor": "#A2B1C6"
            },
            "type": "carpet"
           }
          ],
          "choropleth": [
           {
            "colorbar": {
             "outlinewidth": 0,
             "ticks": ""
            },
            "type": "choropleth"
           }
          ],
          "contour": [
           {
            "colorbar": {
             "outlinewidth": 0,
             "ticks": ""
            },
            "colorscale": [
             [
              0,
              "#0d0887"
             ],
             [
              0.1111111111111111,
              "#46039f"
             ],
             [
              0.2222222222222222,
              "#7201a8"
             ],
             [
              0.3333333333333333,
              "#9c179e"
             ],
             [
              0.4444444444444444,
              "#bd3786"
             ],
             [
              0.5555555555555556,
              "#d8576b"
             ],
             [
              0.6666666666666666,
              "#ed7953"
             ],
             [
              0.7777777777777778,
              "#fb9f3a"
             ],
             [
              0.8888888888888888,
              "#fdca26"
             ],
             [
              1,
              "#f0f921"
             ]
            ],
            "type": "contour"
           }
          ],
          "contourcarpet": [
           {
            "colorbar": {
             "outlinewidth": 0,
             "ticks": ""
            },
            "type": "contourcarpet"
           }
          ],
          "heatmap": [
           {
            "colorbar": {
             "outlinewidth": 0,
             "ticks": ""
            },
            "colorscale": [
             [
              0,
              "#0d0887"
             ],
             [
              0.1111111111111111,
              "#46039f"
             ],
             [
              0.2222222222222222,
              "#7201a8"
             ],
             [
              0.3333333333333333,
              "#9c179e"
             ],
             [
              0.4444444444444444,
              "#bd3786"
             ],
             [
              0.5555555555555556,
              "#d8576b"
             ],
             [
              0.6666666666666666,
              "#ed7953"
             ],
             [
              0.7777777777777778,
              "#fb9f3a"
             ],
             [
              0.8888888888888888,
              "#fdca26"
             ],
             [
              1,
              "#f0f921"
             ]
            ],
            "type": "heatmap"
           }
          ],
          "heatmapgl": [
           {
            "colorbar": {
             "outlinewidth": 0,
             "ticks": ""
            },
            "colorscale": [
             [
              0,
              "#0d0887"
             ],
             [
              0.1111111111111111,
              "#46039f"
             ],
             [
              0.2222222222222222,
              "#7201a8"
             ],
             [
              0.3333333333333333,
              "#9c179e"
             ],
             [
              0.4444444444444444,
              "#bd3786"
             ],
             [
              0.5555555555555556,
              "#d8576b"
             ],
             [
              0.6666666666666666,
              "#ed7953"
             ],
             [
              0.7777777777777778,
              "#fb9f3a"
             ],
             [
              0.8888888888888888,
              "#fdca26"
             ],
             [
              1,
              "#f0f921"
             ]
            ],
            "type": "heatmapgl"
           }
          ],
          "histogram": [
           {
            "marker": {
             "pattern": {
              "fillmode": "overlay",
              "size": 10,
              "solidity": 0.2
             }
            },
            "type": "histogram"
           }
          ],
          "histogram2d": [
           {
            "colorbar": {
             "outlinewidth": 0,
             "ticks": ""
            },
            "colorscale": [
             [
              0,
              "#0d0887"
             ],
             [
              0.1111111111111111,
              "#46039f"
             ],
             [
              0.2222222222222222,
              "#7201a8"
             ],
             [
              0.3333333333333333,
              "#9c179e"
             ],
             [
              0.4444444444444444,
              "#bd3786"
             ],
             [
              0.5555555555555556,
              "#d8576b"
             ],
             [
              0.6666666666666666,
              "#ed7953"
             ],
             [
              0.7777777777777778,
              "#fb9f3a"
             ],
             [
              0.8888888888888888,
              "#fdca26"
             ],
             [
              1,
              "#f0f921"
             ]
            ],
            "type": "histogram2d"
           }
          ],
          "histogram2dcontour": [
           {
            "colorbar": {
             "outlinewidth": 0,
             "ticks": ""
            },
            "colorscale": [
             [
              0,
              "#0d0887"
             ],
             [
              0.1111111111111111,
              "#46039f"
             ],
             [
              0.2222222222222222,
              "#7201a8"
             ],
             [
              0.3333333333333333,
              "#9c179e"
             ],
             [
              0.4444444444444444,
              "#bd3786"
             ],
             [
              0.5555555555555556,
              "#d8576b"
             ],
             [
              0.6666666666666666,
              "#ed7953"
             ],
             [
              0.7777777777777778,
              "#fb9f3a"
             ],
             [
              0.8888888888888888,
              "#fdca26"
             ],
             [
              1,
              "#f0f921"
             ]
            ],
            "type": "histogram2dcontour"
           }
          ],
          "mesh3d": [
           {
            "colorbar": {
             "outlinewidth": 0,
             "ticks": ""
            },
            "type": "mesh3d"
           }
          ],
          "parcoords": [
           {
            "line": {
             "colorbar": {
              "outlinewidth": 0,
              "ticks": ""
             }
            },
            "type": "parcoords"
           }
          ],
          "pie": [
           {
            "automargin": true,
            "type": "pie"
           }
          ],
          "scatter": [
           {
            "marker": {
             "line": {
              "color": "#283442"
             }
            },
            "type": "scatter"
           }
          ],
          "scatter3d": [
           {
            "line": {
             "colorbar": {
              "outlinewidth": 0,
              "ticks": ""
             }
            },
            "marker": {
             "colorbar": {
              "outlinewidth": 0,
              "ticks": ""
             }
            },
            "type": "scatter3d"
           }
          ],
          "scattercarpet": [
           {
            "marker": {
             "colorbar": {
              "outlinewidth": 0,
              "ticks": ""
             }
            },
            "type": "scattercarpet"
           }
          ],
          "scattergeo": [
           {
            "marker": {
             "colorbar": {
              "outlinewidth": 0,
              "ticks": ""
             }
            },
            "type": "scattergeo"
           }
          ],
          "scattergl": [
           {
            "marker": {
             "line": {
              "color": "#283442"
             }
            },
            "type": "scattergl"
           }
          ],
          "scattermapbox": [
           {
            "marker": {
             "colorbar": {
              "outlinewidth": 0,
              "ticks": ""
             }
            },
            "type": "scattermapbox"
           }
          ],
          "scatterpolar": [
           {
            "marker": {
             "colorbar": {
              "outlinewidth": 0,
              "ticks": ""
             }
            },
            "type": "scatterpolar"
           }
          ],
          "scatterpolargl": [
           {
            "marker": {
             "colorbar": {
              "outlinewidth": 0,
              "ticks": ""
             }
            },
            "type": "scatterpolargl"
           }
          ],
          "scatterternary": [
           {
            "marker": {
             "colorbar": {
              "outlinewidth": 0,
              "ticks": ""
             }
            },
            "type": "scatterternary"
           }
          ],
          "surface": [
           {
            "colorbar": {
             "outlinewidth": 0,
             "ticks": ""
            },
            "colorscale": [
             [
              0,
              "#0d0887"
             ],
             [
              0.1111111111111111,
              "#46039f"
             ],
             [
              0.2222222222222222,
              "#7201a8"
             ],
             [
              0.3333333333333333,
              "#9c179e"
             ],
             [
              0.4444444444444444,
              "#bd3786"
             ],
             [
              0.5555555555555556,
              "#d8576b"
             ],
             [
              0.6666666666666666,
              "#ed7953"
             ],
             [
              0.7777777777777778,
              "#fb9f3a"
             ],
             [
              0.8888888888888888,
              "#fdca26"
             ],
             [
              1,
              "#f0f921"
             ]
            ],
            "type": "surface"
           }
          ],
          "table": [
           {
            "cells": {
             "fill": {
              "color": "#506784"
             },
             "line": {
              "color": "rgb(17,17,17)"
             }
            },
            "header": {
             "fill": {
              "color": "#2a3f5f"
             },
             "line": {
              "color": "rgb(17,17,17)"
             }
            },
            "type": "table"
           }
          ]
         },
         "layout": {
          "annotationdefaults": {
           "arrowcolor": "#f2f5fa",
           "arrowhead": 0,
           "arrowwidth": 1
          },
          "autotypenumbers": "strict",
          "coloraxis": {
           "colorbar": {
            "outlinewidth": 0,
            "ticks": ""
           }
          },
          "colorscale": {
           "diverging": [
            [
             0,
             "#8e0152"
            ],
            [
             0.1,
             "#c51b7d"
            ],
            [
             0.2,
             "#de77ae"
            ],
            [
             0.3,
             "#f1b6da"
            ],
            [
             0.4,
             "#fde0ef"
            ],
            [
             0.5,
             "#f7f7f7"
            ],
            [
             0.6,
             "#e6f5d0"
            ],
            [
             0.7,
             "#b8e186"
            ],
            [
             0.8,
             "#7fbc41"
            ],
            [
             0.9,
             "#4d9221"
            ],
            [
             1,
             "#276419"
            ]
           ],
           "sequential": [
            [
             0,
             "#0d0887"
            ],
            [
             0.1111111111111111,
             "#46039f"
            ],
            [
             0.2222222222222222,
             "#7201a8"
            ],
            [
             0.3333333333333333,
             "#9c179e"
            ],
            [
             0.4444444444444444,
             "#bd3786"
            ],
            [
             0.5555555555555556,
             "#d8576b"
            ],
            [
             0.6666666666666666,
             "#ed7953"
            ],
            [
             0.7777777777777778,
             "#fb9f3a"
            ],
            [
             0.8888888888888888,
             "#fdca26"
            ],
            [
             1,
             "#f0f921"
            ]
           ],
           "sequentialminus": [
            [
             0,
             "#0d0887"
            ],
            [
             0.1111111111111111,
             "#46039f"
            ],
            [
             0.2222222222222222,
             "#7201a8"
            ],
            [
             0.3333333333333333,
             "#9c179e"
            ],
            [
             0.4444444444444444,
             "#bd3786"
            ],
            [
             0.5555555555555556,
             "#d8576b"
            ],
            [
             0.6666666666666666,
             "#ed7953"
            ],
            [
             0.7777777777777778,
             "#fb9f3a"
            ],
            [
             0.8888888888888888,
             "#fdca26"
            ],
            [
             1,
             "#f0f921"
            ]
           ]
          },
          "colorway": [
           "#636efa",
           "#EF553B",
           "#00cc96",
           "#ab63fa",
           "#FFA15A",
           "#19d3f3",
           "#FF6692",
           "#B6E880",
           "#FF97FF",
           "#FECB52"
          ],
          "font": {
           "color": "#f2f5fa"
          },
          "geo": {
           "bgcolor": "rgb(17,17,17)",
           "lakecolor": "rgb(17,17,17)",
           "landcolor": "rgb(17,17,17)",
           "showlakes": true,
           "showland": true,
           "subunitcolor": "#506784"
          },
          "hoverlabel": {
           "align": "left"
          },
          "hovermode": "closest",
          "mapbox": {
           "style": "dark"
          },
          "paper_bgcolor": "rgb(17,17,17)",
          "plot_bgcolor": "rgb(17,17,17)",
          "polar": {
           "angularaxis": {
            "gridcolor": "#506784",
            "linecolor": "#506784",
            "ticks": ""
           },
           "bgcolor": "rgb(17,17,17)",
           "radialaxis": {
            "gridcolor": "#506784",
            "linecolor": "#506784",
            "ticks": ""
           }
          },
          "scene": {
           "xaxis": {
            "backgroundcolor": "rgb(17,17,17)",
            "gridcolor": "#506784",
            "gridwidth": 2,
            "linecolor": "#506784",
            "showbackground": true,
            "ticks": "",
            "zerolinecolor": "#C8D4E3"
           },
           "yaxis": {
            "backgroundcolor": "rgb(17,17,17)",
            "gridcolor": "#506784",
            "gridwidth": 2,
            "linecolor": "#506784",
            "showbackground": true,
            "ticks": "",
            "zerolinecolor": "#C8D4E3"
           },
           "zaxis": {
            "backgroundcolor": "rgb(17,17,17)",
            "gridcolor": "#506784",
            "gridwidth": 2,
            "linecolor": "#506784",
            "showbackground": true,
            "ticks": "",
            "zerolinecolor": "#C8D4E3"
           }
          },
          "shapedefaults": {
           "line": {
            "color": "#f2f5fa"
           }
          },
          "sliderdefaults": {
           "bgcolor": "#C8D4E3",
           "bordercolor": "rgb(17,17,17)",
           "borderwidth": 1,
           "tickwidth": 0
          },
          "ternary": {
           "aaxis": {
            "gridcolor": "#506784",
            "linecolor": "#506784",
            "ticks": ""
           },
           "baxis": {
            "gridcolor": "#506784",
            "linecolor": "#506784",
            "ticks": ""
           },
           "bgcolor": "rgb(17,17,17)",
           "caxis": {
            "gridcolor": "#506784",
            "linecolor": "#506784",
            "ticks": ""
           }
          },
          "title": {
           "x": 0.05
          },
          "updatemenudefaults": {
           "bgcolor": "#506784",
           "borderwidth": 0
          },
          "xaxis": {
           "automargin": true,
           "gridcolor": "#283442",
           "linecolor": "#506784",
           "ticks": "",
           "title": {
            "standoff": 15
           },
           "zerolinecolor": "#283442",
           "zerolinewidth": 2
          },
          "yaxis": {
           "automargin": true,
           "gridcolor": "#283442",
           "linecolor": "#506784",
           "ticks": "",
           "title": {
            "standoff": 15
           },
           "zerolinecolor": "#283442",
           "zerolinewidth": 2
          }
         }
        },
        "title": {
         "text": "S&P 500 dividend stocks by Volatility/Return",
         "x": 0.5
        },
        "width": 750,
        "xaxis": {
         "anchor": "y",
         "domain": [
          0,
          1
         ],
         "title": {
          "text": "Volatility"
         }
        },
        "yaxis": {
         "anchor": "x",
         "domain": [
          0,
          1
         ],
         "title": {
          "text": "Return"
         }
        }
       }
      }
     },
     "metadata": {},
     "output_type": "display_data"
    }
   ],
   "source": [
    "\n",
    "px.scatter(dividend_stock_data[dividend_stock_data['Price'] < 40],\n",
    "           x='Volatility',\n",
    "           y='Return',\n",
    "           hover_data=['Sector','Security'],\n",
    "           hover_name='Symbol',\n",
    "           title='S&P 500 dividend stocks by Volatility/Return',\n",
    "           color='Sector',\n",
    "           width=750,\n",
    "           height=500,\n",
    "           template='plotly_dark'\n",
    "           ).update_layout(title_x=0.5)"
   ]
  },
  {
   "cell_type": "code",
   "execution_count": 42,
   "metadata": {},
   "outputs": [
    {
     "data": {
      "text/html": [
       "<div>\n",
       "<style scoped>\n",
       "    .dataframe tbody tr th:only-of-type {\n",
       "        vertical-align: middle;\n",
       "    }\n",
       "\n",
       "    .dataframe tbody tr th {\n",
       "        vertical-align: top;\n",
       "    }\n",
       "\n",
       "    .dataframe thead th {\n",
       "        text-align: right;\n",
       "    }\n",
       "</style>\n",
       "<table border=\"1\" class=\"dataframe\">\n",
       "  <thead>\n",
       "    <tr style=\"text-align: right;\">\n",
       "      <th></th>\n",
       "      <th>Price</th>\n",
       "      <th>Symbol</th>\n",
       "      <th>Security</th>\n",
       "      <th>Sector</th>\n",
       "      <th>Return</th>\n",
       "      <th>Volatility</th>\n",
       "      <th>SharpeRatio</th>\n",
       "      <th>KMeansCluster</th>\n",
       "      <th>Dividends</th>\n",
       "    </tr>\n",
       "    <tr>\n",
       "      <th>Ticker</th>\n",
       "      <th></th>\n",
       "      <th></th>\n",
       "      <th></th>\n",
       "      <th></th>\n",
       "      <th></th>\n",
       "      <th></th>\n",
       "      <th></th>\n",
       "      <th></th>\n",
       "      <th></th>\n",
       "    </tr>\n",
       "  </thead>\n",
       "  <tbody>\n",
       "    <tr>\n",
       "      <th>KMI</th>\n",
       "      <td>24.510000</td>\n",
       "      <td>KMI</td>\n",
       "      <td>Kinder Morgan</td>\n",
       "      <td>Energy</td>\n",
       "      <td>0.506</td>\n",
       "      <td>0.169</td>\n",
       "      <td>2.987</td>\n",
       "      <td>3</td>\n",
       "      <td>0.046635</td>\n",
       "    </tr>\n",
       "    <tr>\n",
       "      <th>NI</th>\n",
       "      <td>35.160000</td>\n",
       "      <td>NI</td>\n",
       "      <td>NiSource</td>\n",
       "      <td>Utilities</td>\n",
       "      <td>0.428</td>\n",
       "      <td>0.148</td>\n",
       "      <td>2.888</td>\n",
       "      <td>3</td>\n",
       "      <td>0.030403</td>\n",
       "    </tr>\n",
       "    <tr>\n",
       "      <th>FOX</th>\n",
       "      <td>38.959999</td>\n",
       "      <td>FOX</td>\n",
       "      <td>Fox Corporation (Class B)</td>\n",
       "      <td>Communication Services</td>\n",
       "      <td>0.492</td>\n",
       "      <td>0.175</td>\n",
       "      <td>2.807</td>\n",
       "      <td>3</td>\n",
       "      <td>0.013350</td>\n",
       "    </tr>\n",
       "    <tr>\n",
       "      <th>T</th>\n",
       "      <td>22.540001</td>\n",
       "      <td>T</td>\n",
       "      <td>AT&amp;T</td>\n",
       "      <td>Communication Services</td>\n",
       "      <td>0.423</td>\n",
       "      <td>0.194</td>\n",
       "      <td>2.183</td>\n",
       "      <td>3</td>\n",
       "      <td>0.050409</td>\n",
       "    </tr>\n",
       "    <tr>\n",
       "      <th>DOC</th>\n",
       "      <td>22.450001</td>\n",
       "      <td>DOC</td>\n",
       "      <td>Healthpeak Properties</td>\n",
       "      <td>Real Estate</td>\n",
       "      <td>0.432</td>\n",
       "      <td>0.221</td>\n",
       "      <td>1.957</td>\n",
       "      <td>3</td>\n",
       "      <td>0.052817</td>\n",
       "    </tr>\n",
       "    <tr>\n",
       "      <th>PPL</th>\n",
       "      <td>32.560001</td>\n",
       "      <td>PPL</td>\n",
       "      <td>PPL Corporation</td>\n",
       "      <td>Utilities</td>\n",
       "      <td>0.280</td>\n",
       "      <td>0.153</td>\n",
       "      <td>1.831</td>\n",
       "      <td>0</td>\n",
       "      <td>0.030862</td>\n",
       "    </tr>\n",
       "    <tr>\n",
       "      <th>RF</th>\n",
       "      <td>23.870001</td>\n",
       "      <td>RF</td>\n",
       "      <td>Regions Financial Corporation</td>\n",
       "      <td>Financials</td>\n",
       "      <td>0.384</td>\n",
       "      <td>0.234</td>\n",
       "      <td>1.641</td>\n",
       "      <td>3</td>\n",
       "      <td>0.040316</td>\n",
       "    </tr>\n",
       "    <tr>\n",
       "      <th>BKR</th>\n",
       "      <td>38.080002</td>\n",
       "      <td>BKR</td>\n",
       "      <td>Baker Hughes</td>\n",
       "      <td>Energy</td>\n",
       "      <td>0.349</td>\n",
       "      <td>0.256</td>\n",
       "      <td>1.363</td>\n",
       "      <td>0</td>\n",
       "      <td>0.022139</td>\n",
       "    </tr>\n",
       "    <tr>\n",
       "      <th>GEN</th>\n",
       "      <td>29.110001</td>\n",
       "      <td>GEN</td>\n",
       "      <td>Gen Digital</td>\n",
       "      <td>Information Technology</td>\n",
       "      <td>0.394</td>\n",
       "      <td>0.290</td>\n",
       "      <td>1.358</td>\n",
       "      <td>3</td>\n",
       "      <td>0.018580</td>\n",
       "    </tr>\n",
       "    <tr>\n",
       "      <th>PCG</th>\n",
       "      <td>20.219999</td>\n",
       "      <td>PCG</td>\n",
       "      <td>PG&amp;E Corporation</td>\n",
       "      <td>Utilities</td>\n",
       "      <td>0.247</td>\n",
       "      <td>0.182</td>\n",
       "      <td>1.356</td>\n",
       "      <td>0</td>\n",
       "      <td>0.001486</td>\n",
       "    </tr>\n",
       "    <tr>\n",
       "      <th>AMCR</th>\n",
       "      <td>11.130000</td>\n",
       "      <td>AMCR</td>\n",
       "      <td>Amcor</td>\n",
       "      <td>Materials</td>\n",
       "      <td>0.263</td>\n",
       "      <td>0.213</td>\n",
       "      <td>1.235</td>\n",
       "      <td>0</td>\n",
       "      <td>0.033906</td>\n",
       "    </tr>\n",
       "    <tr>\n",
       "      <th>HBAN</th>\n",
       "      <td>15.590000</td>\n",
       "      <td>HBAN</td>\n",
       "      <td>Huntington Bancshares</td>\n",
       "      <td>Financials</td>\n",
       "      <td>0.277</td>\n",
       "      <td>0.247</td>\n",
       "      <td>1.121</td>\n",
       "      <td>0</td>\n",
       "      <td>0.039390</td>\n",
       "    </tr>\n",
       "    <tr>\n",
       "      <th>HPE</th>\n",
       "      <td>19.490000</td>\n",
       "      <td>HPE</td>\n",
       "      <td>Hewlett Packard Enterprise</td>\n",
       "      <td>Information Technology</td>\n",
       "      <td>0.367</td>\n",
       "      <td>0.375</td>\n",
       "      <td>0.979</td>\n",
       "      <td>3</td>\n",
       "      <td>0.025074</td>\n",
       "    </tr>\n",
       "    <tr>\n",
       "      <th>KVUE</th>\n",
       "      <td>22.930000</td>\n",
       "      <td>KVUE</td>\n",
       "      <td>Kenvue</td>\n",
       "      <td>Consumer Staples</td>\n",
       "      <td>0.257</td>\n",
       "      <td>0.269</td>\n",
       "      <td>0.955</td>\n",
       "      <td>0</td>\n",
       "      <td>0.034950</td>\n",
       "    </tr>\n",
       "    <tr>\n",
       "      <th>KEY</th>\n",
       "      <td>17.250000</td>\n",
       "      <td>KEY</td>\n",
       "      <td>KeyCorp</td>\n",
       "      <td>Financials</td>\n",
       "      <td>0.274</td>\n",
       "      <td>0.308</td>\n",
       "      <td>0.889</td>\n",
       "      <td>0</td>\n",
       "      <td>0.046884</td>\n",
       "    </tr>\n",
       "    <tr>\n",
       "      <th>HPQ</th>\n",
       "      <td>35.520000</td>\n",
       "      <td>HPQ</td>\n",
       "      <td>HP Inc.</td>\n",
       "      <td>Information Technology</td>\n",
       "      <td>0.279</td>\n",
       "      <td>0.317</td>\n",
       "      <td>0.879</td>\n",
       "      <td>0</td>\n",
       "      <td>0.029803</td>\n",
       "    </tr>\n",
       "    <tr>\n",
       "      <th>MRO</th>\n",
       "      <td>27.700001</td>\n",
       "      <td>MRO</td>\n",
       "      <td>Marathon Oil</td>\n",
       "      <td>Energy</td>\n",
       "      <td>0.220</td>\n",
       "      <td>0.254</td>\n",
       "      <td>0.866</td>\n",
       "      <td>0</td>\n",
       "      <td>0.016871</td>\n",
       "    </tr>\n",
       "    <tr>\n",
       "      <th>JNPR</th>\n",
       "      <td>38.900002</td>\n",
       "      <td>JNPR</td>\n",
       "      <td>Juniper Networks</td>\n",
       "      <td>Information Technology</td>\n",
       "      <td>0.065</td>\n",
       "      <td>0.083</td>\n",
       "      <td>0.789</td>\n",
       "      <td>6</td>\n",
       "      <td>0.022593</td>\n",
       "    </tr>\n",
       "    <tr>\n",
       "      <th>KDP</th>\n",
       "      <td>32.950001</td>\n",
       "      <td>KDP</td>\n",
       "      <td>Keurig Dr Pepper</td>\n",
       "      <td>Consumer Staples</td>\n",
       "      <td>0.126</td>\n",
       "      <td>0.166</td>\n",
       "      <td>0.758</td>\n",
       "      <td>6</td>\n",
       "      <td>0.026523</td>\n",
       "    </tr>\n",
       "    <tr>\n",
       "      <th>EXC</th>\n",
       "      <td>39.299999</td>\n",
       "      <td>EXC</td>\n",
       "      <td>Exelon</td>\n",
       "      <td>Utilities</td>\n",
       "      <td>0.121</td>\n",
       "      <td>0.170</td>\n",
       "      <td>0.712</td>\n",
       "      <td>6</td>\n",
       "      <td>0.037783</td>\n",
       "    </tr>\n",
       "    <tr>\n",
       "      <th>IVZ</th>\n",
       "      <td>17.340000</td>\n",
       "      <td>IVZ</td>\n",
       "      <td>Invesco</td>\n",
       "      <td>Financials</td>\n",
       "      <td>0.176</td>\n",
       "      <td>0.282</td>\n",
       "      <td>0.625</td>\n",
       "      <td>6</td>\n",
       "      <td>0.045761</td>\n",
       "    </tr>\n",
       "    <tr>\n",
       "      <th>BWA</th>\n",
       "      <td>33.630001</td>\n",
       "      <td>BWA</td>\n",
       "      <td>BorgWarner</td>\n",
       "      <td>Consumer Discretionary</td>\n",
       "      <td>0.145</td>\n",
       "      <td>0.293</td>\n",
       "      <td>0.494</td>\n",
       "      <td>6</td>\n",
       "      <td>0.013115</td>\n",
       "    </tr>\n",
       "    <tr>\n",
       "      <th>VICI</th>\n",
       "      <td>31.760000</td>\n",
       "      <td>VICI</td>\n",
       "      <td>Vici Properties</td>\n",
       "      <td>Real Estate</td>\n",
       "      <td>0.080</td>\n",
       "      <td>0.186</td>\n",
       "      <td>0.428</td>\n",
       "      <td>6</td>\n",
       "      <td>0.049661</td>\n",
       "    </tr>\n",
       "    <tr>\n",
       "      <th>CNP</th>\n",
       "      <td>29.530001</td>\n",
       "      <td>CNP</td>\n",
       "      <td>CenterPoint Energy</td>\n",
       "      <td>Utilities</td>\n",
       "      <td>0.081</td>\n",
       "      <td>0.205</td>\n",
       "      <td>0.397</td>\n",
       "      <td>6</td>\n",
       "      <td>0.027341</td>\n",
       "    </tr>\n",
       "    <tr>\n",
       "      <th>NWS</th>\n",
       "      <td>29.040001</td>\n",
       "      <td>NWS</td>\n",
       "      <td>News Corp (Class B)</td>\n",
       "      <td>Communication Services</td>\n",
       "      <td>0.074</td>\n",
       "      <td>0.204</td>\n",
       "      <td>0.364</td>\n",
       "      <td>6</td>\n",
       "      <td>0.006861</td>\n",
       "    </tr>\n",
       "    <tr>\n",
       "      <th>NWSA</th>\n",
       "      <td>27.250000</td>\n",
       "      <td>NWSA</td>\n",
       "      <td>News Corp (Class A)</td>\n",
       "      <td>Communication Services</td>\n",
       "      <td>0.044</td>\n",
       "      <td>0.203</td>\n",
       "      <td>0.217</td>\n",
       "      <td>6</td>\n",
       "      <td>0.007331</td>\n",
       "    </tr>\n",
       "    <tr>\n",
       "      <th>CAG</th>\n",
       "      <td>28.940001</td>\n",
       "      <td>CAG</td>\n",
       "      <td>Conagra Brands</td>\n",
       "      <td>Consumer Staples</td>\n",
       "      <td>0.032</td>\n",
       "      <td>0.219</td>\n",
       "      <td>0.147</td>\n",
       "      <td>6</td>\n",
       "      <td>0.048143</td>\n",
       "    </tr>\n",
       "    <tr>\n",
       "      <th>PFE</th>\n",
       "      <td>28.299999</td>\n",
       "      <td>PFE</td>\n",
       "      <td>Pfizer</td>\n",
       "      <td>Health Care</td>\n",
       "      <td>0.028</td>\n",
       "      <td>0.228</td>\n",
       "      <td>0.122</td>\n",
       "      <td>6</td>\n",
       "      <td>0.058555</td>\n",
       "    </tr>\n",
       "    <tr>\n",
       "      <th>AES</th>\n",
       "      <td>16.490000</td>\n",
       "      <td>AES</td>\n",
       "      <td>AES Corporation</td>\n",
       "      <td>Utilities</td>\n",
       "      <td>0.043</td>\n",
       "      <td>0.365</td>\n",
       "      <td>0.119</td>\n",
       "      <td>1</td>\n",
       "      <td>0.010536</td>\n",
       "    </tr>\n",
       "    <tr>\n",
       "      <th>HRL</th>\n",
       "      <td>30.549999</td>\n",
       "      <td>HRL</td>\n",
       "      <td>Hormel Foods</td>\n",
       "      <td>Consumer Staples</td>\n",
       "      <td>0.002</td>\n",
       "      <td>0.285</td>\n",
       "      <td>0.007</td>\n",
       "      <td>1</td>\n",
       "      <td>0.036675</td>\n",
       "    </tr>\n",
       "    <tr>\n",
       "      <th>EQT</th>\n",
       "      <td>36.540001</td>\n",
       "      <td>EQT</td>\n",
       "      <td>EQT Corporation</td>\n",
       "      <td>Energy</td>\n",
       "      <td>-0.018</td>\n",
       "      <td>0.295</td>\n",
       "      <td>-0.062</td>\n",
       "      <td>1</td>\n",
       "      <td>0.016334</td>\n",
       "    </tr>\n",
       "    <tr>\n",
       "      <th>PARA</th>\n",
       "      <td>10.940000</td>\n",
       "      <td>PARA</td>\n",
       "      <td>Paramount Global</td>\n",
       "      <td>Communication Services</td>\n",
       "      <td>-0.035</td>\n",
       "      <td>0.542</td>\n",
       "      <td>-0.065</td>\n",
       "      <td>1</td>\n",
       "      <td>0.018762</td>\n",
       "    </tr>\n",
       "    <tr>\n",
       "      <th>LUV</th>\n",
       "      <td>30.580000</td>\n",
       "      <td>LUV</td>\n",
       "      <td>Southwest Airlines</td>\n",
       "      <td>Industrials</td>\n",
       "      <td>-0.143</td>\n",
       "      <td>0.395</td>\n",
       "      <td>-0.363</td>\n",
       "      <td>1</td>\n",
       "      <td>0.022879</td>\n",
       "    </tr>\n",
       "    <tr>\n",
       "      <th>INVH</th>\n",
       "      <td>31.410000</td>\n",
       "      <td>INVH</td>\n",
       "      <td>Invitation Homes</td>\n",
       "      <td>Real Estate</td>\n",
       "      <td>-0.083</td>\n",
       "      <td>0.209</td>\n",
       "      <td>-0.399</td>\n",
       "      <td>1</td>\n",
       "      <td>0.033704</td>\n",
       "    </tr>\n",
       "    <tr>\n",
       "      <th>WY</th>\n",
       "      <td>31.160000</td>\n",
       "      <td>WY</td>\n",
       "      <td>Weyerhaeuser</td>\n",
       "      <td>Real Estate</td>\n",
       "      <td>-0.099</td>\n",
       "      <td>0.223</td>\n",
       "      <td>-0.444</td>\n",
       "      <td>1</td>\n",
       "      <td>0.024905</td>\n",
       "    </tr>\n",
       "    <tr>\n",
       "      <th>KHC</th>\n",
       "      <td>33.459999</td>\n",
       "      <td>KHC</td>\n",
       "      <td>Kraft Heinz</td>\n",
       "      <td>Consumer Staples</td>\n",
       "      <td>-0.107</td>\n",
       "      <td>0.189</td>\n",
       "      <td>-0.568</td>\n",
       "      <td>1</td>\n",
       "      <td>0.047436</td>\n",
       "    </tr>\n",
       "    <tr>\n",
       "      <th>CTRA</th>\n",
       "      <td>23.920000</td>\n",
       "      <td>CTRA</td>\n",
       "      <td>Coterra</td>\n",
       "      <td>Energy</td>\n",
       "      <td>-0.119</td>\n",
       "      <td>0.208</td>\n",
       "      <td>-0.573</td>\n",
       "      <td>1</td>\n",
       "      <td>0.008288</td>\n",
       "    </tr>\n",
       "    <tr>\n",
       "      <th>F</th>\n",
       "      <td>10.290000</td>\n",
       "      <td>F</td>\n",
       "      <td>Ford Motor Company</td>\n",
       "      <td>Consumer Discretionary</td>\n",
       "      <td>-0.238</td>\n",
       "      <td>0.395</td>\n",
       "      <td>-0.603</td>\n",
       "      <td>4</td>\n",
       "      <td>0.057307</td>\n",
       "    </tr>\n",
       "    <tr>\n",
       "      <th>IPG</th>\n",
       "      <td>29.400000</td>\n",
       "      <td>IPG</td>\n",
       "      <td>Interpublic Group of Companies (The)</td>\n",
       "      <td>Communication Services</td>\n",
       "      <td>-0.135</td>\n",
       "      <td>0.205</td>\n",
       "      <td>-0.662</td>\n",
       "      <td>1</td>\n",
       "      <td>0.043406</td>\n",
       "    </tr>\n",
       "    <tr>\n",
       "      <th>DVN</th>\n",
       "      <td>38.680000</td>\n",
       "      <td>DVN</td>\n",
       "      <td>Devon Energy</td>\n",
       "      <td>Energy</td>\n",
       "      <td>-0.182</td>\n",
       "      <td>0.250</td>\n",
       "      <td>-0.728</td>\n",
       "      <td>4</td>\n",
       "      <td>0.053455</td>\n",
       "    </tr>\n",
       "    <tr>\n",
       "      <th>MOS</th>\n",
       "      <td>26.760000</td>\n",
       "      <td>MOS</td>\n",
       "      <td>Mosaic Company (The)</td>\n",
       "      <td>Materials</td>\n",
       "      <td>-0.234</td>\n",
       "      <td>0.312</td>\n",
       "      <td>-0.751</td>\n",
       "      <td>4</td>\n",
       "      <td>0.030180</td>\n",
       "    </tr>\n",
       "    <tr>\n",
       "      <th>VTRS</th>\n",
       "      <td>11.600000</td>\n",
       "      <td>VTRS</td>\n",
       "      <td>Viatris</td>\n",
       "      <td>Health Care</td>\n",
       "      <td>-0.222</td>\n",
       "      <td>0.262</td>\n",
       "      <td>-0.846</td>\n",
       "      <td>4</td>\n",
       "      <td>0.040370</td>\n",
       "    </tr>\n",
       "    <tr>\n",
       "      <th>CSX</th>\n",
       "      <td>33.639999</td>\n",
       "      <td>CSX</td>\n",
       "      <td>CSX Corporation</td>\n",
       "      <td>Industrials</td>\n",
       "      <td>-0.188</td>\n",
       "      <td>0.205</td>\n",
       "      <td>-0.919</td>\n",
       "      <td>4</td>\n",
       "      <td>0.014013</td>\n",
       "    </tr>\n",
       "    <tr>\n",
       "      <th>BAX</th>\n",
       "      <td>35.700001</td>\n",
       "      <td>BAX</td>\n",
       "      <td>Baxter International</td>\n",
       "      <td>Health Care</td>\n",
       "      <td>-0.253</td>\n",
       "      <td>0.273</td>\n",
       "      <td>-0.927</td>\n",
       "      <td>4</td>\n",
       "      <td>0.032348</td>\n",
       "    </tr>\n",
       "    <tr>\n",
       "      <th>APA</th>\n",
       "      <td>23.600000</td>\n",
       "      <td>APA</td>\n",
       "      <td>APA Corporation</td>\n",
       "      <td>Energy</td>\n",
       "      <td>-0.347</td>\n",
       "      <td>0.346</td>\n",
       "      <td>-1.002</td>\n",
       "      <td>4</td>\n",
       "      <td>0.042608</td>\n",
       "    </tr>\n",
       "    <tr>\n",
       "      <th>HST</th>\n",
       "      <td>17.240000</td>\n",
       "      <td>HST</td>\n",
       "      <td>Host Hotels &amp; Resorts</td>\n",
       "      <td>Real Estate</td>\n",
       "      <td>-0.233</td>\n",
       "      <td>0.227</td>\n",
       "      <td>-1.029</td>\n",
       "      <td>4</td>\n",
       "      <td>0.043944</td>\n",
       "    </tr>\n",
       "    <tr>\n",
       "      <th>BEN</th>\n",
       "      <td>20.770000</td>\n",
       "      <td>BEN</td>\n",
       "      <td>Franklin Resources</td>\n",
       "      <td>Financials</td>\n",
       "      <td>-0.378</td>\n",
       "      <td>0.297</td>\n",
       "      <td>-1.272</td>\n",
       "      <td>4</td>\n",
       "      <td>0.058880</td>\n",
       "    </tr>\n",
       "    <tr>\n",
       "      <th>HAL</th>\n",
       "      <td>27.740000</td>\n",
       "      <td>HAL</td>\n",
       "      <td>Halliburton</td>\n",
       "      <td>Energy</td>\n",
       "      <td>-0.343</td>\n",
       "      <td>0.270</td>\n",
       "      <td>-1.273</td>\n",
       "      <td>4</td>\n",
       "      <td>0.023835</td>\n",
       "    </tr>\n",
       "    <tr>\n",
       "      <th>LKQ</th>\n",
       "      <td>36.790001</td>\n",
       "      <td>LKQ</td>\n",
       "      <td>LKQ Corporation</td>\n",
       "      <td>Consumer Discretionary</td>\n",
       "      <td>-0.503</td>\n",
       "      <td>0.326</td>\n",
       "      <td>-1.544</td>\n",
       "      <td>2</td>\n",
       "      <td>0.032163</td>\n",
       "    </tr>\n",
       "    <tr>\n",
       "      <th>INTC</th>\n",
       "      <td>21.520000</td>\n",
       "      <td>INTC</td>\n",
       "      <td>Intel</td>\n",
       "      <td>Information Technology</td>\n",
       "      <td>-0.996</td>\n",
       "      <td>0.566</td>\n",
       "      <td>-1.761</td>\n",
       "      <td>5</td>\n",
       "      <td>0.005605</td>\n",
       "    </tr>\n",
       "    <tr>\n",
       "      <th>WBA</th>\n",
       "      <td>9.460000</td>\n",
       "      <td>WBA</td>\n",
       "      <td>Walgreens Boots Alliance</td>\n",
       "      <td>Consumer Staples</td>\n",
       "      <td>-1.198</td>\n",
       "      <td>0.540</td>\n",
       "      <td>-2.216</td>\n",
       "      <td>5</td>\n",
       "      <td>0.133117</td>\n",
       "    </tr>\n",
       "  </tbody>\n",
       "</table>\n",
       "</div>"
      ],
      "text/plain": [
       "            Price Symbol                              Security  \\\n",
       "Ticker                                                           \n",
       "KMI     24.510000    KMI                         Kinder Morgan   \n",
       "NI      35.160000     NI                              NiSource   \n",
       "FOX     38.959999    FOX             Fox Corporation (Class B)   \n",
       "T       22.540001      T                                  AT&T   \n",
       "DOC     22.450001    DOC                 Healthpeak Properties   \n",
       "PPL     32.560001    PPL                       PPL Corporation   \n",
       "RF      23.870001     RF         Regions Financial Corporation   \n",
       "BKR     38.080002    BKR                          Baker Hughes   \n",
       "GEN     29.110001    GEN                           Gen Digital   \n",
       "PCG     20.219999    PCG                      PG&E Corporation   \n",
       "AMCR    11.130000   AMCR                                 Amcor   \n",
       "HBAN    15.590000   HBAN                 Huntington Bancshares   \n",
       "HPE     19.490000    HPE            Hewlett Packard Enterprise   \n",
       "KVUE    22.930000   KVUE                                Kenvue   \n",
       "KEY     17.250000    KEY                               KeyCorp   \n",
       "HPQ     35.520000    HPQ                               HP Inc.   \n",
       "MRO     27.700001    MRO                          Marathon Oil   \n",
       "JNPR    38.900002   JNPR                      Juniper Networks   \n",
       "KDP     32.950001    KDP                      Keurig Dr Pepper   \n",
       "EXC     39.299999    EXC                                Exelon   \n",
       "IVZ     17.340000    IVZ                               Invesco   \n",
       "BWA     33.630001    BWA                            BorgWarner   \n",
       "VICI    31.760000   VICI                       Vici Properties   \n",
       "CNP     29.530001    CNP                    CenterPoint Energy   \n",
       "NWS     29.040001    NWS                   News Corp (Class B)   \n",
       "NWSA    27.250000   NWSA                   News Corp (Class A)   \n",
       "CAG     28.940001    CAG                        Conagra Brands   \n",
       "PFE     28.299999    PFE                                Pfizer   \n",
       "AES     16.490000    AES                       AES Corporation   \n",
       "HRL     30.549999    HRL                          Hormel Foods   \n",
       "EQT     36.540001    EQT                       EQT Corporation   \n",
       "PARA    10.940000   PARA                      Paramount Global   \n",
       "LUV     30.580000    LUV                    Southwest Airlines   \n",
       "INVH    31.410000   INVH                      Invitation Homes   \n",
       "WY      31.160000     WY                          Weyerhaeuser   \n",
       "KHC     33.459999    KHC                           Kraft Heinz   \n",
       "CTRA    23.920000   CTRA                               Coterra   \n",
       "F       10.290000      F                    Ford Motor Company   \n",
       "IPG     29.400000    IPG  Interpublic Group of Companies (The)   \n",
       "DVN     38.680000    DVN                          Devon Energy   \n",
       "MOS     26.760000    MOS                  Mosaic Company (The)   \n",
       "VTRS    11.600000   VTRS                               Viatris   \n",
       "CSX     33.639999    CSX                       CSX Corporation   \n",
       "BAX     35.700001    BAX                  Baxter International   \n",
       "APA     23.600000    APA                       APA Corporation   \n",
       "HST     17.240000    HST                 Host Hotels & Resorts   \n",
       "BEN     20.770000    BEN                    Franklin Resources   \n",
       "HAL     27.740000    HAL                           Halliburton   \n",
       "LKQ     36.790001    LKQ                       LKQ Corporation   \n",
       "INTC    21.520000   INTC                                 Intel   \n",
       "WBA      9.460000    WBA              Walgreens Boots Alliance   \n",
       "\n",
       "                        Sector  Return  Volatility  SharpeRatio  \\\n",
       "Ticker                                                            \n",
       "KMI                     Energy   0.506       0.169        2.987   \n",
       "NI                   Utilities   0.428       0.148        2.888   \n",
       "FOX     Communication Services   0.492       0.175        2.807   \n",
       "T       Communication Services   0.423       0.194        2.183   \n",
       "DOC                Real Estate   0.432       0.221        1.957   \n",
       "PPL                  Utilities   0.280       0.153        1.831   \n",
       "RF                  Financials   0.384       0.234        1.641   \n",
       "BKR                     Energy   0.349       0.256        1.363   \n",
       "GEN     Information Technology   0.394       0.290        1.358   \n",
       "PCG                  Utilities   0.247       0.182        1.356   \n",
       "AMCR                 Materials   0.263       0.213        1.235   \n",
       "HBAN                Financials   0.277       0.247        1.121   \n",
       "HPE     Information Technology   0.367       0.375        0.979   \n",
       "KVUE          Consumer Staples   0.257       0.269        0.955   \n",
       "KEY                 Financials   0.274       0.308        0.889   \n",
       "HPQ     Information Technology   0.279       0.317        0.879   \n",
       "MRO                     Energy   0.220       0.254        0.866   \n",
       "JNPR    Information Technology   0.065       0.083        0.789   \n",
       "KDP           Consumer Staples   0.126       0.166        0.758   \n",
       "EXC                  Utilities   0.121       0.170        0.712   \n",
       "IVZ                 Financials   0.176       0.282        0.625   \n",
       "BWA     Consumer Discretionary   0.145       0.293        0.494   \n",
       "VICI               Real Estate   0.080       0.186        0.428   \n",
       "CNP                  Utilities   0.081       0.205        0.397   \n",
       "NWS     Communication Services   0.074       0.204        0.364   \n",
       "NWSA    Communication Services   0.044       0.203        0.217   \n",
       "CAG           Consumer Staples   0.032       0.219        0.147   \n",
       "PFE                Health Care   0.028       0.228        0.122   \n",
       "AES                  Utilities   0.043       0.365        0.119   \n",
       "HRL           Consumer Staples   0.002       0.285        0.007   \n",
       "EQT                     Energy  -0.018       0.295       -0.062   \n",
       "PARA    Communication Services  -0.035       0.542       -0.065   \n",
       "LUV                Industrials  -0.143       0.395       -0.363   \n",
       "INVH               Real Estate  -0.083       0.209       -0.399   \n",
       "WY                 Real Estate  -0.099       0.223       -0.444   \n",
       "KHC           Consumer Staples  -0.107       0.189       -0.568   \n",
       "CTRA                    Energy  -0.119       0.208       -0.573   \n",
       "F       Consumer Discretionary  -0.238       0.395       -0.603   \n",
       "IPG     Communication Services  -0.135       0.205       -0.662   \n",
       "DVN                     Energy  -0.182       0.250       -0.728   \n",
       "MOS                  Materials  -0.234       0.312       -0.751   \n",
       "VTRS               Health Care  -0.222       0.262       -0.846   \n",
       "CSX                Industrials  -0.188       0.205       -0.919   \n",
       "BAX                Health Care  -0.253       0.273       -0.927   \n",
       "APA                     Energy  -0.347       0.346       -1.002   \n",
       "HST                Real Estate  -0.233       0.227       -1.029   \n",
       "BEN                 Financials  -0.378       0.297       -1.272   \n",
       "HAL                     Energy  -0.343       0.270       -1.273   \n",
       "LKQ     Consumer Discretionary  -0.503       0.326       -1.544   \n",
       "INTC    Information Technology  -0.996       0.566       -1.761   \n",
       "WBA           Consumer Staples  -1.198       0.540       -2.216   \n",
       "\n",
       "        KMeansCluster  Dividends  \n",
       "Ticker                            \n",
       "KMI                 3   0.046635  \n",
       "NI                  3   0.030403  \n",
       "FOX                 3   0.013350  \n",
       "T                   3   0.050409  \n",
       "DOC                 3   0.052817  \n",
       "PPL                 0   0.030862  \n",
       "RF                  3   0.040316  \n",
       "BKR                 0   0.022139  \n",
       "GEN                 3   0.018580  \n",
       "PCG                 0   0.001486  \n",
       "AMCR                0   0.033906  \n",
       "HBAN                0   0.039390  \n",
       "HPE                 3   0.025074  \n",
       "KVUE                0   0.034950  \n",
       "KEY                 0   0.046884  \n",
       "HPQ                 0   0.029803  \n",
       "MRO                 0   0.016871  \n",
       "JNPR                6   0.022593  \n",
       "KDP                 6   0.026523  \n",
       "EXC                 6   0.037783  \n",
       "IVZ                 6   0.045761  \n",
       "BWA                 6   0.013115  \n",
       "VICI                6   0.049661  \n",
       "CNP                 6   0.027341  \n",
       "NWS                 6   0.006861  \n",
       "NWSA                6   0.007331  \n",
       "CAG                 6   0.048143  \n",
       "PFE                 6   0.058555  \n",
       "AES                 1   0.010536  \n",
       "HRL                 1   0.036675  \n",
       "EQT                 1   0.016334  \n",
       "PARA                1   0.018762  \n",
       "LUV                 1   0.022879  \n",
       "INVH                1   0.033704  \n",
       "WY                  1   0.024905  \n",
       "KHC                 1   0.047436  \n",
       "CTRA                1   0.008288  \n",
       "F                   4   0.057307  \n",
       "IPG                 1   0.043406  \n",
       "DVN                 4   0.053455  \n",
       "MOS                 4   0.030180  \n",
       "VTRS                4   0.040370  \n",
       "CSX                 4   0.014013  \n",
       "BAX                 4   0.032348  \n",
       "APA                 4   0.042608  \n",
       "HST                 4   0.043944  \n",
       "BEN                 4   0.058880  \n",
       "HAL                 4   0.023835  \n",
       "LKQ                 2   0.032163  \n",
       "INTC                5   0.005605  \n",
       "WBA                 5   0.133117  "
      ]
     },
     "execution_count": 42,
     "metadata": {},
     "output_type": "execute_result"
    }
   ],
   "source": [
    "dividend_stock_data[dividend_stock_data['Price'] < 40].sort_values(by='SharpeRatio', ascending=False)"
   ]
  }
 ],
 "metadata": {
  "kernelspec": {
   "display_name": "Python 3",
   "language": "python",
   "name": "python3"
  },
  "language_info": {
   "codemirror_mode": {
    "name": "ipython",
    "version": 3
   },
   "file_extension": ".py",
   "mimetype": "text/x-python",
   "name": "python",
   "nbconvert_exporter": "python",
   "pygments_lexer": "ipython3",
   "version": "3.12.3"
  }
 },
 "nbformat": 4,
 "nbformat_minor": 2
}
