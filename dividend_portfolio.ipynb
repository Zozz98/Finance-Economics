{
 "cells": [
  {
   "cell_type": "code",
   "execution_count": 1,
   "metadata": {},
   "outputs": [],
   "source": [
    "import numpy as np\n",
    "import itertools\n",
    "import pandas as pd\n",
    "import matplotlib.pyplot as plt\n",
    "#import scienceplots\n",
    "plt.rcParams['figure.figsize'] = (10,10)\n",
    "#plt.style.use(['science','grid','notebook'])\n",
    "import plotly.express as px\n",
    "import yfinance as yf\n",
    "import pandas_datareader as pdr\n",
    "import datetime as dt\n",
    "\n",
    "from sklearn.cluster import KMeans, DBSCAN\n",
    "from sklearn.metrics import silhouette_score"
   ]
  },
  {
   "cell_type": "code",
   "execution_count": 4,
   "metadata": {},
   "outputs": [],
   "source": [
    "url = \"https://en.wikipedia.org/wiki/List_of_S%26P_500_companies\"\n",
    "sp500_list = pd.read_html(url)\n",
    "sp500_list = sp500_list[0]\n",
    "sp500_list = sp500_list.drop(columns=['GICS Sub-Industry','Headquarters Location', 'Date added','CIK','Founded'], axis=1)\n",
    "sp500_list.rename(columns={'GICS Sector':'Sector'},inplace=True)\n",
    "sp500_list = sp500_list.sort_values(by='Symbol', ascending=True)"
   ]
  },
  {
   "cell_type": "code",
   "execution_count": 5,
   "metadata": {},
   "outputs": [],
   "source": [
    "end = dt.datetime.now()\n",
    "start = end - dt.timedelta(days=252)\n",
    "\n",
    "ticker_list = [i for i in sp500_list['Symbol']]\n",
    "\n",
    "for i in range(len(ticker_list)):\n",
    "    if ticker_list[i] == 'BRK.B':\n",
    "        ticker_list[i] = 'BRK-B'\n",
    "    elif ticker_list[i] == 'BF.B':\n",
    "        ticker_list[i] = 'BF-B'"
   ]
  },
  {
   "cell_type": "code",
   "execution_count": 6,
   "metadata": {},
   "outputs": [
    {
     "name": "stderr",
     "output_type": "stream",
     "text": [
      "[*********************100%%**********************]  503 of 503 completed\n"
     ]
    }
   ],
   "source": [
    "stocks = yf.download(ticker_list, start=start, end=end)['Close']"
   ]
  },
  {
   "cell_type": "code",
   "execution_count": 13,
   "metadata": {},
   "outputs": [
    {
     "data": {
      "text/plain": [
       "(175, 503)"
      ]
     },
     "execution_count": 13,
     "metadata": {},
     "output_type": "execute_result"
    }
   ],
   "source": [
    "stocks.shape"
   ]
  },
  {
   "cell_type": "code",
   "execution_count": 7,
   "metadata": {},
   "outputs": [],
   "source": [
    "log_return = np.log(stocks / stocks.shift(1)).replace(np.nan, 0)\n",
    "\n",
    "annual_return = log_return.mean() * 252\n",
    "annual_volatility = log_return.std() * np.sqrt(252)\n",
    "\n",
    "stock_data = pd.DataFrame()\n",
    "stock_data['Price'] = stocks.tail(1).T\n",
    "stock_data['Symbol'] = list(sp500_list['Symbol'])\n",
    "stock_data['Security'] = list(sp500_list['Security'])\n",
    "stock_data['Sector'] = list(sp500_list['Sector'])\n",
    "stock_data['Return'] = list(round(annual_return, 3))\n",
    "stock_data['Volatility'] = list(round(annual_volatility, 3))\n",
    "stock_data['SharpeRatio'] = list(round((annual_return / annual_volatility), 3))"
   ]
  },
  {
   "cell_type": "code",
   "execution_count": 15,
   "metadata": {},
   "outputs": [
    {
     "data": {
      "text/html": [
       "<div>\n",
       "<style scoped>\n",
       "    .dataframe tbody tr th:only-of-type {\n",
       "        vertical-align: middle;\n",
       "    }\n",
       "\n",
       "    .dataframe tbody tr th {\n",
       "        vertical-align: top;\n",
       "    }\n",
       "\n",
       "    .dataframe thead th {\n",
       "        text-align: right;\n",
       "    }\n",
       "</style>\n",
       "<table border=\"1\" class=\"dataframe\">\n",
       "  <thead>\n",
       "    <tr style=\"text-align: right;\">\n",
       "      <th></th>\n",
       "      <th>Price</th>\n",
       "      <th>Symbol</th>\n",
       "      <th>Security</th>\n",
       "      <th>Sector</th>\n",
       "      <th>Return</th>\n",
       "      <th>Volatility</th>\n",
       "      <th>SharpeRatio</th>\n",
       "    </tr>\n",
       "    <tr>\n",
       "      <th>Ticker</th>\n",
       "      <th></th>\n",
       "      <th></th>\n",
       "      <th></th>\n",
       "      <th></th>\n",
       "      <th></th>\n",
       "      <th></th>\n",
       "      <th></th>\n",
       "    </tr>\n",
       "  </thead>\n",
       "  <tbody>\n",
       "    <tr>\n",
       "      <th>A</th>\n",
       "      <td>130.309998</td>\n",
       "      <td>A</td>\n",
       "      <td>Agilent Technologies</td>\n",
       "      <td>Health Care</td>\n",
       "      <td>-0.019</td>\n",
       "      <td>0.260</td>\n",
       "      <td>-0.073</td>\n",
       "    </tr>\n",
       "    <tr>\n",
       "      <th>AAPL</th>\n",
       "      <td>225.910004</td>\n",
       "      <td>AAPL</td>\n",
       "      <td>Apple Inc.</td>\n",
       "      <td>Information Technology</td>\n",
       "      <td>0.307</td>\n",
       "      <td>0.244</td>\n",
       "      <td>1.258</td>\n",
       "    </tr>\n",
       "    <tr>\n",
       "      <th>ABBV</th>\n",
       "      <td>203.869995</td>\n",
       "      <td>ABBV</td>\n",
       "      <td>AbbVie</td>\n",
       "      <td>Health Care</td>\n",
       "      <td>0.195</td>\n",
       "      <td>0.213</td>\n",
       "      <td>0.915</td>\n",
       "    </tr>\n",
       "    <tr>\n",
       "      <th>ABNB</th>\n",
       "      <td>134.789993</td>\n",
       "      <td>ABNB</td>\n",
       "      <td>Airbnb</td>\n",
       "      <td>Consumer Discretionary</td>\n",
       "      <td>-0.179</td>\n",
       "      <td>0.322</td>\n",
       "      <td>-0.556</td>\n",
       "    </tr>\n",
       "    <tr>\n",
       "      <th>ABT</th>\n",
       "      <td>113.370003</td>\n",
       "      <td>ABT</td>\n",
       "      <td>Abbott Laboratories</td>\n",
       "      <td>Health Care</td>\n",
       "      <td>-0.075</td>\n",
       "      <td>0.184</td>\n",
       "      <td>-0.408</td>\n",
       "    </tr>\n",
       "    <tr>\n",
       "      <th>...</th>\n",
       "      <td>...</td>\n",
       "      <td>...</td>\n",
       "      <td>...</td>\n",
       "      <td>...</td>\n",
       "      <td>...</td>\n",
       "      <td>...</td>\n",
       "      <td>...</td>\n",
       "    </tr>\n",
       "    <tr>\n",
       "      <th>XYL</th>\n",
       "      <td>121.779999</td>\n",
       "      <td>XYL</td>\n",
       "      <td>Xylem Inc.</td>\n",
       "      <td>Industrials</td>\n",
       "      <td>-0.045</td>\n",
       "      <td>0.215</td>\n",
       "      <td>-0.208</td>\n",
       "    </tr>\n",
       "    <tr>\n",
       "      <th>YUM</th>\n",
       "      <td>131.160004</td>\n",
       "      <td>YUM</td>\n",
       "      <td>Yum! Brands</td>\n",
       "      <td>Consumer Discretionary</td>\n",
       "      <td>-0.077</td>\n",
       "      <td>0.162</td>\n",
       "      <td>-0.473</td>\n",
       "    </tr>\n",
       "    <tr>\n",
       "      <th>ZBH</th>\n",
       "      <td>106.919998</td>\n",
       "      <td>ZBH</td>\n",
       "      <td>Zimmer Biomet</td>\n",
       "      <td>Health Care</td>\n",
       "      <td>-0.272</td>\n",
       "      <td>0.224</td>\n",
       "      <td>-1.218</td>\n",
       "    </tr>\n",
       "    <tr>\n",
       "      <th>ZBRA</th>\n",
       "      <td>381.970001</td>\n",
       "      <td>ZBRA</td>\n",
       "      <td>Zebra Technologies</td>\n",
       "      <td>Information Technology</td>\n",
       "      <td>0.473</td>\n",
       "      <td>0.271</td>\n",
       "      <td>1.749</td>\n",
       "    </tr>\n",
       "    <tr>\n",
       "      <th>ZTS</th>\n",
       "      <td>178.779999</td>\n",
       "      <td>ZTS</td>\n",
       "      <td>Zoetis</td>\n",
       "      <td>Health Care</td>\n",
       "      <td>-0.141</td>\n",
       "      <td>0.249</td>\n",
       "      <td>-0.568</td>\n",
       "    </tr>\n",
       "  </tbody>\n",
       "</table>\n",
       "<p>503 rows × 7 columns</p>\n",
       "</div>"
      ],
      "text/plain": [
       "             Price Symbol              Security                  Sector  \\\n",
       "Ticker                                                                    \n",
       "A       130.309998      A  Agilent Technologies             Health Care   \n",
       "AAPL    225.910004   AAPL            Apple Inc.  Information Technology   \n",
       "ABBV    203.869995   ABBV                AbbVie             Health Care   \n",
       "ABNB    134.789993   ABNB                Airbnb  Consumer Discretionary   \n",
       "ABT     113.370003    ABT   Abbott Laboratories             Health Care   \n",
       "...            ...    ...                   ...                     ...   \n",
       "XYL     121.779999    XYL            Xylem Inc.             Industrials   \n",
       "YUM     131.160004    YUM           Yum! Brands  Consumer Discretionary   \n",
       "ZBH     106.919998    ZBH         Zimmer Biomet             Health Care   \n",
       "ZBRA    381.970001   ZBRA    Zebra Technologies  Information Technology   \n",
       "ZTS     178.779999    ZTS                Zoetis             Health Care   \n",
       "\n",
       "        Return  Volatility  SharpeRatio  \n",
       "Ticker                                   \n",
       "A       -0.019       0.260       -0.073  \n",
       "AAPL     0.307       0.244        1.258  \n",
       "ABBV     0.195       0.213        0.915  \n",
       "ABNB    -0.179       0.322       -0.556  \n",
       "ABT     -0.075       0.184       -0.408  \n",
       "...        ...         ...          ...  \n",
       "XYL     -0.045       0.215       -0.208  \n",
       "YUM     -0.077       0.162       -0.473  \n",
       "ZBH     -0.272       0.224       -1.218  \n",
       "ZBRA     0.473       0.271        1.749  \n",
       "ZTS     -0.141       0.249       -0.568  \n",
       "\n",
       "[503 rows x 7 columns]"
      ]
     },
     "execution_count": 15,
     "metadata": {},
     "output_type": "execute_result"
    }
   ],
   "source": [
    "stock_data"
   ]
  },
  {
   "cell_type": "code",
   "execution_count": 8,
   "metadata": {},
   "outputs": [
    {
     "data": {
      "application/vnd.plotly.v1+json": {
       "config": {
        "plotlyServerURL": "https://plot.ly"
       },
       "data": [
        {
         "customdata": [
          [
           "Health Care",
           "Agilent Technologies"
          ],
          [
           "Health Care",
           "AbbVie"
          ],
          [
           "Health Care",
           "Abbott Laboratories"
          ],
          [
           "Health Care",
           "Align Technology"
          ],
          [
           "Health Care",
           "Amgen"
          ],
          [
           "Health Care",
           "Baxter International"
          ],
          [
           "Health Care",
           "Becton Dickinson"
          ],
          [
           "Health Care",
           "Biogen"
          ],
          [
           "Health Care",
           "Bristol Myers Squibb"
          ],
          [
           "Health Care",
           "Boston Scientific"
          ],
          [
           "Health Care",
           "Cardinal Health"
          ],
          [
           "Health Care",
           "Cigna"
          ],
          [
           "Health Care",
           "Centene Corporation"
          ],
          [
           "Health Care",
           "Cooper Companies (The)"
          ],
          [
           "Health Care",
           "Cencora"
          ],
          [
           "Health Care",
           "Charles River Laboratories"
          ],
          [
           "Health Care",
           "Catalent"
          ],
          [
           "Health Care",
           "CVS Health"
          ],
          [
           "Health Care",
           "Quest Diagnostics"
          ],
          [
           "Health Care",
           "Danaher Corporation"
          ],
          [
           "Health Care",
           "DaVita"
          ],
          [
           "Health Care",
           "Dexcom"
          ],
          [
           "Health Care",
           "Elevance Health"
          ],
          [
           "Health Care",
           "Edwards Lifesciences"
          ],
          [
           "Health Care",
           "GE HealthCare"
          ],
          [
           "Health Care",
           "Gilead Sciences"
          ],
          [
           "Health Care",
           "HCA Healthcare"
          ],
          [
           "Health Care",
           "Hologic"
          ],
          [
           "Health Care",
           "Henry Schein"
          ],
          [
           "Health Care",
           "Humana"
          ],
          [
           "Health Care",
           "Idexx Laboratories"
          ],
          [
           "Health Care",
           "Incyte"
          ],
          [
           "Health Care",
           "IQVIA"
          ],
          [
           "Health Care",
           "Intuitive Surgical"
          ],
          [
           "Health Care",
           "Johnson & Johnson"
          ],
          [
           "Health Care",
           "LabCorp"
          ],
          [
           "Health Care",
           "Lilly (Eli)"
          ],
          [
           "Health Care",
           "McKesson Corporation"
          ],
          [
           "Health Care",
           "Medtronic"
          ],
          [
           "Health Care",
           "Molina Healthcare"
          ],
          [
           "Health Care",
           "Merck & Co."
          ],
          [
           "Health Care",
           "Moderna"
          ],
          [
           "Health Care",
           "Mettler Toledo"
          ],
          [
           "Health Care",
           "Pfizer"
          ],
          [
           "Health Care",
           "Insulet Corporation"
          ],
          [
           "Health Care",
           "Regeneron Pharmaceuticals"
          ],
          [
           "Health Care",
           "ResMed"
          ],
          [
           "Health Care",
           "Revvity"
          ],
          [
           "Health Care",
           "Solventum"
          ],
          [
           "Health Care",
           "Steris"
          ],
          [
           "Health Care",
           "Stryker Corporation"
          ],
          [
           "Health Care",
           "Bio-Techne"
          ],
          [
           "Health Care",
           "Teleflex"
          ],
          [
           "Health Care",
           "Thermo Fisher Scientific"
          ],
          [
           "Health Care",
           "Universal Health Services"
          ],
          [
           "Health Care",
           "UnitedHealth Group"
          ],
          [
           "Health Care",
           "Vertex Pharmaceuticals"
          ],
          [
           "Health Care",
           "Viatris"
          ],
          [
           "Health Care",
           "Waters Corporation"
          ],
          [
           "Health Care",
           "West Pharmaceutical Services"
          ],
          [
           "Health Care",
           "Zimmer Biomet"
          ],
          [
           "Health Care",
           "Zoetis"
          ]
         ],
         "hovertemplate": "<b>%{hovertext}</b><br><br>Sector=%{customdata[0]}<br>Volatility=%{x}<br>Return=%{y}<br>Security=%{customdata[1]}<extra></extra>",
         "hovertext": [
          "A",
          "ABBV",
          "ABT",
          "ALGN",
          "AMGN",
          "BAX",
          "BDX",
          "BIIB",
          "BMY",
          "BSX",
          "CAH",
          "CI",
          "CNC",
          "COO",
          "COR",
          "CRL",
          "CTLT",
          "CVS",
          "DGX",
          "DHR",
          "DVA",
          "DXCM",
          "ELV",
          "EW",
          "GEHC",
          "GILD",
          "HCA",
          "HOLX",
          "HSIC",
          "HUM",
          "IDXX",
          "INCY",
          "IQV",
          "ISRG",
          "JNJ",
          "LH",
          "LLY",
          "MCK",
          "MDT",
          "MOH",
          "MRK",
          "MRNA",
          "MTD",
          "PFE",
          "PODD",
          "REGN",
          "RMD",
          "RVTY",
          "SOLV",
          "STE",
          "SYK",
          "TECH",
          "TFX",
          "TMO",
          "UHS",
          "UNH",
          "VRTX",
          "VTRS",
          "WAT",
          "WST",
          "ZBH",
          "ZTS"
         ],
         "legendgroup": "Health Care",
         "marker": {
          "color": "#636efa",
          "symbol": "circle"
         },
         "mode": "markers",
         "name": "Health Care",
         "orientation": "v",
         "showlegend": true,
         "type": "scatter",
         "x": [
          0.268,
          0.212,
          0.192,
          0.364,
          0.245,
          0.272,
          0.174,
          0.258,
          0.285,
          0.169,
          0.213,
          0.202,
          0.32,
          0.255,
          0.173,
          0.328,
          0.088,
          0.351,
          0.206,
          0.224,
          0.292,
          0.732,
          0.255,
          0.517,
          0.283,
          0.213,
          0.254,
          0.161,
          0.246,
          0.393,
          0.268,
          0.28,
          0.271,
          0.264,
          0.159,
          0.227,
          0.299,
          0.257,
          0.182,
          0.407,
          0.22,
          0.589,
          0.329,
          0.227,
          0.382,
          0.223,
          0.396,
          0.266,
          0.31,
          0.21,
          0.181,
          0.37,
          0.31,
          0.193,
          0.305,
          0.255,
          0.192,
          0.261,
          0.331,
          0.379,
          0.223,
          0.248
         ],
         "xaxis": "x",
         "y": [
          0.063,
          0.186,
          -0.01,
          -0.615,
          0.135,
          -0.235,
          -0.066,
          -0.351,
          0.083,
          0.329,
          0.097,
          -0.158,
          -0.358,
          0.12,
          -0.007,
          -0.439,
          -0.003,
          -0.449,
          0.296,
          -0.028,
          0.167,
          -0.723,
          -0.311,
          -0.371,
          -0.024,
          0.27,
          0.18,
          0.108,
          -0.167,
          -0.461,
          -0.451,
          0.301,
          -0.252,
          0.374,
          -0.013,
          0.067,
          0.095,
          0.016,
          0.072,
          -0.336,
          -0.346,
          -0.818,
          0.181,
          0.034,
          0.336,
          -0.219,
          0.397,
          0.208,
          0.093,
          -0.068,
          0.032,
          0.068,
          -0.217,
          -0.015,
          0.318,
          0.107,
          0.133,
          -0.213,
          0.181,
          -0.241,
          -0.255,
          -0.128
         ],
         "yaxis": "y"
        },
        {
         "customdata": [
          [
           "Information Technology",
           "Apple Inc."
          ],
          [
           "Information Technology",
           "Accenture"
          ],
          [
           "Information Technology",
           "Adobe Inc."
          ],
          [
           "Information Technology",
           "Analog Devices"
          ],
          [
           "Information Technology",
           "Autodesk"
          ],
          [
           "Information Technology",
           "Akamai Technologies"
          ],
          [
           "Information Technology",
           "Applied Materials"
          ],
          [
           "Information Technology",
           "Advanced Micro Devices"
          ],
          [
           "Information Technology",
           "Arista Networks"
          ],
          [
           "Information Technology",
           "Ansys"
          ],
          [
           "Information Technology",
           "Amphenol"
          ],
          [
           "Information Technology",
           "Broadcom"
          ],
          [
           "Information Technology",
           "Cadence Design Systems"
          ],
          [
           "Information Technology",
           "CDW"
          ],
          [
           "Information Technology",
           "Salesforce"
          ],
          [
           "Information Technology",
           "CrowdStrike"
          ],
          [
           "Information Technology",
           "Cisco"
          ],
          [
           "Information Technology",
           "Cognizant"
          ],
          [
           "Information Technology",
           "Dell Technologies"
          ],
          [
           "Information Technology",
           "Enphase Energy"
          ],
          [
           "Information Technology",
           "EPAM Systems"
          ],
          [
           "Information Technology",
           "F5, Inc."
          ],
          [
           "Information Technology",
           "Fair Isaac"
          ],
          [
           "Information Technology",
           "First Solar"
          ],
          [
           "Information Technology",
           "Fortinet"
          ],
          [
           "Information Technology",
           "GoDaddy"
          ],
          [
           "Information Technology",
           "Gen Digital"
          ],
          [
           "Information Technology",
           "Corning Inc."
          ],
          [
           "Information Technology",
           "Hewlett Packard Enterprise"
          ],
          [
           "Information Technology",
           "HP Inc."
          ],
          [
           "Information Technology",
           "IBM"
          ],
          [
           "Information Technology",
           "Intel"
          ],
          [
           "Information Technology",
           "Intuit"
          ],
          [
           "Information Technology",
           "Gartner"
          ],
          [
           "Information Technology",
           "Jabil"
          ],
          [
           "Information Technology",
           "Juniper Networks"
          ],
          [
           "Information Technology",
           "Keysight Technologies"
          ],
          [
           "Information Technology",
           "KLA Corporation"
          ],
          [
           "Information Technology",
           "Lam Research"
          ],
          [
           "Information Technology",
           "Microchip Technology"
          ],
          [
           "Information Technology",
           "Monolithic Power Systems"
          ],
          [
           "Information Technology",
           "Microsoft"
          ],
          [
           "Information Technology",
           "Motorola Solutions"
          ],
          [
           "Information Technology",
           "Micron Technology"
          ],
          [
           "Information Technology",
           "ServiceNow"
          ],
          [
           "Information Technology",
           "NetApp"
          ],
          [
           "Information Technology",
           "Nvidia"
          ],
          [
           "Information Technology",
           "NXP Semiconductors"
          ],
          [
           "Information Technology",
           "ON Semiconductor"
          ],
          [
           "Information Technology",
           "Oracle Corporation"
          ],
          [
           "Information Technology",
           "Palo Alto Networks"
          ],
          [
           "Information Technology",
           "Palantir Technologies"
          ],
          [
           "Information Technology",
           "PTC Inc."
          ],
          [
           "Information Technology",
           "Qualcomm"
          ],
          [
           "Information Technology",
           "Qorvo"
          ],
          [
           "Information Technology",
           "Roper Technologies"
          ],
          [
           "Information Technology",
           "Supermicro"
          ],
          [
           "Information Technology",
           "Synopsys"
          ],
          [
           "Information Technology",
           "Seagate Technology"
          ],
          [
           "Information Technology",
           "Skyworks Solutions"
          ],
          [
           "Information Technology",
           "Teledyne Technologies"
          ],
          [
           "Information Technology",
           "TE Connectivity"
          ],
          [
           "Information Technology",
           "Teradyne"
          ],
          [
           "Information Technology",
           "Trimble Inc."
          ],
          [
           "Information Technology",
           "Texas Instruments"
          ],
          [
           "Information Technology",
           "Tyler Technologies"
          ],
          [
           "Information Technology",
           "Verisign"
          ],
          [
           "Information Technology",
           "Western Digital"
          ],
          [
           "Information Technology",
           "Zebra Technologies"
          ]
         ],
         "hovertemplate": "<b>%{hovertext}</b><br><br>Sector=%{customdata[0]}<br>Volatility=%{x}<br>Return=%{y}<br>Security=%{customdata[1]}<extra></extra>",
         "hovertext": [
          "AAPL",
          "ACN",
          "ADBE",
          "ADI",
          "ADSK",
          "AKAM",
          "AMAT",
          "AMD",
          "ANET",
          "ANSS",
          "APH",
          "AVGO",
          "CDNS",
          "CDW",
          "CRM",
          "CRWD",
          "CSCO",
          "CTSH",
          "DELL",
          "ENPH",
          "EPAM",
          "FFIV",
          "FICO",
          "FSLR",
          "FTNT",
          "GDDY",
          "GEN",
          "GLW",
          "HPE",
          "HPQ",
          "IBM",
          "INTC",
          "INTU",
          "IT",
          "JBL",
          "JNPR",
          "KEYS",
          "KLAC",
          "LRCX",
          "MCHP",
          "MPWR",
          "MSFT",
          "MSI",
          "MU",
          "NOW",
          "NTAP",
          "NVDA",
          "NXPI",
          "ON",
          "ORCL",
          "PANW",
          "PLTR",
          "PTC",
          "QCOM",
          "QRVO",
          "ROP",
          "SMCI",
          "SNPS",
          "STX",
          "SWKS",
          "TDY",
          "TEL",
          "TER",
          "TRMB",
          "TXN",
          "TYL",
          "VRSN",
          "WDC",
          "ZBRA"
         ],
         "legendgroup": "Information Technology",
         "marker": {
          "color": "#EF553B",
          "symbol": "circle"
         },
         "mode": "markers",
         "name": "Information Technology",
         "orientation": "v",
         "showlegend": true,
         "type": "scatter",
         "x": [
          0.243,
          0.253,
          0.356,
          0.338,
          0.267,
          0.262,
          0.435,
          0.489,
          0.412,
          0.203,
          0.284,
          0.498,
          0.357,
          0.294,
          0.383,
          0.482,
          0.188,
          0.194,
          0.635,
          0.596,
          0.472,
          0.284,
          0.3,
          0.541,
          0.372,
          0.23,
          0.29,
          0.278,
          0.375,
          0.317,
          0.218,
          0.569,
          0.274,
          0.228,
          0.417,
          0.082,
          0.307,
          0.475,
          0.454,
          0.388,
          0.541,
          0.204,
          0.155,
          0.521,
          0.364,
          0.324,
          0.547,
          0.377,
          0.485,
          0.329,
          0.325,
          0.498,
          0.214,
          0.414,
          0.548,
          0.178,
          0.998,
          0.347,
          0.323,
          0.403,
          0.23,
          0.199,
          0.482,
          0.234,
          0.281,
          0.236,
          0.175,
          0.393,
          0.27
         ],
         "xaxis": "x",
         "y": [
          0.298,
          -0.119,
          -0.202,
          0.241,
          0.145,
          -0.094,
          -0.105,
          -0.309,
          0.545,
          -0.087,
          0.335,
          0.381,
          -0.135,
          -0.383,
          -0.001,
          -0.056,
          0.171,
          -0.121,
          0.509,
          -0.46,
          -0.664,
          0.325,
          0.634,
          0.507,
          0.208,
          0.518,
          0.375,
          0.547,
          0.403,
          0.308,
          0.163,
          -0.915,
          -0.104,
          0.131,
          -0.137,
          0.065,
          0.017,
          -0.002,
          -0.314,
          -0.154,
          0.115,
          0.002,
          0.455,
          0.214,
          0.281,
          0.414,
          0.783,
          -0.01,
          -0.08,
          0.6,
          0.347,
          0.866,
          0.029,
          0.093,
          -0.633,
          -0.05,
          -1.63,
          -0.16,
          0.186,
          -0.227,
          0.089,
          0.055,
          0.096,
          0.001,
          0.323,
          0.468,
          -0.148,
          0.249,
          0.48
         ],
         "yaxis": "y"
        },
        {
         "customdata": [
          [
           "Consumer Discretionary",
           "Airbnb"
          ],
          [
           "Consumer Discretionary",
           "Amazon"
          ],
          [
           "Consumer Discretionary",
           "Aptiv"
          ],
          [
           "Consumer Discretionary",
           "AutoZone"
          ],
          [
           "Consumer Discretionary",
           "Best Buy"
          ],
          [
           "Consumer Discretionary",
           "Booking Holdings"
          ],
          [
           "Consumer Discretionary",
           "BorgWarner"
          ],
          [
           "Consumer Discretionary",
           "Carnival"
          ],
          [
           "Consumer Discretionary",
           "Chipotle Mexican Grill"
          ],
          [
           "Consumer Discretionary",
           "Caesars Entertainment"
          ],
          [
           "Consumer Discretionary",
           "Deckers Brands"
          ],
          [
           "Consumer Discretionary",
           "D. R. Horton"
          ],
          [
           "Consumer Discretionary",
           "Domino's"
          ],
          [
           "Consumer Discretionary",
           "Darden Restaurants"
          ],
          [
           "Consumer Discretionary",
           "eBay"
          ],
          [
           "Consumer Discretionary",
           "Expedia Group"
          ],
          [
           "Consumer Discretionary",
           "Ford Motor Company"
          ],
          [
           "Consumer Discretionary",
           "General Motors"
          ],
          [
           "Consumer Discretionary",
           "Genuine Parts Company"
          ],
          [
           "Consumer Discretionary",
           "Garmin"
          ],
          [
           "Consumer Discretionary",
           "Hasbro"
          ],
          [
           "Consumer Discretionary",
           "Home Depot (The)"
          ],
          [
           "Consumer Discretionary",
           "Hilton Worldwide"
          ],
          [
           "Consumer Discretionary",
           "CarMax"
          ],
          [
           "Consumer Discretionary",
           "Lennar"
          ],
          [
           "Consumer Discretionary",
           "LKQ Corporation"
          ],
          [
           "Consumer Discretionary",
           "Lowe's"
          ],
          [
           "Consumer Discretionary",
           "Lululemon Athletica"
          ],
          [
           "Consumer Discretionary",
           "Las Vegas Sands"
          ],
          [
           "Consumer Discretionary",
           "Marriott International"
          ],
          [
           "Consumer Discretionary",
           "McDonald's"
          ],
          [
           "Consumer Discretionary",
           "MGM Resorts"
          ],
          [
           "Consumer Discretionary",
           "Mohawk Industries"
          ],
          [
           "Consumer Discretionary",
           "Norwegian Cruise Line Holdings"
          ],
          [
           "Consumer Discretionary",
           "Nike, Inc."
          ],
          [
           "Consumer Discretionary",
           "NVR, Inc."
          ],
          [
           "Consumer Discretionary",
           "O'Reilly Auto Parts"
          ],
          [
           "Consumer Discretionary",
           "PulteGroup"
          ],
          [
           "Consumer Discretionary",
           "Pool Corporation"
          ],
          [
           "Consumer Discretionary",
           "Royal Caribbean Group"
          ],
          [
           "Consumer Discretionary",
           "Ralph Lauren Corporation"
          ],
          [
           "Consumer Discretionary",
           "Ross Stores"
          ],
          [
           "Consumer Discretionary",
           "Starbucks"
          ],
          [
           "Consumer Discretionary",
           "TJX Companies"
          ],
          [
           "Consumer Discretionary",
           "Tapestry, Inc."
          ],
          [
           "Consumer Discretionary",
           "Tractor Supply"
          ],
          [
           "Consumer Discretionary",
           "Tesla, Inc."
          ],
          [
           "Consumer Discretionary",
           "Ulta Beauty"
          ],
          [
           "Consumer Discretionary",
           "Wynn Resorts"
          ],
          [
           "Consumer Discretionary",
           "Yum! Brands"
          ]
         ],
         "hovertemplate": "<b>%{hovertext}</b><br><br>Sector=%{customdata[0]}<br>Volatility=%{x}<br>Return=%{y}<br>Security=%{customdata[1]}<extra></extra>",
         "hovertext": [
          "ABNB",
          "AMZN",
          "APTV",
          "AZO",
          "BBY",
          "BKNG",
          "BWA",
          "CCL",
          "CMG",
          "CZR",
          "DECK",
          "DHI",
          "DPZ",
          "DRI",
          "EBAY",
          "EXPE",
          "F",
          "GM",
          "GPC",
          "GRMN",
          "HAS",
          "HD",
          "HLT",
          "KMX",
          "LEN",
          "LKQ",
          "LOW",
          "LULU",
          "LVS",
          "MAR",
          "MCD",
          "MGM",
          "MHK",
          "NCLH",
          "NKE",
          "NVR",
          "ORLY",
          "PHM",
          "POOL",
          "RCL",
          "RL",
          "ROST",
          "SBUX",
          "TJX",
          "TPR",
          "TSCO",
          "TSLA",
          "ULTA",
          "WYNN",
          "YUM"
         ],
         "legendgroup": "Consumer Discretionary",
         "marker": {
          "color": "#00cc96",
          "symbol": "circle"
         },
         "mode": "markers",
         "name": "Consumer Discretionary",
         "orientation": "v",
         "showlegend": true,
         "type": "scatter",
         "x": [
          0.321,
          0.274,
          0.421,
          0.202,
          0.332,
          0.246,
          0.293,
          0.432,
          0.308,
          0.453,
          0.39,
          0.335,
          0.304,
          0.234,
          0.25,
          0.357,
          0.394,
          0.307,
          0.373,
          0.355,
          0.286,
          0.203,
          0.189,
          0.327,
          0.311,
          0.325,
          0.217,
          0.384,
          0.297,
          0.201,
          0.188,
          0.364,
          0.419,
          0.531,
          0.372,
          0.225,
          0.183,
          0.316,
          0.304,
          0.334,
          0.284,
          0.216,
          0.411,
          0.178,
          0.319,
          0.25,
          0.62,
          0.352,
          0.289,
          0.162
         ],
         "xaxis": "x",
         "y": [
          -0.18,
          0.18,
          -0.431,
          0.123,
          0.245,
          0.423,
          0.146,
          0.519,
          0.117,
          -0.035,
          0.115,
          0.225,
          -0.039,
          -0.081,
          0.39,
          0.212,
          -0.225,
          0.378,
          -0.368,
          0.543,
          0.388,
          0.091,
          0.21,
          -0.002,
          0.148,
          -0.491,
          0.182,
          -0.588,
          -0.065,
          0.053,
          -0.012,
          -0.199,
          0.234,
          0.619,
          -0.444,
          0.297,
          0.124,
          0.307,
          -0.076,
          0.742,
          0.057,
          -0.087,
          0.047,
          0.187,
          -0.044,
          0.151,
          0.382,
          -0.564,
          -0.113,
          -0.061
         ],
         "yaxis": "y"
        },
        {
         "customdata": [
          [
           "Financials",
           "Arch Capital Group"
          ],
          [
           "Financials",
           "Aflac"
          ],
          [
           "Financials",
           "American International Group"
          ],
          [
           "Financials",
           "Assurant"
          ],
          [
           "Financials",
           "Arthur J. Gallagher & Co."
          ],
          [
           "Financials",
           "Allstate"
          ],
          [
           "Financials",
           "Ameriprise Financial"
          ],
          [
           "Financials",
           "Aon"
          ],
          [
           "Financials",
           "American Express"
          ],
          [
           "Financials",
           "Bank of America"
          ],
          [
           "Financials",
           "Franklin Resources"
          ],
          [
           "Financials",
           "BNY Mellon"
          ],
          [
           "Financials",
           "BlackRock"
          ],
          [
           "Financials",
           "Berkshire Hathaway"
          ],
          [
           "Financials",
           "Brown & Brown"
          ],
          [
           "Financials",
           "Blackstone Inc."
          ],
          [
           "Financials",
           "Citigroup"
          ],
          [
           "Financials",
           "Chubb Limited"
          ],
          [
           "Financials",
           "Cboe Global Markets"
          ],
          [
           "Financials",
           "Citizens Financial Group"
          ],
          [
           "Financials",
           "Cincinnati Financial"
          ],
          [
           "Financials",
           "CME Group"
          ],
          [
           "Financials",
           "Capital One"
          ],
          [
           "Financials",
           "Corpay"
          ],
          [
           "Financials",
           "Discover Financial"
          ],
          [
           "Financials",
           "Everest Group"
          ],
          [
           "Financials",
           "Erie Indemnity"
          ],
          [
           "Financials",
           "FactSet"
          ],
          [
           "Financials",
           "Fiserv"
          ],
          [
           "Financials",
           "Fidelity National Information Services"
          ],
          [
           "Financials",
           "Fifth Third Bancorp"
          ],
          [
           "Financials",
           "Globe Life"
          ],
          [
           "Financials",
           "Global Payments"
          ],
          [
           "Financials",
           "Goldman Sachs"
          ],
          [
           "Financials",
           "Huntington Bancshares"
          ],
          [
           "Financials",
           "Hartford (The)"
          ],
          [
           "Financials",
           "Intercontinental Exchange"
          ],
          [
           "Financials",
           "Invesco"
          ],
          [
           "Financials",
           "Jack Henry & Associates"
          ],
          [
           "Financials",
           "JPMorgan Chase"
          ],
          [
           "Financials",
           "KeyCorp"
          ],
          [
           "Financials",
           "KKR"
          ],
          [
           "Financials",
           "Loews Corporation"
          ],
          [
           "Financials",
           "Mastercard"
          ],
          [
           "Financials",
           "Moody's Corporation"
          ],
          [
           "Financials",
           "MetLife"
          ],
          [
           "Financials",
           "MarketAxess"
          ],
          [
           "Financials",
           "Marsh McLennan"
          ],
          [
           "Financials",
           "Morgan Stanley"
          ],
          [
           "Financials",
           "MSCI"
          ],
          [
           "Financials",
           "M&T Bank"
          ],
          [
           "Financials",
           "Nasdaq, Inc."
          ],
          [
           "Financials",
           "Northern Trust"
          ],
          [
           "Financials",
           "Principal Financial Group"
          ],
          [
           "Financials",
           "Progressive Corporation"
          ],
          [
           "Financials",
           "PNC Financial Services"
          ],
          [
           "Financials",
           "Prudential Financial"
          ],
          [
           "Financials",
           "PayPal"
          ],
          [
           "Financials",
           "Regions Financial Corporation"
          ],
          [
           "Financials",
           "Raymond James Financial"
          ],
          [
           "Financials",
           "Charles Schwab Corporation"
          ],
          [
           "Financials",
           "S&P Global"
          ],
          [
           "Financials",
           "State Street Corporation"
          ],
          [
           "Financials",
           "Synchrony Financial"
          ],
          [
           "Financials",
           "Truist Financial"
          ],
          [
           "Financials",
           "T. Rowe Price"
          ],
          [
           "Financials",
           "Travelers Companies (The)"
          ],
          [
           "Financials",
           "U.S. Bancorp"
          ],
          [
           "Financials",
           "Visa Inc."
          ],
          [
           "Financials",
           "Wells Fargo"
          ],
          [
           "Financials",
           "W. R. Berkley Corporation"
          ],
          [
           "Financials",
           "Willis Towers Watson"
          ]
         ],
         "hovertemplate": "<b>%{hovertext}</b><br><br>Sector=%{customdata[0]}<br>Volatility=%{x}<br>Return=%{y}<br>Security=%{customdata[1]}<extra></extra>",
         "hovertext": [
          "ACGL",
          "AFL",
          "AIG",
          "AIZ",
          "AJG",
          "ALL",
          "AMP",
          "AON",
          "AXP",
          "BAC",
          "BEN",
          "BK",
          "BLK",
          "BRK.B",
          "BRO",
          "BX",
          "C",
          "CB",
          "CBOE",
          "CFG",
          "CINF",
          "CME",
          "COF",
          "CPAY",
          "DFS",
          "EG",
          "ERIE",
          "FDS",
          "FI",
          "FIS",
          "FITB",
          "GL",
          "GPN",
          "GS",
          "HBAN",
          "HIG",
          "ICE",
          "IVZ",
          "JKHY",
          "JPM",
          "KEY",
          "KKR",
          "L",
          "MA",
          "MCO",
          "MET",
          "MKTX",
          "MMC",
          "MS",
          "MSCI",
          "MTB",
          "NDAQ",
          "NTRS",
          "PFG",
          "PGR",
          "PNC",
          "PRU",
          "PYPL",
          "RF",
          "RJF",
          "SCHW",
          "SPGI",
          "STT",
          "SYF",
          "TFC",
          "TROW",
          "TRV",
          "USB",
          "V",
          "WFC",
          "WRB",
          "WTW"
         ],
         "legendgroup": "Financials",
         "marker": {
          "color": "#ab63fa",
          "symbol": "circle"
         },
         "mode": "markers",
         "name": "Financials",
         "orientation": "v",
         "showlegend": true,
         "type": "scatter",
         "x": [
          0.227,
          0.181,
          0.214,
          0.186,
          0.171,
          0.215,
          0.191,
          0.199,
          0.232,
          0.219,
          0.297,
          0.177,
          0.183,
          0.137,
          0.167,
          0.284,
          0.267,
          0.187,
          0.212,
          0.268,
          0.213,
          0.158,
          0.271,
          0.238,
          0.288,
          0.252,
          0.283,
          0.221,
          0.17,
          0.204,
          0.234,
          0.999,
          0.302,
          0.231,
          0.247,
          0.212,
          0.158,
          0.282,
          0.178,
          0.221,
          0.308,
          0.315,
          0.161,
          0.156,
          0.184,
          0.204,
          0.302,
          0.131,
          0.242,
          0.28,
          0.241,
          0.193,
          0.237,
          0.216,
          0.201,
          0.228,
          0.226,
          0.302,
          0.233,
          0.228,
          0.262,
          0.154,
          0.211,
          0.309,
          0.246,
          0.22,
          0.248,
          0.237,
          0.172,
          0.257,
          0.218,
          0.158
         ],
         "xaxis": "x",
         "y": [
          0.171,
          0.392,
          0.096,
          0.112,
          0.202,
          0.22,
          0.33,
          0.218,
          0.342,
          0.311,
          -0.369,
          0.443,
          0.276,
          0.117,
          0.31,
          0.429,
          0.202,
          0.144,
          0.056,
          0.445,
          0.323,
          0.04,
          0.271,
          0.23,
          0.29,
          -0.07,
          0.294,
          -0.034,
          0.398,
          0.464,
          0.381,
          -0.264,
          -0.358,
          0.414,
          0.285,
          0.203,
          0.167,
          0.196,
          0.052,
          0.283,
          0.285,
          0.526,
          0.08,
          0.092,
          0.242,
          0.186,
          0.427,
          0.108,
          0.436,
          0.005,
          0.498,
          0.393,
          0.312,
          0.045,
          0.347,
          0.376,
          0.19,
          0.376,
          0.387,
          0.319,
          0.138,
          0.142,
          0.338,
          0.454,
          0.299,
          0.006,
          0.154,
          0.234,
          0.025,
          0.273,
          0.018,
          0.117
         ],
         "yaxis": "y"
        },
        {
         "customdata": [
          [
           "Consumer Staples",
           "Archer Daniels Midland"
          ],
          [
           "Consumer Staples",
           "Brown–Forman"
          ],
          [
           "Consumer Staples",
           "Bunge Global"
          ],
          [
           "Consumer Staples",
           "Conagra Brands"
          ],
          [
           "Consumer Staples",
           "Church & Dwight"
          ],
          [
           "Consumer Staples",
           "Colgate-Palmolive"
          ],
          [
           "Consumer Staples",
           "Clorox"
          ],
          [
           "Consumer Staples",
           "Costco"
          ],
          [
           "Consumer Staples",
           "Campbell Soup Company"
          ],
          [
           "Consumer Staples",
           "Dollar General"
          ],
          [
           "Consumer Staples",
           "Dollar Tree"
          ],
          [
           "Consumer Staples",
           "Estée Lauder Companies (The)"
          ],
          [
           "Consumer Staples",
           "General Mills"
          ],
          [
           "Consumer Staples",
           "Hormel Foods"
          ],
          [
           "Consumer Staples",
           "Hershey Company (The)"
          ],
          [
           "Consumer Staples",
           "Kellanova"
          ],
          [
           "Consumer Staples",
           "Keurig Dr Pepper"
          ],
          [
           "Consumer Staples",
           "Kraft Heinz"
          ],
          [
           "Consumer Staples",
           "Kimberly-Clark"
          ],
          [
           "Consumer Staples",
           "Coca-Cola Company (The)"
          ],
          [
           "Consumer Staples",
           "Kroger"
          ],
          [
           "Consumer Staples",
           "Kenvue"
          ],
          [
           "Consumer Staples",
           "Lamb Weston"
          ],
          [
           "Consumer Staples",
           "Mondelez International"
          ],
          [
           "Consumer Staples",
           "McCormick & Company"
          ],
          [
           "Consumer Staples",
           "Monster Beverage"
          ],
          [
           "Consumer Staples",
           "Altria"
          ],
          [
           "Consumer Staples",
           "PepsiCo"
          ],
          [
           "Consumer Staples",
           "Procter & Gamble"
          ],
          [
           "Consumer Staples",
           "Philip Morris International"
          ],
          [
           "Consumer Staples",
           "J.M. Smucker Company (The)"
          ],
          [
           "Consumer Staples",
           "Constellation Brands"
          ],
          [
           "Consumer Staples",
           "Sysco"
          ],
          [
           "Consumer Staples",
           "Molson Coors Beverage Company"
          ],
          [
           "Consumer Staples",
           "Target Corporation"
          ],
          [
           "Consumer Staples",
           "Tyson Foods"
          ],
          [
           "Consumer Staples",
           "Walgreens Boots Alliance"
          ],
          [
           "Consumer Staples",
           "Walmart"
          ]
         ],
         "hovertemplate": "<b>%{hovertext}</b><br><br>Sector=%{customdata[0]}<br>Volatility=%{x}<br>Return=%{y}<br>Security=%{customdata[1]}<extra></extra>",
         "hovertext": [
          "ADM",
          "BF.B",
          "BG",
          "CAG",
          "CHD",
          "CL",
          "CLX",
          "COST",
          "CPB",
          "DG",
          "DLTR",
          "EL",
          "GIS",
          "HRL",
          "HSY",
          "K",
          "KDP",
          "KHC",
          "KMB",
          "KO",
          "KR",
          "KVUE",
          "LW",
          "MDLZ",
          "MKC",
          "MNST",
          "MO",
          "PEP",
          "PG",
          "PM",
          "SJM",
          "STZ",
          "SYY",
          "TAP",
          "TGT",
          "TSN",
          "WBA",
          "WMT"
         ],
         "legendgroup": "Consumer Staples",
         "marker": {
          "color": "#FFA15A",
          "symbol": "circle"
         },
         "mode": "markers",
         "name": "Consumer Staples",
         "orientation": "v",
         "showlegend": true,
         "type": "scatter",
         "x": [
          0.217,
          0.244,
          0.251,
          0.219,
          0.171,
          0.145,
          0.207,
          0.201,
          0.201,
          0.557,
          0.465,
          0.464,
          0.179,
          0.284,
          0.195,
          0.271,
          0.166,
          0.188,
          0.185,
          0.125,
          0.226,
          0.269,
          0.555,
          0.168,
          0.218,
          0.242,
          0.194,
          0.161,
          0.144,
          0.198,
          0.219,
          0.194,
          0.188,
          0.242,
          0.316,
          0.202,
          0.539,
          0.178
         ],
         "xaxis": "x",
         "y": [
          0.054,
          -0.373,
          -0.159,
          0.034,
          0.077,
          0.127,
          0.088,
          0.236,
          0.126,
          -0.801,
          -1.155,
          -1.129,
          0.057,
          0.006,
          -0.125,
          0.511,
          0.12,
          -0.108,
          0.151,
          0.092,
          0.221,
          0.252,
          -0.396,
          -0.115,
          0.2,
          -0.067,
          0.399,
          -0.035,
          0.044,
          0.524,
          -0.151,
          -0.086,
          -0.101,
          -0.189,
          -0.01,
          0.123,
          -1.201,
          0.48
         ],
         "yaxis": "y"
        },
        {
         "customdata": [
          [
           "Industrials",
           "Automatic Data Processing"
          ],
          [
           "Industrials",
           "Allegion"
          ],
          [
           "Industrials",
           "Ametek"
          ],
          [
           "Industrials",
           "Amentum"
          ],
          [
           "Industrials",
           "A. O. Smith"
          ],
          [
           "Industrials",
           "Axon Enterprise"
          ],
          [
           "Industrials",
           "Boeing"
          ],
          [
           "Industrials",
           "Builders FirstSource"
          ],
          [
           "Industrials",
           "Broadridge Financial Solutions"
          ],
          [
           "Industrials",
           "Carrier Global"
          ],
          [
           "Industrials",
           "Caterpillar Inc."
          ],
          [
           "Industrials",
           "C.H. Robinson"
          ],
          [
           "Industrials",
           "Cummins"
          ],
          [
           "Industrials",
           "Copart"
          ],
          [
           "Industrials",
           "CSX Corporation"
          ],
          [
           "Industrials",
           "Cintas"
          ],
          [
           "Industrials",
           "Delta Air Lines"
          ],
          [
           "Industrials",
           "Dayforce"
          ],
          [
           "Industrials",
           "Deere & Company"
          ],
          [
           "Industrials",
           "Dover Corporation"
          ],
          [
           "Industrials",
           "Equifax"
          ],
          [
           "Industrials",
           "Emerson Electric"
          ],
          [
           "Industrials",
           "Eaton Corporation"
          ],
          [
           "Industrials",
           "Expeditors International"
          ],
          [
           "Industrials",
           "Fastenal"
          ],
          [
           "Industrials",
           "FedEx"
          ],
          [
           "Industrials",
           "Fortive"
          ],
          [
           "Industrials",
           "General Dynamics"
          ],
          [
           "Industrials",
           "GE Aerospace"
          ],
          [
           "Industrials",
           "GE Vernova"
          ],
          [
           "Industrials",
           "Generac"
          ],
          [
           "Industrials",
           "W. W. Grainger"
          ],
          [
           "Industrials",
           "Huntington Ingalls Industries"
          ],
          [
           "Industrials",
           "Honeywell"
          ],
          [
           "Industrials",
           "Hubbell Incorporated"
          ],
          [
           "Industrials",
           "Howmet Aerospace"
          ],
          [
           "Industrials",
           "IDEX Corporation"
          ],
          [
           "Industrials",
           "Ingersoll Rand"
          ],
          [
           "Industrials",
           "Illinois Tool Works"
          ],
          [
           "Industrials",
           "Jacobs Solutions"
          ],
          [
           "Industrials",
           "J.B. Hunt"
          ],
          [
           "Industrials",
           "Johnson Controls"
          ],
          [
           "Industrials",
           "Leidos"
          ],
          [
           "Industrials",
           "L3Harris"
          ],
          [
           "Industrials",
           "Lockheed Martin"
          ],
          [
           "Industrials",
           "Southwest Airlines"
          ],
          [
           "Industrials",
           "Masco"
          ],
          [
           "Industrials",
           "3M"
          ],
          [
           "Industrials",
           "Nordson Corporation"
          ],
          [
           "Industrials",
           "Northrop Grumman"
          ],
          [
           "Industrials",
           "Norfolk Southern Railway"
          ],
          [
           "Industrials",
           "Old Dominion"
          ],
          [
           "Industrials",
           "Otis Worldwide"
          ],
          [
           "Industrials",
           "Paycom"
          ],
          [
           "Industrials",
           "Paychex"
          ],
          [
           "Industrials",
           "Paccar"
          ],
          [
           "Industrials",
           "Parker Hannifin"
          ],
          [
           "Industrials",
           "Pentair"
          ],
          [
           "Industrials",
           "Quanta Services"
          ],
          [
           "Industrials",
           "Rockwell Automation"
          ],
          [
           "Industrials",
           "Rollins, Inc."
          ],
          [
           "Industrials",
           "Republic Services"
          ],
          [
           "Industrials",
           "RTX Corporation"
          ],
          [
           "Industrials",
           "Snap-on"
          ],
          [
           "Industrials",
           "Stanley Black & Decker"
          ],
          [
           "Industrials",
           "TransDigm Group"
          ],
          [
           "Industrials",
           "Trane Technologies"
          ],
          [
           "Industrials",
           "Textron"
          ],
          [
           "Industrials",
           "United Airlines Holdings"
          ],
          [
           "Industrials",
           "Uber"
          ],
          [
           "Industrials",
           "Union Pacific Corporation"
          ],
          [
           "Industrials",
           "United Parcel Service"
          ],
          [
           "Industrials",
           "United Rentals"
          ],
          [
           "Industrials",
           "Veralto"
          ],
          [
           "Industrials",
           "Verisk Analytics"
          ],
          [
           "Industrials",
           "Wabtec"
          ],
          [
           "Industrials",
           "Waste Management"
          ],
          [
           "Industrials",
           "Xylem Inc."
          ]
         ],
         "hovertemplate": "<b>%{hovertext}</b><br><br>Sector=%{customdata[0]}<br>Volatility=%{x}<br>Return=%{y}<br>Security=%{customdata[1]}<extra></extra>",
         "hovertext": [
          "ADP",
          "ALLE",
          "AME",
          "AMTM",
          "AOS",
          "AXON",
          "BA",
          "BLDR",
          "BR",
          "CARR",
          "CAT",
          "CHRW",
          "CMI",
          "CPRT",
          "CSX",
          "CTAS",
          "DAL",
          "DAY",
          "DE",
          "DOV",
          "EFX",
          "EMR",
          "ETN",
          "EXPD",
          "FAST",
          "FDX",
          "FTV",
          "GD",
          "GE",
          "GEV",
          "GNRC",
          "GWW",
          "HII",
          "HON",
          "HUBB",
          "HWM",
          "IEX",
          "IR",
          "ITW",
          "J",
          "JBHT",
          "JCI",
          "LDOS",
          "LHX",
          "LMT",
          "LUV",
          "MAS",
          "MMM",
          "NDSN",
          "NOC",
          "NSC",
          "ODFL",
          "OTIS",
          "PAYC",
          "PAYX",
          "PCAR",
          "PH",
          "PNR",
          "PWR",
          "ROK",
          "ROL",
          "RSG",
          "RTX",
          "SNA",
          "SWK",
          "TDG",
          "TT",
          "TXT",
          "UAL",
          "UBER",
          "UNP",
          "UPS",
          "URI",
          "VLTO",
          "VRSK",
          "WAB",
          "WM",
          "XYL"
         ],
         "legendgroup": "Industrials",
         "marker": {
          "color": "#19d3f3",
          "symbol": "circle"
         },
         "mode": "markers",
         "name": "Industrials",
         "orientation": "v",
         "showlegend": true,
         "type": "scatter",
         "x": [
          0.152,
          0.205,
          0.232,
          0.423,
          0.256,
          0.35,
          0.329,
          0.47,
          0.185,
          0.299,
          0.252,
          0.311,
          0.234,
          0.2,
          0.204,
          0.179,
          0.311,
          0.369,
          0.215,
          0.206,
          0.282,
          0.23,
          0.289,
          0.19,
          0.228,
          0.334,
          0.22,
          0.157,
          0.329,
          0.435,
          0.351,
          0.203,
          0.432,
          0.169,
          0.305,
          0.336,
          0.206,
          0.274,
          0.156,
          0.192,
          0.263,
          0.225,
          0.202,
          0.184,
          0.163,
          0.394,
          0.242,
          0.329,
          0.217,
          0.164,
          0.252,
          0.334,
          0.198,
          0.398,
          0.186,
          0.266,
          0.251,
          0.264,
          0.319,
          0.264,
          0.218,
          0.149,
          0.168,
          0.23,
          0.331,
          0.229,
          0.231,
          0.234,
          0.436,
          0.381,
          0.18,
          0.273,
          0.333,
          0.185,
          0.198,
          0.214,
          0.188,
          0.215
         ],
         "xaxis": "x",
         "y": [
          0.165,
          0.12,
          0.036,
          0.028,
          -0.108,
          0.654,
          -0.392,
          -0.124,
          0.072,
          0.43,
          0.225,
          0.482,
          0.32,
          0,
          -0.181,
          0.372,
          0.478,
          0.023,
          0.149,
          0.213,
          0.009,
          0.037,
          0.222,
          -0.011,
          0.112,
          0.181,
          -0.259,
          0.101,
          0.504,
          1.095,
          0.597,
          0.206,
          -0.604,
          0.045,
          0.212,
          0.606,
          -0.129,
          0.083,
          0.011,
          0.201,
          -0.228,
          0.371,
          0.543,
          0.217,
          0.341,
          -0.139,
          0.105,
          0.717,
          -0.134,
          0.142,
          -0.03,
          -0.129,
          0.088,
          0.156,
          0.158,
          -0.089,
          0.259,
          0.371,
          0.389,
          -0.072,
          0.148,
          0.103,
          0.417,
          0.283,
          0.074,
          0.124,
          0.402,
          -0.081,
          0.803,
          -0.096,
          -0.132,
          -0.138,
          0.307,
          0.239,
          0.15,
          0.44,
          0.055,
          -0.048
         ],
         "yaxis": "y"
        },
        {
         "customdata": [
          [
           "Utilities",
           "Ameren"
          ],
          [
           "Utilities",
           "American Electric Power"
          ],
          [
           "Utilities",
           "AES Corporation"
          ],
          [
           "Utilities",
           "Atmos Energy"
          ],
          [
           "Utilities",
           "American Water Works"
          ],
          [
           "Utilities",
           "Constellation Energy"
          ],
          [
           "Utilities",
           "CMS Energy"
          ],
          [
           "Utilities",
           "CenterPoint Energy"
          ],
          [
           "Utilities",
           "Dominion Energy"
          ],
          [
           "Utilities",
           "DTE Energy"
          ],
          [
           "Utilities",
           "Duke Energy"
          ],
          [
           "Utilities",
           "Consolidated Edison"
          ],
          [
           "Utilities",
           "Edison International"
          ],
          [
           "Utilities",
           "Eversource Energy"
          ],
          [
           "Utilities",
           "Entergy"
          ],
          [
           "Utilities",
           "Evergy"
          ],
          [
           "Utilities",
           "Exelon"
          ],
          [
           "Utilities",
           "FirstEnergy"
          ],
          [
           "Utilities",
           "Alliant Energy"
          ],
          [
           "Utilities",
           "NextEra Energy"
          ],
          [
           "Utilities",
           "NiSource"
          ],
          [
           "Utilities",
           "NRG Energy"
          ],
          [
           "Utilities",
           "PG&E Corporation"
          ],
          [
           "Utilities",
           "Public Service Enterprise Group"
          ],
          [
           "Utilities",
           "Pinnacle West"
          ],
          [
           "Utilities",
           "PPL Corporation"
          ],
          [
           "Utilities",
           "Southern Company"
          ],
          [
           "Utilities",
           "Sempra"
          ],
          [
           "Utilities",
           "Vistra Corp."
          ],
          [
           "Utilities",
           "WEC Energy Group"
          ],
          [
           "Utilities",
           "Xcel Energy"
          ]
         ],
         "hovertemplate": "<b>%{hovertext}</b><br><br>Sector=%{customdata[0]}<br>Volatility=%{x}<br>Return=%{y}<br>Security=%{customdata[1]}<extra></extra>",
         "hovertext": [
          "AEE",
          "AEP",
          "AES",
          "ATO",
          "AWK",
          "CEG",
          "CMS",
          "CNP",
          "D",
          "DTE",
          "DUK",
          "ED",
          "EIX",
          "ES",
          "ETR",
          "EVRG",
          "EXC",
          "FE",
          "LNT",
          "NEE",
          "NI",
          "NRG",
          "PCG",
          "PEG",
          "PNW",
          "PPL",
          "SO",
          "SRE",
          "VST",
          "WEC",
          "XEL"
         ],
         "legendgroup": "Utilities",
         "marker": {
          "color": "#FF6692",
          "symbol": "circle"
         },
         "mode": "markers",
         "name": "Utilities",
         "orientation": "v",
         "showlegend": true,
         "type": "scatter",
         "x": [
          0.164,
          0.174,
          0.373,
          0.14,
          0.195,
          0.547,
          0.157,
          0.204,
          0.226,
          0.18,
          0.159,
          0.164,
          0.169,
          0.205,
          0.241,
          0.156,
          0.17,
          0.141,
          0.165,
          0.258,
          0.148,
          0.372,
          0.182,
          0.172,
          0.17,
          0.153,
          0.164,
          0.171,
          0.598,
          0.165,
          0.24
         ],
         "xaxis": "x",
         "y": [
          0.278,
          0.253,
          -0.055,
          0.298,
          0.214,
          0.967,
          0.26,
          0.074,
          0.342,
          0.191,
          0.304,
          0.203,
          0.269,
          0.161,
          0.55,
          0.259,
          0.119,
          0.16,
          0.274,
          0.467,
          0.425,
          0.782,
          0.251,
          0.548,
          0.313,
          0.292,
          0.407,
          0.214,
          1.345,
          0.281,
          0.184
         ],
         "yaxis": "y"
        },
        {
         "customdata": [
          [
           "Materials",
           "Albemarle Corporation"
          ],
          [
           "Materials",
           "Amcor"
          ],
          [
           "Materials",
           "Air Products"
          ],
          [
           "Materials",
           "Avery Dennison"
          ],
          [
           "Materials",
           "Ball Corporation"
          ],
          [
           "Materials",
           "Celanese"
          ],
          [
           "Materials",
           "CF Industries"
          ],
          [
           "Materials",
           "Corteva"
          ],
          [
           "Materials",
           "DuPont"
          ],
          [
           "Materials",
           "Dow Inc."
          ],
          [
           "Materials",
           "Ecolab"
          ],
          [
           "Materials",
           "Eastman Chemical Company"
          ],
          [
           "Materials",
           "Freeport-McMoRan"
          ],
          [
           "Materials",
           "FMC Corporation"
          ],
          [
           "Materials",
           "International Flavors & Fragrances"
          ],
          [
           "Materials",
           "International Paper"
          ],
          [
           "Materials",
           "Linde plc"
          ],
          [
           "Materials",
           "LyondellBasell"
          ],
          [
           "Materials",
           "Martin Marietta Materials"
          ],
          [
           "Materials",
           "Mosaic Company (The)"
          ],
          [
           "Materials",
           "Newmont"
          ],
          [
           "Materials",
           "Nucor"
          ],
          [
           "Materials",
           "Packaging Corporation of America"
          ],
          [
           "Materials",
           "PPG Industries"
          ],
          [
           "Materials",
           "Sherwin-Williams"
          ],
          [
           "Materials",
           "Steel Dynamics"
          ],
          [
           "Materials",
           "Smurfit WestRock"
          ],
          [
           "Materials",
           "Vulcan Materials Company"
          ]
         ],
         "hovertemplate": "<b>%{hovertext}</b><br><br>Sector=%{customdata[0]}<br>Volatility=%{x}<br>Return=%{y}<br>Security=%{customdata[1]}<extra></extra>",
         "hovertext": [
          "ALB",
          "AMCR",
          "APD",
          "AVY",
          "BALL",
          "CE",
          "CF",
          "CTVA",
          "DD",
          "DOW",
          "ECL",
          "EMN",
          "FCX",
          "FMC",
          "IFF",
          "IP",
          "LIN",
          "LYB",
          "MLM",
          "MOS",
          "NEM",
          "NUE",
          "PKG",
          "PPG",
          "SHW",
          "STLD",
          "SW",
          "VMC"
         ],
         "legendgroup": "Materials",
         "marker": {
          "color": "#B6E880",
          "symbol": "circle"
         },
         "mode": "markers",
         "name": "Materials",
         "orientation": "v",
         "showlegend": true,
         "type": "scatter",
         "x": [
          0.604,
          0.233,
          0.247,
          0.184,
          0.226,
          0.28,
          0.279,
          0.219,
          0.205,
          0.19,
          0.177,
          0.221,
          0.363,
          0.414,
          0.226,
          0.333,
          0.143,
          0.187,
          0.24,
          0.311,
          0.378,
          0.284,
          0.189,
          0.183,
          0.213,
          0.286,
          0.274,
          0.235
         ],
         "xaxis": "x",
         "y": [
          -0.304,
          0.15,
          0.413,
          -0.049,
          -0.061,
          -0.242,
          0.058,
          0.157,
          0.245,
          -0.19,
          0.144,
          0.243,
          0.237,
          0.275,
          0.301,
          0.661,
          0.031,
          -0.182,
          0.099,
          -0.212,
          0.537,
          -0.409,
          0.391,
          -0.207,
          0.168,
          0.053,
          0.146,
          0.084
         ],
         "yaxis": "y"
        },
        {
         "customdata": [
          [
           "Real Estate",
           "American Tower"
          ],
          [
           "Real Estate",
           "Alexandria Real Estate Equities"
          ],
          [
           "Real Estate",
           "AvalonBay Communities"
          ],
          [
           "Real Estate",
           "BXP, Inc."
          ],
          [
           "Real Estate",
           "CBRE Group"
          ],
          [
           "Real Estate",
           "Crown Castle"
          ],
          [
           "Real Estate",
           "Camden Property Trust"
          ],
          [
           "Real Estate",
           "CoStar Group"
          ],
          [
           "Real Estate",
           "Digital Realty"
          ],
          [
           "Real Estate",
           "Healthpeak Properties"
          ],
          [
           "Real Estate",
           "Equinix"
          ],
          [
           "Real Estate",
           "Equity Residential"
          ],
          [
           "Real Estate",
           "Essex Property Trust"
          ],
          [
           "Real Estate",
           "Extra Space Storage"
          ],
          [
           "Real Estate",
           "Federal Realty Investment Trust"
          ],
          [
           "Real Estate",
           "Host Hotels & Resorts"
          ],
          [
           "Real Estate",
           "Invitation Homes"
          ],
          [
           "Real Estate",
           "Iron Mountain"
          ],
          [
           "Real Estate",
           "Kimco Realty"
          ],
          [
           "Real Estate",
           "Mid-America Apartment Communities"
          ],
          [
           "Real Estate",
           "Realty Income"
          ],
          [
           "Real Estate",
           "Prologis"
          ],
          [
           "Real Estate",
           "Public Storage"
          ],
          [
           "Real Estate",
           "Regency Centers"
          ],
          [
           "Real Estate",
           "SBA Communications"
          ],
          [
           "Real Estate",
           "Simon Property Group"
          ],
          [
           "Real Estate",
           "UDR, Inc."
          ],
          [
           "Real Estate",
           "Vici Properties"
          ],
          [
           "Real Estate",
           "Ventas"
          ],
          [
           "Real Estate",
           "Welltower"
          ],
          [
           "Real Estate",
           "Weyerhaeuser"
          ]
         ],
         "hovertemplate": "<b>%{hovertext}</b><br><br>Sector=%{customdata[0]}<br>Volatility=%{x}<br>Return=%{y}<br>Security=%{customdata[1]}<extra></extra>",
         "hovertext": [
          "AMT",
          "ARE",
          "AVB",
          "BXP",
          "CBRE",
          "CCI",
          "CPT",
          "CSGP",
          "DLR",
          "DOC",
          "EQIX",
          "EQR",
          "ESS",
          "EXR",
          "FRT",
          "HST",
          "INVH",
          "IRM",
          "KIM",
          "MAA",
          "O",
          "PLD",
          "PSA",
          "REG",
          "SBAC",
          "SPG",
          "UDR",
          "VICI",
          "VTR",
          "WELL",
          "WY"
         ],
         "legendgroup": "Real Estate",
         "marker": {
          "color": "#FF97FF",
          "symbol": "circle"
         },
         "mode": "markers",
         "name": "Real Estate",
         "orientation": "v",
         "showlegend": true,
         "type": "scatter",
         "x": [
          0.243,
          0.251,
          0.172,
          0.298,
          0.251,
          0.221,
          0.202,
          0.283,
          0.249,
          0.22,
          0.252,
          0.19,
          0.2,
          0.254,
          0.178,
          0.226,
          0.208,
          0.235,
          0.213,
          0.196,
          0.164,
          0.251,
          0.225,
          0.176,
          0.272,
          0.213,
          0.182,
          0.186,
          0.2,
          0.171,
          0.223
         ],
         "xaxis": "x",
         "y": [
          0.177,
          -0.121,
          0.325,
          0.31,
          0.544,
          -0.009,
          0.248,
          -0.212,
          0.371,
          0.446,
          0.05,
          0.217,
          0.293,
          0.226,
          0.186,
          -0.227,
          -0.08,
          0.722,
          0.292,
          0.262,
          0.168,
          -0.212,
          0.205,
          0.249,
          0.114,
          0.17,
          0.226,
          0.094,
          0.557,
          0.531,
          -0.085
         ],
         "yaxis": "y"
        },
        {
         "customdata": [
          [
           "Energy",
           "APA Corporation"
          ],
          [
           "Energy",
           "Baker Hughes"
          ],
          [
           "Energy",
           "ConocoPhillips"
          ],
          [
           "Energy",
           "Coterra"
          ],
          [
           "Energy",
           "Chevron Corporation"
          ],
          [
           "Energy",
           "Devon Energy"
          ],
          [
           "Energy",
           "EOG Resources"
          ],
          [
           "Energy",
           "EQT Corporation"
          ],
          [
           "Energy",
           "Diamondback Energy"
          ],
          [
           "Energy",
           "Halliburton"
          ],
          [
           "Energy",
           "Hess Corporation"
          ],
          [
           "Energy",
           "Kinder Morgan"
          ],
          [
           "Energy",
           "Marathon Petroleum"
          ],
          [
           "Energy",
           "Marathon Oil"
          ],
          [
           "Energy",
           "ONEOK"
          ],
          [
           "Energy",
           "Occidental Petroleum"
          ],
          [
           "Energy",
           "Phillips 66"
          ],
          [
           "Energy",
           "Schlumberger"
          ],
          [
           "Energy",
           "Targa Resources"
          ],
          [
           "Energy",
           "Valero Energy"
          ],
          [
           "Energy",
           "Williams Companies"
          ],
          [
           "Energy",
           "ExxonMobil"
          ]
         ],
         "hovertemplate": "<b>%{hovertext}</b><br><br>Sector=%{customdata[0]}<br>Volatility=%{x}<br>Return=%{y}<br>Security=%{customdata[1]}<extra></extra>",
         "hovertext": [
          "APA",
          "BKR",
          "COP",
          "CTRA",
          "CVX",
          "DVN",
          "EOG",
          "EQT",
          "FANG",
          "HAL",
          "HES",
          "KMI",
          "MPC",
          "MRO",
          "OKE",
          "OXY",
          "PSX",
          "SLB",
          "TRGP",
          "VLO",
          "WMB",
          "XOM"
         ],
         "legendgroup": "Energy",
         "marker": {
          "color": "#FECB52",
          "symbol": "circle"
         },
         "mode": "markers",
         "name": "Energy",
         "orientation": "v",
         "showlegend": true,
         "type": "scatter",
         "x": [
          0.346,
          0.255,
          0.223,
          0.208,
          0.19,
          0.249,
          0.208,
          0.294,
          0.271,
          0.269,
          0.233,
          0.169,
          0.3,
          0.253,
          0.187,
          0.215,
          0.262,
          0.253,
          0.209,
          0.303,
          0.18,
          0.191
         ],
         "xaxis": "x",
         "y": [
          -0.333,
          0.337,
          -0.032,
          -0.139,
          0.001,
          -0.169,
          0.131,
          -0.012,
          0.015,
          -0.33,
          -0.088,
          0.508,
          -0.217,
          0.211,
          0.395,
          -0.251,
          -0.268,
          -0.279,
          0.786,
          -0.128,
          0.587,
          0.178
         ],
         "yaxis": "y"
        },
        {
         "customdata": [
          [
           "Communication Services",
           "Charter Communications"
          ],
          [
           "Communication Services",
           "Comcast"
          ],
          [
           "Communication Services",
           "Walt Disney Company (The)"
          ],
          [
           "Communication Services",
           "Electronic Arts"
          ],
          [
           "Communication Services",
           "Fox Corporation (Class B)"
          ],
          [
           "Communication Services",
           "Fox Corporation (Class A)"
          ],
          [
           "Communication Services",
           "Alphabet Inc. (Class C)"
          ],
          [
           "Communication Services",
           "Alphabet Inc. (Class A)"
          ],
          [
           "Communication Services",
           "Interpublic Group of Companies (The)"
          ],
          [
           "Communication Services",
           "Live Nation Entertainment"
          ],
          [
           "Communication Services",
           "Meta Platforms"
          ],
          [
           "Communication Services",
           "Match Group"
          ],
          [
           "Communication Services",
           "Netflix"
          ],
          [
           "Communication Services",
           "News Corp (Class B)"
          ],
          [
           "Communication Services",
           "News Corp (Class A)"
          ],
          [
           "Communication Services",
           "Omnicom Group"
          ],
          [
           "Communication Services",
           "Paramount Global"
          ],
          [
           "Communication Services",
           "AT&T"
          ],
          [
           "Communication Services",
           "T-Mobile US"
          ],
          [
           "Communication Services",
           "Take-Two Interactive"
          ],
          [
           "Communication Services",
           "Verizon"
          ],
          [
           "Communication Services",
           "Warner Bros. Discovery"
          ]
         ],
         "hovertemplate": "<b>%{hovertext}</b><br><br>Sector=%{customdata[0]}<br>Volatility=%{x}<br>Return=%{y}<br>Security=%{customdata[1]}<extra></extra>",
         "hovertext": [
          "CHTR",
          "CMCSA",
          "DIS",
          "EA",
          "FOX",
          "FOXA",
          "GOOG",
          "GOOGL",
          "IPG",
          "LYV",
          "META",
          "MTCH",
          "NFLX",
          "NWS",
          "NWSA",
          "OMC",
          "PARA",
          "T",
          "TMUS",
          "TTWO",
          "VZ",
          "WBD"
         ],
         "legendgroup": "Communication Services",
         "marker": {
          "color": "#636efa",
          "symbol": "circle"
         },
         "mode": "markers",
         "name": "Communication Services",
         "orientation": "v",
         "showlegend": true,
         "type": "scatter",
         "x": [
          0.374,
          0.211,
          0.231,
          0.182,
          0.175,
          0.179,
          0.265,
          0.266,
          0.204,
          0.267,
          0.32,
          0.325,
          0.288,
          0.204,
          0.202,
          0.204,
          0.54,
          0.194,
          0.167,
          0.216,
          0.21,
          0.462
         ],
         "xaxis": "x",
         "y": [
          0.32,
          0.075,
          -0.172,
          0.066,
          0.485,
          0.465,
          0.247,
          0.247,
          -0.123,
          0.308,
          0.227,
          -0.035,
          0.369,
          0.067,
          0.034,
          0.197,
          -0.043,
          0.413,
          0.439,
          0.094,
          0.038,
          -0.083
         ],
         "yaxis": "y"
        }
       ],
       "layout": {
        "height": 500,
        "legend": {
         "title": {
          "text": "Sector"
         },
         "tracegroupgap": 0
        },
        "template": {
         "data": {
          "bar": [
           {
            "error_x": {
             "color": "#f2f5fa"
            },
            "error_y": {
             "color": "#f2f5fa"
            },
            "marker": {
             "line": {
              "color": "rgb(17,17,17)",
              "width": 0.5
             },
             "pattern": {
              "fillmode": "overlay",
              "size": 10,
              "solidity": 0.2
             }
            },
            "type": "bar"
           }
          ],
          "barpolar": [
           {
            "marker": {
             "line": {
              "color": "rgb(17,17,17)",
              "width": 0.5
             },
             "pattern": {
              "fillmode": "overlay",
              "size": 10,
              "solidity": 0.2
             }
            },
            "type": "barpolar"
           }
          ],
          "carpet": [
           {
            "aaxis": {
             "endlinecolor": "#A2B1C6",
             "gridcolor": "#506784",
             "linecolor": "#506784",
             "minorgridcolor": "#506784",
             "startlinecolor": "#A2B1C6"
            },
            "baxis": {
             "endlinecolor": "#A2B1C6",
             "gridcolor": "#506784",
             "linecolor": "#506784",
             "minorgridcolor": "#506784",
             "startlinecolor": "#A2B1C6"
            },
            "type": "carpet"
           }
          ],
          "choropleth": [
           {
            "colorbar": {
             "outlinewidth": 0,
             "ticks": ""
            },
            "type": "choropleth"
           }
          ],
          "contour": [
           {
            "colorbar": {
             "outlinewidth": 0,
             "ticks": ""
            },
            "colorscale": [
             [
              0,
              "#0d0887"
             ],
             [
              0.1111111111111111,
              "#46039f"
             ],
             [
              0.2222222222222222,
              "#7201a8"
             ],
             [
              0.3333333333333333,
              "#9c179e"
             ],
             [
              0.4444444444444444,
              "#bd3786"
             ],
             [
              0.5555555555555556,
              "#d8576b"
             ],
             [
              0.6666666666666666,
              "#ed7953"
             ],
             [
              0.7777777777777778,
              "#fb9f3a"
             ],
             [
              0.8888888888888888,
              "#fdca26"
             ],
             [
              1,
              "#f0f921"
             ]
            ],
            "type": "contour"
           }
          ],
          "contourcarpet": [
           {
            "colorbar": {
             "outlinewidth": 0,
             "ticks": ""
            },
            "type": "contourcarpet"
           }
          ],
          "heatmap": [
           {
            "colorbar": {
             "outlinewidth": 0,
             "ticks": ""
            },
            "colorscale": [
             [
              0,
              "#0d0887"
             ],
             [
              0.1111111111111111,
              "#46039f"
             ],
             [
              0.2222222222222222,
              "#7201a8"
             ],
             [
              0.3333333333333333,
              "#9c179e"
             ],
             [
              0.4444444444444444,
              "#bd3786"
             ],
             [
              0.5555555555555556,
              "#d8576b"
             ],
             [
              0.6666666666666666,
              "#ed7953"
             ],
             [
              0.7777777777777778,
              "#fb9f3a"
             ],
             [
              0.8888888888888888,
              "#fdca26"
             ],
             [
              1,
              "#f0f921"
             ]
            ],
            "type": "heatmap"
           }
          ],
          "heatmapgl": [
           {
            "colorbar": {
             "outlinewidth": 0,
             "ticks": ""
            },
            "colorscale": [
             [
              0,
              "#0d0887"
             ],
             [
              0.1111111111111111,
              "#46039f"
             ],
             [
              0.2222222222222222,
              "#7201a8"
             ],
             [
              0.3333333333333333,
              "#9c179e"
             ],
             [
              0.4444444444444444,
              "#bd3786"
             ],
             [
              0.5555555555555556,
              "#d8576b"
             ],
             [
              0.6666666666666666,
              "#ed7953"
             ],
             [
              0.7777777777777778,
              "#fb9f3a"
             ],
             [
              0.8888888888888888,
              "#fdca26"
             ],
             [
              1,
              "#f0f921"
             ]
            ],
            "type": "heatmapgl"
           }
          ],
          "histogram": [
           {
            "marker": {
             "pattern": {
              "fillmode": "overlay",
              "size": 10,
              "solidity": 0.2
             }
            },
            "type": "histogram"
           }
          ],
          "histogram2d": [
           {
            "colorbar": {
             "outlinewidth": 0,
             "ticks": ""
            },
            "colorscale": [
             [
              0,
              "#0d0887"
             ],
             [
              0.1111111111111111,
              "#46039f"
             ],
             [
              0.2222222222222222,
              "#7201a8"
             ],
             [
              0.3333333333333333,
              "#9c179e"
             ],
             [
              0.4444444444444444,
              "#bd3786"
             ],
             [
              0.5555555555555556,
              "#d8576b"
             ],
             [
              0.6666666666666666,
              "#ed7953"
             ],
             [
              0.7777777777777778,
              "#fb9f3a"
             ],
             [
              0.8888888888888888,
              "#fdca26"
             ],
             [
              1,
              "#f0f921"
             ]
            ],
            "type": "histogram2d"
           }
          ],
          "histogram2dcontour": [
           {
            "colorbar": {
             "outlinewidth": 0,
             "ticks": ""
            },
            "colorscale": [
             [
              0,
              "#0d0887"
             ],
             [
              0.1111111111111111,
              "#46039f"
             ],
             [
              0.2222222222222222,
              "#7201a8"
             ],
             [
              0.3333333333333333,
              "#9c179e"
             ],
             [
              0.4444444444444444,
              "#bd3786"
             ],
             [
              0.5555555555555556,
              "#d8576b"
             ],
             [
              0.6666666666666666,
              "#ed7953"
             ],
             [
              0.7777777777777778,
              "#fb9f3a"
             ],
             [
              0.8888888888888888,
              "#fdca26"
             ],
             [
              1,
              "#f0f921"
             ]
            ],
            "type": "histogram2dcontour"
           }
          ],
          "mesh3d": [
           {
            "colorbar": {
             "outlinewidth": 0,
             "ticks": ""
            },
            "type": "mesh3d"
           }
          ],
          "parcoords": [
           {
            "line": {
             "colorbar": {
              "outlinewidth": 0,
              "ticks": ""
             }
            },
            "type": "parcoords"
           }
          ],
          "pie": [
           {
            "automargin": true,
            "type": "pie"
           }
          ],
          "scatter": [
           {
            "marker": {
             "line": {
              "color": "#283442"
             }
            },
            "type": "scatter"
           }
          ],
          "scatter3d": [
           {
            "line": {
             "colorbar": {
              "outlinewidth": 0,
              "ticks": ""
             }
            },
            "marker": {
             "colorbar": {
              "outlinewidth": 0,
              "ticks": ""
             }
            },
            "type": "scatter3d"
           }
          ],
          "scattercarpet": [
           {
            "marker": {
             "colorbar": {
              "outlinewidth": 0,
              "ticks": ""
             }
            },
            "type": "scattercarpet"
           }
          ],
          "scattergeo": [
           {
            "marker": {
             "colorbar": {
              "outlinewidth": 0,
              "ticks": ""
             }
            },
            "type": "scattergeo"
           }
          ],
          "scattergl": [
           {
            "marker": {
             "line": {
              "color": "#283442"
             }
            },
            "type": "scattergl"
           }
          ],
          "scattermapbox": [
           {
            "marker": {
             "colorbar": {
              "outlinewidth": 0,
              "ticks": ""
             }
            },
            "type": "scattermapbox"
           }
          ],
          "scatterpolar": [
           {
            "marker": {
             "colorbar": {
              "outlinewidth": 0,
              "ticks": ""
             }
            },
            "type": "scatterpolar"
           }
          ],
          "scatterpolargl": [
           {
            "marker": {
             "colorbar": {
              "outlinewidth": 0,
              "ticks": ""
             }
            },
            "type": "scatterpolargl"
           }
          ],
          "scatterternary": [
           {
            "marker": {
             "colorbar": {
              "outlinewidth": 0,
              "ticks": ""
             }
            },
            "type": "scatterternary"
           }
          ],
          "surface": [
           {
            "colorbar": {
             "outlinewidth": 0,
             "ticks": ""
            },
            "colorscale": [
             [
              0,
              "#0d0887"
             ],
             [
              0.1111111111111111,
              "#46039f"
             ],
             [
              0.2222222222222222,
              "#7201a8"
             ],
             [
              0.3333333333333333,
              "#9c179e"
             ],
             [
              0.4444444444444444,
              "#bd3786"
             ],
             [
              0.5555555555555556,
              "#d8576b"
             ],
             [
              0.6666666666666666,
              "#ed7953"
             ],
             [
              0.7777777777777778,
              "#fb9f3a"
             ],
             [
              0.8888888888888888,
              "#fdca26"
             ],
             [
              1,
              "#f0f921"
             ]
            ],
            "type": "surface"
           }
          ],
          "table": [
           {
            "cells": {
             "fill": {
              "color": "#506784"
             },
             "line": {
              "color": "rgb(17,17,17)"
             }
            },
            "header": {
             "fill": {
              "color": "#2a3f5f"
             },
             "line": {
              "color": "rgb(17,17,17)"
             }
            },
            "type": "table"
           }
          ]
         },
         "layout": {
          "annotationdefaults": {
           "arrowcolor": "#f2f5fa",
           "arrowhead": 0,
           "arrowwidth": 1
          },
          "autotypenumbers": "strict",
          "coloraxis": {
           "colorbar": {
            "outlinewidth": 0,
            "ticks": ""
           }
          },
          "colorscale": {
           "diverging": [
            [
             0,
             "#8e0152"
            ],
            [
             0.1,
             "#c51b7d"
            ],
            [
             0.2,
             "#de77ae"
            ],
            [
             0.3,
             "#f1b6da"
            ],
            [
             0.4,
             "#fde0ef"
            ],
            [
             0.5,
             "#f7f7f7"
            ],
            [
             0.6,
             "#e6f5d0"
            ],
            [
             0.7,
             "#b8e186"
            ],
            [
             0.8,
             "#7fbc41"
            ],
            [
             0.9,
             "#4d9221"
            ],
            [
             1,
             "#276419"
            ]
           ],
           "sequential": [
            [
             0,
             "#0d0887"
            ],
            [
             0.1111111111111111,
             "#46039f"
            ],
            [
             0.2222222222222222,
             "#7201a8"
            ],
            [
             0.3333333333333333,
             "#9c179e"
            ],
            [
             0.4444444444444444,
             "#bd3786"
            ],
            [
             0.5555555555555556,
             "#d8576b"
            ],
            [
             0.6666666666666666,
             "#ed7953"
            ],
            [
             0.7777777777777778,
             "#fb9f3a"
            ],
            [
             0.8888888888888888,
             "#fdca26"
            ],
            [
             1,
             "#f0f921"
            ]
           ],
           "sequentialminus": [
            [
             0,
             "#0d0887"
            ],
            [
             0.1111111111111111,
             "#46039f"
            ],
            [
             0.2222222222222222,
             "#7201a8"
            ],
            [
             0.3333333333333333,
             "#9c179e"
            ],
            [
             0.4444444444444444,
             "#bd3786"
            ],
            [
             0.5555555555555556,
             "#d8576b"
            ],
            [
             0.6666666666666666,
             "#ed7953"
            ],
            [
             0.7777777777777778,
             "#fb9f3a"
            ],
            [
             0.8888888888888888,
             "#fdca26"
            ],
            [
             1,
             "#f0f921"
            ]
           ]
          },
          "colorway": [
           "#636efa",
           "#EF553B",
           "#00cc96",
           "#ab63fa",
           "#FFA15A",
           "#19d3f3",
           "#FF6692",
           "#B6E880",
           "#FF97FF",
           "#FECB52"
          ],
          "font": {
           "color": "#f2f5fa"
          },
          "geo": {
           "bgcolor": "rgb(17,17,17)",
           "lakecolor": "rgb(17,17,17)",
           "landcolor": "rgb(17,17,17)",
           "showlakes": true,
           "showland": true,
           "subunitcolor": "#506784"
          },
          "hoverlabel": {
           "align": "left"
          },
          "hovermode": "closest",
          "mapbox": {
           "style": "dark"
          },
          "paper_bgcolor": "rgb(17,17,17)",
          "plot_bgcolor": "rgb(17,17,17)",
          "polar": {
           "angularaxis": {
            "gridcolor": "#506784",
            "linecolor": "#506784",
            "ticks": ""
           },
           "bgcolor": "rgb(17,17,17)",
           "radialaxis": {
            "gridcolor": "#506784",
            "linecolor": "#506784",
            "ticks": ""
           }
          },
          "scene": {
           "xaxis": {
            "backgroundcolor": "rgb(17,17,17)",
            "gridcolor": "#506784",
            "gridwidth": 2,
            "linecolor": "#506784",
            "showbackground": true,
            "ticks": "",
            "zerolinecolor": "#C8D4E3"
           },
           "yaxis": {
            "backgroundcolor": "rgb(17,17,17)",
            "gridcolor": "#506784",
            "gridwidth": 2,
            "linecolor": "#506784",
            "showbackground": true,
            "ticks": "",
            "zerolinecolor": "#C8D4E3"
           },
           "zaxis": {
            "backgroundcolor": "rgb(17,17,17)",
            "gridcolor": "#506784",
            "gridwidth": 2,
            "linecolor": "#506784",
            "showbackground": true,
            "ticks": "",
            "zerolinecolor": "#C8D4E3"
           }
          },
          "shapedefaults": {
           "line": {
            "color": "#f2f5fa"
           }
          },
          "sliderdefaults": {
           "bgcolor": "#C8D4E3",
           "bordercolor": "rgb(17,17,17)",
           "borderwidth": 1,
           "tickwidth": 0
          },
          "ternary": {
           "aaxis": {
            "gridcolor": "#506784",
            "linecolor": "#506784",
            "ticks": ""
           },
           "baxis": {
            "gridcolor": "#506784",
            "linecolor": "#506784",
            "ticks": ""
           },
           "bgcolor": "rgb(17,17,17)",
           "caxis": {
            "gridcolor": "#506784",
            "linecolor": "#506784",
            "ticks": ""
           }
          },
          "title": {
           "x": 0.05
          },
          "updatemenudefaults": {
           "bgcolor": "#506784",
           "borderwidth": 0
          },
          "xaxis": {
           "automargin": true,
           "gridcolor": "#283442",
           "linecolor": "#506784",
           "ticks": "",
           "title": {
            "standoff": 15
           },
           "zerolinecolor": "#283442",
           "zerolinewidth": 2
          },
          "yaxis": {
           "automargin": true,
           "gridcolor": "#283442",
           "linecolor": "#506784",
           "ticks": "",
           "title": {
            "standoff": 15
           },
           "zerolinecolor": "#283442",
           "zerolinewidth": 2
          }
         }
        },
        "title": {
         "text": "S&P 500 stocks by Volatility/Return",
         "x": 0.5
        },
        "width": 750,
        "xaxis": {
         "anchor": "y",
         "domain": [
          0,
          1
         ],
         "title": {
          "text": "Volatility"
         }
        },
        "yaxis": {
         "anchor": "x",
         "domain": [
          0,
          1
         ],
         "title": {
          "text": "Return"
         }
        }
       }
      }
     },
     "metadata": {},
     "output_type": "display_data"
    }
   ],
   "source": [
    "px.scatter(stock_data,\n",
    "           x='Volatility',\n",
    "           y='Return',\n",
    "           hover_data=['Sector','Security'],\n",
    "           hover_name='Symbol',\n",
    "           title='S&P 500 stocks by Volatility/Return',\n",
    "           color='Sector',\n",
    "           width=750,\n",
    "           height=500,\n",
    "           template='plotly_dark'\n",
    "           ).update_layout(title_x=0.5)"
   ]
  },
  {
   "cell_type": "code",
   "execution_count": 9,
   "metadata": {},
   "outputs": [
    {
     "data": {
      "application/vnd.plotly.v1+json": {
       "config": {
        "plotlyServerURL": "https://plot.ly"
       },
       "data": [
        {
         "hovertemplate": "variable=0<br>Number of Clusters=%{x}<br>Sum of Squared Error=%{y}<extra></extra>",
         "legendgroup": "0",
         "line": {
          "color": "#636efa",
          "dash": "solid"
         },
         "marker": {
          "symbol": "circle"
         },
         "mode": "lines",
         "name": "0",
         "orientation": "v",
         "showlegend": true,
         "type": "scatter",
         "x": [
          0,
          1,
          2,
          3,
          4,
          5,
          6,
          7,
          8,
          9,
          10,
          11,
          12,
          13,
          14
         ],
         "xaxis": "x",
         "y": [
          54.48035319681908,
          27.773522288399214,
          18.042851753341743,
          13.020379915654864,
          10.353129392126718,
          8.414930060203142,
          7.013783565654303,
          6.329384792586429,
          5.6246673174923805,
          5.2521608311017145,
          4.63161310640055,
          4.330920501029437,
          4.0647296031424345,
          3.59787757303417,
          3.5372957513887515
         ],
         "yaxis": "y"
        }
       ],
       "layout": {
        "height": 500,
        "legend": {
         "title": {
          "text": "variable"
         },
         "tracegroupgap": 0
        },
        "showlegend": false,
        "template": {
         "data": {
          "bar": [
           {
            "error_x": {
             "color": "#f2f5fa"
            },
            "error_y": {
             "color": "#f2f5fa"
            },
            "marker": {
             "line": {
              "color": "rgb(17,17,17)",
              "width": 0.5
             },
             "pattern": {
              "fillmode": "overlay",
              "size": 10,
              "solidity": 0.2
             }
            },
            "type": "bar"
           }
          ],
          "barpolar": [
           {
            "marker": {
             "line": {
              "color": "rgb(17,17,17)",
              "width": 0.5
             },
             "pattern": {
              "fillmode": "overlay",
              "size": 10,
              "solidity": 0.2
             }
            },
            "type": "barpolar"
           }
          ],
          "carpet": [
           {
            "aaxis": {
             "endlinecolor": "#A2B1C6",
             "gridcolor": "#506784",
             "linecolor": "#506784",
             "minorgridcolor": "#506784",
             "startlinecolor": "#A2B1C6"
            },
            "baxis": {
             "endlinecolor": "#A2B1C6",
             "gridcolor": "#506784",
             "linecolor": "#506784",
             "minorgridcolor": "#506784",
             "startlinecolor": "#A2B1C6"
            },
            "type": "carpet"
           }
          ],
          "choropleth": [
           {
            "colorbar": {
             "outlinewidth": 0,
             "ticks": ""
            },
            "type": "choropleth"
           }
          ],
          "contour": [
           {
            "colorbar": {
             "outlinewidth": 0,
             "ticks": ""
            },
            "colorscale": [
             [
              0,
              "#0d0887"
             ],
             [
              0.1111111111111111,
              "#46039f"
             ],
             [
              0.2222222222222222,
              "#7201a8"
             ],
             [
              0.3333333333333333,
              "#9c179e"
             ],
             [
              0.4444444444444444,
              "#bd3786"
             ],
             [
              0.5555555555555556,
              "#d8576b"
             ],
             [
              0.6666666666666666,
              "#ed7953"
             ],
             [
              0.7777777777777778,
              "#fb9f3a"
             ],
             [
              0.8888888888888888,
              "#fdca26"
             ],
             [
              1,
              "#f0f921"
             ]
            ],
            "type": "contour"
           }
          ],
          "contourcarpet": [
           {
            "colorbar": {
             "outlinewidth": 0,
             "ticks": ""
            },
            "type": "contourcarpet"
           }
          ],
          "heatmap": [
           {
            "colorbar": {
             "outlinewidth": 0,
             "ticks": ""
            },
            "colorscale": [
             [
              0,
              "#0d0887"
             ],
             [
              0.1111111111111111,
              "#46039f"
             ],
             [
              0.2222222222222222,
              "#7201a8"
             ],
             [
              0.3333333333333333,
              "#9c179e"
             ],
             [
              0.4444444444444444,
              "#bd3786"
             ],
             [
              0.5555555555555556,
              "#d8576b"
             ],
             [
              0.6666666666666666,
              "#ed7953"
             ],
             [
              0.7777777777777778,
              "#fb9f3a"
             ],
             [
              0.8888888888888888,
              "#fdca26"
             ],
             [
              1,
              "#f0f921"
             ]
            ],
            "type": "heatmap"
           }
          ],
          "heatmapgl": [
           {
            "colorbar": {
             "outlinewidth": 0,
             "ticks": ""
            },
            "colorscale": [
             [
              0,
              "#0d0887"
             ],
             [
              0.1111111111111111,
              "#46039f"
             ],
             [
              0.2222222222222222,
              "#7201a8"
             ],
             [
              0.3333333333333333,
              "#9c179e"
             ],
             [
              0.4444444444444444,
              "#bd3786"
             ],
             [
              0.5555555555555556,
              "#d8576b"
             ],
             [
              0.6666666666666666,
              "#ed7953"
             ],
             [
              0.7777777777777778,
              "#fb9f3a"
             ],
             [
              0.8888888888888888,
              "#fdca26"
             ],
             [
              1,
              "#f0f921"
             ]
            ],
            "type": "heatmapgl"
           }
          ],
          "histogram": [
           {
            "marker": {
             "pattern": {
              "fillmode": "overlay",
              "size": 10,
              "solidity": 0.2
             }
            },
            "type": "histogram"
           }
          ],
          "histogram2d": [
           {
            "colorbar": {
             "outlinewidth": 0,
             "ticks": ""
            },
            "colorscale": [
             [
              0,
              "#0d0887"
             ],
             [
              0.1111111111111111,
              "#46039f"
             ],
             [
              0.2222222222222222,
              "#7201a8"
             ],
             [
              0.3333333333333333,
              "#9c179e"
             ],
             [
              0.4444444444444444,
              "#bd3786"
             ],
             [
              0.5555555555555556,
              "#d8576b"
             ],
             [
              0.6666666666666666,
              "#ed7953"
             ],
             [
              0.7777777777777778,
              "#fb9f3a"
             ],
             [
              0.8888888888888888,
              "#fdca26"
             ],
             [
              1,
              "#f0f921"
             ]
            ],
            "type": "histogram2d"
           }
          ],
          "histogram2dcontour": [
           {
            "colorbar": {
             "outlinewidth": 0,
             "ticks": ""
            },
            "colorscale": [
             [
              0,
              "#0d0887"
             ],
             [
              0.1111111111111111,
              "#46039f"
             ],
             [
              0.2222222222222222,
              "#7201a8"
             ],
             [
              0.3333333333333333,
              "#9c179e"
             ],
             [
              0.4444444444444444,
              "#bd3786"
             ],
             [
              0.5555555555555556,
              "#d8576b"
             ],
             [
              0.6666666666666666,
              "#ed7953"
             ],
             [
              0.7777777777777778,
              "#fb9f3a"
             ],
             [
              0.8888888888888888,
              "#fdca26"
             ],
             [
              1,
              "#f0f921"
             ]
            ],
            "type": "histogram2dcontour"
           }
          ],
          "mesh3d": [
           {
            "colorbar": {
             "outlinewidth": 0,
             "ticks": ""
            },
            "type": "mesh3d"
           }
          ],
          "parcoords": [
           {
            "line": {
             "colorbar": {
              "outlinewidth": 0,
              "ticks": ""
             }
            },
            "type": "parcoords"
           }
          ],
          "pie": [
           {
            "automargin": true,
            "type": "pie"
           }
          ],
          "scatter": [
           {
            "marker": {
             "line": {
              "color": "#283442"
             }
            },
            "type": "scatter"
           }
          ],
          "scatter3d": [
           {
            "line": {
             "colorbar": {
              "outlinewidth": 0,
              "ticks": ""
             }
            },
            "marker": {
             "colorbar": {
              "outlinewidth": 0,
              "ticks": ""
             }
            },
            "type": "scatter3d"
           }
          ],
          "scattercarpet": [
           {
            "marker": {
             "colorbar": {
              "outlinewidth": 0,
              "ticks": ""
             }
            },
            "type": "scattercarpet"
           }
          ],
          "scattergeo": [
           {
            "marker": {
             "colorbar": {
              "outlinewidth": 0,
              "ticks": ""
             }
            },
            "type": "scattergeo"
           }
          ],
          "scattergl": [
           {
            "marker": {
             "line": {
              "color": "#283442"
             }
            },
            "type": "scattergl"
           }
          ],
          "scattermapbox": [
           {
            "marker": {
             "colorbar": {
              "outlinewidth": 0,
              "ticks": ""
             }
            },
            "type": "scattermapbox"
           }
          ],
          "scatterpolar": [
           {
            "marker": {
             "colorbar": {
              "outlinewidth": 0,
              "ticks": ""
             }
            },
            "type": "scatterpolar"
           }
          ],
          "scatterpolargl": [
           {
            "marker": {
             "colorbar": {
              "outlinewidth": 0,
              "ticks": ""
             }
            },
            "type": "scatterpolargl"
           }
          ],
          "scatterternary": [
           {
            "marker": {
             "colorbar": {
              "outlinewidth": 0,
              "ticks": ""
             }
            },
            "type": "scatterternary"
           }
          ],
          "surface": [
           {
            "colorbar": {
             "outlinewidth": 0,
             "ticks": ""
            },
            "colorscale": [
             [
              0,
              "#0d0887"
             ],
             [
              0.1111111111111111,
              "#46039f"
             ],
             [
              0.2222222222222222,
              "#7201a8"
             ],
             [
              0.3333333333333333,
              "#9c179e"
             ],
             [
              0.4444444444444444,
              "#bd3786"
             ],
             [
              0.5555555555555556,
              "#d8576b"
             ],
             [
              0.6666666666666666,
              "#ed7953"
             ],
             [
              0.7777777777777778,
              "#fb9f3a"
             ],
             [
              0.8888888888888888,
              "#fdca26"
             ],
             [
              1,
              "#f0f921"
             ]
            ],
            "type": "surface"
           }
          ],
          "table": [
           {
            "cells": {
             "fill": {
              "color": "#506784"
             },
             "line": {
              "color": "rgb(17,17,17)"
             }
            },
            "header": {
             "fill": {
              "color": "#2a3f5f"
             },
             "line": {
              "color": "rgb(17,17,17)"
             }
            },
            "type": "table"
           }
          ]
         },
         "layout": {
          "annotationdefaults": {
           "arrowcolor": "#f2f5fa",
           "arrowhead": 0,
           "arrowwidth": 1
          },
          "autotypenumbers": "strict",
          "coloraxis": {
           "colorbar": {
            "outlinewidth": 0,
            "ticks": ""
           }
          },
          "colorscale": {
           "diverging": [
            [
             0,
             "#8e0152"
            ],
            [
             0.1,
             "#c51b7d"
            ],
            [
             0.2,
             "#de77ae"
            ],
            [
             0.3,
             "#f1b6da"
            ],
            [
             0.4,
             "#fde0ef"
            ],
            [
             0.5,
             "#f7f7f7"
            ],
            [
             0.6,
             "#e6f5d0"
            ],
            [
             0.7,
             "#b8e186"
            ],
            [
             0.8,
             "#7fbc41"
            ],
            [
             0.9,
             "#4d9221"
            ],
            [
             1,
             "#276419"
            ]
           ],
           "sequential": [
            [
             0,
             "#0d0887"
            ],
            [
             0.1111111111111111,
             "#46039f"
            ],
            [
             0.2222222222222222,
             "#7201a8"
            ],
            [
             0.3333333333333333,
             "#9c179e"
            ],
            [
             0.4444444444444444,
             "#bd3786"
            ],
            [
             0.5555555555555556,
             "#d8576b"
            ],
            [
             0.6666666666666666,
             "#ed7953"
            ],
            [
             0.7777777777777778,
             "#fb9f3a"
            ],
            [
             0.8888888888888888,
             "#fdca26"
            ],
            [
             1,
             "#f0f921"
            ]
           ],
           "sequentialminus": [
            [
             0,
             "#0d0887"
            ],
            [
             0.1111111111111111,
             "#46039f"
            ],
            [
             0.2222222222222222,
             "#7201a8"
            ],
            [
             0.3333333333333333,
             "#9c179e"
            ],
            [
             0.4444444444444444,
             "#bd3786"
            ],
            [
             0.5555555555555556,
             "#d8576b"
            ],
            [
             0.6666666666666666,
             "#ed7953"
            ],
            [
             0.7777777777777778,
             "#fb9f3a"
            ],
            [
             0.8888888888888888,
             "#fdca26"
            ],
            [
             1,
             "#f0f921"
            ]
           ]
          },
          "colorway": [
           "#636efa",
           "#EF553B",
           "#00cc96",
           "#ab63fa",
           "#FFA15A",
           "#19d3f3",
           "#FF6692",
           "#B6E880",
           "#FF97FF",
           "#FECB52"
          ],
          "font": {
           "color": "#f2f5fa"
          },
          "geo": {
           "bgcolor": "rgb(17,17,17)",
           "lakecolor": "rgb(17,17,17)",
           "landcolor": "rgb(17,17,17)",
           "showlakes": true,
           "showland": true,
           "subunitcolor": "#506784"
          },
          "hoverlabel": {
           "align": "left"
          },
          "hovermode": "closest",
          "mapbox": {
           "style": "dark"
          },
          "paper_bgcolor": "rgb(17,17,17)",
          "plot_bgcolor": "rgb(17,17,17)",
          "polar": {
           "angularaxis": {
            "gridcolor": "#506784",
            "linecolor": "#506784",
            "ticks": ""
           },
           "bgcolor": "rgb(17,17,17)",
           "radialaxis": {
            "gridcolor": "#506784",
            "linecolor": "#506784",
            "ticks": ""
           }
          },
          "scene": {
           "xaxis": {
            "backgroundcolor": "rgb(17,17,17)",
            "gridcolor": "#506784",
            "gridwidth": 2,
            "linecolor": "#506784",
            "showbackground": true,
            "ticks": "",
            "zerolinecolor": "#C8D4E3"
           },
           "yaxis": {
            "backgroundcolor": "rgb(17,17,17)",
            "gridcolor": "#506784",
            "gridwidth": 2,
            "linecolor": "#506784",
            "showbackground": true,
            "ticks": "",
            "zerolinecolor": "#C8D4E3"
           },
           "zaxis": {
            "backgroundcolor": "rgb(17,17,17)",
            "gridcolor": "#506784",
            "gridwidth": 2,
            "linecolor": "#506784",
            "showbackground": true,
            "ticks": "",
            "zerolinecolor": "#C8D4E3"
           }
          },
          "shapedefaults": {
           "line": {
            "color": "#f2f5fa"
           }
          },
          "sliderdefaults": {
           "bgcolor": "#C8D4E3",
           "bordercolor": "rgb(17,17,17)",
           "borderwidth": 1,
           "tickwidth": 0
          },
          "ternary": {
           "aaxis": {
            "gridcolor": "#506784",
            "linecolor": "#506784",
            "ticks": ""
           },
           "baxis": {
            "gridcolor": "#506784",
            "linecolor": "#506784",
            "ticks": ""
           },
           "bgcolor": "rgb(17,17,17)",
           "caxis": {
            "gridcolor": "#506784",
            "linecolor": "#506784",
            "ticks": ""
           }
          },
          "title": {
           "x": 0.05
          },
          "updatemenudefaults": {
           "bgcolor": "#506784",
           "borderwidth": 0
          },
          "xaxis": {
           "automargin": true,
           "gridcolor": "#283442",
           "linecolor": "#506784",
           "ticks": "",
           "title": {
            "standoff": 15
           },
           "zerolinecolor": "#283442",
           "zerolinewidth": 2
          },
          "yaxis": {
           "automargin": true,
           "gridcolor": "#283442",
           "linecolor": "#506784",
           "ticks": "",
           "title": {
            "standoff": 15
           },
           "zerolinecolor": "#283442",
           "zerolinewidth": 2
          }
         }
        },
        "title": {
         "text": "Elbow Curve",
         "x": 0.5
        },
        "width": 750,
        "xaxis": {
         "anchor": "y",
         "domain": [
          0,
          1
         ],
         "title": {
          "text": "Number of Clusters"
         }
        },
        "yaxis": {
         "anchor": "x",
         "domain": [
          0,
          1
         ],
         "title": {
          "text": "Sum of Squared Error"
         }
        }
       }
      }
     },
     "metadata": {},
     "output_type": "display_data"
    }
   ],
   "source": [
    "X = stock_data[['Return', 'Volatility']]\n",
    "inertia_list = []\n",
    "\n",
    "for k in range(1,16):\n",
    "    kmeans = KMeans(n_clusters=k)\n",
    "    kmeans.fit(X)\n",
    "    inertia_list.append(kmeans.inertia_)\n",
    "\n",
    "px.line(inertia_list,\n",
    "        title='Elbow Curve',\n",
    "        width=750,\n",
    "        height=500,\n",
    "        labels={\n",
    "            \"index\":\"Number of Clusters\",\n",
    "            \"value\":\"Sum of Squared Error\"\n",
    "        },\n",
    "        template='plotly_dark'\n",
    "        ).update_layout(showlegend=False, title_x=0.5)"
   ]
  },
  {
   "cell_type": "code",
   "execution_count": 10,
   "metadata": {},
   "outputs": [],
   "source": [
    "silhouette = []\n",
    "\n",
    "for k in range(2,16):\n",
    "    kmeans = KMeans(n_clusters=k)\n",
    "    kmeans.fit(X)\n",
    "    silhouette.append(silhouette_score(X, kmeans.labels_))"
   ]
  },
  {
   "cell_type": "code",
   "execution_count": 14,
   "metadata": {},
   "outputs": [],
   "source": [
    "kmeans = KMeans(n_clusters=7).fit(X)\n",
    "labels = kmeans.labels_\n",
    "stock_data['KMeansCluster'] = labels"
   ]
  },
  {
   "cell_type": "code",
   "execution_count": 15,
   "metadata": {},
   "outputs": [
    {
     "data": {
      "application/vnd.plotly.v1+json": {
       "config": {
        "plotlyServerURL": "https://plot.ly"
       },
       "data": [
        {
         "customdata": [
          [
           "Health Care",
           "Agilent Technologies"
          ],
          [
           "Information Technology",
           "Apple Inc."
          ],
          [
           "Health Care",
           "AbbVie"
          ],
          [
           "Consumer Discretionary",
           "Airbnb"
          ],
          [
           "Health Care",
           "Abbott Laboratories"
          ],
          [
           "Financials",
           "Arch Capital Group"
          ],
          [
           "Information Technology",
           "Accenture"
          ],
          [
           "Information Technology",
           "Adobe Inc."
          ],
          [
           "Information Technology",
           "Analog Devices"
          ],
          [
           "Consumer Staples",
           "Archer Daniels Midland"
          ],
          [
           "Industrials",
           "Automatic Data Processing"
          ],
          [
           "Information Technology",
           "Autodesk"
          ],
          [
           "Utilities",
           "Ameren"
          ],
          [
           "Utilities",
           "American Electric Power"
          ],
          [
           "Utilities",
           "AES Corporation"
          ],
          [
           "Financials",
           "Aflac"
          ],
          [
           "Financials",
           "American International Group"
          ],
          [
           "Financials",
           "Assurant"
          ],
          [
           "Financials",
           "Arthur J. Gallagher & Co."
          ],
          [
           "Information Technology",
           "Akamai Technologies"
          ],
          [
           "Materials",
           "Albemarle Corporation"
          ],
          [
           "Health Care",
           "Align Technology"
          ],
          [
           "Financials",
           "Allstate"
          ],
          [
           "Industrials",
           "Allegion"
          ],
          [
           "Information Technology",
           "Applied Materials"
          ],
          [
           "Materials",
           "Amcor"
          ],
          [
           "Information Technology",
           "Advanced Micro Devices"
          ],
          [
           "Industrials",
           "Ametek"
          ],
          [
           "Health Care",
           "Amgen"
          ],
          [
           "Financials",
           "Ameriprise Financial"
          ],
          [
           "Real Estate",
           "American Tower"
          ],
          [
           "Industrials",
           "Amentum"
          ],
          [
           "Consumer Discretionary",
           "Amazon"
          ],
          [
           "Information Technology",
           "Arista Networks"
          ],
          [
           "Information Technology",
           "Ansys"
          ],
          [
           "Financials",
           "Aon"
          ],
          [
           "Industrials",
           "A. O. Smith"
          ],
          [
           "Energy",
           "APA Corporation"
          ],
          [
           "Materials",
           "Air Products"
          ],
          [
           "Information Technology",
           "Amphenol"
          ],
          [
           "Consumer Discretionary",
           "Aptiv"
          ],
          [
           "Real Estate",
           "Alexandria Real Estate Equities"
          ],
          [
           "Utilities",
           "Atmos Energy"
          ],
          [
           "Real Estate",
           "AvalonBay Communities"
          ],
          [
           "Information Technology",
           "Broadcom"
          ],
          [
           "Materials",
           "Avery Dennison"
          ],
          [
           "Utilities",
           "American Water Works"
          ],
          [
           "Industrials",
           "Axon Enterprise"
          ],
          [
           "Financials",
           "American Express"
          ],
          [
           "Consumer Discretionary",
           "AutoZone"
          ],
          [
           "Industrials",
           "Boeing"
          ],
          [
           "Financials",
           "Bank of America"
          ],
          [
           "Materials",
           "Ball Corporation"
          ],
          [
           "Health Care",
           "Baxter International"
          ],
          [
           "Consumer Discretionary",
           "Best Buy"
          ],
          [
           "Health Care",
           "Becton Dickinson"
          ],
          [
           "Financials",
           "Franklin Resources"
          ],
          [
           "Consumer Staples",
           "Brown–Forman"
          ],
          [
           "Consumer Staples",
           "Bunge Global"
          ],
          [
           "Health Care",
           "Biogen"
          ],
          [
           "Financials",
           "BNY Mellon"
          ],
          [
           "Consumer Discretionary",
           "Booking Holdings"
          ],
          [
           "Energy",
           "Baker Hughes"
          ],
          [
           "Industrials",
           "Builders FirstSource"
          ],
          [
           "Financials",
           "BlackRock"
          ],
          [
           "Health Care",
           "Bristol Myers Squibb"
          ],
          [
           "Industrials",
           "Broadridge Financial Solutions"
          ],
          [
           "Financials",
           "Berkshire Hathaway"
          ],
          [
           "Financials",
           "Brown & Brown"
          ],
          [
           "Health Care",
           "Boston Scientific"
          ],
          [
           "Consumer Discretionary",
           "BorgWarner"
          ],
          [
           "Financials",
           "Blackstone Inc."
          ],
          [
           "Real Estate",
           "BXP, Inc."
          ],
          [
           "Financials",
           "Citigroup"
          ],
          [
           "Consumer Staples",
           "Conagra Brands"
          ],
          [
           "Health Care",
           "Cardinal Health"
          ],
          [
           "Industrials",
           "Carrier Global"
          ],
          [
           "Industrials",
           "Caterpillar Inc."
          ],
          [
           "Financials",
           "Chubb Limited"
          ],
          [
           "Financials",
           "Cboe Global Markets"
          ],
          [
           "Real Estate",
           "CBRE Group"
          ],
          [
           "Real Estate",
           "Crown Castle"
          ],
          [
           "Consumer Discretionary",
           "Carnival"
          ],
          [
           "Information Technology",
           "Cadence Design Systems"
          ],
          [
           "Information Technology",
           "CDW"
          ],
          [
           "Materials",
           "Celanese"
          ],
          [
           "Utilities",
           "Constellation Energy"
          ],
          [
           "Materials",
           "CF Industries"
          ],
          [
           "Financials",
           "Citizens Financial Group"
          ],
          [
           "Consumer Staples",
           "Church & Dwight"
          ],
          [
           "Industrials",
           "C.H. Robinson"
          ],
          [
           "Communication Services",
           "Charter Communications"
          ],
          [
           "Health Care",
           "Cigna"
          ],
          [
           "Financials",
           "Cincinnati Financial"
          ],
          [
           "Consumer Staples",
           "Colgate-Palmolive"
          ],
          [
           "Consumer Staples",
           "Clorox"
          ],
          [
           "Communication Services",
           "Comcast"
          ],
          [
           "Financials",
           "CME Group"
          ],
          [
           "Consumer Discretionary",
           "Chipotle Mexican Grill"
          ],
          [
           "Industrials",
           "Cummins"
          ],
          [
           "Utilities",
           "CMS Energy"
          ],
          [
           "Health Care",
           "Centene Corporation"
          ],
          [
           "Utilities",
           "CenterPoint Energy"
          ],
          [
           "Financials",
           "Capital One"
          ],
          [
           "Health Care",
           "Cooper Companies (The)"
          ],
          [
           "Energy",
           "ConocoPhillips"
          ],
          [
           "Health Care",
           "Cencora"
          ],
          [
           "Consumer Staples",
           "Costco"
          ],
          [
           "Financials",
           "Corpay"
          ],
          [
           "Consumer Staples",
           "Campbell Soup Company"
          ],
          [
           "Industrials",
           "Copart"
          ],
          [
           "Real Estate",
           "Camden Property Trust"
          ],
          [
           "Health Care",
           "Charles River Laboratories"
          ],
          [
           "Information Technology",
           "Salesforce"
          ],
          [
           "Information Technology",
           "CrowdStrike"
          ],
          [
           "Information Technology",
           "Cisco"
          ],
          [
           "Real Estate",
           "CoStar Group"
          ],
          [
           "Industrials",
           "CSX Corporation"
          ],
          [
           "Industrials",
           "Cintas"
          ],
          [
           "Health Care",
           "Catalent"
          ],
          [
           "Energy",
           "Coterra"
          ],
          [
           "Information Technology",
           "Cognizant"
          ],
          [
           "Materials",
           "Corteva"
          ],
          [
           "Health Care",
           "CVS Health"
          ],
          [
           "Energy",
           "Chevron Corporation"
          ],
          [
           "Consumer Discretionary",
           "Caesars Entertainment"
          ],
          [
           "Utilities",
           "Dominion Energy"
          ],
          [
           "Industrials",
           "Delta Air Lines"
          ],
          [
           "Industrials",
           "Dayforce"
          ],
          [
           "Materials",
           "DuPont"
          ],
          [
           "Industrials",
           "Deere & Company"
          ],
          [
           "Consumer Discretionary",
           "Deckers Brands"
          ],
          [
           "Information Technology",
           "Dell Technologies"
          ],
          [
           "Financials",
           "Discover Financial"
          ],
          [
           "Consumer Staples",
           "Dollar General"
          ],
          [
           "Health Care",
           "Quest Diagnostics"
          ],
          [
           "Consumer Discretionary",
           "D. R. Horton"
          ],
          [
           "Health Care",
           "Danaher Corporation"
          ],
          [
           "Communication Services",
           "Walt Disney Company (The)"
          ],
          [
           "Real Estate",
           "Digital Realty"
          ],
          [
           "Consumer Staples",
           "Dollar Tree"
          ],
          [
           "Real Estate",
           "Healthpeak Properties"
          ],
          [
           "Industrials",
           "Dover Corporation"
          ],
          [
           "Materials",
           "Dow Inc."
          ],
          [
           "Consumer Discretionary",
           "Domino's"
          ],
          [
           "Consumer Discretionary",
           "Darden Restaurants"
          ],
          [
           "Utilities",
           "DTE Energy"
          ],
          [
           "Utilities",
           "Duke Energy"
          ],
          [
           "Health Care",
           "DaVita"
          ],
          [
           "Energy",
           "Devon Energy"
          ],
          [
           "Health Care",
           "Dexcom"
          ],
          [
           "Communication Services",
           "Electronic Arts"
          ],
          [
           "Consumer Discretionary",
           "eBay"
          ],
          [
           "Materials",
           "Ecolab"
          ],
          [
           "Utilities",
           "Consolidated Edison"
          ],
          [
           "Industrials",
           "Equifax"
          ],
          [
           "Financials",
           "Everest Group"
          ],
          [
           "Utilities",
           "Edison International"
          ],
          [
           "Consumer Staples",
           "Estée Lauder Companies (The)"
          ],
          [
           "Health Care",
           "Elevance Health"
          ],
          [
           "Materials",
           "Eastman Chemical Company"
          ],
          [
           "Industrials",
           "Emerson Electric"
          ],
          [
           "Information Technology",
           "Enphase Energy"
          ],
          [
           "Energy",
           "EOG Resources"
          ],
          [
           "Information Technology",
           "EPAM Systems"
          ],
          [
           "Real Estate",
           "Equinix"
          ],
          [
           "Real Estate",
           "Equity Residential"
          ],
          [
           "Energy",
           "EQT Corporation"
          ],
          [
           "Financials",
           "Erie Indemnity"
          ],
          [
           "Utilities",
           "Eversource Energy"
          ],
          [
           "Real Estate",
           "Essex Property Trust"
          ],
          [
           "Industrials",
           "Eaton Corporation"
          ],
          [
           "Utilities",
           "Entergy"
          ],
          [
           "Utilities",
           "Evergy"
          ],
          [
           "Health Care",
           "Edwards Lifesciences"
          ],
          [
           "Utilities",
           "Exelon"
          ],
          [
           "Industrials",
           "Expeditors International"
          ],
          [
           "Consumer Discretionary",
           "Expedia Group"
          ],
          [
           "Real Estate",
           "Extra Space Storage"
          ],
          [
           "Consumer Discretionary",
           "Ford Motor Company"
          ],
          [
           "Energy",
           "Diamondback Energy"
          ],
          [
           "Industrials",
           "Fastenal"
          ],
          [
           "Materials",
           "Freeport-McMoRan"
          ],
          [
           "Financials",
           "FactSet"
          ],
          [
           "Industrials",
           "FedEx"
          ],
          [
           "Utilities",
           "FirstEnergy"
          ],
          [
           "Information Technology",
           "F5, Inc."
          ],
          [
           "Financials",
           "Fiserv"
          ],
          [
           "Information Technology",
           "Fair Isaac"
          ],
          [
           "Financials",
           "Fidelity National Information Services"
          ],
          [
           "Financials",
           "Fifth Third Bancorp"
          ],
          [
           "Materials",
           "FMC Corporation"
          ],
          [
           "Communication Services",
           "Fox Corporation (Class B)"
          ],
          [
           "Communication Services",
           "Fox Corporation (Class A)"
          ],
          [
           "Real Estate",
           "Federal Realty Investment Trust"
          ],
          [
           "Information Technology",
           "First Solar"
          ],
          [
           "Information Technology",
           "Fortinet"
          ],
          [
           "Industrials",
           "Fortive"
          ],
          [
           "Industrials",
           "General Dynamics"
          ],
          [
           "Information Technology",
           "GoDaddy"
          ],
          [
           "Industrials",
           "GE Aerospace"
          ],
          [
           "Health Care",
           "GE HealthCare"
          ],
          [
           "Information Technology",
           "Gen Digital"
          ],
          [
           "Industrials",
           "GE Vernova"
          ],
          [
           "Health Care",
           "Gilead Sciences"
          ],
          [
           "Consumer Staples",
           "General Mills"
          ],
          [
           "Financials",
           "Globe Life"
          ],
          [
           "Information Technology",
           "Corning Inc."
          ],
          [
           "Consumer Discretionary",
           "General Motors"
          ],
          [
           "Industrials",
           "Generac"
          ],
          [
           "Communication Services",
           "Alphabet Inc. (Class C)"
          ],
          [
           "Communication Services",
           "Alphabet Inc. (Class A)"
          ],
          [
           "Consumer Discretionary",
           "Genuine Parts Company"
          ],
          [
           "Financials",
           "Global Payments"
          ],
          [
           "Consumer Discretionary",
           "Garmin"
          ],
          [
           "Financials",
           "Goldman Sachs"
          ],
          [
           "Industrials",
           "W. W. Grainger"
          ],
          [
           "Energy",
           "Halliburton"
          ],
          [
           "Consumer Discretionary",
           "Hasbro"
          ],
          [
           "Financials",
           "Huntington Bancshares"
          ],
          [
           "Health Care",
           "HCA Healthcare"
          ],
          [
           "Consumer Discretionary",
           "Home Depot (The)"
          ],
          [
           "Energy",
           "Hess Corporation"
          ],
          [
           "Financials",
           "Hartford (The)"
          ],
          [
           "Industrials",
           "Huntington Ingalls Industries"
          ],
          [
           "Consumer Discretionary",
           "Hilton Worldwide"
          ],
          [
           "Health Care",
           "Hologic"
          ],
          [
           "Industrials",
           "Honeywell"
          ],
          [
           "Information Technology",
           "Hewlett Packard Enterprise"
          ],
          [
           "Information Technology",
           "HP Inc."
          ],
          [
           "Consumer Staples",
           "Hormel Foods"
          ],
          [
           "Health Care",
           "Henry Schein"
          ],
          [
           "Real Estate",
           "Host Hotels & Resorts"
          ],
          [
           "Consumer Staples",
           "Hershey Company (The)"
          ],
          [
           "Industrials",
           "Hubbell Incorporated"
          ],
          [
           "Health Care",
           "Humana"
          ],
          [
           "Industrials",
           "Howmet Aerospace"
          ],
          [
           "Information Technology",
           "IBM"
          ],
          [
           "Financials",
           "Intercontinental Exchange"
          ],
          [
           "Health Care",
           "Idexx Laboratories"
          ],
          [
           "Industrials",
           "IDEX Corporation"
          ],
          [
           "Materials",
           "International Flavors & Fragrances"
          ],
          [
           "Health Care",
           "Incyte"
          ],
          [
           "Information Technology",
           "Intel"
          ],
          [
           "Information Technology",
           "Intuit"
          ],
          [
           "Real Estate",
           "Invitation Homes"
          ],
          [
           "Materials",
           "International Paper"
          ],
          [
           "Communication Services",
           "Interpublic Group of Companies (The)"
          ],
          [
           "Health Care",
           "IQVIA"
          ],
          [
           "Industrials",
           "Ingersoll Rand"
          ],
          [
           "Real Estate",
           "Iron Mountain"
          ],
          [
           "Health Care",
           "Intuitive Surgical"
          ],
          [
           "Information Technology",
           "Gartner"
          ],
          [
           "Industrials",
           "Illinois Tool Works"
          ],
          [
           "Financials",
           "Invesco"
          ],
          [
           "Industrials",
           "Jacobs Solutions"
          ],
          [
           "Industrials",
           "J.B. Hunt"
          ],
          [
           "Information Technology",
           "Jabil"
          ],
          [
           "Industrials",
           "Johnson Controls"
          ],
          [
           "Financials",
           "Jack Henry & Associates"
          ],
          [
           "Health Care",
           "Johnson & Johnson"
          ],
          [
           "Information Technology",
           "Juniper Networks"
          ],
          [
           "Financials",
           "JPMorgan Chase"
          ],
          [
           "Consumer Staples",
           "Kellanova"
          ],
          [
           "Consumer Staples",
           "Keurig Dr Pepper"
          ],
          [
           "Financials",
           "KeyCorp"
          ],
          [
           "Information Technology",
           "Keysight Technologies"
          ],
          [
           "Consumer Staples",
           "Kraft Heinz"
          ],
          [
           "Real Estate",
           "Kimco Realty"
          ],
          [
           "Financials",
           "KKR"
          ],
          [
           "Information Technology",
           "KLA Corporation"
          ],
          [
           "Consumer Staples",
           "Kimberly-Clark"
          ],
          [
           "Energy",
           "Kinder Morgan"
          ],
          [
           "Consumer Discretionary",
           "CarMax"
          ],
          [
           "Consumer Staples",
           "Coca-Cola Company (The)"
          ],
          [
           "Consumer Staples",
           "Kroger"
          ],
          [
           "Consumer Staples",
           "Kenvue"
          ],
          [
           "Financials",
           "Loews Corporation"
          ],
          [
           "Industrials",
           "Leidos"
          ],
          [
           "Consumer Discretionary",
           "Lennar"
          ],
          [
           "Health Care",
           "LabCorp"
          ],
          [
           "Industrials",
           "L3Harris"
          ],
          [
           "Materials",
           "Linde plc"
          ],
          [
           "Consumer Discretionary",
           "LKQ Corporation"
          ],
          [
           "Health Care",
           "Lilly (Eli)"
          ],
          [
           "Industrials",
           "Lockheed Martin"
          ],
          [
           "Utilities",
           "Alliant Energy"
          ],
          [
           "Consumer Discretionary",
           "Lowe's"
          ],
          [
           "Information Technology",
           "Lam Research"
          ],
          [
           "Consumer Discretionary",
           "Lululemon Athletica"
          ],
          [
           "Industrials",
           "Southwest Airlines"
          ],
          [
           "Consumer Discretionary",
           "Las Vegas Sands"
          ],
          [
           "Consumer Staples",
           "Lamb Weston"
          ],
          [
           "Materials",
           "LyondellBasell"
          ],
          [
           "Communication Services",
           "Live Nation Entertainment"
          ],
          [
           "Financials",
           "Mastercard"
          ],
          [
           "Real Estate",
           "Mid-America Apartment Communities"
          ],
          [
           "Consumer Discretionary",
           "Marriott International"
          ],
          [
           "Industrials",
           "Masco"
          ],
          [
           "Consumer Discretionary",
           "McDonald's"
          ],
          [
           "Information Technology",
           "Microchip Technology"
          ],
          [
           "Health Care",
           "McKesson Corporation"
          ],
          [
           "Financials",
           "Moody's Corporation"
          ],
          [
           "Consumer Staples",
           "Mondelez International"
          ],
          [
           "Health Care",
           "Medtronic"
          ],
          [
           "Financials",
           "MetLife"
          ],
          [
           "Communication Services",
           "Meta Platforms"
          ],
          [
           "Consumer Discretionary",
           "MGM Resorts"
          ],
          [
           "Consumer Discretionary",
           "Mohawk Industries"
          ],
          [
           "Consumer Staples",
           "McCormick & Company"
          ],
          [
           "Financials",
           "MarketAxess"
          ],
          [
           "Materials",
           "Martin Marietta Materials"
          ],
          [
           "Financials",
           "Marsh McLennan"
          ],
          [
           "Industrials",
           "3M"
          ],
          [
           "Consumer Staples",
           "Monster Beverage"
          ],
          [
           "Consumer Staples",
           "Altria"
          ],
          [
           "Health Care",
           "Molina Healthcare"
          ],
          [
           "Materials",
           "Mosaic Company (The)"
          ],
          [
           "Energy",
           "Marathon Petroleum"
          ],
          [
           "Information Technology",
           "Monolithic Power Systems"
          ],
          [
           "Health Care",
           "Merck & Co."
          ],
          [
           "Health Care",
           "Moderna"
          ],
          [
           "Energy",
           "Marathon Oil"
          ],
          [
           "Financials",
           "Morgan Stanley"
          ],
          [
           "Financials",
           "MSCI"
          ],
          [
           "Information Technology",
           "Microsoft"
          ],
          [
           "Information Technology",
           "Motorola Solutions"
          ],
          [
           "Financials",
           "M&T Bank"
          ],
          [
           "Communication Services",
           "Match Group"
          ],
          [
           "Health Care",
           "Mettler Toledo"
          ],
          [
           "Information Technology",
           "Micron Technology"
          ],
          [
           "Consumer Discretionary",
           "Norwegian Cruise Line Holdings"
          ],
          [
           "Financials",
           "Nasdaq, Inc."
          ],
          [
           "Industrials",
           "Nordson Corporation"
          ],
          [
           "Utilities",
           "NextEra Energy"
          ],
          [
           "Materials",
           "Newmont"
          ],
          [
           "Communication Services",
           "Netflix"
          ],
          [
           "Utilities",
           "NiSource"
          ],
          [
           "Consumer Discretionary",
           "Nike, Inc."
          ],
          [
           "Industrials",
           "Northrop Grumman"
          ],
          [
           "Information Technology",
           "ServiceNow"
          ],
          [
           "Utilities",
           "NRG Energy"
          ],
          [
           "Industrials",
           "Norfolk Southern Railway"
          ],
          [
           "Information Technology",
           "NetApp"
          ],
          [
           "Financials",
           "Northern Trust"
          ],
          [
           "Materials",
           "Nucor"
          ],
          [
           "Information Technology",
           "Nvidia"
          ],
          [
           "Consumer Discretionary",
           "NVR, Inc."
          ],
          [
           "Communication Services",
           "News Corp (Class B)"
          ],
          [
           "Communication Services",
           "News Corp (Class A)"
          ],
          [
           "Information Technology",
           "NXP Semiconductors"
          ],
          [
           "Real Estate",
           "Realty Income"
          ],
          [
           "Industrials",
           "Old Dominion"
          ],
          [
           "Energy",
           "ONEOK"
          ],
          [
           "Communication Services",
           "Omnicom Group"
          ],
          [
           "Information Technology",
           "ON Semiconductor"
          ],
          [
           "Information Technology",
           "Oracle Corporation"
          ],
          [
           "Consumer Discretionary",
           "O'Reilly Auto Parts"
          ],
          [
           "Industrials",
           "Otis Worldwide"
          ],
          [
           "Energy",
           "Occidental Petroleum"
          ],
          [
           "Information Technology",
           "Palo Alto Networks"
          ],
          [
           "Communication Services",
           "Paramount Global"
          ],
          [
           "Industrials",
           "Paycom"
          ],
          [
           "Industrials",
           "Paychex"
          ],
          [
           "Industrials",
           "Paccar"
          ],
          [
           "Utilities",
           "PG&E Corporation"
          ],
          [
           "Utilities",
           "Public Service Enterprise Group"
          ],
          [
           "Consumer Staples",
           "PepsiCo"
          ],
          [
           "Health Care",
           "Pfizer"
          ],
          [
           "Financials",
           "Principal Financial Group"
          ],
          [
           "Consumer Staples",
           "Procter & Gamble"
          ],
          [
           "Financials",
           "Progressive Corporation"
          ],
          [
           "Industrials",
           "Parker Hannifin"
          ],
          [
           "Consumer Discretionary",
           "PulteGroup"
          ],
          [
           "Materials",
           "Packaging Corporation of America"
          ],
          [
           "Real Estate",
           "Prologis"
          ],
          [
           "Information Technology",
           "Palantir Technologies"
          ],
          [
           "Consumer Staples",
           "Philip Morris International"
          ],
          [
           "Financials",
           "PNC Financial Services"
          ],
          [
           "Industrials",
           "Pentair"
          ],
          [
           "Utilities",
           "Pinnacle West"
          ],
          [
           "Health Care",
           "Insulet Corporation"
          ],
          [
           "Consumer Discretionary",
           "Pool Corporation"
          ],
          [
           "Materials",
           "PPG Industries"
          ],
          [
           "Utilities",
           "PPL Corporation"
          ],
          [
           "Financials",
           "Prudential Financial"
          ],
          [
           "Real Estate",
           "Public Storage"
          ],
          [
           "Energy",
           "Phillips 66"
          ],
          [
           "Information Technology",
           "PTC Inc."
          ],
          [
           "Industrials",
           "Quanta Services"
          ],
          [
           "Financials",
           "PayPal"
          ],
          [
           "Information Technology",
           "Qualcomm"
          ],
          [
           "Information Technology",
           "Qorvo"
          ],
          [
           "Consumer Discretionary",
           "Royal Caribbean Group"
          ],
          [
           "Real Estate",
           "Regency Centers"
          ],
          [
           "Health Care",
           "Regeneron Pharmaceuticals"
          ],
          [
           "Financials",
           "Regions Financial Corporation"
          ],
          [
           "Financials",
           "Raymond James Financial"
          ],
          [
           "Consumer Discretionary",
           "Ralph Lauren Corporation"
          ],
          [
           "Health Care",
           "ResMed"
          ],
          [
           "Industrials",
           "Rockwell Automation"
          ],
          [
           "Industrials",
           "Rollins, Inc."
          ],
          [
           "Information Technology",
           "Roper Technologies"
          ],
          [
           "Consumer Discretionary",
           "Ross Stores"
          ],
          [
           "Industrials",
           "Republic Services"
          ],
          [
           "Industrials",
           "RTX Corporation"
          ],
          [
           "Health Care",
           "Revvity"
          ],
          [
           "Real Estate",
           "SBA Communications"
          ],
          [
           "Consumer Discretionary",
           "Starbucks"
          ],
          [
           "Financials",
           "Charles Schwab Corporation"
          ],
          [
           "Materials",
           "Sherwin-Williams"
          ],
          [
           "Consumer Staples",
           "J.M. Smucker Company (The)"
          ],
          [
           "Energy",
           "Schlumberger"
          ],
          [
           "Information Technology",
           "Supermicro"
          ],
          [
           "Industrials",
           "Snap-on"
          ],
          [
           "Information Technology",
           "Synopsys"
          ],
          [
           "Utilities",
           "Southern Company"
          ],
          [
           "Health Care",
           "Solventum"
          ],
          [
           "Real Estate",
           "Simon Property Group"
          ],
          [
           "Financials",
           "S&P Global"
          ],
          [
           "Utilities",
           "Sempra"
          ],
          [
           "Health Care",
           "Steris"
          ],
          [
           "Materials",
           "Steel Dynamics"
          ],
          [
           "Financials",
           "State Street Corporation"
          ],
          [
           "Information Technology",
           "Seagate Technology"
          ],
          [
           "Consumer Staples",
           "Constellation Brands"
          ],
          [
           "Materials",
           "Smurfit WestRock"
          ],
          [
           "Industrials",
           "Stanley Black & Decker"
          ],
          [
           "Information Technology",
           "Skyworks Solutions"
          ],
          [
           "Financials",
           "Synchrony Financial"
          ],
          [
           "Health Care",
           "Stryker Corporation"
          ],
          [
           "Consumer Staples",
           "Sysco"
          ],
          [
           "Communication Services",
           "AT&T"
          ],
          [
           "Consumer Staples",
           "Molson Coors Beverage Company"
          ],
          [
           "Industrials",
           "TransDigm Group"
          ],
          [
           "Information Technology",
           "Teledyne Technologies"
          ],
          [
           "Health Care",
           "Bio-Techne"
          ],
          [
           "Information Technology",
           "TE Connectivity"
          ],
          [
           "Information Technology",
           "Teradyne"
          ],
          [
           "Financials",
           "Truist Financial"
          ],
          [
           "Health Care",
           "Teleflex"
          ],
          [
           "Consumer Staples",
           "Target Corporation"
          ],
          [
           "Consumer Discretionary",
           "TJX Companies"
          ],
          [
           "Health Care",
           "Thermo Fisher Scientific"
          ],
          [
           "Communication Services",
           "T-Mobile US"
          ],
          [
           "Consumer Discretionary",
           "Tapestry, Inc."
          ],
          [
           "Energy",
           "Targa Resources"
          ],
          [
           "Information Technology",
           "Trimble Inc."
          ],
          [
           "Financials",
           "T. Rowe Price"
          ],
          [
           "Financials",
           "Travelers Companies (The)"
          ],
          [
           "Consumer Discretionary",
           "Tractor Supply"
          ],
          [
           "Consumer Discretionary",
           "Tesla, Inc."
          ],
          [
           "Consumer Staples",
           "Tyson Foods"
          ],
          [
           "Industrials",
           "Trane Technologies"
          ],
          [
           "Communication Services",
           "Take-Two Interactive"
          ],
          [
           "Information Technology",
           "Texas Instruments"
          ],
          [
           "Industrials",
           "Textron"
          ],
          [
           "Information Technology",
           "Tyler Technologies"
          ],
          [
           "Industrials",
           "United Airlines Holdings"
          ],
          [
           "Industrials",
           "Uber"
          ],
          [
           "Real Estate",
           "UDR, Inc."
          ],
          [
           "Health Care",
           "Universal Health Services"
          ],
          [
           "Consumer Discretionary",
           "Ulta Beauty"
          ],
          [
           "Health Care",
           "UnitedHealth Group"
          ],
          [
           "Industrials",
           "Union Pacific Corporation"
          ],
          [
           "Industrials",
           "United Parcel Service"
          ],
          [
           "Industrials",
           "United Rentals"
          ],
          [
           "Financials",
           "U.S. Bancorp"
          ],
          [
           "Financials",
           "Visa Inc."
          ],
          [
           "Real Estate",
           "Vici Properties"
          ],
          [
           "Energy",
           "Valero Energy"
          ],
          [
           "Industrials",
           "Veralto"
          ],
          [
           "Materials",
           "Vulcan Materials Company"
          ],
          [
           "Industrials",
           "Verisk Analytics"
          ],
          [
           "Information Technology",
           "Verisign"
          ],
          [
           "Health Care",
           "Vertex Pharmaceuticals"
          ],
          [
           "Utilities",
           "Vistra Corp."
          ],
          [
           "Real Estate",
           "Ventas"
          ],
          [
           "Health Care",
           "Viatris"
          ],
          [
           "Communication Services",
           "Verizon"
          ],
          [
           "Industrials",
           "Wabtec"
          ],
          [
           "Health Care",
           "Waters Corporation"
          ],
          [
           "Consumer Staples",
           "Walgreens Boots Alliance"
          ],
          [
           "Communication Services",
           "Warner Bros. Discovery"
          ],
          [
           "Information Technology",
           "Western Digital"
          ],
          [
           "Utilities",
           "WEC Energy Group"
          ],
          [
           "Real Estate",
           "Welltower"
          ],
          [
           "Financials",
           "Wells Fargo"
          ],
          [
           "Industrials",
           "Waste Management"
          ],
          [
           "Energy",
           "Williams Companies"
          ],
          [
           "Consumer Staples",
           "Walmart"
          ],
          [
           "Financials",
           "W. R. Berkley Corporation"
          ],
          [
           "Health Care",
           "West Pharmaceutical Services"
          ],
          [
           "Financials",
           "Willis Towers Watson"
          ],
          [
           "Real Estate",
           "Weyerhaeuser"
          ],
          [
           "Consumer Discretionary",
           "Wynn Resorts"
          ],
          [
           "Utilities",
           "Xcel Energy"
          ],
          [
           "Energy",
           "ExxonMobil"
          ],
          [
           "Industrials",
           "Xylem Inc."
          ],
          [
           "Consumer Discretionary",
           "Yum! Brands"
          ],
          [
           "Health Care",
           "Zimmer Biomet"
          ],
          [
           "Information Technology",
           "Zebra Technologies"
          ],
          [
           "Health Care",
           "Zoetis"
          ]
         ],
         "hovertemplate": "<b>%{hovertext}</b><br><br>Volatility=%{x}<br>Return=%{y}<br>Sector=%{customdata[0]}<br>Security=%{customdata[1]}<br>KMeansCluster=%{marker.color}<extra></extra>",
         "hovertext": [
          "A",
          "AAPL",
          "ABBV",
          "ABNB",
          "ABT",
          "ACGL",
          "ACN",
          "ADBE",
          "ADI",
          "ADM",
          "ADP",
          "ADSK",
          "AEE",
          "AEP",
          "AES",
          "AFL",
          "AIG",
          "AIZ",
          "AJG",
          "AKAM",
          "ALB",
          "ALGN",
          "ALL",
          "ALLE",
          "AMAT",
          "AMCR",
          "AMD",
          "AME",
          "AMGN",
          "AMP",
          "AMT",
          "AMTM",
          "AMZN",
          "ANET",
          "ANSS",
          "AON",
          "AOS",
          "APA",
          "APD",
          "APH",
          "APTV",
          "ARE",
          "ATO",
          "AVB",
          "AVGO",
          "AVY",
          "AWK",
          "AXON",
          "AXP",
          "AZO",
          "BA",
          "BAC",
          "BALL",
          "BAX",
          "BBY",
          "BDX",
          "BEN",
          "BF.B",
          "BG",
          "BIIB",
          "BK",
          "BKNG",
          "BKR",
          "BLDR",
          "BLK",
          "BMY",
          "BR",
          "BRK.B",
          "BRO",
          "BSX",
          "BWA",
          "BX",
          "BXP",
          "C",
          "CAG",
          "CAH",
          "CARR",
          "CAT",
          "CB",
          "CBOE",
          "CBRE",
          "CCI",
          "CCL",
          "CDNS",
          "CDW",
          "CE",
          "CEG",
          "CF",
          "CFG",
          "CHD",
          "CHRW",
          "CHTR",
          "CI",
          "CINF",
          "CL",
          "CLX",
          "CMCSA",
          "CME",
          "CMG",
          "CMI",
          "CMS",
          "CNC",
          "CNP",
          "COF",
          "COO",
          "COP",
          "COR",
          "COST",
          "CPAY",
          "CPB",
          "CPRT",
          "CPT",
          "CRL",
          "CRM",
          "CRWD",
          "CSCO",
          "CSGP",
          "CSX",
          "CTAS",
          "CTLT",
          "CTRA",
          "CTSH",
          "CTVA",
          "CVS",
          "CVX",
          "CZR",
          "D",
          "DAL",
          "DAY",
          "DD",
          "DE",
          "DECK",
          "DELL",
          "DFS",
          "DG",
          "DGX",
          "DHI",
          "DHR",
          "DIS",
          "DLR",
          "DLTR",
          "DOC",
          "DOV",
          "DOW",
          "DPZ",
          "DRI",
          "DTE",
          "DUK",
          "DVA",
          "DVN",
          "DXCM",
          "EA",
          "EBAY",
          "ECL",
          "ED",
          "EFX",
          "EG",
          "EIX",
          "EL",
          "ELV",
          "EMN",
          "EMR",
          "ENPH",
          "EOG",
          "EPAM",
          "EQIX",
          "EQR",
          "EQT",
          "ERIE",
          "ES",
          "ESS",
          "ETN",
          "ETR",
          "EVRG",
          "EW",
          "EXC",
          "EXPD",
          "EXPE",
          "EXR",
          "F",
          "FANG",
          "FAST",
          "FCX",
          "FDS",
          "FDX",
          "FE",
          "FFIV",
          "FI",
          "FICO",
          "FIS",
          "FITB",
          "FMC",
          "FOX",
          "FOXA",
          "FRT",
          "FSLR",
          "FTNT",
          "FTV",
          "GD",
          "GDDY",
          "GE",
          "GEHC",
          "GEN",
          "GEV",
          "GILD",
          "GIS",
          "GL",
          "GLW",
          "GM",
          "GNRC",
          "GOOG",
          "GOOGL",
          "GPC",
          "GPN",
          "GRMN",
          "GS",
          "GWW",
          "HAL",
          "HAS",
          "HBAN",
          "HCA",
          "HD",
          "HES",
          "HIG",
          "HII",
          "HLT",
          "HOLX",
          "HON",
          "HPE",
          "HPQ",
          "HRL",
          "HSIC",
          "HST",
          "HSY",
          "HUBB",
          "HUM",
          "HWM",
          "IBM",
          "ICE",
          "IDXX",
          "IEX",
          "IFF",
          "INCY",
          "INTC",
          "INTU",
          "INVH",
          "IP",
          "IPG",
          "IQV",
          "IR",
          "IRM",
          "ISRG",
          "IT",
          "ITW",
          "IVZ",
          "J",
          "JBHT",
          "JBL",
          "JCI",
          "JKHY",
          "JNJ",
          "JNPR",
          "JPM",
          "K",
          "KDP",
          "KEY",
          "KEYS",
          "KHC",
          "KIM",
          "KKR",
          "KLAC",
          "KMB",
          "KMI",
          "KMX",
          "KO",
          "KR",
          "KVUE",
          "L",
          "LDOS",
          "LEN",
          "LH",
          "LHX",
          "LIN",
          "LKQ",
          "LLY",
          "LMT",
          "LNT",
          "LOW",
          "LRCX",
          "LULU",
          "LUV",
          "LVS",
          "LW",
          "LYB",
          "LYV",
          "MA",
          "MAA",
          "MAR",
          "MAS",
          "MCD",
          "MCHP",
          "MCK",
          "MCO",
          "MDLZ",
          "MDT",
          "MET",
          "META",
          "MGM",
          "MHK",
          "MKC",
          "MKTX",
          "MLM",
          "MMC",
          "MMM",
          "MNST",
          "MO",
          "MOH",
          "MOS",
          "MPC",
          "MPWR",
          "MRK",
          "MRNA",
          "MRO",
          "MS",
          "MSCI",
          "MSFT",
          "MSI",
          "MTB",
          "MTCH",
          "MTD",
          "MU",
          "NCLH",
          "NDAQ",
          "NDSN",
          "NEE",
          "NEM",
          "NFLX",
          "NI",
          "NKE",
          "NOC",
          "NOW",
          "NRG",
          "NSC",
          "NTAP",
          "NTRS",
          "NUE",
          "NVDA",
          "NVR",
          "NWS",
          "NWSA",
          "NXPI",
          "O",
          "ODFL",
          "OKE",
          "OMC",
          "ON",
          "ORCL",
          "ORLY",
          "OTIS",
          "OXY",
          "PANW",
          "PARA",
          "PAYC",
          "PAYX",
          "PCAR",
          "PCG",
          "PEG",
          "PEP",
          "PFE",
          "PFG",
          "PG",
          "PGR",
          "PH",
          "PHM",
          "PKG",
          "PLD",
          "PLTR",
          "PM",
          "PNC",
          "PNR",
          "PNW",
          "PODD",
          "POOL",
          "PPG",
          "PPL",
          "PRU",
          "PSA",
          "PSX",
          "PTC",
          "PWR",
          "PYPL",
          "QCOM",
          "QRVO",
          "RCL",
          "REG",
          "REGN",
          "RF",
          "RJF",
          "RL",
          "RMD",
          "ROK",
          "ROL",
          "ROP",
          "ROST",
          "RSG",
          "RTX",
          "RVTY",
          "SBAC",
          "SBUX",
          "SCHW",
          "SHW",
          "SJM",
          "SLB",
          "SMCI",
          "SNA",
          "SNPS",
          "SO",
          "SOLV",
          "SPG",
          "SPGI",
          "SRE",
          "STE",
          "STLD",
          "STT",
          "STX",
          "STZ",
          "SW",
          "SWK",
          "SWKS",
          "SYF",
          "SYK",
          "SYY",
          "T",
          "TAP",
          "TDG",
          "TDY",
          "TECH",
          "TEL",
          "TER",
          "TFC",
          "TFX",
          "TGT",
          "TJX",
          "TMO",
          "TMUS",
          "TPR",
          "TRGP",
          "TRMB",
          "TROW",
          "TRV",
          "TSCO",
          "TSLA",
          "TSN",
          "TT",
          "TTWO",
          "TXN",
          "TXT",
          "TYL",
          "UAL",
          "UBER",
          "UDR",
          "UHS",
          "ULTA",
          "UNH",
          "UNP",
          "UPS",
          "URI",
          "USB",
          "V",
          "VICI",
          "VLO",
          "VLTO",
          "VMC",
          "VRSK",
          "VRSN",
          "VRTX",
          "VST",
          "VTR",
          "VTRS",
          "VZ",
          "WAB",
          "WAT",
          "WBA",
          "WBD",
          "WDC",
          "WEC",
          "WELL",
          "WFC",
          "WM",
          "WMB",
          "WMT",
          "WRB",
          "WST",
          "WTW",
          "WY",
          "WYNN",
          "XEL",
          "XOM",
          "XYL",
          "YUM",
          "ZBH",
          "ZBRA",
          "ZTS"
         ],
         "legendgroup": "",
         "marker": {
          "color": [
           4,
           0,
           0,
           2,
           4,
           0,
           2,
           2,
           0,
           4,
           4,
           4,
           0,
           0,
           2,
           6,
           4,
           4,
           0,
           2,
           1,
           1,
           0,
           4,
           2,
           4,
           1,
           4,
           4,
           0,
           0,
           2,
           0,
           6,
           2,
           0,
           2,
           1,
           6,
           0,
           1,
           2,
           0,
           0,
           6,
           2,
           0,
           3,
           0,
           4,
           1,
           0,
           2,
           2,
           0,
           2,
           1,
           1,
           2,
           1,
           6,
           6,
           0,
           2,
           0,
           4,
           4,
           4,
           0,
           0,
           4,
           6,
           0,
           0,
           4,
           4,
           6,
           0,
           4,
           4,
           6,
           4,
           6,
           2,
           1,
           2,
           3,
           4,
           6,
           4,
           6,
           0,
           2,
           0,
           4,
           4,
           4,
           4,
           4,
           0,
           0,
           1,
           4,
           0,
           4,
           2,
           4,
           0,
           0,
           4,
           4,
           0,
           1,
           2,
           2,
           4,
           2,
           2,
           6,
           4,
           2,
           2,
           4,
           1,
           4,
           2,
           0,
           6,
           4,
           0,
           4,
           4,
           3,
           0,
           5,
           0,
           0,
           2,
           2,
           6,
           5,
           6,
           0,
           2,
           2,
           2,
           0,
           0,
           0,
           2,
           5,
           4,
           6,
           4,
           0,
           4,
           2,
           0,
           5,
           1,
           0,
           4,
           1,
           4,
           1,
           4,
           0,
           2,
           0,
           4,
           0,
           0,
           6,
           0,
           1,
           4,
           4,
           0,
           0,
           2,
           4,
           4,
           0,
           2,
           0,
           4,
           0,
           6,
           3,
           6,
           6,
           0,
           6,
           6,
           0,
           3,
           0,
           2,
           4,
           6,
           6,
           2,
           6,
           3,
           0,
           4,
           1,
           6,
           6,
           3,
           0,
           0,
           1,
           1,
           6,
           6,
           0,
           1,
           6,
           0,
           0,
           4,
           2,
           0,
           1,
           0,
           4,
           4,
           6,
           0,
           4,
           2,
           2,
           2,
           0,
           1,
           3,
           4,
           4,
           1,
           2,
           0,
           0,
           5,
           2,
           2,
           3,
           2,
           2,
           4,
           3,
           6,
           4,
           4,
           0,
           0,
           2,
           2,
           6,
           4,
           4,
           4,
           0,
           6,
           4,
           0,
           4,
           2,
           0,
           6,
           2,
           4,
           6,
           2,
           4,
           0,
           0,
           4,
           6,
           4,
           4,
           0,
           4,
           1,
           4,
           0,
           0,
           0,
           1,
           1,
           2,
           2,
           1,
           2,
           0,
           4,
           0,
           4,
           4,
           4,
           2,
           4,
           0,
           2,
           4,
           0,
           0,
           2,
           0,
           0,
           6,
           4,
           4,
           3,
           2,
           6,
           1,
           2,
           2,
           4,
           1,
           5,
           0,
           6,
           4,
           4,
           6,
           6,
           2,
           0,
           0,
           3,
           6,
           2,
           6,
           6,
           6,
           6,
           1,
           4,
           0,
           3,
           2,
           6,
           0,
           1,
           3,
           0,
           4,
           4,
           2,
           4,
           2,
           6,
           0,
           2,
           6,
           4,
           4,
           2,
           6,
           2,
           0,
           4,
           2,
           0,
           6,
           4,
           4,
           4,
           4,
           0,
           0,
           0,
           6,
           2,
           3,
           6,
           6,
           6,
           0,
           0,
           2,
           2,
           0,
           0,
           0,
           2,
           4,
           6,
           6,
           4,
           1,
           3,
           0,
           2,
           6,
           0,
           4,
           6,
           2,
           4,
           2,
           2,
           4,
           6,
           0,
           4,
           4,
           4,
           4,
           2,
           2,
           5,
           0,
           2,
           6,
           4,
           4,
           4,
           0,
           2,
           4,
           0,
           0,
           2,
           4,
           4,
           2,
           6,
           4,
           2,
           6,
           2,
           4,
           4,
           4,
           4,
           4,
           0,
           2,
           2,
           0,
           4,
           6,
           2,
           3,
           4,
           4,
           4,
           4,
           6,
           4,
           6,
           4,
           0,
           2,
           6,
           3,
           2,
           0,
           0,
           1,
           4,
           2,
           2,
           0,
           0,
           4,
           4,
           2,
           0,
           4,
           4,
           2,
           4,
           3,
           6,
           2,
           4,
           6,
           0,
           5,
           2,
           0,
           0,
           6,
           0,
           4,
           6,
           6,
           4,
           2,
           4,
           2,
           2,
           0,
           0,
           2,
           2,
           2,
           6,
           2
          ],
          "coloraxis": "coloraxis",
          "symbol": "circle"
         },
         "mode": "markers",
         "name": "",
         "orientation": "v",
         "showlegend": false,
         "type": "scatter",
         "x": [
          0.268,
          0.243,
          0.212,
          0.321,
          0.192,
          0.227,
          0.253,
          0.356,
          0.338,
          0.217,
          0.152,
          0.267,
          0.164,
          0.174,
          0.373,
          0.181,
          0.214,
          0.186,
          0.171,
          0.262,
          0.604,
          0.364,
          0.215,
          0.205,
          0.435,
          0.233,
          0.489,
          0.232,
          0.245,
          0.191,
          0.243,
          0.423,
          0.274,
          0.412,
          0.203,
          0.199,
          0.256,
          0.346,
          0.247,
          0.284,
          0.421,
          0.251,
          0.14,
          0.172,
          0.498,
          0.184,
          0.195,
          0.35,
          0.232,
          0.202,
          0.329,
          0.219,
          0.226,
          0.272,
          0.332,
          0.174,
          0.297,
          0.244,
          0.251,
          0.258,
          0.177,
          0.246,
          0.255,
          0.47,
          0.183,
          0.285,
          0.185,
          0.137,
          0.167,
          0.169,
          0.293,
          0.284,
          0.298,
          0.267,
          0.219,
          0.213,
          0.299,
          0.252,
          0.187,
          0.212,
          0.251,
          0.221,
          0.432,
          0.357,
          0.294,
          0.28,
          0.547,
          0.279,
          0.268,
          0.171,
          0.311,
          0.374,
          0.202,
          0.213,
          0.145,
          0.207,
          0.211,
          0.158,
          0.308,
          0.234,
          0.157,
          0.32,
          0.204,
          0.271,
          0.255,
          0.223,
          0.173,
          0.201,
          0.238,
          0.201,
          0.2,
          0.202,
          0.328,
          0.383,
          0.482,
          0.188,
          0.283,
          0.204,
          0.179,
          0.088,
          0.208,
          0.194,
          0.219,
          0.351,
          0.19,
          0.453,
          0.226,
          0.311,
          0.369,
          0.205,
          0.215,
          0.39,
          0.635,
          0.288,
          0.557,
          0.206,
          0.335,
          0.224,
          0.231,
          0.249,
          0.465,
          0.22,
          0.206,
          0.19,
          0.304,
          0.234,
          0.18,
          0.159,
          0.292,
          0.249,
          0.732,
          0.182,
          0.25,
          0.177,
          0.164,
          0.282,
          0.252,
          0.169,
          0.464,
          0.255,
          0.221,
          0.23,
          0.596,
          0.208,
          0.472,
          0.252,
          0.19,
          0.294,
          0.283,
          0.205,
          0.2,
          0.289,
          0.241,
          0.156,
          0.517,
          0.17,
          0.19,
          0.357,
          0.254,
          0.394,
          0.271,
          0.228,
          0.363,
          0.221,
          0.334,
          0.141,
          0.284,
          0.17,
          0.3,
          0.204,
          0.234,
          0.414,
          0.175,
          0.179,
          0.178,
          0.541,
          0.372,
          0.22,
          0.157,
          0.23,
          0.329,
          0.283,
          0.29,
          0.435,
          0.213,
          0.179,
          0.999,
          0.278,
          0.307,
          0.351,
          0.265,
          0.266,
          0.373,
          0.302,
          0.355,
          0.231,
          0.203,
          0.269,
          0.286,
          0.247,
          0.254,
          0.203,
          0.233,
          0.212,
          0.432,
          0.189,
          0.161,
          0.169,
          0.375,
          0.317,
          0.284,
          0.246,
          0.226,
          0.195,
          0.305,
          0.393,
          0.336,
          0.218,
          0.158,
          0.268,
          0.206,
          0.226,
          0.28,
          0.569,
          0.274,
          0.208,
          0.333,
          0.204,
          0.271,
          0.274,
          0.235,
          0.264,
          0.228,
          0.156,
          0.282,
          0.192,
          0.263,
          0.417,
          0.225,
          0.178,
          0.159,
          0.082,
          0.221,
          0.271,
          0.166,
          0.308,
          0.307,
          0.188,
          0.213,
          0.315,
          0.475,
          0.185,
          0.169,
          0.327,
          0.125,
          0.226,
          0.269,
          0.161,
          0.202,
          0.311,
          0.227,
          0.184,
          0.143,
          0.325,
          0.299,
          0.163,
          0.165,
          0.217,
          0.454,
          0.384,
          0.394,
          0.297,
          0.555,
          0.187,
          0.267,
          0.156,
          0.196,
          0.201,
          0.242,
          0.188,
          0.388,
          0.257,
          0.184,
          0.168,
          0.182,
          0.204,
          0.32,
          0.364,
          0.419,
          0.218,
          0.302,
          0.24,
          0.131,
          0.329,
          0.242,
          0.194,
          0.407,
          0.311,
          0.3,
          0.541,
          0.22,
          0.589,
          0.253,
          0.242,
          0.28,
          0.204,
          0.155,
          0.241,
          0.325,
          0.329,
          0.521,
          0.531,
          0.193,
          0.217,
          0.258,
          0.378,
          0.288,
          0.148,
          0.372,
          0.164,
          0.364,
          0.372,
          0.252,
          0.324,
          0.237,
          0.284,
          0.547,
          0.225,
          0.204,
          0.202,
          0.377,
          0.164,
          0.334,
          0.187,
          0.204,
          0.485,
          0.329,
          0.183,
          0.198,
          0.215,
          0.325,
          0.54,
          0.398,
          0.186,
          0.266,
          0.182,
          0.172,
          0.161,
          0.227,
          0.216,
          0.144,
          0.201,
          0.251,
          0.316,
          0.189,
          0.251,
          0.498,
          0.198,
          0.228,
          0.264,
          0.17,
          0.382,
          0.304,
          0.183,
          0.153,
          0.226,
          0.225,
          0.262,
          0.214,
          0.319,
          0.302,
          0.414,
          0.548,
          0.334,
          0.176,
          0.223,
          0.233,
          0.228,
          0.284,
          0.396,
          0.264,
          0.218,
          0.178,
          0.216,
          0.149,
          0.168,
          0.266,
          0.272,
          0.411,
          0.262,
          0.213,
          0.219,
          0.253,
          0.998,
          0.23,
          0.347,
          0.164,
          0.31,
          0.213,
          0.154,
          0.171,
          0.21,
          0.286,
          0.211,
          0.323,
          0.194,
          0.274,
          0.331,
          0.403,
          0.309,
          0.181,
          0.188,
          0.194,
          0.242,
          0.229,
          0.23,
          0.37,
          0.199,
          0.482,
          0.246,
          0.31,
          0.316,
          0.178,
          0.193,
          0.167,
          0.319,
          0.209,
          0.234,
          0.22,
          0.248,
          0.25,
          0.62,
          0.202,
          0.231,
          0.216,
          0.281,
          0.234,
          0.236,
          0.436,
          0.381,
          0.182,
          0.305,
          0.352,
          0.255,
          0.18,
          0.273,
          0.333,
          0.237,
          0.172,
          0.186,
          0.303,
          0.185,
          0.235,
          0.198,
          0.175,
          0.192,
          0.598,
          0.2,
          0.261,
          0.21,
          0.214,
          0.331,
          0.539,
          0.462,
          0.393,
          0.165,
          0.171,
          0.257,
          0.188,
          0.18,
          0.178,
          0.218,
          0.379,
          0.158,
          0.223,
          0.289,
          0.24,
          0.191,
          0.215,
          0.162,
          0.223,
          0.27,
          0.248
         ],
         "xaxis": "x",
         "y": [
          0.063,
          0.298,
          0.186,
          -0.18,
          -0.01,
          0.171,
          -0.119,
          -0.202,
          0.241,
          0.054,
          0.165,
          0.145,
          0.278,
          0.253,
          -0.055,
          0.392,
          0.096,
          0.112,
          0.202,
          -0.094,
          -0.304,
          -0.615,
          0.22,
          0.12,
          -0.105,
          0.15,
          -0.309,
          0.036,
          0.135,
          0.33,
          0.177,
          0.028,
          0.18,
          0.545,
          -0.087,
          0.218,
          -0.108,
          -0.333,
          0.413,
          0.335,
          -0.431,
          -0.121,
          0.298,
          0.325,
          0.381,
          -0.049,
          0.214,
          0.654,
          0.342,
          0.123,
          -0.392,
          0.311,
          -0.061,
          -0.235,
          0.245,
          -0.066,
          -0.369,
          -0.373,
          -0.159,
          -0.351,
          0.443,
          0.423,
          0.337,
          -0.124,
          0.276,
          0.083,
          0.072,
          0.117,
          0.31,
          0.329,
          0.146,
          0.429,
          0.31,
          0.202,
          0.034,
          0.097,
          0.43,
          0.225,
          0.144,
          0.056,
          0.544,
          -0.009,
          0.519,
          -0.135,
          -0.383,
          -0.242,
          0.967,
          0.058,
          0.445,
          0.077,
          0.482,
          0.32,
          -0.158,
          0.323,
          0.127,
          0.088,
          0.075,
          0.04,
          0.117,
          0.32,
          0.26,
          -0.358,
          0.074,
          0.271,
          0.12,
          -0.032,
          -0.007,
          0.236,
          0.23,
          0.126,
          0,
          0.248,
          -0.439,
          -0.001,
          -0.056,
          0.171,
          -0.212,
          -0.181,
          0.372,
          -0.003,
          -0.139,
          -0.121,
          0.157,
          -0.449,
          0.001,
          -0.035,
          0.342,
          0.478,
          0.023,
          0.245,
          0.149,
          0.115,
          0.509,
          0.29,
          -0.801,
          0.296,
          0.225,
          -0.028,
          -0.172,
          0.371,
          -1.155,
          0.446,
          0.213,
          -0.19,
          -0.039,
          -0.081,
          0.191,
          0.304,
          0.167,
          -0.169,
          -0.723,
          0.066,
          0.39,
          0.144,
          0.203,
          0.009,
          -0.07,
          0.269,
          -1.129,
          -0.311,
          0.243,
          0.037,
          -0.46,
          0.131,
          -0.664,
          0.05,
          0.217,
          -0.012,
          0.294,
          0.161,
          0.293,
          0.222,
          0.55,
          0.259,
          -0.371,
          0.119,
          -0.011,
          0.212,
          0.226,
          -0.225,
          0.015,
          0.112,
          0.237,
          -0.034,
          0.181,
          0.16,
          0.325,
          0.398,
          0.634,
          0.464,
          0.381,
          0.275,
          0.485,
          0.465,
          0.186,
          0.507,
          0.208,
          -0.259,
          0.101,
          0.518,
          0.504,
          -0.024,
          0.375,
          1.095,
          0.27,
          0.057,
          -0.264,
          0.547,
          0.378,
          0.597,
          0.247,
          0.247,
          -0.368,
          -0.358,
          0.543,
          0.414,
          0.206,
          -0.33,
          0.388,
          0.285,
          0.18,
          0.091,
          -0.088,
          0.203,
          -0.604,
          0.21,
          0.108,
          0.045,
          0.403,
          0.308,
          0.006,
          -0.167,
          -0.227,
          -0.125,
          0.212,
          -0.461,
          0.606,
          0.163,
          0.167,
          -0.451,
          -0.129,
          0.301,
          0.301,
          -0.915,
          -0.104,
          -0.08,
          0.661,
          -0.123,
          -0.252,
          0.083,
          0.722,
          0.374,
          0.131,
          0.011,
          0.196,
          0.201,
          -0.228,
          -0.137,
          0.371,
          0.052,
          -0.013,
          0.065,
          0.283,
          0.511,
          0.12,
          0.285,
          0.017,
          -0.108,
          0.292,
          0.526,
          -0.002,
          0.151,
          0.508,
          -0.002,
          0.092,
          0.221,
          0.252,
          0.08,
          0.543,
          0.148,
          0.067,
          0.217,
          0.031,
          -0.491,
          0.095,
          0.341,
          0.274,
          0.182,
          -0.314,
          -0.588,
          -0.139,
          -0.065,
          -0.396,
          -0.182,
          0.308,
          0.092,
          0.262,
          0.053,
          0.105,
          -0.012,
          -0.154,
          0.016,
          0.242,
          -0.115,
          0.072,
          0.186,
          0.227,
          -0.199,
          0.234,
          0.2,
          0.427,
          0.099,
          0.108,
          0.717,
          -0.067,
          0.399,
          -0.336,
          -0.212,
          -0.217,
          0.115,
          -0.346,
          -0.818,
          0.211,
          0.436,
          0.005,
          0.002,
          0.455,
          0.498,
          -0.035,
          0.181,
          0.214,
          0.619,
          0.393,
          -0.134,
          0.467,
          0.537,
          0.369,
          0.425,
          -0.444,
          0.142,
          0.281,
          0.782,
          -0.03,
          0.414,
          0.312,
          -0.409,
          0.783,
          0.297,
          0.067,
          0.034,
          -0.01,
          0.168,
          -0.129,
          0.395,
          0.197,
          -0.08,
          0.6,
          0.124,
          0.088,
          -0.251,
          0.347,
          -0.043,
          0.156,
          0.158,
          -0.089,
          0.251,
          0.548,
          -0.035,
          0.034,
          0.045,
          0.044,
          0.347,
          0.259,
          0.307,
          0.391,
          -0.212,
          0.866,
          0.524,
          0.376,
          0.371,
          0.313,
          0.336,
          -0.076,
          -0.207,
          0.292,
          0.19,
          0.205,
          -0.268,
          0.029,
          0.389,
          0.376,
          0.093,
          -0.633,
          0.742,
          0.249,
          -0.219,
          0.387,
          0.319,
          0.057,
          0.397,
          -0.072,
          0.148,
          -0.05,
          -0.087,
          0.103,
          0.417,
          0.208,
          0.114,
          0.047,
          0.138,
          0.168,
          -0.151,
          -0.279,
          -1.63,
          0.283,
          -0.16,
          0.407,
          0.093,
          0.17,
          0.142,
          0.214,
          -0.068,
          0.053,
          0.338,
          0.186,
          -0.086,
          0.146,
          0.074,
          -0.227,
          0.454,
          0.032,
          -0.101,
          0.413,
          -0.189,
          0.124,
          0.089,
          0.068,
          0.055,
          0.096,
          0.299,
          -0.217,
          -0.01,
          0.187,
          -0.015,
          0.439,
          -0.044,
          0.786,
          0.001,
          0.006,
          0.154,
          0.151,
          0.382,
          0.123,
          0.402,
          0.094,
          0.323,
          -0.081,
          0.468,
          0.803,
          -0.096,
          0.226,
          0.318,
          -0.564,
          0.107,
          -0.132,
          -0.138,
          0.307,
          0.234,
          0.025,
          0.094,
          -0.128,
          0.239,
          0.084,
          0.15,
          -0.148,
          0.133,
          1.345,
          0.557,
          -0.213,
          0.038,
          0.44,
          0.181,
          -1.201,
          -0.083,
          0.249,
          0.281,
          0.531,
          0.273,
          0.055,
          0.587,
          0.48,
          0.018,
          -0.241,
          0.117,
          -0.085,
          -0.113,
          0.184,
          0.178,
          -0.048,
          -0.061,
          -0.255,
          0.48,
          -0.128
         ],
         "yaxis": "y"
        }
       ],
       "layout": {
        "coloraxis": {
         "colorbar": {
          "title": {
           "text": "KMeansCluster"
          }
         },
         "colorscale": [
          [
           0,
           "#0d0887"
          ],
          [
           0.1111111111111111,
           "#46039f"
          ],
          [
           0.2222222222222222,
           "#7201a8"
          ],
          [
           0.3333333333333333,
           "#9c179e"
          ],
          [
           0.4444444444444444,
           "#bd3786"
          ],
          [
           0.5555555555555556,
           "#d8576b"
          ],
          [
           0.6666666666666666,
           "#ed7953"
          ],
          [
           0.7777777777777778,
           "#fb9f3a"
          ],
          [
           0.8888888888888888,
           "#fdca26"
          ],
          [
           1,
           "#f0f921"
          ]
         ]
        },
        "height": 500,
        "legend": {
         "tracegroupgap": 0
        },
        "template": {
         "data": {
          "bar": [
           {
            "error_x": {
             "color": "#f2f5fa"
            },
            "error_y": {
             "color": "#f2f5fa"
            },
            "marker": {
             "line": {
              "color": "rgb(17,17,17)",
              "width": 0.5
             },
             "pattern": {
              "fillmode": "overlay",
              "size": 10,
              "solidity": 0.2
             }
            },
            "type": "bar"
           }
          ],
          "barpolar": [
           {
            "marker": {
             "line": {
              "color": "rgb(17,17,17)",
              "width": 0.5
             },
             "pattern": {
              "fillmode": "overlay",
              "size": 10,
              "solidity": 0.2
             }
            },
            "type": "barpolar"
           }
          ],
          "carpet": [
           {
            "aaxis": {
             "endlinecolor": "#A2B1C6",
             "gridcolor": "#506784",
             "linecolor": "#506784",
             "minorgridcolor": "#506784",
             "startlinecolor": "#A2B1C6"
            },
            "baxis": {
             "endlinecolor": "#A2B1C6",
             "gridcolor": "#506784",
             "linecolor": "#506784",
             "minorgridcolor": "#506784",
             "startlinecolor": "#A2B1C6"
            },
            "type": "carpet"
           }
          ],
          "choropleth": [
           {
            "colorbar": {
             "outlinewidth": 0,
             "ticks": ""
            },
            "type": "choropleth"
           }
          ],
          "contour": [
           {
            "colorbar": {
             "outlinewidth": 0,
             "ticks": ""
            },
            "colorscale": [
             [
              0,
              "#0d0887"
             ],
             [
              0.1111111111111111,
              "#46039f"
             ],
             [
              0.2222222222222222,
              "#7201a8"
             ],
             [
              0.3333333333333333,
              "#9c179e"
             ],
             [
              0.4444444444444444,
              "#bd3786"
             ],
             [
              0.5555555555555556,
              "#d8576b"
             ],
             [
              0.6666666666666666,
              "#ed7953"
             ],
             [
              0.7777777777777778,
              "#fb9f3a"
             ],
             [
              0.8888888888888888,
              "#fdca26"
             ],
             [
              1,
              "#f0f921"
             ]
            ],
            "type": "contour"
           }
          ],
          "contourcarpet": [
           {
            "colorbar": {
             "outlinewidth": 0,
             "ticks": ""
            },
            "type": "contourcarpet"
           }
          ],
          "heatmap": [
           {
            "colorbar": {
             "outlinewidth": 0,
             "ticks": ""
            },
            "colorscale": [
             [
              0,
              "#0d0887"
             ],
             [
              0.1111111111111111,
              "#46039f"
             ],
             [
              0.2222222222222222,
              "#7201a8"
             ],
             [
              0.3333333333333333,
              "#9c179e"
             ],
             [
              0.4444444444444444,
              "#bd3786"
             ],
             [
              0.5555555555555556,
              "#d8576b"
             ],
             [
              0.6666666666666666,
              "#ed7953"
             ],
             [
              0.7777777777777778,
              "#fb9f3a"
             ],
             [
              0.8888888888888888,
              "#fdca26"
             ],
             [
              1,
              "#f0f921"
             ]
            ],
            "type": "heatmap"
           }
          ],
          "heatmapgl": [
           {
            "colorbar": {
             "outlinewidth": 0,
             "ticks": ""
            },
            "colorscale": [
             [
              0,
              "#0d0887"
             ],
             [
              0.1111111111111111,
              "#46039f"
             ],
             [
              0.2222222222222222,
              "#7201a8"
             ],
             [
              0.3333333333333333,
              "#9c179e"
             ],
             [
              0.4444444444444444,
              "#bd3786"
             ],
             [
              0.5555555555555556,
              "#d8576b"
             ],
             [
              0.6666666666666666,
              "#ed7953"
             ],
             [
              0.7777777777777778,
              "#fb9f3a"
             ],
             [
              0.8888888888888888,
              "#fdca26"
             ],
             [
              1,
              "#f0f921"
             ]
            ],
            "type": "heatmapgl"
           }
          ],
          "histogram": [
           {
            "marker": {
             "pattern": {
              "fillmode": "overlay",
              "size": 10,
              "solidity": 0.2
             }
            },
            "type": "histogram"
           }
          ],
          "histogram2d": [
           {
            "colorbar": {
             "outlinewidth": 0,
             "ticks": ""
            },
            "colorscale": [
             [
              0,
              "#0d0887"
             ],
             [
              0.1111111111111111,
              "#46039f"
             ],
             [
              0.2222222222222222,
              "#7201a8"
             ],
             [
              0.3333333333333333,
              "#9c179e"
             ],
             [
              0.4444444444444444,
              "#bd3786"
             ],
             [
              0.5555555555555556,
              "#d8576b"
             ],
             [
              0.6666666666666666,
              "#ed7953"
             ],
             [
              0.7777777777777778,
              "#fb9f3a"
             ],
             [
              0.8888888888888888,
              "#fdca26"
             ],
             [
              1,
              "#f0f921"
             ]
            ],
            "type": "histogram2d"
           }
          ],
          "histogram2dcontour": [
           {
            "colorbar": {
             "outlinewidth": 0,
             "ticks": ""
            },
            "colorscale": [
             [
              0,
              "#0d0887"
             ],
             [
              0.1111111111111111,
              "#46039f"
             ],
             [
              0.2222222222222222,
              "#7201a8"
             ],
             [
              0.3333333333333333,
              "#9c179e"
             ],
             [
              0.4444444444444444,
              "#bd3786"
             ],
             [
              0.5555555555555556,
              "#d8576b"
             ],
             [
              0.6666666666666666,
              "#ed7953"
             ],
             [
              0.7777777777777778,
              "#fb9f3a"
             ],
             [
              0.8888888888888888,
              "#fdca26"
             ],
             [
              1,
              "#f0f921"
             ]
            ],
            "type": "histogram2dcontour"
           }
          ],
          "mesh3d": [
           {
            "colorbar": {
             "outlinewidth": 0,
             "ticks": ""
            },
            "type": "mesh3d"
           }
          ],
          "parcoords": [
           {
            "line": {
             "colorbar": {
              "outlinewidth": 0,
              "ticks": ""
             }
            },
            "type": "parcoords"
           }
          ],
          "pie": [
           {
            "automargin": true,
            "type": "pie"
           }
          ],
          "scatter": [
           {
            "marker": {
             "line": {
              "color": "#283442"
             }
            },
            "type": "scatter"
           }
          ],
          "scatter3d": [
           {
            "line": {
             "colorbar": {
              "outlinewidth": 0,
              "ticks": ""
             }
            },
            "marker": {
             "colorbar": {
              "outlinewidth": 0,
              "ticks": ""
             }
            },
            "type": "scatter3d"
           }
          ],
          "scattercarpet": [
           {
            "marker": {
             "colorbar": {
              "outlinewidth": 0,
              "ticks": ""
             }
            },
            "type": "scattercarpet"
           }
          ],
          "scattergeo": [
           {
            "marker": {
             "colorbar": {
              "outlinewidth": 0,
              "ticks": ""
             }
            },
            "type": "scattergeo"
           }
          ],
          "scattergl": [
           {
            "marker": {
             "line": {
              "color": "#283442"
             }
            },
            "type": "scattergl"
           }
          ],
          "scattermapbox": [
           {
            "marker": {
             "colorbar": {
              "outlinewidth": 0,
              "ticks": ""
             }
            },
            "type": "scattermapbox"
           }
          ],
          "scatterpolar": [
           {
            "marker": {
             "colorbar": {
              "outlinewidth": 0,
              "ticks": ""
             }
            },
            "type": "scatterpolar"
           }
          ],
          "scatterpolargl": [
           {
            "marker": {
             "colorbar": {
              "outlinewidth": 0,
              "ticks": ""
             }
            },
            "type": "scatterpolargl"
           }
          ],
          "scatterternary": [
           {
            "marker": {
             "colorbar": {
              "outlinewidth": 0,
              "ticks": ""
             }
            },
            "type": "scatterternary"
           }
          ],
          "surface": [
           {
            "colorbar": {
             "outlinewidth": 0,
             "ticks": ""
            },
            "colorscale": [
             [
              0,
              "#0d0887"
             ],
             [
              0.1111111111111111,
              "#46039f"
             ],
             [
              0.2222222222222222,
              "#7201a8"
             ],
             [
              0.3333333333333333,
              "#9c179e"
             ],
             [
              0.4444444444444444,
              "#bd3786"
             ],
             [
              0.5555555555555556,
              "#d8576b"
             ],
             [
              0.6666666666666666,
              "#ed7953"
             ],
             [
              0.7777777777777778,
              "#fb9f3a"
             ],
             [
              0.8888888888888888,
              "#fdca26"
             ],
             [
              1,
              "#f0f921"
             ]
            ],
            "type": "surface"
           }
          ],
          "table": [
           {
            "cells": {
             "fill": {
              "color": "#506784"
             },
             "line": {
              "color": "rgb(17,17,17)"
             }
            },
            "header": {
             "fill": {
              "color": "#2a3f5f"
             },
             "line": {
              "color": "rgb(17,17,17)"
             }
            },
            "type": "table"
           }
          ]
         },
         "layout": {
          "annotationdefaults": {
           "arrowcolor": "#f2f5fa",
           "arrowhead": 0,
           "arrowwidth": 1
          },
          "autotypenumbers": "strict",
          "coloraxis": {
           "colorbar": {
            "outlinewidth": 0,
            "ticks": ""
           }
          },
          "colorscale": {
           "diverging": [
            [
             0,
             "#8e0152"
            ],
            [
             0.1,
             "#c51b7d"
            ],
            [
             0.2,
             "#de77ae"
            ],
            [
             0.3,
             "#f1b6da"
            ],
            [
             0.4,
             "#fde0ef"
            ],
            [
             0.5,
             "#f7f7f7"
            ],
            [
             0.6,
             "#e6f5d0"
            ],
            [
             0.7,
             "#b8e186"
            ],
            [
             0.8,
             "#7fbc41"
            ],
            [
             0.9,
             "#4d9221"
            ],
            [
             1,
             "#276419"
            ]
           ],
           "sequential": [
            [
             0,
             "#0d0887"
            ],
            [
             0.1111111111111111,
             "#46039f"
            ],
            [
             0.2222222222222222,
             "#7201a8"
            ],
            [
             0.3333333333333333,
             "#9c179e"
            ],
            [
             0.4444444444444444,
             "#bd3786"
            ],
            [
             0.5555555555555556,
             "#d8576b"
            ],
            [
             0.6666666666666666,
             "#ed7953"
            ],
            [
             0.7777777777777778,
             "#fb9f3a"
            ],
            [
             0.8888888888888888,
             "#fdca26"
            ],
            [
             1,
             "#f0f921"
            ]
           ],
           "sequentialminus": [
            [
             0,
             "#0d0887"
            ],
            [
             0.1111111111111111,
             "#46039f"
            ],
            [
             0.2222222222222222,
             "#7201a8"
            ],
            [
             0.3333333333333333,
             "#9c179e"
            ],
            [
             0.4444444444444444,
             "#bd3786"
            ],
            [
             0.5555555555555556,
             "#d8576b"
            ],
            [
             0.6666666666666666,
             "#ed7953"
            ],
            [
             0.7777777777777778,
             "#fb9f3a"
            ],
            [
             0.8888888888888888,
             "#fdca26"
            ],
            [
             1,
             "#f0f921"
            ]
           ]
          },
          "colorway": [
           "#636efa",
           "#EF553B",
           "#00cc96",
           "#ab63fa",
           "#FFA15A",
           "#19d3f3",
           "#FF6692",
           "#B6E880",
           "#FF97FF",
           "#FECB52"
          ],
          "font": {
           "color": "#f2f5fa"
          },
          "geo": {
           "bgcolor": "rgb(17,17,17)",
           "lakecolor": "rgb(17,17,17)",
           "landcolor": "rgb(17,17,17)",
           "showlakes": true,
           "showland": true,
           "subunitcolor": "#506784"
          },
          "hoverlabel": {
           "align": "left"
          },
          "hovermode": "closest",
          "mapbox": {
           "style": "dark"
          },
          "paper_bgcolor": "rgb(17,17,17)",
          "plot_bgcolor": "rgb(17,17,17)",
          "polar": {
           "angularaxis": {
            "gridcolor": "#506784",
            "linecolor": "#506784",
            "ticks": ""
           },
           "bgcolor": "rgb(17,17,17)",
           "radialaxis": {
            "gridcolor": "#506784",
            "linecolor": "#506784",
            "ticks": ""
           }
          },
          "scene": {
           "xaxis": {
            "backgroundcolor": "rgb(17,17,17)",
            "gridcolor": "#506784",
            "gridwidth": 2,
            "linecolor": "#506784",
            "showbackground": true,
            "ticks": "",
            "zerolinecolor": "#C8D4E3"
           },
           "yaxis": {
            "backgroundcolor": "rgb(17,17,17)",
            "gridcolor": "#506784",
            "gridwidth": 2,
            "linecolor": "#506784",
            "showbackground": true,
            "ticks": "",
            "zerolinecolor": "#C8D4E3"
           },
           "zaxis": {
            "backgroundcolor": "rgb(17,17,17)",
            "gridcolor": "#506784",
            "gridwidth": 2,
            "linecolor": "#506784",
            "showbackground": true,
            "ticks": "",
            "zerolinecolor": "#C8D4E3"
           }
          },
          "shapedefaults": {
           "line": {
            "color": "#f2f5fa"
           }
          },
          "sliderdefaults": {
           "bgcolor": "#C8D4E3",
           "bordercolor": "rgb(17,17,17)",
           "borderwidth": 1,
           "tickwidth": 0
          },
          "ternary": {
           "aaxis": {
            "gridcolor": "#506784",
            "linecolor": "#506784",
            "ticks": ""
           },
           "baxis": {
            "gridcolor": "#506784",
            "linecolor": "#506784",
            "ticks": ""
           },
           "bgcolor": "rgb(17,17,17)",
           "caxis": {
            "gridcolor": "#506784",
            "linecolor": "#506784",
            "ticks": ""
           }
          },
          "title": {
           "x": 0.05
          },
          "updatemenudefaults": {
           "bgcolor": "#506784",
           "borderwidth": 0
          },
          "xaxis": {
           "automargin": true,
           "gridcolor": "#283442",
           "linecolor": "#506784",
           "ticks": "",
           "title": {
            "standoff": 15
           },
           "zerolinecolor": "#283442",
           "zerolinewidth": 2
          },
          "yaxis": {
           "automargin": true,
           "gridcolor": "#283442",
           "linecolor": "#506784",
           "ticks": "",
           "title": {
            "standoff": 15
           },
           "zerolinecolor": "#283442",
           "zerolinewidth": 2
          }
         }
        },
        "title": {
         "text": "S&P 500 stocks by Volatility/Return",
         "x": 0.5
        },
        "width": 750,
        "xaxis": {
         "anchor": "y",
         "domain": [
          0,
          1
         ],
         "title": {
          "text": "Volatility"
         }
        },
        "yaxis": {
         "anchor": "x",
         "domain": [
          0,
          1
         ],
         "title": {
          "text": "Return"
         }
        }
       }
      }
     },
     "metadata": {},
     "output_type": "display_data"
    }
   ],
   "source": [
    "px.scatter(stock_data,\n",
    "           x='Volatility',\n",
    "           y='Return',\n",
    "           hover_data=['Sector','Security'],\n",
    "           hover_name='Symbol',\n",
    "           title='S&P 500 stocks by Volatility/Return',\n",
    "           color='KMeansCluster',\n",
    "           width=750,\n",
    "           height=500,\n",
    "           template='plotly_dark'\n",
    "           ).update_layout(title_x=0.5)"
   ]
  },
  {
   "cell_type": "code",
   "execution_count": 16,
   "metadata": {},
   "outputs": [
    {
     "data": {
      "application/vnd.plotly.v1+json": {
       "config": {
        "plotlyServerURL": "https://plot.ly"
       },
       "data": [
        {
         "hovertemplate": "variable=0<br>Number of Clusters=%{x}<br>Sum of Squared Error=%{y}<extra></extra>",
         "legendgroup": "0",
         "line": {
          "color": "#636efa",
          "dash": "solid"
         },
         "marker": {
          "symbol": "circle"
         },
         "mode": "lines",
         "name": "0",
         "orientation": "v",
         "showlegend": true,
         "type": "scatter",
         "x": [
          0,
          1,
          2,
          3,
          4,
          5,
          6,
          7,
          8,
          9,
          10,
          11,
          12,
          13
         ],
         "xaxis": "x",
         "y": [
          0.47816537875946546,
          0.42938945992926736,
          0.42376647551171487,
          0.38971578594795825,
          0.3844927816697933,
          0.37311540372035357,
          0.37290488730362664,
          0.3212967732951973,
          0.36336430343134674,
          0.3358556229835113,
          0.3268052956558223,
          0.3467511145072384,
          0.3373654569311383,
          0.36244611196680904
         ],
         "yaxis": "y"
        }
       ],
       "layout": {
        "height": 500,
        "legend": {
         "title": {
          "text": "variable"
         },
         "tracegroupgap": 0
        },
        "showlegend": false,
        "template": {
         "data": {
          "bar": [
           {
            "error_x": {
             "color": "#f2f5fa"
            },
            "error_y": {
             "color": "#f2f5fa"
            },
            "marker": {
             "line": {
              "color": "rgb(17,17,17)",
              "width": 0.5
             },
             "pattern": {
              "fillmode": "overlay",
              "size": 10,
              "solidity": 0.2
             }
            },
            "type": "bar"
           }
          ],
          "barpolar": [
           {
            "marker": {
             "line": {
              "color": "rgb(17,17,17)",
              "width": 0.5
             },
             "pattern": {
              "fillmode": "overlay",
              "size": 10,
              "solidity": 0.2
             }
            },
            "type": "barpolar"
           }
          ],
          "carpet": [
           {
            "aaxis": {
             "endlinecolor": "#A2B1C6",
             "gridcolor": "#506784",
             "linecolor": "#506784",
             "minorgridcolor": "#506784",
             "startlinecolor": "#A2B1C6"
            },
            "baxis": {
             "endlinecolor": "#A2B1C6",
             "gridcolor": "#506784",
             "linecolor": "#506784",
             "minorgridcolor": "#506784",
             "startlinecolor": "#A2B1C6"
            },
            "type": "carpet"
           }
          ],
          "choropleth": [
           {
            "colorbar": {
             "outlinewidth": 0,
             "ticks": ""
            },
            "type": "choropleth"
           }
          ],
          "contour": [
           {
            "colorbar": {
             "outlinewidth": 0,
             "ticks": ""
            },
            "colorscale": [
             [
              0,
              "#0d0887"
             ],
             [
              0.1111111111111111,
              "#46039f"
             ],
             [
              0.2222222222222222,
              "#7201a8"
             ],
             [
              0.3333333333333333,
              "#9c179e"
             ],
             [
              0.4444444444444444,
              "#bd3786"
             ],
             [
              0.5555555555555556,
              "#d8576b"
             ],
             [
              0.6666666666666666,
              "#ed7953"
             ],
             [
              0.7777777777777778,
              "#fb9f3a"
             ],
             [
              0.8888888888888888,
              "#fdca26"
             ],
             [
              1,
              "#f0f921"
             ]
            ],
            "type": "contour"
           }
          ],
          "contourcarpet": [
           {
            "colorbar": {
             "outlinewidth": 0,
             "ticks": ""
            },
            "type": "contourcarpet"
           }
          ],
          "heatmap": [
           {
            "colorbar": {
             "outlinewidth": 0,
             "ticks": ""
            },
            "colorscale": [
             [
              0,
              "#0d0887"
             ],
             [
              0.1111111111111111,
              "#46039f"
             ],
             [
              0.2222222222222222,
              "#7201a8"
             ],
             [
              0.3333333333333333,
              "#9c179e"
             ],
             [
              0.4444444444444444,
              "#bd3786"
             ],
             [
              0.5555555555555556,
              "#d8576b"
             ],
             [
              0.6666666666666666,
              "#ed7953"
             ],
             [
              0.7777777777777778,
              "#fb9f3a"
             ],
             [
              0.8888888888888888,
              "#fdca26"
             ],
             [
              1,
              "#f0f921"
             ]
            ],
            "type": "heatmap"
           }
          ],
          "heatmapgl": [
           {
            "colorbar": {
             "outlinewidth": 0,
             "ticks": ""
            },
            "colorscale": [
             [
              0,
              "#0d0887"
             ],
             [
              0.1111111111111111,
              "#46039f"
             ],
             [
              0.2222222222222222,
              "#7201a8"
             ],
             [
              0.3333333333333333,
              "#9c179e"
             ],
             [
              0.4444444444444444,
              "#bd3786"
             ],
             [
              0.5555555555555556,
              "#d8576b"
             ],
             [
              0.6666666666666666,
              "#ed7953"
             ],
             [
              0.7777777777777778,
              "#fb9f3a"
             ],
             [
              0.8888888888888888,
              "#fdca26"
             ],
             [
              1,
              "#f0f921"
             ]
            ],
            "type": "heatmapgl"
           }
          ],
          "histogram": [
           {
            "marker": {
             "pattern": {
              "fillmode": "overlay",
              "size": 10,
              "solidity": 0.2
             }
            },
            "type": "histogram"
           }
          ],
          "histogram2d": [
           {
            "colorbar": {
             "outlinewidth": 0,
             "ticks": ""
            },
            "colorscale": [
             [
              0,
              "#0d0887"
             ],
             [
              0.1111111111111111,
              "#46039f"
             ],
             [
              0.2222222222222222,
              "#7201a8"
             ],
             [
              0.3333333333333333,
              "#9c179e"
             ],
             [
              0.4444444444444444,
              "#bd3786"
             ],
             [
              0.5555555555555556,
              "#d8576b"
             ],
             [
              0.6666666666666666,
              "#ed7953"
             ],
             [
              0.7777777777777778,
              "#fb9f3a"
             ],
             [
              0.8888888888888888,
              "#fdca26"
             ],
             [
              1,
              "#f0f921"
             ]
            ],
            "type": "histogram2d"
           }
          ],
          "histogram2dcontour": [
           {
            "colorbar": {
             "outlinewidth": 0,
             "ticks": ""
            },
            "colorscale": [
             [
              0,
              "#0d0887"
             ],
             [
              0.1111111111111111,
              "#46039f"
             ],
             [
              0.2222222222222222,
              "#7201a8"
             ],
             [
              0.3333333333333333,
              "#9c179e"
             ],
             [
              0.4444444444444444,
              "#bd3786"
             ],
             [
              0.5555555555555556,
              "#d8576b"
             ],
             [
              0.6666666666666666,
              "#ed7953"
             ],
             [
              0.7777777777777778,
              "#fb9f3a"
             ],
             [
              0.8888888888888888,
              "#fdca26"
             ],
             [
              1,
              "#f0f921"
             ]
            ],
            "type": "histogram2dcontour"
           }
          ],
          "mesh3d": [
           {
            "colorbar": {
             "outlinewidth": 0,
             "ticks": ""
            },
            "type": "mesh3d"
           }
          ],
          "parcoords": [
           {
            "line": {
             "colorbar": {
              "outlinewidth": 0,
              "ticks": ""
             }
            },
            "type": "parcoords"
           }
          ],
          "pie": [
           {
            "automargin": true,
            "type": "pie"
           }
          ],
          "scatter": [
           {
            "marker": {
             "line": {
              "color": "#283442"
             }
            },
            "type": "scatter"
           }
          ],
          "scatter3d": [
           {
            "line": {
             "colorbar": {
              "outlinewidth": 0,
              "ticks": ""
             }
            },
            "marker": {
             "colorbar": {
              "outlinewidth": 0,
              "ticks": ""
             }
            },
            "type": "scatter3d"
           }
          ],
          "scattercarpet": [
           {
            "marker": {
             "colorbar": {
              "outlinewidth": 0,
              "ticks": ""
             }
            },
            "type": "scattercarpet"
           }
          ],
          "scattergeo": [
           {
            "marker": {
             "colorbar": {
              "outlinewidth": 0,
              "ticks": ""
             }
            },
            "type": "scattergeo"
           }
          ],
          "scattergl": [
           {
            "marker": {
             "line": {
              "color": "#283442"
             }
            },
            "type": "scattergl"
           }
          ],
          "scattermapbox": [
           {
            "marker": {
             "colorbar": {
              "outlinewidth": 0,
              "ticks": ""
             }
            },
            "type": "scattermapbox"
           }
          ],
          "scatterpolar": [
           {
            "marker": {
             "colorbar": {
              "outlinewidth": 0,
              "ticks": ""
             }
            },
            "type": "scatterpolar"
           }
          ],
          "scatterpolargl": [
           {
            "marker": {
             "colorbar": {
              "outlinewidth": 0,
              "ticks": ""
             }
            },
            "type": "scatterpolargl"
           }
          ],
          "scatterternary": [
           {
            "marker": {
             "colorbar": {
              "outlinewidth": 0,
              "ticks": ""
             }
            },
            "type": "scatterternary"
           }
          ],
          "surface": [
           {
            "colorbar": {
             "outlinewidth": 0,
             "ticks": ""
            },
            "colorscale": [
             [
              0,
              "#0d0887"
             ],
             [
              0.1111111111111111,
              "#46039f"
             ],
             [
              0.2222222222222222,
              "#7201a8"
             ],
             [
              0.3333333333333333,
              "#9c179e"
             ],
             [
              0.4444444444444444,
              "#bd3786"
             ],
             [
              0.5555555555555556,
              "#d8576b"
             ],
             [
              0.6666666666666666,
              "#ed7953"
             ],
             [
              0.7777777777777778,
              "#fb9f3a"
             ],
             [
              0.8888888888888888,
              "#fdca26"
             ],
             [
              1,
              "#f0f921"
             ]
            ],
            "type": "surface"
           }
          ],
          "table": [
           {
            "cells": {
             "fill": {
              "color": "#506784"
             },
             "line": {
              "color": "rgb(17,17,17)"
             }
            },
            "header": {
             "fill": {
              "color": "#2a3f5f"
             },
             "line": {
              "color": "rgb(17,17,17)"
             }
            },
            "type": "table"
           }
          ]
         },
         "layout": {
          "annotationdefaults": {
           "arrowcolor": "#f2f5fa",
           "arrowhead": 0,
           "arrowwidth": 1
          },
          "autotypenumbers": "strict",
          "coloraxis": {
           "colorbar": {
            "outlinewidth": 0,
            "ticks": ""
           }
          },
          "colorscale": {
           "diverging": [
            [
             0,
             "#8e0152"
            ],
            [
             0.1,
             "#c51b7d"
            ],
            [
             0.2,
             "#de77ae"
            ],
            [
             0.3,
             "#f1b6da"
            ],
            [
             0.4,
             "#fde0ef"
            ],
            [
             0.5,
             "#f7f7f7"
            ],
            [
             0.6,
             "#e6f5d0"
            ],
            [
             0.7,
             "#b8e186"
            ],
            [
             0.8,
             "#7fbc41"
            ],
            [
             0.9,
             "#4d9221"
            ],
            [
             1,
             "#276419"
            ]
           ],
           "sequential": [
            [
             0,
             "#0d0887"
            ],
            [
             0.1111111111111111,
             "#46039f"
            ],
            [
             0.2222222222222222,
             "#7201a8"
            ],
            [
             0.3333333333333333,
             "#9c179e"
            ],
            [
             0.4444444444444444,
             "#bd3786"
            ],
            [
             0.5555555555555556,
             "#d8576b"
            ],
            [
             0.6666666666666666,
             "#ed7953"
            ],
            [
             0.7777777777777778,
             "#fb9f3a"
            ],
            [
             0.8888888888888888,
             "#fdca26"
            ],
            [
             1,
             "#f0f921"
            ]
           ],
           "sequentialminus": [
            [
             0,
             "#0d0887"
            ],
            [
             0.1111111111111111,
             "#46039f"
            ],
            [
             0.2222222222222222,
             "#7201a8"
            ],
            [
             0.3333333333333333,
             "#9c179e"
            ],
            [
             0.4444444444444444,
             "#bd3786"
            ],
            [
             0.5555555555555556,
             "#d8576b"
            ],
            [
             0.6666666666666666,
             "#ed7953"
            ],
            [
             0.7777777777777778,
             "#fb9f3a"
            ],
            [
             0.8888888888888888,
             "#fdca26"
            ],
            [
             1,
             "#f0f921"
            ]
           ]
          },
          "colorway": [
           "#636efa",
           "#EF553B",
           "#00cc96",
           "#ab63fa",
           "#FFA15A",
           "#19d3f3",
           "#FF6692",
           "#B6E880",
           "#FF97FF",
           "#FECB52"
          ],
          "font": {
           "color": "#f2f5fa"
          },
          "geo": {
           "bgcolor": "rgb(17,17,17)",
           "lakecolor": "rgb(17,17,17)",
           "landcolor": "rgb(17,17,17)",
           "showlakes": true,
           "showland": true,
           "subunitcolor": "#506784"
          },
          "hoverlabel": {
           "align": "left"
          },
          "hovermode": "closest",
          "mapbox": {
           "style": "dark"
          },
          "paper_bgcolor": "rgb(17,17,17)",
          "plot_bgcolor": "rgb(17,17,17)",
          "polar": {
           "angularaxis": {
            "gridcolor": "#506784",
            "linecolor": "#506784",
            "ticks": ""
           },
           "bgcolor": "rgb(17,17,17)",
           "radialaxis": {
            "gridcolor": "#506784",
            "linecolor": "#506784",
            "ticks": ""
           }
          },
          "scene": {
           "xaxis": {
            "backgroundcolor": "rgb(17,17,17)",
            "gridcolor": "#506784",
            "gridwidth": 2,
            "linecolor": "#506784",
            "showbackground": true,
            "ticks": "",
            "zerolinecolor": "#C8D4E3"
           },
           "yaxis": {
            "backgroundcolor": "rgb(17,17,17)",
            "gridcolor": "#506784",
            "gridwidth": 2,
            "linecolor": "#506784",
            "showbackground": true,
            "ticks": "",
            "zerolinecolor": "#C8D4E3"
           },
           "zaxis": {
            "backgroundcolor": "rgb(17,17,17)",
            "gridcolor": "#506784",
            "gridwidth": 2,
            "linecolor": "#506784",
            "showbackground": true,
            "ticks": "",
            "zerolinecolor": "#C8D4E3"
           }
          },
          "shapedefaults": {
           "line": {
            "color": "#f2f5fa"
           }
          },
          "sliderdefaults": {
           "bgcolor": "#C8D4E3",
           "bordercolor": "rgb(17,17,17)",
           "borderwidth": 1,
           "tickwidth": 0
          },
          "ternary": {
           "aaxis": {
            "gridcolor": "#506784",
            "linecolor": "#506784",
            "ticks": ""
           },
           "baxis": {
            "gridcolor": "#506784",
            "linecolor": "#506784",
            "ticks": ""
           },
           "bgcolor": "rgb(17,17,17)",
           "caxis": {
            "gridcolor": "#506784",
            "linecolor": "#506784",
            "ticks": ""
           }
          },
          "title": {
           "x": 0.05
          },
          "updatemenudefaults": {
           "bgcolor": "#506784",
           "borderwidth": 0
          },
          "xaxis": {
           "automargin": true,
           "gridcolor": "#283442",
           "linecolor": "#506784",
           "ticks": "",
           "title": {
            "standoff": 15
           },
           "zerolinecolor": "#283442",
           "zerolinewidth": 2
          },
          "yaxis": {
           "automargin": true,
           "gridcolor": "#283442",
           "linecolor": "#506784",
           "ticks": "",
           "title": {
            "standoff": 15
           },
           "zerolinecolor": "#283442",
           "zerolinewidth": 2
          }
         }
        },
        "title": {
         "text": "Silhouette Curve",
         "x": 0.5
        },
        "width": 750,
        "xaxis": {
         "anchor": "y",
         "domain": [
          0,
          1
         ],
         "title": {
          "text": "Number of Clusters"
         }
        },
        "yaxis": {
         "anchor": "x",
         "domain": [
          0,
          1
         ],
         "title": {
          "text": "Sum of Squared Error"
         }
        }
       }
      }
     },
     "metadata": {},
     "output_type": "display_data"
    }
   ],
   "source": [
    "px.line(silhouette,\n",
    "        title='Silhouette Curve',\n",
    "        width=750,\n",
    "        height=500,\n",
    "        labels={\n",
    "            \"index\":\"Number of Clusters\",\n",
    "            \"value\":\"Sum of Squared Error\"\n",
    "        },\n",
    "        template='plotly_dark'\n",
    "        ).update_layout(showlegend=False, title_x=0.5)"
   ]
  },
  {
   "cell_type": "code",
   "execution_count": 17,
   "metadata": {},
   "outputs": [],
   "source": [
    "dividends = []\n",
    "\n",
    "for i in ticker_list:\n",
    "    info = yf.Ticker(i).info\n",
    "    div = info.get('trailingAnnualDividendYield')\n",
    "    dividends.append(div)"
   ]
  },
  {
   "cell_type": "code",
   "execution_count": 18,
   "metadata": {},
   "outputs": [],
   "source": [
    "stock_data['Dividends'] = list(dividends)\n",
    "\n",
    "dividend_stock_data = stock_data[stock_data['Dividends'] > 0]"
   ]
  },
  {
   "cell_type": "code",
   "execution_count": 19,
   "metadata": {},
   "outputs": [
    {
     "data": {
      "text/html": [
       "<div>\n",
       "<style scoped>\n",
       "    .dataframe tbody tr th:only-of-type {\n",
       "        vertical-align: middle;\n",
       "    }\n",
       "\n",
       "    .dataframe tbody tr th {\n",
       "        vertical-align: top;\n",
       "    }\n",
       "\n",
       "    .dataframe thead th {\n",
       "        text-align: right;\n",
       "    }\n",
       "</style>\n",
       "<table border=\"1\" class=\"dataframe\">\n",
       "  <thead>\n",
       "    <tr style=\"text-align: right;\">\n",
       "      <th></th>\n",
       "      <th>Price</th>\n",
       "      <th>Symbol</th>\n",
       "      <th>Security</th>\n",
       "      <th>Sector</th>\n",
       "      <th>Return</th>\n",
       "      <th>Volatility</th>\n",
       "      <th>SharpeRatio</th>\n",
       "      <th>KMeansCluster</th>\n",
       "      <th>Dividends</th>\n",
       "    </tr>\n",
       "    <tr>\n",
       "      <th>Ticker</th>\n",
       "      <th></th>\n",
       "      <th></th>\n",
       "      <th></th>\n",
       "      <th></th>\n",
       "      <th></th>\n",
       "      <th></th>\n",
       "      <th></th>\n",
       "      <th></th>\n",
       "      <th></th>\n",
       "    </tr>\n",
       "  </thead>\n",
       "  <tbody>\n",
       "    <tr>\n",
       "      <th>A</th>\n",
       "      <td>138.000000</td>\n",
       "      <td>A</td>\n",
       "      <td>Agilent Technologies</td>\n",
       "      <td>Health Care</td>\n",
       "      <td>0.063</td>\n",
       "      <td>0.268</td>\n",
       "      <td>0.236</td>\n",
       "      <td>4</td>\n",
       "      <td>0.007160</td>\n",
       "    </tr>\n",
       "    <tr>\n",
       "      <th>ABBV</th>\n",
       "      <td>202.789993</td>\n",
       "      <td>ABBV</td>\n",
       "      <td>AbbVie</td>\n",
       "      <td>Health Care</td>\n",
       "      <td>0.186</td>\n",
       "      <td>0.212</td>\n",
       "      <td>0.876</td>\n",
       "      <td>0</td>\n",
       "      <td>0.030412</td>\n",
       "    </tr>\n",
       "    <tr>\n",
       "      <th>ABT</th>\n",
       "      <td>118.620003</td>\n",
       "      <td>ABT</td>\n",
       "      <td>Abbott Laboratories</td>\n",
       "      <td>Health Care</td>\n",
       "      <td>-0.010</td>\n",
       "      <td>0.192</td>\n",
       "      <td>-0.053</td>\n",
       "      <td>4</td>\n",
       "      <td>0.019405</td>\n",
       "    </tr>\n",
       "    <tr>\n",
       "      <th>ACN</th>\n",
       "      <td>347.125000</td>\n",
       "      <td>ACN</td>\n",
       "      <td>Accenture</td>\n",
       "      <td>Information Technology</td>\n",
       "      <td>-0.119</td>\n",
       "      <td>0.253</td>\n",
       "      <td>-0.473</td>\n",
       "      <td>2</td>\n",
       "      <td>0.015515</td>\n",
       "    </tr>\n",
       "    <tr>\n",
       "      <th>ADI</th>\n",
       "      <td>225.000000</td>\n",
       "      <td>ADI</td>\n",
       "      <td>Analog Devices</td>\n",
       "      <td>Information Technology</td>\n",
       "      <td>0.241</td>\n",
       "      <td>0.338</td>\n",
       "      <td>0.714</td>\n",
       "      <td>0</td>\n",
       "      <td>0.016225</td>\n",
       "    </tr>\n",
       "    <tr>\n",
       "      <th>...</th>\n",
       "      <td>...</td>\n",
       "      <td>...</td>\n",
       "      <td>...</td>\n",
       "      <td>...</td>\n",
       "      <td>...</td>\n",
       "      <td>...</td>\n",
       "      <td>...</td>\n",
       "      <td>...</td>\n",
       "      <td>...</td>\n",
       "    </tr>\n",
       "    <tr>\n",
       "      <th>XOM</th>\n",
       "      <td>117.589996</td>\n",
       "      <td>XOM</td>\n",
       "      <td>ExxonMobil</td>\n",
       "      <td>Energy</td>\n",
       "      <td>0.178</td>\n",
       "      <td>0.191</td>\n",
       "      <td>0.932</td>\n",
       "      <td>0</td>\n",
       "      <td>0.032197</td>\n",
       "    </tr>\n",
       "    <tr>\n",
       "      <th>XYL</th>\n",
       "      <td>121.510002</td>\n",
       "      <td>XYL</td>\n",
       "      <td>Xylem Inc.</td>\n",
       "      <td>Industrials</td>\n",
       "      <td>-0.048</td>\n",
       "      <td>0.215</td>\n",
       "      <td>-0.222</td>\n",
       "      <td>2</td>\n",
       "      <td>0.011578</td>\n",
       "    </tr>\n",
       "    <tr>\n",
       "      <th>YUM</th>\n",
       "      <td>132.570007</td>\n",
       "      <td>YUM</td>\n",
       "      <td>Yum! Brands</td>\n",
       "      <td>Consumer Discretionary</td>\n",
       "      <td>-0.061</td>\n",
       "      <td>0.162</td>\n",
       "      <td>-0.376</td>\n",
       "      <td>2</td>\n",
       "      <td>0.009721</td>\n",
       "    </tr>\n",
       "    <tr>\n",
       "      <th>ZBH</th>\n",
       "      <td>108.099998</td>\n",
       "      <td>ZBH</td>\n",
       "      <td>Zimmer Biomet</td>\n",
       "      <td>Health Care</td>\n",
       "      <td>-0.255</td>\n",
       "      <td>0.223</td>\n",
       "      <td>-1.142</td>\n",
       "      <td>2</td>\n",
       "      <td>0.008979</td>\n",
       "    </tr>\n",
       "    <tr>\n",
       "      <th>ZTS</th>\n",
       "      <td>180.384995</td>\n",
       "      <td>ZTS</td>\n",
       "      <td>Zoetis</td>\n",
       "      <td>Health Care</td>\n",
       "      <td>-0.128</td>\n",
       "      <td>0.248</td>\n",
       "      <td>-0.514</td>\n",
       "      <td>2</td>\n",
       "      <td>0.009028</td>\n",
       "    </tr>\n",
       "  </tbody>\n",
       "</table>\n",
       "<p>385 rows × 9 columns</p>\n",
       "</div>"
      ],
      "text/plain": [
       "             Price Symbol              Security                  Sector  \\\n",
       "Ticker                                                                    \n",
       "A       138.000000      A  Agilent Technologies             Health Care   \n",
       "ABBV    202.789993   ABBV                AbbVie             Health Care   \n",
       "ABT     118.620003    ABT   Abbott Laboratories             Health Care   \n",
       "ACN     347.125000    ACN             Accenture  Information Technology   \n",
       "ADI     225.000000    ADI        Analog Devices  Information Technology   \n",
       "...            ...    ...                   ...                     ...   \n",
       "XOM     117.589996    XOM            ExxonMobil                  Energy   \n",
       "XYL     121.510002    XYL            Xylem Inc.             Industrials   \n",
       "YUM     132.570007    YUM           Yum! Brands  Consumer Discretionary   \n",
       "ZBH     108.099998    ZBH         Zimmer Biomet             Health Care   \n",
       "ZTS     180.384995    ZTS                Zoetis             Health Care   \n",
       "\n",
       "        Return  Volatility  SharpeRatio  KMeansCluster  Dividends  \n",
       "Ticker                                                             \n",
       "A        0.063       0.268        0.236              4   0.007160  \n",
       "ABBV     0.186       0.212        0.876              0   0.030412  \n",
       "ABT     -0.010       0.192       -0.053              4   0.019405  \n",
       "ACN     -0.119       0.253       -0.473              2   0.015515  \n",
       "ADI      0.241       0.338        0.714              0   0.016225  \n",
       "...        ...         ...          ...            ...        ...  \n",
       "XOM      0.178       0.191        0.932              0   0.032197  \n",
       "XYL     -0.048       0.215       -0.222              2   0.011578  \n",
       "YUM     -0.061       0.162       -0.376              2   0.009721  \n",
       "ZBH     -0.255       0.223       -1.142              2   0.008979  \n",
       "ZTS     -0.128       0.248       -0.514              2   0.009028  \n",
       "\n",
       "[385 rows x 9 columns]"
      ]
     },
     "execution_count": 19,
     "metadata": {},
     "output_type": "execute_result"
    }
   ],
   "source": [
    "dividend_stock_data"
   ]
  },
  {
   "cell_type": "code",
   "execution_count": 20,
   "metadata": {},
   "outputs": [
    {
     "data": {
      "application/vnd.plotly.v1+json": {
       "config": {
        "plotlyServerURL": "https://plot.ly"
       },
       "data": [
        {
         "customdata": [
          [
           "Health Care",
           "Agilent Technologies"
          ],
          [
           "Health Care",
           "AbbVie"
          ],
          [
           "Health Care",
           "Abbott Laboratories"
          ],
          [
           "Health Care",
           "Amgen"
          ],
          [
           "Health Care",
           "Baxter International"
          ],
          [
           "Health Care",
           "Becton Dickinson"
          ],
          [
           "Health Care",
           "Cardinal Health"
          ],
          [
           "Health Care",
           "Cigna"
          ],
          [
           "Health Care",
           "Cencora"
          ],
          [
           "Health Care",
           "CVS Health"
          ],
          [
           "Health Care",
           "Quest Diagnostics"
          ],
          [
           "Health Care",
           "Danaher Corporation"
          ],
          [
           "Health Care",
           "Elevance Health"
          ],
          [
           "Health Care",
           "GE HealthCare"
          ],
          [
           "Health Care",
           "Gilead Sciences"
          ],
          [
           "Health Care",
           "HCA Healthcare"
          ],
          [
           "Health Care",
           "Humana"
          ],
          [
           "Health Care",
           "Johnson & Johnson"
          ],
          [
           "Health Care",
           "LabCorp"
          ],
          [
           "Health Care",
           "Lilly (Eli)"
          ],
          [
           "Health Care",
           "McKesson Corporation"
          ],
          [
           "Health Care",
           "Medtronic"
          ],
          [
           "Health Care",
           "Pfizer"
          ],
          [
           "Health Care",
           "ResMed"
          ],
          [
           "Health Care",
           "Revvity"
          ],
          [
           "Health Care",
           "Steris"
          ],
          [
           "Health Care",
           "Stryker Corporation"
          ],
          [
           "Health Care",
           "Bio-Techne"
          ],
          [
           "Health Care",
           "Teleflex"
          ],
          [
           "Health Care",
           "Thermo Fisher Scientific"
          ],
          [
           "Health Care",
           "Universal Health Services"
          ],
          [
           "Health Care",
           "UnitedHealth Group"
          ],
          [
           "Health Care",
           "Viatris"
          ],
          [
           "Health Care",
           "West Pharmaceutical Services"
          ],
          [
           "Health Care",
           "Zimmer Biomet"
          ],
          [
           "Health Care",
           "Zoetis"
          ]
         ],
         "hovertemplate": "<b>%{hovertext}</b><br><br>Sector=%{customdata[0]}<br>Volatility=%{x}<br>Return=%{y}<br>Security=%{customdata[1]}<extra></extra>",
         "hovertext": [
          "A",
          "ABBV",
          "ABT",
          "AMGN",
          "BAX",
          "BDX",
          "CAH",
          "CI",
          "COR",
          "CVS",
          "DGX",
          "DHR",
          "ELV",
          "GEHC",
          "GILD",
          "HCA",
          "HUM",
          "JNJ",
          "LH",
          "LLY",
          "MCK",
          "MDT",
          "PFE",
          "RMD",
          "RVTY",
          "STE",
          "SYK",
          "TECH",
          "TFX",
          "TMO",
          "UHS",
          "UNH",
          "VTRS",
          "WST",
          "ZBH",
          "ZTS"
         ],
         "legendgroup": "Health Care",
         "marker": {
          "color": "#636efa",
          "symbol": "circle"
         },
         "mode": "markers",
         "name": "Health Care",
         "orientation": "v",
         "showlegend": true,
         "type": "scatter",
         "x": [
          0.268,
          0.212,
          0.192,
          0.245,
          0.272,
          0.174,
          0.213,
          0.202,
          0.173,
          0.351,
          0.206,
          0.224,
          0.255,
          0.283,
          0.213,
          0.254,
          0.393,
          0.159,
          0.227,
          0.299,
          0.257,
          0.182,
          0.227,
          0.396,
          0.266,
          0.21,
          0.181,
          0.37,
          0.31,
          0.193,
          0.305,
          0.255,
          0.261,
          0.379,
          0.223,
          0.248
         ],
         "xaxis": "x",
         "y": [
          0.063,
          0.186,
          -0.01,
          0.135,
          -0.235,
          -0.066,
          0.097,
          -0.158,
          -0.007,
          -0.449,
          0.296,
          -0.028,
          -0.311,
          -0.024,
          0.27,
          0.18,
          -0.461,
          -0.013,
          0.067,
          0.095,
          0.016,
          0.072,
          0.034,
          0.397,
          0.208,
          -0.068,
          0.032,
          0.068,
          -0.217,
          -0.015,
          0.318,
          0.107,
          -0.213,
          -0.241,
          -0.255,
          -0.128
         ],
         "yaxis": "y"
        },
        {
         "customdata": [
          [
           "Information Technology",
           "Accenture"
          ],
          [
           "Information Technology",
           "Analog Devices"
          ],
          [
           "Information Technology",
           "Applied Materials"
          ],
          [
           "Information Technology",
           "Amphenol"
          ],
          [
           "Information Technology",
           "Broadcom"
          ],
          [
           "Information Technology",
           "CDW"
          ],
          [
           "Information Technology",
           "Salesforce"
          ],
          [
           "Information Technology",
           "Cisco"
          ],
          [
           "Information Technology",
           "Cognizant"
          ],
          [
           "Information Technology",
           "Dell Technologies"
          ],
          [
           "Information Technology",
           "Gen Digital"
          ],
          [
           "Information Technology",
           "Corning Inc."
          ],
          [
           "Information Technology",
           "Hewlett Packard Enterprise"
          ],
          [
           "Information Technology",
           "HP Inc."
          ],
          [
           "Information Technology",
           "IBM"
          ],
          [
           "Information Technology",
           "Intel"
          ],
          [
           "Information Technology",
           "Intuit"
          ],
          [
           "Information Technology",
           "Jabil"
          ],
          [
           "Information Technology",
           "Juniper Networks"
          ],
          [
           "Information Technology",
           "KLA Corporation"
          ],
          [
           "Information Technology",
           "Lam Research"
          ],
          [
           "Information Technology",
           "Microchip Technology"
          ],
          [
           "Information Technology",
           "Monolithic Power Systems"
          ],
          [
           "Information Technology",
           "Microsoft"
          ],
          [
           "Information Technology",
           "Motorola Solutions"
          ],
          [
           "Information Technology",
           "Micron Technology"
          ],
          [
           "Information Technology",
           "NetApp"
          ],
          [
           "Information Technology",
           "Nvidia"
          ],
          [
           "Information Technology",
           "NXP Semiconductors"
          ],
          [
           "Information Technology",
           "Oracle Corporation"
          ],
          [
           "Information Technology",
           "Qualcomm"
          ],
          [
           "Information Technology",
           "Roper Technologies"
          ],
          [
           "Information Technology",
           "Seagate Technology"
          ],
          [
           "Information Technology",
           "Skyworks Solutions"
          ],
          [
           "Information Technology",
           "Teradyne"
          ],
          [
           "Information Technology",
           "Texas Instruments"
          ]
         ],
         "hovertemplate": "<b>%{hovertext}</b><br><br>Sector=%{customdata[0]}<br>Volatility=%{x}<br>Return=%{y}<br>Security=%{customdata[1]}<extra></extra>",
         "hovertext": [
          "ACN",
          "ADI",
          "AMAT",
          "APH",
          "AVGO",
          "CDW",
          "CRM",
          "CSCO",
          "CTSH",
          "DELL",
          "GEN",
          "GLW",
          "HPE",
          "HPQ",
          "IBM",
          "INTC",
          "INTU",
          "JBL",
          "JNPR",
          "KLAC",
          "LRCX",
          "MCHP",
          "MPWR",
          "MSFT",
          "MSI",
          "MU",
          "NTAP",
          "NVDA",
          "NXPI",
          "ORCL",
          "QCOM",
          "ROP",
          "STX",
          "SWKS",
          "TER",
          "TXN"
         ],
         "legendgroup": "Information Technology",
         "marker": {
          "color": "#EF553B",
          "symbol": "circle"
         },
         "mode": "markers",
         "name": "Information Technology",
         "orientation": "v",
         "showlegend": true,
         "type": "scatter",
         "x": [
          0.253,
          0.338,
          0.435,
          0.284,
          0.498,
          0.294,
          0.383,
          0.188,
          0.194,
          0.635,
          0.29,
          0.278,
          0.375,
          0.317,
          0.218,
          0.569,
          0.274,
          0.417,
          0.082,
          0.475,
          0.454,
          0.388,
          0.541,
          0.204,
          0.155,
          0.521,
          0.324,
          0.547,
          0.377,
          0.329,
          0.414,
          0.178,
          0.323,
          0.403,
          0.482,
          0.281
         ],
         "xaxis": "x",
         "y": [
          -0.119,
          0.241,
          -0.105,
          0.335,
          0.381,
          -0.383,
          -0.001,
          0.171,
          -0.121,
          0.509,
          0.375,
          0.547,
          0.403,
          0.308,
          0.163,
          -0.915,
          -0.104,
          -0.137,
          0.065,
          -0.002,
          -0.314,
          -0.154,
          0.115,
          0.002,
          0.455,
          0.214,
          0.414,
          0.783,
          -0.01,
          0.6,
          0.093,
          -0.05,
          0.186,
          -0.227,
          0.096,
          0.323
         ],
         "yaxis": "y"
        },
        {
         "customdata": [
          [
           "Consumer Staples",
           "Archer Daniels Midland"
          ],
          [
           "Consumer Staples",
           "Brown–Forman"
          ],
          [
           "Consumer Staples",
           "Bunge Global"
          ],
          [
           "Consumer Staples",
           "Conagra Brands"
          ],
          [
           "Consumer Staples",
           "Church & Dwight"
          ],
          [
           "Consumer Staples",
           "Colgate-Palmolive"
          ],
          [
           "Consumer Staples",
           "Clorox"
          ],
          [
           "Consumer Staples",
           "Costco"
          ],
          [
           "Consumer Staples",
           "Campbell Soup Company"
          ],
          [
           "Consumer Staples",
           "Dollar General"
          ],
          [
           "Consumer Staples",
           "Estée Lauder Companies (The)"
          ],
          [
           "Consumer Staples",
           "General Mills"
          ],
          [
           "Consumer Staples",
           "Hormel Foods"
          ],
          [
           "Consumer Staples",
           "Hershey Company (The)"
          ],
          [
           "Consumer Staples",
           "Kellanova"
          ],
          [
           "Consumer Staples",
           "Keurig Dr Pepper"
          ],
          [
           "Consumer Staples",
           "Kraft Heinz"
          ],
          [
           "Consumer Staples",
           "Kimberly-Clark"
          ],
          [
           "Consumer Staples",
           "Coca-Cola Company (The)"
          ],
          [
           "Consumer Staples",
           "Kroger"
          ],
          [
           "Consumer Staples",
           "Kenvue"
          ],
          [
           "Consumer Staples",
           "Lamb Weston"
          ],
          [
           "Consumer Staples",
           "Mondelez International"
          ],
          [
           "Consumer Staples",
           "McCormick & Company"
          ],
          [
           "Consumer Staples",
           "PepsiCo"
          ],
          [
           "Consumer Staples",
           "Procter & Gamble"
          ],
          [
           "Consumer Staples",
           "Philip Morris International"
          ],
          [
           "Consumer Staples",
           "J.M. Smucker Company (The)"
          ],
          [
           "Consumer Staples",
           "Constellation Brands"
          ],
          [
           "Consumer Staples",
           "Sysco"
          ],
          [
           "Consumer Staples",
           "Molson Coors Beverage Company"
          ],
          [
           "Consumer Staples",
           "Target Corporation"
          ],
          [
           "Consumer Staples",
           "Tyson Foods"
          ],
          [
           "Consumer Staples",
           "Walgreens Boots Alliance"
          ],
          [
           "Consumer Staples",
           "Walmart"
          ]
         ],
         "hovertemplate": "<b>%{hovertext}</b><br><br>Sector=%{customdata[0]}<br>Volatility=%{x}<br>Return=%{y}<br>Security=%{customdata[1]}<extra></extra>",
         "hovertext": [
          "ADM",
          "BF.B",
          "BG",
          "CAG",
          "CHD",
          "CL",
          "CLX",
          "COST",
          "CPB",
          "DG",
          "EL",
          "GIS",
          "HRL",
          "HSY",
          "K",
          "KDP",
          "KHC",
          "KMB",
          "KO",
          "KR",
          "KVUE",
          "LW",
          "MDLZ",
          "MKC",
          "PEP",
          "PG",
          "PM",
          "SJM",
          "STZ",
          "SYY",
          "TAP",
          "TGT",
          "TSN",
          "WBA",
          "WMT"
         ],
         "legendgroup": "Consumer Staples",
         "marker": {
          "color": "#00cc96",
          "symbol": "circle"
         },
         "mode": "markers",
         "name": "Consumer Staples",
         "orientation": "v",
         "showlegend": true,
         "type": "scatter",
         "x": [
          0.217,
          0.244,
          0.251,
          0.219,
          0.171,
          0.145,
          0.207,
          0.201,
          0.201,
          0.557,
          0.464,
          0.179,
          0.284,
          0.195,
          0.271,
          0.166,
          0.188,
          0.185,
          0.125,
          0.226,
          0.269,
          0.555,
          0.168,
          0.218,
          0.161,
          0.144,
          0.198,
          0.219,
          0.194,
          0.188,
          0.242,
          0.316,
          0.202,
          0.539,
          0.178
         ],
         "xaxis": "x",
         "y": [
          0.054,
          -0.373,
          -0.159,
          0.034,
          0.077,
          0.127,
          0.088,
          0.236,
          0.126,
          -0.801,
          -1.129,
          0.057,
          0.006,
          -0.125,
          0.511,
          0.12,
          -0.108,
          0.151,
          0.092,
          0.221,
          0.252,
          -0.396,
          -0.115,
          0.2,
          -0.035,
          0.044,
          0.524,
          -0.151,
          -0.086,
          -0.101,
          -0.189,
          -0.01,
          0.123,
          -1.201,
          0.48
         ],
         "yaxis": "y"
        },
        {
         "customdata": [
          [
           "Industrials",
           "Automatic Data Processing"
          ],
          [
           "Industrials",
           "Allegion"
          ],
          [
           "Industrials",
           "Ametek"
          ],
          [
           "Industrials",
           "A. O. Smith"
          ],
          [
           "Industrials",
           "Broadridge Financial Solutions"
          ],
          [
           "Industrials",
           "Carrier Global"
          ],
          [
           "Industrials",
           "Caterpillar Inc."
          ],
          [
           "Industrials",
           "C.H. Robinson"
          ],
          [
           "Industrials",
           "Cummins"
          ],
          [
           "Industrials",
           "CSX Corporation"
          ],
          [
           "Industrials",
           "Cintas"
          ],
          [
           "Industrials",
           "Delta Air Lines"
          ],
          [
           "Industrials",
           "Deere & Company"
          ],
          [
           "Industrials",
           "Dover Corporation"
          ],
          [
           "Industrials",
           "Equifax"
          ],
          [
           "Industrials",
           "Emerson Electric"
          ],
          [
           "Industrials",
           "Eaton Corporation"
          ],
          [
           "Industrials",
           "Expeditors International"
          ],
          [
           "Industrials",
           "Fastenal"
          ],
          [
           "Industrials",
           "FedEx"
          ],
          [
           "Industrials",
           "Fortive"
          ],
          [
           "Industrials",
           "General Dynamics"
          ],
          [
           "Industrials",
           "GE Aerospace"
          ],
          [
           "Industrials",
           "Honeywell"
          ],
          [
           "Industrials",
           "Hubbell Incorporated"
          ],
          [
           "Industrials",
           "Howmet Aerospace"
          ],
          [
           "Industrials",
           "IDEX Corporation"
          ],
          [
           "Industrials",
           "Ingersoll Rand"
          ],
          [
           "Industrials",
           "Illinois Tool Works"
          ],
          [
           "Industrials",
           "Jacobs Solutions"
          ],
          [
           "Industrials",
           "J.B. Hunt"
          ],
          [
           "Industrials",
           "Johnson Controls"
          ],
          [
           "Industrials",
           "Leidos"
          ],
          [
           "Industrials",
           "L3Harris"
          ],
          [
           "Industrials",
           "Lockheed Martin"
          ],
          [
           "Industrials",
           "Southwest Airlines"
          ],
          [
           "Industrials",
           "Masco"
          ],
          [
           "Industrials",
           "3M"
          ],
          [
           "Industrials",
           "Nordson Corporation"
          ],
          [
           "Industrials",
           "Northrop Grumman"
          ],
          [
           "Industrials",
           "Norfolk Southern Railway"
          ],
          [
           "Industrials",
           "Old Dominion"
          ],
          [
           "Industrials",
           "Otis Worldwide"
          ],
          [
           "Industrials",
           "Paycom"
          ],
          [
           "Industrials",
           "Paychex"
          ],
          [
           "Industrials",
           "Paccar"
          ],
          [
           "Industrials",
           "Pentair"
          ],
          [
           "Industrials",
           "Quanta Services"
          ],
          [
           "Industrials",
           "Rockwell Automation"
          ],
          [
           "Industrials",
           "Rollins, Inc."
          ],
          [
           "Industrials",
           "Republic Services"
          ],
          [
           "Industrials",
           "RTX Corporation"
          ],
          [
           "Industrials",
           "Snap-on"
          ],
          [
           "Industrials",
           "Stanley Black & Decker"
          ],
          [
           "Industrials",
           "Trane Technologies"
          ],
          [
           "Industrials",
           "Textron"
          ],
          [
           "Industrials",
           "Union Pacific Corporation"
          ],
          [
           "Industrials",
           "United Parcel Service"
          ],
          [
           "Industrials",
           "United Rentals"
          ],
          [
           "Industrials",
           "Veralto"
          ],
          [
           "Industrials",
           "Verisk Analytics"
          ],
          [
           "Industrials",
           "Wabtec"
          ],
          [
           "Industrials",
           "Waste Management"
          ],
          [
           "Industrials",
           "Xylem Inc."
          ]
         ],
         "hovertemplate": "<b>%{hovertext}</b><br><br>Sector=%{customdata[0]}<br>Volatility=%{x}<br>Return=%{y}<br>Security=%{customdata[1]}<extra></extra>",
         "hovertext": [
          "ADP",
          "ALLE",
          "AME",
          "AOS",
          "BR",
          "CARR",
          "CAT",
          "CHRW",
          "CMI",
          "CSX",
          "CTAS",
          "DAL",
          "DE",
          "DOV",
          "EFX",
          "EMR",
          "ETN",
          "EXPD",
          "FAST",
          "FDX",
          "FTV",
          "GD",
          "GE",
          "HON",
          "HUBB",
          "HWM",
          "IEX",
          "IR",
          "ITW",
          "J",
          "JBHT",
          "JCI",
          "LDOS",
          "LHX",
          "LMT",
          "LUV",
          "MAS",
          "MMM",
          "NDSN",
          "NOC",
          "NSC",
          "ODFL",
          "OTIS",
          "PAYC",
          "PAYX",
          "PCAR",
          "PNR",
          "PWR",
          "ROK",
          "ROL",
          "RSG",
          "RTX",
          "SNA",
          "SWK",
          "TT",
          "TXT",
          "UNP",
          "UPS",
          "URI",
          "VLTO",
          "VRSK",
          "WAB",
          "WM",
          "XYL"
         ],
         "legendgroup": "Industrials",
         "marker": {
          "color": "#ab63fa",
          "symbol": "circle"
         },
         "mode": "markers",
         "name": "Industrials",
         "orientation": "v",
         "showlegend": true,
         "type": "scatter",
         "x": [
          0.152,
          0.205,
          0.232,
          0.256,
          0.185,
          0.299,
          0.252,
          0.311,
          0.234,
          0.204,
          0.179,
          0.311,
          0.215,
          0.206,
          0.282,
          0.23,
          0.289,
          0.19,
          0.228,
          0.334,
          0.22,
          0.157,
          0.329,
          0.169,
          0.305,
          0.336,
          0.206,
          0.274,
          0.156,
          0.192,
          0.263,
          0.225,
          0.202,
          0.184,
          0.163,
          0.394,
          0.242,
          0.329,
          0.217,
          0.164,
          0.252,
          0.334,
          0.198,
          0.398,
          0.186,
          0.266,
          0.264,
          0.319,
          0.264,
          0.218,
          0.149,
          0.168,
          0.23,
          0.331,
          0.231,
          0.234,
          0.18,
          0.273,
          0.333,
          0.185,
          0.198,
          0.214,
          0.188,
          0.215
         ],
         "xaxis": "x",
         "y": [
          0.165,
          0.12,
          0.036,
          -0.108,
          0.072,
          0.43,
          0.225,
          0.482,
          0.32,
          -0.181,
          0.372,
          0.478,
          0.149,
          0.213,
          0.009,
          0.037,
          0.222,
          -0.011,
          0.112,
          0.181,
          -0.259,
          0.101,
          0.504,
          0.045,
          0.212,
          0.606,
          -0.129,
          0.083,
          0.011,
          0.201,
          -0.228,
          0.371,
          0.543,
          0.217,
          0.341,
          -0.139,
          0.105,
          0.717,
          -0.134,
          0.142,
          -0.03,
          -0.129,
          0.088,
          0.156,
          0.158,
          -0.089,
          0.371,
          0.389,
          -0.072,
          0.148,
          0.103,
          0.417,
          0.283,
          0.074,
          0.402,
          -0.081,
          -0.132,
          -0.138,
          0.307,
          0.239,
          0.15,
          0.44,
          0.055,
          -0.048
         ],
         "yaxis": "y"
        },
        {
         "customdata": [
          [
           "Utilities",
           "Ameren"
          ],
          [
           "Utilities",
           "American Electric Power"
          ],
          [
           "Utilities",
           "AES Corporation"
          ],
          [
           "Utilities",
           "Atmos Energy"
          ],
          [
           "Utilities",
           "American Water Works"
          ],
          [
           "Utilities",
           "Constellation Energy"
          ],
          [
           "Utilities",
           "CenterPoint Energy"
          ],
          [
           "Utilities",
           "Dominion Energy"
          ],
          [
           "Utilities",
           "DTE Energy"
          ],
          [
           "Utilities",
           "Duke Energy"
          ],
          [
           "Utilities",
           "Consolidated Edison"
          ],
          [
           "Utilities",
           "Edison International"
          ],
          [
           "Utilities",
           "Eversource Energy"
          ],
          [
           "Utilities",
           "Entergy"
          ],
          [
           "Utilities",
           "Evergy"
          ],
          [
           "Utilities",
           "Exelon"
          ],
          [
           "Utilities",
           "FirstEnergy"
          ],
          [
           "Utilities",
           "Alliant Energy"
          ],
          [
           "Utilities",
           "NextEra Energy"
          ],
          [
           "Utilities",
           "NiSource"
          ],
          [
           "Utilities",
           "NRG Energy"
          ],
          [
           "Utilities",
           "PG&E Corporation"
          ],
          [
           "Utilities",
           "Public Service Enterprise Group"
          ],
          [
           "Utilities",
           "Pinnacle West"
          ],
          [
           "Utilities",
           "PPL Corporation"
          ],
          [
           "Utilities",
           "Southern Company"
          ],
          [
           "Utilities",
           "Sempra"
          ],
          [
           "Utilities",
           "Vistra Corp."
          ]
         ],
         "hovertemplate": "<b>%{hovertext}</b><br><br>Sector=%{customdata[0]}<br>Volatility=%{x}<br>Return=%{y}<br>Security=%{customdata[1]}<extra></extra>",
         "hovertext": [
          "AEE",
          "AEP",
          "AES",
          "ATO",
          "AWK",
          "CEG",
          "CNP",
          "D",
          "DTE",
          "DUK",
          "ED",
          "EIX",
          "ES",
          "ETR",
          "EVRG",
          "EXC",
          "FE",
          "LNT",
          "NEE",
          "NI",
          "NRG",
          "PCG",
          "PEG",
          "PNW",
          "PPL",
          "SO",
          "SRE",
          "VST"
         ],
         "legendgroup": "Utilities",
         "marker": {
          "color": "#FFA15A",
          "symbol": "circle"
         },
         "mode": "markers",
         "name": "Utilities",
         "orientation": "v",
         "showlegend": true,
         "type": "scatter",
         "x": [
          0.164,
          0.174,
          0.373,
          0.14,
          0.195,
          0.547,
          0.204,
          0.226,
          0.18,
          0.159,
          0.164,
          0.169,
          0.205,
          0.241,
          0.156,
          0.17,
          0.141,
          0.165,
          0.258,
          0.148,
          0.372,
          0.182,
          0.172,
          0.17,
          0.153,
          0.164,
          0.171,
          0.598
         ],
         "xaxis": "x",
         "y": [
          0.278,
          0.253,
          -0.055,
          0.298,
          0.214,
          0.967,
          0.074,
          0.342,
          0.191,
          0.304,
          0.203,
          0.269,
          0.161,
          0.55,
          0.259,
          0.119,
          0.16,
          0.274,
          0.467,
          0.425,
          0.782,
          0.251,
          0.548,
          0.313,
          0.292,
          0.407,
          0.214,
          1.345
         ],
         "yaxis": "y"
        },
        {
         "customdata": [
          [
           "Financials",
           "Aflac"
          ],
          [
           "Financials",
           "American International Group"
          ],
          [
           "Financials",
           "Assurant"
          ],
          [
           "Financials",
           "Arthur J. Gallagher & Co."
          ],
          [
           "Financials",
           "Allstate"
          ],
          [
           "Financials",
           "Ameriprise Financial"
          ],
          [
           "Financials",
           "Aon"
          ],
          [
           "Financials",
           "American Express"
          ],
          [
           "Financials",
           "Bank of America"
          ],
          [
           "Financials",
           "Franklin Resources"
          ],
          [
           "Financials",
           "BNY Mellon"
          ],
          [
           "Financials",
           "BlackRock"
          ],
          [
           "Financials",
           "Brown & Brown"
          ],
          [
           "Financials",
           "Blackstone Inc."
          ],
          [
           "Financials",
           "Citigroup"
          ],
          [
           "Financials",
           "Chubb Limited"
          ],
          [
           "Financials",
           "Cboe Global Markets"
          ],
          [
           "Financials",
           "Citizens Financial Group"
          ],
          [
           "Financials",
           "Cincinnati Financial"
          ],
          [
           "Financials",
           "CME Group"
          ],
          [
           "Financials",
           "Capital One"
          ],
          [
           "Financials",
           "Discover Financial"
          ],
          [
           "Financials",
           "Everest Group"
          ],
          [
           "Financials",
           "Erie Indemnity"
          ],
          [
           "Financials",
           "FactSet"
          ],
          [
           "Financials",
           "Fidelity National Information Services"
          ],
          [
           "Financials",
           "Fifth Third Bancorp"
          ],
          [
           "Financials",
           "Globe Life"
          ],
          [
           "Financials",
           "Global Payments"
          ],
          [
           "Financials",
           "Goldman Sachs"
          ],
          [
           "Financials",
           "Huntington Bancshares"
          ],
          [
           "Financials",
           "Hartford (The)"
          ],
          [
           "Financials",
           "Invesco"
          ],
          [
           "Financials",
           "Jack Henry & Associates"
          ],
          [
           "Financials",
           "JPMorgan Chase"
          ],
          [
           "Financials",
           "KeyCorp"
          ],
          [
           "Financials",
           "KKR"
          ],
          [
           "Financials",
           "Loews Corporation"
          ],
          [
           "Financials",
           "Moody's Corporation"
          ],
          [
           "Financials",
           "MetLife"
          ],
          [
           "Financials",
           "MarketAxess"
          ],
          [
           "Financials",
           "Marsh McLennan"
          ],
          [
           "Financials",
           "Morgan Stanley"
          ],
          [
           "Financials",
           "MSCI"
          ],
          [
           "Financials",
           "M&T Bank"
          ],
          [
           "Financials",
           "Nasdaq, Inc."
          ],
          [
           "Financials",
           "Northern Trust"
          ],
          [
           "Financials",
           "Principal Financial Group"
          ],
          [
           "Financials",
           "Progressive Corporation"
          ],
          [
           "Financials",
           "PNC Financial Services"
          ],
          [
           "Financials",
           "Prudential Financial"
          ],
          [
           "Financials",
           "Regions Financial Corporation"
          ],
          [
           "Financials",
           "Raymond James Financial"
          ],
          [
           "Financials",
           "Charles Schwab Corporation"
          ],
          [
           "Financials",
           "S&P Global"
          ],
          [
           "Financials",
           "State Street Corporation"
          ],
          [
           "Financials",
           "Synchrony Financial"
          ],
          [
           "Financials",
           "Truist Financial"
          ],
          [
           "Financials",
           "T. Rowe Price"
          ],
          [
           "Financials",
           "Travelers Companies (The)"
          ],
          [
           "Financials",
           "U.S. Bancorp"
          ],
          [
           "Financials",
           "Visa Inc."
          ],
          [
           "Financials",
           "Wells Fargo"
          ],
          [
           "Financials",
           "W. R. Berkley Corporation"
          ]
         ],
         "hovertemplate": "<b>%{hovertext}</b><br><br>Sector=%{customdata[0]}<br>Volatility=%{x}<br>Return=%{y}<br>Security=%{customdata[1]}<extra></extra>",
         "hovertext": [
          "AFL",
          "AIG",
          "AIZ",
          "AJG",
          "ALL",
          "AMP",
          "AON",
          "AXP",
          "BAC",
          "BEN",
          "BK",
          "BLK",
          "BRO",
          "BX",
          "C",
          "CB",
          "CBOE",
          "CFG",
          "CINF",
          "CME",
          "COF",
          "DFS",
          "EG",
          "ERIE",
          "FDS",
          "FIS",
          "FITB",
          "GL",
          "GPN",
          "GS",
          "HBAN",
          "HIG",
          "IVZ",
          "JKHY",
          "JPM",
          "KEY",
          "KKR",
          "L",
          "MCO",
          "MET",
          "MKTX",
          "MMC",
          "MS",
          "MSCI",
          "MTB",
          "NDAQ",
          "NTRS",
          "PFG",
          "PGR",
          "PNC",
          "PRU",
          "RF",
          "RJF",
          "SCHW",
          "SPGI",
          "STT",
          "SYF",
          "TFC",
          "TROW",
          "TRV",
          "USB",
          "V",
          "WFC",
          "WRB"
         ],
         "legendgroup": "Financials",
         "marker": {
          "color": "#19d3f3",
          "symbol": "circle"
         },
         "mode": "markers",
         "name": "Financials",
         "orientation": "v",
         "showlegend": true,
         "type": "scatter",
         "x": [
          0.181,
          0.214,
          0.186,
          0.171,
          0.215,
          0.191,
          0.199,
          0.232,
          0.219,
          0.297,
          0.177,
          0.183,
          0.167,
          0.284,
          0.267,
          0.187,
          0.212,
          0.268,
          0.213,
          0.158,
          0.271,
          0.288,
          0.252,
          0.283,
          0.221,
          0.204,
          0.234,
          0.999,
          0.302,
          0.231,
          0.247,
          0.212,
          0.282,
          0.178,
          0.221,
          0.308,
          0.315,
          0.161,
          0.184,
          0.204,
          0.302,
          0.131,
          0.242,
          0.28,
          0.241,
          0.193,
          0.237,
          0.216,
          0.201,
          0.228,
          0.226,
          0.233,
          0.228,
          0.262,
          0.154,
          0.211,
          0.309,
          0.246,
          0.22,
          0.248,
          0.237,
          0.172,
          0.257,
          0.218
         ],
         "xaxis": "x",
         "y": [
          0.392,
          0.096,
          0.112,
          0.202,
          0.22,
          0.33,
          0.218,
          0.342,
          0.311,
          -0.369,
          0.443,
          0.276,
          0.31,
          0.429,
          0.202,
          0.144,
          0.056,
          0.445,
          0.323,
          0.04,
          0.271,
          0.29,
          -0.07,
          0.294,
          -0.034,
          0.464,
          0.381,
          -0.264,
          -0.358,
          0.414,
          0.285,
          0.203,
          0.196,
          0.052,
          0.283,
          0.285,
          0.526,
          0.08,
          0.242,
          0.186,
          0.427,
          0.108,
          0.436,
          0.005,
          0.498,
          0.393,
          0.312,
          0.045,
          0.347,
          0.376,
          0.19,
          0.387,
          0.319,
          0.138,
          0.142,
          0.338,
          0.454,
          0.299,
          0.006,
          0.154,
          0.234,
          0.025,
          0.273,
          0.018
         ],
         "yaxis": "y"
        },
        {
         "customdata": [
          [
           "Materials",
           "Albemarle Corporation"
          ],
          [
           "Materials",
           "Amcor"
          ],
          [
           "Materials",
           "Air Products"
          ],
          [
           "Materials",
           "Avery Dennison"
          ],
          [
           "Materials",
           "Celanese"
          ],
          [
           "Materials",
           "CF Industries"
          ],
          [
           "Materials",
           "Corteva"
          ],
          [
           "Materials",
           "DuPont"
          ],
          [
           "Materials",
           "Dow Inc."
          ],
          [
           "Materials",
           "Ecolab"
          ],
          [
           "Materials",
           "Eastman Chemical Company"
          ],
          [
           "Materials",
           "Freeport-McMoRan"
          ],
          [
           "Materials",
           "FMC Corporation"
          ],
          [
           "Materials",
           "International Flavors & Fragrances"
          ],
          [
           "Materials",
           "Linde plc"
          ],
          [
           "Materials",
           "LyondellBasell"
          ],
          [
           "Materials",
           "Martin Marietta Materials"
          ],
          [
           "Materials",
           "Mosaic Company (The)"
          ],
          [
           "Materials",
           "Newmont"
          ],
          [
           "Materials",
           "Nucor"
          ],
          [
           "Materials",
           "Packaging Corporation of America"
          ],
          [
           "Materials",
           "PPG Industries"
          ],
          [
           "Materials",
           "Sherwin-Williams"
          ],
          [
           "Materials",
           "Steel Dynamics"
          ],
          [
           "Materials",
           "Vulcan Materials Company"
          ]
         ],
         "hovertemplate": "<b>%{hovertext}</b><br><br>Sector=%{customdata[0]}<br>Volatility=%{x}<br>Return=%{y}<br>Security=%{customdata[1]}<extra></extra>",
         "hovertext": [
          "ALB",
          "AMCR",
          "APD",
          "AVY",
          "CE",
          "CF",
          "CTVA",
          "DD",
          "DOW",
          "ECL",
          "EMN",
          "FCX",
          "FMC",
          "IFF",
          "LIN",
          "LYB",
          "MLM",
          "MOS",
          "NEM",
          "NUE",
          "PKG",
          "PPG",
          "SHW",
          "STLD",
          "VMC"
         ],
         "legendgroup": "Materials",
         "marker": {
          "color": "#FF6692",
          "symbol": "circle"
         },
         "mode": "markers",
         "name": "Materials",
         "orientation": "v",
         "showlegend": true,
         "type": "scatter",
         "x": [
          0.604,
          0.233,
          0.247,
          0.184,
          0.28,
          0.279,
          0.219,
          0.205,
          0.19,
          0.177,
          0.221,
          0.363,
          0.414,
          0.226,
          0.143,
          0.187,
          0.24,
          0.311,
          0.378,
          0.284,
          0.189,
          0.183,
          0.213,
          0.286,
          0.235
         ],
         "xaxis": "x",
         "y": [
          -0.304,
          0.15,
          0.413,
          -0.049,
          -0.242,
          0.058,
          0.157,
          0.245,
          -0.19,
          0.144,
          0.243,
          0.237,
          0.275,
          0.301,
          0.031,
          -0.182,
          0.099,
          -0.212,
          0.537,
          -0.409,
          0.391,
          -0.207,
          0.168,
          0.053,
          0.084
         ],
         "yaxis": "y"
        },
        {
         "customdata": [
          [
           "Real Estate",
           "American Tower"
          ],
          [
           "Real Estate",
           "Alexandria Real Estate Equities"
          ],
          [
           "Real Estate",
           "AvalonBay Communities"
          ],
          [
           "Real Estate",
           "BXP, Inc."
          ],
          [
           "Real Estate",
           "Crown Castle"
          ],
          [
           "Real Estate",
           "Camden Property Trust"
          ],
          [
           "Real Estate",
           "Digital Realty"
          ],
          [
           "Real Estate",
           "Healthpeak Properties"
          ],
          [
           "Real Estate",
           "Equinix"
          ],
          [
           "Real Estate",
           "Equity Residential"
          ],
          [
           "Real Estate",
           "Essex Property Trust"
          ],
          [
           "Real Estate",
           "Extra Space Storage"
          ],
          [
           "Real Estate",
           "Federal Realty Investment Trust"
          ],
          [
           "Real Estate",
           "Host Hotels & Resorts"
          ],
          [
           "Real Estate",
           "Invitation Homes"
          ],
          [
           "Real Estate",
           "Iron Mountain"
          ],
          [
           "Real Estate",
           "Mid-America Apartment Communities"
          ],
          [
           "Real Estate",
           "Realty Income"
          ],
          [
           "Real Estate",
           "Prologis"
          ],
          [
           "Real Estate",
           "Public Storage"
          ],
          [
           "Real Estate",
           "Regency Centers"
          ],
          [
           "Real Estate",
           "SBA Communications"
          ],
          [
           "Real Estate",
           "Simon Property Group"
          ],
          [
           "Real Estate",
           "UDR, Inc."
          ],
          [
           "Real Estate",
           "Vici Properties"
          ],
          [
           "Real Estate",
           "Ventas"
          ],
          [
           "Real Estate",
           "Welltower"
          ],
          [
           "Real Estate",
           "Weyerhaeuser"
          ]
         ],
         "hovertemplate": "<b>%{hovertext}</b><br><br>Sector=%{customdata[0]}<br>Volatility=%{x}<br>Return=%{y}<br>Security=%{customdata[1]}<extra></extra>",
         "hovertext": [
          "AMT",
          "ARE",
          "AVB",
          "BXP",
          "CCI",
          "CPT",
          "DLR",
          "DOC",
          "EQIX",
          "EQR",
          "ESS",
          "EXR",
          "FRT",
          "HST",
          "INVH",
          "IRM",
          "MAA",
          "O",
          "PLD",
          "PSA",
          "REG",
          "SBAC",
          "SPG",
          "UDR",
          "VICI",
          "VTR",
          "WELL",
          "WY"
         ],
         "legendgroup": "Real Estate",
         "marker": {
          "color": "#B6E880",
          "symbol": "circle"
         },
         "mode": "markers",
         "name": "Real Estate",
         "orientation": "v",
         "showlegend": true,
         "type": "scatter",
         "x": [
          0.243,
          0.251,
          0.172,
          0.298,
          0.221,
          0.202,
          0.249,
          0.22,
          0.252,
          0.19,
          0.2,
          0.254,
          0.178,
          0.226,
          0.208,
          0.235,
          0.196,
          0.164,
          0.251,
          0.225,
          0.176,
          0.272,
          0.213,
          0.182,
          0.186,
          0.2,
          0.171,
          0.223
         ],
         "xaxis": "x",
         "y": [
          0.177,
          -0.121,
          0.325,
          0.31,
          -0.009,
          0.248,
          0.371,
          0.446,
          0.05,
          0.217,
          0.293,
          0.226,
          0.186,
          -0.227,
          -0.08,
          0.722,
          0.262,
          0.168,
          -0.212,
          0.205,
          0.249,
          0.114,
          0.17,
          0.226,
          0.094,
          0.557,
          0.531,
          -0.085
         ],
         "yaxis": "y"
        },
        {
         "customdata": [
          [
           "Energy",
           "APA Corporation"
          ],
          [
           "Energy",
           "Baker Hughes"
          ],
          [
           "Energy",
           "Coterra"
          ],
          [
           "Energy",
           "Chevron Corporation"
          ],
          [
           "Energy",
           "Devon Energy"
          ],
          [
           "Energy",
           "EOG Resources"
          ],
          [
           "Energy",
           "EQT Corporation"
          ],
          [
           "Energy",
           "Diamondback Energy"
          ],
          [
           "Energy",
           "Halliburton"
          ],
          [
           "Energy",
           "Hess Corporation"
          ],
          [
           "Energy",
           "Kinder Morgan"
          ],
          [
           "Energy",
           "Marathon Petroleum"
          ],
          [
           "Energy",
           "Marathon Oil"
          ],
          [
           "Energy",
           "ONEOK"
          ],
          [
           "Energy",
           "Occidental Petroleum"
          ],
          [
           "Energy",
           "Phillips 66"
          ],
          [
           "Energy",
           "Schlumberger"
          ],
          [
           "Energy",
           "Targa Resources"
          ],
          [
           "Energy",
           "Valero Energy"
          ],
          [
           "Energy",
           "Williams Companies"
          ],
          [
           "Energy",
           "ExxonMobil"
          ]
         ],
         "hovertemplate": "<b>%{hovertext}</b><br><br>Sector=%{customdata[0]}<br>Volatility=%{x}<br>Return=%{y}<br>Security=%{customdata[1]}<extra></extra>",
         "hovertext": [
          "APA",
          "BKR",
          "CTRA",
          "CVX",
          "DVN",
          "EOG",
          "EQT",
          "FANG",
          "HAL",
          "HES",
          "KMI",
          "MPC",
          "MRO",
          "OKE",
          "OXY",
          "PSX",
          "SLB",
          "TRGP",
          "VLO",
          "WMB",
          "XOM"
         ],
         "legendgroup": "Energy",
         "marker": {
          "color": "#FF97FF",
          "symbol": "circle"
         },
         "mode": "markers",
         "name": "Energy",
         "orientation": "v",
         "showlegend": true,
         "type": "scatter",
         "x": [
          0.346,
          0.255,
          0.208,
          0.19,
          0.249,
          0.208,
          0.294,
          0.271,
          0.269,
          0.233,
          0.169,
          0.3,
          0.253,
          0.187,
          0.215,
          0.262,
          0.253,
          0.209,
          0.303,
          0.18,
          0.191
         ],
         "xaxis": "x",
         "y": [
          -0.333,
          0.337,
          -0.139,
          0.001,
          -0.169,
          0.131,
          -0.012,
          0.015,
          -0.33,
          -0.088,
          0.508,
          -0.217,
          0.211,
          0.395,
          -0.251,
          -0.268,
          -0.279,
          0.786,
          -0.128,
          0.587,
          0.178
         ],
         "yaxis": "y"
        },
        {
         "customdata": [
          [
           "Consumer Discretionary",
           "Best Buy"
          ],
          [
           "Consumer Discretionary",
           "Booking Holdings"
          ],
          [
           "Consumer Discretionary",
           "BorgWarner"
          ],
          [
           "Consumer Discretionary",
           "D. R. Horton"
          ],
          [
           "Consumer Discretionary",
           "Domino's"
          ],
          [
           "Consumer Discretionary",
           "Darden Restaurants"
          ],
          [
           "Consumer Discretionary",
           "eBay"
          ],
          [
           "Consumer Discretionary",
           "Ford Motor Company"
          ],
          [
           "Consumer Discretionary",
           "General Motors"
          ],
          [
           "Consumer Discretionary",
           "Genuine Parts Company"
          ],
          [
           "Consumer Discretionary",
           "Garmin"
          ],
          [
           "Consumer Discretionary",
           "Hasbro"
          ],
          [
           "Consumer Discretionary",
           "Home Depot (The)"
          ],
          [
           "Consumer Discretionary",
           "Hilton Worldwide"
          ],
          [
           "Consumer Discretionary",
           "Lennar"
          ],
          [
           "Consumer Discretionary",
           "LKQ Corporation"
          ],
          [
           "Consumer Discretionary",
           "Lowe's"
          ],
          [
           "Consumer Discretionary",
           "Las Vegas Sands"
          ],
          [
           "Consumer Discretionary",
           "Marriott International"
          ],
          [
           "Consumer Discretionary",
           "McDonald's"
          ],
          [
           "Consumer Discretionary",
           "Nike, Inc."
          ],
          [
           "Consumer Discretionary",
           "PulteGroup"
          ],
          [
           "Consumer Discretionary",
           "Pool Corporation"
          ],
          [
           "Consumer Discretionary",
           "Royal Caribbean Group"
          ],
          [
           "Consumer Discretionary",
           "Ralph Lauren Corporation"
          ],
          [
           "Consumer Discretionary",
           "Ross Stores"
          ],
          [
           "Consumer Discretionary",
           "Starbucks"
          ],
          [
           "Consumer Discretionary",
           "TJX Companies"
          ],
          [
           "Consumer Discretionary",
           "Tapestry, Inc."
          ],
          [
           "Consumer Discretionary",
           "Tractor Supply"
          ],
          [
           "Consumer Discretionary",
           "Wynn Resorts"
          ],
          [
           "Consumer Discretionary",
           "Yum! Brands"
          ]
         ],
         "hovertemplate": "<b>%{hovertext}</b><br><br>Sector=%{customdata[0]}<br>Volatility=%{x}<br>Return=%{y}<br>Security=%{customdata[1]}<extra></extra>",
         "hovertext": [
          "BBY",
          "BKNG",
          "BWA",
          "DHI",
          "DPZ",
          "DRI",
          "EBAY",
          "F",
          "GM",
          "GPC",
          "GRMN",
          "HAS",
          "HD",
          "HLT",
          "LEN",
          "LKQ",
          "LOW",
          "LVS",
          "MAR",
          "MCD",
          "NKE",
          "PHM",
          "POOL",
          "RCL",
          "RL",
          "ROST",
          "SBUX",
          "TJX",
          "TPR",
          "TSCO",
          "WYNN",
          "YUM"
         ],
         "legendgroup": "Consumer Discretionary",
         "marker": {
          "color": "#FECB52",
          "symbol": "circle"
         },
         "mode": "markers",
         "name": "Consumer Discretionary",
         "orientation": "v",
         "showlegend": true,
         "type": "scatter",
         "x": [
          0.332,
          0.246,
          0.293,
          0.335,
          0.304,
          0.234,
          0.25,
          0.394,
          0.307,
          0.373,
          0.355,
          0.286,
          0.203,
          0.189,
          0.311,
          0.325,
          0.217,
          0.297,
          0.201,
          0.188,
          0.372,
          0.316,
          0.304,
          0.334,
          0.284,
          0.216,
          0.411,
          0.178,
          0.319,
          0.25,
          0.289,
          0.162
         ],
         "xaxis": "x",
         "y": [
          0.245,
          0.423,
          0.146,
          0.225,
          -0.039,
          -0.081,
          0.39,
          -0.225,
          0.378,
          -0.368,
          0.543,
          0.388,
          0.091,
          0.21,
          0.148,
          -0.491,
          0.182,
          -0.065,
          0.053,
          -0.012,
          -0.444,
          0.307,
          -0.076,
          0.742,
          0.057,
          -0.087,
          0.047,
          0.187,
          -0.044,
          0.151,
          -0.113,
          -0.061
         ],
         "yaxis": "y"
        },
        {
         "customdata": [
          [
           "Communication Services",
           "Comcast"
          ],
          [
           "Communication Services",
           "Walt Disney Company (The)"
          ],
          [
           "Communication Services",
           "Electronic Arts"
          ],
          [
           "Communication Services",
           "Fox Corporation (Class B)"
          ],
          [
           "Communication Services",
           "Fox Corporation (Class A)"
          ],
          [
           "Communication Services",
           "Alphabet Inc. (Class C)"
          ],
          [
           "Communication Services",
           "Alphabet Inc. (Class A)"
          ],
          [
           "Communication Services",
           "Interpublic Group of Companies (The)"
          ],
          [
           "Communication Services",
           "Meta Platforms"
          ],
          [
           "Communication Services",
           "News Corp (Class B)"
          ],
          [
           "Communication Services",
           "News Corp (Class A)"
          ],
          [
           "Communication Services",
           "Omnicom Group"
          ],
          [
           "Communication Services",
           "Paramount Global"
          ],
          [
           "Communication Services",
           "AT&T"
          ],
          [
           "Communication Services",
           "T-Mobile US"
          ],
          [
           "Communication Services",
           "Verizon"
          ]
         ],
         "hovertemplate": "<b>%{hovertext}</b><br><br>Sector=%{customdata[0]}<br>Volatility=%{x}<br>Return=%{y}<br>Security=%{customdata[1]}<extra></extra>",
         "hovertext": [
          "CMCSA",
          "DIS",
          "EA",
          "FOX",
          "FOXA",
          "GOOG",
          "GOOGL",
          "IPG",
          "META",
          "NWS",
          "NWSA",
          "OMC",
          "PARA",
          "T",
          "TMUS",
          "VZ"
         ],
         "legendgroup": "Communication Services",
         "marker": {
          "color": "#636efa",
          "symbol": "circle"
         },
         "mode": "markers",
         "name": "Communication Services",
         "orientation": "v",
         "showlegend": true,
         "type": "scatter",
         "x": [
          0.211,
          0.231,
          0.182,
          0.175,
          0.179,
          0.265,
          0.266,
          0.204,
          0.32,
          0.204,
          0.202,
          0.204,
          0.54,
          0.194,
          0.167,
          0.21
         ],
         "xaxis": "x",
         "y": [
          0.075,
          -0.172,
          0.066,
          0.485,
          0.465,
          0.247,
          0.247,
          -0.123,
          0.227,
          0.067,
          0.034,
          0.197,
          -0.043,
          0.413,
          0.439,
          0.038
         ],
         "yaxis": "y"
        }
       ],
       "layout": {
        "height": 500,
        "legend": {
         "title": {
          "text": "Sector"
         },
         "tracegroupgap": 0
        },
        "template": {
         "data": {
          "bar": [
           {
            "error_x": {
             "color": "#f2f5fa"
            },
            "error_y": {
             "color": "#f2f5fa"
            },
            "marker": {
             "line": {
              "color": "rgb(17,17,17)",
              "width": 0.5
             },
             "pattern": {
              "fillmode": "overlay",
              "size": 10,
              "solidity": 0.2
             }
            },
            "type": "bar"
           }
          ],
          "barpolar": [
           {
            "marker": {
             "line": {
              "color": "rgb(17,17,17)",
              "width": 0.5
             },
             "pattern": {
              "fillmode": "overlay",
              "size": 10,
              "solidity": 0.2
             }
            },
            "type": "barpolar"
           }
          ],
          "carpet": [
           {
            "aaxis": {
             "endlinecolor": "#A2B1C6",
             "gridcolor": "#506784",
             "linecolor": "#506784",
             "minorgridcolor": "#506784",
             "startlinecolor": "#A2B1C6"
            },
            "baxis": {
             "endlinecolor": "#A2B1C6",
             "gridcolor": "#506784",
             "linecolor": "#506784",
             "minorgridcolor": "#506784",
             "startlinecolor": "#A2B1C6"
            },
            "type": "carpet"
           }
          ],
          "choropleth": [
           {
            "colorbar": {
             "outlinewidth": 0,
             "ticks": ""
            },
            "type": "choropleth"
           }
          ],
          "contour": [
           {
            "colorbar": {
             "outlinewidth": 0,
             "ticks": ""
            },
            "colorscale": [
             [
              0,
              "#0d0887"
             ],
             [
              0.1111111111111111,
              "#46039f"
             ],
             [
              0.2222222222222222,
              "#7201a8"
             ],
             [
              0.3333333333333333,
              "#9c179e"
             ],
             [
              0.4444444444444444,
              "#bd3786"
             ],
             [
              0.5555555555555556,
              "#d8576b"
             ],
             [
              0.6666666666666666,
              "#ed7953"
             ],
             [
              0.7777777777777778,
              "#fb9f3a"
             ],
             [
              0.8888888888888888,
              "#fdca26"
             ],
             [
              1,
              "#f0f921"
             ]
            ],
            "type": "contour"
           }
          ],
          "contourcarpet": [
           {
            "colorbar": {
             "outlinewidth": 0,
             "ticks": ""
            },
            "type": "contourcarpet"
           }
          ],
          "heatmap": [
           {
            "colorbar": {
             "outlinewidth": 0,
             "ticks": ""
            },
            "colorscale": [
             [
              0,
              "#0d0887"
             ],
             [
              0.1111111111111111,
              "#46039f"
             ],
             [
              0.2222222222222222,
              "#7201a8"
             ],
             [
              0.3333333333333333,
              "#9c179e"
             ],
             [
              0.4444444444444444,
              "#bd3786"
             ],
             [
              0.5555555555555556,
              "#d8576b"
             ],
             [
              0.6666666666666666,
              "#ed7953"
             ],
             [
              0.7777777777777778,
              "#fb9f3a"
             ],
             [
              0.8888888888888888,
              "#fdca26"
             ],
             [
              1,
              "#f0f921"
             ]
            ],
            "type": "heatmap"
           }
          ],
          "heatmapgl": [
           {
            "colorbar": {
             "outlinewidth": 0,
             "ticks": ""
            },
            "colorscale": [
             [
              0,
              "#0d0887"
             ],
             [
              0.1111111111111111,
              "#46039f"
             ],
             [
              0.2222222222222222,
              "#7201a8"
             ],
             [
              0.3333333333333333,
              "#9c179e"
             ],
             [
              0.4444444444444444,
              "#bd3786"
             ],
             [
              0.5555555555555556,
              "#d8576b"
             ],
             [
              0.6666666666666666,
              "#ed7953"
             ],
             [
              0.7777777777777778,
              "#fb9f3a"
             ],
             [
              0.8888888888888888,
              "#fdca26"
             ],
             [
              1,
              "#f0f921"
             ]
            ],
            "type": "heatmapgl"
           }
          ],
          "histogram": [
           {
            "marker": {
             "pattern": {
              "fillmode": "overlay",
              "size": 10,
              "solidity": 0.2
             }
            },
            "type": "histogram"
           }
          ],
          "histogram2d": [
           {
            "colorbar": {
             "outlinewidth": 0,
             "ticks": ""
            },
            "colorscale": [
             [
              0,
              "#0d0887"
             ],
             [
              0.1111111111111111,
              "#46039f"
             ],
             [
              0.2222222222222222,
              "#7201a8"
             ],
             [
              0.3333333333333333,
              "#9c179e"
             ],
             [
              0.4444444444444444,
              "#bd3786"
             ],
             [
              0.5555555555555556,
              "#d8576b"
             ],
             [
              0.6666666666666666,
              "#ed7953"
             ],
             [
              0.7777777777777778,
              "#fb9f3a"
             ],
             [
              0.8888888888888888,
              "#fdca26"
             ],
             [
              1,
              "#f0f921"
             ]
            ],
            "type": "histogram2d"
           }
          ],
          "histogram2dcontour": [
           {
            "colorbar": {
             "outlinewidth": 0,
             "ticks": ""
            },
            "colorscale": [
             [
              0,
              "#0d0887"
             ],
             [
              0.1111111111111111,
              "#46039f"
             ],
             [
              0.2222222222222222,
              "#7201a8"
             ],
             [
              0.3333333333333333,
              "#9c179e"
             ],
             [
              0.4444444444444444,
              "#bd3786"
             ],
             [
              0.5555555555555556,
              "#d8576b"
             ],
             [
              0.6666666666666666,
              "#ed7953"
             ],
             [
              0.7777777777777778,
              "#fb9f3a"
             ],
             [
              0.8888888888888888,
              "#fdca26"
             ],
             [
              1,
              "#f0f921"
             ]
            ],
            "type": "histogram2dcontour"
           }
          ],
          "mesh3d": [
           {
            "colorbar": {
             "outlinewidth": 0,
             "ticks": ""
            },
            "type": "mesh3d"
           }
          ],
          "parcoords": [
           {
            "line": {
             "colorbar": {
              "outlinewidth": 0,
              "ticks": ""
             }
            },
            "type": "parcoords"
           }
          ],
          "pie": [
           {
            "automargin": true,
            "type": "pie"
           }
          ],
          "scatter": [
           {
            "marker": {
             "line": {
              "color": "#283442"
             }
            },
            "type": "scatter"
           }
          ],
          "scatter3d": [
           {
            "line": {
             "colorbar": {
              "outlinewidth": 0,
              "ticks": ""
             }
            },
            "marker": {
             "colorbar": {
              "outlinewidth": 0,
              "ticks": ""
             }
            },
            "type": "scatter3d"
           }
          ],
          "scattercarpet": [
           {
            "marker": {
             "colorbar": {
              "outlinewidth": 0,
              "ticks": ""
             }
            },
            "type": "scattercarpet"
           }
          ],
          "scattergeo": [
           {
            "marker": {
             "colorbar": {
              "outlinewidth": 0,
              "ticks": ""
             }
            },
            "type": "scattergeo"
           }
          ],
          "scattergl": [
           {
            "marker": {
             "line": {
              "color": "#283442"
             }
            },
            "type": "scattergl"
           }
          ],
          "scattermapbox": [
           {
            "marker": {
             "colorbar": {
              "outlinewidth": 0,
              "ticks": ""
             }
            },
            "type": "scattermapbox"
           }
          ],
          "scatterpolar": [
           {
            "marker": {
             "colorbar": {
              "outlinewidth": 0,
              "ticks": ""
             }
            },
            "type": "scatterpolar"
           }
          ],
          "scatterpolargl": [
           {
            "marker": {
             "colorbar": {
              "outlinewidth": 0,
              "ticks": ""
             }
            },
            "type": "scatterpolargl"
           }
          ],
          "scatterternary": [
           {
            "marker": {
             "colorbar": {
              "outlinewidth": 0,
              "ticks": ""
             }
            },
            "type": "scatterternary"
           }
          ],
          "surface": [
           {
            "colorbar": {
             "outlinewidth": 0,
             "ticks": ""
            },
            "colorscale": [
             [
              0,
              "#0d0887"
             ],
             [
              0.1111111111111111,
              "#46039f"
             ],
             [
              0.2222222222222222,
              "#7201a8"
             ],
             [
              0.3333333333333333,
              "#9c179e"
             ],
             [
              0.4444444444444444,
              "#bd3786"
             ],
             [
              0.5555555555555556,
              "#d8576b"
             ],
             [
              0.6666666666666666,
              "#ed7953"
             ],
             [
              0.7777777777777778,
              "#fb9f3a"
             ],
             [
              0.8888888888888888,
              "#fdca26"
             ],
             [
              1,
              "#f0f921"
             ]
            ],
            "type": "surface"
           }
          ],
          "table": [
           {
            "cells": {
             "fill": {
              "color": "#506784"
             },
             "line": {
              "color": "rgb(17,17,17)"
             }
            },
            "header": {
             "fill": {
              "color": "#2a3f5f"
             },
             "line": {
              "color": "rgb(17,17,17)"
             }
            },
            "type": "table"
           }
          ]
         },
         "layout": {
          "annotationdefaults": {
           "arrowcolor": "#f2f5fa",
           "arrowhead": 0,
           "arrowwidth": 1
          },
          "autotypenumbers": "strict",
          "coloraxis": {
           "colorbar": {
            "outlinewidth": 0,
            "ticks": ""
           }
          },
          "colorscale": {
           "diverging": [
            [
             0,
             "#8e0152"
            ],
            [
             0.1,
             "#c51b7d"
            ],
            [
             0.2,
             "#de77ae"
            ],
            [
             0.3,
             "#f1b6da"
            ],
            [
             0.4,
             "#fde0ef"
            ],
            [
             0.5,
             "#f7f7f7"
            ],
            [
             0.6,
             "#e6f5d0"
            ],
            [
             0.7,
             "#b8e186"
            ],
            [
             0.8,
             "#7fbc41"
            ],
            [
             0.9,
             "#4d9221"
            ],
            [
             1,
             "#276419"
            ]
           ],
           "sequential": [
            [
             0,
             "#0d0887"
            ],
            [
             0.1111111111111111,
             "#46039f"
            ],
            [
             0.2222222222222222,
             "#7201a8"
            ],
            [
             0.3333333333333333,
             "#9c179e"
            ],
            [
             0.4444444444444444,
             "#bd3786"
            ],
            [
             0.5555555555555556,
             "#d8576b"
            ],
            [
             0.6666666666666666,
             "#ed7953"
            ],
            [
             0.7777777777777778,
             "#fb9f3a"
            ],
            [
             0.8888888888888888,
             "#fdca26"
            ],
            [
             1,
             "#f0f921"
            ]
           ],
           "sequentialminus": [
            [
             0,
             "#0d0887"
            ],
            [
             0.1111111111111111,
             "#46039f"
            ],
            [
             0.2222222222222222,
             "#7201a8"
            ],
            [
             0.3333333333333333,
             "#9c179e"
            ],
            [
             0.4444444444444444,
             "#bd3786"
            ],
            [
             0.5555555555555556,
             "#d8576b"
            ],
            [
             0.6666666666666666,
             "#ed7953"
            ],
            [
             0.7777777777777778,
             "#fb9f3a"
            ],
            [
             0.8888888888888888,
             "#fdca26"
            ],
            [
             1,
             "#f0f921"
            ]
           ]
          },
          "colorway": [
           "#636efa",
           "#EF553B",
           "#00cc96",
           "#ab63fa",
           "#FFA15A",
           "#19d3f3",
           "#FF6692",
           "#B6E880",
           "#FF97FF",
           "#FECB52"
          ],
          "font": {
           "color": "#f2f5fa"
          },
          "geo": {
           "bgcolor": "rgb(17,17,17)",
           "lakecolor": "rgb(17,17,17)",
           "landcolor": "rgb(17,17,17)",
           "showlakes": true,
           "showland": true,
           "subunitcolor": "#506784"
          },
          "hoverlabel": {
           "align": "left"
          },
          "hovermode": "closest",
          "mapbox": {
           "style": "dark"
          },
          "paper_bgcolor": "rgb(17,17,17)",
          "plot_bgcolor": "rgb(17,17,17)",
          "polar": {
           "angularaxis": {
            "gridcolor": "#506784",
            "linecolor": "#506784",
            "ticks": ""
           },
           "bgcolor": "rgb(17,17,17)",
           "radialaxis": {
            "gridcolor": "#506784",
            "linecolor": "#506784",
            "ticks": ""
           }
          },
          "scene": {
           "xaxis": {
            "backgroundcolor": "rgb(17,17,17)",
            "gridcolor": "#506784",
            "gridwidth": 2,
            "linecolor": "#506784",
            "showbackground": true,
            "ticks": "",
            "zerolinecolor": "#C8D4E3"
           },
           "yaxis": {
            "backgroundcolor": "rgb(17,17,17)",
            "gridcolor": "#506784",
            "gridwidth": 2,
            "linecolor": "#506784",
            "showbackground": true,
            "ticks": "",
            "zerolinecolor": "#C8D4E3"
           },
           "zaxis": {
            "backgroundcolor": "rgb(17,17,17)",
            "gridcolor": "#506784",
            "gridwidth": 2,
            "linecolor": "#506784",
            "showbackground": true,
            "ticks": "",
            "zerolinecolor": "#C8D4E3"
           }
          },
          "shapedefaults": {
           "line": {
            "color": "#f2f5fa"
           }
          },
          "sliderdefaults": {
           "bgcolor": "#C8D4E3",
           "bordercolor": "rgb(17,17,17)",
           "borderwidth": 1,
           "tickwidth": 0
          },
          "ternary": {
           "aaxis": {
            "gridcolor": "#506784",
            "linecolor": "#506784",
            "ticks": ""
           },
           "baxis": {
            "gridcolor": "#506784",
            "linecolor": "#506784",
            "ticks": ""
           },
           "bgcolor": "rgb(17,17,17)",
           "caxis": {
            "gridcolor": "#506784",
            "linecolor": "#506784",
            "ticks": ""
           }
          },
          "title": {
           "x": 0.05
          },
          "updatemenudefaults": {
           "bgcolor": "#506784",
           "borderwidth": 0
          },
          "xaxis": {
           "automargin": true,
           "gridcolor": "#283442",
           "linecolor": "#506784",
           "ticks": "",
           "title": {
            "standoff": 15
           },
           "zerolinecolor": "#283442",
           "zerolinewidth": 2
          },
          "yaxis": {
           "automargin": true,
           "gridcolor": "#283442",
           "linecolor": "#506784",
           "ticks": "",
           "title": {
            "standoff": 15
           },
           "zerolinecolor": "#283442",
           "zerolinewidth": 2
          }
         }
        },
        "title": {
         "text": "S&P 500 dividend stocks by Volatility/Return",
         "x": 0.5
        },
        "width": 750,
        "xaxis": {
         "anchor": "y",
         "domain": [
          0,
          1
         ],
         "title": {
          "text": "Volatility"
         }
        },
        "yaxis": {
         "anchor": "x",
         "domain": [
          0,
          1
         ],
         "title": {
          "text": "Return"
         }
        }
       }
      }
     },
     "metadata": {},
     "output_type": "display_data"
    }
   ],
   "source": [
    "px.scatter(dividend_stock_data,\n",
    "           x='Volatility',\n",
    "           y='Return',\n",
    "           hover_data=['Sector','Security'],\n",
    "           hover_name='Symbol',\n",
    "           title='S&P 500 dividend stocks by Volatility/Return',\n",
    "           color='Sector',\n",
    "           width=750,\n",
    "           height=500,\n",
    "           template='plotly_dark'\n",
    "           ).update_layout(title_x=0.5)"
   ]
  },
  {
   "cell_type": "code",
   "execution_count": 21,
   "metadata": {},
   "outputs": [
    {
     "data": {
      "application/vnd.plotly.v1+json": {
       "config": {
        "plotlyServerURL": "https://plot.ly"
       },
       "data": [
        {
         "customdata": [
          [
           "Utilities",
           "AES Corporation"
          ],
          [
           "Utilities",
           "CenterPoint Energy"
          ],
          [
           "Utilities",
           "Exelon"
          ],
          [
           "Utilities",
           "NiSource"
          ],
          [
           "Utilities",
           "PG&E Corporation"
          ],
          [
           "Utilities",
           "PPL Corporation"
          ]
         ],
         "hovertemplate": "<b>%{hovertext}</b><br><br>Sector=%{customdata[0]}<br>Volatility=%{x}<br>Return=%{y}<br>Security=%{customdata[1]}<extra></extra>",
         "hovertext": [
          "AES",
          "CNP",
          "EXC",
          "NI",
          "PCG",
          "PPL"
         ],
         "legendgroup": "Utilities",
         "marker": {
          "color": "#636efa",
          "symbol": "circle"
         },
         "mode": "markers",
         "name": "Utilities",
         "orientation": "v",
         "showlegend": true,
         "type": "scatter",
         "x": [
          0.373,
          0.204,
          0.17,
          0.148,
          0.182,
          0.153
         ],
         "xaxis": "x",
         "y": [
          -0.055,
          0.074,
          0.119,
          0.425,
          0.251,
          0.292
         ],
         "yaxis": "y"
        },
        {
         "customdata": [
          [
           "Materials",
           "Amcor"
          ],
          [
           "Materials",
           "Mosaic Company (The)"
          ]
         ],
         "hovertemplate": "<b>%{hovertext}</b><br><br>Sector=%{customdata[0]}<br>Volatility=%{x}<br>Return=%{y}<br>Security=%{customdata[1]}<extra></extra>",
         "hovertext": [
          "AMCR",
          "MOS"
         ],
         "legendgroup": "Materials",
         "marker": {
          "color": "#EF553B",
          "symbol": "circle"
         },
         "mode": "markers",
         "name": "Materials",
         "orientation": "v",
         "showlegend": true,
         "type": "scatter",
         "x": [
          0.233,
          0.311
         ],
         "xaxis": "x",
         "y": [
          0.15,
          -0.212
         ],
         "yaxis": "y"
        },
        {
         "customdata": [
          [
           "Energy",
           "APA Corporation"
          ],
          [
           "Energy",
           "Baker Hughes"
          ],
          [
           "Energy",
           "Coterra"
          ],
          [
           "Energy",
           "Devon Energy"
          ],
          [
           "Energy",
           "EQT Corporation"
          ],
          [
           "Energy",
           "Halliburton"
          ],
          [
           "Energy",
           "Kinder Morgan"
          ],
          [
           "Energy",
           "Marathon Oil"
          ]
         ],
         "hovertemplate": "<b>%{hovertext}</b><br><br>Sector=%{customdata[0]}<br>Volatility=%{x}<br>Return=%{y}<br>Security=%{customdata[1]}<extra></extra>",
         "hovertext": [
          "APA",
          "BKR",
          "CTRA",
          "DVN",
          "EQT",
          "HAL",
          "KMI",
          "MRO"
         ],
         "legendgroup": "Energy",
         "marker": {
          "color": "#00cc96",
          "symbol": "circle"
         },
         "mode": "markers",
         "name": "Energy",
         "orientation": "v",
         "showlegend": true,
         "type": "scatter",
         "x": [
          0.346,
          0.255,
          0.208,
          0.249,
          0.294,
          0.269,
          0.169,
          0.253
         ],
         "xaxis": "x",
         "y": [
          -0.333,
          0.337,
          -0.139,
          -0.169,
          -0.012,
          -0.33,
          0.508,
          0.211
         ],
         "yaxis": "y"
        },
        {
         "customdata": [
          [
           "Health Care",
           "Baxter International"
          ],
          [
           "Health Care",
           "Pfizer"
          ],
          [
           "Health Care",
           "Viatris"
          ]
         ],
         "hovertemplate": "<b>%{hovertext}</b><br><br>Sector=%{customdata[0]}<br>Volatility=%{x}<br>Return=%{y}<br>Security=%{customdata[1]}<extra></extra>",
         "hovertext": [
          "BAX",
          "PFE",
          "VTRS"
         ],
         "legendgroup": "Health Care",
         "marker": {
          "color": "#ab63fa",
          "symbol": "circle"
         },
         "mode": "markers",
         "name": "Health Care",
         "orientation": "v",
         "showlegend": true,
         "type": "scatter",
         "x": [
          0.272,
          0.227,
          0.261
         ],
         "xaxis": "x",
         "y": [
          -0.235,
          0.034,
          -0.213
         ],
         "yaxis": "y"
        },
        {
         "customdata": [
          [
           "Financials",
           "Franklin Resources"
          ],
          [
           "Financials",
           "Huntington Bancshares"
          ],
          [
           "Financials",
           "Invesco"
          ],
          [
           "Financials",
           "KeyCorp"
          ],
          [
           "Financials",
           "Regions Financial Corporation"
          ]
         ],
         "hovertemplate": "<b>%{hovertext}</b><br><br>Sector=%{customdata[0]}<br>Volatility=%{x}<br>Return=%{y}<br>Security=%{customdata[1]}<extra></extra>",
         "hovertext": [
          "BEN",
          "HBAN",
          "IVZ",
          "KEY",
          "RF"
         ],
         "legendgroup": "Financials",
         "marker": {
          "color": "#FFA15A",
          "symbol": "circle"
         },
         "mode": "markers",
         "name": "Financials",
         "orientation": "v",
         "showlegend": true,
         "type": "scatter",
         "x": [
          0.297,
          0.247,
          0.282,
          0.308,
          0.233
         ],
         "xaxis": "x",
         "y": [
          -0.369,
          0.285,
          0.196,
          0.285,
          0.387
         ],
         "yaxis": "y"
        },
        {
         "customdata": [
          [
           "Consumer Discretionary",
           "BorgWarner"
          ],
          [
           "Consumer Discretionary",
           "Ford Motor Company"
          ],
          [
           "Consumer Discretionary",
           "LKQ Corporation"
          ]
         ],
         "hovertemplate": "<b>%{hovertext}</b><br><br>Sector=%{customdata[0]}<br>Volatility=%{x}<br>Return=%{y}<br>Security=%{customdata[1]}<extra></extra>",
         "hovertext": [
          "BWA",
          "F",
          "LKQ"
         ],
         "legendgroup": "Consumer Discretionary",
         "marker": {
          "color": "#19d3f3",
          "symbol": "circle"
         },
         "mode": "markers",
         "name": "Consumer Discretionary",
         "orientation": "v",
         "showlegend": true,
         "type": "scatter",
         "x": [
          0.293,
          0.394,
          0.325
         ],
         "xaxis": "x",
         "y": [
          0.146,
          -0.225,
          -0.491
         ],
         "yaxis": "y"
        },
        {
         "customdata": [
          [
           "Consumer Staples",
           "Conagra Brands"
          ],
          [
           "Consumer Staples",
           "Hormel Foods"
          ],
          [
           "Consumer Staples",
           "Keurig Dr Pepper"
          ],
          [
           "Consumer Staples",
           "Kraft Heinz"
          ],
          [
           "Consumer Staples",
           "Kenvue"
          ],
          [
           "Consumer Staples",
           "Walgreens Boots Alliance"
          ]
         ],
         "hovertemplate": "<b>%{hovertext}</b><br><br>Sector=%{customdata[0]}<br>Volatility=%{x}<br>Return=%{y}<br>Security=%{customdata[1]}<extra></extra>",
         "hovertext": [
          "CAG",
          "HRL",
          "KDP",
          "KHC",
          "KVUE",
          "WBA"
         ],
         "legendgroup": "Consumer Staples",
         "marker": {
          "color": "#FF6692",
          "symbol": "circle"
         },
         "mode": "markers",
         "name": "Consumer Staples",
         "orientation": "v",
         "showlegend": true,
         "type": "scatter",
         "x": [
          0.219,
          0.284,
          0.166,
          0.188,
          0.269,
          0.539
         ],
         "xaxis": "x",
         "y": [
          0.034,
          0.006,
          0.12,
          -0.108,
          0.252,
          -1.201
         ],
         "yaxis": "y"
        },
        {
         "customdata": [
          [
           "Industrials",
           "CSX Corporation"
          ],
          [
           "Industrials",
           "Southwest Airlines"
          ]
         ],
         "hovertemplate": "<b>%{hovertext}</b><br><br>Sector=%{customdata[0]}<br>Volatility=%{x}<br>Return=%{y}<br>Security=%{customdata[1]}<extra></extra>",
         "hovertext": [
          "CSX",
          "LUV"
         ],
         "legendgroup": "Industrials",
         "marker": {
          "color": "#B6E880",
          "symbol": "circle"
         },
         "mode": "markers",
         "name": "Industrials",
         "orientation": "v",
         "showlegend": true,
         "type": "scatter",
         "x": [
          0.204,
          0.394
         ],
         "xaxis": "x",
         "y": [
          -0.181,
          -0.139
         ],
         "yaxis": "y"
        },
        {
         "customdata": [
          [
           "Real Estate",
           "Healthpeak Properties"
          ],
          [
           "Real Estate",
           "Host Hotels & Resorts"
          ],
          [
           "Real Estate",
           "Invitation Homes"
          ],
          [
           "Real Estate",
           "Vici Properties"
          ],
          [
           "Real Estate",
           "Weyerhaeuser"
          ]
         ],
         "hovertemplate": "<b>%{hovertext}</b><br><br>Sector=%{customdata[0]}<br>Volatility=%{x}<br>Return=%{y}<br>Security=%{customdata[1]}<extra></extra>",
         "hovertext": [
          "DOC",
          "HST",
          "INVH",
          "VICI",
          "WY"
         ],
         "legendgroup": "Real Estate",
         "marker": {
          "color": "#FF97FF",
          "symbol": "circle"
         },
         "mode": "markers",
         "name": "Real Estate",
         "orientation": "v",
         "showlegend": true,
         "type": "scatter",
         "x": [
          0.22,
          0.226,
          0.208,
          0.186,
          0.223
         ],
         "xaxis": "x",
         "y": [
          0.446,
          -0.227,
          -0.08,
          0.094,
          -0.085
         ],
         "yaxis": "y"
        },
        {
         "customdata": [
          [
           "Communication Services",
           "Fox Corporation (Class B)"
          ],
          [
           "Communication Services",
           "Interpublic Group of Companies (The)"
          ],
          [
           "Communication Services",
           "News Corp (Class B)"
          ],
          [
           "Communication Services",
           "News Corp (Class A)"
          ],
          [
           "Communication Services",
           "Paramount Global"
          ],
          [
           "Communication Services",
           "AT&T"
          ]
         ],
         "hovertemplate": "<b>%{hovertext}</b><br><br>Sector=%{customdata[0]}<br>Volatility=%{x}<br>Return=%{y}<br>Security=%{customdata[1]}<extra></extra>",
         "hovertext": [
          "FOX",
          "IPG",
          "NWS",
          "NWSA",
          "PARA",
          "T"
         ],
         "legendgroup": "Communication Services",
         "marker": {
          "color": "#FECB52",
          "symbol": "circle"
         },
         "mode": "markers",
         "name": "Communication Services",
         "orientation": "v",
         "showlegend": true,
         "type": "scatter",
         "x": [
          0.175,
          0.204,
          0.204,
          0.202,
          0.54,
          0.194
         ],
         "xaxis": "x",
         "y": [
          0.485,
          -0.123,
          0.067,
          0.034,
          -0.043,
          0.413
         ],
         "yaxis": "y"
        },
        {
         "customdata": [
          [
           "Information Technology",
           "Gen Digital"
          ],
          [
           "Information Technology",
           "Hewlett Packard Enterprise"
          ],
          [
           "Information Technology",
           "HP Inc."
          ],
          [
           "Information Technology",
           "Intel"
          ],
          [
           "Information Technology",
           "Juniper Networks"
          ]
         ],
         "hovertemplate": "<b>%{hovertext}</b><br><br>Sector=%{customdata[0]}<br>Volatility=%{x}<br>Return=%{y}<br>Security=%{customdata[1]}<extra></extra>",
         "hovertext": [
          "GEN",
          "HPE",
          "HPQ",
          "INTC",
          "JNPR"
         ],
         "legendgroup": "Information Technology",
         "marker": {
          "color": "#636efa",
          "symbol": "circle"
         },
         "mode": "markers",
         "name": "Information Technology",
         "orientation": "v",
         "showlegend": true,
         "type": "scatter",
         "x": [
          0.29,
          0.375,
          0.317,
          0.569,
          0.082
         ],
         "xaxis": "x",
         "y": [
          0.375,
          0.403,
          0.308,
          -0.915,
          0.065
         ],
         "yaxis": "y"
        }
       ],
       "layout": {
        "height": 500,
        "legend": {
         "title": {
          "text": "Sector"
         },
         "tracegroupgap": 0
        },
        "template": {
         "data": {
          "bar": [
           {
            "error_x": {
             "color": "#f2f5fa"
            },
            "error_y": {
             "color": "#f2f5fa"
            },
            "marker": {
             "line": {
              "color": "rgb(17,17,17)",
              "width": 0.5
             },
             "pattern": {
              "fillmode": "overlay",
              "size": 10,
              "solidity": 0.2
             }
            },
            "type": "bar"
           }
          ],
          "barpolar": [
           {
            "marker": {
             "line": {
              "color": "rgb(17,17,17)",
              "width": 0.5
             },
             "pattern": {
              "fillmode": "overlay",
              "size": 10,
              "solidity": 0.2
             }
            },
            "type": "barpolar"
           }
          ],
          "carpet": [
           {
            "aaxis": {
             "endlinecolor": "#A2B1C6",
             "gridcolor": "#506784",
             "linecolor": "#506784",
             "minorgridcolor": "#506784",
             "startlinecolor": "#A2B1C6"
            },
            "baxis": {
             "endlinecolor": "#A2B1C6",
             "gridcolor": "#506784",
             "linecolor": "#506784",
             "minorgridcolor": "#506784",
             "startlinecolor": "#A2B1C6"
            },
            "type": "carpet"
           }
          ],
          "choropleth": [
           {
            "colorbar": {
             "outlinewidth": 0,
             "ticks": ""
            },
            "type": "choropleth"
           }
          ],
          "contour": [
           {
            "colorbar": {
             "outlinewidth": 0,
             "ticks": ""
            },
            "colorscale": [
             [
              0,
              "#0d0887"
             ],
             [
              0.1111111111111111,
              "#46039f"
             ],
             [
              0.2222222222222222,
              "#7201a8"
             ],
             [
              0.3333333333333333,
              "#9c179e"
             ],
             [
              0.4444444444444444,
              "#bd3786"
             ],
             [
              0.5555555555555556,
              "#d8576b"
             ],
             [
              0.6666666666666666,
              "#ed7953"
             ],
             [
              0.7777777777777778,
              "#fb9f3a"
             ],
             [
              0.8888888888888888,
              "#fdca26"
             ],
             [
              1,
              "#f0f921"
             ]
            ],
            "type": "contour"
           }
          ],
          "contourcarpet": [
           {
            "colorbar": {
             "outlinewidth": 0,
             "ticks": ""
            },
            "type": "contourcarpet"
           }
          ],
          "heatmap": [
           {
            "colorbar": {
             "outlinewidth": 0,
             "ticks": ""
            },
            "colorscale": [
             [
              0,
              "#0d0887"
             ],
             [
              0.1111111111111111,
              "#46039f"
             ],
             [
              0.2222222222222222,
              "#7201a8"
             ],
             [
              0.3333333333333333,
              "#9c179e"
             ],
             [
              0.4444444444444444,
              "#bd3786"
             ],
             [
              0.5555555555555556,
              "#d8576b"
             ],
             [
              0.6666666666666666,
              "#ed7953"
             ],
             [
              0.7777777777777778,
              "#fb9f3a"
             ],
             [
              0.8888888888888888,
              "#fdca26"
             ],
             [
              1,
              "#f0f921"
             ]
            ],
            "type": "heatmap"
           }
          ],
          "heatmapgl": [
           {
            "colorbar": {
             "outlinewidth": 0,
             "ticks": ""
            },
            "colorscale": [
             [
              0,
              "#0d0887"
             ],
             [
              0.1111111111111111,
              "#46039f"
             ],
             [
              0.2222222222222222,
              "#7201a8"
             ],
             [
              0.3333333333333333,
              "#9c179e"
             ],
             [
              0.4444444444444444,
              "#bd3786"
             ],
             [
              0.5555555555555556,
              "#d8576b"
             ],
             [
              0.6666666666666666,
              "#ed7953"
             ],
             [
              0.7777777777777778,
              "#fb9f3a"
             ],
             [
              0.8888888888888888,
              "#fdca26"
             ],
             [
              1,
              "#f0f921"
             ]
            ],
            "type": "heatmapgl"
           }
          ],
          "histogram": [
           {
            "marker": {
             "pattern": {
              "fillmode": "overlay",
              "size": 10,
              "solidity": 0.2
             }
            },
            "type": "histogram"
           }
          ],
          "histogram2d": [
           {
            "colorbar": {
             "outlinewidth": 0,
             "ticks": ""
            },
            "colorscale": [
             [
              0,
              "#0d0887"
             ],
             [
              0.1111111111111111,
              "#46039f"
             ],
             [
              0.2222222222222222,
              "#7201a8"
             ],
             [
              0.3333333333333333,
              "#9c179e"
             ],
             [
              0.4444444444444444,
              "#bd3786"
             ],
             [
              0.5555555555555556,
              "#d8576b"
             ],
             [
              0.6666666666666666,
              "#ed7953"
             ],
             [
              0.7777777777777778,
              "#fb9f3a"
             ],
             [
              0.8888888888888888,
              "#fdca26"
             ],
             [
              1,
              "#f0f921"
             ]
            ],
            "type": "histogram2d"
           }
          ],
          "histogram2dcontour": [
           {
            "colorbar": {
             "outlinewidth": 0,
             "ticks": ""
            },
            "colorscale": [
             [
              0,
              "#0d0887"
             ],
             [
              0.1111111111111111,
              "#46039f"
             ],
             [
              0.2222222222222222,
              "#7201a8"
             ],
             [
              0.3333333333333333,
              "#9c179e"
             ],
             [
              0.4444444444444444,
              "#bd3786"
             ],
             [
              0.5555555555555556,
              "#d8576b"
             ],
             [
              0.6666666666666666,
              "#ed7953"
             ],
             [
              0.7777777777777778,
              "#fb9f3a"
             ],
             [
              0.8888888888888888,
              "#fdca26"
             ],
             [
              1,
              "#f0f921"
             ]
            ],
            "type": "histogram2dcontour"
           }
          ],
          "mesh3d": [
           {
            "colorbar": {
             "outlinewidth": 0,
             "ticks": ""
            },
            "type": "mesh3d"
           }
          ],
          "parcoords": [
           {
            "line": {
             "colorbar": {
              "outlinewidth": 0,
              "ticks": ""
             }
            },
            "type": "parcoords"
           }
          ],
          "pie": [
           {
            "automargin": true,
            "type": "pie"
           }
          ],
          "scatter": [
           {
            "marker": {
             "line": {
              "color": "#283442"
             }
            },
            "type": "scatter"
           }
          ],
          "scatter3d": [
           {
            "line": {
             "colorbar": {
              "outlinewidth": 0,
              "ticks": ""
             }
            },
            "marker": {
             "colorbar": {
              "outlinewidth": 0,
              "ticks": ""
             }
            },
            "type": "scatter3d"
           }
          ],
          "scattercarpet": [
           {
            "marker": {
             "colorbar": {
              "outlinewidth": 0,
              "ticks": ""
             }
            },
            "type": "scattercarpet"
           }
          ],
          "scattergeo": [
           {
            "marker": {
             "colorbar": {
              "outlinewidth": 0,
              "ticks": ""
             }
            },
            "type": "scattergeo"
           }
          ],
          "scattergl": [
           {
            "marker": {
             "line": {
              "color": "#283442"
             }
            },
            "type": "scattergl"
           }
          ],
          "scattermapbox": [
           {
            "marker": {
             "colorbar": {
              "outlinewidth": 0,
              "ticks": ""
             }
            },
            "type": "scattermapbox"
           }
          ],
          "scatterpolar": [
           {
            "marker": {
             "colorbar": {
              "outlinewidth": 0,
              "ticks": ""
             }
            },
            "type": "scatterpolar"
           }
          ],
          "scatterpolargl": [
           {
            "marker": {
             "colorbar": {
              "outlinewidth": 0,
              "ticks": ""
             }
            },
            "type": "scatterpolargl"
           }
          ],
          "scatterternary": [
           {
            "marker": {
             "colorbar": {
              "outlinewidth": 0,
              "ticks": ""
             }
            },
            "type": "scatterternary"
           }
          ],
          "surface": [
           {
            "colorbar": {
             "outlinewidth": 0,
             "ticks": ""
            },
            "colorscale": [
             [
              0,
              "#0d0887"
             ],
             [
              0.1111111111111111,
              "#46039f"
             ],
             [
              0.2222222222222222,
              "#7201a8"
             ],
             [
              0.3333333333333333,
              "#9c179e"
             ],
             [
              0.4444444444444444,
              "#bd3786"
             ],
             [
              0.5555555555555556,
              "#d8576b"
             ],
             [
              0.6666666666666666,
              "#ed7953"
             ],
             [
              0.7777777777777778,
              "#fb9f3a"
             ],
             [
              0.8888888888888888,
              "#fdca26"
             ],
             [
              1,
              "#f0f921"
             ]
            ],
            "type": "surface"
           }
          ],
          "table": [
           {
            "cells": {
             "fill": {
              "color": "#506784"
             },
             "line": {
              "color": "rgb(17,17,17)"
             }
            },
            "header": {
             "fill": {
              "color": "#2a3f5f"
             },
             "line": {
              "color": "rgb(17,17,17)"
             }
            },
            "type": "table"
           }
          ]
         },
         "layout": {
          "annotationdefaults": {
           "arrowcolor": "#f2f5fa",
           "arrowhead": 0,
           "arrowwidth": 1
          },
          "autotypenumbers": "strict",
          "coloraxis": {
           "colorbar": {
            "outlinewidth": 0,
            "ticks": ""
           }
          },
          "colorscale": {
           "diverging": [
            [
             0,
             "#8e0152"
            ],
            [
             0.1,
             "#c51b7d"
            ],
            [
             0.2,
             "#de77ae"
            ],
            [
             0.3,
             "#f1b6da"
            ],
            [
             0.4,
             "#fde0ef"
            ],
            [
             0.5,
             "#f7f7f7"
            ],
            [
             0.6,
             "#e6f5d0"
            ],
            [
             0.7,
             "#b8e186"
            ],
            [
             0.8,
             "#7fbc41"
            ],
            [
             0.9,
             "#4d9221"
            ],
            [
             1,
             "#276419"
            ]
           ],
           "sequential": [
            [
             0,
             "#0d0887"
            ],
            [
             0.1111111111111111,
             "#46039f"
            ],
            [
             0.2222222222222222,
             "#7201a8"
            ],
            [
             0.3333333333333333,
             "#9c179e"
            ],
            [
             0.4444444444444444,
             "#bd3786"
            ],
            [
             0.5555555555555556,
             "#d8576b"
            ],
            [
             0.6666666666666666,
             "#ed7953"
            ],
            [
             0.7777777777777778,
             "#fb9f3a"
            ],
            [
             0.8888888888888888,
             "#fdca26"
            ],
            [
             1,
             "#f0f921"
            ]
           ],
           "sequentialminus": [
            [
             0,
             "#0d0887"
            ],
            [
             0.1111111111111111,
             "#46039f"
            ],
            [
             0.2222222222222222,
             "#7201a8"
            ],
            [
             0.3333333333333333,
             "#9c179e"
            ],
            [
             0.4444444444444444,
             "#bd3786"
            ],
            [
             0.5555555555555556,
             "#d8576b"
            ],
            [
             0.6666666666666666,
             "#ed7953"
            ],
            [
             0.7777777777777778,
             "#fb9f3a"
            ],
            [
             0.8888888888888888,
             "#fdca26"
            ],
            [
             1,
             "#f0f921"
            ]
           ]
          },
          "colorway": [
           "#636efa",
           "#EF553B",
           "#00cc96",
           "#ab63fa",
           "#FFA15A",
           "#19d3f3",
           "#FF6692",
           "#B6E880",
           "#FF97FF",
           "#FECB52"
          ],
          "font": {
           "color": "#f2f5fa"
          },
          "geo": {
           "bgcolor": "rgb(17,17,17)",
           "lakecolor": "rgb(17,17,17)",
           "landcolor": "rgb(17,17,17)",
           "showlakes": true,
           "showland": true,
           "subunitcolor": "#506784"
          },
          "hoverlabel": {
           "align": "left"
          },
          "hovermode": "closest",
          "mapbox": {
           "style": "dark"
          },
          "paper_bgcolor": "rgb(17,17,17)",
          "plot_bgcolor": "rgb(17,17,17)",
          "polar": {
           "angularaxis": {
            "gridcolor": "#506784",
            "linecolor": "#506784",
            "ticks": ""
           },
           "bgcolor": "rgb(17,17,17)",
           "radialaxis": {
            "gridcolor": "#506784",
            "linecolor": "#506784",
            "ticks": ""
           }
          },
          "scene": {
           "xaxis": {
            "backgroundcolor": "rgb(17,17,17)",
            "gridcolor": "#506784",
            "gridwidth": 2,
            "linecolor": "#506784",
            "showbackground": true,
            "ticks": "",
            "zerolinecolor": "#C8D4E3"
           },
           "yaxis": {
            "backgroundcolor": "rgb(17,17,17)",
            "gridcolor": "#506784",
            "gridwidth": 2,
            "linecolor": "#506784",
            "showbackground": true,
            "ticks": "",
            "zerolinecolor": "#C8D4E3"
           },
           "zaxis": {
            "backgroundcolor": "rgb(17,17,17)",
            "gridcolor": "#506784",
            "gridwidth": 2,
            "linecolor": "#506784",
            "showbackground": true,
            "ticks": "",
            "zerolinecolor": "#C8D4E3"
           }
          },
          "shapedefaults": {
           "line": {
            "color": "#f2f5fa"
           }
          },
          "sliderdefaults": {
           "bgcolor": "#C8D4E3",
           "bordercolor": "rgb(17,17,17)",
           "borderwidth": 1,
           "tickwidth": 0
          },
          "ternary": {
           "aaxis": {
            "gridcolor": "#506784",
            "linecolor": "#506784",
            "ticks": ""
           },
           "baxis": {
            "gridcolor": "#506784",
            "linecolor": "#506784",
            "ticks": ""
           },
           "bgcolor": "rgb(17,17,17)",
           "caxis": {
            "gridcolor": "#506784",
            "linecolor": "#506784",
            "ticks": ""
           }
          },
          "title": {
           "x": 0.05
          },
          "updatemenudefaults": {
           "bgcolor": "#506784",
           "borderwidth": 0
          },
          "xaxis": {
           "automargin": true,
           "gridcolor": "#283442",
           "linecolor": "#506784",
           "ticks": "",
           "title": {
            "standoff": 15
           },
           "zerolinecolor": "#283442",
           "zerolinewidth": 2
          },
          "yaxis": {
           "automargin": true,
           "gridcolor": "#283442",
           "linecolor": "#506784",
           "ticks": "",
           "title": {
            "standoff": 15
           },
           "zerolinecolor": "#283442",
           "zerolinewidth": 2
          }
         }
        },
        "title": {
         "text": "S&P 500 dividend stocks by Volatility/Return",
         "x": 0.5
        },
        "width": 750,
        "xaxis": {
         "anchor": "y",
         "domain": [
          0,
          1
         ],
         "title": {
          "text": "Volatility"
         }
        },
        "yaxis": {
         "anchor": "x",
         "domain": [
          0,
          1
         ],
         "title": {
          "text": "Return"
         }
        }
       }
      }
     },
     "metadata": {},
     "output_type": "display_data"
    }
   ],
   "source": [
    "\n",
    "px.scatter(dividend_stock_data[dividend_stock_data['Price'] < 40],\n",
    "           x='Volatility',\n",
    "           y='Return',\n",
    "           hover_data=['Sector','Security'],\n",
    "           hover_name='Symbol',\n",
    "           title='S&P 500 dividend stocks by Volatility/Return',\n",
    "           color='Sector',\n",
    "           width=750,\n",
    "           height=500,\n",
    "           template='plotly_dark'\n",
    "           ).update_layout(title_x=0.5)"
   ]
  },
  {
   "cell_type": "code",
   "execution_count": 29,
   "metadata": {},
   "outputs": [
    {
     "data": {
      "text/html": [
       "<div>\n",
       "<style scoped>\n",
       "    .dataframe tbody tr th:only-of-type {\n",
       "        vertical-align: middle;\n",
       "    }\n",
       "\n",
       "    .dataframe tbody tr th {\n",
       "        vertical-align: top;\n",
       "    }\n",
       "\n",
       "    .dataframe thead th {\n",
       "        text-align: right;\n",
       "    }\n",
       "</style>\n",
       "<table border=\"1\" class=\"dataframe\">\n",
       "  <thead>\n",
       "    <tr style=\"text-align: right;\">\n",
       "      <th></th>\n",
       "      <th>Price</th>\n",
       "      <th>Symbol</th>\n",
       "      <th>Security</th>\n",
       "      <th>Sector</th>\n",
       "      <th>Return</th>\n",
       "      <th>Volatility</th>\n",
       "      <th>SharpeRatio</th>\n",
       "      <th>KMeansCluster</th>\n",
       "      <th>Dividends</th>\n",
       "    </tr>\n",
       "    <tr>\n",
       "      <th>Ticker</th>\n",
       "      <th></th>\n",
       "      <th></th>\n",
       "      <th></th>\n",
       "      <th></th>\n",
       "      <th></th>\n",
       "      <th></th>\n",
       "      <th></th>\n",
       "      <th></th>\n",
       "      <th></th>\n",
       "    </tr>\n",
       "  </thead>\n",
       "  <tbody>\n",
       "    <tr>\n",
       "      <th>KMI</th>\n",
       "      <td>24.600000</td>\n",
       "      <td>KMI</td>\n",
       "      <td>Kinder Morgan</td>\n",
       "      <td>Energy</td>\n",
       "      <td>0.508</td>\n",
       "      <td>0.169</td>\n",
       "      <td>3.009</td>\n",
       "      <td>6</td>\n",
       "      <td>0.046716</td>\n",
       "    </tr>\n",
       "    <tr>\n",
       "      <th>NI</th>\n",
       "      <td>35.139999</td>\n",
       "      <td>NI</td>\n",
       "      <td>NiSource</td>\n",
       "      <td>Utilities</td>\n",
       "      <td>0.425</td>\n",
       "      <td>0.148</td>\n",
       "      <td>2.874</td>\n",
       "      <td>6</td>\n",
       "      <td>0.030148</td>\n",
       "    </tr>\n",
       "    <tr>\n",
       "      <th>FOX</th>\n",
       "      <td>38.849998</td>\n",
       "      <td>FOX</td>\n",
       "      <td>Fox Corporation (Class B)</td>\n",
       "      <td>Communication Services</td>\n",
       "      <td>0.485</td>\n",
       "      <td>0.175</td>\n",
       "      <td>2.774</td>\n",
       "      <td>6</td>\n",
       "      <td>0.013347</td>\n",
       "    </tr>\n",
       "    <tr>\n",
       "      <th>T</th>\n",
       "      <td>22.420000</td>\n",
       "      <td>T</td>\n",
       "      <td>AT&amp;T</td>\n",
       "      <td>Communication Services</td>\n",
       "      <td>0.413</td>\n",
       "      <td>0.194</td>\n",
       "      <td>2.135</td>\n",
       "      <td>6</td>\n",
       "      <td>0.049246</td>\n",
       "    </tr>\n",
       "    <tr>\n",
       "      <th>DOC</th>\n",
       "      <td>22.715000</td>\n",
       "      <td>DOC</td>\n",
       "      <td>Healthpeak Properties</td>\n",
       "      <td>Real Estate</td>\n",
       "      <td>0.446</td>\n",
       "      <td>0.220</td>\n",
       "      <td>2.025</td>\n",
       "      <td>6</td>\n",
       "      <td>0.053452</td>\n",
       "    </tr>\n",
       "    <tr>\n",
       "      <th>PPL</th>\n",
       "      <td>32.860001</td>\n",
       "      <td>PPL</td>\n",
       "      <td>PPL Corporation</td>\n",
       "      <td>Utilities</td>\n",
       "      <td>0.292</td>\n",
       "      <td>0.153</td>\n",
       "      <td>1.909</td>\n",
       "      <td>0</td>\n",
       "      <td>0.030559</td>\n",
       "    </tr>\n",
       "    <tr>\n",
       "      <th>RF</th>\n",
       "      <td>23.950001</td>\n",
       "      <td>RF</td>\n",
       "      <td>Regions Financial Corporation</td>\n",
       "      <td>Financials</td>\n",
       "      <td>0.387</td>\n",
       "      <td>0.233</td>\n",
       "      <td>1.657</td>\n",
       "      <td>6</td>\n",
       "      <td>0.040637</td>\n",
       "    </tr>\n",
       "    <tr>\n",
       "      <th>PCG</th>\n",
       "      <td>20.299999</td>\n",
       "      <td>PCG</td>\n",
       "      <td>PG&amp;E Corporation</td>\n",
       "      <td>Utilities</td>\n",
       "      <td>0.251</td>\n",
       "      <td>0.182</td>\n",
       "      <td>1.383</td>\n",
       "      <td>0</td>\n",
       "      <td>0.001484</td>\n",
       "    </tr>\n",
       "    <tr>\n",
       "      <th>BKR</th>\n",
       "      <td>37.830002</td>\n",
       "      <td>BKR</td>\n",
       "      <td>Baker Hughes</td>\n",
       "      <td>Energy</td>\n",
       "      <td>0.337</td>\n",
       "      <td>0.255</td>\n",
       "      <td>1.321</td>\n",
       "      <td>0</td>\n",
       "      <td>0.021796</td>\n",
       "    </tr>\n",
       "    <tr>\n",
       "      <th>GEN</th>\n",
       "      <td>28.760000</td>\n",
       "      <td>GEN</td>\n",
       "      <td>Gen Digital</td>\n",
       "      <td>Information Technology</td>\n",
       "      <td>0.375</td>\n",
       "      <td>0.290</td>\n",
       "      <td>1.293</td>\n",
       "      <td>6</td>\n",
       "      <td>0.017176</td>\n",
       "    </tr>\n",
       "    <tr>\n",
       "      <th>HBAN</th>\n",
       "      <td>15.690000</td>\n",
       "      <td>HBAN</td>\n",
       "      <td>Huntington Bancshares</td>\n",
       "      <td>Financials</td>\n",
       "      <td>0.285</td>\n",
       "      <td>0.247</td>\n",
       "      <td>1.155</td>\n",
       "      <td>0</td>\n",
       "      <td>0.039769</td>\n",
       "    </tr>\n",
       "    <tr>\n",
       "      <th>HPE</th>\n",
       "      <td>20.020000</td>\n",
       "      <td>HPE</td>\n",
       "      <td>Hewlett Packard Enterprise</td>\n",
       "      <td>Information Technology</td>\n",
       "      <td>0.403</td>\n",
       "      <td>0.375</td>\n",
       "      <td>1.075</td>\n",
       "      <td>6</td>\n",
       "      <td>0.026167</td>\n",
       "    </tr>\n",
       "    <tr>\n",
       "      <th>HPQ</th>\n",
       "      <td>36.305000</td>\n",
       "      <td>HPQ</td>\n",
       "      <td>HP Inc.</td>\n",
       "      <td>Information Technology</td>\n",
       "      <td>0.308</td>\n",
       "      <td>0.317</td>\n",
       "      <td>0.972</td>\n",
       "      <td>0</td>\n",
       "      <td>0.030659</td>\n",
       "    </tr>\n",
       "    <tr>\n",
       "      <th>KVUE</th>\n",
       "      <td>22.865000</td>\n",
       "      <td>KVUE</td>\n",
       "      <td>Kenvue</td>\n",
       "      <td>Consumer Staples</td>\n",
       "      <td>0.252</td>\n",
       "      <td>0.269</td>\n",
       "      <td>0.937</td>\n",
       "      <td>0</td>\n",
       "      <td>0.034889</td>\n",
       "    </tr>\n",
       "    <tr>\n",
       "      <th>KEY</th>\n",
       "      <td>17.395000</td>\n",
       "      <td>KEY</td>\n",
       "      <td>KeyCorp</td>\n",
       "      <td>Financials</td>\n",
       "      <td>0.285</td>\n",
       "      <td>0.308</td>\n",
       "      <td>0.925</td>\n",
       "      <td>0</td>\n",
       "      <td>0.047536</td>\n",
       "    </tr>\n",
       "    <tr>\n",
       "      <th>MRO</th>\n",
       "      <td>27.559900</td>\n",
       "      <td>MRO</td>\n",
       "      <td>Marathon Oil</td>\n",
       "      <td>Energy</td>\n",
       "      <td>0.211</td>\n",
       "      <td>0.253</td>\n",
       "      <td>0.835</td>\n",
       "      <td>0</td>\n",
       "      <td>0.015884</td>\n",
       "    </tr>\n",
       "    <tr>\n",
       "      <th>JNPR</th>\n",
       "      <td>38.895000</td>\n",
       "      <td>JNPR</td>\n",
       "      <td>Juniper Networks</td>\n",
       "      <td>Information Technology</td>\n",
       "      <td>0.065</td>\n",
       "      <td>0.082</td>\n",
       "      <td>0.785</td>\n",
       "      <td>4</td>\n",
       "      <td>0.022622</td>\n",
       "    </tr>\n",
       "    <tr>\n",
       "      <th>KDP</th>\n",
       "      <td>32.830002</td>\n",
       "      <td>KDP</td>\n",
       "      <td>Keurig Dr Pepper</td>\n",
       "      <td>Consumer Staples</td>\n",
       "      <td>0.120</td>\n",
       "      <td>0.166</td>\n",
       "      <td>0.724</td>\n",
       "      <td>4</td>\n",
       "      <td>0.026555</td>\n",
       "    </tr>\n",
       "    <tr>\n",
       "      <th>EXC</th>\n",
       "      <td>39.259998</td>\n",
       "      <td>EXC</td>\n",
       "      <td>Exelon</td>\n",
       "      <td>Utilities</td>\n",
       "      <td>0.119</td>\n",
       "      <td>0.170</td>\n",
       "      <td>0.701</td>\n",
       "      <td>4</td>\n",
       "      <td>0.038168</td>\n",
       "    </tr>\n",
       "    <tr>\n",
       "      <th>IVZ</th>\n",
       "      <td>17.594999</td>\n",
       "      <td>IVZ</td>\n",
       "      <td>Invesco</td>\n",
       "      <td>Financials</td>\n",
       "      <td>0.196</td>\n",
       "      <td>0.282</td>\n",
       "      <td>0.697</td>\n",
       "      <td>0</td>\n",
       "      <td>0.047001</td>\n",
       "    </tr>\n",
       "  </tbody>\n",
       "</table>\n",
       "</div>"
      ],
      "text/plain": [
       "            Price Symbol                       Security  \\\n",
       "Ticker                                                    \n",
       "KMI     24.600000    KMI                  Kinder Morgan   \n",
       "NI      35.139999     NI                       NiSource   \n",
       "FOX     38.849998    FOX      Fox Corporation (Class B)   \n",
       "T       22.420000      T                           AT&T   \n",
       "DOC     22.715000    DOC          Healthpeak Properties   \n",
       "PPL     32.860001    PPL                PPL Corporation   \n",
       "RF      23.950001     RF  Regions Financial Corporation   \n",
       "PCG     20.299999    PCG               PG&E Corporation   \n",
       "BKR     37.830002    BKR                   Baker Hughes   \n",
       "GEN     28.760000    GEN                    Gen Digital   \n",
       "HBAN    15.690000   HBAN          Huntington Bancshares   \n",
       "HPE     20.020000    HPE     Hewlett Packard Enterprise   \n",
       "HPQ     36.305000    HPQ                        HP Inc.   \n",
       "KVUE    22.865000   KVUE                         Kenvue   \n",
       "KEY     17.395000    KEY                        KeyCorp   \n",
       "MRO     27.559900    MRO                   Marathon Oil   \n",
       "JNPR    38.895000   JNPR               Juniper Networks   \n",
       "KDP     32.830002    KDP               Keurig Dr Pepper   \n",
       "EXC     39.259998    EXC                         Exelon   \n",
       "IVZ     17.594999    IVZ                        Invesco   \n",
       "\n",
       "                        Sector  Return  Volatility  SharpeRatio  \\\n",
       "Ticker                                                            \n",
       "KMI                     Energy   0.508       0.169        3.009   \n",
       "NI                   Utilities   0.425       0.148        2.874   \n",
       "FOX     Communication Services   0.485       0.175        2.774   \n",
       "T       Communication Services   0.413       0.194        2.135   \n",
       "DOC                Real Estate   0.446       0.220        2.025   \n",
       "PPL                  Utilities   0.292       0.153        1.909   \n",
       "RF                  Financials   0.387       0.233        1.657   \n",
       "PCG                  Utilities   0.251       0.182        1.383   \n",
       "BKR                     Energy   0.337       0.255        1.321   \n",
       "GEN     Information Technology   0.375       0.290        1.293   \n",
       "HBAN                Financials   0.285       0.247        1.155   \n",
       "HPE     Information Technology   0.403       0.375        1.075   \n",
       "HPQ     Information Technology   0.308       0.317        0.972   \n",
       "KVUE          Consumer Staples   0.252       0.269        0.937   \n",
       "KEY                 Financials   0.285       0.308        0.925   \n",
       "MRO                     Energy   0.211       0.253        0.835   \n",
       "JNPR    Information Technology   0.065       0.082        0.785   \n",
       "KDP           Consumer Staples   0.120       0.166        0.724   \n",
       "EXC                  Utilities   0.119       0.170        0.701   \n",
       "IVZ                 Financials   0.196       0.282        0.697   \n",
       "\n",
       "        KMeansCluster  Dividends  \n",
       "Ticker                            \n",
       "KMI                 6   0.046716  \n",
       "NI                  6   0.030148  \n",
       "FOX                 6   0.013347  \n",
       "T                   6   0.049246  \n",
       "DOC                 6   0.053452  \n",
       "PPL                 0   0.030559  \n",
       "RF                  6   0.040637  \n",
       "PCG                 0   0.001484  \n",
       "BKR                 0   0.021796  \n",
       "GEN                 6   0.017176  \n",
       "HBAN                0   0.039769  \n",
       "HPE                 6   0.026167  \n",
       "HPQ                 0   0.030659  \n",
       "KVUE                0   0.034889  \n",
       "KEY                 0   0.047536  \n",
       "MRO                 0   0.015884  \n",
       "JNPR                4   0.022622  \n",
       "KDP                 4   0.026555  \n",
       "EXC                 4   0.038168  \n",
       "IVZ                 0   0.047001  "
      ]
     },
     "execution_count": 29,
     "metadata": {},
     "output_type": "execute_result"
    }
   ],
   "source": [
    "dividend_stock_data[dividend_stock_data['Price'] < 40].sort_values(by='SharpeRatio', ascending=False).head(20)"
   ]
  },
  {
   "cell_type": "code",
   "execution_count": 33,
   "metadata": {},
   "outputs": [
    {
     "ename": "TypeError",
     "evalue": "'Series' object cannot be interpreted as an integer",
     "output_type": "error",
     "traceback": [
      "\u001b[1;31m---------------------------------------------------------------------------\u001b[0m",
      "\u001b[1;31mTypeError\u001b[0m                                 Traceback (most recent call last)",
      "Cell \u001b[1;32mIn[33], line 1\u001b[0m\n\u001b[1;32m----> 1\u001b[0m chosen_stock_ticker \u001b[38;5;241m=\u001b[39m [i \u001b[38;5;28;01mfor\u001b[39;00m i \u001b[38;5;129;01min\u001b[39;00m \u001b[38;5;28;43mrange\u001b[39;49m\u001b[43m(\u001b[49m\u001b[43mdividend_stock_data\u001b[49m\u001b[43m[\u001b[49m\u001b[38;5;124;43m'\u001b[39;49m\u001b[38;5;124;43mSymbol\u001b[39;49m\u001b[38;5;124;43m'\u001b[39;49m\u001b[43m]\u001b[49m\u001b[43m,\u001b[49m\u001b[43m \u001b[49m\u001b[38;5;241;43m15\u001b[39;49m\u001b[43m)\u001b[49m]\n\u001b[0;32m      2\u001b[0m chosen_stock \u001b[38;5;241m=\u001b[39m yf\u001b[38;5;241m.\u001b[39mdownload(chosen_stock_ticker, start\u001b[38;5;241m=\u001b[39mstart, end\u001b[38;5;241m=\u001b[39mend)[\u001b[38;5;124m'\u001b[39m\u001b[38;5;124mClose\u001b[39m\u001b[38;5;124m'\u001b[39m]\n",
      "\u001b[1;31mTypeError\u001b[0m: 'Series' object cannot be interpreted as an integer"
     ]
    }
   ],
   "source": [
    "chosen_stock_ticker = [i for i in range(dividend_stock_data['Symbol'], 15)]\n",
    "chosen_stock = yf.download(chosen_stock_ticker, start=start, end=end)['Close']"
   ]
  },
  {
   "cell_type": "code",
   "execution_count": null,
   "metadata": {},
   "outputs": [
    {
     "data": {
      "text/html": [
       "<div>\n",
       "<style scoped>\n",
       "    .dataframe tbody tr th:only-of-type {\n",
       "        vertical-align: middle;\n",
       "    }\n",
       "\n",
       "    .dataframe tbody tr th {\n",
       "        vertical-align: top;\n",
       "    }\n",
       "\n",
       "    .dataframe thead th {\n",
       "        text-align: right;\n",
       "    }\n",
       "</style>\n",
       "<table border=\"1\" class=\"dataframe\">\n",
       "  <thead>\n",
       "    <tr style=\"text-align: right;\">\n",
       "      <th></th>\n",
       "      <th>Price</th>\n",
       "      <th>Symbol</th>\n",
       "      <th>Security</th>\n",
       "      <th>Sector</th>\n",
       "      <th>Return</th>\n",
       "      <th>Volatility</th>\n",
       "      <th>SharpeRatio</th>\n",
       "      <th>KMeansCluster</th>\n",
       "      <th>Dividends</th>\n",
       "    </tr>\n",
       "    <tr>\n",
       "      <th>Ticker</th>\n",
       "      <th></th>\n",
       "      <th></th>\n",
       "      <th></th>\n",
       "      <th></th>\n",
       "      <th></th>\n",
       "      <th></th>\n",
       "      <th></th>\n",
       "      <th></th>\n",
       "      <th></th>\n",
       "    </tr>\n",
       "  </thead>\n",
       "  <tbody>\n",
       "    <tr>\n",
       "      <th>KMI</th>\n",
       "      <td>24.600000</td>\n",
       "      <td>KMI</td>\n",
       "      <td>Kinder Morgan</td>\n",
       "      <td>Energy</td>\n",
       "      <td>0.508</td>\n",
       "      <td>0.169</td>\n",
       "      <td>3.009</td>\n",
       "      <td>6</td>\n",
       "      <td>0.046716</td>\n",
       "    </tr>\n",
       "    <tr>\n",
       "      <th>NI</th>\n",
       "      <td>35.139999</td>\n",
       "      <td>NI</td>\n",
       "      <td>NiSource</td>\n",
       "      <td>Utilities</td>\n",
       "      <td>0.425</td>\n",
       "      <td>0.148</td>\n",
       "      <td>2.874</td>\n",
       "      <td>6</td>\n",
       "      <td>0.030148</td>\n",
       "    </tr>\n",
       "    <tr>\n",
       "      <th>FOX</th>\n",
       "      <td>38.849998</td>\n",
       "      <td>FOX</td>\n",
       "      <td>Fox Corporation (Class B)</td>\n",
       "      <td>Communication Services</td>\n",
       "      <td>0.485</td>\n",
       "      <td>0.175</td>\n",
       "      <td>2.774</td>\n",
       "      <td>6</td>\n",
       "      <td>0.013347</td>\n",
       "    </tr>\n",
       "    <tr>\n",
       "      <th>T</th>\n",
       "      <td>22.420000</td>\n",
       "      <td>T</td>\n",
       "      <td>AT&amp;T</td>\n",
       "      <td>Communication Services</td>\n",
       "      <td>0.413</td>\n",
       "      <td>0.194</td>\n",
       "      <td>2.135</td>\n",
       "      <td>6</td>\n",
       "      <td>0.049246</td>\n",
       "    </tr>\n",
       "    <tr>\n",
       "      <th>DOC</th>\n",
       "      <td>22.715000</td>\n",
       "      <td>DOC</td>\n",
       "      <td>Healthpeak Properties</td>\n",
       "      <td>Real Estate</td>\n",
       "      <td>0.446</td>\n",
       "      <td>0.220</td>\n",
       "      <td>2.025</td>\n",
       "      <td>6</td>\n",
       "      <td>0.053452</td>\n",
       "    </tr>\n",
       "    <tr>\n",
       "      <th>PPL</th>\n",
       "      <td>32.860001</td>\n",
       "      <td>PPL</td>\n",
       "      <td>PPL Corporation</td>\n",
       "      <td>Utilities</td>\n",
       "      <td>0.292</td>\n",
       "      <td>0.153</td>\n",
       "      <td>1.909</td>\n",
       "      <td>0</td>\n",
       "      <td>0.030559</td>\n",
       "    </tr>\n",
       "    <tr>\n",
       "      <th>RF</th>\n",
       "      <td>23.950001</td>\n",
       "      <td>RF</td>\n",
       "      <td>Regions Financial Corporation</td>\n",
       "      <td>Financials</td>\n",
       "      <td>0.387</td>\n",
       "      <td>0.233</td>\n",
       "      <td>1.657</td>\n",
       "      <td>6</td>\n",
       "      <td>0.040637</td>\n",
       "    </tr>\n",
       "    <tr>\n",
       "      <th>PCG</th>\n",
       "      <td>20.299999</td>\n",
       "      <td>PCG</td>\n",
       "      <td>PG&amp;E Corporation</td>\n",
       "      <td>Utilities</td>\n",
       "      <td>0.251</td>\n",
       "      <td>0.182</td>\n",
       "      <td>1.383</td>\n",
       "      <td>0</td>\n",
       "      <td>0.001484</td>\n",
       "    </tr>\n",
       "    <tr>\n",
       "      <th>BKR</th>\n",
       "      <td>37.830002</td>\n",
       "      <td>BKR</td>\n",
       "      <td>Baker Hughes</td>\n",
       "      <td>Energy</td>\n",
       "      <td>0.337</td>\n",
       "      <td>0.255</td>\n",
       "      <td>1.321</td>\n",
       "      <td>0</td>\n",
       "      <td>0.021796</td>\n",
       "    </tr>\n",
       "    <tr>\n",
       "      <th>GEN</th>\n",
       "      <td>28.760000</td>\n",
       "      <td>GEN</td>\n",
       "      <td>Gen Digital</td>\n",
       "      <td>Information Technology</td>\n",
       "      <td>0.375</td>\n",
       "      <td>0.290</td>\n",
       "      <td>1.293</td>\n",
       "      <td>6</td>\n",
       "      <td>0.017176</td>\n",
       "    </tr>\n",
       "    <tr>\n",
       "      <th>HBAN</th>\n",
       "      <td>15.690000</td>\n",
       "      <td>HBAN</td>\n",
       "      <td>Huntington Bancshares</td>\n",
       "      <td>Financials</td>\n",
       "      <td>0.285</td>\n",
       "      <td>0.247</td>\n",
       "      <td>1.155</td>\n",
       "      <td>0</td>\n",
       "      <td>0.039769</td>\n",
       "    </tr>\n",
       "    <tr>\n",
       "      <th>HPE</th>\n",
       "      <td>20.020000</td>\n",
       "      <td>HPE</td>\n",
       "      <td>Hewlett Packard Enterprise</td>\n",
       "      <td>Information Technology</td>\n",
       "      <td>0.403</td>\n",
       "      <td>0.375</td>\n",
       "      <td>1.075</td>\n",
       "      <td>6</td>\n",
       "      <td>0.026167</td>\n",
       "    </tr>\n",
       "    <tr>\n",
       "      <th>HPQ</th>\n",
       "      <td>36.305000</td>\n",
       "      <td>HPQ</td>\n",
       "      <td>HP Inc.</td>\n",
       "      <td>Information Technology</td>\n",
       "      <td>0.308</td>\n",
       "      <td>0.317</td>\n",
       "      <td>0.972</td>\n",
       "      <td>0</td>\n",
       "      <td>0.030659</td>\n",
       "    </tr>\n",
       "    <tr>\n",
       "      <th>KVUE</th>\n",
       "      <td>22.865000</td>\n",
       "      <td>KVUE</td>\n",
       "      <td>Kenvue</td>\n",
       "      <td>Consumer Staples</td>\n",
       "      <td>0.252</td>\n",
       "      <td>0.269</td>\n",
       "      <td>0.937</td>\n",
       "      <td>0</td>\n",
       "      <td>0.034889</td>\n",
       "    </tr>\n",
       "    <tr>\n",
       "      <th>KEY</th>\n",
       "      <td>17.395000</td>\n",
       "      <td>KEY</td>\n",
       "      <td>KeyCorp</td>\n",
       "      <td>Financials</td>\n",
       "      <td>0.285</td>\n",
       "      <td>0.308</td>\n",
       "      <td>0.925</td>\n",
       "      <td>0</td>\n",
       "      <td>0.047536</td>\n",
       "    </tr>\n",
       "    <tr>\n",
       "      <th>MRO</th>\n",
       "      <td>27.559900</td>\n",
       "      <td>MRO</td>\n",
       "      <td>Marathon Oil</td>\n",
       "      <td>Energy</td>\n",
       "      <td>0.211</td>\n",
       "      <td>0.253</td>\n",
       "      <td>0.835</td>\n",
       "      <td>0</td>\n",
       "      <td>0.015884</td>\n",
       "    </tr>\n",
       "    <tr>\n",
       "      <th>JNPR</th>\n",
       "      <td>38.895000</td>\n",
       "      <td>JNPR</td>\n",
       "      <td>Juniper Networks</td>\n",
       "      <td>Information Technology</td>\n",
       "      <td>0.065</td>\n",
       "      <td>0.082</td>\n",
       "      <td>0.785</td>\n",
       "      <td>4</td>\n",
       "      <td>0.022622</td>\n",
       "    </tr>\n",
       "    <tr>\n",
       "      <th>KDP</th>\n",
       "      <td>32.830002</td>\n",
       "      <td>KDP</td>\n",
       "      <td>Keurig Dr Pepper</td>\n",
       "      <td>Consumer Staples</td>\n",
       "      <td>0.120</td>\n",
       "      <td>0.166</td>\n",
       "      <td>0.724</td>\n",
       "      <td>4</td>\n",
       "      <td>0.026555</td>\n",
       "    </tr>\n",
       "    <tr>\n",
       "      <th>EXC</th>\n",
       "      <td>39.259998</td>\n",
       "      <td>EXC</td>\n",
       "      <td>Exelon</td>\n",
       "      <td>Utilities</td>\n",
       "      <td>0.119</td>\n",
       "      <td>0.170</td>\n",
       "      <td>0.701</td>\n",
       "      <td>4</td>\n",
       "      <td>0.038168</td>\n",
       "    </tr>\n",
       "    <tr>\n",
       "      <th>IVZ</th>\n",
       "      <td>17.594999</td>\n",
       "      <td>IVZ</td>\n",
       "      <td>Invesco</td>\n",
       "      <td>Financials</td>\n",
       "      <td>0.196</td>\n",
       "      <td>0.282</td>\n",
       "      <td>0.697</td>\n",
       "      <td>0</td>\n",
       "      <td>0.047001</td>\n",
       "    </tr>\n",
       "    <tr>\n",
       "      <th>AMCR</th>\n",
       "      <td>10.295000</td>\n",
       "      <td>AMCR</td>\n",
       "      <td>Amcor</td>\n",
       "      <td>Materials</td>\n",
       "      <td>0.150</td>\n",
       "      <td>0.233</td>\n",
       "      <td>0.645</td>\n",
       "      <td>4</td>\n",
       "      <td>0.033693</td>\n",
       "    </tr>\n",
       "    <tr>\n",
       "      <th>VICI</th>\n",
       "      <td>32.099998</td>\n",
       "      <td>VICI</td>\n",
       "      <td>Vici Properties</td>\n",
       "      <td>Real Estate</td>\n",
       "      <td>0.094</td>\n",
       "      <td>0.186</td>\n",
       "      <td>0.508</td>\n",
       "      <td>4</td>\n",
       "      <td>0.050693</td>\n",
       "    </tr>\n",
       "  </tbody>\n",
       "</table>\n",
       "</div>"
      ],
      "text/plain": [
       "            Price Symbol                       Security  \\\n",
       "Ticker                                                    \n",
       "KMI     24.600000    KMI                  Kinder Morgan   \n",
       "NI      35.139999     NI                       NiSource   \n",
       "FOX     38.849998    FOX      Fox Corporation (Class B)   \n",
       "T       22.420000      T                           AT&T   \n",
       "DOC     22.715000    DOC          Healthpeak Properties   \n",
       "PPL     32.860001    PPL                PPL Corporation   \n",
       "RF      23.950001     RF  Regions Financial Corporation   \n",
       "PCG     20.299999    PCG               PG&E Corporation   \n",
       "BKR     37.830002    BKR                   Baker Hughes   \n",
       "GEN     28.760000    GEN                    Gen Digital   \n",
       "HBAN    15.690000   HBAN          Huntington Bancshares   \n",
       "HPE     20.020000    HPE     Hewlett Packard Enterprise   \n",
       "HPQ     36.305000    HPQ                        HP Inc.   \n",
       "KVUE    22.865000   KVUE                         Kenvue   \n",
       "KEY     17.395000    KEY                        KeyCorp   \n",
       "MRO     27.559900    MRO                   Marathon Oil   \n",
       "JNPR    38.895000   JNPR               Juniper Networks   \n",
       "KDP     32.830002    KDP               Keurig Dr Pepper   \n",
       "EXC     39.259998    EXC                         Exelon   \n",
       "IVZ     17.594999    IVZ                        Invesco   \n",
       "AMCR    10.295000   AMCR                          Amcor   \n",
       "VICI    32.099998   VICI                Vici Properties   \n",
       "\n",
       "                        Sector  Return  Volatility  SharpeRatio  \\\n",
       "Ticker                                                            \n",
       "KMI                     Energy   0.508       0.169        3.009   \n",
       "NI                   Utilities   0.425       0.148        2.874   \n",
       "FOX     Communication Services   0.485       0.175        2.774   \n",
       "T       Communication Services   0.413       0.194        2.135   \n",
       "DOC                Real Estate   0.446       0.220        2.025   \n",
       "PPL                  Utilities   0.292       0.153        1.909   \n",
       "RF                  Financials   0.387       0.233        1.657   \n",
       "PCG                  Utilities   0.251       0.182        1.383   \n",
       "BKR                     Energy   0.337       0.255        1.321   \n",
       "GEN     Information Technology   0.375       0.290        1.293   \n",
       "HBAN                Financials   0.285       0.247        1.155   \n",
       "HPE     Information Technology   0.403       0.375        1.075   \n",
       "HPQ     Information Technology   0.308       0.317        0.972   \n",
       "KVUE          Consumer Staples   0.252       0.269        0.937   \n",
       "KEY                 Financials   0.285       0.308        0.925   \n",
       "MRO                     Energy   0.211       0.253        0.835   \n",
       "JNPR    Information Technology   0.065       0.082        0.785   \n",
       "KDP           Consumer Staples   0.120       0.166        0.724   \n",
       "EXC                  Utilities   0.119       0.170        0.701   \n",
       "IVZ                 Financials   0.196       0.282        0.697   \n",
       "AMCR                 Materials   0.150       0.233        0.645   \n",
       "VICI               Real Estate   0.094       0.186        0.508   \n",
       "\n",
       "        KMeansCluster  Dividends  \n",
       "Ticker                            \n",
       "KMI                 6   0.046716  \n",
       "NI                  6   0.030148  \n",
       "FOX                 6   0.013347  \n",
       "T                   6   0.049246  \n",
       "DOC                 6   0.053452  \n",
       "PPL                 0   0.030559  \n",
       "RF                  6   0.040637  \n",
       "PCG                 0   0.001484  \n",
       "BKR                 0   0.021796  \n",
       "GEN                 6   0.017176  \n",
       "HBAN                0   0.039769  \n",
       "HPE                 6   0.026167  \n",
       "HPQ                 0   0.030659  \n",
       "KVUE                0   0.034889  \n",
       "KEY                 0   0.047536  \n",
       "MRO                 0   0.015884  \n",
       "JNPR                4   0.022622  \n",
       "KDP                 4   0.026555  \n",
       "EXC                 4   0.038168  \n",
       "IVZ                 0   0.047001  \n",
       "AMCR                4   0.033693  \n",
       "VICI                4   0.050693  "
      ]
     },
     "execution_count": 43,
     "metadata": {},
     "output_type": "execute_result"
    }
   ],
   "source": [
    "dividend_stock_data[(dividend_stock_data['Price'] < 40) & (dividend_stock_data['SharpeRatio'] > 0.5)].sort_values(by='SharpeRatio', ascending=False)\n"
   ]
  }
 ],
 "metadata": {
  "kernelspec": {
   "display_name": "Python 3",
   "language": "python",
   "name": "python3"
  },
  "language_info": {
   "codemirror_mode": {
    "name": "ipython",
    "version": 3
   },
   "file_extension": ".py",
   "mimetype": "text/x-python",
   "name": "python",
   "nbconvert_exporter": "python",
   "pygments_lexer": "ipython3",
   "version": "3.12.3"
  }
 },
 "nbformat": 4,
 "nbformat_minor": 2
}
