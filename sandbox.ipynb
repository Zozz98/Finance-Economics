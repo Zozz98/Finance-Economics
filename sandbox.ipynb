{
  "nbformat": 4,
  "nbformat_minor": 0,
  "metadata": {
    "colab": {
      "provenance": [],
      "authorship_tag": "ABX9TyPgUec7fTwsleEJ9zchSIpo",
      "include_colab_link": true
    },
    "kernelspec": {
      "name": "python3",
      "display_name": "Python 3"
    },
    "language_info": {
      "name": "python"
    }
  },
  "cells": [
    {
      "cell_type": "markdown",
      "metadata": {
        "id": "view-in-github",
        "colab_type": "text"
      },
      "source": [
        "<a href=\"https://colab.research.google.com/github/Zozz98/Finance-Economics/blob/main/sandbox.ipynb\" target=\"_parent\"><img src=\"https://colab.research.google.com/assets/colab-badge.svg\" alt=\"Open In Colab\"/></a>"
      ]
    },
    {
      "cell_type": "markdown",
      "source": [
        "# IMPORTS"
      ],
      "metadata": {
        "id": "7PPzcqEtraHD"
      }
    },
    {
      "cell_type": "code",
      "execution_count": 1,
      "metadata": {
        "id": "75EFTzVmG75l"
      },
      "outputs": [],
      "source": [
        "import numpy as np\n",
        "import pandas as pd\n",
        "import matplotlib.pyplot as plt\n",
        "plt.style.use('fivethirtyeight')\n",
        "import plotly.express as px\n",
        "import yfinance as yf\n",
        "import pandas_datareader as pdr\n",
        "import datetime as dt\n",
        "\n",
        "from sklearn.cluster import KMeans"
      ]
    },
    {
      "cell_type": "markdown",
      "source": [
        "# GET DATA FROM WIKIPEDIA"
      ],
      "metadata": {
        "id": "O_I95wKyrijq"
      }
    },
    {
      "cell_type": "code",
      "source": [
        "url = \"https://en.wikipedia.org/wiki/List_of_S%26P_500_companies\"\n",
        "sp500_list = pd.read_html(url)\n",
        "sp500_list = sp500_list[0]\n",
        "sp500_list = sp500_list.drop(columns=['GICS Sub-Industry','Headquarters Location', 'Date added','CIK','Founded'], axis=1)\n",
        "sp500_list.rename(columns={'GICS Sector':'Sector'},inplace=True)"
      ],
      "metadata": {
        "id": "WeEEdKxnHhiR"
      },
      "execution_count": 2,
      "outputs": []
    },
    {
      "cell_type": "markdown",
      "source": [
        "# LOAD CLOSE PRICES FROM WIKIPEDIA DATA"
      ],
      "metadata": {
        "id": "Ln3L6R0YrqVJ"
      }
    },
    {
      "cell_type": "code",
      "source": [
        "end = dt.datetime.now()\n",
        "start = end - dt.timedelta(days=252)\n",
        "\n",
        "ticker_list = [i for i in sp500_list['Symbol']]\n",
        "\n",
        "for i in range(len(ticker_list)):\n",
        "    if ticker_list[i] == 'BRK.B':\n",
        "        ticker_list[i] = 'BRK-B'\n",
        "    elif ticker_list[i] == 'BF.B':\n",
        "        ticker_list[i] = 'BF-B'"
      ],
      "metadata": {
        "id": "XQSdFbFyJG6B"
      },
      "execution_count": 3,
      "outputs": []
    },
    {
      "cell_type": "code",
      "source": [
        "stocks = yf.download(ticker_list, start=start, end=end)['Close']"
      ],
      "metadata": {
        "colab": {
          "base_uri": "https://localhost:8080/"
        },
        "id": "N8ssmMUTjT5S",
        "outputId": "1f08ea9f-cf24-4a10-e165-60ab49efb046"
      },
      "execution_count": 4,
      "outputs": [
        {
          "output_type": "stream",
          "name": "stdout",
          "text": [
            "[*********************100%***********************]  503 of 503 completed\n"
          ]
        }
      ]
    },
    {
      "cell_type": "markdown",
      "source": [
        "# LOG RETURN AND SET COLUMNS"
      ],
      "metadata": {
        "id": "k-OCkD04rxfT"
      }
    },
    {
      "cell_type": "code",
      "source": [
        "log_return = np.log(stocks / stocks.shift(1)).replace(np.nan, 0)\n",
        "\n",
        "annual_return = log_return.mean() * 252\n",
        "annual_volatility = log_return.std() * np.sqrt(252)\n",
        "\n",
        "stock_data = pd.DataFrame()\n",
        "stock_data['Symbol'] = ticker_list\n",
        "stock_data['Security'] = sp500_list['Security']\n",
        "stock_data['Sector'] = sp500_list['Sector']\n",
        "stock_data['Return'] = list(round(annual_return, 3))\n",
        "stock_data['Volatility'] = list(round(annual_volatility, 3))\n",
        "stock_data['Ratio'] = list(round((annual_return / annual_volatility), 3))"
      ],
      "metadata": {
        "id": "SfnwlYLUQpJF"
      },
      "execution_count": 5,
      "outputs": []
    },
    {
      "cell_type": "markdown",
      "source": [
        "# VOLATILITY-RETURN SCATTER PLOT"
      ],
      "metadata": {
        "id": "q2jXOkhzr4gL"
      }
    },
    {
      "cell_type": "code",
      "source": [
        "px.scatter(stock_data,\n",
        "           x='Volatility',\n",
        "           y='Return',\n",
        "           hover_data=['Sector'],\n",
        "           hover_name='Symbol',\n",
        "           title='S&P 500 stocks by Volatility/Return',\n",
        "           color='Ratio',\n",
        "           width=750,\n",
        "           height=500,\n",
        "           template='plotly_dark'\n",
        "           ).update_layout(title_x=0.5)"
      ],
      "metadata": {
        "colab": {
          "base_uri": "https://localhost:8080/",
          "height": 517
        },
        "id": "F6Qq_Vd2trhj",
        "outputId": "b6a64434-8746-4938-9c48-dea118d31aa0"
      },
      "execution_count": 12,
      "outputs": [
        {
          "output_type": "display_data",
          "data": {
            "text/html": [
              "<html>\n",
              "<head><meta charset=\"utf-8\" /></head>\n",
              "<body>\n",
              "    <div>            <script src=\"https://cdnjs.cloudflare.com/ajax/libs/mathjax/2.7.5/MathJax.js?config=TeX-AMS-MML_SVG\"></script><script type=\"text/javascript\">if (window.MathJax && window.MathJax.Hub && window.MathJax.Hub.Config) {window.MathJax.Hub.Config({SVG: {font: \"STIX-Web\"}});}</script>                <script type=\"text/javascript\">window.PlotlyConfig = {MathJaxConfig: 'local'};</script>\n",
              "        <script src=\"https://cdn.plot.ly/plotly-2.18.2.min.js\"></script>                <div id=\"8f94e6d2-ccc0-4de7-a49e-0ba124e0b794\" class=\"plotly-graph-div\" style=\"height:500px; width:750px;\"></div>            <script type=\"text/javascript\">                                    window.PLOTLYENV=window.PLOTLYENV || {};                                    if (document.getElementById(\"8f94e6d2-ccc0-4de7-a49e-0ba124e0b794\")) {                    Plotly.newPlot(                        \"8f94e6d2-ccc0-4de7-a49e-0ba124e0b794\",                        [{\"customdata\":[[\"Industrials\"],[\"Industrials\"],[\"Health Care\"],[\"Health Care\"],[\"Information Technology\"],[\"Communication Services\"],[\"Consumer Staples\"],[\"Information Technology\"],[\"Industrials\"],[\"Consumer Discretionary\"],[\"Utilities\"],[\"Financials\"],[\"Health Care\"],[\"Materials\"],[\"Information Technology\"],[\"Industrials\"],[\"Materials\"],[\"Real Estate\"],[\"Health Care\"],[\"Industrials\"],[\"Utilities\"],[\"Financials\"],[\"Communication Services\"],[\"Communication Services\"],[\"Consumer Staples\"],[\"Consumer Discretionary\"],[\"Materials\"],[\"Information Technology\"],[\"Utilities\"],[\"Industrials\"],[\"Utilities\"],[\"Financials\"],[\"Financials\"],[\"Real Estate\"],[\"Utilities\"],[\"Financials\"],[\"Health Care\"],[\"Industrials\"],[\"Health Care\"],[\"Information Technology\"],[\"Information Technology\"],[\"Information Technology\"],[\"Financials\"],[\"Energy\"],[\"Information Technology\"],[\"Information Technology\"],[\"Consumer Discretionary\"],[\"Financials\"],[\"Information Technology\"],[\"Financials\"],[\"Financials\"],[\"Communication Services\"],[\"Utilities\"],[\"Information Technology\"],[\"Consumer Discretionary\"],[\"Real Estate\"],[\"Materials\"],[\"Industrials\"],[\"Energy\"],[\"Materials\"],[\"Financials\"],[\"Consumer Discretionary\"],[\"Health Care\"],[\"Health Care\"],[\"Financials\"],[\"Financials\"],[\"Consumer Discretionary\"],[\"Health Care\"],[\"Health Care\"],[\"Health Care\"],[\"Financials\"],[\"Financials\"],[\"Industrials\"],[\"Consumer Discretionary\"],[\"Consumer Discretionary\"],[\"Real Estate\"],[\"Health Care\"],[\"Health Care\"],[\"Information Technology\"],[\"Industrials\"],[\"Financials\"],[\"Consumer Staples\"],[\"Consumer Staples\"],[\"Industrials\"],[\"Information Technology\"],[\"Consumer Discretionary\"],[\"Real Estate\"],[\"Consumer Staples\"],[\"Financials\"],[\"Health Care\"],[\"Consumer Discretionary\"],[\"Consumer Discretionary\"],[\"Industrials\"],[\"Health Care\"],[\"Industrials\"],[\"Financials\"],[\"Real Estate\"],[\"Information Technology\"],[\"Materials\"],[\"Health Care\"],[\"Utilities\"],[\"Information Technology\"],[\"Materials\"],[\"Health Care\"],[\"Financials\"],[\"Communication Services\"],[\"Energy\"],[\"Consumer Discretionary\"],[\"Financials\"],[\"Consumer Staples\"],[\"Health Care\"],[\"Financials\"],[\"Industrials\"],[\"Information Technology\"],[\"Financials\"],[\"Financials\"],[\"Consumer Staples\"],[\"Financials\"],[\"Utilities\"],[\"Consumer Staples\"],[\"Information Technology\"],[\"Consumer Staples\"],[\"Communication Services\"],[\"Financials\"],[\"Consumer Staples\"],[\"Energy\"],[\"Utilities\"],[\"Consumer Staples\"],[\"Utilities\"],[\"Health Care\"],[\"Industrials\"],[\"Information Technology\"],[\"Materials\"],[\"Industrials\"],[\"Consumer Staples\"],[\"Energy\"],[\"Real Estate\"],[\"Industrials\"],[\"Industrials\"],[\"Health Care\"],[\"Consumer Discretionary\"],[\"Health Care\"],[\"Consumer Discretionary\"],[\"Health Care\"],[\"Industrials\"],[\"Industrials\"],[\"Health Care\"],[\"Energy\"],[\"Health Care\"],[\"Energy\"],[\"Real Estate\"],[\"Financials\"],[\"Communication Services\"],[\"Communication Services\"],[\"Consumer Staples\"],[\"Consumer Staples\"],[\"Utilities\"],[\"Consumer Discretionary\"],[\"Industrials\"],[\"Materials\"],[\"Utilities\"],[\"Utilities\"],[\"Materials\"],[\"Information Technology\"],[\"Materials\"],[\"Industrials\"],[\"Consumer Discretionary\"],[\"Materials\"],[\"Utilities\"],[\"Health Care\"],[\"Communication Services\"],[\"Health Care\"],[\"Health Care\"],[\"Industrials\"],[\"Information Technology\"],[\"Utilities\"],[\"Energy\"],[\"Information Technology\"],[\"Energy\"],[\"Industrials\"],[\"Real Estate\"],[\"Real Estate\"],[\"Real Estate\"],[\"Consumer Staples\"],[\"Consumer Discretionary\"],[\"Financials\"],[\"Utilities\"],[\"Utilities\"],[\"Utilities\"],[\"Consumer Discretionary\"],[\"Industrials\"],[\"Real Estate\"],[\"Energy\"],[\"Information Technology\"],[\"Financials\"],[\"Information Technology\"],[\"Industrials\"],[\"Real Estate\"],[\"Industrials\"],[\"Financials\"],[\"Information Technology\"],[\"Utilities\"],[\"Financials\"],[\"Financials\"],[\"Financials\"],[\"Materials\"],[\"Consumer Discretionary\"],[\"Information Technology\"],[\"Industrials\"],[\"Communication Services\"],[\"Communication Services\"],[\"Financials\"],[\"Materials\"],[\"Consumer Discretionary\"],[\"Information Technology\"],[\"Health Care\"],[\"Information Technology\"],[\"Industrials\"],[\"Industrials\"],[\"Industrials\"],[\"Consumer Staples\"],[\"Consumer Discretionary\"],[\"Consumer Discretionary\"],[\"Health Care\"],[\"Financials\"],[\"Financials\"],[\"Financials\"],[\"Energy\"],[\"Financials\"],[\"Consumer Discretionary\"],[\"Health Care\"],[\"Real Estate\"],[\"Health Care\"],[\"Consumer Staples\"],[\"Energy\"],[\"Information Technology\"],[\"Consumer Discretionary\"],[\"Health Care\"],[\"Consumer Discretionary\"],[\"Industrials\"],[\"Consumer Staples\"],[\"Real Estate\"],[\"Industrials\"],[\"Information Technology\"],[\"Health Care\"],[\"Financials\"],[\"Industrials\"],[\"Information Technology\"],[\"Industrials\"],[\"Health Care\"],[\"Industrials\"],[\"Health Care\"],[\"Health Care\"],[\"Industrials\"],[\"Health Care\"],[\"Information Technology\"],[\"Financials\"],[\"Materials\"],[\"Materials\"],[\"Communication Services\"],[\"Information Technology\"],[\"Health Care\"],[\"Financials\"],[\"Real Estate\"],[\"Health Care\"],[\"Real Estate\"],[\"Industrials\"],[\"Financials\"],[\"Industrials\"],[\"Health Care\"],[\"Industrials\"],[\"Financials\"],[\"Information Technology\"],[\"Consumer Staples\"],[\"Consumer Staples\"],[\"Financials\"],[\"Information Technology\"],[\"Consumer Staples\"],[\"Real Estate\"],[\"Energy\"],[\"Information Technology\"],[\"Consumer Staples\"],[\"Consumer Staples\"],[\"Industrials\"],[\"Health Care\"],[\"Information Technology\"],[\"Consumer Staples\"],[\"Consumer Discretionary\"],[\"Industrials\"],[\"Consumer Discretionary\"],[\"Financials\"],[\"Materials\"],[\"Communication Services\"],[\"Consumer Discretionary\"],[\"Industrials\"],[\"Financials\"],[\"Consumer Discretionary\"],[\"Materials\"],[\"Financials\"],[\"Energy\"],[\"Energy\"],[\"Financials\"],[\"Consumer Discretionary\"],[\"Financials\"],[\"Materials\"],[\"Industrials\"],[\"Financials\"],[\"Communication Services\"],[\"Consumer Staples\"],[\"Consumer Discretionary\"],[\"Health Care\"],[\"Health Care\"],[\"Health Care\"],[\"Communication Services\"],[\"Financials\"],[\"Health Care\"],[\"Consumer Discretionary\"],[\"Information Technology\"],[\"Information Technology\"],[\"Information Technology\"],[\"Real Estate\"],[\"Health Care\"],[\"Consumer Discretionary\"],[\"Health Care\"],[\"Consumer Staples\"],[\"Consumer Staples\"],[\"Information Technology\"],[\"Consumer Staples\"],[\"Financials\"],[\"Financials\"],[\"Materials\"],[\"Information Technology\"],[\"Financials\"],[\"Financials\"],[\"Information Technology\"],[\"Communication Services\"],[\"Consumer Discretionary\"],[\"Materials\"],[\"Communication Services\"],[\"Communication Services\"],[\"Utilities\"],[\"Consumer Discretionary\"],[\"Utilities\"],[\"Industrials\"],[\"Industrials\"],[\"Financials\"],[\"Industrials\"],[\"Consumer Discretionary\"],[\"Utilities\"],[\"Materials\"],[\"Information Technology\"],[\"Consumer Discretionary\"],[\"Information Technology\"],[\"Consumer Discretionary\"],[\"Energy\"],[\"Industrials\"],[\"Communication Services\"],[\"Information Technology\"],[\"Energy\"],[\"Information Technology\"],[\"Health Care\"],[\"Industrials\"],[\"Industrials\"],[\"Materials\"],[\"Communication Services\"],[\"Industrials\"],[\"Industrials\"],[\"Information Technology\"],[\"Financials\"],[\"Industrials\"],[\"Consumer Staples\"],[\"Health Care\"],[\"Utilities\"],[\"Consumer Staples\"],[\"Energy\"],[\"Utilities\"],[\"Energy\"],[\"Financials\"],[\"Consumer Discretionary\"],[\"Materials\"],[\"Utilities\"],[\"Financials\"],[\"Consumer Staples\"],[\"Financials\"],[\"Real Estate\"],[\"Financials\"],[\"Utilities\"],[\"Information Technology\"],[\"Real Estate\"],[\"Consumer Discretionary\"],[\"Information Technology\"],[\"Industrials\"],[\"Information Technology\"],[\"Health Care\"],[\"Consumer Discretionary\"],[\"Financials\"],[\"Industrials\"],[\"Real Estate\"],[\"Real Estate\"],[\"Health Care\"],[\"Financials\"],[\"Industrials\"],[\"Health Care\"],[\"Health Care\"],[\"Industrials\"],[\"Industrials\"],[\"Industrials\"],[\"Information Technology\"],[\"Consumer Discretionary\"],[\"Consumer Discretionary\"],[\"Financials\"],[\"Information Technology\"],[\"Real Estate\"],[\"Energy\"],[\"Information Technology\"],[\"Materials\"],[\"Utilities\"],[\"Information Technology\"],[\"Materials\"],[\"Real Estate\"],[\"Information Technology\"],[\"Consumer Staples\"],[\"Industrials\"],[\"Information Technology\"],[\"Utilities\"],[\"Industrials\"],[\"Industrials\"],[\"Consumer Discretionary\"],[\"Financials\"],[\"Materials\"],[\"Health Care\"],[\"Health Care\"],[\"Financials\"],[\"Information Technology\"],[\"Consumer Staples\"],[\"Communication Services\"],[\"Financials\"],[\"Communication Services\"],[\"Consumer Discretionary\"],[\"Energy\"],[\"Consumer Staples\"],[\"Information Technology\"],[\"Information Technology\"],[\"Health Care\"],[\"Information Technology\"],[\"Consumer Discretionary\"],[\"Information Technology\"],[\"Industrials\"],[\"Health Care\"],[\"Consumer Discretionary\"],[\"Consumer Discretionary\"],[\"Industrials\"],[\"Industrials\"],[\"Financials\"],[\"Information Technology\"],[\"Financials\"],[\"Information Technology\"],[\"Consumer Staples\"],[\"Financials\"],[\"Real Estate\"],[\"Consumer Discretionary\"],[\"Industrials\"],[\"Industrials\"],[\"Industrials\"],[\"Industrials\"],[\"Health Care\"],[\"Health Care\"],[\"Energy\"],[\"Real Estate\"],[\"Information Technology\"],[\"Industrials\"],[\"Communication Services\"],[\"Health Care\"],[\"Consumer Discretionary\"],[\"Health Care\"],[\"Real Estate\"],[\"Financials\"],[\"Materials\"],[\"Industrials\"],[\"Consumer Staples\"],[\"Consumer Staples\"],[\"Communication Services\"],[\"Industrials\"],[\"Health Care\"],[\"Utilities\"],[\"Financials\"],[\"Real Estate\"],[\"Health Care\"],[\"Information Technology\"],[\"Materials\"],[\"Real Estate\"],[\"Consumer Discretionary\"],[\"Energy\"],[\"Financials\"],[\"Industrials\"],[\"Consumer Discretionary\"],[\"Utilities\"],[\"Industrials\"],[\"Consumer Discretionary\"],[\"Information Technology\"],[\"Health Care\"],[\"Financials\"],[\"Health Care\"]],\"hovertemplate\":\"<b>%{hovertext}</b><br><br>Volatility=%{x}<br>Return=%{y}<br>Sector=%{customdata[0]}<br>Ratio=%{marker.color}<extra></extra>\",\"hovertext\":[\"MMM\",\"AOS\",\"ABT\",\"ABBV\",\"ACN\",\"ATVI\",\"ADM\",\"ADBE\",\"ADP\",\"AAP\",\"AES\",\"AFL\",\"A\",\"APD\",\"AKAM\",\"ALK\",\"ALB\",\"ARE\",\"ALGN\",\"ALLE\",\"LNT\",\"ALL\",\"GOOGL\",\"GOOG\",\"MO\",\"AMZN\",\"AMCR\",\"AMD\",\"AEE\",\"AAL\",\"AEP\",\"AXP\",\"AIG\",\"AMT\",\"AWK\",\"AMP\",\"ABC\",\"AME\",\"AMGN\",\"APH\",\"ADI\",\"ANSS\",\"AON\",\"APA\",\"AAPL\",\"AMAT\",\"APTV\",\"ACGL\",\"ANET\",\"AJG\",\"AIZ\",\"T\",\"ATO\",\"ADSK\",\"AZO\",\"AVB\",\"AVY\",\"AXON\",\"BKR\",\"BALL\",\"BAC\",\"BBWI\",\"BAX\",\"BDX\",\"WRB\",\"BRK-B\",\"BBY\",\"BIO\",\"TECH\",\"BIIB\",\"BLK\",\"BK\",\"BA\",\"BKNG\",\"BWA\",\"BXP\",\"BSX\",\"BMY\",\"AVGO\",\"BR\",\"BRO\",\"BF-B\",\"BG\",\"CHRW\",\"CDNS\",\"CZR\",\"CPT\",\"CPB\",\"COF\",\"CAH\",\"KMX\",\"CCL\",\"CARR\",\"CTLT\",\"CAT\",\"CBOE\",\"CBRE\",\"CDW\",\"CE\",\"CNC\",\"CNP\",\"CDAY\",\"CF\",\"CRL\",\"SCHW\",\"CHTR\",\"CVX\",\"CMG\",\"CB\",\"CHD\",\"CI\",\"CINF\",\"CTAS\",\"CSCO\",\"C\",\"CFG\",\"CLX\",\"CME\",\"CMS\",\"KO\",\"CTSH\",\"CL\",\"CMCSA\",\"CMA\",\"CAG\",\"COP\",\"ED\",\"STZ\",\"CEG\",\"COO\",\"CPRT\",\"GLW\",\"CTVA\",\"CSGP\",\"COST\",\"CTRA\",\"CCI\",\"CSX\",\"CMI\",\"CVS\",\"DHI\",\"DHR\",\"DRI\",\"DVA\",\"DE\",\"DAL\",\"XRAY\",\"DVN\",\"DXCM\",\"FANG\",\"DLR\",\"DFS\",\"DISH\",\"DIS\",\"DG\",\"DLTR\",\"D\",\"DPZ\",\"DOV\",\"DOW\",\"DTE\",\"DUK\",\"DD\",\"DXC\",\"EMN\",\"ETN\",\"EBAY\",\"ECL\",\"EIX\",\"EW\",\"EA\",\"ELV\",\"LLY\",\"EMR\",\"ENPH\",\"ETR\",\"EOG\",\"EPAM\",\"EQT\",\"EFX\",\"EQIX\",\"EQR\",\"ESS\",\"EL\",\"ETSY\",\"RE\",\"EVRG\",\"ES\",\"EXC\",\"EXPE\",\"EXPD\",\"EXR\",\"XOM\",\"FFIV\",\"FDS\",\"FICO\",\"FAST\",\"FRT\",\"FDX\",\"FITB\",\"FSLR\",\"FE\",\"FIS\",\"FI\",\"FLT\",\"FMC\",\"F\",\"FTNT\",\"FTV\",\"FOXA\",\"FOX\",\"BEN\",\"FCX\",\"GRMN\",\"IT\",\"GEHC\",\"GEN\",\"GNRC\",\"GD\",\"GE\",\"GIS\",\"GM\",\"GPC\",\"GILD\",\"GL\",\"GPN\",\"GS\",\"HAL\",\"HIG\",\"HAS\",\"HCA\",\"PEAK\",\"HSIC\",\"HSY\",\"HES\",\"HPE\",\"HLT\",\"HOLX\",\"HD\",\"HON\",\"HRL\",\"HST\",\"HWM\",\"HPQ\",\"HUM\",\"HBAN\",\"HII\",\"IBM\",\"IEX\",\"IDXX\",\"ITW\",\"ILMN\",\"INCY\",\"IR\",\"PODD\",\"INTC\",\"ICE\",\"IFF\",\"IP\",\"IPG\",\"INTU\",\"ISRG\",\"IVZ\",\"INVH\",\"IQV\",\"IRM\",\"JBHT\",\"JKHY\",\"J\",\"JNJ\",\"JCI\",\"JPM\",\"JNPR\",\"K\",\"KDP\",\"KEY\",\"KEYS\",\"KMB\",\"KIM\",\"KMI\",\"KLAC\",\"KHC\",\"KR\",\"LHX\",\"LH\",\"LRCX\",\"LW\",\"LVS\",\"LDOS\",\"LEN\",\"LNC\",\"LIN\",\"LYV\",\"LKQ\",\"LMT\",\"L\",\"LOW\",\"LYB\",\"MTB\",\"MRO\",\"MPC\",\"MKTX\",\"MAR\",\"MMC\",\"MLM\",\"MAS\",\"MA\",\"MTCH\",\"MKC\",\"MCD\",\"MCK\",\"MDT\",\"MRK\",\"META\",\"MET\",\"MTD\",\"MGM\",\"MCHP\",\"MU\",\"MSFT\",\"MAA\",\"MRNA\",\"MHK\",\"MOH\",\"TAP\",\"MDLZ\",\"MPWR\",\"MNST\",\"MCO\",\"MS\",\"MOS\",\"MSI\",\"MSCI\",\"NDAQ\",\"NTAP\",\"NFLX\",\"NWL\",\"NEM\",\"NWSA\",\"NWS\",\"NEE\",\"NKE\",\"NI\",\"NDSN\",\"NSC\",\"NTRS\",\"NOC\",\"NCLH\",\"NRG\",\"NUE\",\"NVDA\",\"NVR\",\"NXPI\",\"ORLY\",\"OXY\",\"ODFL\",\"OMC\",\"ON\",\"OKE\",\"ORCL\",\"OGN\",\"OTIS\",\"PCAR\",\"PKG\",\"PARA\",\"PH\",\"PAYX\",\"PAYC\",\"PYPL\",\"PNR\",\"PEP\",\"PFE\",\"PCG\",\"PM\",\"PSX\",\"PNW\",\"PXD\",\"PNC\",\"POOL\",\"PPG\",\"PPL\",\"PFG\",\"PG\",\"PGR\",\"PLD\",\"PRU\",\"PEG\",\"PTC\",\"PSA\",\"PHM\",\"QRVO\",\"PWR\",\"QCOM\",\"DGX\",\"RL\",\"RJF\",\"RTX\",\"O\",\"REG\",\"REGN\",\"RF\",\"RSG\",\"RMD\",\"RVTY\",\"RHI\",\"ROK\",\"ROL\",\"ROP\",\"ROST\",\"RCL\",\"SPGI\",\"CRM\",\"SBAC\",\"SLB\",\"STX\",\"SEE\",\"SRE\",\"NOW\",\"SHW\",\"SPG\",\"SWKS\",\"SJM\",\"SNA\",\"SEDG\",\"SO\",\"LUV\",\"SWK\",\"SBUX\",\"STT\",\"STLD\",\"STE\",\"SYK\",\"SYF\",\"SNPS\",\"SYY\",\"TMUS\",\"TROW\",\"TTWO\",\"TPR\",\"TRGP\",\"TGT\",\"TEL\",\"TDY\",\"TFX\",\"TER\",\"TSLA\",\"TXN\",\"TXT\",\"TMO\",\"TJX\",\"TSCO\",\"TT\",\"TDG\",\"TRV\",\"TRMB\",\"TFC\",\"TYL\",\"TSN\",\"USB\",\"UDR\",\"ULTA\",\"UNP\",\"UAL\",\"UPS\",\"URI\",\"UNH\",\"UHS\",\"VLO\",\"VTR\",\"VRSN\",\"VRSK\",\"VZ\",\"VRTX\",\"VFC\",\"VTRS\",\"VICI\",\"V\",\"VMC\",\"WAB\",\"WBA\",\"WMT\",\"WBD\",\"WM\",\"WAT\",\"WEC\",\"WFC\",\"WELL\",\"WST\",\"WDC\",\"WRK\",\"WY\",\"WHR\",\"WMB\",\"WTW\",\"GWW\",\"WYNN\",\"XEL\",\"XYL\",\"YUM\",\"ZBRA\",\"ZBH\",\"ZION\",\"ZTS\"],\"legendgroup\":\"\",\"marker\":{\"color\":[-0.193,1.157,-2.04,1.371,0.016,2.117,0.301,2.158,1.05,2.139,1.346,-0.773,-0.206,0.395,0.528,0.037,-0.767,1.149,0.811,-0.581,1.28,0.682,-0.578,1.139,0.946,-0.779,1.197,1.985,-0.298,2.032,1.946,-0.072,0.787,0.086,0.351,1.182,2.069,1.137,1.616,-0.576,1.297,1.029,0.777,-0.623,0.999,0.63,0.665,3.032,0.169,1.008,1.661,1.069,0.71,2.337,-0.242,0.701,-0.784,0.369,0.98,1.174,0.958,0.04,0.451,0.946,-0.15,0.672,2.42,1.301,1.207,-0.273,0.625,1.841,0.317,2.362,1.968,-0.921,0.728,0.256,1.759,1.247,1.534,0.353,0.997,0.516,-0.715,2.264,0.471,1.836,0.56,0.782,0.436,-1.537,-0.847,2.261,0.024,0.253,-0.344,0.249,1.07,1.309,-1.07,1.931,0.613,1.532,0.406,0.617,-0.581,0.626,0.601,1.727,-0.452,0.709,-0.175,2.688,0.056,0.15,1.408,1.795,0.742,1.353,1.378,-0.893,-0.478,0.502,-0.356,-1.62,0.004,0.908,-1.088,1.7,1.515,0.651,1.001,-1.552,0.785,2.208,-0.385,-0.167,-1.734,0.609,-0.171,1.094,0.899,0.288,2.127,0.485,0.242,0.322,-1.158,0.096,0.904,0.438,0.853,1.225,1.007,1.279,1.119,-0.21,-0.284,0.633,0.619,-0.812,-0.359,-1.056,1.87,0.404,-0.232,-0.243,0.35,1.797,-0.014,-0.375,0.206,0.418,0.556,1.389,0.462,-0.57,0.907,-0.352,1.123,1.045,0.111,2.19,0.39,0.29,1.043,2.341,-0.823,-0.739,1.442,-0.309,0.447,0.391,0.383,0.968,1.264,1.071,-0.275,4.075,1.303,-0.5,1.201,0.417,0.048,0.973,0.656,-0.559,0.892,0.92,0.281,-0.322,1.763,0.684,1.837,0.315,-0.349,-0.673,2.164,0.332,0.258,0.696,-0.365,0.929,1.654,1.163,1.694,1.022,-0.747,0.829,0.191,1.267,-0.559,1.892,1.154,1.394,1.589,0.176,-0.389,0.034,-0.425,1.32,0.574,0.339,0.063,2.331,0.926,1.805,1.286,2.46,1.153,1.734,0.577,0.185,0.417,1.276,-0.571,0.222,1.228,1.747,-0.505,-1.114,-1.085,0.131,0.665,0.219,1.633,1.942,-0.012,0.734,1.257,0.255,0.853,-0.339,2.04,0.748,-0.976,2.01,0.548,2.036,0.753,-1.3,0.477,0.524,1.78,0.371,1.585,2.23,0.777,0.562,1.583,0.402,1.203,0.537,2.081,1.26,1.041,1.612,2.413,0.48,-0.641,1.81,1.225,0.201,1.248,0.626,1.393,1.122,-0.189,1.701,0.108,-1.151,-1.298,0.271,1.087,1.38,0.115,-0.566,0.622,0.622,1.791,1.261,-1.429,-0.365,0.741,0.958,1.321,-0.588,0.492,-0.084,0.147,1.99,0.716,1.204,-0.515,1.318,-0.708,0.311,0.725,-0.536,0.913,3.299,1.881,-1.725,1.01,1.039,1.127,0.506,0.778,-0.503,0.684,2.387,1.11,4.063,1.688,2.0,-0.527,-0.284,-0.044,0.194,1.68,1.426,-0.242,0.8,1.317,-0.262,-0.082,1.731,0.267,1.883,2.741,0.831,1.035,0.943,-0.665,1.671,2.039,0.734,0.376,1.207,0.604,-0.23,-0.009,0.285,1.684,1.85,-0.801,-0.872,0.259,0.853,2.759,1.323,0.661,0.4,-0.446,-0.295,-0.313,1.366,-0.003,1.574,0.747,1.631,1.228,0.921,1.033,-0.079,-0.497,0.851,-0.981,0.721,-0.449,0.875,0.715,0.451,1.632,1.755,0.834,0.996,1.527,0.03,1.049,0.916,0.706,0.753,0.667,0.585,1.007,0.216,1.89,0.057,0.394,2.028,2.293,1.097,0.412,1.026,1.435,-0.937,1.281,-0.542,1.698,0.274,-0.32,1.335,0.566,-0.082,0.278,0.715,0.603,0.356,-1.106,1.205,0.63,0.654,0.48,0.581,1.691,0.761,2.117,0.683,-0.529,0.293,0.597,1.288,-0.617,1.54,-1.103,0.433,0.111,1.429,1.552,1.359,0.892,1.124,0.758,-0.03,1.134,-0.053,0.134,0.16,0.503,0.471,1.618,0.082,0.163,0.504,0.239,1.562,-0.735,-0.268,1.345,0.854,0.365,1.785,0.399,0.33,1.427,1.265,2.001,2.01,0.28,-1.172,0.74],\"coloraxis\":\"coloraxis\",\"symbol\":\"circle\"},\"mode\":\"markers\",\"name\":\"\",\"orientation\":\"v\",\"showlegend\":false,\"x\":[0.294,0.394,0.626,0.292,0.214,0.196,0.237,0.285,0.298,0.375,0.314,0.259,0.232,0.411,0.218,0.225,0.292,0.228,0.302,0.324,0.218,0.29,0.499,0.595,0.312,0.312,0.31,0.413,0.248,0.524,0.224,0.217,0.323,0.295,0.411,0.45,0.33,0.21,0.324,0.456,0.261,0.24,0.367,0.316,0.231,0.244,0.261,0.329,0.293,0.226,0.414,0.306,0.226,0.319,0.295,0.352,0.358,0.53,0.343,0.202,0.329,0.226,0.347,0.239,0.415,0.282,0.275,0.35,0.306,0.184,0.265,0.188,0.299,0.194,0.29,0.384,0.294,0.178,0.234,0.322,0.301,0.218,0.213,0.32,0.298,0.584,0.476,0.334,0.305,0.402,0.307,0.381,0.414,0.194,0.307,0.401,0.258,0.307,0.173,0.242,0.705,0.261,0.197,0.304,0.262,0.216,0.292,0.207,0.407,0.299,0.346,0.238,0.23,0.246,0.26,0.408,0.387,0.216,0.287,0.239,0.223,0.865,0.37,0.326,0.265,0.238,0.257,0.517,0.254,0.321,0.283,0.28,0.331,0.354,0.206,0.315,0.295,0.36,0.656,0.381,0.322,0.27,0.274,0.344,0.185,0.211,0.201,0.502,0.435,0.368,0.42,0.213,0.311,0.3,0.191,0.353,0.251,0.427,0.27,0.325,0.257,0.629,0.352,0.543,0.303,0.259,0.478,0.235,0.281,0.274,0.232,0.549,0.229,0.367,0.226,0.294,0.419,0.335,0.383,0.356,0.264,0.432,0.256,0.28,0.223,0.287,0.275,0.437,0.573,0.428,0.33,0.243,0.277,0.287,0.277,0.551,0.405,0.254,0.193,0.264,0.303,0.318,0.244,0.191,0.224,0.26,0.359,0.665,0.373,0.369,0.229,0.39,0.237,0.252,0.296,0.451,0.385,0.415,0.253,0.27,0.379,0.25,0.243,0.247,0.238,0.208,0.307,0.307,0.181,0.253,0.325,0.177,0.285,0.257,0.196,0.222,0.364,0.242,0.386,0.495,0.228,0.405,0.407,0.292,0.297,0.26,0.323,0.288,0.261,0.337,0.261,0.241,0.381,0.251,0.298,0.293,0.32,0.154,0.249,0.259,0.192,0.182,0.636,0.31,0.18,0.284,0.393,0.167,0.218,0.446,0.146,0.241,0.222,0.29,0.306,0.253,0.245,0.234,0.231,0.232,0.219,0.708,0.228,0.3,0.457,0.308,0.365,0.21,0.302,0.374,0.235,0.261,0.275,0.34,0.156,0.386,0.219,0.308,0.169,0.26,0.302,0.597,0.363,0.42,0.233,0.406,0.304,0.211,0.284,0.214,0.187,0.293,0.433,0.355,0.546,0.2,0.532,0.406,0.272,0.375,0.326,0.243,0.394,0.526,0.313,0.418,0.522,0.295,0.296,0.26,0.356,0.461,0.225,0.327,0.267,0.434,0.379,0.255,0.3,0.361,0.397,0.573,0.276,0.424,0.324,0.326,0.38,0.196,0.365,0.359,0.286,0.234,0.493,0.249,0.205,0.226,0.335,0.673,0.413,0.25,0.255,0.213,0.267,0.22,0.154,0.23,0.315,0.159,0.269,0.293,0.325,0.26,0.303,0.188,0.352,0.343,0.22,0.405,0.401,0.309,0.197,0.293,0.282,0.327,0.251,0.288,0.342,0.402,0.382,0.384,0.445,0.303,0.261,0.251,0.365,0.328,0.326,0.351,0.267,0.312,0.234,0.204,0.27,0.179,0.211,0.319,0.312,0.269,0.448,0.578,0.335,0.31,0.163,0.407,0.24,0.34,0.2,0.29,0.267,0.217,0.329,0.44,0.371,0.402,0.232,0.406,0.382,0.398,0.268,0.206,0.277,0.242,0.272,0.245,0.348,0.276,0.384,0.475,0.321,0.362,0.2,0.269,0.231,0.362,0.322,0.382,0.395,0.235,0.272,0.637,0.317,0.285,0.374,0.267,0.247,0.342,0.385,0.263,0.34,0.294,0.232,0.264,0.272,0.404,0.412,0.216,0.493,0.214,0.391,0.276,0.263,0.251,0.272,0.298,0.311,0.214,0.241,0.31,0.28,0.571,0.449,0.215,0.304,0.309,0.333,0.172,0.24,0.172,0.26,0.337,0.419,0.225,0.284,0.392,0.218,0.272,0.354,0.282,0.183,0.216,0.458,0.692,0.311],\"xaxis\":\"x\",\"y\":[-0.057,0.456,-1.276,0.401,0.003,0.415,0.071,0.615,0.312,0.801,0.423,-0.2,-0.048,0.162,0.115,0.008,-0.224,0.262,0.245,-0.188,0.279,0.198,-0.288,0.678,0.295,-0.243,0.371,0.819,-0.074,1.065,0.437,-0.016,0.255,0.025,0.144,0.532,0.684,0.239,0.523,-0.263,0.338,0.247,0.285,-0.197,0.23,0.154,0.173,0.997,0.049,0.227,0.688,0.328,0.161,0.745,-0.072,0.247,-0.28,0.195,0.336,0.237,0.315,0.009,0.157,0.226,-0.062,0.189,0.666,0.455,0.369,-0.05,0.166,0.345,0.095,0.459,0.571,-0.354,0.214,0.046,0.412,0.401,0.461,0.077,0.213,0.165,-0.213,1.321,0.224,0.614,0.171,0.315,0.134,-0.586,-0.35,0.438,0.007,0.101,-0.089,0.076,0.185,0.318,-0.754,0.505,0.121,0.466,0.106,0.133,-0.169,0.129,0.245,0.517,-0.156,0.169,-0.04,0.661,0.015,0.061,0.545,0.388,0.213,0.324,0.308,-0.773,-0.177,0.164,-0.094,-0.386,0.001,0.47,-0.277,0.546,0.428,0.182,0.331,-0.549,0.162,0.695,-0.114,-0.06,-1.137,0.232,-0.055,0.295,0.247,0.099,0.394,0.103,0.049,0.162,-0.503,0.035,0.38,0.093,0.265,0.367,0.192,0.451,0.281,-0.09,-0.077,0.206,0.159,-0.511,-0.127,-0.574,0.566,0.105,-0.111,-0.057,0.098,0.493,-0.003,-0.206,0.047,0.153,0.125,0.409,0.194,-0.191,0.347,-0.125,0.296,0.451,0.028,0.614,0.087,0.083,0.287,1.023,-0.472,-0.316,0.476,-0.075,0.124,0.112,0.106,0.533,0.511,0.272,-0.053,1.078,0.394,-0.159,0.294,0.08,0.011,0.253,0.236,-0.372,0.333,0.339,0.064,-0.126,0.418,0.172,0.544,0.142,-0.134,-0.28,0.548,0.09,0.098,0.174,-0.089,0.229,0.394,0.242,0.519,0.314,-0.135,0.21,0.062,0.224,-0.159,0.486,0.226,0.31,0.578,0.043,-0.15,0.017,-0.097,0.534,0.233,0.099,0.019,0.607,0.299,0.52,0.336,0.828,0.301,0.418,0.22,0.046,0.124,0.373,-0.183,0.034,0.305,0.453,-0.097,-0.203,-0.689,0.041,0.12,0.062,0.641,0.325,-0.003,0.327,0.183,0.062,0.189,-0.098,0.624,0.189,-0.239,0.47,0.126,0.472,0.165,-0.921,0.109,0.157,0.813,0.115,0.579,0.468,0.235,0.21,0.371,0.105,0.331,0.183,0.325,0.486,0.228,0.497,0.407,0.125,-0.194,1.081,0.445,0.084,0.291,0.254,0.423,0.237,-0.054,0.365,0.02,-0.337,-0.562,0.096,0.594,0.276,0.061,-0.23,0.17,0.234,0.584,0.307,-0.563,-0.192,0.232,0.401,0.69,-0.174,0.146,-0.022,0.052,0.918,0.161,0.394,-0.138,0.572,-0.268,0.079,0.218,-0.194,0.362,1.889,0.52,-0.732,0.327,0.339,0.428,0.099,0.284,-0.181,0.196,0.559,0.547,1.013,0.346,0.451,-0.176,-0.191,-0.018,0.048,0.429,0.303,-0.065,0.176,0.203,-0.06,-0.026,0.276,0.072,0.551,0.892,0.216,0.313,0.178,-0.234,0.573,0.448,0.298,0.151,0.373,0.119,-0.067,-0.003,0.093,0.422,0.532,-0.274,-0.351,0.099,0.327,1.229,0.401,0.172,0.1,-0.163,-0.097,-0.102,0.479,-0.001,0.492,0.175,0.333,0.332,0.165,0.218,-0.025,-0.155,0.229,-0.44,0.417,-0.15,0.271,0.116,0.183,0.392,0.596,0.167,0.288,0.408,0.006,0.345,0.404,0.262,0.303,0.155,0.237,0.384,0.086,0.506,0.012,0.109,0.491,0.624,0.269,0.144,0.283,0.55,-0.445,0.412,-0.196,0.34,0.074,-0.074,0.483,0.182,-0.031,0.11,0.168,0.164,0.227,-0.351,0.343,0.236,0.175,0.119,0.199,0.652,0.2,0.72,0.201,-0.123,0.078,0.162,0.52,-0.254,0.333,-0.544,0.093,0.043,0.394,0.408,0.341,0.242,0.335,0.236,-0.006,0.273,-0.016,0.037,0.092,0.226,0.101,0.492,0.025,0.054,0.087,0.057,0.269,-0.191,-0.091,0.564,0.192,0.104,0.7,0.087,0.09,0.506,0.356,0.366,0.434,0.128,-0.811,0.23],\"yaxis\":\"y\",\"type\":\"scatter\"}],                        {\"template\":{\"data\":{\"barpolar\":[{\"marker\":{\"line\":{\"color\":\"rgb(17,17,17)\",\"width\":0.5},\"pattern\":{\"fillmode\":\"overlay\",\"size\":10,\"solidity\":0.2}},\"type\":\"barpolar\"}],\"bar\":[{\"error_x\":{\"color\":\"#f2f5fa\"},\"error_y\":{\"color\":\"#f2f5fa\"},\"marker\":{\"line\":{\"color\":\"rgb(17,17,17)\",\"width\":0.5},\"pattern\":{\"fillmode\":\"overlay\",\"size\":10,\"solidity\":0.2}},\"type\":\"bar\"}],\"carpet\":[{\"aaxis\":{\"endlinecolor\":\"#A2B1C6\",\"gridcolor\":\"#506784\",\"linecolor\":\"#506784\",\"minorgridcolor\":\"#506784\",\"startlinecolor\":\"#A2B1C6\"},\"baxis\":{\"endlinecolor\":\"#A2B1C6\",\"gridcolor\":\"#506784\",\"linecolor\":\"#506784\",\"minorgridcolor\":\"#506784\",\"startlinecolor\":\"#A2B1C6\"},\"type\":\"carpet\"}],\"choropleth\":[{\"colorbar\":{\"outlinewidth\":0,\"ticks\":\"\"},\"type\":\"choropleth\"}],\"contourcarpet\":[{\"colorbar\":{\"outlinewidth\":0,\"ticks\":\"\"},\"type\":\"contourcarpet\"}],\"contour\":[{\"colorbar\":{\"outlinewidth\":0,\"ticks\":\"\"},\"colorscale\":[[0.0,\"#0d0887\"],[0.1111111111111111,\"#46039f\"],[0.2222222222222222,\"#7201a8\"],[0.3333333333333333,\"#9c179e\"],[0.4444444444444444,\"#bd3786\"],[0.5555555555555556,\"#d8576b\"],[0.6666666666666666,\"#ed7953\"],[0.7777777777777778,\"#fb9f3a\"],[0.8888888888888888,\"#fdca26\"],[1.0,\"#f0f921\"]],\"type\":\"contour\"}],\"heatmapgl\":[{\"colorbar\":{\"outlinewidth\":0,\"ticks\":\"\"},\"colorscale\":[[0.0,\"#0d0887\"],[0.1111111111111111,\"#46039f\"],[0.2222222222222222,\"#7201a8\"],[0.3333333333333333,\"#9c179e\"],[0.4444444444444444,\"#bd3786\"],[0.5555555555555556,\"#d8576b\"],[0.6666666666666666,\"#ed7953\"],[0.7777777777777778,\"#fb9f3a\"],[0.8888888888888888,\"#fdca26\"],[1.0,\"#f0f921\"]],\"type\":\"heatmapgl\"}],\"heatmap\":[{\"colorbar\":{\"outlinewidth\":0,\"ticks\":\"\"},\"colorscale\":[[0.0,\"#0d0887\"],[0.1111111111111111,\"#46039f\"],[0.2222222222222222,\"#7201a8\"],[0.3333333333333333,\"#9c179e\"],[0.4444444444444444,\"#bd3786\"],[0.5555555555555556,\"#d8576b\"],[0.6666666666666666,\"#ed7953\"],[0.7777777777777778,\"#fb9f3a\"],[0.8888888888888888,\"#fdca26\"],[1.0,\"#f0f921\"]],\"type\":\"heatmap\"}],\"histogram2dcontour\":[{\"colorbar\":{\"outlinewidth\":0,\"ticks\":\"\"},\"colorscale\":[[0.0,\"#0d0887\"],[0.1111111111111111,\"#46039f\"],[0.2222222222222222,\"#7201a8\"],[0.3333333333333333,\"#9c179e\"],[0.4444444444444444,\"#bd3786\"],[0.5555555555555556,\"#d8576b\"],[0.6666666666666666,\"#ed7953\"],[0.7777777777777778,\"#fb9f3a\"],[0.8888888888888888,\"#fdca26\"],[1.0,\"#f0f921\"]],\"type\":\"histogram2dcontour\"}],\"histogram2d\":[{\"colorbar\":{\"outlinewidth\":0,\"ticks\":\"\"},\"colorscale\":[[0.0,\"#0d0887\"],[0.1111111111111111,\"#46039f\"],[0.2222222222222222,\"#7201a8\"],[0.3333333333333333,\"#9c179e\"],[0.4444444444444444,\"#bd3786\"],[0.5555555555555556,\"#d8576b\"],[0.6666666666666666,\"#ed7953\"],[0.7777777777777778,\"#fb9f3a\"],[0.8888888888888888,\"#fdca26\"],[1.0,\"#f0f921\"]],\"type\":\"histogram2d\"}],\"histogram\":[{\"marker\":{\"pattern\":{\"fillmode\":\"overlay\",\"size\":10,\"solidity\":0.2}},\"type\":\"histogram\"}],\"mesh3d\":[{\"colorbar\":{\"outlinewidth\":0,\"ticks\":\"\"},\"type\":\"mesh3d\"}],\"parcoords\":[{\"line\":{\"colorbar\":{\"outlinewidth\":0,\"ticks\":\"\"}},\"type\":\"parcoords\"}],\"pie\":[{\"automargin\":true,\"type\":\"pie\"}],\"scatter3d\":[{\"line\":{\"colorbar\":{\"outlinewidth\":0,\"ticks\":\"\"}},\"marker\":{\"colorbar\":{\"outlinewidth\":0,\"ticks\":\"\"}},\"type\":\"scatter3d\"}],\"scattercarpet\":[{\"marker\":{\"colorbar\":{\"outlinewidth\":0,\"ticks\":\"\"}},\"type\":\"scattercarpet\"}],\"scattergeo\":[{\"marker\":{\"colorbar\":{\"outlinewidth\":0,\"ticks\":\"\"}},\"type\":\"scattergeo\"}],\"scattergl\":[{\"marker\":{\"line\":{\"color\":\"#283442\"}},\"type\":\"scattergl\"}],\"scattermapbox\":[{\"marker\":{\"colorbar\":{\"outlinewidth\":0,\"ticks\":\"\"}},\"type\":\"scattermapbox\"}],\"scatterpolargl\":[{\"marker\":{\"colorbar\":{\"outlinewidth\":0,\"ticks\":\"\"}},\"type\":\"scatterpolargl\"}],\"scatterpolar\":[{\"marker\":{\"colorbar\":{\"outlinewidth\":0,\"ticks\":\"\"}},\"type\":\"scatterpolar\"}],\"scatter\":[{\"marker\":{\"line\":{\"color\":\"#283442\"}},\"type\":\"scatter\"}],\"scatterternary\":[{\"marker\":{\"colorbar\":{\"outlinewidth\":0,\"ticks\":\"\"}},\"type\":\"scatterternary\"}],\"surface\":[{\"colorbar\":{\"outlinewidth\":0,\"ticks\":\"\"},\"colorscale\":[[0.0,\"#0d0887\"],[0.1111111111111111,\"#46039f\"],[0.2222222222222222,\"#7201a8\"],[0.3333333333333333,\"#9c179e\"],[0.4444444444444444,\"#bd3786\"],[0.5555555555555556,\"#d8576b\"],[0.6666666666666666,\"#ed7953\"],[0.7777777777777778,\"#fb9f3a\"],[0.8888888888888888,\"#fdca26\"],[1.0,\"#f0f921\"]],\"type\":\"surface\"}],\"table\":[{\"cells\":{\"fill\":{\"color\":\"#506784\"},\"line\":{\"color\":\"rgb(17,17,17)\"}},\"header\":{\"fill\":{\"color\":\"#2a3f5f\"},\"line\":{\"color\":\"rgb(17,17,17)\"}},\"type\":\"table\"}]},\"layout\":{\"annotationdefaults\":{\"arrowcolor\":\"#f2f5fa\",\"arrowhead\":0,\"arrowwidth\":1},\"autotypenumbers\":\"strict\",\"coloraxis\":{\"colorbar\":{\"outlinewidth\":0,\"ticks\":\"\"}},\"colorscale\":{\"diverging\":[[0,\"#8e0152\"],[0.1,\"#c51b7d\"],[0.2,\"#de77ae\"],[0.3,\"#f1b6da\"],[0.4,\"#fde0ef\"],[0.5,\"#f7f7f7\"],[0.6,\"#e6f5d0\"],[0.7,\"#b8e186\"],[0.8,\"#7fbc41\"],[0.9,\"#4d9221\"],[1,\"#276419\"]],\"sequential\":[[0.0,\"#0d0887\"],[0.1111111111111111,\"#46039f\"],[0.2222222222222222,\"#7201a8\"],[0.3333333333333333,\"#9c179e\"],[0.4444444444444444,\"#bd3786\"],[0.5555555555555556,\"#d8576b\"],[0.6666666666666666,\"#ed7953\"],[0.7777777777777778,\"#fb9f3a\"],[0.8888888888888888,\"#fdca26\"],[1.0,\"#f0f921\"]],\"sequentialminus\":[[0.0,\"#0d0887\"],[0.1111111111111111,\"#46039f\"],[0.2222222222222222,\"#7201a8\"],[0.3333333333333333,\"#9c179e\"],[0.4444444444444444,\"#bd3786\"],[0.5555555555555556,\"#d8576b\"],[0.6666666666666666,\"#ed7953\"],[0.7777777777777778,\"#fb9f3a\"],[0.8888888888888888,\"#fdca26\"],[1.0,\"#f0f921\"]]},\"colorway\":[\"#636efa\",\"#EF553B\",\"#00cc96\",\"#ab63fa\",\"#FFA15A\",\"#19d3f3\",\"#FF6692\",\"#B6E880\",\"#FF97FF\",\"#FECB52\"],\"font\":{\"color\":\"#f2f5fa\"},\"geo\":{\"bgcolor\":\"rgb(17,17,17)\",\"lakecolor\":\"rgb(17,17,17)\",\"landcolor\":\"rgb(17,17,17)\",\"showlakes\":true,\"showland\":true,\"subunitcolor\":\"#506784\"},\"hoverlabel\":{\"align\":\"left\"},\"hovermode\":\"closest\",\"mapbox\":{\"style\":\"dark\"},\"paper_bgcolor\":\"rgb(17,17,17)\",\"plot_bgcolor\":\"rgb(17,17,17)\",\"polar\":{\"angularaxis\":{\"gridcolor\":\"#506784\",\"linecolor\":\"#506784\",\"ticks\":\"\"},\"bgcolor\":\"rgb(17,17,17)\",\"radialaxis\":{\"gridcolor\":\"#506784\",\"linecolor\":\"#506784\",\"ticks\":\"\"}},\"scene\":{\"xaxis\":{\"backgroundcolor\":\"rgb(17,17,17)\",\"gridcolor\":\"#506784\",\"gridwidth\":2,\"linecolor\":\"#506784\",\"showbackground\":true,\"ticks\":\"\",\"zerolinecolor\":\"#C8D4E3\"},\"yaxis\":{\"backgroundcolor\":\"rgb(17,17,17)\",\"gridcolor\":\"#506784\",\"gridwidth\":2,\"linecolor\":\"#506784\",\"showbackground\":true,\"ticks\":\"\",\"zerolinecolor\":\"#C8D4E3\"},\"zaxis\":{\"backgroundcolor\":\"rgb(17,17,17)\",\"gridcolor\":\"#506784\",\"gridwidth\":2,\"linecolor\":\"#506784\",\"showbackground\":true,\"ticks\":\"\",\"zerolinecolor\":\"#C8D4E3\"}},\"shapedefaults\":{\"line\":{\"color\":\"#f2f5fa\"}},\"sliderdefaults\":{\"bgcolor\":\"#C8D4E3\",\"bordercolor\":\"rgb(17,17,17)\",\"borderwidth\":1,\"tickwidth\":0},\"ternary\":{\"aaxis\":{\"gridcolor\":\"#506784\",\"linecolor\":\"#506784\",\"ticks\":\"\"},\"baxis\":{\"gridcolor\":\"#506784\",\"linecolor\":\"#506784\",\"ticks\":\"\"},\"bgcolor\":\"rgb(17,17,17)\",\"caxis\":{\"gridcolor\":\"#506784\",\"linecolor\":\"#506784\",\"ticks\":\"\"}},\"title\":{\"x\":0.05},\"updatemenudefaults\":{\"bgcolor\":\"#506784\",\"borderwidth\":0},\"xaxis\":{\"automargin\":true,\"gridcolor\":\"#283442\",\"linecolor\":\"#506784\",\"ticks\":\"\",\"title\":{\"standoff\":15},\"zerolinecolor\":\"#283442\",\"zerolinewidth\":2},\"yaxis\":{\"automargin\":true,\"gridcolor\":\"#283442\",\"linecolor\":\"#506784\",\"ticks\":\"\",\"title\":{\"standoff\":15},\"zerolinecolor\":\"#283442\",\"zerolinewidth\":2}}},\"xaxis\":{\"anchor\":\"y\",\"domain\":[0.0,1.0],\"title\":{\"text\":\"Volatility\"}},\"yaxis\":{\"anchor\":\"x\",\"domain\":[0.0,1.0],\"title\":{\"text\":\"Return\"}},\"coloraxis\":{\"colorbar\":{\"title\":{\"text\":\"Ratio\"}},\"colorscale\":[[0.0,\"#0d0887\"],[0.1111111111111111,\"#46039f\"],[0.2222222222222222,\"#7201a8\"],[0.3333333333333333,\"#9c179e\"],[0.4444444444444444,\"#bd3786\"],[0.5555555555555556,\"#d8576b\"],[0.6666666666666666,\"#ed7953\"],[0.7777777777777778,\"#fb9f3a\"],[0.8888888888888888,\"#fdca26\"],[1.0,\"#f0f921\"]]},\"legend\":{\"tracegroupgap\":0},\"title\":{\"text\":\"S&P 500 stocks by Volatility/Return\",\"x\":0.5},\"height\":500,\"width\":750},                        {\"responsive\": true}                    ).then(function(){\n",
              "                            \n",
              "var gd = document.getElementById('8f94e6d2-ccc0-4de7-a49e-0ba124e0b794');\n",
              "var x = new MutationObserver(function (mutations, observer) {{\n",
              "        var display = window.getComputedStyle(gd).display;\n",
              "        if (!display || display === 'none') {{\n",
              "            console.log([gd, 'removed!']);\n",
              "            Plotly.purge(gd);\n",
              "            observer.disconnect();\n",
              "        }}\n",
              "}});\n",
              "\n",
              "// Listen for the removal of the full notebook cells\n",
              "var notebookContainer = gd.closest('#notebook-container');\n",
              "if (notebookContainer) {{\n",
              "    x.observe(notebookContainer, {childList: true});\n",
              "}}\n",
              "\n",
              "// Listen for the clearing of the current output cell\n",
              "var outputEl = gd.closest('.output');\n",
              "if (outputEl) {{\n",
              "    x.observe(outputEl, {childList: true});\n",
              "}}\n",
              "\n",
              "                        })                };                            </script>        </div>\n",
              "</body>\n",
              "</html>"
            ]
          },
          "metadata": {}
        }
      ]
    },
    {
      "cell_type": "markdown",
      "source": [
        "# FIND NUMBER OF CLUSTERS WITH ELBOW-METHOD"
      ],
      "metadata": {
        "id": "eZ7SF3C7sC3S"
      }
    },
    {
      "cell_type": "code",
      "source": [
        "X = stock_data[['Return', 'Volatility']]\n",
        "inertia_list = []\n",
        "for k in range(2,16):\n",
        "    kmeans = KMeans(n_clusters=k, n_init='auto')\n",
        "    kmeans.fit(X)\n",
        "    inertia_list.append(kmeans.inertia_)\n",
        "\n",
        "px.line(inertia_list,\n",
        "        title='Elbow Curve',\n",
        "        width=750,\n",
        "        height=500,\n",
        "        labels={\n",
        "            \"index\":\"Number of Clusters\",\n",
        "            \"value\":\"Sum of Squared Error\"\n",
        "        },\n",
        "        template='plotly_dark'\n",
        "        ).update_layout(showlegend=False, title_x=0.5)"
      ],
      "metadata": {
        "colab": {
          "base_uri": "https://localhost:8080/",
          "height": 517
        },
        "id": "ob35_uiEbzLP",
        "outputId": "e12b2f28-2b38-4fa0-9af6-eca65238fb2f"
      },
      "execution_count": 11,
      "outputs": [
        {
          "output_type": "display_data",
          "data": {
            "text/html": [
              "<html>\n",
              "<head><meta charset=\"utf-8\" /></head>\n",
              "<body>\n",
              "    <div>            <script src=\"https://cdnjs.cloudflare.com/ajax/libs/mathjax/2.7.5/MathJax.js?config=TeX-AMS-MML_SVG\"></script><script type=\"text/javascript\">if (window.MathJax && window.MathJax.Hub && window.MathJax.Hub.Config) {window.MathJax.Hub.Config({SVG: {font: \"STIX-Web\"}});}</script>                <script type=\"text/javascript\">window.PlotlyConfig = {MathJaxConfig: 'local'};</script>\n",
              "        <script src=\"https://cdn.plot.ly/plotly-2.18.2.min.js\"></script>                <div id=\"9bd33563-d9a4-42ec-b88d-94b90c43270e\" class=\"plotly-graph-div\" style=\"height:500px; width:750px;\"></div>            <script type=\"text/javascript\">                                    window.PLOTLYENV=window.PLOTLYENV || {};                                    if (document.getElementById(\"9bd33563-d9a4-42ec-b88d-94b90c43270e\")) {                    Plotly.newPlot(                        \"9bd33563-d9a4-42ec-b88d-94b90c43270e\",                        [{\"hovertemplate\":\"variable=0<br>Number of Clusters=%{x}<br>Sum of Squared Error=%{y}<extra></extra>\",\"legendgroup\":\"0\",\"line\":{\"color\":\"#636efa\",\"dash\":\"solid\"},\"marker\":{\"symbol\":\"circle\"},\"mode\":\"lines\",\"name\":\"0\",\"orientation\":\"v\",\"showlegend\":true,\"x\":[0,1,2,3,4,5,6,7,8,9,10,11,12,13],\"xaxis\":\"x\",\"y\":[30.875436735160562,19.18274129394854,14.135867009288543,10.01228231817484,8.105918665349789,7.1421854043329684,6.372985169130088,5.514806367616041,4.824167038953355,4.418114343926184,4.266655959845223,3.628912916386282,3.4758099926573753,3.2832419036768714],\"yaxis\":\"y\",\"type\":\"scatter\"}],                        {\"template\":{\"data\":{\"barpolar\":[{\"marker\":{\"line\":{\"color\":\"rgb(17,17,17)\",\"width\":0.5},\"pattern\":{\"fillmode\":\"overlay\",\"size\":10,\"solidity\":0.2}},\"type\":\"barpolar\"}],\"bar\":[{\"error_x\":{\"color\":\"#f2f5fa\"},\"error_y\":{\"color\":\"#f2f5fa\"},\"marker\":{\"line\":{\"color\":\"rgb(17,17,17)\",\"width\":0.5},\"pattern\":{\"fillmode\":\"overlay\",\"size\":10,\"solidity\":0.2}},\"type\":\"bar\"}],\"carpet\":[{\"aaxis\":{\"endlinecolor\":\"#A2B1C6\",\"gridcolor\":\"#506784\",\"linecolor\":\"#506784\",\"minorgridcolor\":\"#506784\",\"startlinecolor\":\"#A2B1C6\"},\"baxis\":{\"endlinecolor\":\"#A2B1C6\",\"gridcolor\":\"#506784\",\"linecolor\":\"#506784\",\"minorgridcolor\":\"#506784\",\"startlinecolor\":\"#A2B1C6\"},\"type\":\"carpet\"}],\"choropleth\":[{\"colorbar\":{\"outlinewidth\":0,\"ticks\":\"\"},\"type\":\"choropleth\"}],\"contourcarpet\":[{\"colorbar\":{\"outlinewidth\":0,\"ticks\":\"\"},\"type\":\"contourcarpet\"}],\"contour\":[{\"colorbar\":{\"outlinewidth\":0,\"ticks\":\"\"},\"colorscale\":[[0.0,\"#0d0887\"],[0.1111111111111111,\"#46039f\"],[0.2222222222222222,\"#7201a8\"],[0.3333333333333333,\"#9c179e\"],[0.4444444444444444,\"#bd3786\"],[0.5555555555555556,\"#d8576b\"],[0.6666666666666666,\"#ed7953\"],[0.7777777777777778,\"#fb9f3a\"],[0.8888888888888888,\"#fdca26\"],[1.0,\"#f0f921\"]],\"type\":\"contour\"}],\"heatmapgl\":[{\"colorbar\":{\"outlinewidth\":0,\"ticks\":\"\"},\"colorscale\":[[0.0,\"#0d0887\"],[0.1111111111111111,\"#46039f\"],[0.2222222222222222,\"#7201a8\"],[0.3333333333333333,\"#9c179e\"],[0.4444444444444444,\"#bd3786\"],[0.5555555555555556,\"#d8576b\"],[0.6666666666666666,\"#ed7953\"],[0.7777777777777778,\"#fb9f3a\"],[0.8888888888888888,\"#fdca26\"],[1.0,\"#f0f921\"]],\"type\":\"heatmapgl\"}],\"heatmap\":[{\"colorbar\":{\"outlinewidth\":0,\"ticks\":\"\"},\"colorscale\":[[0.0,\"#0d0887\"],[0.1111111111111111,\"#46039f\"],[0.2222222222222222,\"#7201a8\"],[0.3333333333333333,\"#9c179e\"],[0.4444444444444444,\"#bd3786\"],[0.5555555555555556,\"#d8576b\"],[0.6666666666666666,\"#ed7953\"],[0.7777777777777778,\"#fb9f3a\"],[0.8888888888888888,\"#fdca26\"],[1.0,\"#f0f921\"]],\"type\":\"heatmap\"}],\"histogram2dcontour\":[{\"colorbar\":{\"outlinewidth\":0,\"ticks\":\"\"},\"colorscale\":[[0.0,\"#0d0887\"],[0.1111111111111111,\"#46039f\"],[0.2222222222222222,\"#7201a8\"],[0.3333333333333333,\"#9c179e\"],[0.4444444444444444,\"#bd3786\"],[0.5555555555555556,\"#d8576b\"],[0.6666666666666666,\"#ed7953\"],[0.7777777777777778,\"#fb9f3a\"],[0.8888888888888888,\"#fdca26\"],[1.0,\"#f0f921\"]],\"type\":\"histogram2dcontour\"}],\"histogram2d\":[{\"colorbar\":{\"outlinewidth\":0,\"ticks\":\"\"},\"colorscale\":[[0.0,\"#0d0887\"],[0.1111111111111111,\"#46039f\"],[0.2222222222222222,\"#7201a8\"],[0.3333333333333333,\"#9c179e\"],[0.4444444444444444,\"#bd3786\"],[0.5555555555555556,\"#d8576b\"],[0.6666666666666666,\"#ed7953\"],[0.7777777777777778,\"#fb9f3a\"],[0.8888888888888888,\"#fdca26\"],[1.0,\"#f0f921\"]],\"type\":\"histogram2d\"}],\"histogram\":[{\"marker\":{\"pattern\":{\"fillmode\":\"overlay\",\"size\":10,\"solidity\":0.2}},\"type\":\"histogram\"}],\"mesh3d\":[{\"colorbar\":{\"outlinewidth\":0,\"ticks\":\"\"},\"type\":\"mesh3d\"}],\"parcoords\":[{\"line\":{\"colorbar\":{\"outlinewidth\":0,\"ticks\":\"\"}},\"type\":\"parcoords\"}],\"pie\":[{\"automargin\":true,\"type\":\"pie\"}],\"scatter3d\":[{\"line\":{\"colorbar\":{\"outlinewidth\":0,\"ticks\":\"\"}},\"marker\":{\"colorbar\":{\"outlinewidth\":0,\"ticks\":\"\"}},\"type\":\"scatter3d\"}],\"scattercarpet\":[{\"marker\":{\"colorbar\":{\"outlinewidth\":0,\"ticks\":\"\"}},\"type\":\"scattercarpet\"}],\"scattergeo\":[{\"marker\":{\"colorbar\":{\"outlinewidth\":0,\"ticks\":\"\"}},\"type\":\"scattergeo\"}],\"scattergl\":[{\"marker\":{\"line\":{\"color\":\"#283442\"}},\"type\":\"scattergl\"}],\"scattermapbox\":[{\"marker\":{\"colorbar\":{\"outlinewidth\":0,\"ticks\":\"\"}},\"type\":\"scattermapbox\"}],\"scatterpolargl\":[{\"marker\":{\"colorbar\":{\"outlinewidth\":0,\"ticks\":\"\"}},\"type\":\"scatterpolargl\"}],\"scatterpolar\":[{\"marker\":{\"colorbar\":{\"outlinewidth\":0,\"ticks\":\"\"}},\"type\":\"scatterpolar\"}],\"scatter\":[{\"marker\":{\"line\":{\"color\":\"#283442\"}},\"type\":\"scatter\"}],\"scatterternary\":[{\"marker\":{\"colorbar\":{\"outlinewidth\":0,\"ticks\":\"\"}},\"type\":\"scatterternary\"}],\"surface\":[{\"colorbar\":{\"outlinewidth\":0,\"ticks\":\"\"},\"colorscale\":[[0.0,\"#0d0887\"],[0.1111111111111111,\"#46039f\"],[0.2222222222222222,\"#7201a8\"],[0.3333333333333333,\"#9c179e\"],[0.4444444444444444,\"#bd3786\"],[0.5555555555555556,\"#d8576b\"],[0.6666666666666666,\"#ed7953\"],[0.7777777777777778,\"#fb9f3a\"],[0.8888888888888888,\"#fdca26\"],[1.0,\"#f0f921\"]],\"type\":\"surface\"}],\"table\":[{\"cells\":{\"fill\":{\"color\":\"#506784\"},\"line\":{\"color\":\"rgb(17,17,17)\"}},\"header\":{\"fill\":{\"color\":\"#2a3f5f\"},\"line\":{\"color\":\"rgb(17,17,17)\"}},\"type\":\"table\"}]},\"layout\":{\"annotationdefaults\":{\"arrowcolor\":\"#f2f5fa\",\"arrowhead\":0,\"arrowwidth\":1},\"autotypenumbers\":\"strict\",\"coloraxis\":{\"colorbar\":{\"outlinewidth\":0,\"ticks\":\"\"}},\"colorscale\":{\"diverging\":[[0,\"#8e0152\"],[0.1,\"#c51b7d\"],[0.2,\"#de77ae\"],[0.3,\"#f1b6da\"],[0.4,\"#fde0ef\"],[0.5,\"#f7f7f7\"],[0.6,\"#e6f5d0\"],[0.7,\"#b8e186\"],[0.8,\"#7fbc41\"],[0.9,\"#4d9221\"],[1,\"#276419\"]],\"sequential\":[[0.0,\"#0d0887\"],[0.1111111111111111,\"#46039f\"],[0.2222222222222222,\"#7201a8\"],[0.3333333333333333,\"#9c179e\"],[0.4444444444444444,\"#bd3786\"],[0.5555555555555556,\"#d8576b\"],[0.6666666666666666,\"#ed7953\"],[0.7777777777777778,\"#fb9f3a\"],[0.8888888888888888,\"#fdca26\"],[1.0,\"#f0f921\"]],\"sequentialminus\":[[0.0,\"#0d0887\"],[0.1111111111111111,\"#46039f\"],[0.2222222222222222,\"#7201a8\"],[0.3333333333333333,\"#9c179e\"],[0.4444444444444444,\"#bd3786\"],[0.5555555555555556,\"#d8576b\"],[0.6666666666666666,\"#ed7953\"],[0.7777777777777778,\"#fb9f3a\"],[0.8888888888888888,\"#fdca26\"],[1.0,\"#f0f921\"]]},\"colorway\":[\"#636efa\",\"#EF553B\",\"#00cc96\",\"#ab63fa\",\"#FFA15A\",\"#19d3f3\",\"#FF6692\",\"#B6E880\",\"#FF97FF\",\"#FECB52\"],\"font\":{\"color\":\"#f2f5fa\"},\"geo\":{\"bgcolor\":\"rgb(17,17,17)\",\"lakecolor\":\"rgb(17,17,17)\",\"landcolor\":\"rgb(17,17,17)\",\"showlakes\":true,\"showland\":true,\"subunitcolor\":\"#506784\"},\"hoverlabel\":{\"align\":\"left\"},\"hovermode\":\"closest\",\"mapbox\":{\"style\":\"dark\"},\"paper_bgcolor\":\"rgb(17,17,17)\",\"plot_bgcolor\":\"rgb(17,17,17)\",\"polar\":{\"angularaxis\":{\"gridcolor\":\"#506784\",\"linecolor\":\"#506784\",\"ticks\":\"\"},\"bgcolor\":\"rgb(17,17,17)\",\"radialaxis\":{\"gridcolor\":\"#506784\",\"linecolor\":\"#506784\",\"ticks\":\"\"}},\"scene\":{\"xaxis\":{\"backgroundcolor\":\"rgb(17,17,17)\",\"gridcolor\":\"#506784\",\"gridwidth\":2,\"linecolor\":\"#506784\",\"showbackground\":true,\"ticks\":\"\",\"zerolinecolor\":\"#C8D4E3\"},\"yaxis\":{\"backgroundcolor\":\"rgb(17,17,17)\",\"gridcolor\":\"#506784\",\"gridwidth\":2,\"linecolor\":\"#506784\",\"showbackground\":true,\"ticks\":\"\",\"zerolinecolor\":\"#C8D4E3\"},\"zaxis\":{\"backgroundcolor\":\"rgb(17,17,17)\",\"gridcolor\":\"#506784\",\"gridwidth\":2,\"linecolor\":\"#506784\",\"showbackground\":true,\"ticks\":\"\",\"zerolinecolor\":\"#C8D4E3\"}},\"shapedefaults\":{\"line\":{\"color\":\"#f2f5fa\"}},\"sliderdefaults\":{\"bgcolor\":\"#C8D4E3\",\"bordercolor\":\"rgb(17,17,17)\",\"borderwidth\":1,\"tickwidth\":0},\"ternary\":{\"aaxis\":{\"gridcolor\":\"#506784\",\"linecolor\":\"#506784\",\"ticks\":\"\"},\"baxis\":{\"gridcolor\":\"#506784\",\"linecolor\":\"#506784\",\"ticks\":\"\"},\"bgcolor\":\"rgb(17,17,17)\",\"caxis\":{\"gridcolor\":\"#506784\",\"linecolor\":\"#506784\",\"ticks\":\"\"}},\"title\":{\"x\":0.05},\"updatemenudefaults\":{\"bgcolor\":\"#506784\",\"borderwidth\":0},\"xaxis\":{\"automargin\":true,\"gridcolor\":\"#283442\",\"linecolor\":\"#506784\",\"ticks\":\"\",\"title\":{\"standoff\":15},\"zerolinecolor\":\"#283442\",\"zerolinewidth\":2},\"yaxis\":{\"automargin\":true,\"gridcolor\":\"#283442\",\"linecolor\":\"#506784\",\"ticks\":\"\",\"title\":{\"standoff\":15},\"zerolinecolor\":\"#283442\",\"zerolinewidth\":2}}},\"xaxis\":{\"anchor\":\"y\",\"domain\":[0.0,1.0],\"title\":{\"text\":\"Number of Clusters\"}},\"yaxis\":{\"anchor\":\"x\",\"domain\":[0.0,1.0],\"title\":{\"text\":\"Sum of Squared Error\"}},\"legend\":{\"title\":{\"text\":\"variable\"},\"tracegroupgap\":0},\"title\":{\"text\":\"Elbow Curve\",\"x\":0.5},\"height\":500,\"width\":750,\"showlegend\":false},                        {\"responsive\": true}                    ).then(function(){\n",
              "                            \n",
              "var gd = document.getElementById('9bd33563-d9a4-42ec-b88d-94b90c43270e');\n",
              "var x = new MutationObserver(function (mutations, observer) {{\n",
              "        var display = window.getComputedStyle(gd).display;\n",
              "        if (!display || display === 'none') {{\n",
              "            console.log([gd, 'removed!']);\n",
              "            Plotly.purge(gd);\n",
              "            observer.disconnect();\n",
              "        }}\n",
              "}});\n",
              "\n",
              "// Listen for the removal of the full notebook cells\n",
              "var notebookContainer = gd.closest('#notebook-container');\n",
              "if (notebookContainer) {{\n",
              "    x.observe(notebookContainer, {childList: true});\n",
              "}}\n",
              "\n",
              "// Listen for the clearing of the current output cell\n",
              "var outputEl = gd.closest('.output');\n",
              "if (outputEl) {{\n",
              "    x.observe(outputEl, {childList: true});\n",
              "}}\n",
              "\n",
              "                        })                };                            </script>        </div>\n",
              "</body>\n",
              "</html>"
            ]
          },
          "metadata": {}
        }
      ]
    },
    {
      "cell_type": "markdown",
      "source": [
        "# KMEAN MODEL FIT"
      ],
      "metadata": {
        "id": "Nc2tveCasQuD"
      }
    },
    {
      "cell_type": "code",
      "source": [
        "kmeans = KMeans(n_clusters=2, n_init='auto').fit(X)\n",
        "labels = kmeans.labels_\n",
        "stock_data['Cluster Label'] = labels"
      ],
      "metadata": {
        "id": "FAdNLr2wm5Zu"
      },
      "execution_count": 13,
      "outputs": []
    },
    {
      "cell_type": "markdown",
      "source": [
        "# PLOT STOCKS BY CLUSTERS"
      ],
      "metadata": {
        "id": "kiMdLrArsWw8"
      }
    },
    {
      "cell_type": "code",
      "source": [
        "px.scatter(X,\n",
        "           x='Volatility',\n",
        "           y='Return',\n",
        "           color=labels,\n",
        "           title='KMeans Clusters',\n",
        "           hover_name=stock_data['Symbol'],\n",
        "           width=750,\n",
        "           height=500,\n",
        "           template='plotly_dark'\n",
        "           ).update_layout(title_x=0.5)"
      ],
      "metadata": {
        "colab": {
          "base_uri": "https://localhost:8080/",
          "height": 517
        },
        "id": "MRfGjIJankn-",
        "outputId": "a7035e61-fb10-49a5-acdc-5314852314e4"
      },
      "execution_count": 14,
      "outputs": [
        {
          "output_type": "display_data",
          "data": {
            "text/html": [
              "<html>\n",
              "<head><meta charset=\"utf-8\" /></head>\n",
              "<body>\n",
              "    <div>            <script src=\"https://cdnjs.cloudflare.com/ajax/libs/mathjax/2.7.5/MathJax.js?config=TeX-AMS-MML_SVG\"></script><script type=\"text/javascript\">if (window.MathJax && window.MathJax.Hub && window.MathJax.Hub.Config) {window.MathJax.Hub.Config({SVG: {font: \"STIX-Web\"}});}</script>                <script type=\"text/javascript\">window.PlotlyConfig = {MathJaxConfig: 'local'};</script>\n",
              "        <script src=\"https://cdn.plot.ly/plotly-2.18.2.min.js\"></script>                <div id=\"9fc427b6-ad42-4584-9ada-f329328b90f2\" class=\"plotly-graph-div\" style=\"height:500px; width:750px;\"></div>            <script type=\"text/javascript\">                                    window.PLOTLYENV=window.PLOTLYENV || {};                                    if (document.getElementById(\"9fc427b6-ad42-4584-9ada-f329328b90f2\")) {                    Plotly.newPlot(                        \"9fc427b6-ad42-4584-9ada-f329328b90f2\",                        [{\"hovertemplate\":\"<b>%{hovertext}</b><br><br>Volatility=%{x}<br>Return=%{y}<br>color=%{marker.color}<extra></extra>\",\"hovertext\":[\"MMM\",\"AOS\",\"ABT\",\"ABBV\",\"ACN\",\"ATVI\",\"ADM\",\"ADBE\",\"ADP\",\"AAP\",\"AES\",\"AFL\",\"A\",\"APD\",\"AKAM\",\"ALK\",\"ALB\",\"ARE\",\"ALGN\",\"ALLE\",\"LNT\",\"ALL\",\"GOOGL\",\"GOOG\",\"MO\",\"AMZN\",\"AMCR\",\"AMD\",\"AEE\",\"AAL\",\"AEP\",\"AXP\",\"AIG\",\"AMT\",\"AWK\",\"AMP\",\"ABC\",\"AME\",\"AMGN\",\"APH\",\"ADI\",\"ANSS\",\"AON\",\"APA\",\"AAPL\",\"AMAT\",\"APTV\",\"ACGL\",\"ANET\",\"AJG\",\"AIZ\",\"T\",\"ATO\",\"ADSK\",\"AZO\",\"AVB\",\"AVY\",\"AXON\",\"BKR\",\"BALL\",\"BAC\",\"BBWI\",\"BAX\",\"BDX\",\"WRB\",\"BRK-B\",\"BBY\",\"BIO\",\"TECH\",\"BIIB\",\"BLK\",\"BK\",\"BA\",\"BKNG\",\"BWA\",\"BXP\",\"BSX\",\"BMY\",\"AVGO\",\"BR\",\"BRO\",\"BF-B\",\"BG\",\"CHRW\",\"CDNS\",\"CZR\",\"CPT\",\"CPB\",\"COF\",\"CAH\",\"KMX\",\"CCL\",\"CARR\",\"CTLT\",\"CAT\",\"CBOE\",\"CBRE\",\"CDW\",\"CE\",\"CNC\",\"CNP\",\"CDAY\",\"CF\",\"CRL\",\"SCHW\",\"CHTR\",\"CVX\",\"CMG\",\"CB\",\"CHD\",\"CI\",\"CINF\",\"CTAS\",\"CSCO\",\"C\",\"CFG\",\"CLX\",\"CME\",\"CMS\",\"KO\",\"CTSH\",\"CL\",\"CMCSA\",\"CMA\",\"CAG\",\"COP\",\"ED\",\"STZ\",\"CEG\",\"COO\",\"CPRT\",\"GLW\",\"CTVA\",\"CSGP\",\"COST\",\"CTRA\",\"CCI\",\"CSX\",\"CMI\",\"CVS\",\"DHI\",\"DHR\",\"DRI\",\"DVA\",\"DE\",\"DAL\",\"XRAY\",\"DVN\",\"DXCM\",\"FANG\",\"DLR\",\"DFS\",\"DISH\",\"DIS\",\"DG\",\"DLTR\",\"D\",\"DPZ\",\"DOV\",\"DOW\",\"DTE\",\"DUK\",\"DD\",\"DXC\",\"EMN\",\"ETN\",\"EBAY\",\"ECL\",\"EIX\",\"EW\",\"EA\",\"ELV\",\"LLY\",\"EMR\",\"ENPH\",\"ETR\",\"EOG\",\"EPAM\",\"EQT\",\"EFX\",\"EQIX\",\"EQR\",\"ESS\",\"EL\",\"ETSY\",\"RE\",\"EVRG\",\"ES\",\"EXC\",\"EXPE\",\"EXPD\",\"EXR\",\"XOM\",\"FFIV\",\"FDS\",\"FICO\",\"FAST\",\"FRT\",\"FDX\",\"FITB\",\"FSLR\",\"FE\",\"FIS\",\"FI\",\"FLT\",\"FMC\",\"F\",\"FTNT\",\"FTV\",\"FOXA\",\"FOX\",\"BEN\",\"FCX\",\"GRMN\",\"IT\",\"GEHC\",\"GEN\",\"GNRC\",\"GD\",\"GE\",\"GIS\",\"GM\",\"GPC\",\"GILD\",\"GL\",\"GPN\",\"GS\",\"HAL\",\"HIG\",\"HAS\",\"HCA\",\"PEAK\",\"HSIC\",\"HSY\",\"HES\",\"HPE\",\"HLT\",\"HOLX\",\"HD\",\"HON\",\"HRL\",\"HST\",\"HWM\",\"HPQ\",\"HUM\",\"HBAN\",\"HII\",\"IBM\",\"IEX\",\"IDXX\",\"ITW\",\"ILMN\",\"INCY\",\"IR\",\"PODD\",\"INTC\",\"ICE\",\"IFF\",\"IP\",\"IPG\",\"INTU\",\"ISRG\",\"IVZ\",\"INVH\",\"IQV\",\"IRM\",\"JBHT\",\"JKHY\",\"J\",\"JNJ\",\"JCI\",\"JPM\",\"JNPR\",\"K\",\"KDP\",\"KEY\",\"KEYS\",\"KMB\",\"KIM\",\"KMI\",\"KLAC\",\"KHC\",\"KR\",\"LHX\",\"LH\",\"LRCX\",\"LW\",\"LVS\",\"LDOS\",\"LEN\",\"LNC\",\"LIN\",\"LYV\",\"LKQ\",\"LMT\",\"L\",\"LOW\",\"LYB\",\"MTB\",\"MRO\",\"MPC\",\"MKTX\",\"MAR\",\"MMC\",\"MLM\",\"MAS\",\"MA\",\"MTCH\",\"MKC\",\"MCD\",\"MCK\",\"MDT\",\"MRK\",\"META\",\"MET\",\"MTD\",\"MGM\",\"MCHP\",\"MU\",\"MSFT\",\"MAA\",\"MRNA\",\"MHK\",\"MOH\",\"TAP\",\"MDLZ\",\"MPWR\",\"MNST\",\"MCO\",\"MS\",\"MOS\",\"MSI\",\"MSCI\",\"NDAQ\",\"NTAP\",\"NFLX\",\"NWL\",\"NEM\",\"NWSA\",\"NWS\",\"NEE\",\"NKE\",\"NI\",\"NDSN\",\"NSC\",\"NTRS\",\"NOC\",\"NCLH\",\"NRG\",\"NUE\",\"NVDA\",\"NVR\",\"NXPI\",\"ORLY\",\"OXY\",\"ODFL\",\"OMC\",\"ON\",\"OKE\",\"ORCL\",\"OGN\",\"OTIS\",\"PCAR\",\"PKG\",\"PARA\",\"PH\",\"PAYX\",\"PAYC\",\"PYPL\",\"PNR\",\"PEP\",\"PFE\",\"PCG\",\"PM\",\"PSX\",\"PNW\",\"PXD\",\"PNC\",\"POOL\",\"PPG\",\"PPL\",\"PFG\",\"PG\",\"PGR\",\"PLD\",\"PRU\",\"PEG\",\"PTC\",\"PSA\",\"PHM\",\"QRVO\",\"PWR\",\"QCOM\",\"DGX\",\"RL\",\"RJF\",\"RTX\",\"O\",\"REG\",\"REGN\",\"RF\",\"RSG\",\"RMD\",\"RVTY\",\"RHI\",\"ROK\",\"ROL\",\"ROP\",\"ROST\",\"RCL\",\"SPGI\",\"CRM\",\"SBAC\",\"SLB\",\"STX\",\"SEE\",\"SRE\",\"NOW\",\"SHW\",\"SPG\",\"SWKS\",\"SJM\",\"SNA\",\"SEDG\",\"SO\",\"LUV\",\"SWK\",\"SBUX\",\"STT\",\"STLD\",\"STE\",\"SYK\",\"SYF\",\"SNPS\",\"SYY\",\"TMUS\",\"TROW\",\"TTWO\",\"TPR\",\"TRGP\",\"TGT\",\"TEL\",\"TDY\",\"TFX\",\"TER\",\"TSLA\",\"TXN\",\"TXT\",\"TMO\",\"TJX\",\"TSCO\",\"TT\",\"TDG\",\"TRV\",\"TRMB\",\"TFC\",\"TYL\",\"TSN\",\"USB\",\"UDR\",\"ULTA\",\"UNP\",\"UAL\",\"UPS\",\"URI\",\"UNH\",\"UHS\",\"VLO\",\"VTR\",\"VRSN\",\"VRSK\",\"VZ\",\"VRTX\",\"VFC\",\"VTRS\",\"VICI\",\"V\",\"VMC\",\"WAB\",\"WBA\",\"WMT\",\"WBD\",\"WM\",\"WAT\",\"WEC\",\"WFC\",\"WELL\",\"WST\",\"WDC\",\"WRK\",\"WY\",\"WHR\",\"WMB\",\"WTW\",\"GWW\",\"WYNN\",\"XEL\",\"XYL\",\"YUM\",\"ZBRA\",\"ZBH\",\"ZION\",\"ZTS\"],\"legendgroup\":\"\",\"marker\":{\"color\":[1,0,1,0,1,0,1,0,0,0,0,1,1,0,1,1,1,0,0,1,0,0,1,0,0,1,0,0,1,0,0,1,0,1,1,0,0,0,0,1,0,0,0,1,0,0,0,0,1,0,0,0,0,0,1,0,1,0,0,0,0,1,0,0,1,0,0,0,0,1,0,0,1,0,0,1,0,1,0,0,0,1,0,0,1,0,0,0,0,0,1,1,1,0,1,1,1,1,0,0,1,0,1,0,1,1,1,1,0,0,1,0,1,0,1,1,0,0,0,0,0,1,1,0,1,1,1,0,1,0,0,0,0,1,0,0,1,1,1,0,1,0,0,1,0,1,1,0,1,1,0,1,0,0,0,0,0,1,1,0,0,1,1,1,0,1,1,1,1,0,1,1,1,0,1,0,0,1,0,1,0,0,1,0,1,1,0,0,1,1,0,1,1,1,1,0,0,0,1,0,0,1,0,1,1,0,0,1,0,0,1,1,0,0,0,1,1,1,0,1,1,0,1,0,0,0,0,0,1,0,1,0,1,0,0,0,0,1,1,1,1,0,0,1,1,0,0,0,0,0,0,0,0,1,1,0,1,1,0,0,1,1,1,1,1,1,0,0,1,0,0,1,0,1,0,0,1,0,1,0,0,1,1,0,0,1,0,0,0,0,0,1,0,0,0,0,0,0,0,1,1,0,0,1,0,0,0,0,1,0,1,1,1,1,0,0,1,1,0,0,0,0,1,1,0,0,0,1,0,1,1,0,0,0,1,0,1,1,0,1,0,0,0,1,0,0,0,1,0,1,0,0,0,0,0,0,1,1,1,1,0,0,1,0,0,1,1,0,1,0,0,0,0,0,1,0,0,0,0,0,1,1,1,1,0,0,1,1,1,0,0,0,0,1,1,1,1,0,1,0,0,0,0,0,0,1,1,0,1,0,1,0,1,0,0,0,0,0,0,1,0,0,0,0,0,0,0,1,0,1,1,0,0,0,1,0,0,1,0,1,0,1,1,0,0,1,1,0,0,0,1,0,0,0,1,0,0,0,0,0,1,1,0,0,1,0,1,1,1,0,0,0,0,0,0,1,0,1,1,1,0,1,0,1,1,1,1,0,1,1,0,0,1,0,1,1,0,0,0,0,1,1,0],\"coloraxis\":\"coloraxis\",\"symbol\":\"circle\"},\"mode\":\"markers\",\"name\":\"\",\"orientation\":\"v\",\"showlegend\":false,\"x\":[0.294,0.394,0.626,0.292,0.214,0.196,0.237,0.285,0.298,0.375,0.314,0.259,0.232,0.411,0.218,0.225,0.292,0.228,0.302,0.324,0.218,0.29,0.499,0.595,0.312,0.312,0.31,0.413,0.248,0.524,0.224,0.217,0.323,0.295,0.411,0.45,0.33,0.21,0.324,0.456,0.261,0.24,0.367,0.316,0.231,0.244,0.261,0.329,0.293,0.226,0.414,0.306,0.226,0.319,0.295,0.352,0.358,0.53,0.343,0.202,0.329,0.226,0.347,0.239,0.415,0.282,0.275,0.35,0.306,0.184,0.265,0.188,0.299,0.194,0.29,0.384,0.294,0.178,0.234,0.322,0.301,0.218,0.213,0.32,0.298,0.584,0.476,0.334,0.305,0.402,0.307,0.381,0.414,0.194,0.307,0.401,0.258,0.307,0.173,0.242,0.705,0.261,0.197,0.304,0.262,0.216,0.292,0.207,0.407,0.299,0.346,0.238,0.23,0.246,0.26,0.408,0.387,0.216,0.287,0.239,0.223,0.865,0.37,0.326,0.265,0.238,0.257,0.517,0.254,0.321,0.283,0.28,0.331,0.354,0.206,0.315,0.295,0.36,0.656,0.381,0.322,0.27,0.274,0.344,0.185,0.211,0.201,0.502,0.435,0.368,0.42,0.213,0.311,0.3,0.191,0.353,0.251,0.427,0.27,0.325,0.257,0.629,0.352,0.543,0.303,0.259,0.478,0.235,0.281,0.274,0.232,0.549,0.229,0.367,0.226,0.294,0.419,0.335,0.383,0.356,0.264,0.432,0.256,0.28,0.223,0.287,0.275,0.437,0.573,0.428,0.33,0.243,0.277,0.287,0.277,0.551,0.405,0.254,0.193,0.264,0.303,0.318,0.244,0.191,0.224,0.26,0.359,0.665,0.373,0.369,0.229,0.39,0.237,0.252,0.296,0.451,0.385,0.415,0.253,0.27,0.379,0.25,0.243,0.247,0.238,0.208,0.307,0.307,0.181,0.253,0.325,0.177,0.285,0.257,0.196,0.222,0.364,0.242,0.386,0.495,0.228,0.405,0.407,0.292,0.297,0.26,0.323,0.288,0.261,0.337,0.261,0.241,0.381,0.251,0.298,0.293,0.32,0.154,0.249,0.259,0.192,0.182,0.636,0.31,0.18,0.284,0.393,0.167,0.218,0.446,0.146,0.241,0.222,0.29,0.306,0.253,0.245,0.234,0.231,0.232,0.219,0.708,0.228,0.3,0.457,0.308,0.365,0.21,0.302,0.374,0.235,0.261,0.275,0.34,0.156,0.386,0.219,0.308,0.169,0.26,0.302,0.597,0.363,0.42,0.233,0.406,0.304,0.211,0.284,0.214,0.187,0.293,0.433,0.355,0.546,0.2,0.532,0.406,0.272,0.375,0.326,0.243,0.394,0.526,0.313,0.418,0.522,0.295,0.296,0.26,0.356,0.461,0.225,0.327,0.267,0.434,0.379,0.255,0.3,0.361,0.397,0.573,0.276,0.424,0.324,0.326,0.38,0.196,0.365,0.359,0.286,0.234,0.493,0.249,0.205,0.226,0.335,0.673,0.413,0.25,0.255,0.213,0.267,0.22,0.154,0.23,0.315,0.159,0.269,0.293,0.325,0.26,0.303,0.188,0.352,0.343,0.22,0.405,0.401,0.309,0.197,0.293,0.282,0.327,0.251,0.288,0.342,0.402,0.382,0.384,0.445,0.303,0.261,0.251,0.365,0.328,0.326,0.351,0.267,0.312,0.234,0.204,0.27,0.179,0.211,0.319,0.312,0.269,0.448,0.578,0.335,0.31,0.163,0.407,0.24,0.34,0.2,0.29,0.267,0.217,0.329,0.44,0.371,0.402,0.232,0.406,0.382,0.398,0.268,0.206,0.277,0.242,0.272,0.245,0.348,0.276,0.384,0.475,0.321,0.362,0.2,0.269,0.231,0.362,0.322,0.382,0.395,0.235,0.272,0.637,0.317,0.285,0.374,0.267,0.247,0.342,0.385,0.263,0.34,0.294,0.232,0.264,0.272,0.404,0.412,0.216,0.493,0.214,0.391,0.276,0.263,0.251,0.272,0.298,0.311,0.214,0.241,0.31,0.28,0.571,0.449,0.215,0.304,0.309,0.333,0.172,0.24,0.172,0.26,0.337,0.419,0.225,0.284,0.392,0.218,0.272,0.354,0.282,0.183,0.216,0.458,0.692,0.311],\"xaxis\":\"x\",\"y\":[-0.057,0.456,-1.276,0.401,0.003,0.415,0.071,0.615,0.312,0.801,0.423,-0.2,-0.048,0.162,0.115,0.008,-0.224,0.262,0.245,-0.188,0.279,0.198,-0.288,0.678,0.295,-0.243,0.371,0.819,-0.074,1.065,0.437,-0.016,0.255,0.025,0.144,0.532,0.684,0.239,0.523,-0.263,0.338,0.247,0.285,-0.197,0.23,0.154,0.173,0.997,0.049,0.227,0.688,0.328,0.161,0.745,-0.072,0.247,-0.28,0.195,0.336,0.237,0.315,0.009,0.157,0.226,-0.062,0.189,0.666,0.455,0.369,-0.05,0.166,0.345,0.095,0.459,0.571,-0.354,0.214,0.046,0.412,0.401,0.461,0.077,0.213,0.165,-0.213,1.321,0.224,0.614,0.171,0.315,0.134,-0.586,-0.35,0.438,0.007,0.101,-0.089,0.076,0.185,0.318,-0.754,0.505,0.121,0.466,0.106,0.133,-0.169,0.129,0.245,0.517,-0.156,0.169,-0.04,0.661,0.015,0.061,0.545,0.388,0.213,0.324,0.308,-0.773,-0.177,0.164,-0.094,-0.386,0.001,0.47,-0.277,0.546,0.428,0.182,0.331,-0.549,0.162,0.695,-0.114,-0.06,-1.137,0.232,-0.055,0.295,0.247,0.099,0.394,0.103,0.049,0.162,-0.503,0.035,0.38,0.093,0.265,0.367,0.192,0.451,0.281,-0.09,-0.077,0.206,0.159,-0.511,-0.127,-0.574,0.566,0.105,-0.111,-0.057,0.098,0.493,-0.003,-0.206,0.047,0.153,0.125,0.409,0.194,-0.191,0.347,-0.125,0.296,0.451,0.028,0.614,0.087,0.083,0.287,1.023,-0.472,-0.316,0.476,-0.075,0.124,0.112,0.106,0.533,0.511,0.272,-0.053,1.078,0.394,-0.159,0.294,0.08,0.011,0.253,0.236,-0.372,0.333,0.339,0.064,-0.126,0.418,0.172,0.544,0.142,-0.134,-0.28,0.548,0.09,0.098,0.174,-0.089,0.229,0.394,0.242,0.519,0.314,-0.135,0.21,0.062,0.224,-0.159,0.486,0.226,0.31,0.578,0.043,-0.15,0.017,-0.097,0.534,0.233,0.099,0.019,0.607,0.299,0.52,0.336,0.828,0.301,0.418,0.22,0.046,0.124,0.373,-0.183,0.034,0.305,0.453,-0.097,-0.203,-0.689,0.041,0.12,0.062,0.641,0.325,-0.003,0.327,0.183,0.062,0.189,-0.098,0.624,0.189,-0.239,0.47,0.126,0.472,0.165,-0.921,0.109,0.157,0.813,0.115,0.579,0.468,0.235,0.21,0.371,0.105,0.331,0.183,0.325,0.486,0.228,0.497,0.407,0.125,-0.194,1.081,0.445,0.084,0.291,0.254,0.423,0.237,-0.054,0.365,0.02,-0.337,-0.562,0.096,0.594,0.276,0.061,-0.23,0.17,0.234,0.584,0.307,-0.563,-0.192,0.232,0.401,0.69,-0.174,0.146,-0.022,0.052,0.918,0.161,0.394,-0.138,0.572,-0.268,0.079,0.218,-0.194,0.362,1.889,0.52,-0.732,0.327,0.339,0.428,0.099,0.284,-0.181,0.196,0.559,0.547,1.013,0.346,0.451,-0.176,-0.191,-0.018,0.048,0.429,0.303,-0.065,0.176,0.203,-0.06,-0.026,0.276,0.072,0.551,0.892,0.216,0.313,0.178,-0.234,0.573,0.448,0.298,0.151,0.373,0.119,-0.067,-0.003,0.093,0.422,0.532,-0.274,-0.351,0.099,0.327,1.229,0.401,0.172,0.1,-0.163,-0.097,-0.102,0.479,-0.001,0.492,0.175,0.333,0.332,0.165,0.218,-0.025,-0.155,0.229,-0.44,0.417,-0.15,0.271,0.116,0.183,0.392,0.596,0.167,0.288,0.408,0.006,0.345,0.404,0.262,0.303,0.155,0.237,0.384,0.086,0.506,0.012,0.109,0.491,0.624,0.269,0.144,0.283,0.55,-0.445,0.412,-0.196,0.34,0.074,-0.074,0.483,0.182,-0.031,0.11,0.168,0.164,0.227,-0.351,0.343,0.236,0.175,0.119,0.199,0.652,0.2,0.72,0.201,-0.123,0.078,0.162,0.52,-0.254,0.333,-0.544,0.093,0.043,0.394,0.408,0.341,0.242,0.335,0.236,-0.006,0.273,-0.016,0.037,0.092,0.226,0.101,0.492,0.025,0.054,0.087,0.057,0.269,-0.191,-0.091,0.564,0.192,0.104,0.7,0.087,0.09,0.506,0.356,0.366,0.434,0.128,-0.811,0.23],\"yaxis\":\"y\",\"type\":\"scatter\"}],                        {\"template\":{\"data\":{\"barpolar\":[{\"marker\":{\"line\":{\"color\":\"rgb(17,17,17)\",\"width\":0.5},\"pattern\":{\"fillmode\":\"overlay\",\"size\":10,\"solidity\":0.2}},\"type\":\"barpolar\"}],\"bar\":[{\"error_x\":{\"color\":\"#f2f5fa\"},\"error_y\":{\"color\":\"#f2f5fa\"},\"marker\":{\"line\":{\"color\":\"rgb(17,17,17)\",\"width\":0.5},\"pattern\":{\"fillmode\":\"overlay\",\"size\":10,\"solidity\":0.2}},\"type\":\"bar\"}],\"carpet\":[{\"aaxis\":{\"endlinecolor\":\"#A2B1C6\",\"gridcolor\":\"#506784\",\"linecolor\":\"#506784\",\"minorgridcolor\":\"#506784\",\"startlinecolor\":\"#A2B1C6\"},\"baxis\":{\"endlinecolor\":\"#A2B1C6\",\"gridcolor\":\"#506784\",\"linecolor\":\"#506784\",\"minorgridcolor\":\"#506784\",\"startlinecolor\":\"#A2B1C6\"},\"type\":\"carpet\"}],\"choropleth\":[{\"colorbar\":{\"outlinewidth\":0,\"ticks\":\"\"},\"type\":\"choropleth\"}],\"contourcarpet\":[{\"colorbar\":{\"outlinewidth\":0,\"ticks\":\"\"},\"type\":\"contourcarpet\"}],\"contour\":[{\"colorbar\":{\"outlinewidth\":0,\"ticks\":\"\"},\"colorscale\":[[0.0,\"#0d0887\"],[0.1111111111111111,\"#46039f\"],[0.2222222222222222,\"#7201a8\"],[0.3333333333333333,\"#9c179e\"],[0.4444444444444444,\"#bd3786\"],[0.5555555555555556,\"#d8576b\"],[0.6666666666666666,\"#ed7953\"],[0.7777777777777778,\"#fb9f3a\"],[0.8888888888888888,\"#fdca26\"],[1.0,\"#f0f921\"]],\"type\":\"contour\"}],\"heatmapgl\":[{\"colorbar\":{\"outlinewidth\":0,\"ticks\":\"\"},\"colorscale\":[[0.0,\"#0d0887\"],[0.1111111111111111,\"#46039f\"],[0.2222222222222222,\"#7201a8\"],[0.3333333333333333,\"#9c179e\"],[0.4444444444444444,\"#bd3786\"],[0.5555555555555556,\"#d8576b\"],[0.6666666666666666,\"#ed7953\"],[0.7777777777777778,\"#fb9f3a\"],[0.8888888888888888,\"#fdca26\"],[1.0,\"#f0f921\"]],\"type\":\"heatmapgl\"}],\"heatmap\":[{\"colorbar\":{\"outlinewidth\":0,\"ticks\":\"\"},\"colorscale\":[[0.0,\"#0d0887\"],[0.1111111111111111,\"#46039f\"],[0.2222222222222222,\"#7201a8\"],[0.3333333333333333,\"#9c179e\"],[0.4444444444444444,\"#bd3786\"],[0.5555555555555556,\"#d8576b\"],[0.6666666666666666,\"#ed7953\"],[0.7777777777777778,\"#fb9f3a\"],[0.8888888888888888,\"#fdca26\"],[1.0,\"#f0f921\"]],\"type\":\"heatmap\"}],\"histogram2dcontour\":[{\"colorbar\":{\"outlinewidth\":0,\"ticks\":\"\"},\"colorscale\":[[0.0,\"#0d0887\"],[0.1111111111111111,\"#46039f\"],[0.2222222222222222,\"#7201a8\"],[0.3333333333333333,\"#9c179e\"],[0.4444444444444444,\"#bd3786\"],[0.5555555555555556,\"#d8576b\"],[0.6666666666666666,\"#ed7953\"],[0.7777777777777778,\"#fb9f3a\"],[0.8888888888888888,\"#fdca26\"],[1.0,\"#f0f921\"]],\"type\":\"histogram2dcontour\"}],\"histogram2d\":[{\"colorbar\":{\"outlinewidth\":0,\"ticks\":\"\"},\"colorscale\":[[0.0,\"#0d0887\"],[0.1111111111111111,\"#46039f\"],[0.2222222222222222,\"#7201a8\"],[0.3333333333333333,\"#9c179e\"],[0.4444444444444444,\"#bd3786\"],[0.5555555555555556,\"#d8576b\"],[0.6666666666666666,\"#ed7953\"],[0.7777777777777778,\"#fb9f3a\"],[0.8888888888888888,\"#fdca26\"],[1.0,\"#f0f921\"]],\"type\":\"histogram2d\"}],\"histogram\":[{\"marker\":{\"pattern\":{\"fillmode\":\"overlay\",\"size\":10,\"solidity\":0.2}},\"type\":\"histogram\"}],\"mesh3d\":[{\"colorbar\":{\"outlinewidth\":0,\"ticks\":\"\"},\"type\":\"mesh3d\"}],\"parcoords\":[{\"line\":{\"colorbar\":{\"outlinewidth\":0,\"ticks\":\"\"}},\"type\":\"parcoords\"}],\"pie\":[{\"automargin\":true,\"type\":\"pie\"}],\"scatter3d\":[{\"line\":{\"colorbar\":{\"outlinewidth\":0,\"ticks\":\"\"}},\"marker\":{\"colorbar\":{\"outlinewidth\":0,\"ticks\":\"\"}},\"type\":\"scatter3d\"}],\"scattercarpet\":[{\"marker\":{\"colorbar\":{\"outlinewidth\":0,\"ticks\":\"\"}},\"type\":\"scattercarpet\"}],\"scattergeo\":[{\"marker\":{\"colorbar\":{\"outlinewidth\":0,\"ticks\":\"\"}},\"type\":\"scattergeo\"}],\"scattergl\":[{\"marker\":{\"line\":{\"color\":\"#283442\"}},\"type\":\"scattergl\"}],\"scattermapbox\":[{\"marker\":{\"colorbar\":{\"outlinewidth\":0,\"ticks\":\"\"}},\"type\":\"scattermapbox\"}],\"scatterpolargl\":[{\"marker\":{\"colorbar\":{\"outlinewidth\":0,\"ticks\":\"\"}},\"type\":\"scatterpolargl\"}],\"scatterpolar\":[{\"marker\":{\"colorbar\":{\"outlinewidth\":0,\"ticks\":\"\"}},\"type\":\"scatterpolar\"}],\"scatter\":[{\"marker\":{\"line\":{\"color\":\"#283442\"}},\"type\":\"scatter\"}],\"scatterternary\":[{\"marker\":{\"colorbar\":{\"outlinewidth\":0,\"ticks\":\"\"}},\"type\":\"scatterternary\"}],\"surface\":[{\"colorbar\":{\"outlinewidth\":0,\"ticks\":\"\"},\"colorscale\":[[0.0,\"#0d0887\"],[0.1111111111111111,\"#46039f\"],[0.2222222222222222,\"#7201a8\"],[0.3333333333333333,\"#9c179e\"],[0.4444444444444444,\"#bd3786\"],[0.5555555555555556,\"#d8576b\"],[0.6666666666666666,\"#ed7953\"],[0.7777777777777778,\"#fb9f3a\"],[0.8888888888888888,\"#fdca26\"],[1.0,\"#f0f921\"]],\"type\":\"surface\"}],\"table\":[{\"cells\":{\"fill\":{\"color\":\"#506784\"},\"line\":{\"color\":\"rgb(17,17,17)\"}},\"header\":{\"fill\":{\"color\":\"#2a3f5f\"},\"line\":{\"color\":\"rgb(17,17,17)\"}},\"type\":\"table\"}]},\"layout\":{\"annotationdefaults\":{\"arrowcolor\":\"#f2f5fa\",\"arrowhead\":0,\"arrowwidth\":1},\"autotypenumbers\":\"strict\",\"coloraxis\":{\"colorbar\":{\"outlinewidth\":0,\"ticks\":\"\"}},\"colorscale\":{\"diverging\":[[0,\"#8e0152\"],[0.1,\"#c51b7d\"],[0.2,\"#de77ae\"],[0.3,\"#f1b6da\"],[0.4,\"#fde0ef\"],[0.5,\"#f7f7f7\"],[0.6,\"#e6f5d0\"],[0.7,\"#b8e186\"],[0.8,\"#7fbc41\"],[0.9,\"#4d9221\"],[1,\"#276419\"]],\"sequential\":[[0.0,\"#0d0887\"],[0.1111111111111111,\"#46039f\"],[0.2222222222222222,\"#7201a8\"],[0.3333333333333333,\"#9c179e\"],[0.4444444444444444,\"#bd3786\"],[0.5555555555555556,\"#d8576b\"],[0.6666666666666666,\"#ed7953\"],[0.7777777777777778,\"#fb9f3a\"],[0.8888888888888888,\"#fdca26\"],[1.0,\"#f0f921\"]],\"sequentialminus\":[[0.0,\"#0d0887\"],[0.1111111111111111,\"#46039f\"],[0.2222222222222222,\"#7201a8\"],[0.3333333333333333,\"#9c179e\"],[0.4444444444444444,\"#bd3786\"],[0.5555555555555556,\"#d8576b\"],[0.6666666666666666,\"#ed7953\"],[0.7777777777777778,\"#fb9f3a\"],[0.8888888888888888,\"#fdca26\"],[1.0,\"#f0f921\"]]},\"colorway\":[\"#636efa\",\"#EF553B\",\"#00cc96\",\"#ab63fa\",\"#FFA15A\",\"#19d3f3\",\"#FF6692\",\"#B6E880\",\"#FF97FF\",\"#FECB52\"],\"font\":{\"color\":\"#f2f5fa\"},\"geo\":{\"bgcolor\":\"rgb(17,17,17)\",\"lakecolor\":\"rgb(17,17,17)\",\"landcolor\":\"rgb(17,17,17)\",\"showlakes\":true,\"showland\":true,\"subunitcolor\":\"#506784\"},\"hoverlabel\":{\"align\":\"left\"},\"hovermode\":\"closest\",\"mapbox\":{\"style\":\"dark\"},\"paper_bgcolor\":\"rgb(17,17,17)\",\"plot_bgcolor\":\"rgb(17,17,17)\",\"polar\":{\"angularaxis\":{\"gridcolor\":\"#506784\",\"linecolor\":\"#506784\",\"ticks\":\"\"},\"bgcolor\":\"rgb(17,17,17)\",\"radialaxis\":{\"gridcolor\":\"#506784\",\"linecolor\":\"#506784\",\"ticks\":\"\"}},\"scene\":{\"xaxis\":{\"backgroundcolor\":\"rgb(17,17,17)\",\"gridcolor\":\"#506784\",\"gridwidth\":2,\"linecolor\":\"#506784\",\"showbackground\":true,\"ticks\":\"\",\"zerolinecolor\":\"#C8D4E3\"},\"yaxis\":{\"backgroundcolor\":\"rgb(17,17,17)\",\"gridcolor\":\"#506784\",\"gridwidth\":2,\"linecolor\":\"#506784\",\"showbackground\":true,\"ticks\":\"\",\"zerolinecolor\":\"#C8D4E3\"},\"zaxis\":{\"backgroundcolor\":\"rgb(17,17,17)\",\"gridcolor\":\"#506784\",\"gridwidth\":2,\"linecolor\":\"#506784\",\"showbackground\":true,\"ticks\":\"\",\"zerolinecolor\":\"#C8D4E3\"}},\"shapedefaults\":{\"line\":{\"color\":\"#f2f5fa\"}},\"sliderdefaults\":{\"bgcolor\":\"#C8D4E3\",\"bordercolor\":\"rgb(17,17,17)\",\"borderwidth\":1,\"tickwidth\":0},\"ternary\":{\"aaxis\":{\"gridcolor\":\"#506784\",\"linecolor\":\"#506784\",\"ticks\":\"\"},\"baxis\":{\"gridcolor\":\"#506784\",\"linecolor\":\"#506784\",\"ticks\":\"\"},\"bgcolor\":\"rgb(17,17,17)\",\"caxis\":{\"gridcolor\":\"#506784\",\"linecolor\":\"#506784\",\"ticks\":\"\"}},\"title\":{\"x\":0.05},\"updatemenudefaults\":{\"bgcolor\":\"#506784\",\"borderwidth\":0},\"xaxis\":{\"automargin\":true,\"gridcolor\":\"#283442\",\"linecolor\":\"#506784\",\"ticks\":\"\",\"title\":{\"standoff\":15},\"zerolinecolor\":\"#283442\",\"zerolinewidth\":2},\"yaxis\":{\"automargin\":true,\"gridcolor\":\"#283442\",\"linecolor\":\"#506784\",\"ticks\":\"\",\"title\":{\"standoff\":15},\"zerolinecolor\":\"#283442\",\"zerolinewidth\":2}}},\"xaxis\":{\"anchor\":\"y\",\"domain\":[0.0,1.0],\"title\":{\"text\":\"Volatility\"}},\"yaxis\":{\"anchor\":\"x\",\"domain\":[0.0,1.0],\"title\":{\"text\":\"Return\"}},\"coloraxis\":{\"colorbar\":{\"title\":{\"text\":\"color\"}},\"colorscale\":[[0.0,\"#0d0887\"],[0.1111111111111111,\"#46039f\"],[0.2222222222222222,\"#7201a8\"],[0.3333333333333333,\"#9c179e\"],[0.4444444444444444,\"#bd3786\"],[0.5555555555555556,\"#d8576b\"],[0.6666666666666666,\"#ed7953\"],[0.7777777777777778,\"#fb9f3a\"],[0.8888888888888888,\"#fdca26\"],[1.0,\"#f0f921\"]]},\"legend\":{\"tracegroupgap\":0},\"title\":{\"text\":\"KMeans Clusters\",\"x\":0.5},\"height\":500,\"width\":750},                        {\"responsive\": true}                    ).then(function(){\n",
              "                            \n",
              "var gd = document.getElementById('9fc427b6-ad42-4584-9ada-f329328b90f2');\n",
              "var x = new MutationObserver(function (mutations, observer) {{\n",
              "        var display = window.getComputedStyle(gd).display;\n",
              "        if (!display || display === 'none') {{\n",
              "            console.log([gd, 'removed!']);\n",
              "            Plotly.purge(gd);\n",
              "            observer.disconnect();\n",
              "        }}\n",
              "}});\n",
              "\n",
              "// Listen for the removal of the full notebook cells\n",
              "var notebookContainer = gd.closest('#notebook-container');\n",
              "if (notebookContainer) {{\n",
              "    x.observe(notebookContainer, {childList: true});\n",
              "}}\n",
              "\n",
              "// Listen for the clearing of the current output cell\n",
              "var outputEl = gd.closest('.output');\n",
              "if (outputEl) {{\n",
              "    x.observe(outputEl, {childList: true});\n",
              "}}\n",
              "\n",
              "                        })                };                            </script>        </div>\n",
              "</body>\n",
              "</html>"
            ]
          },
          "metadata": {}
        }
      ]
    },
    {
      "cell_type": "code",
      "source": [
        "dividends = []\n",
        "\n",
        "for i in ticker_list:\n",
        "    info = yf.Ticker(i).info\n",
        "    div = info.get('trailingAnnualDividendYield')\n",
        "    dividends.append(div)"
      ],
      "metadata": {
        "id": "_DwPAEUVv3Bs"
      },
      "execution_count": 15,
      "outputs": []
    },
    {
      "cell_type": "code",
      "source": [
        "for (i,j) in zip(ticker_list, dividends):\n",
        "    print(f'Ticker: {i}, DividendRate: {j}')"
      ],
      "metadata": {
        "colab": {
          "base_uri": "https://localhost:8080/"
        },
        "id": "TjZpGHUyzsB-",
        "outputId": "a953f01e-4454-4336-9a95-caa947d01734"
      },
      "execution_count": 17,
      "outputs": [
        {
          "output_type": "stream",
          "name": "stdout",
          "text": [
            "Ticker: MMM, DividendRate: 0.05750891\n",
            "Ticker: AOS, DividendRate: 0.016451566\n",
            "Ticker: ABT, DividendRate: 0.018663112\n",
            "Ticker: ABBV, DividendRate: 0.042534404\n",
            "Ticker: ACN, DividendRate: 0.013373692\n",
            "Ticker: ATVI, DividendRate: 0.0\n",
            "Ticker: ADM, DividendRate: 0.022129828\n",
            "Ticker: ADBE, DividendRate: 0.0\n",
            "Ticker: ADP, DividendRate: 0.020726794\n",
            "Ticker: AAP, DividendRate: 0.08582462\n",
            "Ticker: AES, DividendRate: 0.03015356\n",
            "Ticker: AFL, DividendRate: 0.023222476\n",
            "Ticker: A, DividendRate: 0.007176441\n",
            "Ticker: APD, DividendRate: 0.022733526\n",
            "Ticker: AKAM, DividendRate: 0.0\n",
            "Ticker: ALK, DividendRate: 0.0\n",
            "Ticker: ALB, DividendRate: 0.0068641463\n",
            "Ticker: ARE, DividendRate: 0.039455224\n",
            "Ticker: ALGN, DividendRate: 0.0\n",
            "Ticker: ALLE, DividendRate: 0.014124768\n",
            "Ticker: LNT, DividendRate: 0.03227907\n",
            "Ticker: ALL, DividendRate: 0.031119958\n",
            "Ticker: GOOGL, DividendRate: 0.0\n",
            "Ticker: GOOG, DividendRate: 0.0\n",
            "Ticker: MO, DividendRate: 0.084258206\n",
            "Ticker: AMZN, DividendRate: 0.0\n",
            "Ticker: AMCR, DividendRate: 0.04737354\n",
            "Ticker: AMD, DividendRate: 0.0\n",
            "Ticker: AEE, DividendRate: 0.028581638\n",
            "Ticker: AAL, DividendRate: 0.0\n",
            "Ticker: AEP, DividendRate: 0.037935913\n",
            "Ticker: AXP, DividendRate: 0.012427364\n",
            "Ticker: AIG, DividendRate: 0.022606853\n",
            "Ticker: AMT, DividendRate: 0.0309878\n",
            "Ticker: AWK, DividendRate: 0.017691944\n",
            "Ticker: AMP, DividendRate: 0.015356737\n",
            "Ticker: ABC, DividendRate: 0.010390895\n",
            "Ticker: AME, DividendRate: 0.0058072754\n",
            "Ticker: AMGN, DividendRate: 0.03480126\n",
            "Ticker: APH, DividendRate: 0.0100416355\n",
            "Ticker: ADI, DividendRate: 0.017083202\n",
            "Ticker: ANSS, DividendRate: 0.0\n",
            "Ticker: AON, DividendRate: 0.006766145\n",
            "Ticker: APA, DividendRate: 0.025237959\n",
            "Ticker: AAPL, DividendRate: 0.004945971\n",
            "Ticker: AMAT, DividendRate: 0.007850975\n",
            "Ticker: APTV, DividendRate: 0.0\n",
            "Ticker: ACGL, DividendRate: 0.0\n",
            "Ticker: ANET, DividendRate: 0.0\n",
            "Ticker: AJG, DividendRate: 0.00973646\n",
            "Ticker: AIZ, DividendRate: 0.021436892\n",
            "Ticker: T, DividendRate: 0.06924516\n",
            "Ticker: ATO, DividendRate: 0.024172269\n",
            "Ticker: ADSK, DividendRate: 0.0\n",
            "Ticker: AZO, DividendRate: 0.0\n",
            "Ticker: AVB, DividendRate: 0.03369548\n",
            "Ticker: AVY, DividendRate: 0.01774413\n",
            "Ticker: AXON, DividendRate: 0.0\n",
            "Ticker: BKR, DividendRate: 0.0244709\n",
            "Ticker: BALL, DividendRate: 0.014681593\n",
            "Ticker: BAC, DividendRate: 0.029622063\n",
            "Ticker: BBWI, DividendRate: 0.020140987\n",
            "Ticker: BAX, DividendRate: 0.026090868\n",
            "Ticker: BDX, DividendRate: 0.013897563\n",
            "Ticker: WRB, DividendRate: 0.006849315\n",
            "Ticker: BRK-B, DividendRate: 0.0\n",
            "Ticker: BBY, DividendRate: 0.0450747\n",
            "Ticker: BIO, DividendRate: 0.0\n",
            "Ticker: TECH, DividendRate: 0.0041770004\n",
            "Ticker: BIIB, DividendRate: 0.0\n",
            "Ticker: BLK, DividendRate: 0.027615685\n",
            "Ticker: BK, DividendRate: 0.03231558\n",
            "Ticker: BA, DividendRate: 0.0\n",
            "Ticker: BKNG, DividendRate: 0.0\n",
            "Ticker: BWA, DividendRate: 0.014084508\n",
            "Ticker: BXP, DividendRate: 0.07097592\n",
            "Ticker: BSX, DividendRate: 0.0\n",
            "Ticker: BMY, DividendRate: 0.03432813\n",
            "Ticker: AVGO, DividendRate: 0.020261934\n",
            "Ticker: BR, DividendRate: 0.017626802\n",
            "Ticker: BRO, DividendRate: 0.0065859193\n",
            "Ticker: BF-B, DividendRate: 0.01208589\n",
            "Ticker: BG, DividendRate: 0.02653928\n",
            "Ticker: CHRW, DividendRate: 0.024328858\n",
            "Ticker: CDNS, DividendRate: 0.0\n",
            "Ticker: CZR, DividendRate: 0.0\n",
            "Ticker: CPT, DividendRate: 0.03406456\n",
            "Ticker: CPB, DividendRate: 0.03186908\n",
            "Ticker: COF, DividendRate: 0.021495746\n",
            "Ticker: CAH, DividendRate: 0.022240914\n",
            "Ticker: KMX, DividendRate: 0.0\n",
            "Ticker: CCL, DividendRate: 0.0\n",
            "Ticker: CARR, DividendRate: 0.014396219\n",
            "Ticker: CTLT, DividendRate: 0.0\n",
            "Ticker: CAT, DividendRate: 0.01453547\n",
            "Ticker: CBOE, DividendRate: 0.014339513\n",
            "Ticker: CBRE, DividendRate: 0.0\n",
            "Ticker: CDW, DividendRate: 0.012233446\n",
            "Ticker: CE, DividendRate: 0.023630137\n",
            "Ticker: CNC, DividendRate: 0.0\n",
            "Ticker: CNP, DividendRate: 0.024598565\n",
            "Ticker: CDAY, DividendRate: 0.0\n",
            "Ticker: CF, DividendRate: 0.02283105\n",
            "Ticker: CRL, DividendRate: 0.0\n",
            "Ticker: SCHW, DividendRate: 0.016033147\n",
            "Ticker: CHTR, DividendRate: 0.0\n",
            "Ticker: CVX, DividendRate: 0.036454383\n",
            "Ticker: CMG, DividendRate: 0.0\n",
            "Ticker: CB, DividendRate: 0.01735857\n",
            "Ticker: CHD, DividendRate: 0.0110601\n",
            "Ticker: CI, DividendRate: 0.017032173\n",
            "Ticker: CINF, DividendRate: 0.028087648\n",
            "Ticker: CTAS, DividendRate: 0.008936187\n",
            "Ticker: CSCO, DividendRate: 0.029462738\n",
            "Ticker: C, DividendRate: 0.042009883\n",
            "Ticker: CFG, DividendRate: 0.0595883\n",
            "Ticker: CLX, DividendRate: 0.030459471\n",
            "Ticker: CME, DividendRate: 0.022500273\n",
            "Ticker: CMS, DividendRate: 0.030612914\n",
            "Ticker: KO, DividendRate: 0.029070716\n",
            "Ticker: CTSH, DividendRate: 0.01729997\n",
            "Ticker: CL, DividendRate: 0.024479166\n",
            "Ticker: CMCSA, DividendRate: 0.0265252\n",
            "Ticker: CMA, DividendRate: 0.06413246\n",
            "Ticker: CAG, DividendRate: 0.03742455\n",
            "Ticker: COP, DividendRate: 0.04839174\n",
            "Ticker: ED, DividendRate: 0.0341862\n",
            "Ticker: STZ, DividendRate: 0.0128416065\n",
            "Ticker: CEG, DividendRate: 0.007554034\n",
            "Ticker: COO, DividendRate: 0.0001632342\n",
            "Ticker: CPRT, DividendRate: 0.0\n",
            "Ticker: GLW, DividendRate: 0.032210402\n",
            "Ticker: CTVA, DividendRate: 0.010402219\n",
            "Ticker: CSGP, DividendRate: 0.0\n",
            "Ticker: COST, DividendRate: 0.0070297443\n",
            "Ticker: CTRA, DividendRate: 0.09968102\n",
            "Ticker: CCI, DividendRate: 0.051929165\n",
            "Ticker: CSX, DividendRate: 0.012216925\n",
            "Ticker: CMI, DividendRate: 0.02597074\n",
            "Ticker: CVS, DividendRate: 0.032446045\n",
            "Ticker: DHI, DividendRate: 0.008231522\n",
            "Ticker: DHR, DividendRate: 0.0041887397\n",
            "Ticker: DRI, DividendRate: 0.028347118\n",
            "Ticker: DVA, DividendRate: 0.0\n",
            "Ticker: DE, DividendRate: 0.011586146\n",
            "Ticker: DAL, DividendRate: 0.0\n",
            "Ticker: XRAY, DividendRate: 0.013414952\n",
            "Ticker: DVN, DividendRate: 0.10201613\n",
            "Ticker: DXCM, DividendRate: 0.0\n",
            "Ticker: FANG, DividendRate: 0.071766935\n",
            "Ticker: DLR, DividendRate: 0.046304204\n",
            "Ticker: DFS, DividendRate: 0.020467337\n",
            "Ticker: DISH, DividendRate: 0.0\n",
            "Ticker: DIS, DividendRate: 0.0\n",
            "Ticker: DG, DividendRate: 0.01368524\n",
            "Ticker: DLTR, DividendRate: 0.0\n",
            "Ticker: D, DividendRate: 0.05050123\n",
            "Ticker: DPZ, DividendRate: 0.013857311\n",
            "Ticker: DOV, DividendRate: 0.013700028\n",
            "Ticker: DOW, DividendRate: 0.05235602\n",
            "Ticker: DTE, DividendRate: 0.03221842\n",
            "Ticker: DUK, DividendRate: 0.043625258\n",
            "Ticker: DD, DividendRate: 0.019365946\n",
            "Ticker: DXC, DividendRate: 0.0\n",
            "Ticker: EMN, DividendRate: 0.037349395\n",
            "Ticker: ETN, DividendRate: 0.016709838\n",
            "Ticker: EBAY, DividendRate: 0.019947393\n",
            "Ticker: ECL, DividendRate: 0.01144807\n",
            "Ticker: EIX, DividendRate: 0.04178779\n",
            "Ticker: EW, DividendRate: 0.0\n",
            "Ticker: EA, DividendRate: 0.0058919294\n",
            "Ticker: ELV, DividendRate: 0.0117769465\n",
            "Ticker: LLY, DividendRate: 0.00896614\n",
            "Ticker: EMR, DividendRate: 0.02351471\n",
            "Ticker: ENPH, DividendRate: 0.0\n",
            "Ticker: ETR, DividendRate: 0.040708482\n",
            "Ticker: EOG, DividendRate: 0.028200539\n",
            "Ticker: EPAM, DividendRate: 0.0\n",
            "Ticker: EQT, DividendRate: 0.014762515\n",
            "Ticker: EFX, DividendRate: 0.0067125643\n",
            "Ticker: EQIX, DividendRate: 0.016303023\n",
            "Ticker: EQR, DividendRate: 0.038251698\n",
            "Ticker: ESS, DividendRate: 0.03794719\n",
            "Ticker: EL, DividendRate: 0.01263728\n",
            "Ticker: ETSY, DividendRate: 0.0\n",
            "Ticker: RE, DividendRate: 0.019172113\n",
            "Ticker: EVRG, DividendRate: 0.03975843\n",
            "Ticker: ES, DividendRate: 0.036431488\n",
            "Ticker: EXC, DividendRate: 0.03356198\n",
            "Ticker: EXPE, DividendRate: 0.0\n",
            "Ticker: EXPD, DividendRate: 0.011235014\n",
            "Ticker: EXR, DividendRate: 0.041981068\n",
            "Ticker: XOM, DividendRate: 0.033808667\n",
            "Ticker: FFIV, DividendRate: 0.0\n",
            "Ticker: FDS, DividendRate: 0.008429627\n",
            "Ticker: FICO, DividendRate: 0.0\n",
            "Ticker: FAST, DividendRate: 0.0227596\n",
            "Ticker: FRT, DividendRate: 0.04541144\n",
            "Ticker: FDX, DividendRate: 0.019455252\n",
            "Ticker: FITB, DividendRate: 0.048206277\n",
            "Ticker: FSLR, DividendRate: 0.0\n",
            "Ticker: FE, DividendRate: 0.039887495\n",
            "Ticker: FIS, DividendRate: 0.03570768\n",
            "Ticker: FI, DividendRate: 0.0\n",
            "Ticker: FLT, DividendRate: 0.0\n",
            "Ticker: FMC, DividendRate: 0.020963173\n",
            "Ticker: F, DividendRate: 0.038062286\n",
            "Ticker: FTNT, DividendRate: 0.0\n",
            "Ticker: FTV, DividendRate: 0.00389051\n",
            "Ticker: FOXA, DividendRate: 0.014850016\n",
            "Ticker: FOX, DividendRate: 0.015847862\n",
            "Ticker: BEN, DividendRate: 0.043223444\n",
            "Ticker: FCX, DividendRate: 0.0149700595\n",
            "Ticker: GRMN, DividendRate: 0.02769873\n",
            "Ticker: IT, DividendRate: 0.0\n",
            "Ticker: GEHC, DividendRate: 0.00037926674\n",
            "Ticker: GEN, DividendRate: 0.026525198\n",
            "Ticker: GNRC, DividendRate: 0.0\n",
            "Ticker: GD, DividendRate: 0.023725344\n",
            "Ticker: GE, DividendRate: 0.003035765\n",
            "Ticker: GIS, DividendRate: 0.026390783\n",
            "Ticker: GM, DividendRate: 0.0070996587\n",
            "Ticker: GPC, DividendRate: 0.022486854\n",
            "Ticker: GILD, DividendRate: 0.037215192\n",
            "Ticker: GL, DividendRate: 0.007828656\n",
            "Ticker: GPN, DividendRate: 0.00980873\n",
            "Ticker: GS, DividendRate: 0.02796256\n",
            "Ticker: HAL, DividendRate: 0.01589728\n",
            "Ticker: HIG, DividendRate: 0.022797637\n",
            "Ticker: HAS, DividendRate: 0.04543242\n",
            "Ticker: HCA, DividendRate: 0.007975095\n",
            "Ticker: PEAK, DividendRate: 0.05780347\n",
            "Ticker: HSIC, DividendRate: 0.0\n",
            "Ticker: HSY, DividendRate: 0.015368397\n",
            "Ticker: HES, DividendRate: 0.011501363\n",
            "Ticker: HPE, DividendRate: 0.027507162\n",
            "Ticker: HLT, DividendRate: 0.004265302\n",
            "Ticker: HOLX, DividendRate: 0.0\n",
            "Ticker: HD, DividendRate: 0.026422093\n",
            "Ticker: HON, DividendRate: 0.019731998\n",
            "Ticker: HRL, DividendRate: 0.025907991\n",
            "Ticker: HST, DividendRate: 0.024547046\n",
            "Ticker: HWM, DividendRate: 0.0026064292\n",
            "Ticker: HPQ, DividendRate: 0.0329582\n",
            "Ticker: HUM, DividendRate: 0.0070022633\n",
            "Ticker: HBAN, DividendRate: 0.056932963\n",
            "Ticker: HII, DividendRate: 0.022141911\n",
            "Ticker: IBM, DividendRate: 0.047687862\n",
            "Ticker: IEX, DividendRate: 0.008555133\n",
            "Ticker: IDXX, DividendRate: 0.0\n",
            "Ticker: ITW, DividendRate: 0.020867098\n",
            "Ticker: ILMN, DividendRate: 0.0\n",
            "Ticker: INCY, DividendRate: 0.0\n",
            "Ticker: IR, DividendRate: 0.0009272137\n",
            "Ticker: PODD, DividendRate: 0.0\n",
            "Ticker: INTC, DividendRate: 0.04061977\n",
            "Ticker: ICE, DividendRate: 0.013881474\n",
            "Ticker: IFF, DividendRate: 0.040503144\n",
            "Ticker: IP, DividendRate: 0.058157813\n",
            "Ticker: IPG, DividendRate: 0.029071199\n",
            "Ticker: INTU, DividendRate: 0.006618308\n",
            "Ticker: ISRG, DividendRate: 0.0\n",
            "Ticker: IVZ, DividendRate: 0.04508876\n",
            "Ticker: INVH, DividendRate: 0.027955735\n",
            "Ticker: IQV, DividendRate: 0.0\n",
            "Ticker: IRM, DividendRate: 0.043282013\n",
            "Ticker: JBHT, DividendRate: 0.009156164\n",
            "Ticker: JKHY, DividendRate: 0.012033622\n",
            "Ticker: J, DividendRate: 0.008173449\n",
            "Ticker: JNJ, DividendRate: 0.027606426\n",
            "Ticker: JCI, DividendRate: 0.021599265\n",
            "Ticker: JPM, DividendRate: 0.027954435\n",
            "Ticker: JNPR, DividendRate: 0.02620222\n",
            "Ticker: K, DividendRate: 0.035638455\n",
            "Ticker: KDP, DividendRate: 0.024779597\n",
            "Ticker: KEY, DividendRate: 0.07936508\n",
            "Ticker: KEYS, DividendRate: 0.0\n",
            "Ticker: KMB, DividendRate: 0.03418427\n",
            "Ticker: KIM, DividendRate: 0.045407638\n",
            "Ticker: KMI, DividendRate: 0.06554968\n",
            "Ticker: KLAC, DividendRate: 0.010474417\n",
            "Ticker: KHC, DividendRate: 0.043395717\n",
            "Ticker: KR, DividendRate: 0.022638224\n",
            "Ticker: LHX, DividendRate: 0.023270244\n",
            "Ticker: LH, DividendRate: 0.012491326\n",
            "Ticker: LRCX, DividendRate: 0.010748792\n",
            "Ticker: LW, DividendRate: 0.008846086\n",
            "Ticker: LVS, DividendRate: 0.0\n",
            "Ticker: LDOS, DividendRate: 0.016893478\n",
            "Ticker: LEN, DividendRate: 0.012519823\n",
            "Ticker: LNC, DividendRate: 0.07364975\n",
            "Ticker: LIN, DividendRate: 0.012711189\n",
            "Ticker: LYV, DividendRate: 0.0\n",
            "Ticker: LKQ, DividendRate: 0.019258987\n",
            "Ticker: LMT, DividendRate: 0.025441386\n",
            "Ticker: L, DividendRate: 0.0042488105\n",
            "Ticker: LOW, DividendRate: 0.019184213\n",
            "Ticker: LYB, DividendRate: 0.051868808\n",
            "Ticker: MTB, DividendRate: 0.039272264\n",
            "Ticker: MRO, DividendRate: 0.015886646\n",
            "Ticker: MPC, DividendRate: 0.024861634\n",
            "Ticker: MKTX, DividendRate: 0.010063881\n",
            "Ticker: MAR, DividendRate: 0.007923931\n",
            "Ticker: MMC, DividendRate: 0.013072619\n",
            "Ticker: MLM, DividendRate: 0.0060309693\n",
            "Ticker: MAS, DividendRate: 0.020171367\n",
            "Ticker: MA, DividendRate: 0.005593077\n",
            "Ticker: MTCH, DividendRate: 0.0\n",
            "Ticker: MKC, DividendRate: 0.016307892\n",
            "Ticker: MCD, DividendRate: 0.019821607\n",
            "Ticker: MCK, DividendRate: 0.0052240854\n",
            "Ticker: MDT, DividendRate: 0.030934844\n",
            "Ticker: MRK, DividendRate: 0.025594149\n",
            "Ticker: META, DividendRate: 0.0\n",
            "Ticker: MET, DividendRate: 0.036258157\n",
            "Ticker: MTD, DividendRate: 0.0\n",
            "Ticker: MGM, DividendRate: 0.00016010979\n",
            "Ticker: MCHP, DividendRate: 0.014794424\n",
            "Ticker: MU, DividendRate: 0.0066841035\n",
            "Ticker: MSFT, DividendRate: 0.0076414826\n",
            "Ticker: MAA, DividendRate: 0.032347407\n",
            "Ticker: MRNA, DividendRate: 0.0\n",
            "Ticker: MHK, DividendRate: 0.0\n",
            "Ticker: MOH, DividendRate: 0.0\n",
            "Ticker: TAP, DividendRate: 0.023273272\n",
            "Ticker: MDLZ, DividendRate: 0.02048734\n",
            "Ticker: MPWR, DividendRate: 0.0062586656\n",
            "Ticker: MNST, DividendRate: 0.0\n",
            "Ticker: MCO, DividendRate: 0.008239786\n",
            "Ticker: MS, DividendRate: 0.034811903\n",
            "Ticker: MOS, DividendRate: 0.024092972\n",
            "Ticker: MSI, DividendRate: 0.011832642\n",
            "Ticker: MSCI, DividendRate: 0.010091273\n",
            "Ticker: NDAQ, DividendRate: 0.015305147\n",
            "Ticker: NTAP, DividendRate: 0.027114967\n",
            "Ticker: NFLX, DividendRate: 0.0\n",
            "Ticker: NWL, DividendRate: 0.10772834\n",
            "Ticker: NEM, DividendRate: 0.044496484\n",
            "Ticker: NWSA, DividendRate: 0.010251153\n",
            "Ticker: NWS, DividendRate: 0.010121457\n",
            "Ticker: NEE, DividendRate: 0.023440022\n",
            "Ticker: NKE, DividendRate: 0.011475846\n",
            "Ticker: NI, DividendRate: 0.03547915\n",
            "Ticker: NDSN, DividendRate: 0.010398174\n",
            "Ticker: NSC, DividendRate: 0.022704883\n",
            "Ticker: NTRS, DividendRate: 0.03900053\n",
            "Ticker: NOC, DividendRate: 0.014927021\n",
            "Ticker: NCLH, DividendRate: 0.0\n",
            "Ticker: NRG, DividendRate: 0.04233343\n",
            "Ticker: NUE, DividendRate: 0.013361556\n",
            "Ticker: NVDA, DividendRate: 0.00037512014\n",
            "Ticker: NVR, DividendRate: 0.0\n",
            "Ticker: NXPI, DividendRate: 0.018130269\n",
            "Ticker: ORLY, DividendRate: 0.0\n",
            "Ticker: OXY, DividendRate: 0.009756933\n",
            "Ticker: ODFL, DividendRate: 0.003958949\n",
            "Ticker: OMC, DividendRate: 0.029288704\n",
            "Ticker: ON, DividendRate: 0.0\n",
            "Ticker: OKE, DividendRate: 0.06185567\n",
            "Ticker: ORCL, DividendRate: 0.011378902\n",
            "Ticker: OGN, DividendRate: 0.053537283\n",
            "Ticker: OTIS, DividendRate: 0.013101422\n",
            "Ticker: PCAR, DividendRate: 0.012139605\n",
            "Ticker: PKG, DividendRate: 0.037690334\n",
            "Ticker: PARA, DividendRate: 0.05807622\n",
            "Ticker: PH, DividendRate: 0.014223078\n",
            "Ticker: PAYX, DividendRate: 0.027888097\n",
            "Ticker: PAYC, DividendRate: 0.001157586\n",
            "Ticker: PYPL, DividendRate: 0.0\n",
            "Ticker: PNR, DividendRate: 0.013932143\n",
            "Ticker: PEP, DividendRate: 0.024769802\n",
            "Ticker: PFE, DividendRate: 0.040503144\n",
            "Ticker: PCG, DividendRate: 0.0\n",
            "Ticker: PM, DividendRate: 0.053414967\n",
            "Ticker: PSX, DividendRate: 0.04081633\n",
            "Ticker: PNW, DividendRate: 0.04105326\n",
            "Ticker: PXD, DividendRate: 0.13399577\n",
            "Ticker: PNC, DividendRate: 0.04658747\n",
            "Ticker: POOL, DividendRate: 0.011188498\n",
            "Ticker: PPG, DividendRate: 0.017342677\n",
            "Ticker: PPL, DividendRate: 0.03387634\n",
            "Ticker: PFG, DividendRate: 0.034547906\n",
            "Ticker: PG, DividendRate: 0.024607614\n",
            "Ticker: PGR, DividendRate: 0.0031162356\n",
            "Ticker: PLD, DividendRate: 0.026618468\n",
            "Ticker: PRU, DividendRate: 0.055901334\n",
            "Ticker: PEG, DividendRate: 0.035175074\n",
            "Ticker: PTC, DividendRate: 0.0\n",
            "Ticker: PSA, DividendRate: 0.031289108\n",
            "Ticker: PHM, DividendRate: 0.008265583\n",
            "Ticker: QRVO, DividendRate: 0.0\n",
            "Ticker: PWR, DividendRate: 0.0016146394\n",
            "Ticker: QCOM, DividendRate: 0.02426988\n",
            "Ticker: DGX, DividendRate: 0.019606415\n",
            "Ticker: RL, DividendRate: 0.024697457\n",
            "Ticker: RJF, DividendRate: 0.015174204\n",
            "Ticker: RTX, DividendRate: 0.02244898\n",
            "Ticker: O, DividendRate: 0.048783276\n",
            "Ticker: REG, DividendRate: 0.041913215\n",
            "Ticker: REGN, DividendRate: 0.0\n",
            "Ticker: RF, DividendRate: 0.04203057\n",
            "Ticker: RSG, DividendRate: 0.013455552\n",
            "Ticker: RMD, DividendRate: 0.0079459315\n",
            "Ticker: RVTY, DividendRate: 0.002379536\n",
            "Ticker: RHI, DividendRate: 0.024153931\n",
            "Ticker: ROK, DividendRate: 0.014401552\n",
            "Ticker: ROL, DividendRate: 0.011047071\n",
            "Ticker: ROP, DividendRate: 0.0056490437\n",
            "Ticker: ROST, DividendRate: 0.011725992\n",
            "Ticker: RCL, DividendRate: 0.0\n",
            "Ticker: SPGI, DividendRate: 0.008625431\n",
            "Ticker: CRM, DividendRate: 0.0\n",
            "Ticker: SBAC, DividendRate: 0.012737765\n",
            "Ticker: SLB, DividendRate: 0.01617954\n",
            "Ticker: STX, DividendRate: 0.04233444\n",
            "Ticker: SEE, DividendRate: 0.020320041\n",
            "Ticker: SRE, DividendRate: 0.031092267\n",
            "Ticker: NOW, DividendRate: 0.0\n",
            "Ticker: SHW, DividendRate: 0.009640438\n",
            "Ticker: SPG, DividendRate: 0.06355932\n",
            "Ticker: SWKS, DividendRate: 0.02208634\n",
            "Ticker: SJM, DividendRate: 0.026687596\n",
            "Ticker: SNA, DividendRate: 0.022167938\n",
            "Ticker: SEDG, DividendRate: 0.0\n",
            "Ticker: SO, DividendRate: 0.038439795\n",
            "Ticker: LUV, DividendRate: 0.010597586\n",
            "Ticker: SWK, DividendRate: 0.03487101\n",
            "Ticker: SBUX, DividendRate: 0.020516867\n",
            "Ticker: STT, DividendRate: 0.032953784\n",
            "Ticker: STLD, DividendRate: 0.013637222\n",
            "Ticker: STE, DividendRate: 0.0086170565\n",
            "Ticker: SYK, DividendRate: 0.009775072\n",
            "Ticker: SYF, DividendRate: 0.02721292\n",
            "Ticker: SNPS, DividendRate: 0.0\n",
            "Ticker: SYY, DividendRate: 0.026702996\n",
            "Ticker: TMUS, DividendRate: 0.0\n",
            "Ticker: TROW, DividendRate: 0.042026334\n",
            "Ticker: TTWO, DividendRate: 0.0\n",
            "Ticker: TPR, DividendRate: 0.026473297\n",
            "Ticker: TRGP, DividendRate: 0.02155472\n",
            "Ticker: TGT, DividendRate: 0.030034823\n",
            "Ticker: TEL, DividendRate: 0.01678783\n",
            "Ticker: TDY, DividendRate: 0.0\n",
            "Ticker: TFX, DividendRate: 0.005466238\n",
            "Ticker: TER, DividendRate: 0.00399673\n",
            "Ticker: TSLA, DividendRate: 0.0\n",
            "Ticker: TXN, DividendRate: 0.026840363\n",
            "Ticker: TXT, DividendRate: 0.0012042752\n",
            "Ticker: TMO, DividendRate: 0.0023359684\n",
            "Ticker: TJX, DividendRate: 0.014948454\n",
            "Ticker: TSCO, DividendRate: 0.017172633\n",
            "Ticker: TT, DividendRate: 0.014898785\n",
            "Ticker: TDG, DividendRate: 0.0\n",
            "Ticker: TRV, DividendRate: 0.021139966\n",
            "Ticker: TRMB, DividendRate: 0.0\n",
            "Ticker: TFC, DividendRate: 0.063314706\n",
            "Ticker: TYL, DividendRate: 0.0\n",
            "Ticker: TSN, DividendRate: 0.03744274\n",
            "Ticker: USB, DividendRate: 0.057074193\n",
            "Ticker: UDR, DividendRate: 0.036253776\n",
            "Ticker: ULTA, DividendRate: 0.0\n",
            "Ticker: UNP, DividendRate: 0.025252525\n",
            "Ticker: UAL, DividendRate: 0.0\n",
            "Ticker: UPS, DividendRate: 0.034525137\n",
            "Ticker: URI, DividendRate: 0.0036101085\n",
            "Ticker: UNH, DividendRate: 0.014166433\n",
            "Ticker: UHS, DividendRate: 0.0054127197\n",
            "Ticker: VLO, DividendRate: 0.034727704\n",
            "Ticker: VTR, DividendRate: 0.03902016\n",
            "Ticker: VRSN, DividendRate: 0.0\n",
            "Ticker: VRSK, DividendRate: 0.005655252\n",
            "Ticker: VZ, DividendRate: 0.071295284\n",
            "Ticker: VRTX, DividendRate: 0.0\n",
            "Ticker: VFC, DividendRate: 0.09354005\n",
            "Ticker: VTRS, DividendRate: 0.04828974\n",
            "Ticker: VICI, DividendRate: 0.04701905\n",
            "Ticker: V, DividendRate: 0.0076270066\n",
            "Ticker: VMC, DividendRate: 0.0078012827\n",
            "Ticker: WAB, DividendRate: 0.006064163\n",
            "Ticker: WBA, DividendRate: 0.05986883\n",
            "Ticker: WMT, DividendRate: 0.0142648835\n",
            "Ticker: WBD, DividendRate: 0.0\n",
            "Ticker: WM, DividendRate: 0.016138855\n",
            "Ticker: WAT, DividendRate: 0.0\n",
            "Ticker: WEC, DividendRate: 0.032343306\n",
            "Ticker: WFC, DividendRate: 0.027148252\n",
            "Ticker: WELL, DividendRate: 0.03044292\n",
            "Ticker: WST, DividendRate: 0.0020566983\n",
            "Ticker: WDC, DividendRate: 0.0\n",
            "Ticker: WRK, DividendRate: 0.035995886\n",
            "Ticker: WY, DividendRate: 0.02373212\n",
            "Ticker: WHR, DividendRate: 0.047211166\n",
            "Ticker: WMB, DividendRate: 0.05636245\n",
            "Ticker: WTW, DividendRate: 0.014269137\n",
            "Ticker: GWW, DividendRate: 0.0092486795\n",
            "Ticker: WYNN, DividendRate: 0.0\n",
            "Ticker: XEL, DividendRate: 0.030814677\n",
            "Ticker: XYL, DividendRate: 0.010852303\n",
            "Ticker: YUM, DividendRate: 0.012535919\n",
            "Ticker: ZBRA, DividendRate: 0.0\n",
            "Ticker: ZBH, DividendRate: 0.0067330617\n",
            "Ticker: ZION, DividendRate: 0.055555556\n",
            "Ticker: ZTS, DividendRate: 0.007874935\n"
          ]
        }
      ]
    },
    {
      "cell_type": "code",
      "source": [
        "stock_data['Dividend'] = dividends"
      ],
      "metadata": {
        "id": "keZ_LHC72UQ3"
      },
      "execution_count": 18,
      "outputs": []
    },
    {
      "cell_type": "code",
      "source": [
        "no_dividend_shares = stock_data.loc[stock_data['Dividend'] == 0].count()\n",
        "dividend_shares = stock_data.loc[stock_data['Dividend'] > 0].count()\n",
        "\n",
        "print(f'Number of shares does not have Dividend: {no_dividend_shares[1]}')\n",
        "print(f'Number of shares does have Dividend: {dividend_shares[1]}')"
      ],
      "metadata": {
        "colab": {
          "base_uri": "https://localhost:8080/"
        },
        "id": "3JvqiBJL3BbS",
        "outputId": "816d9612-dd88-442c-ccb4-14dca5f7f359"
      },
      "execution_count": 37,
      "outputs": [
        {
          "output_type": "stream",
          "name": "stdout",
          "text": [
            "Number of shares does not have Dividend: 105\n",
            "Number of shares does have Dividend: 398\n"
          ]
        }
      ]
    },
    {
      "cell_type": "code",
      "source": [],
      "metadata": {
        "colab": {
          "base_uri": "https://localhost:8080/"
        },
        "id": "-cUHMOIr3n06",
        "outputId": "ef2b40e7-8733-4574-ce06-6e8ccb646a18"
      },
      "execution_count": null,
      "outputs": [
        {
          "output_type": "stream",
          "name": "stdout",
          "text": [
            "0.0053\n",
            "0.005173771\n"
          ]
        }
      ]
    }
  ]
}