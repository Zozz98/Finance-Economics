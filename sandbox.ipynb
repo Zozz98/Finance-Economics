{
  "nbformat": 4,
  "nbformat_minor": 0,
  "metadata": {
    "colab": {
      "provenance": [],
      "authorship_tag": "ABX9TyNzNVfkF679OhYvUvgXU8oO",
      "include_colab_link": true
    },
    "kernelspec": {
      "name": "python3",
      "display_name": "Python 3"
    },
    "language_info": {
      "name": "python"
    }
  },
  "cells": [
    {
      "cell_type": "markdown",
      "metadata": {
        "id": "view-in-github",
        "colab_type": "text"
      },
      "source": [
        "<a href=\"https://colab.research.google.com/github/Zozz98/Finance-Economics/blob/main/sandbox.ipynb\" target=\"_parent\"><img src=\"https://colab.research.google.com/assets/colab-badge.svg\" alt=\"Open In Colab\"/></a>"
      ]
    },
    {
      "cell_type": "markdown",
      "source": [
        "# IMPORTS"
      ],
      "metadata": {
        "id": "7PPzcqEtraHD"
      }
    },
    {
      "cell_type": "code",
      "execution_count": 33,
      "metadata": {
        "id": "75EFTzVmG75l"
      },
      "outputs": [],
      "source": [
        "import numpy as np\n",
        "import pandas as pd\n",
        "import matplotlib.pyplot as plt\n",
        "import plotly.express as px\n",
        "import yfinance as yf\n",
        "import pandas_datareader as pdr\n",
        "import datetime as dt\n",
        "\n",
        "from sklearn.cluster import KMeans\n",
        "from sklearn.metrics import silhouette_score"
      ]
    },
    {
      "cell_type": "markdown",
      "source": [
        "# GET DATA FROM WIKIPEDIA"
      ],
      "metadata": {
        "id": "O_I95wKyrijq"
      }
    },
    {
      "cell_type": "code",
      "source": [
        "url = \"https://en.wikipedia.org/wiki/List_of_S%26P_500_companies\"\n",
        "sp500_list = pd.read_html(url)\n",
        "sp500_list = sp500_list[0]\n",
        "sp500_list = sp500_list.drop(columns=['GICS Sub-Industry','Headquarters Location', 'Date added','CIK','Founded'], axis=1)\n",
        "sp500_list.rename(columns={'GICS Sector':'Sector'},inplace=True)"
      ],
      "metadata": {
        "id": "WeEEdKxnHhiR"
      },
      "execution_count": 2,
      "outputs": []
    },
    {
      "cell_type": "markdown",
      "source": [
        "# LOAD CLOSE PRICES FROM WIKIPEDIA DATA"
      ],
      "metadata": {
        "id": "Ln3L6R0YrqVJ"
      }
    },
    {
      "cell_type": "code",
      "source": [
        "end = dt.datetime.now()\n",
        "start = end - dt.timedelta(days=252)\n",
        "\n",
        "ticker_list = [i for i in sp500_list['Symbol']]\n",
        "\n",
        "for i in range(len(ticker_list)):\n",
        "    if ticker_list[i] == 'BRK.B':\n",
        "        ticker_list[i] = 'BRK-B'\n",
        "    elif ticker_list[i] == 'BF.B':\n",
        "        ticker_list[i] = 'BF-B'"
      ],
      "metadata": {
        "id": "XQSdFbFyJG6B"
      },
      "execution_count": 3,
      "outputs": []
    },
    {
      "cell_type": "code",
      "source": [
        "stocks = yf.download(ticker_list, start=start, end=end)['Close']"
      ],
      "metadata": {
        "colab": {
          "base_uri": "https://localhost:8080/"
        },
        "id": "N8ssmMUTjT5S",
        "outputId": "719925b9-27d1-432d-9857-439553208f53"
      },
      "execution_count": 4,
      "outputs": [
        {
          "output_type": "stream",
          "name": "stdout",
          "text": [
            "[*********************100%%**********************]  503 of 503 completed\n"
          ]
        }
      ]
    },
    {
      "cell_type": "markdown",
      "source": [
        "# LOG RETURN AND SET COLUMNS"
      ],
      "metadata": {
        "id": "k-OCkD04rxfT"
      }
    },
    {
      "cell_type": "code",
      "source": [
        "log_return = np.log(stocks / stocks.shift(1)).replace(np.nan, 0)\n",
        "\n",
        "annual_return = log_return.mean() * 252\n",
        "annual_volatility = log_return.std() * np.sqrt(252)\n",
        "\n",
        "stock_data = pd.DataFrame()\n",
        "stock_data['Symbol'] = ticker_list\n",
        "stock_data['Security'] = sp500_list['Security']\n",
        "stock_data['Sector'] = sp500_list['Sector']\n",
        "stock_data['Return'] = list(round(annual_return, 3))\n",
        "stock_data['Volatility'] = list(round(annual_volatility, 3))\n",
        "stock_data['Ratio'] = list(round((annual_return / annual_volatility), 3))"
      ],
      "metadata": {
        "id": "SfnwlYLUQpJF"
      },
      "execution_count": 5,
      "outputs": []
    },
    {
      "cell_type": "markdown",
      "source": [
        "# VOLATILITY-RETURN SCATTER PLOT"
      ],
      "metadata": {
        "id": "q2jXOkhzr4gL"
      }
    },
    {
      "cell_type": "code",
      "source": [
        "px.scatter(stock_data,\n",
        "           x='Volatility',\n",
        "           y='Return',\n",
        "           hover_data=['Sector'],\n",
        "           hover_name='Symbol',\n",
        "           title='S&P 500 stocks by Volatility/Return',\n",
        "           color='Ratio',\n",
        "           width=750,\n",
        "           height=500,\n",
        "           template='plotly_dark'\n",
        "           ).update_layout(title_x=0.5)"
      ],
      "metadata": {
        "colab": {
          "base_uri": "https://localhost:8080/",
          "height": 537
        },
        "id": "F6Qq_Vd2trhj",
        "outputId": "72bc9a35-2beb-4560-c1ce-d1d255094eab"
      },
      "execution_count": 6,
      "outputs": [
        {
          "output_type": "display_data",
          "data": {
            "text/html": [
              "<html>\n",
              "<head><meta charset=\"utf-8\" /></head>\n",
              "<body>\n",
              "    <div>            <script src=\"https://cdnjs.cloudflare.com/ajax/libs/mathjax/2.7.5/MathJax.js?config=TeX-AMS-MML_SVG\"></script><script type=\"text/javascript\">if (window.MathJax && window.MathJax.Hub && window.MathJax.Hub.Config) {window.MathJax.Hub.Config({SVG: {font: \"STIX-Web\"}});}</script>                <script type=\"text/javascript\">window.PlotlyConfig = {MathJaxConfig: 'local'};</script>\n",
              "        <script charset=\"utf-8\" src=\"https://cdn.plot.ly/plotly-2.24.1.min.js\"></script>                <div id=\"29b82003-ea6c-4e8d-9424-1d38f8fe9e3c\" class=\"plotly-graph-div\" style=\"height:500px; width:750px;\"></div>            <script type=\"text/javascript\">                                    window.PLOTLYENV=window.PLOTLYENV || {};                                    if (document.getElementById(\"29b82003-ea6c-4e8d-9424-1d38f8fe9e3c\")) {                    Plotly.newPlot(                        \"29b82003-ea6c-4e8d-9424-1d38f8fe9e3c\",                        [{\"customdata\":[[\"Industrials\"],[\"Industrials\"],[\"Health Care\"],[\"Health Care\"],[\"Information Technology\"],[\"Communication Services\"],[\"Consumer Staples\"],[\"Information Technology\"],[\"Industrials\"],[\"Utilities\"],[\"Financials\"],[\"Health Care\"],[\"Consumer Discretionary\"],[\"Materials\"],[\"Information Technology\"],[\"Industrials\"],[\"Materials\"],[\"Real Estate\"],[\"Health Care\"],[\"Industrials\"],[\"Utilities\"],[\"Financials\"],[\"Communication Services\"],[\"Communication Services\"],[\"Consumer Staples\"],[\"Consumer Discretionary\"],[\"Materials\"],[\"Information Technology\"],[\"Utilities\"],[\"Industrials\"],[\"Utilities\"],[\"Financials\"],[\"Financials\"],[\"Real Estate\"],[\"Utilities\"],[\"Financials\"],[\"Industrials\"],[\"Health Care\"],[\"Information Technology\"],[\"Information Technology\"],[\"Information Technology\"],[\"Financials\"],[\"Energy\"],[\"Information Technology\"],[\"Information Technology\"],[\"Consumer Discretionary\"],[\"Financials\"],[\"Information Technology\"],[\"Financials\"],[\"Financials\"],[\"Communication Services\"],[\"Utilities\"],[\"Information Technology\"],[\"Consumer Discretionary\"],[\"Real Estate\"],[\"Materials\"],[\"Industrials\"],[\"Energy\"],[\"Materials\"],[\"Financials\"],[\"Consumer Discretionary\"],[\"Health Care\"],[\"Health Care\"],[\"Financials\"],[\"Financials\"],[\"Consumer Discretionary\"],[\"Health Care\"],[\"Health Care\"],[\"Health Care\"],[\"Financials\"],[\"Financials\"],[\"Financials\"],[\"Industrials\"],[\"Consumer Discretionary\"],[\"Consumer Discretionary\"],[\"Real Estate\"],[\"Health Care\"],[\"Health Care\"],[\"Information Technology\"],[\"Industrials\"],[\"Financials\"],[\"Consumer Staples\"],[\"Consumer Staples\"],[\"Industrials\"],[\"Information Technology\"],[\"Consumer Discretionary\"],[\"Real Estate\"],[\"Consumer Staples\"],[\"Financials\"],[\"Health Care\"],[\"Consumer Discretionary\"],[\"Consumer Discretionary\"],[\"Industrials\"],[\"Health Care\"],[\"Industrials\"],[\"Financials\"],[\"Real Estate\"],[\"Information Technology\"],[\"Materials\"],[\"Health Care\"],[\"Health Care\"],[\"Utilities\"],[\"Industrials\"],[\"Materials\"],[\"Health Care\"],[\"Financials\"],[\"Communication Services\"],[\"Energy\"],[\"Consumer Discretionary\"],[\"Financials\"],[\"Consumer Staples\"],[\"Health Care\"],[\"Financials\"],[\"Industrials\"],[\"Information Technology\"],[\"Financials\"],[\"Financials\"],[\"Consumer Staples\"],[\"Financials\"],[\"Utilities\"],[\"Consumer Staples\"],[\"Information Technology\"],[\"Consumer Staples\"],[\"Communication Services\"],[\"Financials\"],[\"Consumer Staples\"],[\"Energy\"],[\"Utilities\"],[\"Consumer Staples\"],[\"Utilities\"],[\"Health Care\"],[\"Industrials\"],[\"Information Technology\"],[\"Materials\"],[\"Real Estate\"],[\"Consumer Staples\"],[\"Energy\"],[\"Real Estate\"],[\"Industrials\"],[\"Industrials\"],[\"Health Care\"],[\"Consumer Discretionary\"],[\"Health Care\"],[\"Consumer Discretionary\"],[\"Health Care\"],[\"Industrials\"],[\"Industrials\"],[\"Health Care\"],[\"Energy\"],[\"Health Care\"],[\"Energy\"],[\"Real Estate\"],[\"Financials\"],[\"Communication Services\"],[\"Consumer Staples\"],[\"Consumer Staples\"],[\"Utilities\"],[\"Consumer Discretionary\"],[\"Industrials\"],[\"Materials\"],[\"Utilities\"],[\"Utilities\"],[\"Materials\"],[\"Information Technology\"],[\"Materials\"],[\"Industrials\"],[\"Consumer Discretionary\"],[\"Materials\"],[\"Utilities\"],[\"Health Care\"],[\"Communication Services\"],[\"Health Care\"],[\"Health Care\"],[\"Industrials\"],[\"Information Technology\"],[\"Utilities\"],[\"Energy\"],[\"Information Technology\"],[\"Energy\"],[\"Industrials\"],[\"Real Estate\"],[\"Real Estate\"],[\"Real Estate\"],[\"Consumer Staples\"],[\"Consumer Discretionary\"],[\"Financials\"],[\"Utilities\"],[\"Utilities\"],[\"Utilities\"],[\"Consumer Discretionary\"],[\"Industrials\"],[\"Real Estate\"],[\"Energy\"],[\"Information Technology\"],[\"Financials\"],[\"Information Technology\"],[\"Industrials\"],[\"Real Estate\"],[\"Industrials\"],[\"Financials\"],[\"Information Technology\"],[\"Utilities\"],[\"Financials\"],[\"Financials\"],[\"Financials\"],[\"Materials\"],[\"Consumer Discretionary\"],[\"Information Technology\"],[\"Industrials\"],[\"Communication Services\"],[\"Communication Services\"],[\"Financials\"],[\"Materials\"],[\"Consumer Discretionary\"],[\"Information Technology\"],[\"Health Care\"],[\"Information Technology\"],[\"Industrials\"],[\"Industrials\"],[\"Industrials\"],[\"Consumer Staples\"],[\"Consumer Discretionary\"],[\"Consumer Discretionary\"],[\"Health Care\"],[\"Financials\"],[\"Financials\"],[\"Financials\"],[\"Energy\"],[\"Financials\"],[\"Consumer Discretionary\"],[\"Health Care\"],[\"Real Estate\"],[\"Health Care\"],[\"Consumer Staples\"],[\"Energy\"],[\"Information Technology\"],[\"Consumer Discretionary\"],[\"Health Care\"],[\"Consumer Discretionary\"],[\"Industrials\"],[\"Consumer Staples\"],[\"Real Estate\"],[\"Industrials\"],[\"Information Technology\"],[\"Health Care\"],[\"Financials\"],[\"Industrials\"],[\"Information Technology\"],[\"Industrials\"],[\"Health Care\"],[\"Industrials\"],[\"Health Care\"],[\"Health Care\"],[\"Industrials\"],[\"Health Care\"],[\"Information Technology\"],[\"Financials\"],[\"Materials\"],[\"Materials\"],[\"Communication Services\"],[\"Information Technology\"],[\"Health Care\"],[\"Financials\"],[\"Real Estate\"],[\"Health Care\"],[\"Real Estate\"],[\"Industrials\"],[\"Financials\"],[\"Industrials\"],[\"Health Care\"],[\"Industrials\"],[\"Financials\"],[\"Information Technology\"],[\"Consumer Staples\"],[\"Consumer Staples\"],[\"Consumer Staples\"],[\"Financials\"],[\"Information Technology\"],[\"Consumer Staples\"],[\"Real Estate\"],[\"Energy\"],[\"Information Technology\"],[\"Consumer Staples\"],[\"Consumer Staples\"],[\"Industrials\"],[\"Health Care\"],[\"Information Technology\"],[\"Consumer Staples\"],[\"Consumer Discretionary\"],[\"Industrials\"],[\"Consumer Discretionary\"],[\"Materials\"],[\"Communication Services\"],[\"Consumer Discretionary\"],[\"Industrials\"],[\"Financials\"],[\"Consumer Discretionary\"],[\"Materials\"],[\"Financials\"],[\"Energy\"],[\"Energy\"],[\"Financials\"],[\"Consumer Discretionary\"],[\"Financials\"],[\"Materials\"],[\"Industrials\"],[\"Financials\"],[\"Communication Services\"],[\"Consumer Staples\"],[\"Consumer Discretionary\"],[\"Health Care\"],[\"Health Care\"],[\"Health Care\"],[\"Communication Services\"],[\"Financials\"],[\"Health Care\"],[\"Consumer Discretionary\"],[\"Information Technology\"],[\"Information Technology\"],[\"Information Technology\"],[\"Real Estate\"],[\"Health Care\"],[\"Consumer Discretionary\"],[\"Health Care\"],[\"Consumer Staples\"],[\"Consumer Staples\"],[\"Information Technology\"],[\"Consumer Staples\"],[\"Financials\"],[\"Financials\"],[\"Materials\"],[\"Information Technology\"],[\"Financials\"],[\"Financials\"],[\"Information Technology\"],[\"Communication Services\"],[\"Materials\"],[\"Communication Services\"],[\"Communication Services\"],[\"Utilities\"],[\"Consumer Discretionary\"],[\"Utilities\"],[\"Industrials\"],[\"Industrials\"],[\"Financials\"],[\"Industrials\"],[\"Consumer Discretionary\"],[\"Utilities\"],[\"Materials\"],[\"Information Technology\"],[\"Consumer Discretionary\"],[\"Information Technology\"],[\"Consumer Discretionary\"],[\"Energy\"],[\"Industrials\"],[\"Communication Services\"],[\"Information Technology\"],[\"Energy\"],[\"Information Technology\"],[\"Health Care\"],[\"Industrials\"],[\"Industrials\"],[\"Materials\"],[\"Information Technology\"],[\"Communication Services\"],[\"Industrials\"],[\"Industrials\"],[\"Industrials\"],[\"Financials\"],[\"Industrials\"],[\"Consumer Staples\"],[\"Health Care\"],[\"Utilities\"],[\"Consumer Staples\"],[\"Energy\"],[\"Utilities\"],[\"Energy\"],[\"Financials\"],[\"Consumer Discretionary\"],[\"Materials\"],[\"Utilities\"],[\"Financials\"],[\"Consumer Staples\"],[\"Financials\"],[\"Real Estate\"],[\"Financials\"],[\"Utilities\"],[\"Information Technology\"],[\"Real Estate\"],[\"Consumer Discretionary\"],[\"Information Technology\"],[\"Industrials\"],[\"Information Technology\"],[\"Health Care\"],[\"Consumer Discretionary\"],[\"Financials\"],[\"Industrials\"],[\"Real Estate\"],[\"Real Estate\"],[\"Health Care\"],[\"Financials\"],[\"Industrials\"],[\"Health Care\"],[\"Health Care\"],[\"Industrials\"],[\"Industrials\"],[\"Industrials\"],[\"Information Technology\"],[\"Consumer Discretionary\"],[\"Consumer Discretionary\"],[\"Financials\"],[\"Information Technology\"],[\"Real Estate\"],[\"Energy\"],[\"Information Technology\"],[\"Materials\"],[\"Utilities\"],[\"Information Technology\"],[\"Materials\"],[\"Real Estate\"],[\"Information Technology\"],[\"Consumer Staples\"],[\"Industrials\"],[\"Information Technology\"],[\"Utilities\"],[\"Industrials\"],[\"Industrials\"],[\"Consumer Discretionary\"],[\"Financials\"],[\"Materials\"],[\"Health Care\"],[\"Health Care\"],[\"Financials\"],[\"Information Technology\"],[\"Consumer Staples\"],[\"Communication Services\"],[\"Financials\"],[\"Communication Services\"],[\"Consumer Discretionary\"],[\"Energy\"],[\"Consumer Staples\"],[\"Information Technology\"],[\"Information Technology\"],[\"Health Care\"],[\"Information Technology\"],[\"Consumer Discretionary\"],[\"Information Technology\"],[\"Industrials\"],[\"Health Care\"],[\"Consumer Discretionary\"],[\"Consumer Discretionary\"],[\"Industrials\"],[\"Industrials\"],[\"Financials\"],[\"Information Technology\"],[\"Financials\"],[\"Information Technology\"],[\"Consumer Staples\"],[\"Financials\"],[\"Real Estate\"],[\"Consumer Discretionary\"],[\"Industrials\"],[\"Industrials\"],[\"Industrials\"],[\"Industrials\"],[\"Health Care\"],[\"Health Care\"],[\"Energy\"],[\"Real Estate\"],[\"Information Technology\"],[\"Industrials\"],[\"Communication Services\"],[\"Health Care\"],[\"Consumer Discretionary\"],[\"Health Care\"],[\"Real Estate\"],[\"Financials\"],[\"Materials\"],[\"Industrials\"],[\"Consumer Staples\"],[\"Consumer Staples\"],[\"Communication Services\"],[\"Industrials\"],[\"Health Care\"],[\"Utilities\"],[\"Financials\"],[\"Real Estate\"],[\"Health Care\"],[\"Information Technology\"],[\"Materials\"],[\"Real Estate\"],[\"Consumer Discretionary\"],[\"Energy\"],[\"Financials\"],[\"Industrials\"],[\"Consumer Discretionary\"],[\"Utilities\"],[\"Industrials\"],[\"Consumer Discretionary\"],[\"Information Technology\"],[\"Health Care\"],[\"Financials\"],[\"Health Care\"]],\"hovertemplate\":\"\\u003cb\\u003e%{hovertext}\\u003c\\u002fb\\u003e\\u003cbr\\u003e\\u003cbr\\u003eVolatility=%{x}\\u003cbr\\u003eReturn=%{y}\\u003cbr\\u003eSector=%{customdata[0]}\\u003cbr\\u003eRatio=%{marker.color}\\u003cextra\\u003e\\u003c\\u002fextra\\u003e\",\"hovertext\":[\"MMM\",\"AOS\",\"ABT\",\"ABBV\",\"ACN\",\"ATVI\",\"ADM\",\"ADBE\",\"ADP\",\"AES\",\"AFL\",\"A\",\"ABNB\",\"APD\",\"AKAM\",\"ALK\",\"ALB\",\"ARE\",\"ALGN\",\"ALLE\",\"LNT\",\"ALL\",\"GOOGL\",\"GOOG\",\"MO\",\"AMZN\",\"AMCR\",\"AMD\",\"AEE\",\"AAL\",\"AEP\",\"AXP\",\"AIG\",\"AMT\",\"AWK\",\"AMP\",\"AME\",\"AMGN\",\"APH\",\"ADI\",\"ANSS\",\"AON\",\"APA\",\"AAPL\",\"AMAT\",\"APTV\",\"ACGL\",\"ANET\",\"AJG\",\"AIZ\",\"T\",\"ATO\",\"ADSK\",\"AZO\",\"AVB\",\"AVY\",\"AXON\",\"BKR\",\"BALL\",\"BAC\",\"BBWI\",\"BAX\",\"BDX\",\"WRB\",\"BRK-B\",\"BBY\",\"BIO\",\"TECH\",\"BIIB\",\"BLK\",\"BX\",\"BK\",\"BA\",\"BKNG\",\"BWA\",\"BXP\",\"BSX\",\"BMY\",\"AVGO\",\"BR\",\"BRO\",\"BF-B\",\"BG\",\"CHRW\",\"CDNS\",\"CZR\",\"CPT\",\"CPB\",\"COF\",\"CAH\",\"KMX\",\"CCL\",\"CARR\",\"CTLT\",\"CAT\",\"CBOE\",\"CBRE\",\"CDW\",\"CE\",\"COR\",\"CNC\",\"CNP\",\"CDAY\",\"CF\",\"CRL\",\"SCHW\",\"CHTR\",\"CVX\",\"CMG\",\"CB\",\"CHD\",\"CI\",\"CINF\",\"CTAS\",\"CSCO\",\"C\",\"CFG\",\"CLX\",\"CME\",\"CMS\",\"KO\",\"CTSH\",\"CL\",\"CMCSA\",\"CMA\",\"CAG\",\"COP\",\"ED\",\"STZ\",\"CEG\",\"COO\",\"CPRT\",\"GLW\",\"CTVA\",\"CSGP\",\"COST\",\"CTRA\",\"CCI\",\"CSX\",\"CMI\",\"CVS\",\"DHI\",\"DHR\",\"DRI\",\"DVA\",\"DE\",\"DAL\",\"XRAY\",\"DVN\",\"DXCM\",\"FANG\",\"DLR\",\"DFS\",\"DIS\",\"DG\",\"DLTR\",\"D\",\"DPZ\",\"DOV\",\"DOW\",\"DTE\",\"DUK\",\"DD\",\"DXC\",\"EMN\",\"ETN\",\"EBAY\",\"ECL\",\"EIX\",\"EW\",\"EA\",\"ELV\",\"LLY\",\"EMR\",\"ENPH\",\"ETR\",\"EOG\",\"EPAM\",\"EQT\",\"EFX\",\"EQIX\",\"EQR\",\"ESS\",\"EL\",\"ETSY\",\"EG\",\"EVRG\",\"ES\",\"EXC\",\"EXPE\",\"EXPD\",\"EXR\",\"XOM\",\"FFIV\",\"FDS\",\"FICO\",\"FAST\",\"FRT\",\"FDX\",\"FITB\",\"FSLR\",\"FE\",\"FIS\",\"FI\",\"FLT\",\"FMC\",\"F\",\"FTNT\",\"FTV\",\"FOXA\",\"FOX\",\"BEN\",\"FCX\",\"GRMN\",\"IT\",\"GEHC\",\"GEN\",\"GNRC\",\"GD\",\"GE\",\"GIS\",\"GM\",\"GPC\",\"GILD\",\"GL\",\"GPN\",\"GS\",\"HAL\",\"HIG\",\"HAS\",\"HCA\",\"PEAK\",\"HSIC\",\"HSY\",\"HES\",\"HPE\",\"HLT\",\"HOLX\",\"HD\",\"HON\",\"HRL\",\"HST\",\"HWM\",\"HPQ\",\"HUM\",\"HBAN\",\"HII\",\"IBM\",\"IEX\",\"IDXX\",\"ITW\",\"ILMN\",\"INCY\",\"IR\",\"PODD\",\"INTC\",\"ICE\",\"IFF\",\"IP\",\"IPG\",\"INTU\",\"ISRG\",\"IVZ\",\"INVH\",\"IQV\",\"IRM\",\"JBHT\",\"JKHY\",\"J\",\"JNJ\",\"JCI\",\"JPM\",\"JNPR\",\"K\",\"KVUE\",\"KDP\",\"KEY\",\"KEYS\",\"KMB\",\"KIM\",\"KMI\",\"KLAC\",\"KHC\",\"KR\",\"LHX\",\"LH\",\"LRCX\",\"LW\",\"LVS\",\"LDOS\",\"LEN\",\"LIN\",\"LYV\",\"LKQ\",\"LMT\",\"L\",\"LOW\",\"LYB\",\"MTB\",\"MRO\",\"MPC\",\"MKTX\",\"MAR\",\"MMC\",\"MLM\",\"MAS\",\"MA\",\"MTCH\",\"MKC\",\"MCD\",\"MCK\",\"MDT\",\"MRK\",\"META\",\"MET\",\"MTD\",\"MGM\",\"MCHP\",\"MU\",\"MSFT\",\"MAA\",\"MRNA\",\"MHK\",\"MOH\",\"TAP\",\"MDLZ\",\"MPWR\",\"MNST\",\"MCO\",\"MS\",\"MOS\",\"MSI\",\"MSCI\",\"NDAQ\",\"NTAP\",\"NFLX\",\"NEM\",\"NWSA\",\"NWS\",\"NEE\",\"NKE\",\"NI\",\"NDSN\",\"NSC\",\"NTRS\",\"NOC\",\"NCLH\",\"NRG\",\"NUE\",\"NVDA\",\"NVR\",\"NXPI\",\"ORLY\",\"OXY\",\"ODFL\",\"OMC\",\"ON\",\"OKE\",\"ORCL\",\"OGN\",\"OTIS\",\"PCAR\",\"PKG\",\"PANW\",\"PARA\",\"PH\",\"PAYX\",\"PAYC\",\"PYPL\",\"PNR\",\"PEP\",\"PFE\",\"PCG\",\"PM\",\"PSX\",\"PNW\",\"PXD\",\"PNC\",\"POOL\",\"PPG\",\"PPL\",\"PFG\",\"PG\",\"PGR\",\"PLD\",\"PRU\",\"PEG\",\"PTC\",\"PSA\",\"PHM\",\"QRVO\",\"PWR\",\"QCOM\",\"DGX\",\"RL\",\"RJF\",\"RTX\",\"O\",\"REG\",\"REGN\",\"RF\",\"RSG\",\"RMD\",\"RVTY\",\"RHI\",\"ROK\",\"ROL\",\"ROP\",\"ROST\",\"RCL\",\"SPGI\",\"CRM\",\"SBAC\",\"SLB\",\"STX\",\"SEE\",\"SRE\",\"NOW\",\"SHW\",\"SPG\",\"SWKS\",\"SJM\",\"SNA\",\"SEDG\",\"SO\",\"LUV\",\"SWK\",\"SBUX\",\"STT\",\"STLD\",\"STE\",\"SYK\",\"SYF\",\"SNPS\",\"SYY\",\"TMUS\",\"TROW\",\"TTWO\",\"TPR\",\"TRGP\",\"TGT\",\"TEL\",\"TDY\",\"TFX\",\"TER\",\"TSLA\",\"TXN\",\"TXT\",\"TMO\",\"TJX\",\"TSCO\",\"TT\",\"TDG\",\"TRV\",\"TRMB\",\"TFC\",\"TYL\",\"TSN\",\"USB\",\"UDR\",\"ULTA\",\"UNP\",\"UAL\",\"UPS\",\"URI\",\"UNH\",\"UHS\",\"VLO\",\"VTR\",\"VRSN\",\"VRSK\",\"VZ\",\"VRTX\",\"VFC\",\"VTRS\",\"VICI\",\"V\",\"VMC\",\"WAB\",\"WBA\",\"WMT\",\"WBD\",\"WM\",\"WAT\",\"WEC\",\"WFC\",\"WELL\",\"WST\",\"WDC\",\"WRK\",\"WY\",\"WHR\",\"WMB\",\"WTW\",\"GWW\",\"WYNN\",\"XEL\",\"XYL\",\"YUM\",\"ZBRA\",\"ZBH\",\"ZION\",\"ZTS\"],\"legendgroup\":\"\",\"marker\":{\"color\":[-1.904,-1.123,1.571,0.21,1.007,-1.165,1.414,0.914,1.66,0.314,-0.735,0.298,0.139,-0.95,-1.407,-2.637,0.605,-0.059,0.795,1.558,1.132,-1.307,0.696,-1.491,-0.518,-0.257,1.003,-1.699,1.111,0.548,0.187,0.063,-1.958,1.271,1.503,0.89,0.27,0.665,-0.229,-0.324,0.487,-0.258,-2.124,-0.4,1.356,0.155,1.715,-0.139,-1.308,0.208,0.111,0.596,-0.307,-1.092,-0.717,-0.737,-1.239,-0.987,0.152,-1.068,-1.107,0.508,-0.611,-0.994,-0.828,1.628,0.904,-0.886,-2.061,1.774,1.67,1.21,1.078,0.167,1.206,-0.656,-1.088,-2.986,1.1,1.338,0.53,-0.242,1.92,-0.651,-2.776,0.953,-0.014,1.493,0.038,0.257,1.816,-0.102,-1.531,1.172,-0.395,0.578,-0.415,0.182,-0.523,-0.479,-1.157,0.981,1.122,0.958,-0.134,-1.03,-0.447,-0.859,-0.111,-0.526,0.138,1.089,1.589,-1.702,2.319,-1.285,-0.754,1.618,1.035,-0.019,-0.278,0.924,-0.146,0.337,0.648,-1.216,-1.26,-0.292,0.034,-2.054,-0.229,0.055,-0.315,-0.701,-2.94,-1.323,0.799,-0.559,-1.159,0.471,-1.333,0.211,-0.678,0.408,-0.228,-0.912,-0.971,0.853,-1.077,-0.907,-0.554,-0.307,-0.311,0.863,-0.537,-1.0,0.56,-0.04,-2.519,-0.427,-0.777,0.744,-1.555,-0.053,-0.827,0.037,-0.269,0.603,-2.118,-0.152,1.868,-0.988,-2.318,-1.107,-0.578,-0.639,0.449,-0.236,-1.1,0.073,0.333,1.131,-0.785,0.222,2.019,-1.286,0.746,0.662,2.118,-0.932,-1.122,1.53,-3.305,-0.164,-0.075,-1.019,-0.111,0.574,0.806,-0.423,2.359,0.334,-0.914,-0.753,-1.589,-0.514,-1.094,-0.445,0.08,1.555,1.576,-0.806,0.268,0.618,-0.543,1.356,0.169,0.238,-1.19,-0.273,-0.198,0.12,-0.224,-0.519,0.653,-0.984,-0.53,0.404,-0.273,-1.229,-0.593,-0.325,-0.58,0.019,1.193,0.162,0.098,-0.421,-0.603,-1.643,-1.281,-2.245,0.724,1.377,0.169,-0.244,-0.974,-0.562,0.945,0.971,0.734,0.478,0.339,-1.301,0.984,0.024,-0.939,-0.837,-0.642,-0.813,0.512,-1.323,-0.736,-1.058,-1.39,-1.633,-1.14,0.417,-0.828,-0.965,0.943,-0.84,0.081,-2.06,0.721,-0.143,0.858,-0.441,-0.62,1.031,-0.878,2.359,-0.635,-0.687,0.144,1.181,-1.486,-0.801,-0.366,0.311,0.45,0.652,-1.347,1.097,0.539,0.003,0.282,1.137,0.035,0.836,-0.113,-0.486,2.696,-0.211,-1.207,-0.229,-1.933,1.033,1.184,-1.222,0.461,-0.553,0.575,-1.095,0.972,0.408,-0.416,-2.209,-0.0,-0.877,0.15,1.67,0.631,-0.901,-0.636,-1.797,0.749,0.288,-1.326,-0.199,-1.917,-1.616,0.705,-0.495,-2.062,-0.09,1.106,1.106,-1.632,0.898,-1.196,0.138,2.655,1.218,0.341,0.248,0.807,-2.354,1.091,-2.507,-0.44,-0.622,1.316,0.954,1.032,-0.028,-0.005,1.824,-1.019,-0.613,0.057,1.524,0.485,-2.33,-0.286,-0.004,-2.596,-0.957,0.354,0.492,1.457,1.852,0.872,-0.528,-0.998,-0.909,1.552,-0.003,-2.53,-0.015,0.21,-1.657,-0.139,-0.541,0.71,0.588,1.739,-0.093,-1.093,-0.324,-0.195,1.691,-0.479,0.897,-1.055,-0.176,-0.607,-0.093,-1.799,0.373,0.288,1.097,-0.452,1.673,-1.533,-1.1,-2.008,-0.909,-1.078,-2.146,-2.233,0.406,-1.377,0.239,0.515,1.568,-0.038,-0.653,0.035,-0.91,0.477,-0.03,-0.794,0.373,1.248,-0.026,-0.162,-0.331,0.323,-1.33,-1.229,1.541,1.707,0.215,-0.884,-0.053,0.124,-1.67,-1.004,-2.069,0.947,-1.078,-0.277,-1.712,0.859,-0.516,-0.485,-0.643,-0.12,1.692,-1.107,1.108,1.44,-0.475,1.013,1.261,-0.611,-0.756,-0.89,-1.13,0.251,-0.09,-0.889,0.67,-1.188,0.371,-1.744,-1.125,0.165,0.901,2.187,-0.449,0.891,-0.872,-1.083,-1.408,0.443,-1.044,-2.651,-0.364,0.664,-1.015,0.669,-0.246,-0.56,0.256,0.477,1.753,-0.533,-0.082,1.959,-1.072,-0.015,-0.342,-1.323,0.431,-0.382,-1.135,-0.298,-0.688,-0.819,-0.823,0.445],\"coloraxis\":\"coloraxis\",\"symbol\":\"circle\"},\"mode\":\"markers\",\"name\":\"\",\"orientation\":\"v\",\"showlegend\":false,\"x\":[0.247,0.329,0.213,0.202,0.434,0.195,0.252,0.224,0.334,0.266,0.218,0.19,0.326,0.187,0.194,0.282,0.206,0.286,0.268,0.175,0.27,0.427,0.508,0.296,0.274,0.265,0.348,0.225,0.483,0.18,0.202,0.269,0.248,0.338,0.47,0.276,0.181,0.271,0.402,0.224,0.185,0.299,0.303,0.185,0.258,0.205,0.314,0.233,0.191,0.389,0.269,0.213,0.273,0.262,0.324,0.307,0.373,0.258,0.179,0.257,0.198,0.307,0.2,0.358,0.26,0.255,0.277,0.206,0.17,0.197,0.138,0.196,0.183,0.295,0.336,0.396,0.265,0.16,0.203,0.296,0.284,0.212,0.178,0.281,0.251,0.491,0.348,0.285,0.269,0.316,0.251,0.326,0.423,0.164,0.267,0.302,0.257,0.275,0.157,0.239,0.699,0.231,0.18,0.277,0.256,0.191,0.273,0.184,0.326,0.221,0.299,0.17,0.166,0.199,0.21,0.212,0.347,0.291,0.19,0.266,0.214,0.185,0.733,0.302,0.236,0.243,0.26,0.225,0.431,0.219,0.285,0.243,0.281,0.369,0.377,0.179,0.274,0.233,0.269,0.33,0.33,0.233,0.223,0.306,0.175,0.179,0.185,0.315,0.365,0.519,0.372,0.224,0.279,0.205,0.176,0.268,0.265,0.206,0.355,0.26,0.286,0.212,0.576,0.312,0.471,0.242,0.205,0.372,0.209,0.244,0.267,0.202,0.459,0.195,0.282,0.182,0.24,0.403,0.288,0.34,0.309,0.208,0.348,0.21,0.255,0.195,0.217,0.224,0.24,0.382,0.391,0.28,0.285,0.237,0.241,0.233,0.517,0.462,0.22,0.16,0.225,0.285,0.322,0.195,0.173,0.196,0.23,0.324,0.603,0.313,0.311,0.226,0.319,0.186,0.228,0.262,0.384,0.333,0.397,0.204,0.216,0.325,0.23,0.193,0.223,0.19,0.18,0.275,0.266,0.175,0.222,0.28,0.162,0.28,0.22,0.161,0.185,0.289,0.211,0.452,0.438,0.226,0.394,0.31,0.208,0.279,0.306,0.244,0.246,0.214,0.283,0.222,0.215,0.308,0.203,0.244,0.267,0.303,0.172,0.239,0.222,0.142,0.16,0.641,0.317,0.144,0.241,0.356,0.145,0.177,0.381,0.112,0.193,0.201,0.189,0.279,0.261,0.189,0.207,0.192,0.198,0.275,0.165,0.193,0.238,0.37,0.299,0.296,0.18,0.235,0.326,0.16,0.207,0.245,0.264,0.127,0.33,0.204,0.203,0.159,0.212,0.299,0.42,0.308,0.34,0.215,0.362,0.25,0.158,0.281,0.195,0.159,0.264,0.375,0.317,0.499,0.194,0.426,0.368,0.235,0.309,0.259,0.179,0.339,0.409,0.261,0.369,0.489,0.254,0.269,0.242,0.306,0.367,0.186,0.233,0.185,0.319,0.285,0.215,0.242,0.338,0.337,0.507,0.222,0.286,0.287,0.315,0.169,0.335,0.369,0.25,0.261,0.409,0.299,0.198,0.195,0.284,0.397,0.606,0.403,0.217,0.248,0.187,0.241,0.182,0.135,0.188,0.285,0.139,0.325,0.271,0.295,0.261,0.237,0.165,0.31,0.278,0.201,0.339,0.31,0.243,0.172,0.264,0.219,0.298,0.202,0.234,0.282,0.386,0.331,0.325,0.355,0.214,0.245,0.339,0.285,0.291,0.277,0.349,0.275,0.221,0.157,0.195,0.151,0.243,0.262,0.293,0.214,0.455,0.544,0.337,0.24,0.188,0.351,0.225,0.276,0.179,0.247,0.221,0.183,0.273,0.402,0.341,0.387,0.169,0.338,0.331,0.335,0.228,0.181,0.285,0.216,0.216,0.209,0.293,0.202,0.322,0.463,0.259,0.26,0.159,0.213,0.2,0.358,0.245,0.271,0.287,0.207,0.227,0.546,0.31,0.236,0.3,0.237,0.247,0.267,0.333,0.216,0.266,0.28,0.226,0.245,0.236,0.385,0.413,0.158,0.431,0.179,0.341,0.228,0.196,0.175,0.206,0.258,0.245,0.218,0.213,0.275,0.285,0.489,0.373,0.186,0.244,0.294,0.279,0.146,0.2,0.126,0.221,0.341,0.286,0.234,0.223,0.298,0.189,0.258,0.269,0.236,0.16,0.203,0.427,0.705,0.246],\"xaxis\":\"x\",\"y\":[-0.47,-0.37,0.335,0.042,0.437,-0.228,0.356,0.205,0.555,0.083,-0.161,0.057,0.045,-0.178,-0.274,-0.745,0.125,-0.017,0.213,0.272,0.306,-0.558,0.354,-0.442,-0.142,-0.068,0.349,-0.381,0.537,0.099,0.038,0.017,-0.486,0.429,0.706,0.246,0.049,0.18,-0.092,-0.072,0.09,-0.077,-0.645,-0.074,0.35,0.032,0.538,-0.032,-0.25,0.081,0.03,0.127,-0.084,-0.286,-0.233,-0.226,-0.463,-0.255,0.027,-0.275,-0.219,0.156,-0.122,-0.356,-0.215,0.415,0.251,-0.183,-0.351,0.35,0.23,0.237,0.197,0.049,0.406,-0.26,-0.288,-0.477,0.223,0.396,0.151,-0.051,0.341,-0.183,-0.698,0.468,-0.005,0.425,0.01,0.081,0.456,-0.033,-0.647,0.192,-0.105,0.175,-0.107,0.05,-0.082,-0.115,-0.809,0.227,0.202,0.265,-0.034,-0.196,-0.122,-0.158,-0.036,-0.117,0.041,0.185,0.264,-0.339,0.487,-0.273,-0.262,0.471,0.196,-0.005,-0.06,0.171,-0.107,0.102,0.153,-0.295,-0.327,-0.066,0.015,-0.45,-0.065,0.013,-0.089,-0.258,-1.11,-0.237,0.219,-0.131,-0.312,0.155,-0.441,0.049,-0.151,0.125,-0.04,-0.164,-0.179,0.269,-0.393,-0.471,-0.206,-0.069,-0.087,0.177,-0.095,-0.268,0.149,-0.008,-0.893,-0.111,-0.222,0.157,-0.896,-0.016,-0.389,0.009,-0.055,0.224,-0.443,-0.037,0.499,-0.199,-1.063,-0.216,-0.163,-0.116,0.108,-0.095,-0.317,0.025,0.103,0.235,-0.273,0.046,0.514,-0.251,0.162,0.148,0.507,-0.356,-0.438,0.428,-0.943,-0.039,-0.018,-0.238,-0.057,0.265,0.177,-0.068,0.531,0.095,-0.295,-0.147,-0.275,-0.101,-0.251,-0.144,0.048,0.487,0.49,-0.182,0.086,0.115,-0.124,0.355,0.065,0.079,-0.472,-0.056,-0.043,0.039,-0.052,-0.1,0.146,-0.187,-0.095,0.111,-0.073,-0.215,-0.131,-0.091,-0.094,0.005,0.263,0.026,0.018,-0.122,-0.127,-0.743,-0.561,-0.507,0.285,0.426,0.035,-0.068,-0.298,-0.137,0.233,0.208,0.208,0.106,0.073,-0.401,0.2,0.006,-0.25,-0.254,-0.11,-0.194,0.114,-0.188,-0.118,-0.678,-0.44,-0.236,-0.275,0.149,-0.12,-0.171,0.359,-0.094,0.016,-0.413,0.136,-0.04,0.224,-0.083,-0.128,0.198,-0.174,0.65,-0.105,-0.133,0.034,0.437,-0.445,-0.237,-0.066,0.073,0.147,0.105,-0.279,0.269,0.142,0.0,0.093,0.232,0.007,0.133,-0.024,-0.145,1.133,-0.065,-0.41,-0.049,-0.7,0.258,0.187,-0.343,0.09,-0.088,0.152,-0.41,0.308,0.204,-0.081,-0.941,-0.0,-0.206,0.046,0.433,0.113,-0.306,-0.26,-0.47,0.276,0.141,-0.337,-0.054,-0.464,-0.495,0.259,-0.092,-0.48,-0.017,0.352,0.315,-0.35,0.217,-0.404,0.046,1.346,0.27,0.098,0.071,0.255,-0.397,0.365,-0.924,-0.11,-0.163,0.538,0.285,0.205,-0.005,-0.002,0.724,-0.617,-0.247,0.012,0.378,0.091,-0.562,-0.052,-0.001,-0.488,-0.273,0.049,0.16,0.395,0.547,0.228,-0.125,-0.165,-0.282,0.432,-0.001,-0.858,-0.005,0.051,-0.285,-0.037,-0.118,0.212,0.119,0.408,-0.026,-0.422,-0.107,-0.063,0.6,-0.102,0.219,-0.358,-0.05,-0.176,-0.026,-0.628,0.103,0.064,0.172,-0.088,0.252,-0.372,-0.288,-0.589,-0.194,-0.491,-1.168,-0.753,0.097,-0.26,0.084,0.116,0.433,-0.007,-0.161,0.008,-0.167,0.13,-0.012,-0.271,0.144,0.211,-0.009,-0.053,-0.111,0.074,-0.24,-0.35,0.333,0.369,0.045,-0.259,-0.011,0.04,-0.773,-0.26,-0.538,0.151,-0.23,-0.055,-0.613,0.211,-0.14,-0.139,-0.133,-0.027,0.923,-0.343,0.261,0.432,-0.113,0.25,0.337,-0.203,-0.163,-0.237,-0.316,0.057,-0.022,-0.21,0.258,-0.491,0.059,-0.752,-0.201,0.056,0.205,0.428,-0.079,0.184,-0.225,-0.266,-0.307,0.095,-0.287,-0.755,-0.178,0.248,-0.189,0.163,-0.072,-0.156,0.037,0.095,0.221,-0.118,-0.028,0.56,-0.251,-0.003,-0.102,-0.25,0.111,-0.103,-0.267,-0.048,-0.139,-0.35,-0.58,0.11],\"yaxis\":\"y\",\"type\":\"scatter\"}],                        {\"template\":{\"data\":{\"barpolar\":[{\"marker\":{\"line\":{\"color\":\"rgb(17,17,17)\",\"width\":0.5},\"pattern\":{\"fillmode\":\"overlay\",\"size\":10,\"solidity\":0.2}},\"type\":\"barpolar\"}],\"bar\":[{\"error_x\":{\"color\":\"#f2f5fa\"},\"error_y\":{\"color\":\"#f2f5fa\"},\"marker\":{\"line\":{\"color\":\"rgb(17,17,17)\",\"width\":0.5},\"pattern\":{\"fillmode\":\"overlay\",\"size\":10,\"solidity\":0.2}},\"type\":\"bar\"}],\"carpet\":[{\"aaxis\":{\"endlinecolor\":\"#A2B1C6\",\"gridcolor\":\"#506784\",\"linecolor\":\"#506784\",\"minorgridcolor\":\"#506784\",\"startlinecolor\":\"#A2B1C6\"},\"baxis\":{\"endlinecolor\":\"#A2B1C6\",\"gridcolor\":\"#506784\",\"linecolor\":\"#506784\",\"minorgridcolor\":\"#506784\",\"startlinecolor\":\"#A2B1C6\"},\"type\":\"carpet\"}],\"choropleth\":[{\"colorbar\":{\"outlinewidth\":0,\"ticks\":\"\"},\"type\":\"choropleth\"}],\"contourcarpet\":[{\"colorbar\":{\"outlinewidth\":0,\"ticks\":\"\"},\"type\":\"contourcarpet\"}],\"contour\":[{\"colorbar\":{\"outlinewidth\":0,\"ticks\":\"\"},\"colorscale\":[[0.0,\"#0d0887\"],[0.1111111111111111,\"#46039f\"],[0.2222222222222222,\"#7201a8\"],[0.3333333333333333,\"#9c179e\"],[0.4444444444444444,\"#bd3786\"],[0.5555555555555556,\"#d8576b\"],[0.6666666666666666,\"#ed7953\"],[0.7777777777777778,\"#fb9f3a\"],[0.8888888888888888,\"#fdca26\"],[1.0,\"#f0f921\"]],\"type\":\"contour\"}],\"heatmapgl\":[{\"colorbar\":{\"outlinewidth\":0,\"ticks\":\"\"},\"colorscale\":[[0.0,\"#0d0887\"],[0.1111111111111111,\"#46039f\"],[0.2222222222222222,\"#7201a8\"],[0.3333333333333333,\"#9c179e\"],[0.4444444444444444,\"#bd3786\"],[0.5555555555555556,\"#d8576b\"],[0.6666666666666666,\"#ed7953\"],[0.7777777777777778,\"#fb9f3a\"],[0.8888888888888888,\"#fdca26\"],[1.0,\"#f0f921\"]],\"type\":\"heatmapgl\"}],\"heatmap\":[{\"colorbar\":{\"outlinewidth\":0,\"ticks\":\"\"},\"colorscale\":[[0.0,\"#0d0887\"],[0.1111111111111111,\"#46039f\"],[0.2222222222222222,\"#7201a8\"],[0.3333333333333333,\"#9c179e\"],[0.4444444444444444,\"#bd3786\"],[0.5555555555555556,\"#d8576b\"],[0.6666666666666666,\"#ed7953\"],[0.7777777777777778,\"#fb9f3a\"],[0.8888888888888888,\"#fdca26\"],[1.0,\"#f0f921\"]],\"type\":\"heatmap\"}],\"histogram2dcontour\":[{\"colorbar\":{\"outlinewidth\":0,\"ticks\":\"\"},\"colorscale\":[[0.0,\"#0d0887\"],[0.1111111111111111,\"#46039f\"],[0.2222222222222222,\"#7201a8\"],[0.3333333333333333,\"#9c179e\"],[0.4444444444444444,\"#bd3786\"],[0.5555555555555556,\"#d8576b\"],[0.6666666666666666,\"#ed7953\"],[0.7777777777777778,\"#fb9f3a\"],[0.8888888888888888,\"#fdca26\"],[1.0,\"#f0f921\"]],\"type\":\"histogram2dcontour\"}],\"histogram2d\":[{\"colorbar\":{\"outlinewidth\":0,\"ticks\":\"\"},\"colorscale\":[[0.0,\"#0d0887\"],[0.1111111111111111,\"#46039f\"],[0.2222222222222222,\"#7201a8\"],[0.3333333333333333,\"#9c179e\"],[0.4444444444444444,\"#bd3786\"],[0.5555555555555556,\"#d8576b\"],[0.6666666666666666,\"#ed7953\"],[0.7777777777777778,\"#fb9f3a\"],[0.8888888888888888,\"#fdca26\"],[1.0,\"#f0f921\"]],\"type\":\"histogram2d\"}],\"histogram\":[{\"marker\":{\"pattern\":{\"fillmode\":\"overlay\",\"size\":10,\"solidity\":0.2}},\"type\":\"histogram\"}],\"mesh3d\":[{\"colorbar\":{\"outlinewidth\":0,\"ticks\":\"\"},\"type\":\"mesh3d\"}],\"parcoords\":[{\"line\":{\"colorbar\":{\"outlinewidth\":0,\"ticks\":\"\"}},\"type\":\"parcoords\"}],\"pie\":[{\"automargin\":true,\"type\":\"pie\"}],\"scatter3d\":[{\"line\":{\"colorbar\":{\"outlinewidth\":0,\"ticks\":\"\"}},\"marker\":{\"colorbar\":{\"outlinewidth\":0,\"ticks\":\"\"}},\"type\":\"scatter3d\"}],\"scattercarpet\":[{\"marker\":{\"colorbar\":{\"outlinewidth\":0,\"ticks\":\"\"}},\"type\":\"scattercarpet\"}],\"scattergeo\":[{\"marker\":{\"colorbar\":{\"outlinewidth\":0,\"ticks\":\"\"}},\"type\":\"scattergeo\"}],\"scattergl\":[{\"marker\":{\"line\":{\"color\":\"#283442\"}},\"type\":\"scattergl\"}],\"scattermapbox\":[{\"marker\":{\"colorbar\":{\"outlinewidth\":0,\"ticks\":\"\"}},\"type\":\"scattermapbox\"}],\"scatterpolargl\":[{\"marker\":{\"colorbar\":{\"outlinewidth\":0,\"ticks\":\"\"}},\"type\":\"scatterpolargl\"}],\"scatterpolar\":[{\"marker\":{\"colorbar\":{\"outlinewidth\":0,\"ticks\":\"\"}},\"type\":\"scatterpolar\"}],\"scatter\":[{\"marker\":{\"line\":{\"color\":\"#283442\"}},\"type\":\"scatter\"}],\"scatterternary\":[{\"marker\":{\"colorbar\":{\"outlinewidth\":0,\"ticks\":\"\"}},\"type\":\"scatterternary\"}],\"surface\":[{\"colorbar\":{\"outlinewidth\":0,\"ticks\":\"\"},\"colorscale\":[[0.0,\"#0d0887\"],[0.1111111111111111,\"#46039f\"],[0.2222222222222222,\"#7201a8\"],[0.3333333333333333,\"#9c179e\"],[0.4444444444444444,\"#bd3786\"],[0.5555555555555556,\"#d8576b\"],[0.6666666666666666,\"#ed7953\"],[0.7777777777777778,\"#fb9f3a\"],[0.8888888888888888,\"#fdca26\"],[1.0,\"#f0f921\"]],\"type\":\"surface\"}],\"table\":[{\"cells\":{\"fill\":{\"color\":\"#506784\"},\"line\":{\"color\":\"rgb(17,17,17)\"}},\"header\":{\"fill\":{\"color\":\"#2a3f5f\"},\"line\":{\"color\":\"rgb(17,17,17)\"}},\"type\":\"table\"}]},\"layout\":{\"annotationdefaults\":{\"arrowcolor\":\"#f2f5fa\",\"arrowhead\":0,\"arrowwidth\":1},\"autotypenumbers\":\"strict\",\"coloraxis\":{\"colorbar\":{\"outlinewidth\":0,\"ticks\":\"\"}},\"colorscale\":{\"diverging\":[[0,\"#8e0152\"],[0.1,\"#c51b7d\"],[0.2,\"#de77ae\"],[0.3,\"#f1b6da\"],[0.4,\"#fde0ef\"],[0.5,\"#f7f7f7\"],[0.6,\"#e6f5d0\"],[0.7,\"#b8e186\"],[0.8,\"#7fbc41\"],[0.9,\"#4d9221\"],[1,\"#276419\"]],\"sequential\":[[0.0,\"#0d0887\"],[0.1111111111111111,\"#46039f\"],[0.2222222222222222,\"#7201a8\"],[0.3333333333333333,\"#9c179e\"],[0.4444444444444444,\"#bd3786\"],[0.5555555555555556,\"#d8576b\"],[0.6666666666666666,\"#ed7953\"],[0.7777777777777778,\"#fb9f3a\"],[0.8888888888888888,\"#fdca26\"],[1.0,\"#f0f921\"]],\"sequentialminus\":[[0.0,\"#0d0887\"],[0.1111111111111111,\"#46039f\"],[0.2222222222222222,\"#7201a8\"],[0.3333333333333333,\"#9c179e\"],[0.4444444444444444,\"#bd3786\"],[0.5555555555555556,\"#d8576b\"],[0.6666666666666666,\"#ed7953\"],[0.7777777777777778,\"#fb9f3a\"],[0.8888888888888888,\"#fdca26\"],[1.0,\"#f0f921\"]]},\"colorway\":[\"#636efa\",\"#EF553B\",\"#00cc96\",\"#ab63fa\",\"#FFA15A\",\"#19d3f3\",\"#FF6692\",\"#B6E880\",\"#FF97FF\",\"#FECB52\"],\"font\":{\"color\":\"#f2f5fa\"},\"geo\":{\"bgcolor\":\"rgb(17,17,17)\",\"lakecolor\":\"rgb(17,17,17)\",\"landcolor\":\"rgb(17,17,17)\",\"showlakes\":true,\"showland\":true,\"subunitcolor\":\"#506784\"},\"hoverlabel\":{\"align\":\"left\"},\"hovermode\":\"closest\",\"mapbox\":{\"style\":\"dark\"},\"paper_bgcolor\":\"rgb(17,17,17)\",\"plot_bgcolor\":\"rgb(17,17,17)\",\"polar\":{\"angularaxis\":{\"gridcolor\":\"#506784\",\"linecolor\":\"#506784\",\"ticks\":\"\"},\"bgcolor\":\"rgb(17,17,17)\",\"radialaxis\":{\"gridcolor\":\"#506784\",\"linecolor\":\"#506784\",\"ticks\":\"\"}},\"scene\":{\"xaxis\":{\"backgroundcolor\":\"rgb(17,17,17)\",\"gridcolor\":\"#506784\",\"gridwidth\":2,\"linecolor\":\"#506784\",\"showbackground\":true,\"ticks\":\"\",\"zerolinecolor\":\"#C8D4E3\"},\"yaxis\":{\"backgroundcolor\":\"rgb(17,17,17)\",\"gridcolor\":\"#506784\",\"gridwidth\":2,\"linecolor\":\"#506784\",\"showbackground\":true,\"ticks\":\"\",\"zerolinecolor\":\"#C8D4E3\"},\"zaxis\":{\"backgroundcolor\":\"rgb(17,17,17)\",\"gridcolor\":\"#506784\",\"gridwidth\":2,\"linecolor\":\"#506784\",\"showbackground\":true,\"ticks\":\"\",\"zerolinecolor\":\"#C8D4E3\"}},\"shapedefaults\":{\"line\":{\"color\":\"#f2f5fa\"}},\"sliderdefaults\":{\"bgcolor\":\"#C8D4E3\",\"bordercolor\":\"rgb(17,17,17)\",\"borderwidth\":1,\"tickwidth\":0},\"ternary\":{\"aaxis\":{\"gridcolor\":\"#506784\",\"linecolor\":\"#506784\",\"ticks\":\"\"},\"baxis\":{\"gridcolor\":\"#506784\",\"linecolor\":\"#506784\",\"ticks\":\"\"},\"bgcolor\":\"rgb(17,17,17)\",\"caxis\":{\"gridcolor\":\"#506784\",\"linecolor\":\"#506784\",\"ticks\":\"\"}},\"title\":{\"x\":0.05},\"updatemenudefaults\":{\"bgcolor\":\"#506784\",\"borderwidth\":0},\"xaxis\":{\"automargin\":true,\"gridcolor\":\"#283442\",\"linecolor\":\"#506784\",\"ticks\":\"\",\"title\":{\"standoff\":15},\"zerolinecolor\":\"#283442\",\"zerolinewidth\":2},\"yaxis\":{\"automargin\":true,\"gridcolor\":\"#283442\",\"linecolor\":\"#506784\",\"ticks\":\"\",\"title\":{\"standoff\":15},\"zerolinecolor\":\"#283442\",\"zerolinewidth\":2}}},\"xaxis\":{\"anchor\":\"y\",\"domain\":[0.0,1.0],\"title\":{\"text\":\"Volatility\"}},\"yaxis\":{\"anchor\":\"x\",\"domain\":[0.0,1.0],\"title\":{\"text\":\"Return\"}},\"coloraxis\":{\"colorbar\":{\"title\":{\"text\":\"Ratio\"}},\"colorscale\":[[0.0,\"#0d0887\"],[0.1111111111111111,\"#46039f\"],[0.2222222222222222,\"#7201a8\"],[0.3333333333333333,\"#9c179e\"],[0.4444444444444444,\"#bd3786\"],[0.5555555555555556,\"#d8576b\"],[0.6666666666666666,\"#ed7953\"],[0.7777777777777778,\"#fb9f3a\"],[0.8888888888888888,\"#fdca26\"],[1.0,\"#f0f921\"]]},\"legend\":{\"tracegroupgap\":0},\"title\":{\"text\":\"S&P 500 stocks by Volatility\\u002fReturn\",\"x\":0.5},\"height\":500,\"width\":750},                        {\"responsive\": true}                    ).then(function(){\n",
              "                            \n",
              "var gd = document.getElementById('29b82003-ea6c-4e8d-9424-1d38f8fe9e3c');\n",
              "var x = new MutationObserver(function (mutations, observer) {{\n",
              "        var display = window.getComputedStyle(gd).display;\n",
              "        if (!display || display === 'none') {{\n",
              "            console.log([gd, 'removed!']);\n",
              "            Plotly.purge(gd);\n",
              "            observer.disconnect();\n",
              "        }}\n",
              "}});\n",
              "\n",
              "// Listen for the removal of the full notebook cells\n",
              "var notebookContainer = gd.closest('#notebook-container');\n",
              "if (notebookContainer) {{\n",
              "    x.observe(notebookContainer, {childList: true});\n",
              "}}\n",
              "\n",
              "// Listen for the clearing of the current output cell\n",
              "var outputEl = gd.closest('.output');\n",
              "if (outputEl) {{\n",
              "    x.observe(outputEl, {childList: true});\n",
              "}}\n",
              "\n",
              "                        })                };                            </script>        </div>\n",
              "</body>\n",
              "</html>"
            ]
          },
          "metadata": {}
        }
      ]
    },
    {
      "cell_type": "markdown",
      "source": [
        "# FIND NUMBER OF CLUSTERS WITH ELBOW-METHOD"
      ],
      "metadata": {
        "id": "eZ7SF3C7sC3S"
      }
    },
    {
      "cell_type": "code",
      "source": [
        "X = stock_data[['Return', 'Volatility']]\n",
        "inertia_list = []\n",
        "for k in range(1,16):\n",
        "    kmeans = KMeans(n_clusters=k, n_init='auto')\n",
        "    kmeans.fit(X)\n",
        "    inertia_list.append(kmeans.inertia_)\n",
        "\n",
        "px.line(inertia_list,\n",
        "        title='Elbow Curve',\n",
        "        width=750,\n",
        "        height=500,\n",
        "        labels={\n",
        "            \"index\":\"Number of Clusters\",\n",
        "            \"value\":\"Sum of Squared Error\"\n",
        "        },\n",
        "        template='plotly_dark'\n",
        "        ).update_layout(showlegend=False, title_x=0.5)"
      ],
      "metadata": {
        "colab": {
          "base_uri": "https://localhost:8080/",
          "height": 537
        },
        "id": "ob35_uiEbzLP",
        "outputId": "e1c01df2-0f7d-4ca3-bed1-49b8095a03e3"
      },
      "execution_count": 39,
      "outputs": [
        {
          "output_type": "display_data",
          "data": {
            "text/html": [
              "<html>\n",
              "<head><meta charset=\"utf-8\" /></head>\n",
              "<body>\n",
              "    <div>            <script src=\"https://cdnjs.cloudflare.com/ajax/libs/mathjax/2.7.5/MathJax.js?config=TeX-AMS-MML_SVG\"></script><script type=\"text/javascript\">if (window.MathJax && window.MathJax.Hub && window.MathJax.Hub.Config) {window.MathJax.Hub.Config({SVG: {font: \"STIX-Web\"}});}</script>                <script type=\"text/javascript\">window.PlotlyConfig = {MathJaxConfig: 'local'};</script>\n",
              "        <script charset=\"utf-8\" src=\"https://cdn.plot.ly/plotly-2.24.1.min.js\"></script>                <div id=\"5716bc05-e4a6-4903-8952-a16be053aaa9\" class=\"plotly-graph-div\" style=\"height:500px; width:750px;\"></div>            <script type=\"text/javascript\">                                    window.PLOTLYENV=window.PLOTLYENV || {};                                    if (document.getElementById(\"5716bc05-e4a6-4903-8952-a16be053aaa9\")) {                    Plotly.newPlot(                        \"5716bc05-e4a6-4903-8952-a16be053aaa9\",                        [{\"hovertemplate\":\"variable=0\\u003cbr\\u003eNumber of Clusters=%{x}\\u003cbr\\u003eSum of Squared Error=%{y}\\u003cextra\\u003e\\u003c\\u002fextra\\u003e\",\"legendgroup\":\"0\",\"line\":{\"color\":\"#636efa\",\"dash\":\"solid\"},\"marker\":{\"symbol\":\"circle\"},\"mode\":\"lines\",\"name\":\"0\",\"orientation\":\"v\",\"showlegend\":true,\"x\":[0,1,2,3,4,5,6,7,8,9,10,11,12,13,14],\"xaxis\":\"x\",\"y\":[54.107019610337986,25.919892529605686,15.441188003808856,10.957102923852807,9.026044904260907,7.184223934851619,5.813293879238664,5.134279687639509,4.685102776052654,4.1792139705258275,3.8438559355980164,3.5822441967127023,3.301376529664177,3.0209319540406003,2.8206446458628056],\"yaxis\":\"y\",\"type\":\"scatter\"}],                        {\"template\":{\"data\":{\"barpolar\":[{\"marker\":{\"line\":{\"color\":\"rgb(17,17,17)\",\"width\":0.5},\"pattern\":{\"fillmode\":\"overlay\",\"size\":10,\"solidity\":0.2}},\"type\":\"barpolar\"}],\"bar\":[{\"error_x\":{\"color\":\"#f2f5fa\"},\"error_y\":{\"color\":\"#f2f5fa\"},\"marker\":{\"line\":{\"color\":\"rgb(17,17,17)\",\"width\":0.5},\"pattern\":{\"fillmode\":\"overlay\",\"size\":10,\"solidity\":0.2}},\"type\":\"bar\"}],\"carpet\":[{\"aaxis\":{\"endlinecolor\":\"#A2B1C6\",\"gridcolor\":\"#506784\",\"linecolor\":\"#506784\",\"minorgridcolor\":\"#506784\",\"startlinecolor\":\"#A2B1C6\"},\"baxis\":{\"endlinecolor\":\"#A2B1C6\",\"gridcolor\":\"#506784\",\"linecolor\":\"#506784\",\"minorgridcolor\":\"#506784\",\"startlinecolor\":\"#A2B1C6\"},\"type\":\"carpet\"}],\"choropleth\":[{\"colorbar\":{\"outlinewidth\":0,\"ticks\":\"\"},\"type\":\"choropleth\"}],\"contourcarpet\":[{\"colorbar\":{\"outlinewidth\":0,\"ticks\":\"\"},\"type\":\"contourcarpet\"}],\"contour\":[{\"colorbar\":{\"outlinewidth\":0,\"ticks\":\"\"},\"colorscale\":[[0.0,\"#0d0887\"],[0.1111111111111111,\"#46039f\"],[0.2222222222222222,\"#7201a8\"],[0.3333333333333333,\"#9c179e\"],[0.4444444444444444,\"#bd3786\"],[0.5555555555555556,\"#d8576b\"],[0.6666666666666666,\"#ed7953\"],[0.7777777777777778,\"#fb9f3a\"],[0.8888888888888888,\"#fdca26\"],[1.0,\"#f0f921\"]],\"type\":\"contour\"}],\"heatmapgl\":[{\"colorbar\":{\"outlinewidth\":0,\"ticks\":\"\"},\"colorscale\":[[0.0,\"#0d0887\"],[0.1111111111111111,\"#46039f\"],[0.2222222222222222,\"#7201a8\"],[0.3333333333333333,\"#9c179e\"],[0.4444444444444444,\"#bd3786\"],[0.5555555555555556,\"#d8576b\"],[0.6666666666666666,\"#ed7953\"],[0.7777777777777778,\"#fb9f3a\"],[0.8888888888888888,\"#fdca26\"],[1.0,\"#f0f921\"]],\"type\":\"heatmapgl\"}],\"heatmap\":[{\"colorbar\":{\"outlinewidth\":0,\"ticks\":\"\"},\"colorscale\":[[0.0,\"#0d0887\"],[0.1111111111111111,\"#46039f\"],[0.2222222222222222,\"#7201a8\"],[0.3333333333333333,\"#9c179e\"],[0.4444444444444444,\"#bd3786\"],[0.5555555555555556,\"#d8576b\"],[0.6666666666666666,\"#ed7953\"],[0.7777777777777778,\"#fb9f3a\"],[0.8888888888888888,\"#fdca26\"],[1.0,\"#f0f921\"]],\"type\":\"heatmap\"}],\"histogram2dcontour\":[{\"colorbar\":{\"outlinewidth\":0,\"ticks\":\"\"},\"colorscale\":[[0.0,\"#0d0887\"],[0.1111111111111111,\"#46039f\"],[0.2222222222222222,\"#7201a8\"],[0.3333333333333333,\"#9c179e\"],[0.4444444444444444,\"#bd3786\"],[0.5555555555555556,\"#d8576b\"],[0.6666666666666666,\"#ed7953\"],[0.7777777777777778,\"#fb9f3a\"],[0.8888888888888888,\"#fdca26\"],[1.0,\"#f0f921\"]],\"type\":\"histogram2dcontour\"}],\"histogram2d\":[{\"colorbar\":{\"outlinewidth\":0,\"ticks\":\"\"},\"colorscale\":[[0.0,\"#0d0887\"],[0.1111111111111111,\"#46039f\"],[0.2222222222222222,\"#7201a8\"],[0.3333333333333333,\"#9c179e\"],[0.4444444444444444,\"#bd3786\"],[0.5555555555555556,\"#d8576b\"],[0.6666666666666666,\"#ed7953\"],[0.7777777777777778,\"#fb9f3a\"],[0.8888888888888888,\"#fdca26\"],[1.0,\"#f0f921\"]],\"type\":\"histogram2d\"}],\"histogram\":[{\"marker\":{\"pattern\":{\"fillmode\":\"overlay\",\"size\":10,\"solidity\":0.2}},\"type\":\"histogram\"}],\"mesh3d\":[{\"colorbar\":{\"outlinewidth\":0,\"ticks\":\"\"},\"type\":\"mesh3d\"}],\"parcoords\":[{\"line\":{\"colorbar\":{\"outlinewidth\":0,\"ticks\":\"\"}},\"type\":\"parcoords\"}],\"pie\":[{\"automargin\":true,\"type\":\"pie\"}],\"scatter3d\":[{\"line\":{\"colorbar\":{\"outlinewidth\":0,\"ticks\":\"\"}},\"marker\":{\"colorbar\":{\"outlinewidth\":0,\"ticks\":\"\"}},\"type\":\"scatter3d\"}],\"scattercarpet\":[{\"marker\":{\"colorbar\":{\"outlinewidth\":0,\"ticks\":\"\"}},\"type\":\"scattercarpet\"}],\"scattergeo\":[{\"marker\":{\"colorbar\":{\"outlinewidth\":0,\"ticks\":\"\"}},\"type\":\"scattergeo\"}],\"scattergl\":[{\"marker\":{\"line\":{\"color\":\"#283442\"}},\"type\":\"scattergl\"}],\"scattermapbox\":[{\"marker\":{\"colorbar\":{\"outlinewidth\":0,\"ticks\":\"\"}},\"type\":\"scattermapbox\"}],\"scatterpolargl\":[{\"marker\":{\"colorbar\":{\"outlinewidth\":0,\"ticks\":\"\"}},\"type\":\"scatterpolargl\"}],\"scatterpolar\":[{\"marker\":{\"colorbar\":{\"outlinewidth\":0,\"ticks\":\"\"}},\"type\":\"scatterpolar\"}],\"scatter\":[{\"marker\":{\"line\":{\"color\":\"#283442\"}},\"type\":\"scatter\"}],\"scatterternary\":[{\"marker\":{\"colorbar\":{\"outlinewidth\":0,\"ticks\":\"\"}},\"type\":\"scatterternary\"}],\"surface\":[{\"colorbar\":{\"outlinewidth\":0,\"ticks\":\"\"},\"colorscale\":[[0.0,\"#0d0887\"],[0.1111111111111111,\"#46039f\"],[0.2222222222222222,\"#7201a8\"],[0.3333333333333333,\"#9c179e\"],[0.4444444444444444,\"#bd3786\"],[0.5555555555555556,\"#d8576b\"],[0.6666666666666666,\"#ed7953\"],[0.7777777777777778,\"#fb9f3a\"],[0.8888888888888888,\"#fdca26\"],[1.0,\"#f0f921\"]],\"type\":\"surface\"}],\"table\":[{\"cells\":{\"fill\":{\"color\":\"#506784\"},\"line\":{\"color\":\"rgb(17,17,17)\"}},\"header\":{\"fill\":{\"color\":\"#2a3f5f\"},\"line\":{\"color\":\"rgb(17,17,17)\"}},\"type\":\"table\"}]},\"layout\":{\"annotationdefaults\":{\"arrowcolor\":\"#f2f5fa\",\"arrowhead\":0,\"arrowwidth\":1},\"autotypenumbers\":\"strict\",\"coloraxis\":{\"colorbar\":{\"outlinewidth\":0,\"ticks\":\"\"}},\"colorscale\":{\"diverging\":[[0,\"#8e0152\"],[0.1,\"#c51b7d\"],[0.2,\"#de77ae\"],[0.3,\"#f1b6da\"],[0.4,\"#fde0ef\"],[0.5,\"#f7f7f7\"],[0.6,\"#e6f5d0\"],[0.7,\"#b8e186\"],[0.8,\"#7fbc41\"],[0.9,\"#4d9221\"],[1,\"#276419\"]],\"sequential\":[[0.0,\"#0d0887\"],[0.1111111111111111,\"#46039f\"],[0.2222222222222222,\"#7201a8\"],[0.3333333333333333,\"#9c179e\"],[0.4444444444444444,\"#bd3786\"],[0.5555555555555556,\"#d8576b\"],[0.6666666666666666,\"#ed7953\"],[0.7777777777777778,\"#fb9f3a\"],[0.8888888888888888,\"#fdca26\"],[1.0,\"#f0f921\"]],\"sequentialminus\":[[0.0,\"#0d0887\"],[0.1111111111111111,\"#46039f\"],[0.2222222222222222,\"#7201a8\"],[0.3333333333333333,\"#9c179e\"],[0.4444444444444444,\"#bd3786\"],[0.5555555555555556,\"#d8576b\"],[0.6666666666666666,\"#ed7953\"],[0.7777777777777778,\"#fb9f3a\"],[0.8888888888888888,\"#fdca26\"],[1.0,\"#f0f921\"]]},\"colorway\":[\"#636efa\",\"#EF553B\",\"#00cc96\",\"#ab63fa\",\"#FFA15A\",\"#19d3f3\",\"#FF6692\",\"#B6E880\",\"#FF97FF\",\"#FECB52\"],\"font\":{\"color\":\"#f2f5fa\"},\"geo\":{\"bgcolor\":\"rgb(17,17,17)\",\"lakecolor\":\"rgb(17,17,17)\",\"landcolor\":\"rgb(17,17,17)\",\"showlakes\":true,\"showland\":true,\"subunitcolor\":\"#506784\"},\"hoverlabel\":{\"align\":\"left\"},\"hovermode\":\"closest\",\"mapbox\":{\"style\":\"dark\"},\"paper_bgcolor\":\"rgb(17,17,17)\",\"plot_bgcolor\":\"rgb(17,17,17)\",\"polar\":{\"angularaxis\":{\"gridcolor\":\"#506784\",\"linecolor\":\"#506784\",\"ticks\":\"\"},\"bgcolor\":\"rgb(17,17,17)\",\"radialaxis\":{\"gridcolor\":\"#506784\",\"linecolor\":\"#506784\",\"ticks\":\"\"}},\"scene\":{\"xaxis\":{\"backgroundcolor\":\"rgb(17,17,17)\",\"gridcolor\":\"#506784\",\"gridwidth\":2,\"linecolor\":\"#506784\",\"showbackground\":true,\"ticks\":\"\",\"zerolinecolor\":\"#C8D4E3\"},\"yaxis\":{\"backgroundcolor\":\"rgb(17,17,17)\",\"gridcolor\":\"#506784\",\"gridwidth\":2,\"linecolor\":\"#506784\",\"showbackground\":true,\"ticks\":\"\",\"zerolinecolor\":\"#C8D4E3\"},\"zaxis\":{\"backgroundcolor\":\"rgb(17,17,17)\",\"gridcolor\":\"#506784\",\"gridwidth\":2,\"linecolor\":\"#506784\",\"showbackground\":true,\"ticks\":\"\",\"zerolinecolor\":\"#C8D4E3\"}},\"shapedefaults\":{\"line\":{\"color\":\"#f2f5fa\"}},\"sliderdefaults\":{\"bgcolor\":\"#C8D4E3\",\"bordercolor\":\"rgb(17,17,17)\",\"borderwidth\":1,\"tickwidth\":0},\"ternary\":{\"aaxis\":{\"gridcolor\":\"#506784\",\"linecolor\":\"#506784\",\"ticks\":\"\"},\"baxis\":{\"gridcolor\":\"#506784\",\"linecolor\":\"#506784\",\"ticks\":\"\"},\"bgcolor\":\"rgb(17,17,17)\",\"caxis\":{\"gridcolor\":\"#506784\",\"linecolor\":\"#506784\",\"ticks\":\"\"}},\"title\":{\"x\":0.05},\"updatemenudefaults\":{\"bgcolor\":\"#506784\",\"borderwidth\":0},\"xaxis\":{\"automargin\":true,\"gridcolor\":\"#283442\",\"linecolor\":\"#506784\",\"ticks\":\"\",\"title\":{\"standoff\":15},\"zerolinecolor\":\"#283442\",\"zerolinewidth\":2},\"yaxis\":{\"automargin\":true,\"gridcolor\":\"#283442\",\"linecolor\":\"#506784\",\"ticks\":\"\",\"title\":{\"standoff\":15},\"zerolinecolor\":\"#283442\",\"zerolinewidth\":2}}},\"xaxis\":{\"anchor\":\"y\",\"domain\":[0.0,1.0],\"title\":{\"text\":\"Number of Clusters\"}},\"yaxis\":{\"anchor\":\"x\",\"domain\":[0.0,1.0],\"title\":{\"text\":\"Sum of Squared Error\"}},\"legend\":{\"title\":{\"text\":\"variable\"},\"tracegroupgap\":0},\"title\":{\"text\":\"Elbow Curve\",\"x\":0.5},\"height\":500,\"width\":750,\"showlegend\":false},                        {\"responsive\": true}                    ).then(function(){\n",
              "                            \n",
              "var gd = document.getElementById('5716bc05-e4a6-4903-8952-a16be053aaa9');\n",
              "var x = new MutationObserver(function (mutations, observer) {{\n",
              "        var display = window.getComputedStyle(gd).display;\n",
              "        if (!display || display === 'none') {{\n",
              "            console.log([gd, 'removed!']);\n",
              "            Plotly.purge(gd);\n",
              "            observer.disconnect();\n",
              "        }}\n",
              "}});\n",
              "\n",
              "// Listen for the removal of the full notebook cells\n",
              "var notebookContainer = gd.closest('#notebook-container');\n",
              "if (notebookContainer) {{\n",
              "    x.observe(notebookContainer, {childList: true});\n",
              "}}\n",
              "\n",
              "// Listen for the clearing of the current output cell\n",
              "var outputEl = gd.closest('.output');\n",
              "if (outputEl) {{\n",
              "    x.observe(outputEl, {childList: true});\n",
              "}}\n",
              "\n",
              "                        })                };                            </script>        </div>\n",
              "</body>\n",
              "</html>"
            ]
          },
          "metadata": {}
        }
      ]
    },
    {
      "cell_type": "markdown",
      "source": [
        "# KMEAN MODEL FIT"
      ],
      "metadata": {
        "id": "Nc2tveCasQuD"
      }
    },
    {
      "cell_type": "code",
      "source": [
        "kmeans = KMeans(n_clusters=4, n_init='auto').fit(X)\n",
        "labels = kmeans.labels_\n",
        "stock_data['Cluster Label'] = labels"
      ],
      "metadata": {
        "id": "FAdNLr2wm5Zu"
      },
      "execution_count": 43,
      "outputs": []
    },
    {
      "cell_type": "markdown",
      "source": [
        "# PLOT STOCKS BY CLUSTERS"
      ],
      "metadata": {
        "id": "kiMdLrArsWw8"
      }
    },
    {
      "cell_type": "code",
      "source": [
        "px.scatter(X,\n",
        "           x='Volatility',\n",
        "           y='Return',\n",
        "           color=labels,\n",
        "           title='KMeans Clusters',\n",
        "           hover_name=stock_data['Symbol'],\n",
        "           width=750,\n",
        "           height=500,\n",
        "           template='plotly_dark'\n",
        "           ).update_layout(title_x=0.5)"
      ],
      "metadata": {
        "colab": {
          "base_uri": "https://localhost:8080/",
          "height": 537
        },
        "id": "MRfGjIJankn-",
        "outputId": "ef513293-80ec-46d8-e6d3-c58046e9cf34"
      },
      "execution_count": 44,
      "outputs": [
        {
          "output_type": "display_data",
          "data": {
            "text/html": [
              "<html>\n",
              "<head><meta charset=\"utf-8\" /></head>\n",
              "<body>\n",
              "    <div>            <script src=\"https://cdnjs.cloudflare.com/ajax/libs/mathjax/2.7.5/MathJax.js?config=TeX-AMS-MML_SVG\"></script><script type=\"text/javascript\">if (window.MathJax && window.MathJax.Hub && window.MathJax.Hub.Config) {window.MathJax.Hub.Config({SVG: {font: \"STIX-Web\"}});}</script>                <script type=\"text/javascript\">window.PlotlyConfig = {MathJaxConfig: 'local'};</script>\n",
              "        <script charset=\"utf-8\" src=\"https://cdn.plot.ly/plotly-2.24.1.min.js\"></script>                <div id=\"503f28a0-9c0a-43d4-8c51-0ecc326830df\" class=\"plotly-graph-div\" style=\"height:500px; width:750px;\"></div>            <script type=\"text/javascript\">                                    window.PLOTLYENV=window.PLOTLYENV || {};                                    if (document.getElementById(\"503f28a0-9c0a-43d4-8c51-0ecc326830df\")) {                    Plotly.newPlot(                        \"503f28a0-9c0a-43d4-8c51-0ecc326830df\",                        [{\"hovertemplate\":\"\\u003cb\\u003e%{hovertext}\\u003c\\u002fb\\u003e\\u003cbr\\u003e\\u003cbr\\u003eVolatility=%{x}\\u003cbr\\u003eReturn=%{y}\\u003cbr\\u003ecolor=%{marker.color}\\u003cextra\\u003e\\u003c\\u002fextra\\u003e\",\"hovertext\":[\"MMM\",\"AOS\",\"ABT\",\"ABBV\",\"ACN\",\"ATVI\",\"ADM\",\"ADBE\",\"ADP\",\"AES\",\"AFL\",\"A\",\"ABNB\",\"APD\",\"AKAM\",\"ALK\",\"ALB\",\"ARE\",\"ALGN\",\"ALLE\",\"LNT\",\"ALL\",\"GOOGL\",\"GOOG\",\"MO\",\"AMZN\",\"AMCR\",\"AMD\",\"AEE\",\"AAL\",\"AEP\",\"AXP\",\"AIG\",\"AMT\",\"AWK\",\"AMP\",\"AME\",\"AMGN\",\"APH\",\"ADI\",\"ANSS\",\"AON\",\"APA\",\"AAPL\",\"AMAT\",\"APTV\",\"ACGL\",\"ANET\",\"AJG\",\"AIZ\",\"T\",\"ATO\",\"ADSK\",\"AZO\",\"AVB\",\"AVY\",\"AXON\",\"BKR\",\"BALL\",\"BAC\",\"BBWI\",\"BAX\",\"BDX\",\"WRB\",\"BRK-B\",\"BBY\",\"BIO\",\"TECH\",\"BIIB\",\"BLK\",\"BX\",\"BK\",\"BA\",\"BKNG\",\"BWA\",\"BXP\",\"BSX\",\"BMY\",\"AVGO\",\"BR\",\"BRO\",\"BF-B\",\"BG\",\"CHRW\",\"CDNS\",\"CZR\",\"CPT\",\"CPB\",\"COF\",\"CAH\",\"KMX\",\"CCL\",\"CARR\",\"CTLT\",\"CAT\",\"CBOE\",\"CBRE\",\"CDW\",\"CE\",\"COR\",\"CNC\",\"CNP\",\"CDAY\",\"CF\",\"CRL\",\"SCHW\",\"CHTR\",\"CVX\",\"CMG\",\"CB\",\"CHD\",\"CI\",\"CINF\",\"CTAS\",\"CSCO\",\"C\",\"CFG\",\"CLX\",\"CME\",\"CMS\",\"KO\",\"CTSH\",\"CL\",\"CMCSA\",\"CMA\",\"CAG\",\"COP\",\"ED\",\"STZ\",\"CEG\",\"COO\",\"CPRT\",\"GLW\",\"CTVA\",\"CSGP\",\"COST\",\"CTRA\",\"CCI\",\"CSX\",\"CMI\",\"CVS\",\"DHI\",\"DHR\",\"DRI\",\"DVA\",\"DE\",\"DAL\",\"XRAY\",\"DVN\",\"DXCM\",\"FANG\",\"DLR\",\"DFS\",\"DIS\",\"DG\",\"DLTR\",\"D\",\"DPZ\",\"DOV\",\"DOW\",\"DTE\",\"DUK\",\"DD\",\"DXC\",\"EMN\",\"ETN\",\"EBAY\",\"ECL\",\"EIX\",\"EW\",\"EA\",\"ELV\",\"LLY\",\"EMR\",\"ENPH\",\"ETR\",\"EOG\",\"EPAM\",\"EQT\",\"EFX\",\"EQIX\",\"EQR\",\"ESS\",\"EL\",\"ETSY\",\"EG\",\"EVRG\",\"ES\",\"EXC\",\"EXPE\",\"EXPD\",\"EXR\",\"XOM\",\"FFIV\",\"FDS\",\"FICO\",\"FAST\",\"FRT\",\"FDX\",\"FITB\",\"FSLR\",\"FE\",\"FIS\",\"FI\",\"FLT\",\"FMC\",\"F\",\"FTNT\",\"FTV\",\"FOXA\",\"FOX\",\"BEN\",\"FCX\",\"GRMN\",\"IT\",\"GEHC\",\"GEN\",\"GNRC\",\"GD\",\"GE\",\"GIS\",\"GM\",\"GPC\",\"GILD\",\"GL\",\"GPN\",\"GS\",\"HAL\",\"HIG\",\"HAS\",\"HCA\",\"PEAK\",\"HSIC\",\"HSY\",\"HES\",\"HPE\",\"HLT\",\"HOLX\",\"HD\",\"HON\",\"HRL\",\"HST\",\"HWM\",\"HPQ\",\"HUM\",\"HBAN\",\"HII\",\"IBM\",\"IEX\",\"IDXX\",\"ITW\",\"ILMN\",\"INCY\",\"IR\",\"PODD\",\"INTC\",\"ICE\",\"IFF\",\"IP\",\"IPG\",\"INTU\",\"ISRG\",\"IVZ\",\"INVH\",\"IQV\",\"IRM\",\"JBHT\",\"JKHY\",\"J\",\"JNJ\",\"JCI\",\"JPM\",\"JNPR\",\"K\",\"KVUE\",\"KDP\",\"KEY\",\"KEYS\",\"KMB\",\"KIM\",\"KMI\",\"KLAC\",\"KHC\",\"KR\",\"LHX\",\"LH\",\"LRCX\",\"LW\",\"LVS\",\"LDOS\",\"LEN\",\"LIN\",\"LYV\",\"LKQ\",\"LMT\",\"L\",\"LOW\",\"LYB\",\"MTB\",\"MRO\",\"MPC\",\"MKTX\",\"MAR\",\"MMC\",\"MLM\",\"MAS\",\"MA\",\"MTCH\",\"MKC\",\"MCD\",\"MCK\",\"MDT\",\"MRK\",\"META\",\"MET\",\"MTD\",\"MGM\",\"MCHP\",\"MU\",\"MSFT\",\"MAA\",\"MRNA\",\"MHK\",\"MOH\",\"TAP\",\"MDLZ\",\"MPWR\",\"MNST\",\"MCO\",\"MS\",\"MOS\",\"MSI\",\"MSCI\",\"NDAQ\",\"NTAP\",\"NFLX\",\"NEM\",\"NWSA\",\"NWS\",\"NEE\",\"NKE\",\"NI\",\"NDSN\",\"NSC\",\"NTRS\",\"NOC\",\"NCLH\",\"NRG\",\"NUE\",\"NVDA\",\"NVR\",\"NXPI\",\"ORLY\",\"OXY\",\"ODFL\",\"OMC\",\"ON\",\"OKE\",\"ORCL\",\"OGN\",\"OTIS\",\"PCAR\",\"PKG\",\"PANW\",\"PARA\",\"PH\",\"PAYX\",\"PAYC\",\"PYPL\",\"PNR\",\"PEP\",\"PFE\",\"PCG\",\"PM\",\"PSX\",\"PNW\",\"PXD\",\"PNC\",\"POOL\",\"PPG\",\"PPL\",\"PFG\",\"PG\",\"PGR\",\"PLD\",\"PRU\",\"PEG\",\"PTC\",\"PSA\",\"PHM\",\"QRVO\",\"PWR\",\"QCOM\",\"DGX\",\"RL\",\"RJF\",\"RTX\",\"O\",\"REG\",\"REGN\",\"RF\",\"RSG\",\"RMD\",\"RVTY\",\"RHI\",\"ROK\",\"ROL\",\"ROP\",\"ROST\",\"RCL\",\"SPGI\",\"CRM\",\"SBAC\",\"SLB\",\"STX\",\"SEE\",\"SRE\",\"NOW\",\"SHW\",\"SPG\",\"SWKS\",\"SJM\",\"SNA\",\"SEDG\",\"SO\",\"LUV\",\"SWK\",\"SBUX\",\"STT\",\"STLD\",\"STE\",\"SYK\",\"SYF\",\"SNPS\",\"SYY\",\"TMUS\",\"TROW\",\"TTWO\",\"TPR\",\"TRGP\",\"TGT\",\"TEL\",\"TDY\",\"TFX\",\"TER\",\"TSLA\",\"TXN\",\"TXT\",\"TMO\",\"TJX\",\"TSCO\",\"TT\",\"TDG\",\"TRV\",\"TRMB\",\"TFC\",\"TYL\",\"TSN\",\"USB\",\"UDR\",\"ULTA\",\"UNP\",\"UAL\",\"UPS\",\"URI\",\"UNH\",\"UHS\",\"VLO\",\"VTR\",\"VRSN\",\"VRSK\",\"VZ\",\"VRTX\",\"VFC\",\"VTRS\",\"VICI\",\"V\",\"VMC\",\"WAB\",\"WBA\",\"WMT\",\"WBD\",\"WM\",\"WAT\",\"WEC\",\"WFC\",\"WELL\",\"WST\",\"WDC\",\"WRK\",\"WY\",\"WHR\",\"WMB\",\"WTW\",\"GWW\",\"WYNN\",\"XEL\",\"XYL\",\"YUM\",\"ZBRA\",\"ZBH\",\"ZION\",\"ZTS\"],\"legendgroup\":\"\",\"marker\":{\"color\":[0,0,1,3,1,0,1,1,1,3,0,3,3,0,0,2,3,3,1,1,1,2,1,0,3,3,1,0,1,3,3,3,0,1,1,1,3,1,3,3,3,3,2,3,1,3,1,3,0,3,3,3,3,0,0,0,0,0,3,0,0,3,3,0,0,1,1,0,0,1,1,1,1,3,1,0,0,0,1,1,3,3,1,0,2,1,3,1,3,3,1,3,2,1,3,3,3,3,3,3,2,1,1,1,3,0,3,0,3,3,3,3,1,0,1,0,0,1,1,3,3,3,3,3,3,0,0,3,3,0,3,3,3,0,2,0,1,3,0,3,0,3,0,3,3,0,0,1,0,0,0,3,3,3,3,0,3,3,2,3,0,3,2,3,0,3,3,1,0,3,1,0,2,0,0,3,3,3,0,3,3,1,0,3,1,0,3,3,1,0,0,1,2,3,3,0,3,1,3,3,1,3,0,3,0,3,0,3,3,1,1,0,3,3,3,1,3,3,0,3,3,3,3,3,3,0,3,3,3,0,3,3,3,3,1,3,3,3,3,2,2,0,1,1,3,3,0,3,1,1,1,3,3,0,1,3,0,0,3,0,3,0,3,2,0,0,0,3,3,0,1,3,3,0,3,3,1,3,3,1,0,1,3,3,3,1,0,0,3,3,3,3,0,1,3,3,3,1,3,3,3,3,1,3,0,3,2,1,3,0,3,3,3,0,1,1,3,2,3,0,3,1,3,0,0,0,1,3,0,3,0,0,1,3,0,3,1,1,0,1,0,3,1,1,3,3,1,0,1,2,3,0,1,1,1,3,3,1,2,0,3,1,3,0,3,3,0,0,3,3,1,1,1,3,0,0,1,3,2,3,3,0,3,3,1,3,1,3,0,3,3,1,3,1,0,3,0,3,2,3,3,3,3,1,0,0,2,0,0,2,2,3,0,3,3,1,3,0,3,0,3,3,0,3,1,3,3,3,3,0,0,1,1,3,0,3,3,2,0,0,3,0,3,2,1,3,3,3,3,1,0,1,1,3,1,1,0,0,0,0,3,3,0,1,0,3,2,0,3,1,1,3,3,0,0,0,3,0,2,0,1,0,3,3,0,3,3,1,3,3,1,0,3,3,0,3,3,0,3,3,0,2,3],\"coloraxis\":\"coloraxis\",\"symbol\":\"circle\"},\"mode\":\"markers\",\"name\":\"\",\"orientation\":\"v\",\"showlegend\":false,\"x\":[0.247,0.329,0.213,0.202,0.434,0.195,0.252,0.224,0.334,0.266,0.218,0.19,0.326,0.187,0.194,0.282,0.206,0.286,0.268,0.175,0.27,0.427,0.508,0.296,0.274,0.265,0.348,0.225,0.483,0.18,0.202,0.269,0.248,0.338,0.47,0.276,0.181,0.271,0.402,0.224,0.185,0.299,0.303,0.185,0.258,0.205,0.314,0.233,0.191,0.389,0.269,0.213,0.273,0.262,0.324,0.307,0.373,0.258,0.179,0.257,0.198,0.307,0.2,0.358,0.26,0.255,0.277,0.206,0.17,0.197,0.138,0.196,0.183,0.295,0.336,0.396,0.265,0.16,0.203,0.296,0.284,0.212,0.178,0.281,0.251,0.491,0.348,0.285,0.269,0.316,0.251,0.326,0.423,0.164,0.267,0.302,0.257,0.275,0.157,0.239,0.699,0.231,0.18,0.277,0.256,0.191,0.273,0.184,0.326,0.221,0.299,0.17,0.166,0.199,0.21,0.212,0.347,0.291,0.19,0.266,0.214,0.185,0.733,0.302,0.236,0.243,0.26,0.225,0.431,0.219,0.285,0.243,0.281,0.369,0.377,0.179,0.274,0.233,0.269,0.33,0.33,0.233,0.223,0.306,0.175,0.179,0.185,0.315,0.365,0.519,0.372,0.224,0.279,0.205,0.176,0.268,0.265,0.206,0.355,0.26,0.286,0.212,0.576,0.312,0.471,0.242,0.205,0.372,0.209,0.244,0.267,0.202,0.459,0.195,0.282,0.182,0.24,0.403,0.288,0.34,0.309,0.208,0.348,0.21,0.255,0.195,0.217,0.224,0.24,0.382,0.391,0.28,0.285,0.237,0.241,0.233,0.517,0.462,0.22,0.16,0.225,0.285,0.322,0.195,0.173,0.196,0.23,0.324,0.603,0.313,0.311,0.226,0.319,0.186,0.228,0.262,0.384,0.333,0.397,0.204,0.216,0.325,0.23,0.193,0.223,0.19,0.18,0.275,0.266,0.175,0.222,0.28,0.162,0.28,0.22,0.161,0.185,0.289,0.211,0.452,0.438,0.226,0.394,0.31,0.208,0.279,0.306,0.244,0.246,0.214,0.283,0.222,0.215,0.308,0.203,0.244,0.267,0.303,0.172,0.239,0.222,0.142,0.16,0.641,0.317,0.144,0.241,0.356,0.145,0.177,0.381,0.112,0.193,0.201,0.189,0.279,0.261,0.189,0.207,0.192,0.198,0.275,0.165,0.193,0.238,0.37,0.299,0.296,0.18,0.235,0.326,0.16,0.207,0.245,0.264,0.127,0.33,0.204,0.203,0.159,0.212,0.299,0.42,0.308,0.34,0.215,0.362,0.25,0.158,0.281,0.195,0.159,0.264,0.375,0.317,0.499,0.194,0.426,0.368,0.235,0.309,0.259,0.179,0.339,0.409,0.261,0.369,0.489,0.254,0.269,0.242,0.306,0.367,0.186,0.233,0.185,0.319,0.285,0.215,0.242,0.338,0.337,0.507,0.222,0.286,0.287,0.315,0.169,0.335,0.369,0.25,0.261,0.409,0.299,0.198,0.195,0.284,0.397,0.606,0.403,0.217,0.248,0.187,0.241,0.182,0.135,0.188,0.285,0.139,0.325,0.271,0.295,0.261,0.237,0.165,0.31,0.278,0.201,0.339,0.31,0.243,0.172,0.264,0.219,0.298,0.202,0.234,0.282,0.386,0.331,0.325,0.355,0.214,0.245,0.339,0.285,0.291,0.277,0.349,0.275,0.221,0.157,0.195,0.151,0.243,0.262,0.293,0.214,0.455,0.544,0.337,0.24,0.188,0.351,0.225,0.276,0.179,0.247,0.221,0.183,0.273,0.402,0.341,0.387,0.169,0.338,0.331,0.335,0.228,0.181,0.285,0.216,0.216,0.209,0.293,0.202,0.322,0.463,0.259,0.26,0.159,0.213,0.2,0.358,0.245,0.271,0.287,0.207,0.227,0.546,0.31,0.236,0.3,0.237,0.247,0.267,0.333,0.216,0.266,0.28,0.226,0.245,0.236,0.385,0.413,0.158,0.431,0.179,0.341,0.228,0.196,0.175,0.206,0.258,0.245,0.218,0.213,0.275,0.285,0.489,0.373,0.186,0.244,0.294,0.279,0.146,0.2,0.126,0.221,0.341,0.286,0.234,0.223,0.298,0.189,0.258,0.269,0.236,0.16,0.203,0.427,0.705,0.246],\"xaxis\":\"x\",\"y\":[-0.47,-0.37,0.335,0.042,0.437,-0.228,0.356,0.205,0.555,0.083,-0.161,0.057,0.045,-0.178,-0.274,-0.745,0.125,-0.017,0.213,0.272,0.306,-0.558,0.354,-0.442,-0.142,-0.068,0.349,-0.381,0.537,0.099,0.038,0.017,-0.486,0.429,0.706,0.246,0.049,0.18,-0.092,-0.072,0.09,-0.077,-0.645,-0.074,0.35,0.032,0.538,-0.032,-0.25,0.081,0.03,0.127,-0.084,-0.286,-0.233,-0.226,-0.463,-0.255,0.027,-0.275,-0.219,0.156,-0.122,-0.356,-0.215,0.415,0.251,-0.183,-0.351,0.35,0.23,0.237,0.197,0.049,0.406,-0.26,-0.288,-0.477,0.223,0.396,0.151,-0.051,0.341,-0.183,-0.698,0.468,-0.005,0.425,0.01,0.081,0.456,-0.033,-0.647,0.192,-0.105,0.175,-0.107,0.05,-0.082,-0.115,-0.809,0.227,0.202,0.265,-0.034,-0.196,-0.122,-0.158,-0.036,-0.117,0.041,0.185,0.264,-0.339,0.487,-0.273,-0.262,0.471,0.196,-0.005,-0.06,0.171,-0.107,0.102,0.153,-0.295,-0.327,-0.066,0.015,-0.45,-0.065,0.013,-0.089,-0.258,-1.11,-0.237,0.219,-0.131,-0.312,0.155,-0.441,0.049,-0.151,0.125,-0.04,-0.164,-0.179,0.269,-0.393,-0.471,-0.206,-0.069,-0.087,0.177,-0.095,-0.268,0.149,-0.008,-0.893,-0.111,-0.222,0.157,-0.896,-0.016,-0.389,0.009,-0.055,0.224,-0.443,-0.037,0.499,-0.199,-1.063,-0.216,-0.163,-0.116,0.108,-0.095,-0.317,0.025,0.103,0.235,-0.273,0.046,0.514,-0.251,0.162,0.148,0.507,-0.356,-0.438,0.428,-0.943,-0.039,-0.018,-0.238,-0.057,0.265,0.177,-0.068,0.531,0.095,-0.295,-0.147,-0.275,-0.101,-0.251,-0.144,0.048,0.487,0.49,-0.182,0.086,0.115,-0.124,0.355,0.065,0.079,-0.472,-0.056,-0.043,0.039,-0.052,-0.1,0.146,-0.187,-0.095,0.111,-0.073,-0.215,-0.131,-0.091,-0.094,0.005,0.263,0.026,0.018,-0.122,-0.127,-0.743,-0.561,-0.507,0.285,0.426,0.035,-0.068,-0.298,-0.137,0.233,0.208,0.208,0.106,0.073,-0.401,0.2,0.006,-0.25,-0.254,-0.11,-0.194,0.114,-0.188,-0.118,-0.678,-0.44,-0.236,-0.275,0.149,-0.12,-0.171,0.359,-0.094,0.016,-0.413,0.136,-0.04,0.224,-0.083,-0.128,0.198,-0.174,0.65,-0.105,-0.133,0.034,0.437,-0.445,-0.237,-0.066,0.073,0.147,0.105,-0.279,0.269,0.142,0.0,0.093,0.232,0.007,0.133,-0.024,-0.145,1.133,-0.065,-0.41,-0.049,-0.7,0.258,0.187,-0.343,0.09,-0.088,0.152,-0.41,0.308,0.204,-0.081,-0.941,-0.0,-0.206,0.046,0.433,0.113,-0.306,-0.26,-0.47,0.276,0.141,-0.337,-0.054,-0.464,-0.495,0.259,-0.092,-0.48,-0.017,0.352,0.315,-0.35,0.217,-0.404,0.046,1.346,0.27,0.098,0.071,0.255,-0.397,0.365,-0.924,-0.11,-0.163,0.538,0.285,0.205,-0.005,-0.002,0.724,-0.617,-0.247,0.012,0.378,0.091,-0.562,-0.052,-0.001,-0.488,-0.273,0.049,0.16,0.395,0.547,0.228,-0.125,-0.165,-0.282,0.432,-0.001,-0.858,-0.005,0.051,-0.285,-0.037,-0.118,0.212,0.119,0.408,-0.026,-0.422,-0.107,-0.063,0.6,-0.102,0.219,-0.358,-0.05,-0.176,-0.026,-0.628,0.103,0.064,0.172,-0.088,0.252,-0.372,-0.288,-0.589,-0.194,-0.491,-1.168,-0.753,0.097,-0.26,0.084,0.116,0.433,-0.007,-0.161,0.008,-0.167,0.13,-0.012,-0.271,0.144,0.211,-0.009,-0.053,-0.111,0.074,-0.24,-0.35,0.333,0.369,0.045,-0.259,-0.011,0.04,-0.773,-0.26,-0.538,0.151,-0.23,-0.055,-0.613,0.211,-0.14,-0.139,-0.133,-0.027,0.923,-0.343,0.261,0.432,-0.113,0.25,0.337,-0.203,-0.163,-0.237,-0.316,0.057,-0.022,-0.21,0.258,-0.491,0.059,-0.752,-0.201,0.056,0.205,0.428,-0.079,0.184,-0.225,-0.266,-0.307,0.095,-0.287,-0.755,-0.178,0.248,-0.189,0.163,-0.072,-0.156,0.037,0.095,0.221,-0.118,-0.028,0.56,-0.251,-0.003,-0.102,-0.25,0.111,-0.103,-0.267,-0.048,-0.139,-0.35,-0.58,0.11],\"yaxis\":\"y\",\"type\":\"scatter\"}],                        {\"template\":{\"data\":{\"barpolar\":[{\"marker\":{\"line\":{\"color\":\"rgb(17,17,17)\",\"width\":0.5},\"pattern\":{\"fillmode\":\"overlay\",\"size\":10,\"solidity\":0.2}},\"type\":\"barpolar\"}],\"bar\":[{\"error_x\":{\"color\":\"#f2f5fa\"},\"error_y\":{\"color\":\"#f2f5fa\"},\"marker\":{\"line\":{\"color\":\"rgb(17,17,17)\",\"width\":0.5},\"pattern\":{\"fillmode\":\"overlay\",\"size\":10,\"solidity\":0.2}},\"type\":\"bar\"}],\"carpet\":[{\"aaxis\":{\"endlinecolor\":\"#A2B1C6\",\"gridcolor\":\"#506784\",\"linecolor\":\"#506784\",\"minorgridcolor\":\"#506784\",\"startlinecolor\":\"#A2B1C6\"},\"baxis\":{\"endlinecolor\":\"#A2B1C6\",\"gridcolor\":\"#506784\",\"linecolor\":\"#506784\",\"minorgridcolor\":\"#506784\",\"startlinecolor\":\"#A2B1C6\"},\"type\":\"carpet\"}],\"choropleth\":[{\"colorbar\":{\"outlinewidth\":0,\"ticks\":\"\"},\"type\":\"choropleth\"}],\"contourcarpet\":[{\"colorbar\":{\"outlinewidth\":0,\"ticks\":\"\"},\"type\":\"contourcarpet\"}],\"contour\":[{\"colorbar\":{\"outlinewidth\":0,\"ticks\":\"\"},\"colorscale\":[[0.0,\"#0d0887\"],[0.1111111111111111,\"#46039f\"],[0.2222222222222222,\"#7201a8\"],[0.3333333333333333,\"#9c179e\"],[0.4444444444444444,\"#bd3786\"],[0.5555555555555556,\"#d8576b\"],[0.6666666666666666,\"#ed7953\"],[0.7777777777777778,\"#fb9f3a\"],[0.8888888888888888,\"#fdca26\"],[1.0,\"#f0f921\"]],\"type\":\"contour\"}],\"heatmapgl\":[{\"colorbar\":{\"outlinewidth\":0,\"ticks\":\"\"},\"colorscale\":[[0.0,\"#0d0887\"],[0.1111111111111111,\"#46039f\"],[0.2222222222222222,\"#7201a8\"],[0.3333333333333333,\"#9c179e\"],[0.4444444444444444,\"#bd3786\"],[0.5555555555555556,\"#d8576b\"],[0.6666666666666666,\"#ed7953\"],[0.7777777777777778,\"#fb9f3a\"],[0.8888888888888888,\"#fdca26\"],[1.0,\"#f0f921\"]],\"type\":\"heatmapgl\"}],\"heatmap\":[{\"colorbar\":{\"outlinewidth\":0,\"ticks\":\"\"},\"colorscale\":[[0.0,\"#0d0887\"],[0.1111111111111111,\"#46039f\"],[0.2222222222222222,\"#7201a8\"],[0.3333333333333333,\"#9c179e\"],[0.4444444444444444,\"#bd3786\"],[0.5555555555555556,\"#d8576b\"],[0.6666666666666666,\"#ed7953\"],[0.7777777777777778,\"#fb9f3a\"],[0.8888888888888888,\"#fdca26\"],[1.0,\"#f0f921\"]],\"type\":\"heatmap\"}],\"histogram2dcontour\":[{\"colorbar\":{\"outlinewidth\":0,\"ticks\":\"\"},\"colorscale\":[[0.0,\"#0d0887\"],[0.1111111111111111,\"#46039f\"],[0.2222222222222222,\"#7201a8\"],[0.3333333333333333,\"#9c179e\"],[0.4444444444444444,\"#bd3786\"],[0.5555555555555556,\"#d8576b\"],[0.6666666666666666,\"#ed7953\"],[0.7777777777777778,\"#fb9f3a\"],[0.8888888888888888,\"#fdca26\"],[1.0,\"#f0f921\"]],\"type\":\"histogram2dcontour\"}],\"histogram2d\":[{\"colorbar\":{\"outlinewidth\":0,\"ticks\":\"\"},\"colorscale\":[[0.0,\"#0d0887\"],[0.1111111111111111,\"#46039f\"],[0.2222222222222222,\"#7201a8\"],[0.3333333333333333,\"#9c179e\"],[0.4444444444444444,\"#bd3786\"],[0.5555555555555556,\"#d8576b\"],[0.6666666666666666,\"#ed7953\"],[0.7777777777777778,\"#fb9f3a\"],[0.8888888888888888,\"#fdca26\"],[1.0,\"#f0f921\"]],\"type\":\"histogram2d\"}],\"histogram\":[{\"marker\":{\"pattern\":{\"fillmode\":\"overlay\",\"size\":10,\"solidity\":0.2}},\"type\":\"histogram\"}],\"mesh3d\":[{\"colorbar\":{\"outlinewidth\":0,\"ticks\":\"\"},\"type\":\"mesh3d\"}],\"parcoords\":[{\"line\":{\"colorbar\":{\"outlinewidth\":0,\"ticks\":\"\"}},\"type\":\"parcoords\"}],\"pie\":[{\"automargin\":true,\"type\":\"pie\"}],\"scatter3d\":[{\"line\":{\"colorbar\":{\"outlinewidth\":0,\"ticks\":\"\"}},\"marker\":{\"colorbar\":{\"outlinewidth\":0,\"ticks\":\"\"}},\"type\":\"scatter3d\"}],\"scattercarpet\":[{\"marker\":{\"colorbar\":{\"outlinewidth\":0,\"ticks\":\"\"}},\"type\":\"scattercarpet\"}],\"scattergeo\":[{\"marker\":{\"colorbar\":{\"outlinewidth\":0,\"ticks\":\"\"}},\"type\":\"scattergeo\"}],\"scattergl\":[{\"marker\":{\"line\":{\"color\":\"#283442\"}},\"type\":\"scattergl\"}],\"scattermapbox\":[{\"marker\":{\"colorbar\":{\"outlinewidth\":0,\"ticks\":\"\"}},\"type\":\"scattermapbox\"}],\"scatterpolargl\":[{\"marker\":{\"colorbar\":{\"outlinewidth\":0,\"ticks\":\"\"}},\"type\":\"scatterpolargl\"}],\"scatterpolar\":[{\"marker\":{\"colorbar\":{\"outlinewidth\":0,\"ticks\":\"\"}},\"type\":\"scatterpolar\"}],\"scatter\":[{\"marker\":{\"line\":{\"color\":\"#283442\"}},\"type\":\"scatter\"}],\"scatterternary\":[{\"marker\":{\"colorbar\":{\"outlinewidth\":0,\"ticks\":\"\"}},\"type\":\"scatterternary\"}],\"surface\":[{\"colorbar\":{\"outlinewidth\":0,\"ticks\":\"\"},\"colorscale\":[[0.0,\"#0d0887\"],[0.1111111111111111,\"#46039f\"],[0.2222222222222222,\"#7201a8\"],[0.3333333333333333,\"#9c179e\"],[0.4444444444444444,\"#bd3786\"],[0.5555555555555556,\"#d8576b\"],[0.6666666666666666,\"#ed7953\"],[0.7777777777777778,\"#fb9f3a\"],[0.8888888888888888,\"#fdca26\"],[1.0,\"#f0f921\"]],\"type\":\"surface\"}],\"table\":[{\"cells\":{\"fill\":{\"color\":\"#506784\"},\"line\":{\"color\":\"rgb(17,17,17)\"}},\"header\":{\"fill\":{\"color\":\"#2a3f5f\"},\"line\":{\"color\":\"rgb(17,17,17)\"}},\"type\":\"table\"}]},\"layout\":{\"annotationdefaults\":{\"arrowcolor\":\"#f2f5fa\",\"arrowhead\":0,\"arrowwidth\":1},\"autotypenumbers\":\"strict\",\"coloraxis\":{\"colorbar\":{\"outlinewidth\":0,\"ticks\":\"\"}},\"colorscale\":{\"diverging\":[[0,\"#8e0152\"],[0.1,\"#c51b7d\"],[0.2,\"#de77ae\"],[0.3,\"#f1b6da\"],[0.4,\"#fde0ef\"],[0.5,\"#f7f7f7\"],[0.6,\"#e6f5d0\"],[0.7,\"#b8e186\"],[0.8,\"#7fbc41\"],[0.9,\"#4d9221\"],[1,\"#276419\"]],\"sequential\":[[0.0,\"#0d0887\"],[0.1111111111111111,\"#46039f\"],[0.2222222222222222,\"#7201a8\"],[0.3333333333333333,\"#9c179e\"],[0.4444444444444444,\"#bd3786\"],[0.5555555555555556,\"#d8576b\"],[0.6666666666666666,\"#ed7953\"],[0.7777777777777778,\"#fb9f3a\"],[0.8888888888888888,\"#fdca26\"],[1.0,\"#f0f921\"]],\"sequentialminus\":[[0.0,\"#0d0887\"],[0.1111111111111111,\"#46039f\"],[0.2222222222222222,\"#7201a8\"],[0.3333333333333333,\"#9c179e\"],[0.4444444444444444,\"#bd3786\"],[0.5555555555555556,\"#d8576b\"],[0.6666666666666666,\"#ed7953\"],[0.7777777777777778,\"#fb9f3a\"],[0.8888888888888888,\"#fdca26\"],[1.0,\"#f0f921\"]]},\"colorway\":[\"#636efa\",\"#EF553B\",\"#00cc96\",\"#ab63fa\",\"#FFA15A\",\"#19d3f3\",\"#FF6692\",\"#B6E880\",\"#FF97FF\",\"#FECB52\"],\"font\":{\"color\":\"#f2f5fa\"},\"geo\":{\"bgcolor\":\"rgb(17,17,17)\",\"lakecolor\":\"rgb(17,17,17)\",\"landcolor\":\"rgb(17,17,17)\",\"showlakes\":true,\"showland\":true,\"subunitcolor\":\"#506784\"},\"hoverlabel\":{\"align\":\"left\"},\"hovermode\":\"closest\",\"mapbox\":{\"style\":\"dark\"},\"paper_bgcolor\":\"rgb(17,17,17)\",\"plot_bgcolor\":\"rgb(17,17,17)\",\"polar\":{\"angularaxis\":{\"gridcolor\":\"#506784\",\"linecolor\":\"#506784\",\"ticks\":\"\"},\"bgcolor\":\"rgb(17,17,17)\",\"radialaxis\":{\"gridcolor\":\"#506784\",\"linecolor\":\"#506784\",\"ticks\":\"\"}},\"scene\":{\"xaxis\":{\"backgroundcolor\":\"rgb(17,17,17)\",\"gridcolor\":\"#506784\",\"gridwidth\":2,\"linecolor\":\"#506784\",\"showbackground\":true,\"ticks\":\"\",\"zerolinecolor\":\"#C8D4E3\"},\"yaxis\":{\"backgroundcolor\":\"rgb(17,17,17)\",\"gridcolor\":\"#506784\",\"gridwidth\":2,\"linecolor\":\"#506784\",\"showbackground\":true,\"ticks\":\"\",\"zerolinecolor\":\"#C8D4E3\"},\"zaxis\":{\"backgroundcolor\":\"rgb(17,17,17)\",\"gridcolor\":\"#506784\",\"gridwidth\":2,\"linecolor\":\"#506784\",\"showbackground\":true,\"ticks\":\"\",\"zerolinecolor\":\"#C8D4E3\"}},\"shapedefaults\":{\"line\":{\"color\":\"#f2f5fa\"}},\"sliderdefaults\":{\"bgcolor\":\"#C8D4E3\",\"bordercolor\":\"rgb(17,17,17)\",\"borderwidth\":1,\"tickwidth\":0},\"ternary\":{\"aaxis\":{\"gridcolor\":\"#506784\",\"linecolor\":\"#506784\",\"ticks\":\"\"},\"baxis\":{\"gridcolor\":\"#506784\",\"linecolor\":\"#506784\",\"ticks\":\"\"},\"bgcolor\":\"rgb(17,17,17)\",\"caxis\":{\"gridcolor\":\"#506784\",\"linecolor\":\"#506784\",\"ticks\":\"\"}},\"title\":{\"x\":0.05},\"updatemenudefaults\":{\"bgcolor\":\"#506784\",\"borderwidth\":0},\"xaxis\":{\"automargin\":true,\"gridcolor\":\"#283442\",\"linecolor\":\"#506784\",\"ticks\":\"\",\"title\":{\"standoff\":15},\"zerolinecolor\":\"#283442\",\"zerolinewidth\":2},\"yaxis\":{\"automargin\":true,\"gridcolor\":\"#283442\",\"linecolor\":\"#506784\",\"ticks\":\"\",\"title\":{\"standoff\":15},\"zerolinecolor\":\"#283442\",\"zerolinewidth\":2}}},\"xaxis\":{\"anchor\":\"y\",\"domain\":[0.0,1.0],\"title\":{\"text\":\"Volatility\"}},\"yaxis\":{\"anchor\":\"x\",\"domain\":[0.0,1.0],\"title\":{\"text\":\"Return\"}},\"coloraxis\":{\"colorbar\":{\"title\":{\"text\":\"color\"}},\"colorscale\":[[0.0,\"#0d0887\"],[0.1111111111111111,\"#46039f\"],[0.2222222222222222,\"#7201a8\"],[0.3333333333333333,\"#9c179e\"],[0.4444444444444444,\"#bd3786\"],[0.5555555555555556,\"#d8576b\"],[0.6666666666666666,\"#ed7953\"],[0.7777777777777778,\"#fb9f3a\"],[0.8888888888888888,\"#fdca26\"],[1.0,\"#f0f921\"]]},\"legend\":{\"tracegroupgap\":0},\"title\":{\"text\":\"KMeans Clusters\",\"x\":0.5},\"height\":500,\"width\":750},                        {\"responsive\": true}                    ).then(function(){\n",
              "                            \n",
              "var gd = document.getElementById('503f28a0-9c0a-43d4-8c51-0ecc326830df');\n",
              "var x = new MutationObserver(function (mutations, observer) {{\n",
              "        var display = window.getComputedStyle(gd).display;\n",
              "        if (!display || display === 'none') {{\n",
              "            console.log([gd, 'removed!']);\n",
              "            Plotly.purge(gd);\n",
              "            observer.disconnect();\n",
              "        }}\n",
              "}});\n",
              "\n",
              "// Listen for the removal of the full notebook cells\n",
              "var notebookContainer = gd.closest('#notebook-container');\n",
              "if (notebookContainer) {{\n",
              "    x.observe(notebookContainer, {childList: true});\n",
              "}}\n",
              "\n",
              "// Listen for the clearing of the current output cell\n",
              "var outputEl = gd.closest('.output');\n",
              "if (outputEl) {{\n",
              "    x.observe(outputEl, {childList: true});\n",
              "}}\n",
              "\n",
              "                        })                };                            </script>        </div>\n",
              "</body>\n",
              "</html>"
            ]
          },
          "metadata": {}
        }
      ]
    },
    {
      "cell_type": "code",
      "source": [
        "silhouette_score(X, labels)"
      ],
      "metadata": {
        "colab": {
          "base_uri": "https://localhost:8080/"
        },
        "id": "YREAu_yvb6Mc",
        "outputId": "9563923a-696a-42ef-83f6-1a87eed994c1"
      },
      "execution_count": 41,
      "outputs": [
        {
          "output_type": "execute_result",
          "data": {
            "text/plain": [
              "0.4254472495149587"
            ]
          },
          "metadata": {},
          "execution_count": 41
        }
      ]
    },
    {
      "cell_type": "code",
      "source": [
        "silhouette = []\n",
        "\n",
        "for k in range(2,16):\n",
        "    kmeans = KMeans(n_clusters=k, n_init='auto')\n",
        "    kmeans.fit(X)\n",
        "    silhouette.append(silhouette_score(X, kmeans.labels_))"
      ],
      "metadata": {
        "id": "G8hqoDlXdTka"
      },
      "execution_count": 46,
      "outputs": []
    },
    {
      "cell_type": "code",
      "source": [
        "px.line(silhouette,\n",
        "        title='Silhouette Curve',\n",
        "        width=750,\n",
        "        height=500,\n",
        "        labels={\n",
        "            \"index\":\"Number of Clusters\",\n",
        "            \"value\":\"Sum of Squared Error\"\n",
        "        },\n",
        "        template='plotly_dark'\n",
        "        ).update_layout(showlegend=False, title_x=0.5)"
      ],
      "metadata": {
        "colab": {
          "base_uri": "https://localhost:8080/",
          "height": 537
        },
        "id": "gvR_5y2_fsej",
        "outputId": "92c26bdb-f9e8-4bee-b60e-edce027933c7"
      },
      "execution_count": 47,
      "outputs": [
        {
          "output_type": "display_data",
          "data": {
            "text/html": [
              "<html>\n",
              "<head><meta charset=\"utf-8\" /></head>\n",
              "<body>\n",
              "    <div>            <script src=\"https://cdnjs.cloudflare.com/ajax/libs/mathjax/2.7.5/MathJax.js?config=TeX-AMS-MML_SVG\"></script><script type=\"text/javascript\">if (window.MathJax && window.MathJax.Hub && window.MathJax.Hub.Config) {window.MathJax.Hub.Config({SVG: {font: \"STIX-Web\"}});}</script>                <script type=\"text/javascript\">window.PlotlyConfig = {MathJaxConfig: 'local'};</script>\n",
              "        <script charset=\"utf-8\" src=\"https://cdn.plot.ly/plotly-2.24.1.min.js\"></script>                <div id=\"77f0b6a8-e2ea-4b3a-b7a0-9acdd56f0da2\" class=\"plotly-graph-div\" style=\"height:500px; width:750px;\"></div>            <script type=\"text/javascript\">                                    window.PLOTLYENV=window.PLOTLYENV || {};                                    if (document.getElementById(\"77f0b6a8-e2ea-4b3a-b7a0-9acdd56f0da2\")) {                    Plotly.newPlot(                        \"77f0b6a8-e2ea-4b3a-b7a0-9acdd56f0da2\",                        [{\"hovertemplate\":\"variable=0\\u003cbr\\u003eNumber of Clusters=%{x}\\u003cbr\\u003eSum of Squared Error=%{y}\\u003cextra\\u003e\\u003c\\u002fextra\\u003e\",\"legendgroup\":\"0\",\"line\":{\"color\":\"#636efa\",\"dash\":\"solid\"},\"marker\":{\"symbol\":\"circle\"},\"mode\":\"lines\",\"name\":\"0\",\"orientation\":\"v\",\"showlegend\":true,\"x\":[0,1,2,3,4,5,6,7,8,9,10,11,12,13],\"xaxis\":\"x\",\"y\":[0.4571444576998439,0.4640096714332843,0.4254472495149587,0.4207008867585502,0.3911325580564855,0.3727433987269836,0.35979465950638717,0.37151362484685235,0.36915040816775724,0.33320570487090784,0.3347353816806188,0.3272821059586786,0.34687115820491393,0.32653324123703203],\"yaxis\":\"y\",\"type\":\"scatter\"}],                        {\"template\":{\"data\":{\"barpolar\":[{\"marker\":{\"line\":{\"color\":\"rgb(17,17,17)\",\"width\":0.5},\"pattern\":{\"fillmode\":\"overlay\",\"size\":10,\"solidity\":0.2}},\"type\":\"barpolar\"}],\"bar\":[{\"error_x\":{\"color\":\"#f2f5fa\"},\"error_y\":{\"color\":\"#f2f5fa\"},\"marker\":{\"line\":{\"color\":\"rgb(17,17,17)\",\"width\":0.5},\"pattern\":{\"fillmode\":\"overlay\",\"size\":10,\"solidity\":0.2}},\"type\":\"bar\"}],\"carpet\":[{\"aaxis\":{\"endlinecolor\":\"#A2B1C6\",\"gridcolor\":\"#506784\",\"linecolor\":\"#506784\",\"minorgridcolor\":\"#506784\",\"startlinecolor\":\"#A2B1C6\"},\"baxis\":{\"endlinecolor\":\"#A2B1C6\",\"gridcolor\":\"#506784\",\"linecolor\":\"#506784\",\"minorgridcolor\":\"#506784\",\"startlinecolor\":\"#A2B1C6\"},\"type\":\"carpet\"}],\"choropleth\":[{\"colorbar\":{\"outlinewidth\":0,\"ticks\":\"\"},\"type\":\"choropleth\"}],\"contourcarpet\":[{\"colorbar\":{\"outlinewidth\":0,\"ticks\":\"\"},\"type\":\"contourcarpet\"}],\"contour\":[{\"colorbar\":{\"outlinewidth\":0,\"ticks\":\"\"},\"colorscale\":[[0.0,\"#0d0887\"],[0.1111111111111111,\"#46039f\"],[0.2222222222222222,\"#7201a8\"],[0.3333333333333333,\"#9c179e\"],[0.4444444444444444,\"#bd3786\"],[0.5555555555555556,\"#d8576b\"],[0.6666666666666666,\"#ed7953\"],[0.7777777777777778,\"#fb9f3a\"],[0.8888888888888888,\"#fdca26\"],[1.0,\"#f0f921\"]],\"type\":\"contour\"}],\"heatmapgl\":[{\"colorbar\":{\"outlinewidth\":0,\"ticks\":\"\"},\"colorscale\":[[0.0,\"#0d0887\"],[0.1111111111111111,\"#46039f\"],[0.2222222222222222,\"#7201a8\"],[0.3333333333333333,\"#9c179e\"],[0.4444444444444444,\"#bd3786\"],[0.5555555555555556,\"#d8576b\"],[0.6666666666666666,\"#ed7953\"],[0.7777777777777778,\"#fb9f3a\"],[0.8888888888888888,\"#fdca26\"],[1.0,\"#f0f921\"]],\"type\":\"heatmapgl\"}],\"heatmap\":[{\"colorbar\":{\"outlinewidth\":0,\"ticks\":\"\"},\"colorscale\":[[0.0,\"#0d0887\"],[0.1111111111111111,\"#46039f\"],[0.2222222222222222,\"#7201a8\"],[0.3333333333333333,\"#9c179e\"],[0.4444444444444444,\"#bd3786\"],[0.5555555555555556,\"#d8576b\"],[0.6666666666666666,\"#ed7953\"],[0.7777777777777778,\"#fb9f3a\"],[0.8888888888888888,\"#fdca26\"],[1.0,\"#f0f921\"]],\"type\":\"heatmap\"}],\"histogram2dcontour\":[{\"colorbar\":{\"outlinewidth\":0,\"ticks\":\"\"},\"colorscale\":[[0.0,\"#0d0887\"],[0.1111111111111111,\"#46039f\"],[0.2222222222222222,\"#7201a8\"],[0.3333333333333333,\"#9c179e\"],[0.4444444444444444,\"#bd3786\"],[0.5555555555555556,\"#d8576b\"],[0.6666666666666666,\"#ed7953\"],[0.7777777777777778,\"#fb9f3a\"],[0.8888888888888888,\"#fdca26\"],[1.0,\"#f0f921\"]],\"type\":\"histogram2dcontour\"}],\"histogram2d\":[{\"colorbar\":{\"outlinewidth\":0,\"ticks\":\"\"},\"colorscale\":[[0.0,\"#0d0887\"],[0.1111111111111111,\"#46039f\"],[0.2222222222222222,\"#7201a8\"],[0.3333333333333333,\"#9c179e\"],[0.4444444444444444,\"#bd3786\"],[0.5555555555555556,\"#d8576b\"],[0.6666666666666666,\"#ed7953\"],[0.7777777777777778,\"#fb9f3a\"],[0.8888888888888888,\"#fdca26\"],[1.0,\"#f0f921\"]],\"type\":\"histogram2d\"}],\"histogram\":[{\"marker\":{\"pattern\":{\"fillmode\":\"overlay\",\"size\":10,\"solidity\":0.2}},\"type\":\"histogram\"}],\"mesh3d\":[{\"colorbar\":{\"outlinewidth\":0,\"ticks\":\"\"},\"type\":\"mesh3d\"}],\"parcoords\":[{\"line\":{\"colorbar\":{\"outlinewidth\":0,\"ticks\":\"\"}},\"type\":\"parcoords\"}],\"pie\":[{\"automargin\":true,\"type\":\"pie\"}],\"scatter3d\":[{\"line\":{\"colorbar\":{\"outlinewidth\":0,\"ticks\":\"\"}},\"marker\":{\"colorbar\":{\"outlinewidth\":0,\"ticks\":\"\"}},\"type\":\"scatter3d\"}],\"scattercarpet\":[{\"marker\":{\"colorbar\":{\"outlinewidth\":0,\"ticks\":\"\"}},\"type\":\"scattercarpet\"}],\"scattergeo\":[{\"marker\":{\"colorbar\":{\"outlinewidth\":0,\"ticks\":\"\"}},\"type\":\"scattergeo\"}],\"scattergl\":[{\"marker\":{\"line\":{\"color\":\"#283442\"}},\"type\":\"scattergl\"}],\"scattermapbox\":[{\"marker\":{\"colorbar\":{\"outlinewidth\":0,\"ticks\":\"\"}},\"type\":\"scattermapbox\"}],\"scatterpolargl\":[{\"marker\":{\"colorbar\":{\"outlinewidth\":0,\"ticks\":\"\"}},\"type\":\"scatterpolargl\"}],\"scatterpolar\":[{\"marker\":{\"colorbar\":{\"outlinewidth\":0,\"ticks\":\"\"}},\"type\":\"scatterpolar\"}],\"scatter\":[{\"marker\":{\"line\":{\"color\":\"#283442\"}},\"type\":\"scatter\"}],\"scatterternary\":[{\"marker\":{\"colorbar\":{\"outlinewidth\":0,\"ticks\":\"\"}},\"type\":\"scatterternary\"}],\"surface\":[{\"colorbar\":{\"outlinewidth\":0,\"ticks\":\"\"},\"colorscale\":[[0.0,\"#0d0887\"],[0.1111111111111111,\"#46039f\"],[0.2222222222222222,\"#7201a8\"],[0.3333333333333333,\"#9c179e\"],[0.4444444444444444,\"#bd3786\"],[0.5555555555555556,\"#d8576b\"],[0.6666666666666666,\"#ed7953\"],[0.7777777777777778,\"#fb9f3a\"],[0.8888888888888888,\"#fdca26\"],[1.0,\"#f0f921\"]],\"type\":\"surface\"}],\"table\":[{\"cells\":{\"fill\":{\"color\":\"#506784\"},\"line\":{\"color\":\"rgb(17,17,17)\"}},\"header\":{\"fill\":{\"color\":\"#2a3f5f\"},\"line\":{\"color\":\"rgb(17,17,17)\"}},\"type\":\"table\"}]},\"layout\":{\"annotationdefaults\":{\"arrowcolor\":\"#f2f5fa\",\"arrowhead\":0,\"arrowwidth\":1},\"autotypenumbers\":\"strict\",\"coloraxis\":{\"colorbar\":{\"outlinewidth\":0,\"ticks\":\"\"}},\"colorscale\":{\"diverging\":[[0,\"#8e0152\"],[0.1,\"#c51b7d\"],[0.2,\"#de77ae\"],[0.3,\"#f1b6da\"],[0.4,\"#fde0ef\"],[0.5,\"#f7f7f7\"],[0.6,\"#e6f5d0\"],[0.7,\"#b8e186\"],[0.8,\"#7fbc41\"],[0.9,\"#4d9221\"],[1,\"#276419\"]],\"sequential\":[[0.0,\"#0d0887\"],[0.1111111111111111,\"#46039f\"],[0.2222222222222222,\"#7201a8\"],[0.3333333333333333,\"#9c179e\"],[0.4444444444444444,\"#bd3786\"],[0.5555555555555556,\"#d8576b\"],[0.6666666666666666,\"#ed7953\"],[0.7777777777777778,\"#fb9f3a\"],[0.8888888888888888,\"#fdca26\"],[1.0,\"#f0f921\"]],\"sequentialminus\":[[0.0,\"#0d0887\"],[0.1111111111111111,\"#46039f\"],[0.2222222222222222,\"#7201a8\"],[0.3333333333333333,\"#9c179e\"],[0.4444444444444444,\"#bd3786\"],[0.5555555555555556,\"#d8576b\"],[0.6666666666666666,\"#ed7953\"],[0.7777777777777778,\"#fb9f3a\"],[0.8888888888888888,\"#fdca26\"],[1.0,\"#f0f921\"]]},\"colorway\":[\"#636efa\",\"#EF553B\",\"#00cc96\",\"#ab63fa\",\"#FFA15A\",\"#19d3f3\",\"#FF6692\",\"#B6E880\",\"#FF97FF\",\"#FECB52\"],\"font\":{\"color\":\"#f2f5fa\"},\"geo\":{\"bgcolor\":\"rgb(17,17,17)\",\"lakecolor\":\"rgb(17,17,17)\",\"landcolor\":\"rgb(17,17,17)\",\"showlakes\":true,\"showland\":true,\"subunitcolor\":\"#506784\"},\"hoverlabel\":{\"align\":\"left\"},\"hovermode\":\"closest\",\"mapbox\":{\"style\":\"dark\"},\"paper_bgcolor\":\"rgb(17,17,17)\",\"plot_bgcolor\":\"rgb(17,17,17)\",\"polar\":{\"angularaxis\":{\"gridcolor\":\"#506784\",\"linecolor\":\"#506784\",\"ticks\":\"\"},\"bgcolor\":\"rgb(17,17,17)\",\"radialaxis\":{\"gridcolor\":\"#506784\",\"linecolor\":\"#506784\",\"ticks\":\"\"}},\"scene\":{\"xaxis\":{\"backgroundcolor\":\"rgb(17,17,17)\",\"gridcolor\":\"#506784\",\"gridwidth\":2,\"linecolor\":\"#506784\",\"showbackground\":true,\"ticks\":\"\",\"zerolinecolor\":\"#C8D4E3\"},\"yaxis\":{\"backgroundcolor\":\"rgb(17,17,17)\",\"gridcolor\":\"#506784\",\"gridwidth\":2,\"linecolor\":\"#506784\",\"showbackground\":true,\"ticks\":\"\",\"zerolinecolor\":\"#C8D4E3\"},\"zaxis\":{\"backgroundcolor\":\"rgb(17,17,17)\",\"gridcolor\":\"#506784\",\"gridwidth\":2,\"linecolor\":\"#506784\",\"showbackground\":true,\"ticks\":\"\",\"zerolinecolor\":\"#C8D4E3\"}},\"shapedefaults\":{\"line\":{\"color\":\"#f2f5fa\"}},\"sliderdefaults\":{\"bgcolor\":\"#C8D4E3\",\"bordercolor\":\"rgb(17,17,17)\",\"borderwidth\":1,\"tickwidth\":0},\"ternary\":{\"aaxis\":{\"gridcolor\":\"#506784\",\"linecolor\":\"#506784\",\"ticks\":\"\"},\"baxis\":{\"gridcolor\":\"#506784\",\"linecolor\":\"#506784\",\"ticks\":\"\"},\"bgcolor\":\"rgb(17,17,17)\",\"caxis\":{\"gridcolor\":\"#506784\",\"linecolor\":\"#506784\",\"ticks\":\"\"}},\"title\":{\"x\":0.05},\"updatemenudefaults\":{\"bgcolor\":\"#506784\",\"borderwidth\":0},\"xaxis\":{\"automargin\":true,\"gridcolor\":\"#283442\",\"linecolor\":\"#506784\",\"ticks\":\"\",\"title\":{\"standoff\":15},\"zerolinecolor\":\"#283442\",\"zerolinewidth\":2},\"yaxis\":{\"automargin\":true,\"gridcolor\":\"#283442\",\"linecolor\":\"#506784\",\"ticks\":\"\",\"title\":{\"standoff\":15},\"zerolinecolor\":\"#283442\",\"zerolinewidth\":2}}},\"xaxis\":{\"anchor\":\"y\",\"domain\":[0.0,1.0],\"title\":{\"text\":\"Number of Clusters\"}},\"yaxis\":{\"anchor\":\"x\",\"domain\":[0.0,1.0],\"title\":{\"text\":\"Sum of Squared Error\"}},\"legend\":{\"title\":{\"text\":\"variable\"},\"tracegroupgap\":0},\"title\":{\"text\":\"Silhouette Curve\",\"x\":0.5},\"height\":500,\"width\":750,\"showlegend\":false},                        {\"responsive\": true}                    ).then(function(){\n",
              "                            \n",
              "var gd = document.getElementById('77f0b6a8-e2ea-4b3a-b7a0-9acdd56f0da2');\n",
              "var x = new MutationObserver(function (mutations, observer) {{\n",
              "        var display = window.getComputedStyle(gd).display;\n",
              "        if (!display || display === 'none') {{\n",
              "            console.log([gd, 'removed!']);\n",
              "            Plotly.purge(gd);\n",
              "            observer.disconnect();\n",
              "        }}\n",
              "}});\n",
              "\n",
              "// Listen for the removal of the full notebook cells\n",
              "var notebookContainer = gd.closest('#notebook-container');\n",
              "if (notebookContainer) {{\n",
              "    x.observe(notebookContainer, {childList: true});\n",
              "}}\n",
              "\n",
              "// Listen for the clearing of the current output cell\n",
              "var outputEl = gd.closest('.output');\n",
              "if (outputEl) {{\n",
              "    x.observe(outputEl, {childList: true});\n",
              "}}\n",
              "\n",
              "                        })                };                            </script>        </div>\n",
              "</body>\n",
              "</html>"
            ]
          },
          "metadata": {}
        }
      ]
    },
    {
      "cell_type": "code",
      "source": [
        "dividends = []\n",
        "\n",
        "for i in ticker_list:\n",
        "    info = yf.Ticker(i).info\n",
        "    div = info.get('trailingAnnualDividendYield')\n",
        "    dividends.append(div)"
      ],
      "metadata": {
        "id": "_DwPAEUVv3Bs"
      },
      "execution_count": null,
      "outputs": []
    },
    {
      "cell_type": "code",
      "source": [
        "for (i,j) in zip(ticker_list, dividends):\n",
        "    print(f'Ticker: {i}, DividendRate: {j}')"
      ],
      "metadata": {
        "colab": {
          "base_uri": "https://localhost:8080/"
        },
        "id": "TjZpGHUyzsB-",
        "outputId": "f7d55261-8a53-44b3-fc66-74ad603b8189"
      },
      "execution_count": null,
      "outputs": [
        {
          "output_type": "stream",
          "name": "stdout",
          "text": [
            "Ticker: MMM, DividendRate: 0.05918448\n",
            "Ticker: AOS, DividendRate: 0.01756998\n",
            "Ticker: ABT, DividendRate: 0.01980198\n",
            "Ticker: ABBV, DividendRate: 0.038001817\n",
            "Ticker: ACN, DividendRate: 0.014182601\n",
            "Ticker: ATVI, DividendRate: 0.021542814\n",
            "Ticker: ADM, DividendRate: 0.021467356\n",
            "Ticker: ADBE, DividendRate: 0.0\n",
            "Ticker: ADP, DividendRate: 0.019370753\n",
            "Ticker: AES, DividendRate: 0.038407497\n",
            "Ticker: AFL, DividendRate: 0.021320853\n",
            "Ticker: A, DividendRate: 0.007853403\n",
            "Ticker: ABNB, DividendRate: 0.0\n",
            "Ticker: APD, DividendRate: 0.02250192\n",
            "Ticker: AKAM, DividendRate: 0.0\n",
            "Ticker: ALK, DividendRate: 0.0\n",
            "Ticker: ALB, DividendRate: 0.008754543\n",
            "Ticker: ARE, DividendRate: 0.04309117\n",
            "Ticker: ALGN, DividendRate: 0.0\n",
            "Ticker: ALLE, DividendRate: 0.01635292\n",
            "Ticker: LNT, DividendRate: 0.033722937\n",
            "Ticker: ALL, DividendRate: 0.03134006\n",
            "Ticker: GOOGL, DividendRate: 0.0\n",
            "Ticker: GOOG, DividendRate: 0.0\n",
            "Ticker: MO, DividendRate: 0.086735874\n",
            "Ticker: AMZN, DividendRate: 0.0\n",
            "Ticker: AMCR, DividendRate: 0.05280173\n",
            "Ticker: AMD, DividendRate: 0.0\n",
            "Ticker: AEE, DividendRate: 0.030242935\n",
            "Ticker: AAL, DividendRate: 0.0\n",
            "Ticker: AEP, DividendRate: 0.04075782\n",
            "Ticker: AXP, DividendRate: 0.01403245\n",
            "Ticker: AIG, DividendRate: 0.02140078\n",
            "Ticker: AMT, DividendRate: 0.034311812\n",
            "Ticker: AWK, DividendRate: 0.019303568\n",
            "Ticker: AMP, DividendRate: 0.014694019\n",
            "Ticker: AME, DividendRate: 0.0061651473\n",
            "Ticker: AMGN, DividendRate: 0.03093293\n",
            "Ticker: APH, DividendRate: 0.00962542\n",
            "Ticker: ADI, DividendRate: 0.018584464\n",
            "Ticker: ANSS, DividendRate: 0.0\n",
            "Ticker: AON, DividendRate: 0.006763527\n",
            "Ticker: APA, DividendRate: 0.023413721\n",
            "Ticker: AAPL, DividendRate: 0.0052255997\n",
            "Ticker: AMAT, DividendRate: 0.008269765\n",
            "Ticker: APTV, DividendRate: 0.0\n",
            "Ticker: ACGL, DividendRate: 0.0\n",
            "Ticker: ANET, DividendRate: 0.0\n",
            "Ticker: AJG, DividendRate: 0.009094418\n",
            "Ticker: AIZ, DividendRate: 0.019817507\n",
            "Ticker: T, DividendRate: 0.07355865\n",
            "Ticker: ATO, DividendRate: 0.025327511\n",
            "Ticker: ADSK, DividendRate: 0.0\n",
            "Ticker: AZO, DividendRate: 0.0\n",
            "Ticker: AVB, DividendRate: 0.03560831\n",
            "Ticker: AVY, DividendRate: 0.016813187\n",
            "Ticker: AXON, DividendRate: 0.0\n",
            "Ticker: BKR, DividendRate: 0.020570489\n",
            "Ticker: BALL, DividendRate: 0.0155460555\n",
            "Ticker: BAC, DividendRate: 0.030598052\n",
            "Ticker: BBWI, DividendRate: 0.022166805\n",
            "Ticker: BAX, DividendRate: 0.029950943\n",
            "Ticker: BDX, DividendRate: 0.013606984\n",
            "Ticker: WRB, DividendRate: 0.006306722\n",
            "Ticker: BRK-B, DividendRate: 0.0\n",
            "Ticker: BBY, DividendRate: 0.050962627\n",
            "Ticker: BIO, DividendRate: 0.0\n",
            "Ticker: TECH, DividendRate: 0.0044962764\n",
            "Ticker: BIIB, DividendRate: 0.0\n",
            "Ticker: BLK, DividendRate: 0.028436156\n",
            "Ticker: BX, DividendRate: 0.029902946\n",
            "Ticker: BK, DividendRate: 0.033035714\n",
            "Ticker: BA, DividendRate: 0.0\n",
            "Ticker: BKNG, DividendRate: 0.0\n",
            "Ticker: BWA, DividendRate: 0.016625917\n",
            "Ticker: BXP, DividendRate: 0.05999388\n",
            "Ticker: BSX, DividendRate: 0.0\n",
            "Ticker: BMY, DividendRate: 0.038409013\n",
            "Ticker: AVGO, DividendRate: 0.021647058\n",
            "Ticker: BR, DividendRate: 0.015679065\n",
            "Ticker: BRO, DividendRate: 0.0061093685\n",
            "Ticker: BF-B, DividendRate: 0.012709188\n",
            "Ticker: BG, DividendRate: 0.022276837\n",
            "Ticker: CHRW, DividendRate: 0.027100889\n",
            "Ticker: CDNS, DividendRate: 0.0\n",
            "Ticker: CZR, DividendRate: 0.0\n",
            "Ticker: CPT, DividendRate: 0.038057875\n",
            "Ticker: CPB, DividendRate: 0.034644194\n",
            "Ticker: COF, DividendRate: 0.023396375\n",
            "Ticker: CAH, DividendRate: 0.022547353\n",
            "Ticker: KMX, DividendRate: 0.0\n",
            "Ticker: CCL, DividendRate: 0.0\n",
            "Ticker: CARR, DividendRate: 0.012961942\n",
            "Ticker: CTLT, DividendRate: 0.0\n",
            "Ticker: CAT, DividendRate: 0.012814123\n",
            "Ticker: CBOE, DividendRate: 0.013183916\n",
            "Ticker: CBRE, DividendRate: 0.0\n",
            "Ticker: CDW, DividendRate: 0.010877377\n",
            "Ticker: CE, DividendRate: 0.021550387\n",
            "Ticker: COR, DividendRate: 0.010696531\n",
            "Ticker: CNC, DividendRate: 0.0\n",
            "Ticker: CNP, DividendRate: 0.025385935\n",
            "Ticker: CDAY, DividendRate: 0.0\n",
            "Ticker: CF, DividendRate: 0.019689884\n",
            "Ticker: CRL, DividendRate: 0.0\n",
            "Ticker: SCHW, DividendRate: 0.01624611\n",
            "Ticker: CHTR, DividendRate: 0.0\n",
            "Ticker: CVX, DividendRate: 0.035043657\n",
            "Ticker: CMG, DividendRate: 0.0\n",
            "Ticker: CB, DividendRate: 0.015646163\n",
            "Ticker: CHD, DividendRate: 0.011192854\n",
            "Ticker: CI, DividendRate: 0.016471578\n",
            "Ticker: CINF, DividendRate: 0.026558466\n",
            "Ticker: CTAS, DividendRate: 0.008936725\n",
            "Ticker: CSCO, DividendRate: 0.027446087\n",
            "Ticker: C, DividendRate: 0.047842402\n",
            "Ticker: CFG, DividendRate: 0.061313868\n",
            "Ticker: CLX, DividendRate: 0.033216536\n",
            "Ticker: CME, DividendRate: 0.020334058\n",
            "Ticker: CMS, DividendRate: 0.03323978\n",
            "Ticker: KO, DividendRate: 0.030874785\n",
            "Ticker: CTSH, DividendRate: 0.01623469\n",
            "Ticker: CL, DividendRate: 0.025592417\n",
            "Ticker: CMCSA, DividendRate: 0.024539879\n",
            "Ticker: CMA, DividendRate: 0.0642626\n",
            "Ticker: CAG, DividendRate: 0.045961007\n",
            "Ticker: COP, DividendRate: 0.043300126\n",
            "Ticker: ED, DividendRate: 0.034945942\n",
            "Ticker: STZ, DividendRate: 0.012620353\n",
            "Ticker: CEG, DividendRate: 0.0076575764\n",
            "Ticker: COO, DividendRate: 0.00017779885\n",
            "Ticker: CPRT, DividendRate: 0.0\n",
            "Ticker: GLW, DividendRate: 0.034843206\n",
            "Ticker: CTVA, DividendRate: 0.011760171\n",
            "Ticker: CSGP, DividendRate: 0.0\n",
            "Ticker: COST, DividendRate: 0.0066107484\n",
            "Ticker: CTRA, DividendRate: 0.07526881\n",
            "Ticker: CCI, DividendRate: 0.06321132\n",
            "Ticker: CSX, DividendRate: 0.013504823\n",
            "Ticker: CMI, DividendRate: 0.026348915\n",
            "Ticker: CVS, DividendRate: 0.03267327\n",
            "Ticker: DHI, DividendRate: 0.008613835\n",
            "Ticker: DHR, DividendRate: 0.004098199\n",
            "Ticker: DRI, DividendRate: 0.032461435\n",
            "Ticker: DVA, DividendRate: 0.0\n",
            "Ticker: DE, DividendRate: 0.0117564015\n",
            "Ticker: DAL, DividendRate: 0.002571355\n",
            "Ticker: XRAY, DividendRate: 0.014912773\n",
            "Ticker: DVN, DividendRate: 0.091111116\n",
            "Ticker: DXCM, DividendRate: 0.0\n",
            "Ticker: FANG, DividendRate: 0.044029184\n",
            "Ticker: DLR, DividendRate: 0.038110115\n",
            "Ticker: DFS, DividendRate: 0.028258165\n",
            "Ticker: DIS, DividendRate: 0.0\n",
            "Ticker: DG, DividendRate: 0.020059826\n",
            "Ticker: DLTR, DividendRate: 0.0\n",
            "Ticker: D, DividendRate: 0.05490438\n",
            "Ticker: DPZ, DividendRate: 0.012021545\n",
            "Ticker: DOV, DividendRate: 0.014073713\n",
            "Ticker: DOW, DividendRate: 0.0524541\n",
            "Ticker: DTE, DividendRate: 0.03498131\n",
            "Ticker: DUK, DividendRate: 0.042333614\n",
            "Ticker: DD, DividendRate: 0.018454133\n",
            "Ticker: DXC, DividendRate: 0.0\n",
            "Ticker: EMN, DividendRate: 0.039898027\n",
            "Ticker: ETN, DividendRate: 0.015240703\n",
            "Ticker: EBAY, DividendRate: 0.022318378\n",
            "Ticker: ECL, DividendRate: 0.011946751\n",
            "Ticker: EIX, DividendRate: 0.040901434\n",
            "Ticker: EW, DividendRate: 0.0\n",
            "Ticker: EA, DividendRate: 0.006301824\n",
            "Ticker: ELV, DividendRate: 0.012468377\n",
            "Ticker: LLY, DividendRate: 0.00738692\n",
            "Ticker: EMR, DividendRate: 0.020831242\n",
            "Ticker: ENPH, DividendRate: 0.0\n",
            "Ticker: ETR, DividendRate: 0.042721197\n",
            "Ticker: EOG, DividendRate: 0.024454048\n",
            "Ticker: EPAM, DividendRate: 0.0\n",
            "Ticker: EQT, DividendRate: 0.014566643\n",
            "Ticker: EFX, DividendRate: 0.008002052\n",
            "Ticker: EQIX, DividendRate: 0.01692074\n",
            "Ticker: EQR, DividendRate: 0.04137876\n",
            "Ticker: ESS, DividendRate: 0.04029484\n",
            "Ticker: EL, DividendRate: 0.016731517\n",
            "Ticker: ETSY, DividendRate: 0.0\n",
            "Ticker: EG, DividendRate: 0.017170954\n",
            "Ticker: EVRG, DividendRate: 0.044514224\n",
            "Ticker: ES, DividendRate: 0.040830612\n",
            "Ticker: EXC, DividendRate: 0.033502046\n",
            "Ticker: EXPE, DividendRate: 0.0\n",
            "Ticker: EXPD, DividendRate: 0.011549894\n",
            "Ticker: EXR, DividendRate: 0.0492891\n",
            "Ticker: XOM, DividendRate: 0.03068684\n",
            "Ticker: FFIV, DividendRate: 0.0\n",
            "Ticker: FDS, DividendRate: 0.008504591\n",
            "Ticker: FICO, DividendRate: 0.0\n",
            "Ticker: FAST, DividendRate: 0.024039337\n",
            "Ticker: FRT, DividendRate: 0.04470199\n",
            "Ticker: FDX, DividendRate: 0.0188929\n",
            "Ticker: FITB, DividendRate: 0.04865463\n",
            "Ticker: FSLR, DividendRate: 0.0\n",
            "Ticker: FE, DividendRate: 0.04242589\n",
            "Ticker: FIS, DividendRate: 0.034579113\n",
            "Ticker: FI, DividendRate: 0.0\n",
            "Ticker: FLT, DividendRate: 0.0\n",
            "Ticker: FMC, DividendRate: 0.030783836\n",
            "Ticker: F, DividendRate: 0.048622366\n",
            "Ticker: FTNT, DividendRate: 0.0\n",
            "Ticker: FTV, DividendRate: 0.0036620456\n",
            "Ticker: FOXA, DividendRate: 0.015728217\n",
            "Ticker: FOX, DividendRate: 0.017140899\n",
            "Ticker: BEN, DividendRate: 0.04554153\n",
            "Ticker: FCX, DividendRate: 0.014929088\n",
            "Ticker: GRMN, DividendRate: 0.027276974\n",
            "Ticker: IT, DividendRate: 0.0\n",
            "Ticker: GEHC, DividendRate: 0.00090525043\n",
            "Ticker: GEN, DividendRate: 0.026301946\n",
            "Ticker: GNRC, DividendRate: 0.0\n",
            "Ticker: GD, DividendRate: 0.023001827\n",
            "Ticker: GE, DividendRate: 0.0027451317\n",
            "Ticker: GIS, DividendRate: 0.032677762\n",
            "Ticker: GM, DividendRate: 0.010797841\n",
            "Ticker: GPC, DividendRate: 0.024920644\n",
            "Ticker: GILD, DividendRate: 0.03914308\n",
            "Ticker: GL, DividendRate: 0.007831599\n",
            "Ticker: GPN, DividendRate: 0.0081103\n",
            "Ticker: GS, DividendRate: 0.029127344\n",
            "Ticker: HAL, DividendRate: 0.013133208\n",
            "Ticker: HIG, DividendRate: 0.02265593\n",
            "Ticker: HAS, DividendRate: 0.042417813\n",
            "Ticker: HCA, DividendRate: 0.009072777\n",
            "Ticker: PEAK, DividendRate: 0.06036218\n",
            "Ticker: HSIC, DividendRate: 0.0\n",
            "Ticker: HSY, DividendRate: 0.019504847\n",
            "Ticker: HES, DividendRate: 0.009993849\n",
            "Ticker: HPE, DividendRate: 0.028235294\n",
            "Ticker: HLT, DividendRate: 0.003912363\n",
            "Ticker: HOLX, DividendRate: 0.0\n",
            "Ticker: HD, DividendRate: 0.025751749\n",
            "Ticker: HON, DividendRate: 0.020929754\n",
            "Ticker: HRL, DividendRate: 0.028388279\n",
            "Ticker: HST, DividendRate: 0.031059682\n",
            "Ticker: HWM, DividendRate: 0.0029730303\n",
            "Ticker: HPQ, DividendRate: 0.037994143\n",
            "Ticker: HUM, DividendRate: 0.0070566647\n",
            "Ticker: HBAN, DividendRate: 0.058545798\n",
            "Ticker: HII, DividendRate: 0.023082722\n",
            "Ticker: IBM, DividendRate: 0.04555793\n",
            "Ticker: IEX, DividendRate: 0.011678282\n",
            "Ticker: IDXX, DividendRate: 0.0\n",
            "Ticker: ITW, DividendRate: 0.022043666\n",
            "Ticker: ILMN, DividendRate: 0.0\n",
            "Ticker: INCY, DividendRate: 0.0\n",
            "Ticker: IR, DividendRate: 0.00090375054\n",
            "Ticker: PODD, DividendRate: 0.0\n",
            "Ticker: INTC, DividendRate: 0.032113712\n",
            "Ticker: ICE, DividendRate: 0.013806196\n",
            "Ticker: IFF, DividendRate: 0.048071217\n",
            "Ticker: IP, DividendRate: 0.05415691\n",
            "Ticker: IPG, DividendRate: 0.039408866\n",
            "Ticker: INTU, DividendRate: 0.0058316663\n",
            "Ticker: ISRG, DividendRate: 0.0\n",
            "Ticker: IVZ, DividendRate: 0.050886407\n",
            "Ticker: INVH, DividendRate: 0.028835064\n",
            "Ticker: IQV, DividendRate: 0.0\n",
            "Ticker: IRM, DividendRate: 0.039226256\n",
            "Ticker: JBHT, DividendRate: 0.008438819\n",
            "Ticker: JKHY, DividendRate: 0.013016302\n",
            "Ticker: J, DividendRate: 0.007356253\n",
            "Ticker: JNJ, DividendRate: 0.02818982\n",
            "Ticker: JCI, DividendRate: 0.02484364\n",
            "Ticker: JPM, DividendRate: 0.026824035\n",
            "Ticker: JNPR, DividendRate: 0.030410184\n",
            "Ticker: K, DividendRate: 0.039228722\n",
            "Ticker: KVUE, DividendRate: 0.0\n",
            "Ticker: KDP, DividendRate: 0.023774145\n",
            "Ticker: KEY, DividendRate: 0.071240105\n",
            "Ticker: KEYS, DividendRate: 0.0\n",
            "Ticker: KMB, DividendRate: 0.03740409\n",
            "Ticker: KIM, DividendRate: 0.04889844\n",
            "Ticker: KMI, DividendRate: 0.065804936\n",
            "Ticker: KLAC, DividendRate: 0.011390768\n",
            "Ticker: KHC, DividendRate: 0.047875527\n",
            "Ticker: KR, DividendRate: 0.022990976\n",
            "Ticker: LHX, DividendRate: 0.025809398\n",
            "Ticker: LH, DividendRate: 0.014316251\n",
            "Ticker: LRCX, DividendRate: 0.01085503\n",
            "Ticker: LW, DividendRate: 0.010595358\n",
            "Ticker: LVS, DividendRate: 0.00407249\n",
            "Ticker: LDOS, DividendRate: 0.015389549\n",
            "Ticker: LEN, DividendRate: 0.012816131\n",
            "Ticker: LIN, DividendRate: 0.012618378\n",
            "Ticker: LYV, DividendRate: 0.0\n",
            "Ticker: LKQ, DividendRate: 0.021452805\n",
            "Ticker: LMT, DividendRate: 0.0274508\n",
            "Ticker: L, DividendRate: 0.0038723669\n",
            "Ticker: LOW, DividendRate: 0.019520486\n",
            "Ticker: LYB, DividendRate: 0.04794589\n",
            "Ticker: MTB, DividendRate: 0.039466415\n",
            "Ticker: MRO, DividendRate: 0.014498141\n",
            "Ticker: MPC, DividendRate: 0.019188948\n",
            "Ticker: MKTX, DividendRate: 0.012504403\n",
            "Ticker: MAR, DividendRate: 0.008072553\n",
            "Ticker: MMC, DividendRate: 0.012542356\n",
            "Ticker: MLM, DividendRate: 0.006167648\n",
            "Ticker: MAS, DividendRate: 0.020628862\n",
            "Ticker: MA, DividendRate: 0.005274135\n",
            "Ticker: MTCH, DividendRate: 0.0\n",
            "Ticker: MKC, DividendRate: 0.019019019\n",
            "Ticker: MCD, DividendRate: 0.021388449\n",
            "Ticker: MCK, DividendRate: 0.005055115\n",
            "Ticker: MDT, DividendRate: 0.032971013\n",
            "Ticker: MRK, DividendRate: 0.026340196\n",
            "Ticker: META, DividendRate: 0.0\n",
            "Ticker: MET, DividendRate: 0.03046757\n",
            "Ticker: MTD, DividendRate: 0.0\n",
            "Ticker: MGM, DividendRate: 0.00012410026\n",
            "Ticker: MCHP, DividendRate: 0.01757537\n",
            "Ticker: MU, DividendRate: 0.0065248227\n",
            "Ticker: MSFT, DividendRate: 0.00826597\n",
            "Ticker: MAA, DividendRate: 0.03906826\n",
            "Ticker: MRNA, DividendRate: 0.0\n",
            "Ticker: MHK, DividendRate: 0.0\n",
            "Ticker: MOH, DividendRate: 0.0\n",
            "Ticker: TAP, DividendRate: 0.024526546\n",
            "Ticker: MDLZ, DividendRate: 0.02143056\n",
            "Ticker: MPWR, DividendRate: 0.0075562946\n",
            "Ticker: MNST, DividendRate: 0.0\n",
            "Ticker: MCO, DividendRate: 0.0085614445\n",
            "Ticker: MS, DividendRate: 0.03579078\n",
            "Ticker: MOS, DividendRate: 0.023634452\n",
            "Ticker: MSI, DividendRate: 0.011934587\n",
            "Ticker: MSCI, DividendRate: 0.009867001\n",
            "Ticker: NDAQ, DividendRate: 0.016072128\n",
            "Ticker: NTAP, DividendRate: 0.026257057\n",
            "Ticker: NFLX, DividendRate: 0.0\n",
            "Ticker: NEM, DividendRate: 0.043241907\n",
            "Ticker: NWSA, DividendRate: 0.010040161\n",
            "Ticker: NWS, DividendRate: 0.00969462\n",
            "Ticker: NEE, DividendRate: 0.026157679\n",
            "Ticker: NKE, DividendRate: 0.0138728935\n",
            "Ticker: NI, DividendRate: 0.03575318\n",
            "Ticker: NDSN, DividendRate: 0.011237412\n",
            "Ticker: NSC, DividendRate: 0.025375985\n",
            "Ticker: NTRS, DividendRate: 0.04180602\n",
            "Ticker: NOC, DividendRate: 0.016026514\n",
            "Ticker: NCLH, DividendRate: 0.0\n",
            "Ticker: NRG, DividendRate: 0.03728302\n",
            "Ticker: NUE, DividendRate: 0.013124717\n",
            "Ticker: NVDA, DividendRate: 0.00036391756\n",
            "Ticker: NVR, DividendRate: 0.0\n",
            "Ticker: NXPI, DividendRate: 0.01865623\n",
            "Ticker: ORLY, DividendRate: 0.0\n",
            "Ticker: OXY, DividendRate: 0.009348613\n",
            "Ticker: ODFL, DividendRate: 0.003415967\n",
            "Ticker: OMC, DividendRate: 0.036157023\n",
            "Ticker: ON, DividendRate: 0.0\n",
            "Ticker: OKE, DividendRate: 0.055726644\n",
            "Ticker: ORCL, DividendRate: 0.01354603\n",
            "Ticker: OGN, DividendRate: 0.05755396\n",
            "Ticker: OTIS, DividendRate: 0.014866692\n",
            "Ticker: PCAR, DividendRate: 0.011357052\n",
            "Ticker: PKG, DividendRate: 0.03294893\n",
            "Ticker: PANW, DividendRate: 0.0\n",
            "Ticker: PARA, DividendRate: 0.056617644\n",
            "Ticker: PH, DividendRate: 0.013818016\n",
            "Ticker: PAYX, DividendRate: 0.028028544\n",
            "Ticker: PAYC, DividendRate: 0.0013582035\n",
            "Ticker: PYPL, DividendRate: 0.0\n",
            "Ticker: PNR, DividendRate: 0.012810964\n",
            "Ticker: PEP, DividendRate: 0.026284982\n",
            "Ticker: PFE, DividendRate: 0.048156958\n",
            "Ticker: PCG, DividendRate: 0.07947977\n",
            "Ticker: PM, DividendRate: 0.05239274\n",
            "Ticker: PSX, DividendRate: 0.03299306\n",
            "Ticker: PNW, DividendRate: 0.04355797\n",
            "Ticker: PXD, DividendRate: 0.09860592\n",
            "Ticker: PNC, DividendRate: 0.048123196\n",
            "Ticker: POOL, DividendRate: 0.011829881\n",
            "Ticker: PPG, DividendRate: 0.018718394\n",
            "Ticker: PPL, DividendRate: 0.036229063\n",
            "Ticker: PFG, DividendRate: 0.03327268\n",
            "Ticker: PG, DividendRate: 0.023894839\n",
            "Ticker: PGR, DividendRate: 0.00284576\n",
            "Ticker: PLD, DividendRate: 0.02705125\n",
            "Ticker: PRU, DividendRate: 0.049539983\n",
            "Ticker: PEG, DividendRate: 0.036197618\n",
            "Ticker: PTC, DividendRate: 0.0\n",
            "Ticker: PSA, DividendRate: 0.037053503\n",
            "Ticker: PHM, DividendRate: 0.008091882\n",
            "Ticker: QRVO, DividendRate: 0.0\n",
            "Ticker: PWR, DividendRate: 0.0015680324\n",
            "Ticker: QCOM, DividendRate: 0.027050998\n",
            "Ticker: DGX, DividendRate: 0.021782335\n",
            "Ticker: RL, DividendRate: 0.026150627\n",
            "Ticker: RJF, DividendRate: 0.014930944\n",
            "Ticker: RTX, DividendRate: 0.029795159\n",
            "Ticker: O, DividendRate: 0.056039456\n",
            "Ticker: REG, DividendRate: 0.04123299\n",
            "Ticker: REGN, DividendRate: 0.0\n",
            "Ticker: RF, DividendRate: 0.044943824\n",
            "Ticker: RSG, DividendRate: 0.013292159\n",
            "Ticker: RMD, DividendRate: 0.012050667\n",
            "Ticker: RVTY, DividendRate: 0.0025114361\n",
            "Ticker: RHI, DividendRate: 0.024544843\n",
            "Ticker: ROK, DividendRate: 0.016139645\n",
            "Ticker: ROL, DividendRate: 0.012827225\n",
            "Ticker: ROP, DividendRate: 0.005342976\n",
            "Ticker: ROST, DividendRate: 0.0109628625\n",
            "Ticker: RCL, DividendRate: 0.0\n",
            "Ticker: SPGI, DividendRate: 0.008985418\n",
            "Ticker: CRM, DividendRate: 0.0\n",
            "Ticker: SBAC, DividendRate: 0.014504881\n",
            "Ticker: SLB, DividendRate: 0.01388662\n",
            "Ticker: STX, DividendRate: 0.043593332\n",
            "Ticker: SEE, DividendRate: 0.02323555\n",
            "Ticker: SRE, DividendRate: 0.031764384\n",
            "Ticker: NOW, DividendRate: 0.0\n",
            "Ticker: SHW, DividendRate: 0.009271014\n",
            "Ticker: SPG, DividendRate: 0.06301969\n",
            "Ticker: SWKS, DividendRate: 0.025177665\n",
            "Ticker: SJM, DividendRate: 0.0324998\n",
            "Ticker: SNA, DividendRate: 0.024089916\n",
            "Ticker: SEDG, DividendRate: 0.0\n",
            "Ticker: SO, DividendRate: 0.038618747\n",
            "Ticker: LUV, DividendRate: 0.018569464\n",
            "Ticker: SWK, DividendRate: 0.036760483\n",
            "Ticker: SBUX, DividendRate: 0.021909878\n",
            "Ticker: STT, DividendRate: 0.035363458\n",
            "Ticker: STLD, DividendRate: 0.01559474\n",
            "Ticker: STE, DividendRate: 0.008242722\n",
            "Ticker: SYK, DividendRate: 0.010043653\n",
            "Ticker: SYF, DividendRate: 0.028624767\n",
            "Ticker: SNPS, DividendRate: 0.0\n",
            "Ticker: SYY, DividendRate: 0.027817002\n",
            "Ticker: TMUS, DividendRate: 0.0\n",
            "Ticker: TROW, DividendRate: 0.04438331\n",
            "Ticker: TTWO, DividendRate: 0.0\n",
            "Ticker: TPR, DividendRate: 0.03951268\n",
            "Ticker: TRGP, DividendRate: 0.019845903\n",
            "Ticker: TGT, DividendRate: 0.036199097\n",
            "Ticker: TEL, DividendRate: 0.017878238\n",
            "Ticker: TDY, DividendRate: 0.0\n",
            "Ticker: TFX, DividendRate: 0.00643726\n",
            "Ticker: TER, DividendRate: 0.0045473333\n",
            "Ticker: TSLA, DividendRate: 0.0\n",
            "Ticker: TXN, DividendRate: 0.029908493\n",
            "Ticker: TXT, DividendRate: 0.0010508341\n",
            "Ticker: TMO, DividendRate: 0.0025604158\n",
            "Ticker: TJX, DividendRate: 0.013650206\n",
            "Ticker: TSCO, DividendRate: 0.018616641\n",
            "Ticker: TT, DividendRate: 0.013940019\n",
            "Ticker: TDG, DividendRate: 0.0\n",
            "Ticker: TRV, DividendRate: 0.022715012\n",
            "Ticker: TRMB, DividendRate: 0.0\n",
            "Ticker: TFC, DividendRate: 0.0725497\n",
            "Ticker: TYL, DividendRate: 0.0\n",
            "Ticker: TSN, DividendRate: 0.0085343225\n",
            "Ticker: USB, DividendRate: 0.055251796\n",
            "Ticker: UDR, DividendRate: 0.04217185\n",
            "Ticker: ULTA, DividendRate: 0.0\n",
            "Ticker: UNP, DividendRate: 0.024395965\n",
            "Ticker: UAL, DividendRate: 0.0\n",
            "Ticker: UPS, DividendRate: 0.039636455\n",
            "Ticker: URI, DividendRate: 0.0065252855\n",
            "Ticker: UNH, DividendRate: 0.014051763\n",
            "Ticker: UHS, DividendRate: 0.0062779565\n",
            "Ticker: VLO, DividendRate: 0.02734482\n",
            "Ticker: VTR, DividendRate: 0.04119936\n",
            "Ticker: VRSN, DividendRate: 0.0\n",
            "Ticker: VRSK, DividendRate: 0.0052798307\n",
            "Ticker: VZ, DividendRate: 0.07784074\n",
            "Ticker: VRTX, DividendRate: 0.0\n",
            "Ticker: VFC, DividendRate: 0.09290248\n",
            "Ticker: VTRS, DividendRate: 0.048879836\n",
            "Ticker: VICI, DividendRate: 0.05056726\n",
            "Ticker: V, DividendRate: 0.0073571485\n",
            "Ticker: VMC, DividendRate: 0.007841655\n",
            "Ticker: WAB, DividendRate: 0.005919896\n",
            "Ticker: WBA, DividendRate: 0.086525455\n",
            "Ticker: WMT, DividendRate: 0.013829397\n",
            "Ticker: WBD, DividendRate: 0.0\n",
            "Ticker: WM, DividendRate: 0.01689295\n",
            "Ticker: WAT, DividendRate: 0.0\n",
            "Ticker: WEC, DividendRate: 0.03478311\n",
            "Ticker: WFC, DividendRate: 0.027630672\n",
            "Ticker: WELL, DividendRate: 0.02877698\n",
            "Ticker: WST, DividendRate: 0.0019006588\n",
            "Ticker: WDC, DividendRate: 0.0\n",
            "Ticker: WRK, DividendRate: 0.029419815\n",
            "Ticker: WY, DividendRate: 0.022952853\n",
            "Ticker: WHR, DividendRate: 0.05108743\n",
            "Ticker: WMB, DividendRate: 0.050682545\n",
            "Ticker: WTW, DividendRate: 0.016030716\n",
            "Ticker: GWW, DividendRate: 0.010118044\n",
            "Ticker: WYNN, DividendRate: 0.0025717518\n",
            "Ticker: XEL, DividendRate: 0.03474737\n",
            "Ticker: XYL, DividendRate: 0.01319648\n",
            "Ticker: YUM, DividendRate: 0.009210629\n",
            "Ticker: ZBRA, DividendRate: 0.0\n",
            "Ticker: ZBH, DividendRate: 0.007866918\n",
            "Ticker: ZION, DividendRate: 0.04532891\n",
            "Ticker: ZTS, DividendRate: 0.007792931\n"
          ]
        }
      ]
    },
    {
      "cell_type": "code",
      "source": [
        "stock_data['Dividend'] = dividends"
      ],
      "metadata": {
        "id": "keZ_LHC72UQ3"
      },
      "execution_count": null,
      "outputs": []
    },
    {
      "cell_type": "code",
      "source": [
        "no_dividend_shares = stock_data.loc[stock_data['Dividend'] == 0].count()\n",
        "dividend_shares = stock_data.loc[stock_data['Dividend'] > 0].count()\n",
        "\n",
        "print(f'Number of shares does not have Dividend: {no_dividend_shares[1]}')\n",
        "print(f'Number of shares does have Dividend: {dividend_shares[1]}')"
      ],
      "metadata": {
        "colab": {
          "base_uri": "https://localhost:8080/"
        },
        "id": "3JvqiBJL3BbS",
        "outputId": "8489c6fe-eea2-466b-d3dd-3dbd9df0d544"
      },
      "execution_count": null,
      "outputs": [
        {
          "output_type": "stream",
          "name": "stdout",
          "text": [
            "Number of shares does not have Dividend: 102\n",
            "Number of shares does have Dividend: 401\n"
          ]
        }
      ]
    },
    {
      "cell_type": "code",
      "source": [
        "stock_data_dividend = stock_data.loc[stock_data['Dividend'] > 0]"
      ],
      "metadata": {
        "id": "LYVmbzKZ-1P_"
      },
      "execution_count": null,
      "outputs": []
    },
    {
      "cell_type": "code",
      "source": [
        "px.scatter(stock_data_dividend,\n",
        "           x='Volatility',\n",
        "           y='Return',\n",
        "           hover_data=['Sector'],\n",
        "           hover_name='Symbol',\n",
        "           title='S&P 500 dividend stocks by Volatility/Return',\n",
        "           color='Ratio',\n",
        "           width=750,\n",
        "           height=500,\n",
        "           template='plotly_dark'\n",
        "           ).update_layout(title_x=0.5)"
      ],
      "metadata": {
        "colab": {
          "base_uri": "https://localhost:8080/",
          "height": 517
        },
        "id": "4G4LuKLx_qsK",
        "outputId": "7b89894c-a3c6-446a-9fc0-8792192fdf7b"
      },
      "execution_count": null,
      "outputs": [
        {
          "output_type": "display_data",
          "data": {
            "text/html": [
              "<html>\n",
              "<head><meta charset=\"utf-8\" /></head>\n",
              "<body>\n",
              "    <div>            <script src=\"https://cdnjs.cloudflare.com/ajax/libs/mathjax/2.7.5/MathJax.js?config=TeX-AMS-MML_SVG\"></script><script type=\"text/javascript\">if (window.MathJax && window.MathJax.Hub && window.MathJax.Hub.Config) {window.MathJax.Hub.Config({SVG: {font: \"STIX-Web\"}});}</script>                <script type=\"text/javascript\">window.PlotlyConfig = {MathJaxConfig: 'local'};</script>\n",
              "        <script charset=\"utf-8\" src=\"https://cdn.plot.ly/plotly-2.24.1.min.js\"></script>                <div id=\"7c9ab768-a02a-44a0-add5-6e5dbd776918\" class=\"plotly-graph-div\" style=\"height:500px; width:750px;\"></div>            <script type=\"text/javascript\">                                    window.PLOTLYENV=window.PLOTLYENV || {};                                    if (document.getElementById(\"7c9ab768-a02a-44a0-add5-6e5dbd776918\")) {                    Plotly.newPlot(                        \"7c9ab768-a02a-44a0-add5-6e5dbd776918\",                        [{\"customdata\":[[\"Industrials\"],[\"Industrials\"],[\"Health Care\"],[\"Health Care\"],[\"Information Technology\"],[\"Communication Services\"],[\"Consumer Staples\"],[\"Industrials\"],[\"Utilities\"],[\"Financials\"],[\"Health Care\"],[\"Materials\"],[\"Materials\"],[\"Real Estate\"],[\"Industrials\"],[\"Utilities\"],[\"Financials\"],[\"Consumer Staples\"],[\"Materials\"],[\"Utilities\"],[\"Utilities\"],[\"Financials\"],[\"Financials\"],[\"Real Estate\"],[\"Utilities\"],[\"Financials\"],[\"Industrials\"],[\"Health Care\"],[\"Information Technology\"],[\"Information Technology\"],[\"Financials\"],[\"Energy\"],[\"Information Technology\"],[\"Information Technology\"],[\"Financials\"],[\"Financials\"],[\"Communication Services\"],[\"Utilities\"],[\"Real Estate\"],[\"Materials\"],[\"Energy\"],[\"Materials\"],[\"Financials\"],[\"Consumer Discretionary\"],[\"Health Care\"],[\"Health Care\"],[\"Financials\"],[\"Consumer Discretionary\"],[\"Health Care\"],[\"Financials\"],[\"Financials\"],[\"Financials\"],[\"Consumer Discretionary\"],[\"Real Estate\"],[\"Health Care\"],[\"Information Technology\"],[\"Industrials\"],[\"Financials\"],[\"Consumer Staples\"],[\"Consumer Staples\"],[\"Industrials\"],[\"Real Estate\"],[\"Consumer Staples\"],[\"Financials\"],[\"Health Care\"],[\"Industrials\"],[\"Industrials\"],[\"Financials\"],[\"Information Technology\"],[\"Materials\"],[\"Health Care\"],[\"Utilities\"],[\"Materials\"],[\"Financials\"],[\"Energy\"],[\"Financials\"],[\"Consumer Staples\"],[\"Health Care\"],[\"Financials\"],[\"Industrials\"],[\"Information Technology\"],[\"Financials\"],[\"Financials\"],[\"Consumer Staples\"],[\"Financials\"],[\"Utilities\"],[\"Consumer Staples\"],[\"Information Technology\"],[\"Consumer Staples\"],[\"Communication Services\"],[\"Financials\"],[\"Consumer Staples\"],[\"Energy\"],[\"Utilities\"],[\"Consumer Staples\"],[\"Utilities\"],[\"Health Care\"],[\"Information Technology\"],[\"Materials\"],[\"Consumer Staples\"],[\"Energy\"],[\"Real Estate\"],[\"Industrials\"],[\"Industrials\"],[\"Health Care\"],[\"Consumer Discretionary\"],[\"Health Care\"],[\"Consumer Discretionary\"],[\"Industrials\"],[\"Industrials\"],[\"Health Care\"],[\"Energy\"],[\"Energy\"],[\"Real Estate\"],[\"Financials\"],[\"Consumer Staples\"],[\"Utilities\"],[\"Consumer Discretionary\"],[\"Industrials\"],[\"Materials\"],[\"Utilities\"],[\"Utilities\"],[\"Materials\"],[\"Materials\"],[\"Industrials\"],[\"Consumer Discretionary\"],[\"Materials\"],[\"Utilities\"],[\"Communication Services\"],[\"Health Care\"],[\"Health Care\"],[\"Industrials\"],[\"Utilities\"],[\"Energy\"],[\"Energy\"],[\"Industrials\"],[\"Real Estate\"],[\"Real Estate\"],[\"Real Estate\"],[\"Consumer Staples\"],[\"Financials\"],[\"Utilities\"],[\"Utilities\"],[\"Utilities\"],[\"Industrials\"],[\"Real Estate\"],[\"Energy\"],[\"Financials\"],[\"Industrials\"],[\"Real Estate\"],[\"Industrials\"],[\"Financials\"],[\"Utilities\"],[\"Financials\"],[\"Materials\"],[\"Consumer Discretionary\"],[\"Industrials\"],[\"Communication Services\"],[\"Communication Services\"],[\"Financials\"],[\"Materials\"],[\"Consumer Discretionary\"],[\"Health Care\"],[\"Information Technology\"],[\"Industrials\"],[\"Industrials\"],[\"Consumer Staples\"],[\"Consumer Discretionary\"],[\"Consumer Discretionary\"],[\"Health Care\"],[\"Financials\"],[\"Financials\"],[\"Financials\"],[\"Energy\"],[\"Financials\"],[\"Consumer Discretionary\"],[\"Health Care\"],[\"Real Estate\"],[\"Consumer Staples\"],[\"Energy\"],[\"Information Technology\"],[\"Consumer Discretionary\"],[\"Consumer Discretionary\"],[\"Industrials\"],[\"Consumer Staples\"],[\"Real Estate\"],[\"Industrials\"],[\"Information Technology\"],[\"Health Care\"],[\"Financials\"],[\"Industrials\"],[\"Information Technology\"],[\"Industrials\"],[\"Industrials\"],[\"Industrials\"],[\"Information Technology\"],[\"Financials\"],[\"Materials\"],[\"Materials\"],[\"Communication Services\"],[\"Information Technology\"],[\"Financials\"],[\"Real Estate\"],[\"Real Estate\"],[\"Industrials\"],[\"Financials\"],[\"Industrials\"],[\"Health Care\"],[\"Industrials\"],[\"Financials\"],[\"Information Technology\"],[\"Consumer Staples\"],[\"Consumer Staples\"],[\"Financials\"],[\"Consumer Staples\"],[\"Real Estate\"],[\"Energy\"],[\"Information Technology\"],[\"Consumer Staples\"],[\"Consumer Staples\"],[\"Industrials\"],[\"Health Care\"],[\"Information Technology\"],[\"Consumer Staples\"],[\"Consumer Discretionary\"],[\"Industrials\"],[\"Consumer Discretionary\"],[\"Materials\"],[\"Consumer Discretionary\"],[\"Industrials\"],[\"Financials\"],[\"Consumer Discretionary\"],[\"Materials\"],[\"Financials\"],[\"Energy\"],[\"Energy\"],[\"Financials\"],[\"Consumer Discretionary\"],[\"Financials\"],[\"Materials\"],[\"Industrials\"],[\"Financials\"],[\"Consumer Staples\"],[\"Consumer Discretionary\"],[\"Health Care\"],[\"Health Care\"],[\"Health Care\"],[\"Financials\"],[\"Consumer Discretionary\"],[\"Information Technology\"],[\"Information Technology\"],[\"Information Technology\"],[\"Real Estate\"],[\"Consumer Staples\"],[\"Consumer Staples\"],[\"Information Technology\"],[\"Financials\"],[\"Financials\"],[\"Materials\"],[\"Information Technology\"],[\"Financials\"],[\"Financials\"],[\"Information Technology\"],[\"Materials\"],[\"Communication Services\"],[\"Communication Services\"],[\"Utilities\"],[\"Consumer Discretionary\"],[\"Utilities\"],[\"Industrials\"],[\"Industrials\"],[\"Financials\"],[\"Industrials\"],[\"Utilities\"],[\"Materials\"],[\"Information Technology\"],[\"Information Technology\"],[\"Energy\"],[\"Industrials\"],[\"Communication Services\"],[\"Energy\"],[\"Information Technology\"],[\"Health Care\"],[\"Industrials\"],[\"Industrials\"],[\"Materials\"],[\"Communication Services\"],[\"Industrials\"],[\"Industrials\"],[\"Information Technology\"],[\"Industrials\"],[\"Consumer Staples\"],[\"Health Care\"],[\"Utilities\"],[\"Consumer Staples\"],[\"Energy\"],[\"Utilities\"],[\"Energy\"],[\"Financials\"],[\"Consumer Discretionary\"],[\"Materials\"],[\"Utilities\"],[\"Financials\"],[\"Consumer Staples\"],[\"Financials\"],[\"Real Estate\"],[\"Financials\"],[\"Utilities\"],[\"Real Estate\"],[\"Consumer Discretionary\"],[\"Industrials\"],[\"Information Technology\"],[\"Health Care\"],[\"Consumer Discretionary\"],[\"Financials\"],[\"Industrials\"],[\"Real Estate\"],[\"Real Estate\"],[\"Financials\"],[\"Industrials\"],[\"Health Care\"],[\"Health Care\"],[\"Industrials\"],[\"Industrials\"],[\"Industrials\"],[\"Information Technology\"],[\"Consumer Discretionary\"],[\"Financials\"],[\"Real Estate\"],[\"Energy\"],[\"Information Technology\"],[\"Materials\"],[\"Utilities\"],[\"Materials\"],[\"Real Estate\"],[\"Information Technology\"],[\"Consumer Staples\"],[\"Industrials\"],[\"Utilities\"],[\"Industrials\"],[\"Industrials\"],[\"Consumer Discretionary\"],[\"Financials\"],[\"Materials\"],[\"Health Care\"],[\"Health Care\"],[\"Financials\"],[\"Consumer Staples\"],[\"Financials\"],[\"Consumer Discretionary\"],[\"Energy\"],[\"Consumer Staples\"],[\"Information Technology\"],[\"Health Care\"],[\"Information Technology\"],[\"Information Technology\"],[\"Industrials\"],[\"Health Care\"],[\"Consumer Discretionary\"],[\"Consumer Discretionary\"],[\"Industrials\"],[\"Financials\"],[\"Financials\"],[\"Consumer Staples\"],[\"Financials\"],[\"Real Estate\"],[\"Industrials\"],[\"Industrials\"],[\"Industrials\"],[\"Health Care\"],[\"Health Care\"],[\"Energy\"],[\"Real Estate\"],[\"Industrials\"],[\"Communication Services\"],[\"Consumer Discretionary\"],[\"Health Care\"],[\"Real Estate\"],[\"Financials\"],[\"Materials\"],[\"Industrials\"],[\"Consumer Staples\"],[\"Consumer Staples\"],[\"Industrials\"],[\"Utilities\"],[\"Financials\"],[\"Real Estate\"],[\"Health Care\"],[\"Materials\"],[\"Real Estate\"],[\"Consumer Discretionary\"],[\"Energy\"],[\"Financials\"],[\"Industrials\"],[\"Consumer Discretionary\"],[\"Utilities\"],[\"Industrials\"],[\"Consumer Discretionary\"],[\"Health Care\"],[\"Financials\"],[\"Health Care\"]],\"hovertemplate\":\"\\u003cb\\u003e%{hovertext}\\u003c\\u002fb\\u003e\\u003cbr\\u003e\\u003cbr\\u003eVolatility=%{x}\\u003cbr\\u003eReturn=%{y}\\u003cbr\\u003eSector=%{customdata[0]}\\u003cbr\\u003eRatio=%{marker.color}\\u003cextra\\u003e\\u003c\\u002fextra\\u003e\",\"hovertext\":[\"MMM\",\"AOS\",\"ABT\",\"ABBV\",\"ACN\",\"ATVI\",\"ADM\",\"ADP\",\"AES\",\"AFL\",\"A\",\"APD\",\"ALB\",\"ARE\",\"ALLE\",\"LNT\",\"ALL\",\"MO\",\"AMCR\",\"AEE\",\"AEP\",\"AXP\",\"AIG\",\"AMT\",\"AWK\",\"AMP\",\"AME\",\"AMGN\",\"APH\",\"ADI\",\"AON\",\"APA\",\"AAPL\",\"AMAT\",\"AJG\",\"AIZ\",\"T\",\"ATO\",\"AVB\",\"AVY\",\"BKR\",\"BALL\",\"BAC\",\"BBWI\",\"BAX\",\"BDX\",\"WRB\",\"BBY\",\"TECH\",\"BLK\",\"BX\",\"BK\",\"BWA\",\"BXP\",\"BMY\",\"AVGO\",\"BR\",\"BRO\",\"BF-B\",\"BG\",\"CHRW\",\"CPT\",\"CPB\",\"COF\",\"CAH\",\"CARR\",\"CAT\",\"CBOE\",\"CDW\",\"CE\",\"COR\",\"CNP\",\"CF\",\"SCHW\",\"CVX\",\"CB\",\"CHD\",\"CI\",\"CINF\",\"CTAS\",\"CSCO\",\"C\",\"CFG\",\"CLX\",\"CME\",\"CMS\",\"KO\",\"CTSH\",\"CL\",\"CMCSA\",\"CMA\",\"CAG\",\"COP\",\"ED\",\"STZ\",\"CEG\",\"COO\",\"GLW\",\"CTVA\",\"COST\",\"CTRA\",\"CCI\",\"CSX\",\"CMI\",\"CVS\",\"DHI\",\"DHR\",\"DRI\",\"DE\",\"DAL\",\"XRAY\",\"DVN\",\"FANG\",\"DLR\",\"DFS\",\"DG\",\"D\",\"DPZ\",\"DOV\",\"DOW\",\"DTE\",\"DUK\",\"DD\",\"EMN\",\"ETN\",\"EBAY\",\"ECL\",\"EIX\",\"EA\",\"ELV\",\"LLY\",\"EMR\",\"ETR\",\"EOG\",\"EQT\",\"EFX\",\"EQIX\",\"EQR\",\"ESS\",\"EL\",\"EG\",\"EVRG\",\"ES\",\"EXC\",\"EXPD\",\"EXR\",\"XOM\",\"FDS\",\"FAST\",\"FRT\",\"FDX\",\"FITB\",\"FE\",\"FIS\",\"FMC\",\"F\",\"FTV\",\"FOXA\",\"FOX\",\"BEN\",\"FCX\",\"GRMN\",\"GEHC\",\"GEN\",\"GD\",\"GE\",\"GIS\",\"GM\",\"GPC\",\"GILD\",\"GL\",\"GPN\",\"GS\",\"HAL\",\"HIG\",\"HAS\",\"HCA\",\"PEAK\",\"HSY\",\"HES\",\"HPE\",\"HLT\",\"HD\",\"HON\",\"HRL\",\"HST\",\"HWM\",\"HPQ\",\"HUM\",\"HBAN\",\"HII\",\"IBM\",\"IEX\",\"ITW\",\"IR\",\"INTC\",\"ICE\",\"IFF\",\"IP\",\"IPG\",\"INTU\",\"IVZ\",\"INVH\",\"IRM\",\"JBHT\",\"JKHY\",\"J\",\"JNJ\",\"JCI\",\"JPM\",\"JNPR\",\"K\",\"KDP\",\"KEY\",\"KMB\",\"KIM\",\"KMI\",\"KLAC\",\"KHC\",\"KR\",\"LHX\",\"LH\",\"LRCX\",\"LW\",\"LVS\",\"LDOS\",\"LEN\",\"LIN\",\"LKQ\",\"LMT\",\"L\",\"LOW\",\"LYB\",\"MTB\",\"MRO\",\"MPC\",\"MKTX\",\"MAR\",\"MMC\",\"MLM\",\"MAS\",\"MA\",\"MKC\",\"MCD\",\"MCK\",\"MDT\",\"MRK\",\"MET\",\"MGM\",\"MCHP\",\"MU\",\"MSFT\",\"MAA\",\"TAP\",\"MDLZ\",\"MPWR\",\"MCO\",\"MS\",\"MOS\",\"MSI\",\"MSCI\",\"NDAQ\",\"NTAP\",\"NEM\",\"NWSA\",\"NWS\",\"NEE\",\"NKE\",\"NI\",\"NDSN\",\"NSC\",\"NTRS\",\"NOC\",\"NRG\",\"NUE\",\"NVDA\",\"NXPI\",\"OXY\",\"ODFL\",\"OMC\",\"OKE\",\"ORCL\",\"OGN\",\"OTIS\",\"PCAR\",\"PKG\",\"PARA\",\"PH\",\"PAYX\",\"PAYC\",\"PNR\",\"PEP\",\"PFE\",\"PCG\",\"PM\",\"PSX\",\"PNW\",\"PXD\",\"PNC\",\"POOL\",\"PPG\",\"PPL\",\"PFG\",\"PG\",\"PGR\",\"PLD\",\"PRU\",\"PEG\",\"PSA\",\"PHM\",\"PWR\",\"QCOM\",\"DGX\",\"RL\",\"RJF\",\"RTX\",\"O\",\"REG\",\"RF\",\"RSG\",\"RMD\",\"RVTY\",\"RHI\",\"ROK\",\"ROL\",\"ROP\",\"ROST\",\"SPGI\",\"SBAC\",\"SLB\",\"STX\",\"SEE\",\"SRE\",\"SHW\",\"SPG\",\"SWKS\",\"SJM\",\"SNA\",\"SO\",\"LUV\",\"SWK\",\"SBUX\",\"STT\",\"STLD\",\"STE\",\"SYK\",\"SYF\",\"SYY\",\"TROW\",\"TPR\",\"TRGP\",\"TGT\",\"TEL\",\"TFX\",\"TER\",\"TXN\",\"TXT\",\"TMO\",\"TJX\",\"TSCO\",\"TT\",\"TRV\",\"TFC\",\"TSN\",\"USB\",\"UDR\",\"UNP\",\"UPS\",\"URI\",\"UNH\",\"UHS\",\"VLO\",\"VTR\",\"VRSK\",\"VZ\",\"VFC\",\"VTRS\",\"VICI\",\"V\",\"VMC\",\"WAB\",\"WBA\",\"WMT\",\"WM\",\"WEC\",\"WFC\",\"WELL\",\"WST\",\"WRK\",\"WY\",\"WHR\",\"WMB\",\"WTW\",\"GWW\",\"WYNN\",\"XEL\",\"XYL\",\"YUM\",\"ZBH\",\"ZION\",\"ZTS\"],\"legendgroup\":\"\",\"marker\":{\"color\":[-1.92,-0.608,2.1,-0.293,1.525,-0.91,1.405,1.986,0.265,-0.554,0.124,-0.761,0.468,-0.105,1.618,1.023,-0.754,-1.129,0.988,1.185,-0.278,0.451,-1.266,1.763,1.435,1.099,0.824,0.546,-0.07,-0.336,0.041,-1.407,-0.006,0.946,-1.176,0.484,0.229,0.224,-0.433,-0.788,-0.995,0.326,-0.594,-0.293,0.725,-0.717,-0.697,1.885,-0.679,2.052,1.637,1.541,1.514,-0.062,-3.048,0.878,0.888,0.531,-0.348,1.986,-0.291,0.456,1.787,0.566,0.402,-1.443,-0.273,0.867,-0.083,-0.639,-0.041,1.181,1.413,-0.957,-0.371,-0.138,0.248,0.596,1.315,-1.948,2.548,-0.685,-0.443,1.822,1.024,0.097,-0.403,1.158,-0.038,0.475,0.721,-0.976,-1.337,-0.292,0.312,-1.677,0.078,-0.457,-0.703,-1.512,0.992,-0.344,-0.811,0.978,-1.262,0.163,-0.4,0.531,-0.922,-0.832,1.18,-1.001,-0.68,-0.187,-0.173,-0.546,0.378,0.289,-2.293,-0.42,-0.696,0.104,-1.554,-0.689,0.548,0.407,0.713,-2.028,1.594,-0.598,-2.162,-1.226,-0.488,0.433,-0.676,-0.147,0.448,0.843,-0.562,0.282,-1.094,0.712,1.156,2.618,-0.902,1.915,-2.91,0.02,-0.01,0.65,0.89,-0.895,0.434,-0.568,-0.672,-0.805,-0.031,2.032,2.059,-0.873,0.68,0.527,1.095,0.13,-1.15,0.1,-0.156,0.532,-0.217,-0.433,1.052,-0.875,-0.643,0.011,-0.32,-1.437,-0.533,-0.026,-0.081,0.953,0.082,0.642,-0.679,-1.754,-1.093,-1.82,0.898,1.437,0.928,-0.516,-0.783,-0.2,0.96,0.431,-1.177,0.537,-0.919,-0.73,-0.662,-0.718,0.441,-0.535,-1.087,-2.103,-0.513,0.339,-0.868,-0.77,0.678,-0.834,0.037,-1.843,-0.363,1.025,-0.983,1.391,-0.764,2.59,-0.676,-0.38,0.402,1.204,-1.131,-0.515,-0.011,0.463,0.556,0.97,1.522,0.417,0.354,0.099,0.849,0.964,0.523,0.269,-0.382,2.801,-0.029,-0.915,-0.393,-1.397,1.349,-1.24,0.788,-0.558,0.654,1.285,-0.244,-2.023,-0.004,-0.018,0.4,-0.215,-1.663,0.815,-1.162,-0.248,-1.473,-1.349,0.693,0.019,-1.775,1.784,0.951,-1.632,1.003,-1.158,0.172,2.832,1.58,0.268,0.144,-1.474,1.197,-1.801,-0.588,1.272,0.885,0.009,2.061,-0.907,-0.331,-0.091,1.43,0.675,-0.314,0.004,-2.653,-0.669,0.251,1.244,2.238,0.718,0.342,-0.473,-1.291,1.687,0.353,-2.452,0.27,0.046,-1.339,-0.023,-0.195,0.867,0.771,2.123,-0.884,-0.247,2.053,0.06,1.005,-0.925,-0.068,-0.185,0.005,-1.655,0.257,1.094,-0.191,1.555,-1.727,-1.006,-1.562,-0.783,-1.24,-2.016,-1.715,0.35,0.335,1.704,-0.011,0.601,-0.511,0.626,-0.272,-0.589,1.453,0.148,0.011,-0.089,0.665,-0.978,-1.294,1.54,1.807,-0.989,0.086,-1.108,-1.507,0.925,-0.795,-1.341,0.877,-0.349,-0.925,-0.394,2.099,-0.928,0.722,-0.574,1.171,-0.105,-0.784,-0.906,-0.057,0.639,-1.063,0.871,-1.759,-0.338,0.392,2.15,-0.348,-0.537,-1.08,-1.495,0.411,-1.091,-2.555,-0.243,0.53,1.193,-0.658,0.269,0.521,1.281,0.052,2.455,-1.115,0.249,-0.139,-1.608,0.39,0.325,-1.013,-0.211,-0.441,-0.727,0.89],\"coloraxis\":\"coloraxis\",\"symbol\":\"circle\"},\"mode\":\"markers\",\"name\":\"\",\"orientation\":\"v\",\"showlegend\":false,\"x\":[0.246,0.35,0.21,0.208,0.44,0.197,0.252,0.329,0.265,0.22,0.193,0.187,0.207,0.286,0.176,0.27,0.431,0.286,0.35,0.483,0.201,0.271,0.245,0.339,0.47,0.274,0.182,0.283,0.401,0.222,0.295,0.289,0.183,0.26,0.189,0.387,0.27,0.206,0.319,0.307,0.258,0.177,0.256,0.193,0.308,0.2,0.365,0.256,0.205,0.2,0.14,0.197,0.339,0.387,0.163,0.204,0.301,0.286,0.213,0.178,0.28,0.348,0.286,0.269,0.313,0.422,0.267,0.302,0.279,0.161,0.242,0.232,0.278,0.191,0.182,0.219,0.297,0.169,0.167,0.204,0.208,0.216,0.355,0.293,0.186,0.268,0.214,0.178,0.733,0.301,0.25,0.243,0.257,0.226,0.43,0.213,0.289,0.282,0.37,0.183,0.273,0.233,0.271,0.326,0.325,0.239,0.221,0.311,0.179,0.183,0.311,0.36,0.369,0.225,0.281,0.176,0.267,0.207,0.352,0.262,0.287,0.228,0.592,0.475,0.24,0.209,0.377,0.207,0.272,0.199,0.462,0.196,0.181,0.239,0.291,0.347,0.308,0.21,0.345,0.211,0.196,0.219,0.222,0.239,0.393,0.276,0.285,0.235,0.525,0.464,0.22,0.163,0.301,0.322,0.197,0.227,0.606,0.311,0.309,0.225,0.321,0.187,0.269,0.386,0.397,0.203,0.223,0.322,0.23,0.193,0.224,0.189,0.186,0.279,0.266,0.181,0.221,0.286,0.279,0.224,0.16,0.181,0.212,0.45,0.449,0.224,0.388,0.308,0.213,0.279,0.304,0.243,0.248,0.285,0.307,0.252,0.268,0.302,0.171,0.239,0.228,0.159,0.644,0.161,0.249,0.357,0.148,0.178,0.389,0.116,0.198,0.198,0.28,0.261,0.208,0.191,0.203,0.274,0.165,0.191,0.242,0.37,0.298,0.292,0.18,0.234,0.329,0.161,0.247,0.268,0.13,0.33,0.202,0.201,0.165,0.213,0.297,0.422,0.306,0.347,0.224,0.359,0.161,0.285,0.195,0.163,0.266,0.316,0.196,0.426,0.364,0.244,0.309,0.408,0.26,0.368,0.253,0.27,0.218,0.303,0.368,0.179,0.233,0.323,0.284,0.213,0.242,0.355,0.334,0.511,0.217,0.286,0.287,0.168,0.334,0.366,0.259,0.296,0.196,0.197,0.395,0.604,0.401,0.214,0.248,0.186,0.184,0.136,0.191,0.284,0.327,0.272,0.294,0.262,0.233,0.162,0.322,0.283,0.196,0.337,0.32,0.245,0.173,0.265,0.226,0.297,0.205,0.234,0.385,0.334,0.358,0.222,0.245,0.337,0.282,0.289,0.278,0.344,0.225,0.158,0.194,0.159,0.244,0.262,0.294,0.214,0.462,0.33,0.19,0.351,0.228,0.277,0.179,0.219,0.185,0.272,0.399,0.341,0.169,0.344,0.332,0.335,0.22,0.177,0.283,0.218,0.217,0.299,0.323,0.274,0.257,0.159,0.216,0.359,0.242,0.287,0.214,0.231,0.549,0.306,0.243,0.238,0.27,0.219,0.266,0.279,0.247,0.385,0.413,0.155,0.437,0.188,0.338,0.197,0.177,0.258,0.249,0.222,0.213,0.277,0.285,0.489,0.369,0.244,0.281,0.151,0.201,0.131,0.339,0.284,0.234,0.226,0.297,0.188,0.257,0.275,0.241,0.16,0.424,0.707,0.245],\"xaxis\":\"x\",\"y\":[-0.473,-0.213,0.441,-0.061,0.671,-0.179,0.354,0.654,0.07,-0.122,0.024,-0.142,0.097,-0.03,0.285,0.277,-0.325,-0.323,0.346,0.572,-0.056,0.122,-0.31,0.598,0.675,0.301,0.15,0.155,-0.028,-0.075,0.012,-0.407,-0.001,0.246,-0.222,0.187,0.062,0.046,-0.138,-0.242,-0.257,0.058,-0.152,-0.057,0.224,-0.144,-0.254,0.482,-0.139,0.411,0.229,0.304,0.513,-0.024,-0.498,0.179,0.267,0.152,-0.074,0.353,-0.082,0.159,0.51,0.152,0.126,-0.609,-0.073,0.262,-0.023,-0.103,-0.01,0.274,0.393,-0.183,-0.067,-0.03,0.074,0.1,0.219,-0.396,0.531,-0.148,-0.158,0.534,0.191,0.026,-0.086,0.206,-0.028,0.143,0.18,-0.238,-0.343,-0.066,0.134,-0.358,0.023,-0.129,-0.26,-0.276,0.271,-0.08,-0.22,0.319,-0.411,0.039,-0.089,0.165,-0.165,-0.152,0.367,-0.361,-0.251,-0.042,-0.049,-0.096,0.101,0.06,-0.807,-0.11,-0.199,0.024,-0.92,-0.327,0.131,0.085,0.269,-0.42,0.433,-0.119,-0.999,-0.241,-0.088,0.103,-0.197,-0.051,0.138,0.177,-0.194,0.059,-0.214,0.156,0.256,0.627,-0.355,0.528,-0.83,0.005,-0.005,0.301,0.195,-0.146,0.131,-0.183,-0.132,-0.183,-0.019,0.632,0.637,-0.196,0.219,0.098,0.294,0.05,-0.457,0.02,-0.035,0.171,-0.05,-0.083,0.236,-0.165,-0.12,0.003,-0.085,-0.261,-0.118,-0.008,-0.023,0.214,0.013,0.117,-0.144,-0.79,-0.491,-0.408,0.348,0.442,0.197,-0.144,-0.238,-0.048,0.238,0.123,-0.361,0.135,-0.246,-0.221,-0.113,-0.172,0.101,-0.085,-0.699,-0.338,-0.128,0.121,-0.128,-0.137,0.264,-0.097,0.007,-0.364,-0.102,0.267,-0.205,0.265,-0.155,0.709,-0.112,-0.073,0.097,0.446,-0.337,-0.15,-0.002,0.108,0.183,0.156,0.375,0.112,0.046,0.033,0.171,0.194,0.086,0.057,-0.113,1.181,-0.009,-0.318,-0.088,-0.501,0.217,-0.353,0.154,-0.091,0.174,0.406,-0.048,-0.862,-0.001,-0.004,0.124,-0.088,-0.433,0.299,-0.294,-0.067,-0.322,-0.409,0.255,0.003,-0.413,0.576,0.27,-0.347,0.243,-0.411,0.058,1.446,0.342,0.077,0.041,-0.248,0.399,-0.659,-0.152,0.377,0.173,0.002,0.814,-0.547,-0.133,-0.02,0.354,0.126,-0.058,0.001,-0.506,-0.19,0.082,0.338,0.658,0.188,0.08,-0.077,-0.416,0.478,0.069,-0.826,0.086,0.011,-0.232,-0.006,-0.044,0.258,0.158,0.496,-0.34,-0.083,0.735,0.013,0.246,-0.312,-0.019,-0.054,0.001,-0.57,0.058,0.173,-0.037,0.248,-0.422,-0.264,-0.459,-0.168,-0.573,-0.666,-0.326,0.123,0.076,0.471,-0.002,0.131,-0.095,0.17,-0.109,-0.201,0.246,0.051,0.004,-0.03,0.146,-0.173,-0.367,0.335,0.393,-0.296,0.028,-0.304,-0.388,0.147,-0.171,-0.481,0.213,-0.1,-0.198,-0.091,1.152,-0.284,0.176,-0.137,0.317,-0.023,-0.208,-0.253,-0.014,0.246,-0.439,0.135,-0.768,-0.064,0.132,0.424,-0.062,-0.139,-0.269,-0.332,0.088,-0.302,-0.728,-0.119,0.196,0.291,-0.185,0.041,0.105,0.168,0.018,0.697,-0.261,0.056,-0.041,-0.303,0.1,0.09,-0.244,-0.034,-0.187,-0.514,0.218],\"yaxis\":\"y\",\"type\":\"scatter\"}],                        {\"template\":{\"data\":{\"barpolar\":[{\"marker\":{\"line\":{\"color\":\"rgb(17,17,17)\",\"width\":0.5},\"pattern\":{\"fillmode\":\"overlay\",\"size\":10,\"solidity\":0.2}},\"type\":\"barpolar\"}],\"bar\":[{\"error_x\":{\"color\":\"#f2f5fa\"},\"error_y\":{\"color\":\"#f2f5fa\"},\"marker\":{\"line\":{\"color\":\"rgb(17,17,17)\",\"width\":0.5},\"pattern\":{\"fillmode\":\"overlay\",\"size\":10,\"solidity\":0.2}},\"type\":\"bar\"}],\"carpet\":[{\"aaxis\":{\"endlinecolor\":\"#A2B1C6\",\"gridcolor\":\"#506784\",\"linecolor\":\"#506784\",\"minorgridcolor\":\"#506784\",\"startlinecolor\":\"#A2B1C6\"},\"baxis\":{\"endlinecolor\":\"#A2B1C6\",\"gridcolor\":\"#506784\",\"linecolor\":\"#506784\",\"minorgridcolor\":\"#506784\",\"startlinecolor\":\"#A2B1C6\"},\"type\":\"carpet\"}],\"choropleth\":[{\"colorbar\":{\"outlinewidth\":0,\"ticks\":\"\"},\"type\":\"choropleth\"}],\"contourcarpet\":[{\"colorbar\":{\"outlinewidth\":0,\"ticks\":\"\"},\"type\":\"contourcarpet\"}],\"contour\":[{\"colorbar\":{\"outlinewidth\":0,\"ticks\":\"\"},\"colorscale\":[[0.0,\"#0d0887\"],[0.1111111111111111,\"#46039f\"],[0.2222222222222222,\"#7201a8\"],[0.3333333333333333,\"#9c179e\"],[0.4444444444444444,\"#bd3786\"],[0.5555555555555556,\"#d8576b\"],[0.6666666666666666,\"#ed7953\"],[0.7777777777777778,\"#fb9f3a\"],[0.8888888888888888,\"#fdca26\"],[1.0,\"#f0f921\"]],\"type\":\"contour\"}],\"heatmapgl\":[{\"colorbar\":{\"outlinewidth\":0,\"ticks\":\"\"},\"colorscale\":[[0.0,\"#0d0887\"],[0.1111111111111111,\"#46039f\"],[0.2222222222222222,\"#7201a8\"],[0.3333333333333333,\"#9c179e\"],[0.4444444444444444,\"#bd3786\"],[0.5555555555555556,\"#d8576b\"],[0.6666666666666666,\"#ed7953\"],[0.7777777777777778,\"#fb9f3a\"],[0.8888888888888888,\"#fdca26\"],[1.0,\"#f0f921\"]],\"type\":\"heatmapgl\"}],\"heatmap\":[{\"colorbar\":{\"outlinewidth\":0,\"ticks\":\"\"},\"colorscale\":[[0.0,\"#0d0887\"],[0.1111111111111111,\"#46039f\"],[0.2222222222222222,\"#7201a8\"],[0.3333333333333333,\"#9c179e\"],[0.4444444444444444,\"#bd3786\"],[0.5555555555555556,\"#d8576b\"],[0.6666666666666666,\"#ed7953\"],[0.7777777777777778,\"#fb9f3a\"],[0.8888888888888888,\"#fdca26\"],[1.0,\"#f0f921\"]],\"type\":\"heatmap\"}],\"histogram2dcontour\":[{\"colorbar\":{\"outlinewidth\":0,\"ticks\":\"\"},\"colorscale\":[[0.0,\"#0d0887\"],[0.1111111111111111,\"#46039f\"],[0.2222222222222222,\"#7201a8\"],[0.3333333333333333,\"#9c179e\"],[0.4444444444444444,\"#bd3786\"],[0.5555555555555556,\"#d8576b\"],[0.6666666666666666,\"#ed7953\"],[0.7777777777777778,\"#fb9f3a\"],[0.8888888888888888,\"#fdca26\"],[1.0,\"#f0f921\"]],\"type\":\"histogram2dcontour\"}],\"histogram2d\":[{\"colorbar\":{\"outlinewidth\":0,\"ticks\":\"\"},\"colorscale\":[[0.0,\"#0d0887\"],[0.1111111111111111,\"#46039f\"],[0.2222222222222222,\"#7201a8\"],[0.3333333333333333,\"#9c179e\"],[0.4444444444444444,\"#bd3786\"],[0.5555555555555556,\"#d8576b\"],[0.6666666666666666,\"#ed7953\"],[0.7777777777777778,\"#fb9f3a\"],[0.8888888888888888,\"#fdca26\"],[1.0,\"#f0f921\"]],\"type\":\"histogram2d\"}],\"histogram\":[{\"marker\":{\"pattern\":{\"fillmode\":\"overlay\",\"size\":10,\"solidity\":0.2}},\"type\":\"histogram\"}],\"mesh3d\":[{\"colorbar\":{\"outlinewidth\":0,\"ticks\":\"\"},\"type\":\"mesh3d\"}],\"parcoords\":[{\"line\":{\"colorbar\":{\"outlinewidth\":0,\"ticks\":\"\"}},\"type\":\"parcoords\"}],\"pie\":[{\"automargin\":true,\"type\":\"pie\"}],\"scatter3d\":[{\"line\":{\"colorbar\":{\"outlinewidth\":0,\"ticks\":\"\"}},\"marker\":{\"colorbar\":{\"outlinewidth\":0,\"ticks\":\"\"}},\"type\":\"scatter3d\"}],\"scattercarpet\":[{\"marker\":{\"colorbar\":{\"outlinewidth\":0,\"ticks\":\"\"}},\"type\":\"scattercarpet\"}],\"scattergeo\":[{\"marker\":{\"colorbar\":{\"outlinewidth\":0,\"ticks\":\"\"}},\"type\":\"scattergeo\"}],\"scattergl\":[{\"marker\":{\"line\":{\"color\":\"#283442\"}},\"type\":\"scattergl\"}],\"scattermapbox\":[{\"marker\":{\"colorbar\":{\"outlinewidth\":0,\"ticks\":\"\"}},\"type\":\"scattermapbox\"}],\"scatterpolargl\":[{\"marker\":{\"colorbar\":{\"outlinewidth\":0,\"ticks\":\"\"}},\"type\":\"scatterpolargl\"}],\"scatterpolar\":[{\"marker\":{\"colorbar\":{\"outlinewidth\":0,\"ticks\":\"\"}},\"type\":\"scatterpolar\"}],\"scatter\":[{\"marker\":{\"line\":{\"color\":\"#283442\"}},\"type\":\"scatter\"}],\"scatterternary\":[{\"marker\":{\"colorbar\":{\"outlinewidth\":0,\"ticks\":\"\"}},\"type\":\"scatterternary\"}],\"surface\":[{\"colorbar\":{\"outlinewidth\":0,\"ticks\":\"\"},\"colorscale\":[[0.0,\"#0d0887\"],[0.1111111111111111,\"#46039f\"],[0.2222222222222222,\"#7201a8\"],[0.3333333333333333,\"#9c179e\"],[0.4444444444444444,\"#bd3786\"],[0.5555555555555556,\"#d8576b\"],[0.6666666666666666,\"#ed7953\"],[0.7777777777777778,\"#fb9f3a\"],[0.8888888888888888,\"#fdca26\"],[1.0,\"#f0f921\"]],\"type\":\"surface\"}],\"table\":[{\"cells\":{\"fill\":{\"color\":\"#506784\"},\"line\":{\"color\":\"rgb(17,17,17)\"}},\"header\":{\"fill\":{\"color\":\"#2a3f5f\"},\"line\":{\"color\":\"rgb(17,17,17)\"}},\"type\":\"table\"}]},\"layout\":{\"annotationdefaults\":{\"arrowcolor\":\"#f2f5fa\",\"arrowhead\":0,\"arrowwidth\":1},\"autotypenumbers\":\"strict\",\"coloraxis\":{\"colorbar\":{\"outlinewidth\":0,\"ticks\":\"\"}},\"colorscale\":{\"diverging\":[[0,\"#8e0152\"],[0.1,\"#c51b7d\"],[0.2,\"#de77ae\"],[0.3,\"#f1b6da\"],[0.4,\"#fde0ef\"],[0.5,\"#f7f7f7\"],[0.6,\"#e6f5d0\"],[0.7,\"#b8e186\"],[0.8,\"#7fbc41\"],[0.9,\"#4d9221\"],[1,\"#276419\"]],\"sequential\":[[0.0,\"#0d0887\"],[0.1111111111111111,\"#46039f\"],[0.2222222222222222,\"#7201a8\"],[0.3333333333333333,\"#9c179e\"],[0.4444444444444444,\"#bd3786\"],[0.5555555555555556,\"#d8576b\"],[0.6666666666666666,\"#ed7953\"],[0.7777777777777778,\"#fb9f3a\"],[0.8888888888888888,\"#fdca26\"],[1.0,\"#f0f921\"]],\"sequentialminus\":[[0.0,\"#0d0887\"],[0.1111111111111111,\"#46039f\"],[0.2222222222222222,\"#7201a8\"],[0.3333333333333333,\"#9c179e\"],[0.4444444444444444,\"#bd3786\"],[0.5555555555555556,\"#d8576b\"],[0.6666666666666666,\"#ed7953\"],[0.7777777777777778,\"#fb9f3a\"],[0.8888888888888888,\"#fdca26\"],[1.0,\"#f0f921\"]]},\"colorway\":[\"#636efa\",\"#EF553B\",\"#00cc96\",\"#ab63fa\",\"#FFA15A\",\"#19d3f3\",\"#FF6692\",\"#B6E880\",\"#FF97FF\",\"#FECB52\"],\"font\":{\"color\":\"#f2f5fa\"},\"geo\":{\"bgcolor\":\"rgb(17,17,17)\",\"lakecolor\":\"rgb(17,17,17)\",\"landcolor\":\"rgb(17,17,17)\",\"showlakes\":true,\"showland\":true,\"subunitcolor\":\"#506784\"},\"hoverlabel\":{\"align\":\"left\"},\"hovermode\":\"closest\",\"mapbox\":{\"style\":\"dark\"},\"paper_bgcolor\":\"rgb(17,17,17)\",\"plot_bgcolor\":\"rgb(17,17,17)\",\"polar\":{\"angularaxis\":{\"gridcolor\":\"#506784\",\"linecolor\":\"#506784\",\"ticks\":\"\"},\"bgcolor\":\"rgb(17,17,17)\",\"radialaxis\":{\"gridcolor\":\"#506784\",\"linecolor\":\"#506784\",\"ticks\":\"\"}},\"scene\":{\"xaxis\":{\"backgroundcolor\":\"rgb(17,17,17)\",\"gridcolor\":\"#506784\",\"gridwidth\":2,\"linecolor\":\"#506784\",\"showbackground\":true,\"ticks\":\"\",\"zerolinecolor\":\"#C8D4E3\"},\"yaxis\":{\"backgroundcolor\":\"rgb(17,17,17)\",\"gridcolor\":\"#506784\",\"gridwidth\":2,\"linecolor\":\"#506784\",\"showbackground\":true,\"ticks\":\"\",\"zerolinecolor\":\"#C8D4E3\"},\"zaxis\":{\"backgroundcolor\":\"rgb(17,17,17)\",\"gridcolor\":\"#506784\",\"gridwidth\":2,\"linecolor\":\"#506784\",\"showbackground\":true,\"ticks\":\"\",\"zerolinecolor\":\"#C8D4E3\"}},\"shapedefaults\":{\"line\":{\"color\":\"#f2f5fa\"}},\"sliderdefaults\":{\"bgcolor\":\"#C8D4E3\",\"bordercolor\":\"rgb(17,17,17)\",\"borderwidth\":1,\"tickwidth\":0},\"ternary\":{\"aaxis\":{\"gridcolor\":\"#506784\",\"linecolor\":\"#506784\",\"ticks\":\"\"},\"baxis\":{\"gridcolor\":\"#506784\",\"linecolor\":\"#506784\",\"ticks\":\"\"},\"bgcolor\":\"rgb(17,17,17)\",\"caxis\":{\"gridcolor\":\"#506784\",\"linecolor\":\"#506784\",\"ticks\":\"\"}},\"title\":{\"x\":0.05},\"updatemenudefaults\":{\"bgcolor\":\"#506784\",\"borderwidth\":0},\"xaxis\":{\"automargin\":true,\"gridcolor\":\"#283442\",\"linecolor\":\"#506784\",\"ticks\":\"\",\"title\":{\"standoff\":15},\"zerolinecolor\":\"#283442\",\"zerolinewidth\":2},\"yaxis\":{\"automargin\":true,\"gridcolor\":\"#283442\",\"linecolor\":\"#506784\",\"ticks\":\"\",\"title\":{\"standoff\":15},\"zerolinecolor\":\"#283442\",\"zerolinewidth\":2}}},\"xaxis\":{\"anchor\":\"y\",\"domain\":[0.0,1.0],\"title\":{\"text\":\"Volatility\"}},\"yaxis\":{\"anchor\":\"x\",\"domain\":[0.0,1.0],\"title\":{\"text\":\"Return\"}},\"coloraxis\":{\"colorbar\":{\"title\":{\"text\":\"Ratio\"}},\"colorscale\":[[0.0,\"#0d0887\"],[0.1111111111111111,\"#46039f\"],[0.2222222222222222,\"#7201a8\"],[0.3333333333333333,\"#9c179e\"],[0.4444444444444444,\"#bd3786\"],[0.5555555555555556,\"#d8576b\"],[0.6666666666666666,\"#ed7953\"],[0.7777777777777778,\"#fb9f3a\"],[0.8888888888888888,\"#fdca26\"],[1.0,\"#f0f921\"]]},\"legend\":{\"tracegroupgap\":0},\"title\":{\"text\":\"S&P 500 dividend stocks by Volatility\\u002fReturn\",\"x\":0.5},\"height\":500,\"width\":750},                        {\"responsive\": true}                    ).then(function(){\n",
              "                            \n",
              "var gd = document.getElementById('7c9ab768-a02a-44a0-add5-6e5dbd776918');\n",
              "var x = new MutationObserver(function (mutations, observer) {{\n",
              "        var display = window.getComputedStyle(gd).display;\n",
              "        if (!display || display === 'none') {{\n",
              "            console.log([gd, 'removed!']);\n",
              "            Plotly.purge(gd);\n",
              "            observer.disconnect();\n",
              "        }}\n",
              "}});\n",
              "\n",
              "// Listen for the removal of the full notebook cells\n",
              "var notebookContainer = gd.closest('#notebook-container');\n",
              "if (notebookContainer) {{\n",
              "    x.observe(notebookContainer, {childList: true});\n",
              "}}\n",
              "\n",
              "// Listen for the clearing of the current output cell\n",
              "var outputEl = gd.closest('.output');\n",
              "if (outputEl) {{\n",
              "    x.observe(outputEl, {childList: true});\n",
              "}}\n",
              "\n",
              "                        })                };                            </script>        </div>\n",
              "</body>\n",
              "</html>"
            ]
          },
          "metadata": {}
        }
      ]
    }
  ]
}