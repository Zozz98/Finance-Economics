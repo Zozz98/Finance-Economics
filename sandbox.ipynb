{
  "nbformat": 4,
  "nbformat_minor": 0,
  "metadata": {
    "colab": {
      "provenance": [],
      "authorship_tag": "ABX9TyPPgqPzgAHgAVnIyRxv5Pwf",
      "include_colab_link": true
    },
    "kernelspec": {
      "name": "python3",
      "display_name": "Python 3"
    },
    "language_info": {
      "name": "python"
    }
  },
  "cells": [
    {
      "cell_type": "markdown",
      "metadata": {
        "id": "view-in-github",
        "colab_type": "text"
      },
      "source": [
        "<a href=\"https://colab.research.google.com/github/Zozz98/Finance-Economics/blob/main/sandbox.ipynb\" target=\"_parent\"><img src=\"https://colab.research.google.com/assets/colab-badge.svg\" alt=\"Open In Colab\"/></a>"
      ]
    },
    {
      "cell_type": "markdown",
      "source": [
        "# IMPORTS"
      ],
      "metadata": {
        "id": "7PPzcqEtraHD"
      }
    },
    {
      "cell_type": "code",
      "execution_count": 1,
      "metadata": {
        "id": "75EFTzVmG75l"
      },
      "outputs": [],
      "source": [
        "import numpy as np\n",
        "import pandas as pd\n",
        "import matplotlib.pyplot as plt\n",
        "plt.style.use('fivethirtyeight')\n",
        "import plotly.express as px\n",
        "import yfinance as yf\n",
        "import pandas_datareader as pdr\n",
        "import datetime as dt\n",
        "\n",
        "from sklearn.cluster import KMeans"
      ]
    },
    {
      "cell_type": "markdown",
      "source": [
        "# GET DATA FROM WIKIPEDIA"
      ],
      "metadata": {
        "id": "O_I95wKyrijq"
      }
    },
    {
      "cell_type": "code",
      "source": [
        "url = \"https://en.wikipedia.org/wiki/List_of_S%26P_500_companies\"\n",
        "sp500_list = pd.read_html(url)\n",
        "sp500_list = sp500_list[0]\n",
        "sp500_list = sp500_list.drop(columns=['GICS Sub-Industry','Headquarters Location', 'Date added','CIK','Founded'], axis=1)\n",
        "sp500_list.rename(columns={'GICS Sector':'Sector'},inplace=True)"
      ],
      "metadata": {
        "id": "WeEEdKxnHhiR"
      },
      "execution_count": 2,
      "outputs": []
    },
    {
      "cell_type": "markdown",
      "source": [
        "# LOAD CLOSE PRICES FROM WIKIPEDIA DATA"
      ],
      "metadata": {
        "id": "Ln3L6R0YrqVJ"
      }
    },
    {
      "cell_type": "code",
      "source": [
        "end = dt.datetime.now()\n",
        "start = end - dt.timedelta(days=252)\n",
        "\n",
        "ticker_list = [i for i in sp500_list['Symbol']]\n",
        "stocks = yf.download(ticker_list, start=start, end=end)['Close']\n",
        "stocks.drop(columns=['BF.B','BRK.B'],inplace=True)"
      ],
      "metadata": {
        "colab": {
          "base_uri": "https://localhost:8080/"
        },
        "id": "XQSdFbFyJG6B",
        "outputId": "4a11831e-d42a-4fb6-9b7c-a23fcdbb78aa"
      },
      "execution_count": 3,
      "outputs": [
        {
          "output_type": "stream",
          "name": "stdout",
          "text": [
            "[*********************100%***********************]  503 of 503 completed\n",
            "\n",
            "2 Failed downloads:\n",
            "- BRK.B: No timezone found, symbol may be delisted\n",
            "- BF.B: No data found for this date range, symbol may be delisted\n"
          ]
        }
      ]
    },
    {
      "cell_type": "markdown",
      "source": [
        "# LOG RETURN AND SET COLUMNS"
      ],
      "metadata": {
        "id": "k-OCkD04rxfT"
      }
    },
    {
      "cell_type": "code",
      "source": [
        "log_return = np.log(stocks / stocks.shift(1)).replace(np.nan, 0)\n",
        "\n",
        "annual_return = log_return.mean() * 252\n",
        "annual_volatility = log_return.std() * np.sqrt(252)\n",
        "\n",
        "stock_data = pd.DataFrame()\n",
        "stock_data['Symbol'] = stocks.columns\n",
        "stock_data['Security'] = sp500_list['Security']\n",
        "stock_data['Sector'] = sp500_list['Sector']\n",
        "stock_data['Return'] = list(round(annual_return, 3))\n",
        "stock_data['Volatility'] = list(round(annual_volatility, 3))\n",
        "stock_data['Ratio'] = list(round((annual_return / annual_volatility), 3))"
      ],
      "metadata": {
        "id": "SfnwlYLUQpJF"
      },
      "execution_count": 4,
      "outputs": []
    },
    {
      "cell_type": "markdown",
      "source": [
        "# VOLATILITY-RETURN SCATTER PLOT"
      ],
      "metadata": {
        "id": "q2jXOkhzr4gL"
      }
    },
    {
      "cell_type": "code",
      "source": [
        "px.scatter(stock_data, \n",
        "           x='Volatility', \n",
        "           y='Return', \n",
        "           hover_data=['Sector'],\n",
        "           hover_name='Symbol', \n",
        "           title='S&P 500 stocks by Volatility/Return', \n",
        "           color='Ratio',\n",
        "           width=750,\n",
        "           height=500,\n",
        "           color_continuous_scale='rainbow').update_layout(title_x=0.5)"
      ],
      "metadata": {
        "colab": {
          "base_uri": "https://localhost:8080/",
          "height": 517
        },
        "id": "F6Qq_Vd2trhj",
        "outputId": "eca56e78-6fb2-40f4-8491-036d3542e75f"
      },
      "execution_count": 7,
      "outputs": [
        {
          "output_type": "display_data",
          "data": {
            "text/html": [
              "<html>\n",
              "<head><meta charset=\"utf-8\" /></head>\n",
              "<body>\n",
              "    <div>            <script src=\"https://cdnjs.cloudflare.com/ajax/libs/mathjax/2.7.5/MathJax.js?config=TeX-AMS-MML_SVG\"></script><script type=\"text/javascript\">if (window.MathJax && window.MathJax.Hub && window.MathJax.Hub.Config) {window.MathJax.Hub.Config({SVG: {font: \"STIX-Web\"}});}</script>                <script type=\"text/javascript\">window.PlotlyConfig = {MathJaxConfig: 'local'};</script>\n",
              "        <script src=\"https://cdn.plot.ly/plotly-2.18.2.min.js\"></script>                <div id=\"b723fe4f-777f-4569-93f2-274a05e3bb5c\" class=\"plotly-graph-div\" style=\"height:500px; width:750px;\"></div>            <script type=\"text/javascript\">                                    window.PLOTLYENV=window.PLOTLYENV || {};                                    if (document.getElementById(\"b723fe4f-777f-4569-93f2-274a05e3bb5c\")) {                    Plotly.newPlot(                        \"b723fe4f-777f-4569-93f2-274a05e3bb5c\",                        [{\"customdata\":[[\"Industrials\"],[\"Industrials\"],[\"Health Care\"],[\"Health Care\"],[\"Information Technology\"],[\"Communication Services\"],[\"Consumer Staples\"],[\"Information Technology\"],[\"Industrials\"],[\"Consumer Discretionary\"],[\"Utilities\"],[\"Financials\"],[\"Health Care\"],[\"Materials\"],[\"Information Technology\"],[\"Industrials\"],[\"Materials\"],[\"Real Estate\"],[\"Health Care\"],[\"Industrials\"],[\"Utilities\"],[\"Financials\"],[\"Communication Services\"],[\"Communication Services\"],[\"Consumer Staples\"],[\"Consumer Discretionary\"],[\"Materials\"],[\"Information Technology\"],[\"Utilities\"],[\"Industrials\"],[\"Utilities\"],[\"Financials\"],[\"Financials\"],[\"Real Estate\"],[\"Utilities\"],[\"Financials\"],[\"Health Care\"],[\"Industrials\"],[\"Health Care\"],[\"Information Technology\"],[\"Information Technology\"],[\"Information Technology\"],[\"Financials\"],[\"Energy\"],[\"Information Technology\"],[\"Information Technology\"],[\"Consumer Discretionary\"],[\"Financials\"],[\"Information Technology\"],[\"Financials\"],[\"Financials\"],[\"Communication Services\"],[\"Utilities\"],[\"Information Technology\"],[\"Consumer Discretionary\"],[\"Real Estate\"],[\"Materials\"],[\"Industrials\"],[\"Energy\"],[\"Materials\"],[\"Financials\"],[\"Consumer Discretionary\"],[\"Health Care\"],[\"Health Care\"],[\"Financials\"],[\"Financials\"],[\"Consumer Discretionary\"],[\"Health Care\"],[\"Health Care\"],[\"Health Care\"],[\"Financials\"],[\"Financials\"],[\"Industrials\"],[\"Consumer Discretionary\"],[\"Consumer Discretionary\"],[\"Real Estate\"],[\"Health Care\"],[\"Health Care\"],[\"Information Technology\"],[\"Industrials\"],[\"Financials\"],[\"Consumer Staples\"],[\"Consumer Staples\"],[\"Industrials\"],[\"Information Technology\"],[\"Consumer Discretionary\"],[\"Real Estate\"],[\"Consumer Staples\"],[\"Financials\"],[\"Health Care\"],[\"Consumer Discretionary\"],[\"Consumer Discretionary\"],[\"Industrials\"],[\"Health Care\"],[\"Industrials\"],[\"Financials\"],[\"Real Estate\"],[\"Information Technology\"],[\"Materials\"],[\"Health Care\"],[\"Utilities\"],[\"Information Technology\"],[\"Materials\"],[\"Health Care\"],[\"Financials\"],[\"Communication Services\"],[\"Energy\"],[\"Consumer Discretionary\"],[\"Financials\"],[\"Consumer Staples\"],[\"Health Care\"],[\"Financials\"],[\"Industrials\"],[\"Information Technology\"],[\"Financials\"],[\"Financials\"],[\"Consumer Staples\"],[\"Financials\"],[\"Utilities\"],[\"Consumer Staples\"],[\"Information Technology\"],[\"Consumer Staples\"],[\"Communication Services\"],[\"Financials\"],[\"Consumer Staples\"],[\"Energy\"],[\"Utilities\"],[\"Consumer Staples\"],[\"Utilities\"],[\"Health Care\"],[\"Industrials\"],[\"Information Technology\"],[\"Materials\"],[\"Industrials\"],[\"Consumer Staples\"],[\"Energy\"],[\"Real Estate\"],[\"Industrials\"],[\"Industrials\"],[\"Health Care\"],[\"Consumer Discretionary\"],[\"Health Care\"],[\"Consumer Discretionary\"],[\"Health Care\"],[\"Industrials\"],[\"Industrials\"],[\"Health Care\"],[\"Energy\"],[\"Health Care\"],[\"Energy\"],[\"Real Estate\"],[\"Financials\"],[\"Communication Services\"],[\"Consumer Staples\"],[\"Consumer Staples\"],[\"Utilities\"],[\"Consumer Discretionary\"],[\"Industrials\"],[\"Materials\"],[\"Utilities\"],[\"Utilities\"],[\"Materials\"],[\"Information Technology\"],[\"Materials\"],[\"Industrials\"],[\"Consumer Discretionary\"],[\"Materials\"],[\"Utilities\"],[\"Health Care\"],[\"Communication Services\"],[\"Health Care\"],[\"Health Care\"],[\"Industrials\"],[\"Information Technology\"],[\"Utilities\"],[\"Energy\"],[\"Information Technology\"],[\"Energy\"],[\"Industrials\"],[\"Real Estate\"],[\"Real Estate\"],[\"Real Estate\"],[\"Consumer Staples\"],[\"Consumer Discretionary\"],[\"Financials\"],[\"Utilities\"],[\"Utilities\"],[\"Utilities\"],[\"Consumer Discretionary\"],[\"Industrials\"],[\"Real Estate\"],[\"Energy\"],[\"Information Technology\"],[\"Financials\"],[\"Information Technology\"],[\"Industrials\"],[\"Real Estate\"],[\"Industrials\"],[\"Financials\"],[\"Information Technology\"],[\"Utilities\"],[\"Financials\"],[\"Financials\"],[\"Financials\"],[\"Materials\"],[\"Consumer Discretionary\"],[\"Information Technology\"],[\"Industrials\"],[\"Communication Services\"],[\"Communication Services\"],[\"Financials\"],[\"Materials\"],[\"Consumer Discretionary\"],[\"Information Technology\"],[\"Health Care\"],[\"Information Technology\"],[\"Industrials\"],[\"Industrials\"],[\"Industrials\"],[\"Consumer Staples\"],[\"Consumer Discretionary\"],[\"Consumer Discretionary\"],[\"Health Care\"],[\"Financials\"],[\"Financials\"],[\"Financials\"],[\"Energy\"],[\"Financials\"],[\"Consumer Discretionary\"],[\"Health Care\"],[\"Real Estate\"],[\"Health Care\"],[\"Consumer Staples\"],[\"Energy\"],[\"Information Technology\"],[\"Consumer Discretionary\"],[\"Health Care\"],[\"Consumer Discretionary\"],[\"Industrials\"],[\"Consumer Staples\"],[\"Real Estate\"],[\"Industrials\"],[\"Information Technology\"],[\"Health Care\"],[\"Financials\"],[\"Industrials\"],[\"Information Technology\"],[\"Industrials\"],[\"Health Care\"],[\"Industrials\"],[\"Health Care\"],[\"Health Care\"],[\"Industrials\"],[\"Health Care\"],[\"Information Technology\"],[\"Financials\"],[\"Materials\"],[\"Materials\"],[\"Communication Services\"],[\"Information Technology\"],[\"Health Care\"],[\"Financials\"],[\"Real Estate\"],[\"Health Care\"],[\"Real Estate\"],[\"Industrials\"],[\"Financials\"],[\"Industrials\"],[\"Health Care\"],[\"Industrials\"],[\"Financials\"],[\"Information Technology\"],[\"Consumer Staples\"],[\"Consumer Staples\"],[\"Financials\"],[\"Information Technology\"],[\"Consumer Staples\"],[\"Real Estate\"],[\"Energy\"],[\"Information Technology\"],[\"Consumer Staples\"],[\"Consumer Staples\"],[\"Industrials\"],[\"Health Care\"],[\"Information Technology\"],[\"Consumer Staples\"],[\"Consumer Discretionary\"],[\"Industrials\"],[\"Consumer Discretionary\"],[\"Financials\"],[\"Materials\"],[\"Communication Services\"],[\"Consumer Discretionary\"],[\"Industrials\"],[\"Financials\"],[\"Consumer Discretionary\"],[\"Materials\"],[\"Financials\"],[\"Energy\"],[\"Energy\"],[\"Financials\"],[\"Consumer Discretionary\"],[\"Financials\"],[\"Materials\"],[\"Industrials\"],[\"Financials\"],[\"Communication Services\"],[\"Consumer Staples\"],[\"Consumer Discretionary\"],[\"Health Care\"],[\"Health Care\"],[\"Health Care\"],[\"Communication Services\"],[\"Financials\"],[\"Health Care\"],[\"Consumer Discretionary\"],[\"Information Technology\"],[\"Information Technology\"],[\"Information Technology\"],[\"Real Estate\"],[\"Health Care\"],[\"Consumer Discretionary\"],[\"Health Care\"],[\"Consumer Staples\"],[\"Consumer Staples\"],[\"Information Technology\"],[\"Consumer Staples\"],[\"Financials\"],[\"Financials\"],[\"Materials\"],[\"Information Technology\"],[\"Financials\"],[\"Financials\"],[\"Information Technology\"],[\"Communication Services\"],[\"Consumer Discretionary\"],[\"Materials\"],[\"Communication Services\"],[\"Communication Services\"],[\"Utilities\"],[\"Consumer Discretionary\"],[\"Utilities\"],[\"Industrials\"],[\"Industrials\"],[\"Financials\"],[\"Industrials\"],[\"Consumer Discretionary\"],[\"Utilities\"],[\"Materials\"],[\"Information Technology\"],[\"Consumer Discretionary\"],[\"Information Technology\"],[\"Consumer Discretionary\"],[\"Energy\"],[\"Industrials\"],[\"Communication Services\"],[\"Information Technology\"],[\"Energy\"],[\"Information Technology\"],[\"Health Care\"],[\"Industrials\"],[\"Industrials\"],[\"Materials\"],[\"Communication Services\"],[\"Industrials\"],[\"Information Technology\"],[\"Industrials\"],[\"Information Technology\"],[\"Financials\"],[\"Industrials\"],[\"Consumer Staples\"],[\"Health Care\"],[\"Utilities\"],[\"Consumer Staples\"],[\"Energy\"],[\"Utilities\"],[\"Energy\"],[\"Financials\"],[\"Consumer Discretionary\"],[\"Materials\"],[\"Utilities\"],[\"Financials\"],[\"Consumer Staples\"],[\"Financials\"],[\"Real Estate\"],[\"Financials\"],[\"Utilities\"],[\"Information Technology\"],[\"Real Estate\"],[\"Consumer Discretionary\"],[\"Information Technology\"],[\"Industrials\"],[\"Information Technology\"],[\"Health Care\"],[\"Consumer Discretionary\"],[\"Financials\"],[\"Industrials\"],[\"Real Estate\"],[\"Real Estate\"],[\"Health Care\"],[\"Financials\"],[\"Industrials\"],[\"Health Care\"],[\"Health Care\"],[\"Industrials\"],[\"Industrials\"],[\"Industrials\"],[\"Information Technology\"],[\"Consumer Discretionary\"],[\"Consumer Discretionary\"],[\"Financials\"],[\"Information Technology\"],[\"Real Estate\"],[\"Energy\"],[\"Information Technology\"],[\"Materials\"],[\"Utilities\"],[\"Information Technology\"],[\"Materials\"],[\"Real Estate\"],[\"Information Technology\"],[\"Consumer Staples\"],[\"Industrials\"],[\"Information Technology\"],[\"Utilities\"],[\"Industrials\"],[\"Industrials\"],[\"Consumer Discretionary\"],[\"Financials\"],[\"Materials\"],[\"Health Care\"],[\"Health Care\"],[\"Financials\"],[\"Information Technology\"],[\"Consumer Staples\"],[\"Communication Services\"],[\"Financials\"],[\"Communication Services\"],[\"Consumer Discretionary\"],[\"Energy\"],[\"Consumer Staples\"],[\"Information Technology\"],[\"Information Technology\"],[\"Health Care\"],[\"Information Technology\"],[\"Consumer Discretionary\"],[\"Information Technology\"],[\"Industrials\"],[\"Health Care\"],[\"Consumer Discretionary\"],[\"Consumer Discretionary\"],[\"Industrials\"],[\"Industrials\"],[\"Financials\"],[\"Information Technology\"],[\"Financials\"],[\"Information Technology\"],[\"Consumer Staples\"],[\"Financials\"],[\"Real Estate\"],[\"Consumer Discretionary\"],[\"Industrials\"],[\"Industrials\"],[\"Industrials\"],[\"Industrials\"],[\"Health Care\"],[\"Health Care\"],[\"Energy\"],[\"Real Estate\"],[\"Information Technology\"],[\"Industrials\"],[\"Communication Services\"],[\"Health Care\"],[\"Consumer Discretionary\"],[\"Health Care\"],[\"Real Estate\"],[\"Financials\"],[\"Materials\"],[\"Industrials\"],[\"Consumer Staples\"],[\"Consumer Staples\"],[\"Communication Services\"],[\"Industrials\"],[\"Health Care\"],[\"Utilities\"],[\"Financials\"],[\"Real Estate\"],[\"Health Care\"],[\"Information Technology\"],[\"Materials\"],[\"Real Estate\"],[\"Consumer Discretionary\"],[\"Energy\"],[\"Financials\"],[\"Industrials\"],[\"Consumer Discretionary\"],[\"Utilities\"],[\"Industrials\"],[\"Consumer Discretionary\"],[\"Information Technology\"],[\"Health Care\"]],\"hovertemplate\":\"<b>%{hovertext}</b><br><br>Volatility=%{x}<br>Return=%{y}<br>Sector=%{customdata[0]}<br>Ratio=%{marker.color}<extra></extra>\",\"hovertext\":[\"A\",\"AAL\",\"AAP\",\"AAPL\",\"ABBV\",\"ABC\",\"ABT\",\"ACGL\",\"ACN\",\"ADBE\",\"ADI\",\"ADM\",\"ADP\",\"ADSK\",\"AEE\",\"AEP\",\"AES\",\"AFL\",\"AIG\",\"AIZ\",\"AJG\",\"AKAM\",\"ALB\",\"ALGN\",\"ALK\",\"ALL\",\"ALLE\",\"AMAT\",\"AMCR\",\"AMD\",\"AME\",\"AMGN\",\"AMP\",\"AMT\",\"AMZN\",\"ANET\",\"ANSS\",\"AON\",\"AOS\",\"APA\",\"APD\",\"APH\",\"APTV\",\"ARE\",\"ATO\",\"ATVI\",\"AVB\",\"AVGO\",\"AVY\",\"AWK\",\"AXON\",\"AXP\",\"AZO\",\"BA\",\"BAC\",\"BALL\",\"BAX\",\"BBWI\",\"BBY\",\"BDX\",\"BEN\",\"BG\",\"BIIB\",\"BIO\",\"BK\",\"BKNG\",\"BKR\",\"BLK\",\"BMY\",\"BR\",\"BRO\",\"BSX\",\"BWA\",\"BXP\",\"C\",\"CAG\",\"CAH\",\"CARR\",\"CAT\",\"CB\",\"CBOE\",\"CBRE\",\"CCI\",\"CCL\",\"CDAY\",\"CDNS\",\"CDW\",\"CE\",\"CEG\",\"CF\",\"CFG\",\"CHD\",\"CHRW\",\"CHTR\",\"CI\",\"CINF\",\"CL\",\"CLX\",\"CMA\",\"CMCSA\",\"CME\",\"CMG\",\"CMI\",\"CMS\",\"CNC\",\"CNP\",\"COF\",\"COO\",\"COP\",\"COST\",\"CPB\",\"CPRT\",\"CPT\",\"CRL\",\"CRM\",\"CSCO\",\"CSGP\",\"CSX\",\"CTAS\",\"CTLT\",\"CTRA\",\"CTSH\",\"CTVA\",\"CVS\",\"CVX\",\"CZR\",\"D\",\"DAL\",\"DD\",\"DE\",\"DFS\",\"DG\",\"DGX\",\"DHI\",\"DHR\",\"DIS\",\"DLR\",\"DLTR\",\"DOV\",\"DOW\",\"DPZ\",\"DRI\",\"DTE\",\"DUK\",\"DVA\",\"DVN\",\"DXC\",\"DXCM\",\"EA\",\"EBAY\",\"ECL\",\"ED\",\"EFX\",\"EIX\",\"EL\",\"ELV\",\"EMN\",\"EMR\",\"ENPH\",\"EOG\",\"EPAM\",\"EQIX\",\"EQR\",\"EQT\",\"ES\",\"ESS\",\"ETN\",\"ETR\",\"ETSY\",\"EVRG\",\"EW\",\"EXC\",\"EXPD\",\"EXPE\",\"EXR\",\"F\",\"FANG\",\"FAST\",\"FCX\",\"FDS\",\"FDX\",\"FE\",\"FFIV\",\"FICO\",\"FIS\",\"FISV\",\"FITB\",\"FLT\",\"FMC\",\"FOX\",\"FOXA\",\"FRT\",\"FSLR\",\"FTNT\",\"FTV\",\"GD\",\"GE\",\"GEHC\",\"GEN\",\"GILD\",\"GIS\",\"GL\",\"GLW\",\"GM\",\"GNRC\",\"GOOG\",\"GOOGL\",\"GPC\",\"GPN\",\"GRMN\",\"GS\",\"GWW\",\"HAL\",\"HAS\",\"HBAN\",\"HCA\",\"HD\",\"HES\",\"HIG\",\"HII\",\"HLT\",\"HOLX\",\"HON\",\"HPE\",\"HPQ\",\"HRL\",\"HSIC\",\"HST\",\"HSY\",\"HUM\",\"HWM\",\"IBM\",\"ICE\",\"IDXX\",\"IEX\",\"IFF\",\"ILMN\",\"INCY\",\"INTC\",\"INTU\",\"INVH\",\"IP\",\"IPG\",\"IQV\",\"IR\",\"IRM\",\"ISRG\",\"IT\",\"ITW\",\"IVZ\",\"J\",\"JBHT\",\"JCI\",\"JKHY\",\"JNJ\",\"JNPR\",\"JPM\",\"K\",\"KDP\",\"KEY\",\"KEYS\",\"KHC\",\"KIM\",\"KLAC\",\"KMB\",\"KMI\",\"KMX\",\"KO\",\"KR\",\"L\",\"LDOS\",\"LEN\",\"LH\",\"LHX\",\"LIN\",\"LKQ\",\"LLY\",\"LMT\",\"LNC\",\"LNT\",\"LOW\",\"LRCX\",\"LUV\",\"LVS\",\"LW\",\"LYB\",\"LYV\",\"MA\",\"MAA\",\"MAR\",\"MAS\",\"MCD\",\"MCHP\",\"MCK\",\"MCO\",\"MDLZ\",\"MDT\",\"MET\",\"META\",\"MGM\",\"MHK\",\"MKC\",\"MKTX\",\"MLM\",\"MMC\",\"MMM\",\"MNST\",\"MO\",\"MOH\",\"MOS\",\"MPC\",\"MPWR\",\"MRK\",\"MRNA\",\"MRO\",\"MS\",\"MSCI\",\"MSFT\",\"MSI\",\"MTB\",\"MTCH\",\"MTD\",\"MU\",\"NCLH\",\"NDAQ\",\"NDSN\",\"NEE\",\"NEM\",\"NFLX\",\"NI\",\"NKE\",\"NOC\",\"NOW\",\"NRG\",\"NSC\",\"NTAP\",\"NTRS\",\"NUE\",\"NVDA\",\"NVR\",\"NWL\",\"NWS\",\"NWSA\",\"NXPI\",\"O\",\"ODFL\",\"OGN\",\"OKE\",\"OMC\",\"ON\",\"ORCL\",\"ORLY\",\"OTIS\",\"OXY\",\"PANW\",\"PARA\",\"PAYC\",\"PAYX\",\"PCAR\",\"PCG\",\"PEAK\",\"PEG\",\"PEP\",\"PFE\",\"PFG\",\"PG\",\"PGR\",\"PH\",\"PHM\",\"PKG\",\"PLD\",\"PM\",\"PNC\",\"PNR\",\"PNW\",\"PODD\",\"POOL\",\"PPG\",\"PPL\",\"PRU\",\"PSA\",\"PSX\",\"PTC\",\"PWR\",\"PXD\",\"PYPL\",\"QCOM\",\"QRVO\",\"RCL\",\"RE\",\"REG\",\"REGN\",\"RF\",\"RHI\",\"RJF\",\"RL\",\"RMD\",\"ROK\",\"ROL\",\"ROP\",\"ROST\",\"RSG\",\"RTX\",\"RVTY\",\"SBAC\",\"SBUX\",\"SCHW\",\"SEDG\",\"SEE\",\"SHW\",\"SJM\",\"SLB\",\"SNA\",\"SNPS\",\"SO\",\"SPG\",\"SPGI\",\"SRE\",\"STE\",\"STLD\",\"STT\",\"STX\",\"STZ\",\"SWK\",\"SWKS\",\"SYF\",\"SYK\",\"SYY\",\"T\",\"TAP\",\"TDG\",\"TDY\",\"TECH\",\"TEL\",\"TER\",\"TFC\",\"TFX\",\"TGT\",\"TJX\",\"TMO\",\"TMUS\",\"TPR\",\"TRGP\",\"TRMB\",\"TROW\",\"TRV\",\"TSCO\",\"TSLA\",\"TSN\",\"TT\",\"TTWO\",\"TXN\",\"TXT\",\"TYL\",\"UAL\",\"UDR\",\"UHS\",\"ULTA\",\"UNH\",\"UNP\",\"UPS\",\"URI\",\"USB\",\"V\",\"VFC\",\"VICI\",\"VLO\",\"VMC\",\"VRSK\",\"VRSN\",\"VRTX\",\"VTR\",\"VTRS\",\"VZ\",\"WAB\",\"WAT\",\"WBA\",\"WBD\",\"WDC\",\"WEC\",\"WELL\",\"WFC\",\"WHR\",\"WM\",\"WMB\",\"WMT\",\"WRB\",\"WRK\",\"WST\",\"WTW\",\"WY\",\"WYNN\",\"XEL\",\"XOM\",\"XRAY\",\"XYL\",\"YUM\",\"ZBH\",\"ZBRA\",\"ZION\",\"ZTS\"],\"legendgroup\":\"\",\"marker\":{\"color\":[-0.163,0.793,-1.969,0.864,-0.196,1.758,0.257,2.541,0.91,1.793,1.1,-0.685,-0.332,0.368,-0.409,-0.798,-0.609,0.981,0.617,-0.759,1.259,0.704,-0.696,0.767,0.773,-0.544,0.884,1.634,-0.455,1.524,1.752,-0.265,0.925,-0.689,0.266,1.269,1.47,1.001,1.418,0.171,1.049,0.743,0.421,-0.871,0.282,0.474,-0.088,2.435,0.08,0.362,1.935,0.94,0.825,2.202,-0.373,0.498,-1.152,0.221,0.467,0.561,0.374,0.499,1.32,-0.359,0.399,2.313,1.479,0.701,-0.517,0.001,0.405,2.203,1.701,-1.471,0.358,0.249,1.526,0.898,1.585,0.62,1.044,0.489,-1.307,0.664,0.539,1.471,0.448,0.946,0.251,-1.338,-0.679,1.596,0.023,0.257,-0.419,0.502,0.111,0.817,-1.214,1.253,0.21,1.404,0.391,-0.522,-0.784,-0.409,0.668,1.329,0.125,0.389,0.5,2.823,-0.533,0.282,1.389,1.353,0.811,0.896,1.366,-1.157,-0.222,0.368,-0.16,-1.925,0.552,0.758,-2.243,1.188,1.834,0.566,0.782,-1.511,0.655,2.169,-0.534,-0.304,0.125,-0.153,0.902,0.909,-0.288,2.146,-0.766,-0.765,0.451,-0.407,0.336,1.396,0.694,0.692,0.785,-0.106,0.834,0.288,-0.722,0.288,0.633,0.687,-0.935,0.244,-0.969,1.23,-0.267,-0.223,-1.099,-0.264,1.735,-0.527,-0.272,-0.567,0.082,-0.131,1.328,0.479,-0.645,0.118,0.645,0.851,1.107,0.149,2.216,-0.171,0.094,1.998,-0.853,0.896,-0.727,1.119,0.213,0.154,0.119,0.182,1.241,1.246,0.712,-0.378,3.895,1.424,-0.599,1.297,0.541,0.491,0.294,-0.083,-0.983,0.913,0.933,0.173,-0.393,1.513,0.52,1.59,0.956,-0.637,-0.627,2.055,0.546,1.027,0.861,-0.534,1.109,1.298,1.034,1.125,0.931,-1.064,0.603,0.542,1.23,0.459,2.029,0.572,1.045,1.385,0.272,-0.686,0.332,-0.356,0.541,0.301,0.023,-0.218,2.319,0.346,1.697,1.11,2.127,1.235,1.177,0.107,0.158,0.299,1.071,-0.836,-0.503,1.019,1.461,-0.579,-1.286,-1.041,0.22,0.943,0.196,1.476,1.111,0.259,-0.176,0.526,0.119,0.989,-0.404,1.925,0.173,-0.954,1.879,0.824,2.123,0.697,-1.374,-0.641,0.576,1.537,-0.195,1.468,2.52,1.044,0.444,1.551,-0.128,1.349,0.5,1.544,0.842,0.853,1.22,1.921,0.163,-0.664,1.673,1.186,0.266,0.954,0.8,1.281,1.104,-0.496,2.015,0.687,-0.661,-1.145,0.77,0.785,1.945,0.235,0.329,0.289,0.488,1.502,1.319,-1.287,-0.481,0.788,1.192,0.392,-0.024,0.322,-0.505,0.143,1.766,-0.131,0.452,-0.353,1.29,-0.636,0.029,0.594,-0.572,1.123,2.905,1.848,-1.658,0.939,0.973,0.668,-0.139,0.982,-0.941,0.719,2.324,0.924,3.039,1.761,1.704,0.125,1.095,-0.528,-0.311,-0.19,1.562,1.504,-0.64,0.024,0.808,-0.848,-0.12,0.654,0.458,1.706,2.59,0.695,0.864,0.128,-0.754,1.527,0.638,0.683,0.164,1.034,-0.24,-0.242,-0.044,1.128,1.544,1.75,0.005,-0.939,-0.13,0.682,1.851,1.565,0.49,0.417,-0.539,-0.231,-0.287,1.173,0.135,1.397,0.954,1.319,1.144,0.225,1.159,-0.201,-1.071,0.837,-0.858,0.393,-0.473,0.638,0.567,1.116,1.351,1.625,-0.339,0.963,0.928,-0.527,0.978,1.115,0.512,0.414,0.323,0.084,0.45,0.561,1.689,-0.088,-0.153,1.773,2.075,0.76,0.549,0.549,1.07,-0.924,0.649,-0.441,1.824,0.059,-0.055,1.532,0.969,-0.415,0.114,0.918,0.666,-0.568,-1.345,0.837,0.854,0.46,0.522,0.62,1.526,0.033,1.711,0.425,-0.115,-0.059,0.264,1.181,-0.917,1.574,-1.893,0.232,0.389,1.423,1.315,1.526,0.997,0.414,0.412,-0.762,1.093,-0.259,-0.225,0.076,0.683,-0.68,0.655,0.14,-0.055,-0.012,0.37,1.022,-0.361,-0.382,1.051,0.611,0.112,1.34,-0.621,1.151,1.08,0.838,1.614,1.371,0.14,-1.296,0.681],\"coloraxis\":\"coloraxis\",\"symbol\":\"circle\"},\"mode\":\"markers\",\"name\":\"\",\"orientation\":\"v\",\"showlegend\":false,\"x\":[0.303,0.416,0.627,0.307,0.233,0.205,0.242,0.305,0.304,0.369,0.324,0.265,0.239,0.413,0.235,0.249,0.308,0.235,0.31,0.325,0.224,0.305,0.504,0.605,0.324,0.317,0.316,0.432,0.256,0.55,0.234,0.217,0.335,0.31,0.417,0.457,0.344,0.22,0.334,0.48,0.269,0.25,0.393,0.317,0.247,0.245,0.272,0.337,0.295,0.241,0.42,0.316,0.227,0.341,0.303,0.349,0.359,0.539,0.356,0.217,0.345,0.348,0.472,0.436,0.291,0.285,0.364,0.319,0.186,0.275,0.304,0.199,0.306,0.382,0.303,0.191,0.24,0.337,0.305,0.226,0.209,0.331,0.312,0.688,0.485,0.343,0.311,0.41,0.315,0.394,0.411,0.201,0.299,0.413,0.258,0.314,0.182,0.253,0.695,0.277,0.202,0.308,0.268,0.236,0.291,0.23,0.416,0.309,0.364,0.244,0.205,0.259,0.268,0.416,0.394,0.225,0.292,0.247,0.233,0.861,0.38,0.328,0.27,0.253,0.272,0.546,0.272,0.341,0.293,0.284,0.337,0.348,0.213,0.333,0.308,0.373,0.396,0.323,0.275,0.278,0.348,0.206,0.232,0.223,0.507,0.46,0.376,0.441,0.223,0.32,0.312,0.21,0.365,0.273,0.425,0.252,0.335,0.263,0.644,0.371,0.471,0.313,0.269,0.488,0.251,0.293,0.28,0.249,0.555,0.245,0.369,0.247,0.299,0.429,0.34,0.406,0.376,0.27,0.446,0.258,0.289,0.239,0.304,0.447,0.576,0.28,0.426,0.343,0.246,0.283,0.292,0.278,0.561,0.402,0.261,0.203,0.279,0.294,0.319,0.25,0.196,0.231,0.262,0.385,0.68,0.378,0.373,0.234,0.399,0.247,0.263,0.298,0.466,0.388,0.413,0.271,0.279,0.401,0.256,0.243,0.256,0.243,0.22,0.308,0.316,0.191,0.258,0.338,0.182,0.242,0.269,0.208,0.23,0.37,0.249,0.392,0.521,0.232,0.402,0.407,0.301,0.299,0.266,0.333,0.299,0.277,0.348,0.269,0.25,0.398,0.26,0.311,0.31,0.319,0.157,0.252,0.273,0.199,0.193,0.628,0.32,0.19,0.292,0.406,0.178,0.226,0.569,0.153,0.248,0.229,0.293,0.317,0.259,0.257,0.241,0.239,0.249,0.227,0.712,0.25,0.304,0.476,0.316,0.393,0.218,0.306,0.379,0.238,0.27,0.284,0.352,0.164,0.394,0.22,0.319,0.183,0.264,0.305,0.603,0.375,0.428,0.245,0.405,0.31,0.221,0.285,0.219,0.189,0.285,0.434,0.371,0.561,0.2,0.537,0.433,0.282,0.386,0.335,0.248,0.389,0.524,0.325,0.424,0.61,0.259,0.3,0.272,0.369,0.479,0.251,0.371,0.275,0.444,0.385,0.262,0.308,0.366,0.405,0.586,0.29,0.428,0.332,0.334,0.389,0.208,0.377,0.373,0.303,0.244,0.513,0.245,0.211,0.23,0.358,0.381,0.673,0.421,0.259,0.262,0.258,0.281,0.242,0.16,0.229,0.322,0.171,0.272,0.299,0.34,0.264,0.306,0.201,0.358,0.348,0.239,0.413,0.401,0.321,0.221,0.304,0.281,0.347,0.256,0.299,0.363,0.428,0.394,0.394,0.529,0.311,0.265,0.264,0.368,0.326,0.333,0.364,0.274,0.32,0.244,0.217,0.28,0.201,0.213,0.329,0.325,0.278,0.451,0.599,0.337,0.324,0.169,0.422,0.246,0.352,0.223,0.3,0.276,0.232,0.335,0.442,0.38,0.408,0.241,0.41,0.401,0.41,0.271,0.221,0.284,0.244,0.282,0.252,0.358,0.285,0.395,0.477,0.328,0.363,0.206,0.277,0.228,0.373,0.333,0.393,0.402,0.24,0.277,0.653,0.319,0.295,0.387,0.279,0.26,0.349,0.4,0.277,0.349,0.294,0.221,0.271,0.279,0.407,0.409,0.219,0.507,0.226,0.411,0.282,0.27,0.257,0.274,0.307,0.317,0.226,0.249,0.315,0.304,0.56,0.462,0.236,0.315,0.315,0.335,0.189,0.243,0.178,0.265,0.342,0.426,0.234,0.289,0.442,0.24,0.292,0.36,0.29,0.189,0.224,0.465,0.686,0.311],\"xaxis\":\"x\",\"y\":[-0.05,0.329,-1.235,0.266,-0.045,0.36,0.062,0.774,0.277,0.662,0.356,-0.181,-0.079,0.152,-0.096,-0.198,-0.187,0.231,0.191,-0.246,0.282,0.214,-0.35,0.464,0.251,-0.173,0.28,0.706,-0.116,0.838,0.411,-0.058,0.31,-0.214,0.111,0.58,0.505,0.22,0.474,0.082,0.282,0.186,0.165,-0.276,0.07,0.116,-0.024,0.821,0.023,0.087,0.812,0.297,0.187,0.752,-0.113,0.174,-0.414,0.119,0.166,0.122,0.129,0.173,0.623,-0.156,0.116,0.66,0.538,0.224,-0.096,0.0,0.123,0.438,0.521,-0.563,0.109,0.048,0.367,0.303,0.483,0.14,0.218,0.162,-0.407,0.457,0.261,0.505,0.14,0.388,0.079,-0.527,-0.279,0.321,0.007,0.106,-0.108,0.158,0.02,0.207,-0.844,0.347,0.042,0.433,0.105,-0.123,-0.228,-0.094,0.278,0.41,0.046,0.095,0.102,0.731,-0.143,0.117,0.547,0.305,0.237,0.221,0.318,-0.996,-0.084,0.121,-0.043,-0.486,0.15,0.414,-0.611,0.405,0.537,0.161,0.263,-0.527,0.139,0.722,-0.164,-0.113,0.05,-0.05,0.248,0.253,-0.1,0.441,-0.178,-0.171,0.229,-0.187,0.126,0.615,0.155,0.221,0.245,-0.022,0.304,0.079,-0.307,0.073,0.212,0.181,-0.602,0.09,-0.457,0.385,-0.072,-0.109,-0.276,-0.077,0.487,-0.131,-0.151,-0.139,0.03,-0.032,0.397,0.205,-0.219,0.048,0.242,0.229,0.494,0.038,0.64,-0.041,0.028,0.894,-0.491,0.251,-0.309,0.383,0.052,0.044,0.035,0.051,0.696,0.501,0.186,-0.077,1.085,0.419,-0.191,0.324,0.106,0.113,0.077,-0.032,-0.668,0.345,0.348,0.041,-0.157,0.375,0.137,0.475,0.445,-0.247,-0.259,0.556,0.152,0.412,0.221,-0.13,0.284,0.316,0.228,0.347,0.294,-0.203,0.156,0.183,0.224,0.111,0.545,0.119,0.24,0.512,0.068,-0.269,0.173,-0.082,0.217,0.122,0.007,-0.065,0.617,0.115,0.507,0.307,0.739,0.332,0.294,0.043,0.041,0.093,0.332,-0.267,-0.079,0.256,0.399,-0.115,-0.248,-0.653,0.07,0.179,0.057,0.599,0.198,0.059,-0.1,0.081,0.029,0.226,-0.118,0.61,0.045,-0.245,0.452,0.197,0.53,0.158,-0.978,-0.16,0.175,0.731,-0.062,0.577,0.55,0.32,0.169,0.369,-0.035,0.383,0.176,0.253,0.332,0.188,0.389,0.351,0.043,-0.202,1.009,0.445,0.114,0.233,0.324,0.398,0.244,-0.142,0.441,0.13,-0.188,-0.496,0.285,0.441,0.388,0.126,0.143,0.082,0.188,0.503,0.327,-0.501,-0.252,0.256,0.506,0.239,-0.006,0.097,-0.137,0.053,0.846,-0.033,0.168,-0.097,0.572,-0.245,0.008,0.183,-0.209,0.455,1.702,0.536,-0.71,0.312,0.325,0.26,-0.029,0.37,-0.351,0.218,0.566,0.474,0.746,0.372,0.393,0.045,0.417,-0.356,-0.131,-0.049,0.41,0.389,-0.18,0.006,0.129,-0.194,-0.039,0.112,0.125,0.511,0.88,0.184,0.265,0.026,-0.27,0.531,0.153,0.282,0.066,0.332,-0.053,-0.074,-0.012,0.392,0.395,0.523,0.002,-0.402,-0.051,0.268,0.979,0.486,0.13,0.11,-0.198,-0.075,-0.095,0.427,0.037,0.447,0.233,0.286,0.32,0.045,0.247,-0.066,-0.348,0.233,-0.386,0.235,-0.159,0.206,0.096,0.471,0.333,0.572,-0.076,0.289,0.256,-0.122,0.327,0.492,0.194,0.169,0.078,0.035,0.18,0.23,0.458,-0.02,-0.043,0.432,0.585,0.191,0.197,0.157,0.423,-0.441,0.213,-0.16,0.377,0.016,-0.012,0.572,0.323,-0.163,0.046,0.22,0.184,-0.371,-0.43,0.246,0.331,0.128,0.136,0.217,0.61,0.009,0.597,0.125,-0.025,-0.016,0.074,0.48,-0.375,0.345,-0.96,0.053,0.16,0.401,0.356,0.392,0.273,0.127,0.131,-0.173,0.273,-0.081,-0.068,0.043,0.316,-0.16,0.206,0.044,-0.019,-0.002,0.09,0.182,-0.096,-0.131,0.447,0.143,0.032,0.593,-0.149,0.336,0.389,0.243,0.304,0.307,0.065,-0.889,0.212],\"yaxis\":\"y\",\"type\":\"scatter\"}],                        {\"template\":{\"data\":{\"histogram2dcontour\":[{\"type\":\"histogram2dcontour\",\"colorbar\":{\"outlinewidth\":0,\"ticks\":\"\"},\"colorscale\":[[0.0,\"#0d0887\"],[0.1111111111111111,\"#46039f\"],[0.2222222222222222,\"#7201a8\"],[0.3333333333333333,\"#9c179e\"],[0.4444444444444444,\"#bd3786\"],[0.5555555555555556,\"#d8576b\"],[0.6666666666666666,\"#ed7953\"],[0.7777777777777778,\"#fb9f3a\"],[0.8888888888888888,\"#fdca26\"],[1.0,\"#f0f921\"]]}],\"choropleth\":[{\"type\":\"choropleth\",\"colorbar\":{\"outlinewidth\":0,\"ticks\":\"\"}}],\"histogram2d\":[{\"type\":\"histogram2d\",\"colorbar\":{\"outlinewidth\":0,\"ticks\":\"\"},\"colorscale\":[[0.0,\"#0d0887\"],[0.1111111111111111,\"#46039f\"],[0.2222222222222222,\"#7201a8\"],[0.3333333333333333,\"#9c179e\"],[0.4444444444444444,\"#bd3786\"],[0.5555555555555556,\"#d8576b\"],[0.6666666666666666,\"#ed7953\"],[0.7777777777777778,\"#fb9f3a\"],[0.8888888888888888,\"#fdca26\"],[1.0,\"#f0f921\"]]}],\"heatmap\":[{\"type\":\"heatmap\",\"colorbar\":{\"outlinewidth\":0,\"ticks\":\"\"},\"colorscale\":[[0.0,\"#0d0887\"],[0.1111111111111111,\"#46039f\"],[0.2222222222222222,\"#7201a8\"],[0.3333333333333333,\"#9c179e\"],[0.4444444444444444,\"#bd3786\"],[0.5555555555555556,\"#d8576b\"],[0.6666666666666666,\"#ed7953\"],[0.7777777777777778,\"#fb9f3a\"],[0.8888888888888888,\"#fdca26\"],[1.0,\"#f0f921\"]]}],\"heatmapgl\":[{\"type\":\"heatmapgl\",\"colorbar\":{\"outlinewidth\":0,\"ticks\":\"\"},\"colorscale\":[[0.0,\"#0d0887\"],[0.1111111111111111,\"#46039f\"],[0.2222222222222222,\"#7201a8\"],[0.3333333333333333,\"#9c179e\"],[0.4444444444444444,\"#bd3786\"],[0.5555555555555556,\"#d8576b\"],[0.6666666666666666,\"#ed7953\"],[0.7777777777777778,\"#fb9f3a\"],[0.8888888888888888,\"#fdca26\"],[1.0,\"#f0f921\"]]}],\"contourcarpet\":[{\"type\":\"contourcarpet\",\"colorbar\":{\"outlinewidth\":0,\"ticks\":\"\"}}],\"contour\":[{\"type\":\"contour\",\"colorbar\":{\"outlinewidth\":0,\"ticks\":\"\"},\"colorscale\":[[0.0,\"#0d0887\"],[0.1111111111111111,\"#46039f\"],[0.2222222222222222,\"#7201a8\"],[0.3333333333333333,\"#9c179e\"],[0.4444444444444444,\"#bd3786\"],[0.5555555555555556,\"#d8576b\"],[0.6666666666666666,\"#ed7953\"],[0.7777777777777778,\"#fb9f3a\"],[0.8888888888888888,\"#fdca26\"],[1.0,\"#f0f921\"]]}],\"surface\":[{\"type\":\"surface\",\"colorbar\":{\"outlinewidth\":0,\"ticks\":\"\"},\"colorscale\":[[0.0,\"#0d0887\"],[0.1111111111111111,\"#46039f\"],[0.2222222222222222,\"#7201a8\"],[0.3333333333333333,\"#9c179e\"],[0.4444444444444444,\"#bd3786\"],[0.5555555555555556,\"#d8576b\"],[0.6666666666666666,\"#ed7953\"],[0.7777777777777778,\"#fb9f3a\"],[0.8888888888888888,\"#fdca26\"],[1.0,\"#f0f921\"]]}],\"mesh3d\":[{\"type\":\"mesh3d\",\"colorbar\":{\"outlinewidth\":0,\"ticks\":\"\"}}],\"scatter\":[{\"fillpattern\":{\"fillmode\":\"overlay\",\"size\":10,\"solidity\":0.2},\"type\":\"scatter\"}],\"parcoords\":[{\"type\":\"parcoords\",\"line\":{\"colorbar\":{\"outlinewidth\":0,\"ticks\":\"\"}}}],\"scatterpolargl\":[{\"type\":\"scatterpolargl\",\"marker\":{\"colorbar\":{\"outlinewidth\":0,\"ticks\":\"\"}}}],\"bar\":[{\"error_x\":{\"color\":\"#2a3f5f\"},\"error_y\":{\"color\":\"#2a3f5f\"},\"marker\":{\"line\":{\"color\":\"#E5ECF6\",\"width\":0.5},\"pattern\":{\"fillmode\":\"overlay\",\"size\":10,\"solidity\":0.2}},\"type\":\"bar\"}],\"scattergeo\":[{\"type\":\"scattergeo\",\"marker\":{\"colorbar\":{\"outlinewidth\":0,\"ticks\":\"\"}}}],\"scatterpolar\":[{\"type\":\"scatterpolar\",\"marker\":{\"colorbar\":{\"outlinewidth\":0,\"ticks\":\"\"}}}],\"histogram\":[{\"marker\":{\"pattern\":{\"fillmode\":\"overlay\",\"size\":10,\"solidity\":0.2}},\"type\":\"histogram\"}],\"scattergl\":[{\"type\":\"scattergl\",\"marker\":{\"colorbar\":{\"outlinewidth\":0,\"ticks\":\"\"}}}],\"scatter3d\":[{\"type\":\"scatter3d\",\"line\":{\"colorbar\":{\"outlinewidth\":0,\"ticks\":\"\"}},\"marker\":{\"colorbar\":{\"outlinewidth\":0,\"ticks\":\"\"}}}],\"scattermapbox\":[{\"type\":\"scattermapbox\",\"marker\":{\"colorbar\":{\"outlinewidth\":0,\"ticks\":\"\"}}}],\"scatterternary\":[{\"type\":\"scatterternary\",\"marker\":{\"colorbar\":{\"outlinewidth\":0,\"ticks\":\"\"}}}],\"scattercarpet\":[{\"type\":\"scattercarpet\",\"marker\":{\"colorbar\":{\"outlinewidth\":0,\"ticks\":\"\"}}}],\"carpet\":[{\"aaxis\":{\"endlinecolor\":\"#2a3f5f\",\"gridcolor\":\"white\",\"linecolor\":\"white\",\"minorgridcolor\":\"white\",\"startlinecolor\":\"#2a3f5f\"},\"baxis\":{\"endlinecolor\":\"#2a3f5f\",\"gridcolor\":\"white\",\"linecolor\":\"white\",\"minorgridcolor\":\"white\",\"startlinecolor\":\"#2a3f5f\"},\"type\":\"carpet\"}],\"table\":[{\"cells\":{\"fill\":{\"color\":\"#EBF0F8\"},\"line\":{\"color\":\"white\"}},\"header\":{\"fill\":{\"color\":\"#C8D4E3\"},\"line\":{\"color\":\"white\"}},\"type\":\"table\"}],\"barpolar\":[{\"marker\":{\"line\":{\"color\":\"#E5ECF6\",\"width\":0.5},\"pattern\":{\"fillmode\":\"overlay\",\"size\":10,\"solidity\":0.2}},\"type\":\"barpolar\"}],\"pie\":[{\"automargin\":true,\"type\":\"pie\"}]},\"layout\":{\"autotypenumbers\":\"strict\",\"colorway\":[\"#636efa\",\"#EF553B\",\"#00cc96\",\"#ab63fa\",\"#FFA15A\",\"#19d3f3\",\"#FF6692\",\"#B6E880\",\"#FF97FF\",\"#FECB52\"],\"font\":{\"color\":\"#2a3f5f\"},\"hovermode\":\"closest\",\"hoverlabel\":{\"align\":\"left\"},\"paper_bgcolor\":\"white\",\"plot_bgcolor\":\"#E5ECF6\",\"polar\":{\"bgcolor\":\"#E5ECF6\",\"angularaxis\":{\"gridcolor\":\"white\",\"linecolor\":\"white\",\"ticks\":\"\"},\"radialaxis\":{\"gridcolor\":\"white\",\"linecolor\":\"white\",\"ticks\":\"\"}},\"ternary\":{\"bgcolor\":\"#E5ECF6\",\"aaxis\":{\"gridcolor\":\"white\",\"linecolor\":\"white\",\"ticks\":\"\"},\"baxis\":{\"gridcolor\":\"white\",\"linecolor\":\"white\",\"ticks\":\"\"},\"caxis\":{\"gridcolor\":\"white\",\"linecolor\":\"white\",\"ticks\":\"\"}},\"coloraxis\":{\"colorbar\":{\"outlinewidth\":0,\"ticks\":\"\"}},\"colorscale\":{\"sequential\":[[0.0,\"#0d0887\"],[0.1111111111111111,\"#46039f\"],[0.2222222222222222,\"#7201a8\"],[0.3333333333333333,\"#9c179e\"],[0.4444444444444444,\"#bd3786\"],[0.5555555555555556,\"#d8576b\"],[0.6666666666666666,\"#ed7953\"],[0.7777777777777778,\"#fb9f3a\"],[0.8888888888888888,\"#fdca26\"],[1.0,\"#f0f921\"]],\"sequentialminus\":[[0.0,\"#0d0887\"],[0.1111111111111111,\"#46039f\"],[0.2222222222222222,\"#7201a8\"],[0.3333333333333333,\"#9c179e\"],[0.4444444444444444,\"#bd3786\"],[0.5555555555555556,\"#d8576b\"],[0.6666666666666666,\"#ed7953\"],[0.7777777777777778,\"#fb9f3a\"],[0.8888888888888888,\"#fdca26\"],[1.0,\"#f0f921\"]],\"diverging\":[[0,\"#8e0152\"],[0.1,\"#c51b7d\"],[0.2,\"#de77ae\"],[0.3,\"#f1b6da\"],[0.4,\"#fde0ef\"],[0.5,\"#f7f7f7\"],[0.6,\"#e6f5d0\"],[0.7,\"#b8e186\"],[0.8,\"#7fbc41\"],[0.9,\"#4d9221\"],[1,\"#276419\"]]},\"xaxis\":{\"gridcolor\":\"white\",\"linecolor\":\"white\",\"ticks\":\"\",\"title\":{\"standoff\":15},\"zerolinecolor\":\"white\",\"automargin\":true,\"zerolinewidth\":2},\"yaxis\":{\"gridcolor\":\"white\",\"linecolor\":\"white\",\"ticks\":\"\",\"title\":{\"standoff\":15},\"zerolinecolor\":\"white\",\"automargin\":true,\"zerolinewidth\":2},\"scene\":{\"xaxis\":{\"backgroundcolor\":\"#E5ECF6\",\"gridcolor\":\"white\",\"linecolor\":\"white\",\"showbackground\":true,\"ticks\":\"\",\"zerolinecolor\":\"white\",\"gridwidth\":2},\"yaxis\":{\"backgroundcolor\":\"#E5ECF6\",\"gridcolor\":\"white\",\"linecolor\":\"white\",\"showbackground\":true,\"ticks\":\"\",\"zerolinecolor\":\"white\",\"gridwidth\":2},\"zaxis\":{\"backgroundcolor\":\"#E5ECF6\",\"gridcolor\":\"white\",\"linecolor\":\"white\",\"showbackground\":true,\"ticks\":\"\",\"zerolinecolor\":\"white\",\"gridwidth\":2}},\"shapedefaults\":{\"line\":{\"color\":\"#2a3f5f\"}},\"annotationdefaults\":{\"arrowcolor\":\"#2a3f5f\",\"arrowhead\":0,\"arrowwidth\":1},\"geo\":{\"bgcolor\":\"white\",\"landcolor\":\"#E5ECF6\",\"subunitcolor\":\"white\",\"showland\":true,\"showlakes\":true,\"lakecolor\":\"white\"},\"title\":{\"x\":0.05},\"mapbox\":{\"style\":\"light\"}}},\"xaxis\":{\"anchor\":\"y\",\"domain\":[0.0,1.0],\"title\":{\"text\":\"Volatility\"}},\"yaxis\":{\"anchor\":\"x\",\"domain\":[0.0,1.0],\"title\":{\"text\":\"Return\"}},\"coloraxis\":{\"colorbar\":{\"title\":{\"text\":\"Ratio\"}},\"colorscale\":[[0.0,\"rgb(150,0,90)\"],[0.125,\"rgb(0,0,200)\"],[0.25,\"rgb(0,25,255)\"],[0.375,\"rgb(0,152,255)\"],[0.5,\"rgb(44,255,150)\"],[0.625,\"rgb(151,255,0)\"],[0.75,\"rgb(255,234,0)\"],[0.875,\"rgb(255,111,0)\"],[1.0,\"rgb(255,0,0)\"]]},\"legend\":{\"tracegroupgap\":0},\"title\":{\"text\":\"S&P 500 stocks by Volatility/Return\",\"x\":0.5},\"height\":500,\"width\":750},                        {\"responsive\": true}                    ).then(function(){\n",
              "                            \n",
              "var gd = document.getElementById('b723fe4f-777f-4569-93f2-274a05e3bb5c');\n",
              "var x = new MutationObserver(function (mutations, observer) {{\n",
              "        var display = window.getComputedStyle(gd).display;\n",
              "        if (!display || display === 'none') {{\n",
              "            console.log([gd, 'removed!']);\n",
              "            Plotly.purge(gd);\n",
              "            observer.disconnect();\n",
              "        }}\n",
              "}});\n",
              "\n",
              "// Listen for the removal of the full notebook cells\n",
              "var notebookContainer = gd.closest('#notebook-container');\n",
              "if (notebookContainer) {{\n",
              "    x.observe(notebookContainer, {childList: true});\n",
              "}}\n",
              "\n",
              "// Listen for the clearing of the current output cell\n",
              "var outputEl = gd.closest('.output');\n",
              "if (outputEl) {{\n",
              "    x.observe(outputEl, {childList: true});\n",
              "}}\n",
              "\n",
              "                        })                };                            </script>        </div>\n",
              "</body>\n",
              "</html>"
            ]
          },
          "metadata": {}
        }
      ]
    },
    {
      "cell_type": "markdown",
      "source": [
        "# FIND NUMBER OF CLUSTERS WITH ELBOW-METHOD"
      ],
      "metadata": {
        "id": "eZ7SF3C7sC3S"
      }
    },
    {
      "cell_type": "code",
      "source": [
        "X = stock_data[['Return', 'Volatility']]\n",
        "inertia_list = []\n",
        "for k in range(2,16):\n",
        "    kmeans = KMeans(n_clusters=k, n_init='auto')\n",
        "    kmeans.fit(X)\n",
        "    inertia_list.append(kmeans.inertia_)\n",
        "\n",
        "px.line(inertia_list, \n",
        "        title='Elbow Curve',\n",
        "        width=750,\n",
        "        height=500,\n",
        "        labels={\n",
        "            \"index\":\"Number of Clusters\",\n",
        "            \"value\":\"Sum of Squared Error\"\n",
        "        }).update_layout(showlegend=False, title_x=0.5)"
      ],
      "metadata": {
        "colab": {
          "base_uri": "https://localhost:8080/",
          "height": 517
        },
        "id": "ob35_uiEbzLP",
        "outputId": "69b968ac-af22-431b-b72e-4aba8a7e974a"
      },
      "execution_count": 8,
      "outputs": [
        {
          "output_type": "display_data",
          "data": {
            "text/html": [
              "<html>\n",
              "<head><meta charset=\"utf-8\" /></head>\n",
              "<body>\n",
              "    <div>            <script src=\"https://cdnjs.cloudflare.com/ajax/libs/mathjax/2.7.5/MathJax.js?config=TeX-AMS-MML_SVG\"></script><script type=\"text/javascript\">if (window.MathJax && window.MathJax.Hub && window.MathJax.Hub.Config) {window.MathJax.Hub.Config({SVG: {font: \"STIX-Web\"}});}</script>                <script type=\"text/javascript\">window.PlotlyConfig = {MathJaxConfig: 'local'};</script>\n",
              "        <script src=\"https://cdn.plot.ly/plotly-2.18.2.min.js\"></script>                <div id=\"2c4ea067-9a33-4d55-9b66-78f3a2ff8ad6\" class=\"plotly-graph-div\" style=\"height:500px; width:750px;\"></div>            <script type=\"text/javascript\">                                    window.PLOTLYENV=window.PLOTLYENV || {};                                    if (document.getElementById(\"2c4ea067-9a33-4d55-9b66-78f3a2ff8ad6\")) {                    Plotly.newPlot(                        \"2c4ea067-9a33-4d55-9b66-78f3a2ff8ad6\",                        [{\"hovertemplate\":\"variable=0<br>Number of Clusters=%{x}<br>Sum of Squared Error=%{y}<extra></extra>\",\"legendgroup\":\"0\",\"line\":{\"color\":\"#636efa\",\"dash\":\"solid\"},\"marker\":{\"symbol\":\"circle\"},\"mode\":\"lines\",\"name\":\"0\",\"orientation\":\"v\",\"showlegend\":true,\"x\":[0,1,2,3,4,5,6,7,8,9,10,11,12,13],\"xaxis\":\"x\",\"y\":[28.087820939286857,17.997002719370204,12.327067666206151,10.115976407388988,8.88765262112182,7.19439684102045,5.940854660805998,5.18505060534234,4.798429777140706,4.471788047638503,4.272821749600235,3.62362667691203,3.6755986573003314,3.56544126996344],\"yaxis\":\"y\",\"type\":\"scatter\"}],                        {\"template\":{\"data\":{\"histogram2dcontour\":[{\"type\":\"histogram2dcontour\",\"colorbar\":{\"outlinewidth\":0,\"ticks\":\"\"},\"colorscale\":[[0.0,\"#0d0887\"],[0.1111111111111111,\"#46039f\"],[0.2222222222222222,\"#7201a8\"],[0.3333333333333333,\"#9c179e\"],[0.4444444444444444,\"#bd3786\"],[0.5555555555555556,\"#d8576b\"],[0.6666666666666666,\"#ed7953\"],[0.7777777777777778,\"#fb9f3a\"],[0.8888888888888888,\"#fdca26\"],[1.0,\"#f0f921\"]]}],\"choropleth\":[{\"type\":\"choropleth\",\"colorbar\":{\"outlinewidth\":0,\"ticks\":\"\"}}],\"histogram2d\":[{\"type\":\"histogram2d\",\"colorbar\":{\"outlinewidth\":0,\"ticks\":\"\"},\"colorscale\":[[0.0,\"#0d0887\"],[0.1111111111111111,\"#46039f\"],[0.2222222222222222,\"#7201a8\"],[0.3333333333333333,\"#9c179e\"],[0.4444444444444444,\"#bd3786\"],[0.5555555555555556,\"#d8576b\"],[0.6666666666666666,\"#ed7953\"],[0.7777777777777778,\"#fb9f3a\"],[0.8888888888888888,\"#fdca26\"],[1.0,\"#f0f921\"]]}],\"heatmap\":[{\"type\":\"heatmap\",\"colorbar\":{\"outlinewidth\":0,\"ticks\":\"\"},\"colorscale\":[[0.0,\"#0d0887\"],[0.1111111111111111,\"#46039f\"],[0.2222222222222222,\"#7201a8\"],[0.3333333333333333,\"#9c179e\"],[0.4444444444444444,\"#bd3786\"],[0.5555555555555556,\"#d8576b\"],[0.6666666666666666,\"#ed7953\"],[0.7777777777777778,\"#fb9f3a\"],[0.8888888888888888,\"#fdca26\"],[1.0,\"#f0f921\"]]}],\"heatmapgl\":[{\"type\":\"heatmapgl\",\"colorbar\":{\"outlinewidth\":0,\"ticks\":\"\"},\"colorscale\":[[0.0,\"#0d0887\"],[0.1111111111111111,\"#46039f\"],[0.2222222222222222,\"#7201a8\"],[0.3333333333333333,\"#9c179e\"],[0.4444444444444444,\"#bd3786\"],[0.5555555555555556,\"#d8576b\"],[0.6666666666666666,\"#ed7953\"],[0.7777777777777778,\"#fb9f3a\"],[0.8888888888888888,\"#fdca26\"],[1.0,\"#f0f921\"]]}],\"contourcarpet\":[{\"type\":\"contourcarpet\",\"colorbar\":{\"outlinewidth\":0,\"ticks\":\"\"}}],\"contour\":[{\"type\":\"contour\",\"colorbar\":{\"outlinewidth\":0,\"ticks\":\"\"},\"colorscale\":[[0.0,\"#0d0887\"],[0.1111111111111111,\"#46039f\"],[0.2222222222222222,\"#7201a8\"],[0.3333333333333333,\"#9c179e\"],[0.4444444444444444,\"#bd3786\"],[0.5555555555555556,\"#d8576b\"],[0.6666666666666666,\"#ed7953\"],[0.7777777777777778,\"#fb9f3a\"],[0.8888888888888888,\"#fdca26\"],[1.0,\"#f0f921\"]]}],\"surface\":[{\"type\":\"surface\",\"colorbar\":{\"outlinewidth\":0,\"ticks\":\"\"},\"colorscale\":[[0.0,\"#0d0887\"],[0.1111111111111111,\"#46039f\"],[0.2222222222222222,\"#7201a8\"],[0.3333333333333333,\"#9c179e\"],[0.4444444444444444,\"#bd3786\"],[0.5555555555555556,\"#d8576b\"],[0.6666666666666666,\"#ed7953\"],[0.7777777777777778,\"#fb9f3a\"],[0.8888888888888888,\"#fdca26\"],[1.0,\"#f0f921\"]]}],\"mesh3d\":[{\"type\":\"mesh3d\",\"colorbar\":{\"outlinewidth\":0,\"ticks\":\"\"}}],\"scatter\":[{\"fillpattern\":{\"fillmode\":\"overlay\",\"size\":10,\"solidity\":0.2},\"type\":\"scatter\"}],\"parcoords\":[{\"type\":\"parcoords\",\"line\":{\"colorbar\":{\"outlinewidth\":0,\"ticks\":\"\"}}}],\"scatterpolargl\":[{\"type\":\"scatterpolargl\",\"marker\":{\"colorbar\":{\"outlinewidth\":0,\"ticks\":\"\"}}}],\"bar\":[{\"error_x\":{\"color\":\"#2a3f5f\"},\"error_y\":{\"color\":\"#2a3f5f\"},\"marker\":{\"line\":{\"color\":\"#E5ECF6\",\"width\":0.5},\"pattern\":{\"fillmode\":\"overlay\",\"size\":10,\"solidity\":0.2}},\"type\":\"bar\"}],\"scattergeo\":[{\"type\":\"scattergeo\",\"marker\":{\"colorbar\":{\"outlinewidth\":0,\"ticks\":\"\"}}}],\"scatterpolar\":[{\"type\":\"scatterpolar\",\"marker\":{\"colorbar\":{\"outlinewidth\":0,\"ticks\":\"\"}}}],\"histogram\":[{\"marker\":{\"pattern\":{\"fillmode\":\"overlay\",\"size\":10,\"solidity\":0.2}},\"type\":\"histogram\"}],\"scattergl\":[{\"type\":\"scattergl\",\"marker\":{\"colorbar\":{\"outlinewidth\":0,\"ticks\":\"\"}}}],\"scatter3d\":[{\"type\":\"scatter3d\",\"line\":{\"colorbar\":{\"outlinewidth\":0,\"ticks\":\"\"}},\"marker\":{\"colorbar\":{\"outlinewidth\":0,\"ticks\":\"\"}}}],\"scattermapbox\":[{\"type\":\"scattermapbox\",\"marker\":{\"colorbar\":{\"outlinewidth\":0,\"ticks\":\"\"}}}],\"scatterternary\":[{\"type\":\"scatterternary\",\"marker\":{\"colorbar\":{\"outlinewidth\":0,\"ticks\":\"\"}}}],\"scattercarpet\":[{\"type\":\"scattercarpet\",\"marker\":{\"colorbar\":{\"outlinewidth\":0,\"ticks\":\"\"}}}],\"carpet\":[{\"aaxis\":{\"endlinecolor\":\"#2a3f5f\",\"gridcolor\":\"white\",\"linecolor\":\"white\",\"minorgridcolor\":\"white\",\"startlinecolor\":\"#2a3f5f\"},\"baxis\":{\"endlinecolor\":\"#2a3f5f\",\"gridcolor\":\"white\",\"linecolor\":\"white\",\"minorgridcolor\":\"white\",\"startlinecolor\":\"#2a3f5f\"},\"type\":\"carpet\"}],\"table\":[{\"cells\":{\"fill\":{\"color\":\"#EBF0F8\"},\"line\":{\"color\":\"white\"}},\"header\":{\"fill\":{\"color\":\"#C8D4E3\"},\"line\":{\"color\":\"white\"}},\"type\":\"table\"}],\"barpolar\":[{\"marker\":{\"line\":{\"color\":\"#E5ECF6\",\"width\":0.5},\"pattern\":{\"fillmode\":\"overlay\",\"size\":10,\"solidity\":0.2}},\"type\":\"barpolar\"}],\"pie\":[{\"automargin\":true,\"type\":\"pie\"}]},\"layout\":{\"autotypenumbers\":\"strict\",\"colorway\":[\"#636efa\",\"#EF553B\",\"#00cc96\",\"#ab63fa\",\"#FFA15A\",\"#19d3f3\",\"#FF6692\",\"#B6E880\",\"#FF97FF\",\"#FECB52\"],\"font\":{\"color\":\"#2a3f5f\"},\"hovermode\":\"closest\",\"hoverlabel\":{\"align\":\"left\"},\"paper_bgcolor\":\"white\",\"plot_bgcolor\":\"#E5ECF6\",\"polar\":{\"bgcolor\":\"#E5ECF6\",\"angularaxis\":{\"gridcolor\":\"white\",\"linecolor\":\"white\",\"ticks\":\"\"},\"radialaxis\":{\"gridcolor\":\"white\",\"linecolor\":\"white\",\"ticks\":\"\"}},\"ternary\":{\"bgcolor\":\"#E5ECF6\",\"aaxis\":{\"gridcolor\":\"white\",\"linecolor\":\"white\",\"ticks\":\"\"},\"baxis\":{\"gridcolor\":\"white\",\"linecolor\":\"white\",\"ticks\":\"\"},\"caxis\":{\"gridcolor\":\"white\",\"linecolor\":\"white\",\"ticks\":\"\"}},\"coloraxis\":{\"colorbar\":{\"outlinewidth\":0,\"ticks\":\"\"}},\"colorscale\":{\"sequential\":[[0.0,\"#0d0887\"],[0.1111111111111111,\"#46039f\"],[0.2222222222222222,\"#7201a8\"],[0.3333333333333333,\"#9c179e\"],[0.4444444444444444,\"#bd3786\"],[0.5555555555555556,\"#d8576b\"],[0.6666666666666666,\"#ed7953\"],[0.7777777777777778,\"#fb9f3a\"],[0.8888888888888888,\"#fdca26\"],[1.0,\"#f0f921\"]],\"sequentialminus\":[[0.0,\"#0d0887\"],[0.1111111111111111,\"#46039f\"],[0.2222222222222222,\"#7201a8\"],[0.3333333333333333,\"#9c179e\"],[0.4444444444444444,\"#bd3786\"],[0.5555555555555556,\"#d8576b\"],[0.6666666666666666,\"#ed7953\"],[0.7777777777777778,\"#fb9f3a\"],[0.8888888888888888,\"#fdca26\"],[1.0,\"#f0f921\"]],\"diverging\":[[0,\"#8e0152\"],[0.1,\"#c51b7d\"],[0.2,\"#de77ae\"],[0.3,\"#f1b6da\"],[0.4,\"#fde0ef\"],[0.5,\"#f7f7f7\"],[0.6,\"#e6f5d0\"],[0.7,\"#b8e186\"],[0.8,\"#7fbc41\"],[0.9,\"#4d9221\"],[1,\"#276419\"]]},\"xaxis\":{\"gridcolor\":\"white\",\"linecolor\":\"white\",\"ticks\":\"\",\"title\":{\"standoff\":15},\"zerolinecolor\":\"white\",\"automargin\":true,\"zerolinewidth\":2},\"yaxis\":{\"gridcolor\":\"white\",\"linecolor\":\"white\",\"ticks\":\"\",\"title\":{\"standoff\":15},\"zerolinecolor\":\"white\",\"automargin\":true,\"zerolinewidth\":2},\"scene\":{\"xaxis\":{\"backgroundcolor\":\"#E5ECF6\",\"gridcolor\":\"white\",\"linecolor\":\"white\",\"showbackground\":true,\"ticks\":\"\",\"zerolinecolor\":\"white\",\"gridwidth\":2},\"yaxis\":{\"backgroundcolor\":\"#E5ECF6\",\"gridcolor\":\"white\",\"linecolor\":\"white\",\"showbackground\":true,\"ticks\":\"\",\"zerolinecolor\":\"white\",\"gridwidth\":2},\"zaxis\":{\"backgroundcolor\":\"#E5ECF6\",\"gridcolor\":\"white\",\"linecolor\":\"white\",\"showbackground\":true,\"ticks\":\"\",\"zerolinecolor\":\"white\",\"gridwidth\":2}},\"shapedefaults\":{\"line\":{\"color\":\"#2a3f5f\"}},\"annotationdefaults\":{\"arrowcolor\":\"#2a3f5f\",\"arrowhead\":0,\"arrowwidth\":1},\"geo\":{\"bgcolor\":\"white\",\"landcolor\":\"#E5ECF6\",\"subunitcolor\":\"white\",\"showland\":true,\"showlakes\":true,\"lakecolor\":\"white\"},\"title\":{\"x\":0.05},\"mapbox\":{\"style\":\"light\"}}},\"xaxis\":{\"anchor\":\"y\",\"domain\":[0.0,1.0],\"title\":{\"text\":\"Number of Clusters\"}},\"yaxis\":{\"anchor\":\"x\",\"domain\":[0.0,1.0],\"title\":{\"text\":\"Sum of Squared Error\"}},\"legend\":{\"title\":{\"text\":\"variable\"},\"tracegroupgap\":0},\"title\":{\"text\":\"Elbow Curve\",\"x\":0.5},\"height\":500,\"width\":750,\"showlegend\":false},                        {\"responsive\": true}                    ).then(function(){\n",
              "                            \n",
              "var gd = document.getElementById('2c4ea067-9a33-4d55-9b66-78f3a2ff8ad6');\n",
              "var x = new MutationObserver(function (mutations, observer) {{\n",
              "        var display = window.getComputedStyle(gd).display;\n",
              "        if (!display || display === 'none') {{\n",
              "            console.log([gd, 'removed!']);\n",
              "            Plotly.purge(gd);\n",
              "            observer.disconnect();\n",
              "        }}\n",
              "}});\n",
              "\n",
              "// Listen for the removal of the full notebook cells\n",
              "var notebookContainer = gd.closest('#notebook-container');\n",
              "if (notebookContainer) {{\n",
              "    x.observe(notebookContainer, {childList: true});\n",
              "}}\n",
              "\n",
              "// Listen for the clearing of the current output cell\n",
              "var outputEl = gd.closest('.output');\n",
              "if (outputEl) {{\n",
              "    x.observe(outputEl, {childList: true});\n",
              "}}\n",
              "\n",
              "                        })                };                            </script>        </div>\n",
              "</body>\n",
              "</html>"
            ]
          },
          "metadata": {}
        }
      ]
    },
    {
      "cell_type": "markdown",
      "source": [
        "# KMEAN MODEL FIT"
      ],
      "metadata": {
        "id": "Nc2tveCasQuD"
      }
    },
    {
      "cell_type": "code",
      "source": [
        "kmeans = KMeans(n_clusters=2, n_init='auto').fit(X)\n",
        "labels = kmeans.labels_\n",
        "stock_data['Cluster Label'] = labels"
      ],
      "metadata": {
        "id": "FAdNLr2wm5Zu"
      },
      "execution_count": 9,
      "outputs": []
    },
    {
      "cell_type": "markdown",
      "source": [
        "# PLOT STOCKS BY CLUSTERS"
      ],
      "metadata": {
        "id": "kiMdLrArsWw8"
      }
    },
    {
      "cell_type": "code",
      "source": [
        "px.scatter(X, \n",
        "           x='Volatility', \n",
        "           y='Return', \n",
        "           color=labels,\n",
        "           title='KMeans Clusters',\n",
        "           width=750,\n",
        "           height=500,\n",
        "           color_continuous_scale='rainbow').update_layout(title_x=0.5)"
      ],
      "metadata": {
        "colab": {
          "base_uri": "https://localhost:8080/",
          "height": 517
        },
        "id": "MRfGjIJankn-",
        "outputId": "ffcf4561-0b37-4e9d-9f51-20fa9ef96f5d"
      },
      "execution_count": 10,
      "outputs": [
        {
          "output_type": "display_data",
          "data": {
            "text/html": [
              "<html>\n",
              "<head><meta charset=\"utf-8\" /></head>\n",
              "<body>\n",
              "    <div>            <script src=\"https://cdnjs.cloudflare.com/ajax/libs/mathjax/2.7.5/MathJax.js?config=TeX-AMS-MML_SVG\"></script><script type=\"text/javascript\">if (window.MathJax && window.MathJax.Hub && window.MathJax.Hub.Config) {window.MathJax.Hub.Config({SVG: {font: \"STIX-Web\"}});}</script>                <script type=\"text/javascript\">window.PlotlyConfig = {MathJaxConfig: 'local'};</script>\n",
              "        <script src=\"https://cdn.plot.ly/plotly-2.18.2.min.js\"></script>                <div id=\"67b4f07b-a9eb-4d3c-9bf2-0ea71d02a3f0\" class=\"plotly-graph-div\" style=\"height:500px; width:750px;\"></div>            <script type=\"text/javascript\">                                    window.PLOTLYENV=window.PLOTLYENV || {};                                    if (document.getElementById(\"67b4f07b-a9eb-4d3c-9bf2-0ea71d02a3f0\")) {                    Plotly.newPlot(                        \"67b4f07b-a9eb-4d3c-9bf2-0ea71d02a3f0\",                        [{\"hovertemplate\":\"Volatility=%{x}<br>Return=%{y}<br>color=%{marker.color}<extra></extra>\",\"legendgroup\":\"\",\"marker\":{\"color\":[1,0,1,0,1,0,1,0,0,0,0,1,1,0,1,1,1,0,0,1,0,0,1,0,0,1,0,0,1,0,0,1,0,1,1,0,0,0,0,1,0,0,0,1,1,1,1,0,1,1,0,0,0,0,1,0,1,1,0,1,1,0,0,1,1,0,0,0,1,1,1,0,0,1,1,1,0,0,0,0,0,0,1,0,0,0,0,0,1,1,1,0,1,1,1,0,1,0,1,0,1,0,1,1,1,1,0,0,1,1,1,0,1,1,0,0,0,0,0,1,1,1,1,1,0,0,1,0,0,0,0,1,0,0,1,1,1,1,0,0,1,0,1,1,0,1,1,0,0,0,0,1,0,1,1,1,0,0,1,1,1,0,1,1,1,1,0,1,1,1,1,1,0,0,1,1,0,0,0,1,0,1,1,0,1,0,1,0,1,1,1,1,0,0,0,1,0,0,1,0,1,1,1,1,1,0,0,1,1,0,0,0,0,1,1,0,0,0,0,1,0,0,0,0,0,1,0,0,0,1,0,1,0,0,1,1,0,1,0,1,1,1,0,1,0,0,0,0,0,1,1,1,0,1,1,0,0,1,1,1,1,0,1,0,0,1,1,1,1,0,1,0,1,1,0,0,0,0,1,1,0,0,1,0,0,0,0,0,1,0,0,0,0,0,0,0,1,1,0,0,1,0,0,0,0,1,0,1,1,1,0,0,0,1,0,1,0,0,0,1,1,0,0,0,1,1,1,1,0,1,0,1,0,1,1,0,1,0,0,0,1,0,0,0,1,0,1,0,0,0,0,0,0,1,0,1,1,1,0,0,1,1,1,1,1,1,1,0,0,0,0,1,1,0,0,0,1,0,1,1,1,0,0,0,1,1,1,0,0,0,1,1,1,1,1,0,1,0,0,0,0,1,0,1,1,0,1,0,1,0,1,0,0,0,1,0,0,1,0,0,0,0,1,1,0,0,0,1,1,0,0,0,0,0,0,1,0,1,0,1,1,0,0,1,1,0,0,1,1,0,0,1,0,0,0,1,0,1,1,1,1,0,1,0,1,1,0,0,0,0,0,1,1,1,0,1,1,1,0,1,0,1,1,1,1,0,1,1,0,0,1,0,1,0,0,0,0,0,1,1,0],\"coloraxis\":\"coloraxis\",\"symbol\":\"circle\"},\"mode\":\"markers\",\"name\":\"\",\"orientation\":\"v\",\"showlegend\":false,\"x\":[0.303,0.416,0.627,0.307,0.233,0.205,0.242,0.305,0.304,0.369,0.324,0.265,0.239,0.413,0.235,0.249,0.308,0.235,0.31,0.325,0.224,0.305,0.504,0.605,0.324,0.317,0.316,0.432,0.256,0.55,0.234,0.217,0.335,0.31,0.417,0.457,0.344,0.22,0.334,0.48,0.269,0.25,0.393,0.317,0.247,0.245,0.272,0.337,0.295,0.241,0.42,0.316,0.227,0.341,0.303,0.349,0.359,0.539,0.356,0.217,0.345,0.348,0.472,0.436,0.291,0.285,0.364,0.319,0.186,0.275,0.304,0.199,0.306,0.382,0.303,0.191,0.24,0.337,0.305,0.226,0.209,0.331,0.312,0.688,0.485,0.343,0.311,0.41,0.315,0.394,0.411,0.201,0.299,0.413,0.258,0.314,0.182,0.253,0.695,0.277,0.202,0.308,0.268,0.236,0.291,0.23,0.416,0.309,0.364,0.244,0.205,0.259,0.268,0.416,0.394,0.225,0.292,0.247,0.233,0.861,0.38,0.328,0.27,0.253,0.272,0.546,0.272,0.341,0.293,0.284,0.337,0.348,0.213,0.333,0.308,0.373,0.396,0.323,0.275,0.278,0.348,0.206,0.232,0.223,0.507,0.46,0.376,0.441,0.223,0.32,0.312,0.21,0.365,0.273,0.425,0.252,0.335,0.263,0.644,0.371,0.471,0.313,0.269,0.488,0.251,0.293,0.28,0.249,0.555,0.245,0.369,0.247,0.299,0.429,0.34,0.406,0.376,0.27,0.446,0.258,0.289,0.239,0.304,0.447,0.576,0.28,0.426,0.343,0.246,0.283,0.292,0.278,0.561,0.402,0.261,0.203,0.279,0.294,0.319,0.25,0.196,0.231,0.262,0.385,0.68,0.378,0.373,0.234,0.399,0.247,0.263,0.298,0.466,0.388,0.413,0.271,0.279,0.401,0.256,0.243,0.256,0.243,0.22,0.308,0.316,0.191,0.258,0.338,0.182,0.242,0.269,0.208,0.23,0.37,0.249,0.392,0.521,0.232,0.402,0.407,0.301,0.299,0.266,0.333,0.299,0.277,0.348,0.269,0.25,0.398,0.26,0.311,0.31,0.319,0.157,0.252,0.273,0.199,0.193,0.628,0.32,0.19,0.292,0.406,0.178,0.226,0.569,0.153,0.248,0.229,0.293,0.317,0.259,0.257,0.241,0.239,0.249,0.227,0.712,0.25,0.304,0.476,0.316,0.393,0.218,0.306,0.379,0.238,0.27,0.284,0.352,0.164,0.394,0.22,0.319,0.183,0.264,0.305,0.603,0.375,0.428,0.245,0.405,0.31,0.221,0.285,0.219,0.189,0.285,0.434,0.371,0.561,0.2,0.537,0.433,0.282,0.386,0.335,0.248,0.389,0.524,0.325,0.424,0.61,0.259,0.3,0.272,0.369,0.479,0.251,0.371,0.275,0.444,0.385,0.262,0.308,0.366,0.405,0.586,0.29,0.428,0.332,0.334,0.389,0.208,0.377,0.373,0.303,0.244,0.513,0.245,0.211,0.23,0.358,0.381,0.673,0.421,0.259,0.262,0.258,0.281,0.242,0.16,0.229,0.322,0.171,0.272,0.299,0.34,0.264,0.306,0.201,0.358,0.348,0.239,0.413,0.401,0.321,0.221,0.304,0.281,0.347,0.256,0.299,0.363,0.428,0.394,0.394,0.529,0.311,0.265,0.264,0.368,0.326,0.333,0.364,0.274,0.32,0.244,0.217,0.28,0.201,0.213,0.329,0.325,0.278,0.451,0.599,0.337,0.324,0.169,0.422,0.246,0.352,0.223,0.3,0.276,0.232,0.335,0.442,0.38,0.408,0.241,0.41,0.401,0.41,0.271,0.221,0.284,0.244,0.282,0.252,0.358,0.285,0.395,0.477,0.328,0.363,0.206,0.277,0.228,0.373,0.333,0.393,0.402,0.24,0.277,0.653,0.319,0.295,0.387,0.279,0.26,0.349,0.4,0.277,0.349,0.294,0.221,0.271,0.279,0.407,0.409,0.219,0.507,0.226,0.411,0.282,0.27,0.257,0.274,0.307,0.317,0.226,0.249,0.315,0.304,0.56,0.462,0.236,0.315,0.315,0.335,0.189,0.243,0.178,0.265,0.342,0.426,0.234,0.289,0.442,0.24,0.292,0.36,0.29,0.189,0.224,0.465,0.686,0.311],\"xaxis\":\"x\",\"y\":[-0.05,0.329,-1.235,0.266,-0.045,0.36,0.062,0.774,0.277,0.662,0.356,-0.181,-0.079,0.152,-0.096,-0.198,-0.187,0.231,0.191,-0.246,0.282,0.214,-0.35,0.464,0.251,-0.173,0.28,0.706,-0.116,0.838,0.411,-0.058,0.31,-0.214,0.111,0.58,0.505,0.22,0.474,0.082,0.282,0.186,0.165,-0.276,0.07,0.116,-0.024,0.821,0.023,0.087,0.812,0.297,0.187,0.752,-0.113,0.174,-0.414,0.119,0.166,0.122,0.129,0.173,0.623,-0.156,0.116,0.66,0.538,0.224,-0.096,0.0,0.123,0.438,0.521,-0.563,0.109,0.048,0.367,0.303,0.483,0.14,0.218,0.162,-0.407,0.457,0.261,0.505,0.14,0.388,0.079,-0.527,-0.279,0.321,0.007,0.106,-0.108,0.158,0.02,0.207,-0.844,0.347,0.042,0.433,0.105,-0.123,-0.228,-0.094,0.278,0.41,0.046,0.095,0.102,0.731,-0.143,0.117,0.547,0.305,0.237,0.221,0.318,-0.996,-0.084,0.121,-0.043,-0.486,0.15,0.414,-0.611,0.405,0.537,0.161,0.263,-0.527,0.139,0.722,-0.164,-0.113,0.05,-0.05,0.248,0.253,-0.1,0.441,-0.178,-0.171,0.229,-0.187,0.126,0.615,0.155,0.221,0.245,-0.022,0.304,0.079,-0.307,0.073,0.212,0.181,-0.602,0.09,-0.457,0.385,-0.072,-0.109,-0.276,-0.077,0.487,-0.131,-0.151,-0.139,0.03,-0.032,0.397,0.205,-0.219,0.048,0.242,0.229,0.494,0.038,0.64,-0.041,0.028,0.894,-0.491,0.251,-0.309,0.383,0.052,0.044,0.035,0.051,0.696,0.501,0.186,-0.077,1.085,0.419,-0.191,0.324,0.106,0.113,0.077,-0.032,-0.668,0.345,0.348,0.041,-0.157,0.375,0.137,0.475,0.445,-0.247,-0.259,0.556,0.152,0.412,0.221,-0.13,0.284,0.316,0.228,0.347,0.294,-0.203,0.156,0.183,0.224,0.111,0.545,0.119,0.24,0.512,0.068,-0.269,0.173,-0.082,0.217,0.122,0.007,-0.065,0.617,0.115,0.507,0.307,0.739,0.332,0.294,0.043,0.041,0.093,0.332,-0.267,-0.079,0.256,0.399,-0.115,-0.248,-0.653,0.07,0.179,0.057,0.599,0.198,0.059,-0.1,0.081,0.029,0.226,-0.118,0.61,0.045,-0.245,0.452,0.197,0.53,0.158,-0.978,-0.16,0.175,0.731,-0.062,0.577,0.55,0.32,0.169,0.369,-0.035,0.383,0.176,0.253,0.332,0.188,0.389,0.351,0.043,-0.202,1.009,0.445,0.114,0.233,0.324,0.398,0.244,-0.142,0.441,0.13,-0.188,-0.496,0.285,0.441,0.388,0.126,0.143,0.082,0.188,0.503,0.327,-0.501,-0.252,0.256,0.506,0.239,-0.006,0.097,-0.137,0.053,0.846,-0.033,0.168,-0.097,0.572,-0.245,0.008,0.183,-0.209,0.455,1.702,0.536,-0.71,0.312,0.325,0.26,-0.029,0.37,-0.351,0.218,0.566,0.474,0.746,0.372,0.393,0.045,0.417,-0.356,-0.131,-0.049,0.41,0.389,-0.18,0.006,0.129,-0.194,-0.039,0.112,0.125,0.511,0.88,0.184,0.265,0.026,-0.27,0.531,0.153,0.282,0.066,0.332,-0.053,-0.074,-0.012,0.392,0.395,0.523,0.002,-0.402,-0.051,0.268,0.979,0.486,0.13,0.11,-0.198,-0.075,-0.095,0.427,0.037,0.447,0.233,0.286,0.32,0.045,0.247,-0.066,-0.348,0.233,-0.386,0.235,-0.159,0.206,0.096,0.471,0.333,0.572,-0.076,0.289,0.256,-0.122,0.327,0.492,0.194,0.169,0.078,0.035,0.18,0.23,0.458,-0.02,-0.043,0.432,0.585,0.191,0.197,0.157,0.423,-0.441,0.213,-0.16,0.377,0.016,-0.012,0.572,0.323,-0.163,0.046,0.22,0.184,-0.371,-0.43,0.246,0.331,0.128,0.136,0.217,0.61,0.009,0.597,0.125,-0.025,-0.016,0.074,0.48,-0.375,0.345,-0.96,0.053,0.16,0.401,0.356,0.392,0.273,0.127,0.131,-0.173,0.273,-0.081,-0.068,0.043,0.316,-0.16,0.206,0.044,-0.019,-0.002,0.09,0.182,-0.096,-0.131,0.447,0.143,0.032,0.593,-0.149,0.336,0.389,0.243,0.304,0.307,0.065,-0.889,0.212],\"yaxis\":\"y\",\"type\":\"scatter\"}],                        {\"template\":{\"data\":{\"histogram2dcontour\":[{\"type\":\"histogram2dcontour\",\"colorbar\":{\"outlinewidth\":0,\"ticks\":\"\"},\"colorscale\":[[0.0,\"#0d0887\"],[0.1111111111111111,\"#46039f\"],[0.2222222222222222,\"#7201a8\"],[0.3333333333333333,\"#9c179e\"],[0.4444444444444444,\"#bd3786\"],[0.5555555555555556,\"#d8576b\"],[0.6666666666666666,\"#ed7953\"],[0.7777777777777778,\"#fb9f3a\"],[0.8888888888888888,\"#fdca26\"],[1.0,\"#f0f921\"]]}],\"choropleth\":[{\"type\":\"choropleth\",\"colorbar\":{\"outlinewidth\":0,\"ticks\":\"\"}}],\"histogram2d\":[{\"type\":\"histogram2d\",\"colorbar\":{\"outlinewidth\":0,\"ticks\":\"\"},\"colorscale\":[[0.0,\"#0d0887\"],[0.1111111111111111,\"#46039f\"],[0.2222222222222222,\"#7201a8\"],[0.3333333333333333,\"#9c179e\"],[0.4444444444444444,\"#bd3786\"],[0.5555555555555556,\"#d8576b\"],[0.6666666666666666,\"#ed7953\"],[0.7777777777777778,\"#fb9f3a\"],[0.8888888888888888,\"#fdca26\"],[1.0,\"#f0f921\"]]}],\"heatmap\":[{\"type\":\"heatmap\",\"colorbar\":{\"outlinewidth\":0,\"ticks\":\"\"},\"colorscale\":[[0.0,\"#0d0887\"],[0.1111111111111111,\"#46039f\"],[0.2222222222222222,\"#7201a8\"],[0.3333333333333333,\"#9c179e\"],[0.4444444444444444,\"#bd3786\"],[0.5555555555555556,\"#d8576b\"],[0.6666666666666666,\"#ed7953\"],[0.7777777777777778,\"#fb9f3a\"],[0.8888888888888888,\"#fdca26\"],[1.0,\"#f0f921\"]]}],\"heatmapgl\":[{\"type\":\"heatmapgl\",\"colorbar\":{\"outlinewidth\":0,\"ticks\":\"\"},\"colorscale\":[[0.0,\"#0d0887\"],[0.1111111111111111,\"#46039f\"],[0.2222222222222222,\"#7201a8\"],[0.3333333333333333,\"#9c179e\"],[0.4444444444444444,\"#bd3786\"],[0.5555555555555556,\"#d8576b\"],[0.6666666666666666,\"#ed7953\"],[0.7777777777777778,\"#fb9f3a\"],[0.8888888888888888,\"#fdca26\"],[1.0,\"#f0f921\"]]}],\"contourcarpet\":[{\"type\":\"contourcarpet\",\"colorbar\":{\"outlinewidth\":0,\"ticks\":\"\"}}],\"contour\":[{\"type\":\"contour\",\"colorbar\":{\"outlinewidth\":0,\"ticks\":\"\"},\"colorscale\":[[0.0,\"#0d0887\"],[0.1111111111111111,\"#46039f\"],[0.2222222222222222,\"#7201a8\"],[0.3333333333333333,\"#9c179e\"],[0.4444444444444444,\"#bd3786\"],[0.5555555555555556,\"#d8576b\"],[0.6666666666666666,\"#ed7953\"],[0.7777777777777778,\"#fb9f3a\"],[0.8888888888888888,\"#fdca26\"],[1.0,\"#f0f921\"]]}],\"surface\":[{\"type\":\"surface\",\"colorbar\":{\"outlinewidth\":0,\"ticks\":\"\"},\"colorscale\":[[0.0,\"#0d0887\"],[0.1111111111111111,\"#46039f\"],[0.2222222222222222,\"#7201a8\"],[0.3333333333333333,\"#9c179e\"],[0.4444444444444444,\"#bd3786\"],[0.5555555555555556,\"#d8576b\"],[0.6666666666666666,\"#ed7953\"],[0.7777777777777778,\"#fb9f3a\"],[0.8888888888888888,\"#fdca26\"],[1.0,\"#f0f921\"]]}],\"mesh3d\":[{\"type\":\"mesh3d\",\"colorbar\":{\"outlinewidth\":0,\"ticks\":\"\"}}],\"scatter\":[{\"fillpattern\":{\"fillmode\":\"overlay\",\"size\":10,\"solidity\":0.2},\"type\":\"scatter\"}],\"parcoords\":[{\"type\":\"parcoords\",\"line\":{\"colorbar\":{\"outlinewidth\":0,\"ticks\":\"\"}}}],\"scatterpolargl\":[{\"type\":\"scatterpolargl\",\"marker\":{\"colorbar\":{\"outlinewidth\":0,\"ticks\":\"\"}}}],\"bar\":[{\"error_x\":{\"color\":\"#2a3f5f\"},\"error_y\":{\"color\":\"#2a3f5f\"},\"marker\":{\"line\":{\"color\":\"#E5ECF6\",\"width\":0.5},\"pattern\":{\"fillmode\":\"overlay\",\"size\":10,\"solidity\":0.2}},\"type\":\"bar\"}],\"scattergeo\":[{\"type\":\"scattergeo\",\"marker\":{\"colorbar\":{\"outlinewidth\":0,\"ticks\":\"\"}}}],\"scatterpolar\":[{\"type\":\"scatterpolar\",\"marker\":{\"colorbar\":{\"outlinewidth\":0,\"ticks\":\"\"}}}],\"histogram\":[{\"marker\":{\"pattern\":{\"fillmode\":\"overlay\",\"size\":10,\"solidity\":0.2}},\"type\":\"histogram\"}],\"scattergl\":[{\"type\":\"scattergl\",\"marker\":{\"colorbar\":{\"outlinewidth\":0,\"ticks\":\"\"}}}],\"scatter3d\":[{\"type\":\"scatter3d\",\"line\":{\"colorbar\":{\"outlinewidth\":0,\"ticks\":\"\"}},\"marker\":{\"colorbar\":{\"outlinewidth\":0,\"ticks\":\"\"}}}],\"scattermapbox\":[{\"type\":\"scattermapbox\",\"marker\":{\"colorbar\":{\"outlinewidth\":0,\"ticks\":\"\"}}}],\"scatterternary\":[{\"type\":\"scatterternary\",\"marker\":{\"colorbar\":{\"outlinewidth\":0,\"ticks\":\"\"}}}],\"scattercarpet\":[{\"type\":\"scattercarpet\",\"marker\":{\"colorbar\":{\"outlinewidth\":0,\"ticks\":\"\"}}}],\"carpet\":[{\"aaxis\":{\"endlinecolor\":\"#2a3f5f\",\"gridcolor\":\"white\",\"linecolor\":\"white\",\"minorgridcolor\":\"white\",\"startlinecolor\":\"#2a3f5f\"},\"baxis\":{\"endlinecolor\":\"#2a3f5f\",\"gridcolor\":\"white\",\"linecolor\":\"white\",\"minorgridcolor\":\"white\",\"startlinecolor\":\"#2a3f5f\"},\"type\":\"carpet\"}],\"table\":[{\"cells\":{\"fill\":{\"color\":\"#EBF0F8\"},\"line\":{\"color\":\"white\"}},\"header\":{\"fill\":{\"color\":\"#C8D4E3\"},\"line\":{\"color\":\"white\"}},\"type\":\"table\"}],\"barpolar\":[{\"marker\":{\"line\":{\"color\":\"#E5ECF6\",\"width\":0.5},\"pattern\":{\"fillmode\":\"overlay\",\"size\":10,\"solidity\":0.2}},\"type\":\"barpolar\"}],\"pie\":[{\"automargin\":true,\"type\":\"pie\"}]},\"layout\":{\"autotypenumbers\":\"strict\",\"colorway\":[\"#636efa\",\"#EF553B\",\"#00cc96\",\"#ab63fa\",\"#FFA15A\",\"#19d3f3\",\"#FF6692\",\"#B6E880\",\"#FF97FF\",\"#FECB52\"],\"font\":{\"color\":\"#2a3f5f\"},\"hovermode\":\"closest\",\"hoverlabel\":{\"align\":\"left\"},\"paper_bgcolor\":\"white\",\"plot_bgcolor\":\"#E5ECF6\",\"polar\":{\"bgcolor\":\"#E5ECF6\",\"angularaxis\":{\"gridcolor\":\"white\",\"linecolor\":\"white\",\"ticks\":\"\"},\"radialaxis\":{\"gridcolor\":\"white\",\"linecolor\":\"white\",\"ticks\":\"\"}},\"ternary\":{\"bgcolor\":\"#E5ECF6\",\"aaxis\":{\"gridcolor\":\"white\",\"linecolor\":\"white\",\"ticks\":\"\"},\"baxis\":{\"gridcolor\":\"white\",\"linecolor\":\"white\",\"ticks\":\"\"},\"caxis\":{\"gridcolor\":\"white\",\"linecolor\":\"white\",\"ticks\":\"\"}},\"coloraxis\":{\"colorbar\":{\"outlinewidth\":0,\"ticks\":\"\"}},\"colorscale\":{\"sequential\":[[0.0,\"#0d0887\"],[0.1111111111111111,\"#46039f\"],[0.2222222222222222,\"#7201a8\"],[0.3333333333333333,\"#9c179e\"],[0.4444444444444444,\"#bd3786\"],[0.5555555555555556,\"#d8576b\"],[0.6666666666666666,\"#ed7953\"],[0.7777777777777778,\"#fb9f3a\"],[0.8888888888888888,\"#fdca26\"],[1.0,\"#f0f921\"]],\"sequentialminus\":[[0.0,\"#0d0887\"],[0.1111111111111111,\"#46039f\"],[0.2222222222222222,\"#7201a8\"],[0.3333333333333333,\"#9c179e\"],[0.4444444444444444,\"#bd3786\"],[0.5555555555555556,\"#d8576b\"],[0.6666666666666666,\"#ed7953\"],[0.7777777777777778,\"#fb9f3a\"],[0.8888888888888888,\"#fdca26\"],[1.0,\"#f0f921\"]],\"diverging\":[[0,\"#8e0152\"],[0.1,\"#c51b7d\"],[0.2,\"#de77ae\"],[0.3,\"#f1b6da\"],[0.4,\"#fde0ef\"],[0.5,\"#f7f7f7\"],[0.6,\"#e6f5d0\"],[0.7,\"#b8e186\"],[0.8,\"#7fbc41\"],[0.9,\"#4d9221\"],[1,\"#276419\"]]},\"xaxis\":{\"gridcolor\":\"white\",\"linecolor\":\"white\",\"ticks\":\"\",\"title\":{\"standoff\":15},\"zerolinecolor\":\"white\",\"automargin\":true,\"zerolinewidth\":2},\"yaxis\":{\"gridcolor\":\"white\",\"linecolor\":\"white\",\"ticks\":\"\",\"title\":{\"standoff\":15},\"zerolinecolor\":\"white\",\"automargin\":true,\"zerolinewidth\":2},\"scene\":{\"xaxis\":{\"backgroundcolor\":\"#E5ECF6\",\"gridcolor\":\"white\",\"linecolor\":\"white\",\"showbackground\":true,\"ticks\":\"\",\"zerolinecolor\":\"white\",\"gridwidth\":2},\"yaxis\":{\"backgroundcolor\":\"#E5ECF6\",\"gridcolor\":\"white\",\"linecolor\":\"white\",\"showbackground\":true,\"ticks\":\"\",\"zerolinecolor\":\"white\",\"gridwidth\":2},\"zaxis\":{\"backgroundcolor\":\"#E5ECF6\",\"gridcolor\":\"white\",\"linecolor\":\"white\",\"showbackground\":true,\"ticks\":\"\",\"zerolinecolor\":\"white\",\"gridwidth\":2}},\"shapedefaults\":{\"line\":{\"color\":\"#2a3f5f\"}},\"annotationdefaults\":{\"arrowcolor\":\"#2a3f5f\",\"arrowhead\":0,\"arrowwidth\":1},\"geo\":{\"bgcolor\":\"white\",\"landcolor\":\"#E5ECF6\",\"subunitcolor\":\"white\",\"showland\":true,\"showlakes\":true,\"lakecolor\":\"white\"},\"title\":{\"x\":0.05},\"mapbox\":{\"style\":\"light\"}}},\"xaxis\":{\"anchor\":\"y\",\"domain\":[0.0,1.0],\"title\":{\"text\":\"Volatility\"}},\"yaxis\":{\"anchor\":\"x\",\"domain\":[0.0,1.0],\"title\":{\"text\":\"Return\"}},\"coloraxis\":{\"colorbar\":{\"title\":{\"text\":\"color\"}},\"colorscale\":[[0.0,\"rgb(150,0,90)\"],[0.125,\"rgb(0,0,200)\"],[0.25,\"rgb(0,25,255)\"],[0.375,\"rgb(0,152,255)\"],[0.5,\"rgb(44,255,150)\"],[0.625,\"rgb(151,255,0)\"],[0.75,\"rgb(255,234,0)\"],[0.875,\"rgb(255,111,0)\"],[1.0,\"rgb(255,0,0)\"]]},\"legend\":{\"tracegroupgap\":0},\"title\":{\"text\":\"KMeans Clusters\",\"x\":0.5},\"height\":500,\"width\":750},                        {\"responsive\": true}                    ).then(function(){\n",
              "                            \n",
              "var gd = document.getElementById('67b4f07b-a9eb-4d3c-9bf2-0ea71d02a3f0');\n",
              "var x = new MutationObserver(function (mutations, observer) {{\n",
              "        var display = window.getComputedStyle(gd).display;\n",
              "        if (!display || display === 'none') {{\n",
              "            console.log([gd, 'removed!']);\n",
              "            Plotly.purge(gd);\n",
              "            observer.disconnect();\n",
              "        }}\n",
              "}});\n",
              "\n",
              "// Listen for the removal of the full notebook cells\n",
              "var notebookContainer = gd.closest('#notebook-container');\n",
              "if (notebookContainer) {{\n",
              "    x.observe(notebookContainer, {childList: true});\n",
              "}}\n",
              "\n",
              "// Listen for the clearing of the current output cell\n",
              "var outputEl = gd.closest('.output');\n",
              "if (outputEl) {{\n",
              "    x.observe(outputEl, {childList: true});\n",
              "}}\n",
              "\n",
              "                        })                };                            </script>        </div>\n",
              "</body>\n",
              "</html>"
            ]
          },
          "metadata": {}
        }
      ]
    }
  ]
}